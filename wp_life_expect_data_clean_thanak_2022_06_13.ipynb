{
 "cells": [
  {
   "cell_type": "markdown",
   "id": "42f5ac22",
   "metadata": {},
   "source": [
    "# Wikipedia Notable Life Expectancies\n",
    "\n",
    "# [Notebook 2 of 4: Data Cleaning](https://github.com/teresahanak/wikipedia-life-expectancy/blob/main/wp_life_expect_data_clean_thanak_2022_06_13.ipynb)\n",
    "\n",
    "## Context\n",
    "\n",
    "The\n",
    "\n",
    "\n",
    "## Objective\n",
    "\n",
    "The\n",
    "\n",
    "### Data Dictionary\n",
    "\n",
    "- Feature: Description"
   ]
  },
  {
   "cell_type": "markdown",
   "id": "672ff54d",
   "metadata": {},
   "source": [
    "## Importing Necessary Libraries"
   ]
  },
  {
   "cell_type": "code",
   "execution_count": 1,
   "id": "6d142f76",
   "metadata": {},
   "outputs": [
    {
     "data": {
      "application/javascript": [
       "\n",
       "            setTimeout(function() {\n",
       "                var nbb_cell_id = 1;\n",
       "                var nbb_unformatted_code = \"# To structure code automatically\\n%load_ext nb_black\\n\\n# To import/export sqlite databases\\nimport sqlite3 as sql\\n\\n# To help with reading and manipulating data\\nimport pandas as pd\\nimport numpy as np\\nimport re\\n\\n# To define maximum number of columns to be displayed in a dataframe\\npd.set_option(\\\"display.max_columns\\\", None)\\n# To define the maximum number of rows to be displayed in a dataframe\\npd.set_option(\\\"display.max_rows\\\", 200)\\n\\n# To supress warnings\\n# import warnings\\n\\n# warnings.filterwarnings(\\\"ignore\\\")\\n\\n# To set some visualization attributes\\npd.set_option(\\\"max_colwidth\\\", 150)\";\n",
       "                var nbb_formatted_code = \"# To structure code automatically\\n%load_ext nb_black\\n\\n# To import/export sqlite databases\\nimport sqlite3 as sql\\n\\n# To help with reading and manipulating data\\nimport pandas as pd\\nimport numpy as np\\nimport re\\n\\n# To define maximum number of columns to be displayed in a dataframe\\npd.set_option(\\\"display.max_columns\\\", None)\\n# To define the maximum number of rows to be displayed in a dataframe\\npd.set_option(\\\"display.max_rows\\\", 200)\\n\\n# To supress warnings\\n# import warnings\\n\\n# warnings.filterwarnings(\\\"ignore\\\")\\n\\n# To set some visualization attributes\\npd.set_option(\\\"max_colwidth\\\", 150)\";\n",
       "                var nbb_cells = Jupyter.notebook.get_cells();\n",
       "                for (var i = 0; i < nbb_cells.length; ++i) {\n",
       "                    if (nbb_cells[i].input_prompt_number == nbb_cell_id) {\n",
       "                        if (nbb_cells[i].get_text() == nbb_unformatted_code) {\n",
       "                             nbb_cells[i].set_text(nbb_formatted_code);\n",
       "                        }\n",
       "                        break;\n",
       "                    }\n",
       "                }\n",
       "            }, 500);\n",
       "            "
      ],
      "text/plain": [
       "<IPython.core.display.Javascript object>"
      ]
     },
     "metadata": {},
     "output_type": "display_data"
    }
   ],
   "source": [
    "# To structure code automatically\n",
    "%load_ext nb_black\n",
    "\n",
    "# To import/export sqlite databases\n",
    "import sqlite3 as sql\n",
    "\n",
    "# To help with reading and manipulating data\n",
    "import pandas as pd\n",
    "import numpy as np\n",
    "import re\n",
    "\n",
    "# To define maximum number of columns to be displayed in a dataframe\n",
    "pd.set_option(\"display.max_columns\", None)\n",
    "# To define the maximum number of rows to be displayed in a dataframe\n",
    "pd.set_option(\"display.max_rows\", 200)\n",
    "\n",
    "# To supress warnings\n",
    "# import warnings\n",
    "\n",
    "# warnings.filterwarnings(\"ignore\")\n",
    "\n",
    "# To set some visualization attributes\n",
    "pd.set_option(\"max_colwidth\", 150)"
   ]
  },
  {
   "cell_type": "markdown",
   "id": "f4094f60",
   "metadata": {},
   "source": [
    "## Data Overview"
   ]
  },
  {
   "cell_type": "markdown",
   "id": "30f4044f",
   "metadata": {},
   "source": [
    "### Reading, Sampling, and Checking Data Shape"
   ]
  },
  {
   "cell_type": "code",
   "execution_count": 2,
   "id": "5df7987c",
   "metadata": {},
   "outputs": [
    {
     "name": "stdout",
     "output_type": "stream",
     "text": [
      "There are 133900 rows and 6 columns.\n"
     ]
    },
    {
     "data": {
      "text/html": [
       "<div>\n",
       "<style scoped>\n",
       "    .dataframe tbody tr th:only-of-type {\n",
       "        vertical-align: middle;\n",
       "    }\n",
       "\n",
       "    .dataframe tbody tr th {\n",
       "        vertical-align: top;\n",
       "    }\n",
       "\n",
       "    .dataframe thead th {\n",
       "        text-align: right;\n",
       "    }\n",
       "</style>\n",
       "<table border=\"1\" class=\"dataframe\">\n",
       "  <thead>\n",
       "    <tr style=\"text-align: right;\">\n",
       "      <th></th>\n",
       "      <th>month_year</th>\n",
       "      <th>day</th>\n",
       "      <th>name</th>\n",
       "      <th>info</th>\n",
       "      <th>link</th>\n",
       "      <th>num_references</th>\n",
       "    </tr>\n",
       "  </thead>\n",
       "  <tbody>\n",
       "    <tr>\n",
       "      <th>0</th>\n",
       "      <td>January 1994</td>\n",
       "      <td>1</td>\n",
       "      <td>William Chappell</td>\n",
       "      <td>, 86, British dancer, ballet designer and director.</td>\n",
       "      <td>https://en.wikipedia.org/wiki/William_Chappell_(dancer)</td>\n",
       "      <td>21</td>\n",
       "    </tr>\n",
       "    <tr>\n",
       "      <th>1</th>\n",
       "      <td>January 1994</td>\n",
       "      <td>1</td>\n",
       "      <td>Raymond Crotty</td>\n",
       "      <td>, 68, Irish economist, writer, and academic.</td>\n",
       "      <td>https://en.wikipedia.org/wiki/Raymond_Crotty</td>\n",
       "      <td>12</td>\n",
       "    </tr>\n",
       "  </tbody>\n",
       "</table>\n",
       "</div>"
      ],
      "text/plain": [
       "     month_year day              name  \\\n",
       "0  January 1994   1  William Chappell   \n",
       "1  January 1994   1    Raymond Crotty   \n",
       "\n",
       "                                                  info  \\\n",
       "0  , 86, British dancer, ballet designer and director.   \n",
       "1         , 68, Irish economist, writer, and academic.   \n",
       "\n",
       "                                                      link num_references  \n",
       "0  https://en.wikipedia.org/wiki/William_Chappell_(dancer)             21  \n",
       "1             https://en.wikipedia.org/wiki/Raymond_Crotty             12  "
      ]
     },
     "execution_count": 2,
     "metadata": {},
     "output_type": "execute_result"
    },
    {
     "data": {
      "application/javascript": [
       "\n",
       "            setTimeout(function() {\n",
       "                var nbb_cell_id = 2;\n",
       "                var nbb_unformatted_code = \"# Reading the wp_life_expect_raw_complete dataset\\nconn = sql.connect(\\\"wp_life_expect_raw_complete.db\\\")\\ndata = pd.read_sql(\\\"SELECT * FROM wp_life_expect_raw_complete\\\", conn)\\n\\n# Making a working copy\\ndf = data.copy()\\n\\n# Checking the shape\\nprint(f\\\"There are {df.shape[0]} rows and {df.shape[1]} columns.\\\")\\n\\n# Checking first 2 rows of the data\\ndf.head(2)\";\n",
       "                var nbb_formatted_code = \"# Reading the wp_life_expect_raw_complete dataset\\nconn = sql.connect(\\\"wp_life_expect_raw_complete.db\\\")\\ndata = pd.read_sql(\\\"SELECT * FROM wp_life_expect_raw_complete\\\", conn)\\n\\n# Making a working copy\\ndf = data.copy()\\n\\n# Checking the shape\\nprint(f\\\"There are {df.shape[0]} rows and {df.shape[1]} columns.\\\")\\n\\n# Checking first 2 rows of the data\\ndf.head(2)\";\n",
       "                var nbb_cells = Jupyter.notebook.get_cells();\n",
       "                for (var i = 0; i < nbb_cells.length; ++i) {\n",
       "                    if (nbb_cells[i].input_prompt_number == nbb_cell_id) {\n",
       "                        if (nbb_cells[i].get_text() == nbb_unformatted_code) {\n",
       "                             nbb_cells[i].set_text(nbb_formatted_code);\n",
       "                        }\n",
       "                        break;\n",
       "                    }\n",
       "                }\n",
       "            }, 500);\n",
       "            "
      ],
      "text/plain": [
       "<IPython.core.display.Javascript object>"
      ]
     },
     "metadata": {},
     "output_type": "display_data"
    }
   ],
   "source": [
    "# Reading the wp_life_expect_raw_complete dataset\n",
    "conn = sql.connect(\"wp_life_expect_raw_complete.db\")\n",
    "data = pd.read_sql(\"SELECT * FROM wp_life_expect_raw_complete\", conn)\n",
    "\n",
    "# Making a working copy\n",
    "df = data.copy()\n",
    "\n",
    "# Checking the shape\n",
    "print(f\"There are {df.shape[0]} rows and {df.shape[1]} columns.\")\n",
    "\n",
    "# Checking first 2 rows of the data\n",
    "df.head(2)"
   ]
  },
  {
   "cell_type": "code",
   "execution_count": 3,
   "id": "39479165",
   "metadata": {},
   "outputs": [
    {
     "data": {
      "text/html": [
       "<div>\n",
       "<style scoped>\n",
       "    .dataframe tbody tr th:only-of-type {\n",
       "        vertical-align: middle;\n",
       "    }\n",
       "\n",
       "    .dataframe tbody tr th {\n",
       "        vertical-align: top;\n",
       "    }\n",
       "\n",
       "    .dataframe thead th {\n",
       "        text-align: right;\n",
       "    }\n",
       "</style>\n",
       "<table border=\"1\" class=\"dataframe\">\n",
       "  <thead>\n",
       "    <tr style=\"text-align: right;\">\n",
       "      <th></th>\n",
       "      <th>month_year</th>\n",
       "      <th>day</th>\n",
       "      <th>name</th>\n",
       "      <th>info</th>\n",
       "      <th>link</th>\n",
       "      <th>num_references</th>\n",
       "    </tr>\n",
       "  </thead>\n",
       "  <tbody>\n",
       "    <tr>\n",
       "      <th>133898</th>\n",
       "      <td>June 2022</td>\n",
       "      <td>9</td>\n",
       "      <td>Oleg Moliboga</td>\n",
       "      <td>, 69, Russian volleyball player, Olympic champion (1980) and coach.</td>\n",
       "      <td>https://en.wikipedia.org/wiki/Oleg_Moliboga</td>\n",
       "      <td>2</td>\n",
       "    </tr>\n",
       "    <tr>\n",
       "      <th>133899</th>\n",
       "      <td>June 2022</td>\n",
       "      <td>9</td>\n",
       "      <td>Zou Jing</td>\n",
       "      <td>, 86, Chinese engineer, member of the Chinese Academy of Engineering.</td>\n",
       "      <td>https://en.wikipedia.org/wiki/Zou_Jing_(engineer)</td>\n",
       "      <td>3</td>\n",
       "    </tr>\n",
       "  </tbody>\n",
       "</table>\n",
       "</div>"
      ],
      "text/plain": [
       "       month_year day           name  \\\n",
       "133898  June 2022   9  Oleg Moliboga   \n",
       "133899  June 2022   9       Zou Jing   \n",
       "\n",
       "                                                                         info  \\\n",
       "133898    , 69, Russian volleyball player, Olympic champion (1980) and coach.   \n",
       "133899  , 86, Chinese engineer, member of the Chinese Academy of Engineering.   \n",
       "\n",
       "                                                     link num_references  \n",
       "133898        https://en.wikipedia.org/wiki/Oleg_Moliboga              2  \n",
       "133899  https://en.wikipedia.org/wiki/Zou_Jing_(engineer)              3  "
      ]
     },
     "execution_count": 3,
     "metadata": {},
     "output_type": "execute_result"
    },
    {
     "data": {
      "application/javascript": [
       "\n",
       "            setTimeout(function() {\n",
       "                var nbb_cell_id = 3;\n",
       "                var nbb_unformatted_code = \"# Checking last 2 rows of the data\\ndf.tail(2)\";\n",
       "                var nbb_formatted_code = \"# Checking last 2 rows of the data\\ndf.tail(2)\";\n",
       "                var nbb_cells = Jupyter.notebook.get_cells();\n",
       "                for (var i = 0; i < nbb_cells.length; ++i) {\n",
       "                    if (nbb_cells[i].input_prompt_number == nbb_cell_id) {\n",
       "                        if (nbb_cells[i].get_text() == nbb_unformatted_code) {\n",
       "                             nbb_cells[i].set_text(nbb_formatted_code);\n",
       "                        }\n",
       "                        break;\n",
       "                    }\n",
       "                }\n",
       "            }, 500);\n",
       "            "
      ],
      "text/plain": [
       "<IPython.core.display.Javascript object>"
      ]
     },
     "metadata": {},
     "output_type": "display_data"
    }
   ],
   "source": [
    "# Checking last 2 rows of the data\n",
    "df.tail(2)"
   ]
  },
  {
   "cell_type": "code",
   "execution_count": 4,
   "id": "0d3fd555",
   "metadata": {},
   "outputs": [
    {
     "data": {
      "text/html": [
       "<div>\n",
       "<style scoped>\n",
       "    .dataframe tbody tr th:only-of-type {\n",
       "        vertical-align: middle;\n",
       "    }\n",
       "\n",
       "    .dataframe tbody tr th {\n",
       "        vertical-align: top;\n",
       "    }\n",
       "\n",
       "    .dataframe thead th {\n",
       "        text-align: right;\n",
       "    }\n",
       "</style>\n",
       "<table border=\"1\" class=\"dataframe\">\n",
       "  <thead>\n",
       "    <tr style=\"text-align: right;\">\n",
       "      <th></th>\n",
       "      <th>month_year</th>\n",
       "      <th>day</th>\n",
       "      <th>name</th>\n",
       "      <th>info</th>\n",
       "      <th>link</th>\n",
       "      <th>num_references</th>\n",
       "    </tr>\n",
       "  </thead>\n",
       "  <tbody>\n",
       "    <tr>\n",
       "      <th>43374</th>\n",
       "      <td>December 2009</td>\n",
       "      <td>9</td>\n",
       "      <td>Rodrigo Carazo Odio</td>\n",
       "      <td>, 82, Costa Rican politician, President (1978–1982), heart failure.</td>\n",
       "      <td>https://en.wikipedia.org/wiki/Rodrigo_Carazo_Odio</td>\n",
       "      <td>4</td>\n",
       "    </tr>\n",
       "    <tr>\n",
       "      <th>73781</th>\n",
       "      <td>January 2015</td>\n",
       "      <td>6</td>\n",
       "      <td>Sir John Mason</td>\n",
       "      <td>, 91, British meteorologist.</td>\n",
       "      <td>https://en.wikipedia.org/wiki/John_Mason_(meteorologist)</td>\n",
       "      <td>26</td>\n",
       "    </tr>\n",
       "    <tr>\n",
       "      <th>128150</th>\n",
       "      <td>November 2021</td>\n",
       "      <td>1</td>\n",
       "      <td>Bruno Moretti</td>\n",
       "      <td>, 80, Australian athlete, Paralympic champion (1968).</td>\n",
       "      <td>https://en.wikipedia.org/wiki/Bruno_Moretti_(Paralympian)</td>\n",
       "      <td>8</td>\n",
       "    </tr>\n",
       "    <tr>\n",
       "      <th>55564</th>\n",
       "      <td>May 2012</td>\n",
       "      <td>9</td>\n",
       "      <td>Constantin Piron</td>\n",
       "      <td>, 80, Belgian physicist.</td>\n",
       "      <td>https://en.wikipedia.org/wiki/Constantin_Piron</td>\n",
       "      <td>4</td>\n",
       "    </tr>\n",
       "    <tr>\n",
       "      <th>78387</th>\n",
       "      <td>September 2015</td>\n",
       "      <td>16</td>\n",
       "      <td>Bob Cleary</td>\n",
       "      <td>, 79, American ice hockey player, Olympic gold medalist (1960).</td>\n",
       "      <td>https://en.wikipedia.org/wiki/Bob_Cleary</td>\n",
       "      <td>4</td>\n",
       "    </tr>\n",
       "  </tbody>\n",
       "</table>\n",
       "</div>"
      ],
      "text/plain": [
       "            month_year day                 name  \\\n",
       "43374    December 2009   9  Rodrigo Carazo Odio   \n",
       "73781     January 2015   6       Sir John Mason   \n",
       "128150   November 2021   1        Bruno Moretti   \n",
       "55564         May 2012   9     Constantin Piron   \n",
       "78387   September 2015  16           Bob Cleary   \n",
       "\n",
       "                                                                       info  \\\n",
       "43374   , 82, Costa Rican politician, President (1978–1982), heart failure.   \n",
       "73781                                          , 91, British meteorologist.   \n",
       "128150                , 80, Australian athlete, Paralympic champion (1968).   \n",
       "55564                                              , 80, Belgian physicist.   \n",
       "78387       , 79, American ice hockey player, Olympic gold medalist (1960).   \n",
       "\n",
       "                                                             link  \\\n",
       "43374           https://en.wikipedia.org/wiki/Rodrigo_Carazo_Odio   \n",
       "73781    https://en.wikipedia.org/wiki/John_Mason_(meteorologist)   \n",
       "128150  https://en.wikipedia.org/wiki/Bruno_Moretti_(Paralympian)   \n",
       "55564              https://en.wikipedia.org/wiki/Constantin_Piron   \n",
       "78387                    https://en.wikipedia.org/wiki/Bob_Cleary   \n",
       "\n",
       "       num_references  \n",
       "43374               4  \n",
       "73781              26  \n",
       "128150              8  \n",
       "55564               4  \n",
       "78387               4  "
      ]
     },
     "execution_count": 4,
     "metadata": {},
     "output_type": "execute_result"
    },
    {
     "data": {
      "application/javascript": [
       "\n",
       "            setTimeout(function() {\n",
       "                var nbb_cell_id = 4;\n",
       "                var nbb_unformatted_code = \"# Checking a sample of the data\\ndf.sample(5)\";\n",
       "                var nbb_formatted_code = \"# Checking a sample of the data\\ndf.sample(5)\";\n",
       "                var nbb_cells = Jupyter.notebook.get_cells();\n",
       "                for (var i = 0; i < nbb_cells.length; ++i) {\n",
       "                    if (nbb_cells[i].input_prompt_number == nbb_cell_id) {\n",
       "                        if (nbb_cells[i].get_text() == nbb_unformatted_code) {\n",
       "                             nbb_cells[i].set_text(nbb_formatted_code);\n",
       "                        }\n",
       "                        break;\n",
       "                    }\n",
       "                }\n",
       "            }, 500);\n",
       "            "
      ],
      "text/plain": [
       "<IPython.core.display.Javascript object>"
      ]
     },
     "metadata": {},
     "output_type": "display_data"
    }
   ],
   "source": [
    "# Checking a sample of the data\n",
    "df.sample(5)"
   ]
  },
  {
   "cell_type": "markdown",
   "id": "ffdc752e",
   "metadata": {},
   "source": [
    "#### Observations:\n",
    "- There are 133,900 rows and 6 columns.\n",
    "- `month_year` contains the month and year of death, while `day` contains the day of the month of death.\n",
    "- `name` is the notable person's name.  It is a nominal feature that will not be used for analysis, but will be maintained for any referencing needs.\n",
    "- `info` contains multiple items including the notable person's \"age, country of citizenship at birth, subsequent country of citizenship (if applicable), reason for notability, (and) cause of death (if known).\"\n",
    "- `link` is the url to the notable person's individual Wikipedia page.  If such a page does not exist, there is either a non-working link (https://en.wikipedia.orgNone), or the link is to a page with a message that the page does not exist for that individual.  `link` is a unique identifier for all entries, except the 6 with the non-working link, which do have unique `name` values from each other.\n",
    "- `num_references` contains the number of references on the notable person's individual Wikipedia page.  This feature serves as a proxy measure of notability.\n",
    "- Prior to EDA, our task will be to extract the individual elements that are comined in `month_year` and `info` columns."
   ]
  },
  {
   "cell_type": "markdown",
   "id": "99088219",
   "metadata": {},
   "source": [
    "### Checking Data Types, Duplicates, and Null Values"
   ]
  },
  {
   "cell_type": "code",
   "execution_count": 5,
   "id": "7c6c2786",
   "metadata": {},
   "outputs": [
    {
     "name": "stdout",
     "output_type": "stream",
     "text": [
      "<class 'pandas.core.frame.DataFrame'>\n",
      "RangeIndex: 133900 entries, 0 to 133899\n",
      "Data columns (total 6 columns):\n",
      " #   Column          Non-Null Count   Dtype \n",
      "---  ------          --------------   ----- \n",
      " 0   month_year      133900 non-null  object\n",
      " 1   day             133900 non-null  object\n",
      " 2   name            133894 non-null  object\n",
      " 3   info            133900 non-null  object\n",
      " 4   link            133900 non-null  object\n",
      " 5   num_references  133900 non-null  object\n",
      "dtypes: object(6)\n",
      "memory usage: 6.1+ MB\n"
     ]
    },
    {
     "data": {
      "application/javascript": [
       "\n",
       "            setTimeout(function() {\n",
       "                var nbb_cell_id = 5;\n",
       "                var nbb_unformatted_code = \"# Checking data types and null values\\ndf.info()\";\n",
       "                var nbb_formatted_code = \"# Checking data types and null values\\ndf.info()\";\n",
       "                var nbb_cells = Jupyter.notebook.get_cells();\n",
       "                for (var i = 0; i < nbb_cells.length; ++i) {\n",
       "                    if (nbb_cells[i].input_prompt_number == nbb_cell_id) {\n",
       "                        if (nbb_cells[i].get_text() == nbb_unformatted_code) {\n",
       "                             nbb_cells[i].set_text(nbb_formatted_code);\n",
       "                        }\n",
       "                        break;\n",
       "                    }\n",
       "                }\n",
       "            }, 500);\n",
       "            "
      ],
      "text/plain": [
       "<IPython.core.display.Javascript object>"
      ]
     },
     "metadata": {},
     "output_type": "display_data"
    }
   ],
   "source": [
    "# Checking data types and null values\n",
    "df.info()"
   ]
  },
  {
   "cell_type": "code",
   "execution_count": 6,
   "id": "d7d0d148",
   "metadata": {},
   "outputs": [
    {
     "data": {
      "text/plain": [
       "0"
      ]
     },
     "execution_count": 6,
     "metadata": {},
     "output_type": "execute_result"
    },
    {
     "data": {
      "application/javascript": [
       "\n",
       "            setTimeout(function() {\n",
       "                var nbb_cell_id = 6;\n",
       "                var nbb_unformatted_code = \"# Checking duplicate rows\\ndf.duplicated().sum()\";\n",
       "                var nbb_formatted_code = \"# Checking duplicate rows\\ndf.duplicated().sum()\";\n",
       "                var nbb_cells = Jupyter.notebook.get_cells();\n",
       "                for (var i = 0; i < nbb_cells.length; ++i) {\n",
       "                    if (nbb_cells[i].input_prompt_number == nbb_cell_id) {\n",
       "                        if (nbb_cells[i].get_text() == nbb_unformatted_code) {\n",
       "                             nbb_cells[i].set_text(nbb_formatted_code);\n",
       "                        }\n",
       "                        break;\n",
       "                    }\n",
       "                }\n",
       "            }, 500);\n",
       "            "
      ],
      "text/plain": [
       "<IPython.core.display.Javascript object>"
      ]
     },
     "metadata": {},
     "output_type": "display_data"
    }
   ],
   "source": [
    "# Checking duplicate rows\n",
    "df.duplicated().sum()"
   ]
  },
  {
   "cell_type": "code",
   "execution_count": 7,
   "id": "8319e43a",
   "metadata": {},
   "outputs": [
    {
     "data": {
      "text/plain": [
       "month_year        0.000000\n",
       "day               0.000000\n",
       "name              0.004481\n",
       "info              0.000000\n",
       "link              0.000000\n",
       "num_references    0.000000\n",
       "dtype: float64"
      ]
     },
     "execution_count": 7,
     "metadata": {},
     "output_type": "execute_result"
    },
    {
     "data": {
      "application/javascript": [
       "\n",
       "            setTimeout(function() {\n",
       "                var nbb_cell_id = 7;\n",
       "                var nbb_unformatted_code = \"# Check percentage of null values by column\\ndf.isnull().sum() / df.count() * 100\";\n",
       "                var nbb_formatted_code = \"# Check percentage of null values by column\\ndf.isnull().sum() / df.count() * 100\";\n",
       "                var nbb_cells = Jupyter.notebook.get_cells();\n",
       "                for (var i = 0; i < nbb_cells.length; ++i) {\n",
       "                    if (nbb_cells[i].input_prompt_number == nbb_cell_id) {\n",
       "                        if (nbb_cells[i].get_text() == nbb_unformatted_code) {\n",
       "                             nbb_cells[i].set_text(nbb_formatted_code);\n",
       "                        }\n",
       "                        break;\n",
       "                    }\n",
       "                }\n",
       "            }, 500);\n",
       "            "
      ],
      "text/plain": [
       "<IPython.core.display.Javascript object>"
      ]
     },
     "metadata": {},
     "output_type": "display_data"
    }
   ],
   "source": [
    "# Check percentage of null values by column\n",
    "df.isnull().sum() / df.count() * 100"
   ]
  },
  {
   "cell_type": "code",
   "execution_count": 8,
   "id": "067bf523",
   "metadata": {},
   "outputs": [
    {
     "data": {
      "text/plain": [
       "0    133894\n",
       "1         6\n",
       "dtype: int64"
      ]
     },
     "execution_count": 8,
     "metadata": {},
     "output_type": "execute_result"
    },
    {
     "data": {
      "application/javascript": [
       "\n",
       "            setTimeout(function() {\n",
       "                var nbb_cell_id = 8;\n",
       "                var nbb_unformatted_code = \"# Checking number of missing values per row (not necessary here, but done to keep process standard)\\ndf.isnull().sum(axis=1).value_counts()\";\n",
       "                var nbb_formatted_code = \"# Checking number of missing values per row (not necessary here, but done to keep process standard)\\ndf.isnull().sum(axis=1).value_counts()\";\n",
       "                var nbb_cells = Jupyter.notebook.get_cells();\n",
       "                for (var i = 0; i < nbb_cells.length; ++i) {\n",
       "                    if (nbb_cells[i].input_prompt_number == nbb_cell_id) {\n",
       "                        if (nbb_cells[i].get_text() == nbb_unformatted_code) {\n",
       "                             nbb_cells[i].set_text(nbb_formatted_code);\n",
       "                        }\n",
       "                        break;\n",
       "                    }\n",
       "                }\n",
       "            }, 500);\n",
       "            "
      ],
      "text/plain": [
       "<IPython.core.display.Javascript object>"
      ]
     },
     "metadata": {},
     "output_type": "display_data"
    }
   ],
   "source": [
    "# Checking number of missing values per row (not necessary here, but done to keep process standard)\n",
    "df.isnull().sum(axis=1).value_counts()"
   ]
  },
  {
   "cell_type": "markdown",
   "id": "f29c9f56",
   "metadata": {},
   "source": [
    "#### Observations:\n",
    "- Our dataset was saved to and read from the database without any hiccups.\n",
    "- As expected, we have 6 entries that are missing `name`, but we will find it in their `info` values.\n",
    "- All columns are currently of object type.  We will need to appropriately typecast them after separating the information in `month_year` and `info`."
   ]
  },
  {
   "cell_type": "markdown",
   "id": "a6617dd7",
   "metadata": {},
   "source": [
    "## Data Cleaning"
   ]
  },
  {
   "cell_type": "markdown",
   "id": "e8a26f3b",
   "metadata": {},
   "source": [
    "### Addressing Missing `name` Values"
   ]
  },
  {
   "cell_type": "code",
   "execution_count": 9,
   "id": "631fee06",
   "metadata": {},
   "outputs": [
    {
     "data": {
      "text/html": [
       "<div>\n",
       "<style scoped>\n",
       "    .dataframe tbody tr th:only-of-type {\n",
       "        vertical-align: middle;\n",
       "    }\n",
       "\n",
       "    .dataframe tbody tr th {\n",
       "        vertical-align: top;\n",
       "    }\n",
       "\n",
       "    .dataframe thead th {\n",
       "        text-align: right;\n",
       "    }\n",
       "</style>\n",
       "<table border=\"1\" class=\"dataframe\">\n",
       "  <thead>\n",
       "    <tr style=\"text-align: right;\">\n",
       "      <th></th>\n",
       "      <th>month_year</th>\n",
       "      <th>day</th>\n",
       "      <th>name</th>\n",
       "      <th>info</th>\n",
       "      <th>link</th>\n",
       "      <th>num_references</th>\n",
       "    </tr>\n",
       "  </thead>\n",
       "  <tbody>\n",
       "    <tr>\n",
       "      <th>18937</th>\n",
       "      <td>August 2001</td>\n",
       "      <td>11</td>\n",
       "      <td>None</td>\n",
       "      <td>Kevin Kowalcyk, 2, known for eating a hamburger contaminated with E. coli O157:H7.</td>\n",
       "      <td>https://en.wikipedia.orgNone</td>\n",
       "      <td>0</td>\n",
       "    </tr>\n",
       "    <tr>\n",
       "      <th>24985</th>\n",
       "      <td>January 2004</td>\n",
       "      <td>22</td>\n",
       "      <td>None</td>\n",
       "      <td>Vincent Palmer, 37, British criminal.</td>\n",
       "      <td>https://en.wikipedia.orgNone</td>\n",
       "      <td>0</td>\n",
       "    </tr>\n",
       "    <tr>\n",
       "      <th>27458</th>\n",
       "      <td>March 2005</td>\n",
       "      <td>1</td>\n",
       "      <td>None</td>\n",
       "      <td>Barry Stigler, 57, American voice actor.</td>\n",
       "      <td>https://en.wikipedia.orgNone</td>\n",
       "      <td>0</td>\n",
       "    </tr>\n",
       "    <tr>\n",
       "      <th>34077</th>\n",
       "      <td>July 2007</td>\n",
       "      <td>11</td>\n",
       "      <td>None</td>\n",
       "      <td>Nana Gualdi, 75, German singer and actress.</td>\n",
       "      <td>https://en.wikipedia.orgNone</td>\n",
       "      <td>0</td>\n",
       "    </tr>\n",
       "    <tr>\n",
       "      <th>64769</th>\n",
       "      <td>September 2013</td>\n",
       "      <td>29</td>\n",
       "      <td>None</td>\n",
       "      <td>Scott Workman, 47, American stuntman (, , ), cancer.</td>\n",
       "      <td>https://en.wikipedia.orgNone</td>\n",
       "      <td>0</td>\n",
       "    </tr>\n",
       "    <tr>\n",
       "      <th>106613</th>\n",
       "      <td>September 2019</td>\n",
       "      <td>12</td>\n",
       "      <td>None</td>\n",
       "      <td>Thami Shobede, 31, Singer Songwriter</td>\n",
       "      <td>https://en.wikipedia.orgNone</td>\n",
       "      <td>0</td>\n",
       "    </tr>\n",
       "  </tbody>\n",
       "</table>\n",
       "</div>"
      ],
      "text/plain": [
       "            month_year day  name  \\\n",
       "18937      August 2001  11  None   \n",
       "24985     January 2004  22  None   \n",
       "27458       March 2005   1  None   \n",
       "34077        July 2007  11  None   \n",
       "64769   September 2013  29  None   \n",
       "106613  September 2019  12  None   \n",
       "\n",
       "                                                                                      info  \\\n",
       "18937   Kevin Kowalcyk, 2, known for eating a hamburger contaminated with E. coli O157:H7.   \n",
       "24985                                                Vincent Palmer, 37, British criminal.   \n",
       "27458                                             Barry Stigler, 57, American voice actor.   \n",
       "34077                                          Nana Gualdi, 75, German singer and actress.   \n",
       "64769                                 Scott Workman, 47, American stuntman (, , ), cancer.   \n",
       "106613                                                Thami Shobede, 31, Singer Songwriter   \n",
       "\n",
       "                                link num_references  \n",
       "18937   https://en.wikipedia.orgNone              0  \n",
       "24985   https://en.wikipedia.orgNone              0  \n",
       "27458   https://en.wikipedia.orgNone              0  \n",
       "34077   https://en.wikipedia.orgNone              0  \n",
       "64769   https://en.wikipedia.orgNone              0  \n",
       "106613  https://en.wikipedia.orgNone              0  "
      ]
     },
     "execution_count": 9,
     "metadata": {},
     "output_type": "execute_result"
    },
    {
     "data": {
      "application/javascript": [
       "\n",
       "            setTimeout(function() {\n",
       "                var nbb_cell_id = 9;\n",
       "                var nbb_unformatted_code = \"# Checking rows with missing name values\\nmissing_name = df[df[\\\"name\\\"].isna()]\\nmissing_name\";\n",
       "                var nbb_formatted_code = \"# Checking rows with missing name values\\nmissing_name = df[df[\\\"name\\\"].isna()]\\nmissing_name\";\n",
       "                var nbb_cells = Jupyter.notebook.get_cells();\n",
       "                for (var i = 0; i < nbb_cells.length; ++i) {\n",
       "                    if (nbb_cells[i].input_prompt_number == nbb_cell_id) {\n",
       "                        if (nbb_cells[i].get_text() == nbb_unformatted_code) {\n",
       "                             nbb_cells[i].set_text(nbb_formatted_code);\n",
       "                        }\n",
       "                        break;\n",
       "                    }\n",
       "                }\n",
       "            }, 500);\n",
       "            "
      ],
      "text/plain": [
       "<IPython.core.display.Javascript object>"
      ]
     },
     "metadata": {},
     "output_type": "display_data"
    }
   ],
   "source": [
    "# Checking rows with missing name values\n",
    "missing_name = df[df[\"name\"].isna()]\n",
    "missing_name"
   ]
  },
  {
   "cell_type": "markdown",
   "id": "a8339d9b",
   "metadata": {},
   "source": [
    "#### Observations:\n",
    "- These rows vary from the main set as there is a substring containing the person's name at the start of the `info` string.\n",
    "- As there are so few rows missing `name`, let us address this issue first.\n",
    "- Within a for loop, we will split the `info` value into a list and extract `name` from the first list entry.  \n",
    "- Then we will replace the name with an empty string within `info`."
   ]
  },
  {
   "cell_type": "code",
   "execution_count": 10,
   "id": "7aa458c9",
   "metadata": {},
   "outputs": [
    {
     "data": {
      "text/html": [
       "<div>\n",
       "<style scoped>\n",
       "    .dataframe tbody tr th:only-of-type {\n",
       "        vertical-align: middle;\n",
       "    }\n",
       "\n",
       "    .dataframe tbody tr th {\n",
       "        vertical-align: top;\n",
       "    }\n",
       "\n",
       "    .dataframe thead th {\n",
       "        text-align: right;\n",
       "    }\n",
       "</style>\n",
       "<table border=\"1\" class=\"dataframe\">\n",
       "  <thead>\n",
       "    <tr style=\"text-align: right;\">\n",
       "      <th></th>\n",
       "      <th>month_year</th>\n",
       "      <th>day</th>\n",
       "      <th>name</th>\n",
       "      <th>info</th>\n",
       "      <th>link</th>\n",
       "      <th>num_references</th>\n",
       "    </tr>\n",
       "  </thead>\n",
       "  <tbody>\n",
       "    <tr>\n",
       "      <th>18937</th>\n",
       "      <td>August 2001</td>\n",
       "      <td>11</td>\n",
       "      <td>Kevin Kowalcyk</td>\n",
       "      <td>, 2, known for eating a hamburger contaminated with E. coli O157:H7.</td>\n",
       "      <td>https://en.wikipedia.orgNone</td>\n",
       "      <td>0</td>\n",
       "    </tr>\n",
       "    <tr>\n",
       "      <th>24985</th>\n",
       "      <td>January 2004</td>\n",
       "      <td>22</td>\n",
       "      <td>Vincent Palmer</td>\n",
       "      <td>, 37, British criminal.</td>\n",
       "      <td>https://en.wikipedia.orgNone</td>\n",
       "      <td>0</td>\n",
       "    </tr>\n",
       "    <tr>\n",
       "      <th>27458</th>\n",
       "      <td>March 2005</td>\n",
       "      <td>1</td>\n",
       "      <td>Barry Stigler</td>\n",
       "      <td>, 57, American voice actor.</td>\n",
       "      <td>https://en.wikipedia.orgNone</td>\n",
       "      <td>0</td>\n",
       "    </tr>\n",
       "    <tr>\n",
       "      <th>34077</th>\n",
       "      <td>July 2007</td>\n",
       "      <td>11</td>\n",
       "      <td>Nana Gualdi</td>\n",
       "      <td>, 75, German singer and actress.</td>\n",
       "      <td>https://en.wikipedia.orgNone</td>\n",
       "      <td>0</td>\n",
       "    </tr>\n",
       "    <tr>\n",
       "      <th>64769</th>\n",
       "      <td>September 2013</td>\n",
       "      <td>29</td>\n",
       "      <td>Scott Workman</td>\n",
       "      <td>, 47, American stuntman (, , ), cancer.</td>\n",
       "      <td>https://en.wikipedia.orgNone</td>\n",
       "      <td>0</td>\n",
       "    </tr>\n",
       "    <tr>\n",
       "      <th>106613</th>\n",
       "      <td>September 2019</td>\n",
       "      <td>12</td>\n",
       "      <td>Thami Shobede</td>\n",
       "      <td>, 31, Singer Songwriter</td>\n",
       "      <td>https://en.wikipedia.orgNone</td>\n",
       "      <td>0</td>\n",
       "    </tr>\n",
       "  </tbody>\n",
       "</table>\n",
       "</div>"
      ],
      "text/plain": [
       "            month_year day            name  \\\n",
       "18937      August 2001  11  Kevin Kowalcyk   \n",
       "24985     January 2004  22  Vincent Palmer   \n",
       "27458       March 2005   1   Barry Stigler   \n",
       "34077        July 2007  11     Nana Gualdi   \n",
       "64769   September 2013  29   Scott Workman   \n",
       "106613  September 2019  12   Thami Shobede   \n",
       "\n",
       "                                                                        info  \\\n",
       "18937   , 2, known for eating a hamburger contaminated with E. coli O157:H7.   \n",
       "24985                                                , 37, British criminal.   \n",
       "27458                                            , 57, American voice actor.   \n",
       "34077                                       , 75, German singer and actress.   \n",
       "64769                                , 47, American stuntman (, , ), cancer.   \n",
       "106613                                               , 31, Singer Songwriter   \n",
       "\n",
       "                                link num_references  \n",
       "18937   https://en.wikipedia.orgNone              0  \n",
       "24985   https://en.wikipedia.orgNone              0  \n",
       "27458   https://en.wikipedia.orgNone              0  \n",
       "34077   https://en.wikipedia.orgNone              0  \n",
       "64769   https://en.wikipedia.orgNone              0  \n",
       "106613  https://en.wikipedia.orgNone              0  "
      ]
     },
     "execution_count": 10,
     "metadata": {},
     "output_type": "execute_result"
    },
    {
     "data": {
      "application/javascript": [
       "\n",
       "            setTimeout(function() {\n",
       "                var nbb_cell_id = 10;\n",
       "                var nbb_unformatted_code = \"# For loop to copy name value from info value and remove name from info value\\ntreat_rows = missing_name.index\\nfor i in treat_rows:\\n    info = df.loc[i, \\\"info\\\"]\\n    info_lst = info.split(sep=\\\",\\\", maxsplit=1)\\n\\n    name = info_lst[0].strip()\\n    df.loc[i, \\\"name\\\"] = name\\n    df.loc[i, \\\"info\\\"] = re.sub(name, \\\"\\\", info).strip()\\n\\n# Re-check rows\\ndf.loc[treat_rows, :]\";\n",
       "                var nbb_formatted_code = \"# For loop to copy name value from info value and remove name from info value\\ntreat_rows = missing_name.index\\nfor i in treat_rows:\\n    info = df.loc[i, \\\"info\\\"]\\n    info_lst = info.split(sep=\\\",\\\", maxsplit=1)\\n\\n    name = info_lst[0].strip()\\n    df.loc[i, \\\"name\\\"] = name\\n    df.loc[i, \\\"info\\\"] = re.sub(name, \\\"\\\", info).strip()\\n\\n# Re-check rows\\ndf.loc[treat_rows, :]\";\n",
       "                var nbb_cells = Jupyter.notebook.get_cells();\n",
       "                for (var i = 0; i < nbb_cells.length; ++i) {\n",
       "                    if (nbb_cells[i].input_prompt_number == nbb_cell_id) {\n",
       "                        if (nbb_cells[i].get_text() == nbb_unformatted_code) {\n",
       "                             nbb_cells[i].set_text(nbb_formatted_code);\n",
       "                        }\n",
       "                        break;\n",
       "                    }\n",
       "                }\n",
       "            }, 500);\n",
       "            "
      ],
      "text/plain": [
       "<IPython.core.display.Javascript object>"
      ]
     },
     "metadata": {},
     "output_type": "display_data"
    }
   ],
   "source": [
    "# For loop to copy name value from info value and remove name from info value\n",
    "treat_rows = missing_name.index\n",
    "for i in treat_rows:\n",
    "    info = df.loc[i, \"info\"]\n",
    "    info_lst = info.split(sep=\",\", maxsplit=1)\n",
    "\n",
    "    name = info_lst[0].strip()\n",
    "    df.loc[i, \"name\"] = name\n",
    "    df.loc[i, \"info\"] = re.sub(name, \"\", info).strip()\n",
    "\n",
    "# Re-check rows\n",
    "df.loc[treat_rows, :]"
   ]
  },
  {
   "cell_type": "markdown",
   "id": "bb913aec",
   "metadata": {},
   "source": [
    "#### Observations:\n",
    "- Missing `name` values have been addressed and those names have been removed from `info` values."
   ]
  },
  {
   "cell_type": "code",
   "execution_count": 11,
   "id": "1d574e67",
   "metadata": {},
   "outputs": [
    {
     "name": "stdout",
     "output_type": "stream",
     "text": [
      "<class 'pandas.core.frame.DataFrame'>\n",
      "RangeIndex: 133900 entries, 0 to 133899\n",
      "Data columns (total 6 columns):\n",
      " #   Column          Non-Null Count   Dtype \n",
      "---  ------          --------------   ----- \n",
      " 0   month_year      133900 non-null  object\n",
      " 1   day             133900 non-null  object\n",
      " 2   name            133900 non-null  object\n",
      " 3   info            133900 non-null  object\n",
      " 4   link            133900 non-null  object\n",
      " 5   num_references  133900 non-null  object\n",
      "dtypes: object(6)\n",
      "memory usage: 6.1+ MB\n"
     ]
    },
    {
     "data": {
      "application/javascript": [
       "\n",
       "            setTimeout(function() {\n",
       "                var nbb_cell_id = 11;\n",
       "                var nbb_unformatted_code = \"# Re-check info\\ndf.info()\";\n",
       "                var nbb_formatted_code = \"# Re-check info\\ndf.info()\";\n",
       "                var nbb_cells = Jupyter.notebook.get_cells();\n",
       "                for (var i = 0; i < nbb_cells.length; ++i) {\n",
       "                    if (nbb_cells[i].input_prompt_number == nbb_cell_id) {\n",
       "                        if (nbb_cells[i].get_text() == nbb_unformatted_code) {\n",
       "                             nbb_cells[i].set_text(nbb_formatted_code);\n",
       "                        }\n",
       "                        break;\n",
       "                    }\n",
       "                }\n",
       "            }, 500);\n",
       "            "
      ],
      "text/plain": [
       "<IPython.core.display.Javascript object>"
      ]
     },
     "metadata": {},
     "output_type": "display_data"
    }
   ],
   "source": [
    "# Re-check info\n",
    "df.info()"
   ]
  },
  {
   "cell_type": "markdown",
   "id": "6cccf358",
   "metadata": {},
   "source": [
    "#### Observations:\n",
    "- We have no remaining missing values.\n",
    "- Let us treat the `month_year` column next, by separating into two new columns `year` and `month`."
   ]
  },
  {
   "cell_type": "markdown",
   "id": "38e39753",
   "metadata": {},
   "source": [
    "### Separating `month` and `year`"
   ]
  },
  {
   "cell_type": "code",
   "execution_count": 12,
   "id": "c2613d35",
   "metadata": {},
   "outputs": [
    {
     "data": {
      "text/html": [
       "<div>\n",
       "<style scoped>\n",
       "    .dataframe tbody tr th:only-of-type {\n",
       "        vertical-align: middle;\n",
       "    }\n",
       "\n",
       "    .dataframe tbody tr th {\n",
       "        vertical-align: top;\n",
       "    }\n",
       "\n",
       "    .dataframe thead th {\n",
       "        text-align: right;\n",
       "    }\n",
       "</style>\n",
       "<table border=\"1\" class=\"dataframe\">\n",
       "  <thead>\n",
       "    <tr style=\"text-align: right;\">\n",
       "      <th></th>\n",
       "      <th>month_year</th>\n",
       "      <th>day</th>\n",
       "      <th>name</th>\n",
       "      <th>info</th>\n",
       "      <th>link</th>\n",
       "      <th>num_references</th>\n",
       "      <th>year</th>\n",
       "      <th>month</th>\n",
       "    </tr>\n",
       "  </thead>\n",
       "  <tbody>\n",
       "    <tr>\n",
       "      <th>0</th>\n",
       "      <td>January 1994</td>\n",
       "      <td>1</td>\n",
       "      <td>William Chappell</td>\n",
       "      <td>, 86, British dancer, ballet designer and director.</td>\n",
       "      <td>https://en.wikipedia.org/wiki/William_Chappell_(dancer)</td>\n",
       "      <td>21</td>\n",
       "      <td>1994</td>\n",
       "      <td>January</td>\n",
       "    </tr>\n",
       "    <tr>\n",
       "      <th>1</th>\n",
       "      <td>January 1994</td>\n",
       "      <td>1</td>\n",
       "      <td>Raymond Crotty</td>\n",
       "      <td>, 68, Irish economist, writer, and academic.</td>\n",
       "      <td>https://en.wikipedia.org/wiki/Raymond_Crotty</td>\n",
       "      <td>12</td>\n",
       "      <td>1994</td>\n",
       "      <td>January</td>\n",
       "    </tr>\n",
       "  </tbody>\n",
       "</table>\n",
       "</div>"
      ],
      "text/plain": [
       "     month_year day              name  \\\n",
       "0  January 1994   1  William Chappell   \n",
       "1  January 1994   1    Raymond Crotty   \n",
       "\n",
       "                                                  info  \\\n",
       "0  , 86, British dancer, ballet designer and director.   \n",
       "1         , 68, Irish economist, writer, and academic.   \n",
       "\n",
       "                                                      link num_references  \\\n",
       "0  https://en.wikipedia.org/wiki/William_Chappell_(dancer)             21   \n",
       "1             https://en.wikipedia.org/wiki/Raymond_Crotty             12   \n",
       "\n",
       "   year    month  \n",
       "0  1994  January  \n",
       "1  1994  January  "
      ]
     },
     "execution_count": 12,
     "metadata": {},
     "output_type": "execute_result"
    },
    {
     "data": {
      "application/javascript": [
       "\n",
       "            setTimeout(function() {\n",
       "                var nbb_cell_id = 12;\n",
       "                var nbb_unformatted_code = \"# Separating month and year into 2 columns and typecasting year as integer\\ndf.loc[:, \\\"year\\\"] = df[\\\"month_year\\\"].apply(lambda x: x.split(sep=\\\" \\\")[1].strip())\\ndf[\\\"year\\\"] = df[\\\"year\\\"].apply(lambda x: int(x))\\n\\ndf.loc[:, \\\"month\\\"] = df[\\\"month_year\\\"].apply(lambda x: x.split(sep=\\\" \\\")[0])\\ndf.head(2)\";\n",
       "                var nbb_formatted_code = \"# Separating month and year into 2 columns and typecasting year as integer\\ndf.loc[:, \\\"year\\\"] = df[\\\"month_year\\\"].apply(lambda x: x.split(sep=\\\" \\\")[1].strip())\\ndf[\\\"year\\\"] = df[\\\"year\\\"].apply(lambda x: int(x))\\n\\ndf.loc[:, \\\"month\\\"] = df[\\\"month_year\\\"].apply(lambda x: x.split(sep=\\\" \\\")[0])\\ndf.head(2)\";\n",
       "                var nbb_cells = Jupyter.notebook.get_cells();\n",
       "                for (var i = 0; i < nbb_cells.length; ++i) {\n",
       "                    if (nbb_cells[i].input_prompt_number == nbb_cell_id) {\n",
       "                        if (nbb_cells[i].get_text() == nbb_unformatted_code) {\n",
       "                             nbb_cells[i].set_text(nbb_formatted_code);\n",
       "                        }\n",
       "                        break;\n",
       "                    }\n",
       "                }\n",
       "            }, 500);\n",
       "            "
      ],
      "text/plain": [
       "<IPython.core.display.Javascript object>"
      ]
     },
     "metadata": {},
     "output_type": "display_data"
    }
   ],
   "source": [
    "# Separating month and year into 2 columns and typecasting year as integer\n",
    "df.loc[:, \"year\"] = df[\"month_year\"].apply(lambda x: x.split(sep=\" \")[1].strip())\n",
    "df[\"year\"] = df[\"year\"].apply(lambda x: int(x))\n",
    "\n",
    "df.loc[:, \"month\"] = df[\"month_year\"].apply(lambda x: x.split(sep=\" \")[0])\n",
    "df.head(2)"
   ]
  },
  {
   "cell_type": "code",
   "execution_count": 13,
   "id": "6426bb65",
   "metadata": {},
   "outputs": [
    {
     "data": {
      "text/html": [
       "<div>\n",
       "<style scoped>\n",
       "    .dataframe tbody tr th:only-of-type {\n",
       "        vertical-align: middle;\n",
       "    }\n",
       "\n",
       "    .dataframe tbody tr th {\n",
       "        vertical-align: top;\n",
       "    }\n",
       "\n",
       "    .dataframe thead th {\n",
       "        text-align: right;\n",
       "    }\n",
       "</style>\n",
       "<table border=\"1\" class=\"dataframe\">\n",
       "  <thead>\n",
       "    <tr style=\"text-align: right;\">\n",
       "      <th></th>\n",
       "      <th>day</th>\n",
       "      <th>name</th>\n",
       "      <th>info</th>\n",
       "      <th>link</th>\n",
       "      <th>num_references</th>\n",
       "      <th>year</th>\n",
       "      <th>month</th>\n",
       "    </tr>\n",
       "  </thead>\n",
       "  <tbody>\n",
       "    <tr>\n",
       "      <th>0</th>\n",
       "      <td>1</td>\n",
       "      <td>William Chappell</td>\n",
       "      <td>, 86, British dancer, ballet designer and director.</td>\n",
       "      <td>https://en.wikipedia.org/wiki/William_Chappell_(dancer)</td>\n",
       "      <td>21</td>\n",
       "      <td>1994</td>\n",
       "      <td>January</td>\n",
       "    </tr>\n",
       "    <tr>\n",
       "      <th>1</th>\n",
       "      <td>1</td>\n",
       "      <td>Raymond Crotty</td>\n",
       "      <td>, 68, Irish economist, writer, and academic.</td>\n",
       "      <td>https://en.wikipedia.org/wiki/Raymond_Crotty</td>\n",
       "      <td>12</td>\n",
       "      <td>1994</td>\n",
       "      <td>January</td>\n",
       "    </tr>\n",
       "  </tbody>\n",
       "</table>\n",
       "</div>"
      ],
      "text/plain": [
       "  day              name                                                 info  \\\n",
       "0   1  William Chappell  , 86, British dancer, ballet designer and director.   \n",
       "1   1    Raymond Crotty         , 68, Irish economist, writer, and academic.   \n",
       "\n",
       "                                                      link num_references  \\\n",
       "0  https://en.wikipedia.org/wiki/William_Chappell_(dancer)             21   \n",
       "1             https://en.wikipedia.org/wiki/Raymond_Crotty             12   \n",
       "\n",
       "   year    month  \n",
       "0  1994  January  \n",
       "1  1994  January  "
      ]
     },
     "execution_count": 13,
     "metadata": {},
     "output_type": "execute_result"
    },
    {
     "data": {
      "application/javascript": [
       "\n",
       "            setTimeout(function() {\n",
       "                var nbb_cell_id = 13;\n",
       "                var nbb_unformatted_code = \"# Dropping month_year column\\ndf.drop(\\\"month_year\\\", axis=1, inplace=True)\\ndf.head(2)\";\n",
       "                var nbb_formatted_code = \"# Dropping month_year column\\ndf.drop(\\\"month_year\\\", axis=1, inplace=True)\\ndf.head(2)\";\n",
       "                var nbb_cells = Jupyter.notebook.get_cells();\n",
       "                for (var i = 0; i < nbb_cells.length; ++i) {\n",
       "                    if (nbb_cells[i].input_prompt_number == nbb_cell_id) {\n",
       "                        if (nbb_cells[i].get_text() == nbb_unformatted_code) {\n",
       "                             nbb_cells[i].set_text(nbb_formatted_code);\n",
       "                        }\n",
       "                        break;\n",
       "                    }\n",
       "                }\n",
       "            }, 500);\n",
       "            "
      ],
      "text/plain": [
       "<IPython.core.display.Javascript object>"
      ]
     },
     "metadata": {},
     "output_type": "display_data"
    }
   ],
   "source": [
    "# Dropping month_year column\n",
    "df.drop(\"month_year\", axis=1, inplace=True)\n",
    "df.head(2)"
   ]
  },
  {
   "cell_type": "markdown",
   "id": "dd501ca7",
   "metadata": {},
   "source": [
    "### Treating `info`\n",
    "First, we will define two functions to help identify rows that match a given regular expression pattern or list of patterns.  Then, we will start by examining the `info` column in a sample of the dataset."
   ]
  },
  {
   "cell_type": "markdown",
   "id": "05989645",
   "metadata": {},
   "source": [
    "#### Function to Save Indices of Rows Matching Regular Expressions Pattern to a List and Print Number of Rows with Match"
   ]
  },
  {
   "cell_type": "code",
   "execution_count": 14,
   "id": "3513359b",
   "metadata": {},
   "outputs": [
    {
     "data": {
      "application/javascript": [
       "\n",
       "            setTimeout(function() {\n",
       "                var nbb_cell_id = 14;\n",
       "                var nbb_unformatted_code = \"# Define a function that takes dataframe, column name, and re pattern as arguments and returns list of indices\\n# for which column value matches re pattern\\ndef rows_with_pattern(dataframe, column, pattern):\\n    \\\"\\\"\\\"\\n    Takes input of dataframe, column name, and re pattern \\n    and returns list of indices for rows that contain match\\n    for pattern anywhere within value for given column.\\n    \\n    dataframe: dataframe\\n    column: column name\\n    pattern: re pattern\\n    \\\"\\\"\\\"\\n    index_list = []\\n\\n    for i in dataframe.index:\\n        item = dataframe.loc[i, column]\\n        match = re.search(pattern, item)\\n        if match:\\n            index_list.append(i)\\n    print(\\n        f\\\"There are {len(index_list)} rows with matching pattern in column '{column}'.\\\"\\n    )\\n    return index_list\";\n",
       "                var nbb_formatted_code = \"# Define a function that takes dataframe, column name, and re pattern as arguments and returns list of indices\\n# for which column value matches re pattern\\ndef rows_with_pattern(dataframe, column, pattern):\\n    \\\"\\\"\\\"\\n    Takes input of dataframe, column name, and re pattern \\n    and returns list of indices for rows that contain match\\n    for pattern anywhere within value for given column.\\n    \\n    dataframe: dataframe\\n    column: column name\\n    pattern: re pattern\\n    \\\"\\\"\\\"\\n    index_list = []\\n\\n    for i in dataframe.index:\\n        item = dataframe.loc[i, column]\\n        match = re.search(pattern, item)\\n        if match:\\n            index_list.append(i)\\n    print(\\n        f\\\"There are {len(index_list)} rows with matching pattern in column '{column}'.\\\"\\n    )\\n    return index_list\";\n",
       "                var nbb_cells = Jupyter.notebook.get_cells();\n",
       "                for (var i = 0; i < nbb_cells.length; ++i) {\n",
       "                    if (nbb_cells[i].input_prompt_number == nbb_cell_id) {\n",
       "                        if (nbb_cells[i].get_text() == nbb_unformatted_code) {\n",
       "                             nbb_cells[i].set_text(nbb_formatted_code);\n",
       "                        }\n",
       "                        break;\n",
       "                    }\n",
       "                }\n",
       "            }, 500);\n",
       "            "
      ],
      "text/plain": [
       "<IPython.core.display.Javascript object>"
      ]
     },
     "metadata": {},
     "output_type": "display_data"
    }
   ],
   "source": [
    "# Define a function that takes dataframe, column name, and re pattern as arguments and returns list of indices\n",
    "# for which column value matches re pattern\n",
    "def rows_with_pattern(dataframe, column, pattern):\n",
    "    \"\"\"\n",
    "    Takes input of dataframe, column name, and re pattern \n",
    "    and returns list of indices for rows that contain match\n",
    "    for pattern anywhere within value for given column.\n",
    "    \n",
    "    dataframe: dataframe\n",
    "    column: column name\n",
    "    pattern: re pattern\n",
    "    \"\"\"\n",
    "    index_list = []\n",
    "\n",
    "    for i in dataframe.index:\n",
    "        item = dataframe.loc[i, column]\n",
    "        match = re.search(pattern, item)\n",
    "        if match:\n",
    "            index_list.append(i)\n",
    "    print(\n",
    "        f\"There are {len(index_list)} rows with matching pattern in column '{column}'.\"\n",
    "    )\n",
    "    return index_list"
   ]
  },
  {
   "cell_type": "markdown",
   "id": "9999fc98",
   "metadata": {},
   "source": [
    "#### Function to Use rows_with_pattern Function for Multiple Regular Expression Patterns"
   ]
  },
  {
   "cell_type": "code",
   "execution_count": 15,
   "id": "7012c3cf",
   "metadata": {},
   "outputs": [
    {
     "data": {
      "application/javascript": [
       "\n",
       "            setTimeout(function() {\n",
       "                var nbb_cell_id = 15;\n",
       "                var nbb_unformatted_code = \"# Define a function that calls rows_with_pattern function for multiple re patterns\\n# returning a single list of indices for all rows with any pattern match\\n\\n\\ndef multiple_patterns(dataframe, column, patterns):\\n    \\\"\\\"\\\"\\n    Takes input dataframe, column, and list of re patterns and returns single list \\n    of indices for rows in which a match for any pattern is found with re.search\\n    \\n    dataframe: dataframe\\n    column: column name\\n    patterns: list of re patterns\\n    \\\"\\\"\\\"\\n    rows_combined = []\\n\\n    # For loop to check each pattern\\n    for pattern in patterns:\\n\\n        # List and number of rows matching each pattern\\n        print(pattern)\\n        rows_to_check = rows_with_pattern(dataframe, column, pattern)\\n        print(\\\"\\\")\\n\\n        # Add list for each pattern to combined list\\n        rows_combined += rows_to_check\\n\\n    return rows_combined\";\n",
       "                var nbb_formatted_code = \"# Define a function that calls rows_with_pattern function for multiple re patterns\\n# returning a single list of indices for all rows with any pattern match\\n\\n\\ndef multiple_patterns(dataframe, column, patterns):\\n    \\\"\\\"\\\"\\n    Takes input dataframe, column, and list of re patterns and returns single list \\n    of indices for rows in which a match for any pattern is found with re.search\\n    \\n    dataframe: dataframe\\n    column: column name\\n    patterns: list of re patterns\\n    \\\"\\\"\\\"\\n    rows_combined = []\\n\\n    # For loop to check each pattern\\n    for pattern in patterns:\\n\\n        # List and number of rows matching each pattern\\n        print(pattern)\\n        rows_to_check = rows_with_pattern(dataframe, column, pattern)\\n        print(\\\"\\\")\\n\\n        # Add list for each pattern to combined list\\n        rows_combined += rows_to_check\\n\\n    return rows_combined\";\n",
       "                var nbb_cells = Jupyter.notebook.get_cells();\n",
       "                for (var i = 0; i < nbb_cells.length; ++i) {\n",
       "                    if (nbb_cells[i].input_prompt_number == nbb_cell_id) {\n",
       "                        if (nbb_cells[i].get_text() == nbb_unformatted_code) {\n",
       "                             nbb_cells[i].set_text(nbb_formatted_code);\n",
       "                        }\n",
       "                        break;\n",
       "                    }\n",
       "                }\n",
       "            }, 500);\n",
       "            "
      ],
      "text/plain": [
       "<IPython.core.display.Javascript object>"
      ]
     },
     "metadata": {},
     "output_type": "display_data"
    }
   ],
   "source": [
    "# Define a function that calls rows_with_pattern function for multiple re patterns\n",
    "# returning a single list of indices for all rows with any pattern match\n",
    "\n",
    "\n",
    "def multiple_patterns(dataframe, column, patterns):\n",
    "    \"\"\"\n",
    "    Takes input dataframe, column, and list of re patterns and returns single list \n",
    "    of indices for rows in which a match for any pattern is found with re.search\n",
    "    \n",
    "    dataframe: dataframe\n",
    "    column: column name\n",
    "    patterns: list of re patterns\n",
    "    \"\"\"\n",
    "    rows_combined = []\n",
    "\n",
    "    # For loop to check each pattern\n",
    "    for pattern in patterns:\n",
    "\n",
    "        # List and number of rows matching each pattern\n",
    "        print(pattern)\n",
    "        rows_to_check = rows_with_pattern(dataframe, column, pattern)\n",
    "        print(\"\")\n",
    "\n",
    "        # Add list for each pattern to combined list\n",
    "        rows_combined += rows_to_check\n",
    "\n",
    "    return rows_combined"
   ]
  },
  {
   "cell_type": "markdown",
   "id": "59edd68c",
   "metadata": {},
   "source": [
    "#### Checking a Sample"
   ]
  },
  {
   "cell_type": "code",
   "execution_count": 16,
   "id": "a5c7e5aa",
   "metadata": {},
   "outputs": [
    {
     "data": {
      "text/html": [
       "<div>\n",
       "<style scoped>\n",
       "    .dataframe tbody tr th:only-of-type {\n",
       "        vertical-align: middle;\n",
       "    }\n",
       "\n",
       "    .dataframe tbody tr th {\n",
       "        vertical-align: top;\n",
       "    }\n",
       "\n",
       "    .dataframe thead th {\n",
       "        text-align: right;\n",
       "    }\n",
       "</style>\n",
       "<table border=\"1\" class=\"dataframe\">\n",
       "  <thead>\n",
       "    <tr style=\"text-align: right;\">\n",
       "      <th></th>\n",
       "      <th>day</th>\n",
       "      <th>name</th>\n",
       "      <th>info</th>\n",
       "      <th>link</th>\n",
       "      <th>num_references</th>\n",
       "      <th>year</th>\n",
       "      <th>month</th>\n",
       "    </tr>\n",
       "  </thead>\n",
       "  <tbody>\n",
       "    <tr>\n",
       "      <th>87551</th>\n",
       "      <td>22</td>\n",
       "      <td>Glenn D. Paige</td>\n",
       "      <td>, 87, American political scientist.</td>\n",
       "      <td>https://en.wikipedia.org/wiki/Glenn_D._Paige</td>\n",
       "      <td>26</td>\n",
       "      <td>2017</td>\n",
       "      <td>January</td>\n",
       "    </tr>\n",
       "    <tr>\n",
       "      <th>30628</th>\n",
       "      <td>11</td>\n",
       "      <td>Floyd Patterson</td>\n",
       "      <td>, 71, American former boxing heavyweight champion, Alzheimer's disease and prostate cancer.</td>\n",
       "      <td>https://en.wikipedia.org/wiki/Floyd_Patterson</td>\n",
       "      <td>43</td>\n",
       "      <td>2006</td>\n",
       "      <td>May</td>\n",
       "    </tr>\n",
       "    <tr>\n",
       "      <th>25070</th>\n",
       "      <td>6</td>\n",
       "      <td>Byron George Skelton</td>\n",
       "      <td>, 98, American judge (United States Court of Appeals for the Federal Circuit, United States Court of Claims).</td>\n",
       "      <td>https://en.wikipedia.org/wiki/Byron_George_Skelton</td>\n",
       "      <td>1</td>\n",
       "      <td>2004</td>\n",
       "      <td>February</td>\n",
       "    </tr>\n",
       "    <tr>\n",
       "      <th>10773</th>\n",
       "      <td>12</td>\n",
       "      <td>Lauri Kivekäs</td>\n",
       "      <td>, 94, Finnish businessman and politician.</td>\n",
       "      <td>https://en.wikipedia.org/wiki/Lauri_Kivek%C3%A4s</td>\n",
       "      <td>1</td>\n",
       "      <td>1998</td>\n",
       "      <td>February</td>\n",
       "    </tr>\n",
       "    <tr>\n",
       "      <th>75006</th>\n",
       "      <td>9</td>\n",
       "      <td>Villa Castelli helicopter collision</td>\n",
       "      <td>Notable French people killed in the :\\n</td>\n",
       "      <td>https://en.wikipedia.org/wiki/Villa_Castelli_helicopter_collision</td>\n",
       "      <td>14</td>\n",
       "      <td>2015</td>\n",
       "      <td>March</td>\n",
       "    </tr>\n",
       "  </tbody>\n",
       "</table>\n",
       "</div>"
      ],
      "text/plain": [
       "      day                                 name  \\\n",
       "87551  22                       Glenn D. Paige   \n",
       "30628  11                      Floyd Patterson   \n",
       "25070   6                 Byron George Skelton   \n",
       "10773  12                        Lauri Kivekäs   \n",
       "75006   9  Villa Castelli helicopter collision   \n",
       "\n",
       "                                                                                                                info  \\\n",
       "87551                                                                            , 87, American political scientist.   \n",
       "30628                    , 71, American former boxing heavyweight champion, Alzheimer's disease and prostate cancer.   \n",
       "25070  , 98, American judge (United States Court of Appeals for the Federal Circuit, United States Court of Claims).   \n",
       "10773                                                                      , 94, Finnish businessman and politician.   \n",
       "75006                                                                        Notable French people killed in the :\\n   \n",
       "\n",
       "                                                                    link  \\\n",
       "87551                       https://en.wikipedia.org/wiki/Glenn_D._Paige   \n",
       "30628                      https://en.wikipedia.org/wiki/Floyd_Patterson   \n",
       "25070                 https://en.wikipedia.org/wiki/Byron_George_Skelton   \n",
       "10773                   https://en.wikipedia.org/wiki/Lauri_Kivek%C3%A4s   \n",
       "75006  https://en.wikipedia.org/wiki/Villa_Castelli_helicopter_collision   \n",
       "\n",
       "      num_references  year     month  \n",
       "87551             26  2017   January  \n",
       "30628             43  2006       May  \n",
       "25070              1  2004  February  \n",
       "10773              1  1998  February  \n",
       "75006             14  2015     March  "
      ]
     },
     "execution_count": 16,
     "metadata": {},
     "output_type": "execute_result"
    },
    {
     "data": {
      "application/javascript": [
       "\n",
       "            setTimeout(function() {\n",
       "                var nbb_cell_id = 16;\n",
       "                var nbb_unformatted_code = \"# Checking a sample of info\\ndf.sample(5)\";\n",
       "                var nbb_formatted_code = \"# Checking a sample of info\\ndf.sample(5)\";\n",
       "                var nbb_cells = Jupyter.notebook.get_cells();\n",
       "                for (var i = 0; i < nbb_cells.length; ++i) {\n",
       "                    if (nbb_cells[i].input_prompt_number == nbb_cell_id) {\n",
       "                        if (nbb_cells[i].get_text() == nbb_unformatted_code) {\n",
       "                             nbb_cells[i].set_text(nbb_formatted_code);\n",
       "                        }\n",
       "                        break;\n",
       "                    }\n",
       "                }\n",
       "            }, 500);\n",
       "            "
      ],
      "text/plain": [
       "<IPython.core.display.Javascript object>"
      ]
     },
     "metadata": {},
     "output_type": "display_data"
    }
   ],
   "source": [
    "# Checking a sample of info\n",
    "df.sample(5)"
   ]
  },
  {
   "cell_type": "markdown",
   "id": "c052f2c2",
   "metadata": {},
   "source": [
    "#### Observations:\n",
    "- We can see that `info` has variety, so will take some cleaning effort:\n",
    "    - There are number values for years in addition to ages.\n",
    "    - There is extra information inside of parentheses, that we likely don't need.\n",
    "    - Some entries lack cause of death.\n",
    "    - Some entries have multiple roles listed, with separating commas.\n",
    "    - There are nationalities with multiple words.\n",
    "    - `info` contains capital letters that are not part of citizenship.\n",
    "- A strategic approach to cleaning the `info` column is needed, as follows:\n",
    "    1. Remove all of the 4-digit year information, as we do not need it.\n",
    "    2. Drop all entries that are lacking digits, as they are missing the  target `age` information.\n",
    "    2. Extract any parentheses and their contents from `info` to new column `info_parenth`, as it likely won't be needed but we will preserve it, for now."
   ]
  },
  {
   "cell_type": "markdown",
   "id": "cb5897a0",
   "metadata": {},
   "source": [
    "#### Removing 4-digit Years from `info`"
   ]
  },
  {
   "cell_type": "code",
   "execution_count": 18,
   "id": "7a00c6cd",
   "metadata": {},
   "outputs": [
    {
     "name": "stdout",
     "output_type": "stream",
     "text": [
      "There are 24899 rows with matching pattern in column 'info'.\n"
     ]
    },
    {
     "data": {
      "text/html": [
       "<div>\n",
       "<style scoped>\n",
       "    .dataframe tbody tr th:only-of-type {\n",
       "        vertical-align: middle;\n",
       "    }\n",
       "\n",
       "    .dataframe tbody tr th {\n",
       "        vertical-align: top;\n",
       "    }\n",
       "\n",
       "    .dataframe thead th {\n",
       "        text-align: right;\n",
       "    }\n",
       "</style>\n",
       "<table border=\"1\" class=\"dataframe\">\n",
       "  <thead>\n",
       "    <tr style=\"text-align: right;\">\n",
       "      <th></th>\n",
       "      <th>day</th>\n",
       "      <th>name</th>\n",
       "      <th>info</th>\n",
       "      <th>link</th>\n",
       "      <th>num_references</th>\n",
       "      <th>year</th>\n",
       "      <th>month</th>\n",
       "    </tr>\n",
       "  </thead>\n",
       "  <tbody>\n",
       "    <tr>\n",
       "      <th>72807</th>\n",
       "      <td>18</td>\n",
       "      <td>Ahmad Lozi</td>\n",
       "      <td>, 89, Jordanian politician, Prime Minister (1971–1973), President of the Senate (1984–1997).</td>\n",
       "      <td>https://en.wikipedia.org/wiki/Ahmad_Lozi</td>\n",
       "      <td>15</td>\n",
       "      <td>2014</td>\n",
       "      <td>November</td>\n",
       "    </tr>\n",
       "    <tr>\n",
       "      <th>32490</th>\n",
       "      <td>31</td>\n",
       "      <td>Liese Prokop</td>\n",
       "      <td>, 65, Austrian athlete and Minister of the Interior (2004–2006), aortic dissection.</td>\n",
       "      <td>https://en.wikipedia.org/wiki/Liese_Prokop</td>\n",
       "      <td>6</td>\n",
       "      <td>2006</td>\n",
       "      <td>December</td>\n",
       "    </tr>\n",
       "  </tbody>\n",
       "</table>\n",
       "</div>"
      ],
      "text/plain": [
       "      day          name  \\\n",
       "72807  18    Ahmad Lozi   \n",
       "32490  31  Liese Prokop   \n",
       "\n",
       "                                                                                               info  \\\n",
       "72807  , 89, Jordanian politician, Prime Minister (1971–1973), President of the Senate (1984–1997).   \n",
       "32490           , 65, Austrian athlete and Minister of the Interior (2004–2006), aortic dissection.   \n",
       "\n",
       "                                             link num_references  year  \\\n",
       "72807    https://en.wikipedia.org/wiki/Ahmad_Lozi             15  2014   \n",
       "32490  https://en.wikipedia.org/wiki/Liese_Prokop              6  2006   \n",
       "\n",
       "          month  \n",
       "72807  November  \n",
       "32490  December  "
      ]
     },
     "execution_count": 18,
     "metadata": {},
     "output_type": "execute_result"
    },
    {
     "data": {
      "application/javascript": [
       "\n",
       "            setTimeout(function() {\n",
       "                var nbb_cell_id = 18;\n",
       "                var nbb_unformatted_code = \"# Pattern for re\\npattern = r\\\"\\\\d{4}\\\"\\n\\n# Finding indices of rows that have pattern\\nrows_to_check = rows_with_pattern(df, \\\"info\\\", pattern)\\n\\n# Checking a sample of rows\\ndf.loc[rows_to_check, :].sample(2)\";\n",
       "                var nbb_formatted_code = \"# Pattern for re\\npattern = r\\\"\\\\d{4}\\\"\\n\\n# Finding indices of rows that have pattern\\nrows_to_check = rows_with_pattern(df, \\\"info\\\", pattern)\\n\\n# Checking a sample of rows\\ndf.loc[rows_to_check, :].sample(2)\";\n",
       "                var nbb_cells = Jupyter.notebook.get_cells();\n",
       "                for (var i = 0; i < nbb_cells.length; ++i) {\n",
       "                    if (nbb_cells[i].input_prompt_number == nbb_cell_id) {\n",
       "                        if (nbb_cells[i].get_text() == nbb_unformatted_code) {\n",
       "                             nbb_cells[i].set_text(nbb_formatted_code);\n",
       "                        }\n",
       "                        break;\n",
       "                    }\n",
       "                }\n",
       "            }, 500);\n",
       "            "
      ],
      "text/plain": [
       "<IPython.core.display.Javascript object>"
      ]
     },
     "metadata": {},
     "output_type": "display_data"
    }
   ],
   "source": [
    "# Pattern for re\n",
    "pattern = r\"\\d{4}\"\n",
    "\n",
    "# Finding indices of rows that have pattern\n",
    "rows_to_check = rows_with_pattern(df, \"info\", pattern)\n",
    "\n",
    "# Checking a sample of rows\n",
    "df.loc[rows_to_check, :].sample(2)"
   ]
  },
  {
   "cell_type": "code",
   "execution_count": 20,
   "id": "7d31c21b",
   "metadata": {},
   "outputs": [
    {
     "name": "stdout",
     "output_type": "stream",
     "text": [
      "There are 0 rows with matching pattern in column 'info'.\n"
     ]
    },
    {
     "data": {
      "text/html": [
       "<div>\n",
       "<style scoped>\n",
       "    .dataframe tbody tr th:only-of-type {\n",
       "        vertical-align: middle;\n",
       "    }\n",
       "\n",
       "    .dataframe tbody tr th {\n",
       "        vertical-align: top;\n",
       "    }\n",
       "\n",
       "    .dataframe thead th {\n",
       "        text-align: right;\n",
       "    }\n",
       "</style>\n",
       "<table border=\"1\" class=\"dataframe\">\n",
       "  <thead>\n",
       "    <tr style=\"text-align: right;\">\n",
       "      <th></th>\n",
       "      <th>day</th>\n",
       "      <th>name</th>\n",
       "      <th>info</th>\n",
       "      <th>link</th>\n",
       "      <th>num_references</th>\n",
       "      <th>year</th>\n",
       "      <th>month</th>\n",
       "    </tr>\n",
       "  </thead>\n",
       "  <tbody>\n",
       "    <tr>\n",
       "      <th>72807</th>\n",
       "      <td>18</td>\n",
       "      <td>Ahmad Lozi</td>\n",
       "      <td>, 89, Jordanian politician, Prime Minister (–), President of the Senate (–).</td>\n",
       "      <td>https://en.wikipedia.org/wiki/Ahmad_Lozi</td>\n",
       "      <td>15</td>\n",
       "      <td>2014</td>\n",
       "      <td>November</td>\n",
       "    </tr>\n",
       "    <tr>\n",
       "      <th>32490</th>\n",
       "      <td>31</td>\n",
       "      <td>Liese Prokop</td>\n",
       "      <td>, 65, Austrian athlete and Minister of the Interior (–), aortic dissection.</td>\n",
       "      <td>https://en.wikipedia.org/wiki/Liese_Prokop</td>\n",
       "      <td>6</td>\n",
       "      <td>2006</td>\n",
       "      <td>December</td>\n",
       "    </tr>\n",
       "  </tbody>\n",
       "</table>\n",
       "</div>"
      ],
      "text/plain": [
       "      day          name  \\\n",
       "72807  18    Ahmad Lozi   \n",
       "32490  31  Liese Prokop   \n",
       "\n",
       "                                                                               info  \\\n",
       "72807  , 89, Jordanian politician, Prime Minister (–), President of the Senate (–).   \n",
       "32490   , 65, Austrian athlete and Minister of the Interior (–), aortic dissection.   \n",
       "\n",
       "                                             link num_references  year  \\\n",
       "72807    https://en.wikipedia.org/wiki/Ahmad_Lozi             15  2014   \n",
       "32490  https://en.wikipedia.org/wiki/Liese_Prokop              6  2006   \n",
       "\n",
       "          month  \n",
       "72807  November  \n",
       "32490  December  "
      ]
     },
     "execution_count": 20,
     "metadata": {},
     "output_type": "execute_result"
    },
    {
     "data": {
      "application/javascript": [
       "\n",
       "            setTimeout(function() {\n",
       "                var nbb_cell_id = 20;\n",
       "                var nbb_unformatted_code = \"# For loop to replace year with empty string\\nfor i, item in enumerate(df[\\\"info\\\"]):\\n    match = re.search(pattern, item)\\n    if match:\\n        df.loc[i, \\\"info\\\"] = re.sub(pattern, \\\"\\\", df.loc[i, \\\"info\\\"])\\n\\n# Rechecking number and example rows after treatment\\nrows_to_check = rows_with_pattern(df, \\\"info\\\", pattern)\\npd.concat([df[df[\\\"name\\\"] == \\\"Ahmad Lozi\\\"], df[df[\\\"name\\\"] == \\\"Liese Prokop\\\"]])\";\n",
       "                var nbb_formatted_code = \"# For loop to replace year with empty string\\nfor i, item in enumerate(df[\\\"info\\\"]):\\n    match = re.search(pattern, item)\\n    if match:\\n        df.loc[i, \\\"info\\\"] = re.sub(pattern, \\\"\\\", df.loc[i, \\\"info\\\"])\\n\\n# Rechecking number and example rows after treatment\\nrows_to_check = rows_with_pattern(df, \\\"info\\\", pattern)\\npd.concat([df[df[\\\"name\\\"] == \\\"Ahmad Lozi\\\"], df[df[\\\"name\\\"] == \\\"Liese Prokop\\\"]])\";\n",
       "                var nbb_cells = Jupyter.notebook.get_cells();\n",
       "                for (var i = 0; i < nbb_cells.length; ++i) {\n",
       "                    if (nbb_cells[i].input_prompt_number == nbb_cell_id) {\n",
       "                        if (nbb_cells[i].get_text() == nbb_unformatted_code) {\n",
       "                             nbb_cells[i].set_text(nbb_formatted_code);\n",
       "                        }\n",
       "                        break;\n",
       "                    }\n",
       "                }\n",
       "            }, 500);\n",
       "            "
      ],
      "text/plain": [
       "<IPython.core.display.Javascript object>"
      ]
     },
     "metadata": {},
     "output_type": "display_data"
    }
   ],
   "source": [
    "# For loop to replace year with empty string\n",
    "for i, item in enumerate(df[\"info\"]):\n",
    "    match = re.search(pattern, item)\n",
    "    if match:\n",
    "        df.loc[i, \"info\"] = re.sub(pattern, \"\", df.loc[i, \"info\"])\n",
    "\n",
    "# Rechecking number and example rows after treatment\n",
    "rows_to_check = rows_with_pattern(df, \"info\", pattern)\n",
    "pd.concat([df[df[\"name\"] == \"Ahmad Lozi\"], df[df[\"name\"] == \"Liese Prokop\"]])"
   ]
  },
  {
   "cell_type": "markdown",
   "id": "6b086218",
   "metadata": {},
   "source": [
    "#### Observations:\n",
    "- The 4-digit years have been removed.\n",
    "- Our next step is to check for any rows that lack digits and drop them.\n",
    "- We will do this by overwriting the dataframe with only the rows that do contain digits."
   ]
  },
  {
   "cell_type": "markdown",
   "id": "fdc1b411",
   "metadata": {},
   "source": [
    "#### Checking and Dropping Rows Lacking Digits (and therefore Age Data) within `info`"
   ]
  },
  {
   "cell_type": "code",
   "execution_count": 23,
   "id": "bb94bb3a",
   "metadata": {},
   "outputs": [
    {
     "name": "stdout",
     "output_type": "stream",
     "text": [
      "There are 132830 rows with matching pattern in column 'info'.\n",
      "\n",
      "There are 1070 rows without numbers in the info column.\n"
     ]
    },
    {
     "data": {
      "text/plain": [
       "(132830, 7)"
      ]
     },
     "execution_count": 23,
     "metadata": {},
     "output_type": "execute_result"
    },
    {
     "data": {
      "application/javascript": [
       "\n",
       "            setTimeout(function() {\n",
       "                var nbb_cell_id = 23;\n",
       "                var nbb_unformatted_code = \"# Pattern for re\\npattern = r\\\"\\\\d\\\"\\n\\n# Finding indices of rows that have pattern\\nhas_digits = rows_with_pattern(df, \\\"info\\\", pattern)\\nprint(\\n    f\\\"\\\\nThere are {len(df) - len(has_digits)} rows without numbers in the info column.\\\"\\n)\\n\\n# Dropping rows missing age data, resetting index, and checking new shape of df\\ndf = df.loc[has_digits, :]\\ndf.reset_index(inplace=True, drop=True)\\ndf.shape\";\n",
       "                var nbb_formatted_code = \"# Pattern for re\\npattern = r\\\"\\\\d\\\"\\n\\n# Finding indices of rows that have pattern\\nhas_digits = rows_with_pattern(df, \\\"info\\\", pattern)\\nprint(\\n    f\\\"\\\\nThere are {len(df) - len(has_digits)} rows without numbers in the info column.\\\"\\n)\\n\\n# Dropping rows missing age data, resetting index, and checking new shape of df\\ndf = df.loc[has_digits, :]\\ndf.reset_index(inplace=True, drop=True)\\ndf.shape\";\n",
       "                var nbb_cells = Jupyter.notebook.get_cells();\n",
       "                for (var i = 0; i < nbb_cells.length; ++i) {\n",
       "                    if (nbb_cells[i].input_prompt_number == nbb_cell_id) {\n",
       "                        if (nbb_cells[i].get_text() == nbb_unformatted_code) {\n",
       "                             nbb_cells[i].set_text(nbb_formatted_code);\n",
       "                        }\n",
       "                        break;\n",
       "                    }\n",
       "                }\n",
       "            }, 500);\n",
       "            "
      ],
      "text/plain": [
       "<IPython.core.display.Javascript object>"
      ]
     },
     "metadata": {},
     "output_type": "display_data"
    }
   ],
   "source": [
    "# Pattern for re\n",
    "pattern = r\"\\d\"\n",
    "\n",
    "# Finding indices of rows that have pattern\n",
    "has_digits = rows_with_pattern(df, \"info\", pattern)\n",
    "print(\n",
    "    f\"\\nThere are {len(df) - len(has_digits)} rows without numbers in the info column.\"\n",
    ")\n",
    "\n",
    "# Dropping rows missing age data, resetting index, and checking new shape of df\n",
    "df = df.loc[has_digits, :]\n",
    "df.reset_index(inplace=True, drop=True)\n",
    "df.shape"
   ]
  },
  {
   "cell_type": "markdown",
   "id": "e4c8803f",
   "metadata": {},
   "source": [
    "#### Observations:\n",
    "- 1070 rows were removed as they lacked any digits and, therefore, the target data for `age`.\n",
    "- Next, we will extract parentheses and their contents from `info` to a new column `info_parenth`."
   ]
  },
  {
   "cell_type": "markdown",
   "id": "cc839fab",
   "metadata": {},
   "source": [
    "#### Removing Information within Parentheses from `info` and saving to new column `info_parenth`"
   ]
  },
  {
   "cell_type": "code",
   "execution_count": 24,
   "id": "eb91aae7",
   "metadata": {},
   "outputs": [
    {
     "name": "stdout",
     "output_type": "stream",
     "text": [
      "There are 49884 rows with matching pattern in column 'info'.\n"
     ]
    },
    {
     "data": {
      "text/html": [
       "<div>\n",
       "<style scoped>\n",
       "    .dataframe tbody tr th:only-of-type {\n",
       "        vertical-align: middle;\n",
       "    }\n",
       "\n",
       "    .dataframe tbody tr th {\n",
       "        vertical-align: top;\n",
       "    }\n",
       "\n",
       "    .dataframe thead th {\n",
       "        text-align: right;\n",
       "    }\n",
       "</style>\n",
       "<table border=\"1\" class=\"dataframe\">\n",
       "  <thead>\n",
       "    <tr style=\"text-align: right;\">\n",
       "      <th></th>\n",
       "      <th>day</th>\n",
       "      <th>name</th>\n",
       "      <th>info</th>\n",
       "      <th>link</th>\n",
       "      <th>num_references</th>\n",
       "      <th>year</th>\n",
       "      <th>month</th>\n",
       "    </tr>\n",
       "  </thead>\n",
       "  <tbody>\n",
       "    <tr>\n",
       "      <th>76053</th>\n",
       "      <td>11</td>\n",
       "      <td>David Premack</td>\n",
       "      <td>, 89, American psychologist (Premack's principle).</td>\n",
       "      <td>https://en.wikipedia.org/wiki/David_Premack</td>\n",
       "      <td>20</td>\n",
       "      <td>2015</td>\n",
       "      <td>June</td>\n",
       "    </tr>\n",
       "    <tr>\n",
       "      <th>115808</th>\n",
       "      <td>15</td>\n",
       "      <td>P. Vetrivel</td>\n",
       "      <td>, 60, Indian politician, Tamil Nadu MLA (–), septic shock from COVID-19.</td>\n",
       "      <td>https://en.wikipedia.org/wiki/P._Vetrivel</td>\n",
       "      <td>4</td>\n",
       "      <td>2020</td>\n",
       "      <td>October</td>\n",
       "    </tr>\n",
       "  </tbody>\n",
       "</table>\n",
       "</div>"
      ],
      "text/plain": [
       "       day           name  \\\n",
       "76053   11  David Premack   \n",
       "115808  15    P. Vetrivel   \n",
       "\n",
       "                                                                            info  \\\n",
       "76053                         , 89, American psychologist (Premack's principle).   \n",
       "115808  , 60, Indian politician, Tamil Nadu MLA (–), septic shock from COVID-19.   \n",
       "\n",
       "                                               link num_references  year  \\\n",
       "76053   https://en.wikipedia.org/wiki/David_Premack             20  2015   \n",
       "115808    https://en.wikipedia.org/wiki/P._Vetrivel              4  2020   \n",
       "\n",
       "          month  \n",
       "76053      June  \n",
       "115808  October  "
      ]
     },
     "execution_count": 24,
     "metadata": {},
     "output_type": "execute_result"
    },
    {
     "data": {
      "application/javascript": [
       "\n",
       "            setTimeout(function() {\n",
       "                var nbb_cell_id = 24;\n",
       "                var nbb_unformatted_code = \"# Regular expression for parenthesis and its contents\\npattern = r\\\"\\\\(.*\\\\)\\\"\\n\\n# Finding indices of rows that have pattern\\nrows_to_check = rows_with_pattern(df, \\\"info\\\", pattern)\\n\\n# Checking a sample of rows\\ndf.loc[rows_to_check, :].sample(2)\";\n",
       "                var nbb_formatted_code = \"# Regular expression for parenthesis and its contents\\npattern = r\\\"\\\\(.*\\\\)\\\"\\n\\n# Finding indices of rows that have pattern\\nrows_to_check = rows_with_pattern(df, \\\"info\\\", pattern)\\n\\n# Checking a sample of rows\\ndf.loc[rows_to_check, :].sample(2)\";\n",
       "                var nbb_cells = Jupyter.notebook.get_cells();\n",
       "                for (var i = 0; i < nbb_cells.length; ++i) {\n",
       "                    if (nbb_cells[i].input_prompt_number == nbb_cell_id) {\n",
       "                        if (nbb_cells[i].get_text() == nbb_unformatted_code) {\n",
       "                             nbb_cells[i].set_text(nbb_formatted_code);\n",
       "                        }\n",
       "                        break;\n",
       "                    }\n",
       "                }\n",
       "            }, 500);\n",
       "            "
      ],
      "text/plain": [
       "<IPython.core.display.Javascript object>"
      ]
     },
     "metadata": {},
     "output_type": "display_data"
    }
   ],
   "source": [
    "# Regular expression for parenthesis and its contents\n",
    "pattern = r\"\\(.*\\)\"\n",
    "\n",
    "# Finding indices of rows that have pattern\n",
    "rows_to_check = rows_with_pattern(df, \"info\", pattern)\n",
    "\n",
    "# Checking a sample of rows\n",
    "df.loc[rows_to_check, :].sample(2)"
   ]
  },
  {
   "cell_type": "code",
   "execution_count": 25,
   "id": "8e1f3143",
   "metadata": {},
   "outputs": [
    {
     "name": "stdout",
     "output_type": "stream",
     "text": [
      "There are 0 rows with matching pattern in column 'info'.\n"
     ]
    },
    {
     "data": {
      "text/html": [
       "<div>\n",
       "<style scoped>\n",
       "    .dataframe tbody tr th:only-of-type {\n",
       "        vertical-align: middle;\n",
       "    }\n",
       "\n",
       "    .dataframe tbody tr th {\n",
       "        vertical-align: top;\n",
       "    }\n",
       "\n",
       "    .dataframe thead th {\n",
       "        text-align: right;\n",
       "    }\n",
       "</style>\n",
       "<table border=\"1\" class=\"dataframe\">\n",
       "  <thead>\n",
       "    <tr style=\"text-align: right;\">\n",
       "      <th></th>\n",
       "      <th>day</th>\n",
       "      <th>name</th>\n",
       "      <th>info</th>\n",
       "      <th>link</th>\n",
       "      <th>num_references</th>\n",
       "      <th>year</th>\n",
       "      <th>month</th>\n",
       "      <th>info_parenth</th>\n",
       "    </tr>\n",
       "  </thead>\n",
       "  <tbody>\n",
       "    <tr>\n",
       "      <th>76053</th>\n",
       "      <td>11</td>\n",
       "      <td>David Premack</td>\n",
       "      <td>, 89, American psychologist .</td>\n",
       "      <td>https://en.wikipedia.org/wiki/David_Premack</td>\n",
       "      <td>20</td>\n",
       "      <td>2015</td>\n",
       "      <td>June</td>\n",
       "      <td>(Premack's principle)</td>\n",
       "    </tr>\n",
       "    <tr>\n",
       "      <th>115808</th>\n",
       "      <td>15</td>\n",
       "      <td>P. Vetrivel</td>\n",
       "      <td>, 60, Indian politician, Tamil Nadu MLA , septic shock from COVID-19.</td>\n",
       "      <td>https://en.wikipedia.org/wiki/P._Vetrivel</td>\n",
       "      <td>4</td>\n",
       "      <td>2020</td>\n",
       "      <td>October</td>\n",
       "      <td>(–)</td>\n",
       "    </tr>\n",
       "  </tbody>\n",
       "</table>\n",
       "</div>"
      ],
      "text/plain": [
       "       day           name  \\\n",
       "76053   11  David Premack   \n",
       "115808  15    P. Vetrivel   \n",
       "\n",
       "                                                                         info  \\\n",
       "76053                                           , 89, American psychologist .   \n",
       "115808  , 60, Indian politician, Tamil Nadu MLA , septic shock from COVID-19.   \n",
       "\n",
       "                                               link num_references  year  \\\n",
       "76053   https://en.wikipedia.org/wiki/David_Premack             20  2015   \n",
       "115808    https://en.wikipedia.org/wiki/P._Vetrivel              4  2020   \n",
       "\n",
       "          month           info_parenth  \n",
       "76053      June  (Premack's principle)  \n",
       "115808  October                    (–)  "
      ]
     },
     "execution_count": 25,
     "metadata": {},
     "output_type": "execute_result"
    },
    {
     "data": {
      "application/javascript": [
       "\n",
       "            setTimeout(function() {\n",
       "                var nbb_cell_id = 25;\n",
       "                var nbb_unformatted_code = \"# For loop to extract parenthesis and its contents from info to info_parenth\\nfor i, item in enumerate(df[\\\"info\\\"]):\\n    match = re.search(pattern, item)\\n    if match:\\n        df.loc[i, \\\"info_parenth\\\"] = match.group(0)\\n        df.loc[i, \\\"info\\\"] = re.sub(pattern, \\\"\\\", df.loc[i, \\\"info\\\"])\\n\\n# Rechecking number and example rows after treatment\\nrows_to_check = rows_with_pattern(df, \\\"info\\\", pattern)\\npd.concat([df[df[\\\"name\\\"] == \\\"David Premack\\\"], df[df[\\\"name\\\"] == \\\"P. Vetrivel\\\"]])\";\n",
       "                var nbb_formatted_code = \"# For loop to extract parenthesis and its contents from info to info_parenth\\nfor i, item in enumerate(df[\\\"info\\\"]):\\n    match = re.search(pattern, item)\\n    if match:\\n        df.loc[i, \\\"info_parenth\\\"] = match.group(0)\\n        df.loc[i, \\\"info\\\"] = re.sub(pattern, \\\"\\\", df.loc[i, \\\"info\\\"])\\n\\n# Rechecking number and example rows after treatment\\nrows_to_check = rows_with_pattern(df, \\\"info\\\", pattern)\\npd.concat([df[df[\\\"name\\\"] == \\\"David Premack\\\"], df[df[\\\"name\\\"] == \\\"P. Vetrivel\\\"]])\";\n",
       "                var nbb_cells = Jupyter.notebook.get_cells();\n",
       "                for (var i = 0; i < nbb_cells.length; ++i) {\n",
       "                    if (nbb_cells[i].input_prompt_number == nbb_cell_id) {\n",
       "                        if (nbb_cells[i].get_text() == nbb_unformatted_code) {\n",
       "                             nbb_cells[i].set_text(nbb_formatted_code);\n",
       "                        }\n",
       "                        break;\n",
       "                    }\n",
       "                }\n",
       "            }, 500);\n",
       "            "
      ],
      "text/plain": [
       "<IPython.core.display.Javascript object>"
      ]
     },
     "metadata": {},
     "output_type": "display_data"
    }
   ],
   "source": [
    "# For loop to extract parenthesis and its contents from info to info_parenth\n",
    "for i, item in enumerate(df[\"info\"]):\n",
    "    match = re.search(pattern, item)\n",
    "    if match:\n",
    "        df.loc[i, \"info_parenth\"] = match.group(0)\n",
    "        df.loc[i, \"info\"] = re.sub(pattern, \"\", df.loc[i, \"info\"])\n",
    "\n",
    "# Rechecking number and example rows after treatment\n",
    "rows_to_check = rows_with_pattern(df, \"info\", pattern)\n",
    "pd.concat([df[df[\"name\"] == \"David Premack\"], df[df[\"name\"] == \"P. Vetrivel\"]])"
   ]
  },
  {
   "cell_type": "markdown",
   "id": "76b9ca78",
   "metadata": {},
   "source": [
    "#### Observation:\n",
    "- Parentheses and information within has been removed from `info` and assigned to `info_parenth`.\n",
    "- Next, we will iterate through the rows, splitting `info` on commas and assigining the respective list values to new individual columns `info_0`, `info_`, etc.  \n",
    "- Though we can keep in mind the Wikipedia-defined fields, we will take the general approach of treating column by column, after splitting `info`, varying as indicated to obtain specific feature information."
   ]
  },
  {
   "cell_type": "markdown",
   "id": "036b3151",
   "metadata": {},
   "source": [
    "#### Splitting `info` on Commas into Separate Columns"
   ]
  },
  {
   "cell_type": "code",
   "execution_count": 26,
   "id": "1cb83a88",
   "metadata": {},
   "outputs": [
    {
     "data": {
      "text/html": [
       "<div>\n",
       "<style scoped>\n",
       "    .dataframe tbody tr th:only-of-type {\n",
       "        vertical-align: middle;\n",
       "    }\n",
       "\n",
       "    .dataframe tbody tr th {\n",
       "        vertical-align: top;\n",
       "    }\n",
       "\n",
       "    .dataframe thead th {\n",
       "        text-align: right;\n",
       "    }\n",
       "</style>\n",
       "<table border=\"1\" class=\"dataframe\">\n",
       "  <thead>\n",
       "    <tr style=\"text-align: right;\">\n",
       "      <th></th>\n",
       "      <th>day</th>\n",
       "      <th>name</th>\n",
       "      <th>info</th>\n",
       "      <th>link</th>\n",
       "      <th>num_references</th>\n",
       "      <th>year</th>\n",
       "      <th>month</th>\n",
       "      <th>info_parenth</th>\n",
       "      <th>info_0</th>\n",
       "      <th>info_1</th>\n",
       "      <th>info_2</th>\n",
       "      <th>info_3</th>\n",
       "      <th>info_4</th>\n",
       "      <th>info_5</th>\n",
       "      <th>info_6</th>\n",
       "      <th>info_7</th>\n",
       "      <th>info_8</th>\n",
       "      <th>info_9</th>\n",
       "      <th>info_10</th>\n",
       "      <th>info_11</th>\n",
       "    </tr>\n",
       "  </thead>\n",
       "  <tbody>\n",
       "    <tr>\n",
       "      <th>0</th>\n",
       "      <td>1</td>\n",
       "      <td>William Chappell</td>\n",
       "      <td>, 86, British dancer, ballet designer and director.</td>\n",
       "      <td>https://en.wikipedia.org/wiki/William_Chappell_(dancer)</td>\n",
       "      <td>21</td>\n",
       "      <td>1994</td>\n",
       "      <td>January</td>\n",
       "      <td>NaN</td>\n",
       "      <td></td>\n",
       "      <td>86</td>\n",
       "      <td>British dancer</td>\n",
       "      <td>ballet designer and director</td>\n",
       "      <td>NaN</td>\n",
       "      <td>NaN</td>\n",
       "      <td>NaN</td>\n",
       "      <td>NaN</td>\n",
       "      <td>NaN</td>\n",
       "      <td>NaN</td>\n",
       "      <td>NaN</td>\n",
       "      <td>NaN</td>\n",
       "    </tr>\n",
       "    <tr>\n",
       "      <th>1</th>\n",
       "      <td>1</td>\n",
       "      <td>Raymond Crotty</td>\n",
       "      <td>, 68, Irish economist, writer, and academic.</td>\n",
       "      <td>https://en.wikipedia.org/wiki/Raymond_Crotty</td>\n",
       "      <td>12</td>\n",
       "      <td>1994</td>\n",
       "      <td>January</td>\n",
       "      <td>NaN</td>\n",
       "      <td></td>\n",
       "      <td>68</td>\n",
       "      <td>Irish economist</td>\n",
       "      <td>writer</td>\n",
       "      <td>and academic</td>\n",
       "      <td>NaN</td>\n",
       "      <td>NaN</td>\n",
       "      <td>NaN</td>\n",
       "      <td>NaN</td>\n",
       "      <td>NaN</td>\n",
       "      <td>NaN</td>\n",
       "      <td>NaN</td>\n",
       "    </tr>\n",
       "  </tbody>\n",
       "</table>\n",
       "</div>"
      ],
      "text/plain": [
       "  day              name                                                 info  \\\n",
       "0   1  William Chappell  , 86, British dancer, ballet designer and director.   \n",
       "1   1    Raymond Crotty         , 68, Irish economist, writer, and academic.   \n",
       "\n",
       "                                                      link num_references  \\\n",
       "0  https://en.wikipedia.org/wiki/William_Chappell_(dancer)             21   \n",
       "1             https://en.wikipedia.org/wiki/Raymond_Crotty             12   \n",
       "\n",
       "   year    month info_parenth info_0 info_1           info_2  \\\n",
       "0  1994  January          NaN            86   British dancer   \n",
       "1  1994  January          NaN            68  Irish economist   \n",
       "\n",
       "                         info_3        info_4 info_5 info_6 info_7 info_8  \\\n",
       "0  ballet designer and director           NaN    NaN    NaN    NaN    NaN   \n",
       "1                        writer  and academic    NaN    NaN    NaN    NaN   \n",
       "\n",
       "  info_9 info_10 info_11  \n",
       "0    NaN     NaN     NaN  \n",
       "1    NaN     NaN     NaN  "
      ]
     },
     "execution_count": 26,
     "metadata": {},
     "output_type": "execute_result"
    },
    {
     "data": {
      "application/javascript": [
       "\n",
       "            setTimeout(function() {\n",
       "                var nbb_cell_id = 26;\n",
       "                var nbb_unformatted_code = \"# For loop to split info on commas and separate into respective new columns and removing leading/trailing white space and periods\\nfor i, item in enumerate(df[\\\"info\\\"]):\\n    info_lst = item.split(\\\",\\\")\\n\\n    for j in range(len(info_lst)):\\n        df.loc[i, f\\\"info_{j}\\\"] = info_lst[j].strip(\\\" .\\\")\\n\\n# Checking the first 2 rows\\ndf.head(2)\";\n",
       "                var nbb_formatted_code = \"# For loop to split info on commas and separate into respective new columns and removing leading/trailing white space and periods\\nfor i, item in enumerate(df[\\\"info\\\"]):\\n    info_lst = item.split(\\\",\\\")\\n\\n    for j in range(len(info_lst)):\\n        df.loc[i, f\\\"info_{j}\\\"] = info_lst[j].strip(\\\" .\\\")\\n\\n# Checking the first 2 rows\\ndf.head(2)\";\n",
       "                var nbb_cells = Jupyter.notebook.get_cells();\n",
       "                for (var i = 0; i < nbb_cells.length; ++i) {\n",
       "                    if (nbb_cells[i].input_prompt_number == nbb_cell_id) {\n",
       "                        if (nbb_cells[i].get_text() == nbb_unformatted_code) {\n",
       "                             nbb_cells[i].set_text(nbb_formatted_code);\n",
       "                        }\n",
       "                        break;\n",
       "                    }\n",
       "                }\n",
       "            }, 500);\n",
       "            "
      ],
      "text/plain": [
       "<IPython.core.display.Javascript object>"
      ]
     },
     "metadata": {},
     "output_type": "display_data"
    }
   ],
   "source": [
    "# For loop to split info on commas and separate into respective new columns and removing leading/trailing white space and periods\n",
    "for i, item in enumerate(df[\"info\"]):\n",
    "    info_lst = item.split(\",\")\n",
    "\n",
    "    for j in range(len(info_lst)):\n",
    "        df.loc[i, f\"info_{j}\"] = info_lst[j].strip(\" .\")\n",
    "\n",
    "# Checking the first 2 rows\n",
    "df.head(2)"
   ]
  },
  {
   "cell_type": "code",
   "execution_count": 27,
   "id": "6dd3620b",
   "metadata": {},
   "outputs": [
    {
     "data": {
      "text/html": [
       "<div>\n",
       "<style scoped>\n",
       "    .dataframe tbody tr th:only-of-type {\n",
       "        vertical-align: middle;\n",
       "    }\n",
       "\n",
       "    .dataframe tbody tr th {\n",
       "        vertical-align: top;\n",
       "    }\n",
       "\n",
       "    .dataframe thead th {\n",
       "        text-align: right;\n",
       "    }\n",
       "</style>\n",
       "<table border=\"1\" class=\"dataframe\">\n",
       "  <thead>\n",
       "    <tr style=\"text-align: right;\">\n",
       "      <th></th>\n",
       "      <th>day</th>\n",
       "      <th>name</th>\n",
       "      <th>info</th>\n",
       "      <th>link</th>\n",
       "      <th>num_references</th>\n",
       "      <th>year</th>\n",
       "      <th>month</th>\n",
       "      <th>info_parenth</th>\n",
       "      <th>info_0</th>\n",
       "      <th>info_1</th>\n",
       "      <th>info_2</th>\n",
       "      <th>info_3</th>\n",
       "      <th>info_4</th>\n",
       "      <th>info_5</th>\n",
       "      <th>info_6</th>\n",
       "      <th>info_7</th>\n",
       "      <th>info_8</th>\n",
       "      <th>info_9</th>\n",
       "      <th>info_10</th>\n",
       "      <th>info_11</th>\n",
       "    </tr>\n",
       "  </thead>\n",
       "  <tbody>\n",
       "    <tr>\n",
       "      <th>132828</th>\n",
       "      <td>9</td>\n",
       "      <td>Oleg Moliboga</td>\n",
       "      <td>, 69, Russian volleyball player, Olympic champion  and coach.</td>\n",
       "      <td>https://en.wikipedia.org/wiki/Oleg_Moliboga</td>\n",
       "      <td>2</td>\n",
       "      <td>2022</td>\n",
       "      <td>June</td>\n",
       "      <td>()</td>\n",
       "      <td></td>\n",
       "      <td>69</td>\n",
       "      <td>Russian volleyball player</td>\n",
       "      <td>Olympic champion  and coach</td>\n",
       "      <td>NaN</td>\n",
       "      <td>NaN</td>\n",
       "      <td>NaN</td>\n",
       "      <td>NaN</td>\n",
       "      <td>NaN</td>\n",
       "      <td>NaN</td>\n",
       "      <td>NaN</td>\n",
       "      <td>NaN</td>\n",
       "    </tr>\n",
       "    <tr>\n",
       "      <th>132829</th>\n",
       "      <td>9</td>\n",
       "      <td>Zou Jing</td>\n",
       "      <td>, 86, Chinese engineer, member of the Chinese Academy of Engineering.</td>\n",
       "      <td>https://en.wikipedia.org/wiki/Zou_Jing_(engineer)</td>\n",
       "      <td>3</td>\n",
       "      <td>2022</td>\n",
       "      <td>June</td>\n",
       "      <td>NaN</td>\n",
       "      <td></td>\n",
       "      <td>86</td>\n",
       "      <td>Chinese engineer</td>\n",
       "      <td>member of the Chinese Academy of Engineering</td>\n",
       "      <td>NaN</td>\n",
       "      <td>NaN</td>\n",
       "      <td>NaN</td>\n",
       "      <td>NaN</td>\n",
       "      <td>NaN</td>\n",
       "      <td>NaN</td>\n",
       "      <td>NaN</td>\n",
       "      <td>NaN</td>\n",
       "    </tr>\n",
       "  </tbody>\n",
       "</table>\n",
       "</div>"
      ],
      "text/plain": [
       "       day           name  \\\n",
       "132828   9  Oleg Moliboga   \n",
       "132829   9       Zou Jing   \n",
       "\n",
       "                                                                         info  \\\n",
       "132828          , 69, Russian volleyball player, Olympic champion  and coach.   \n",
       "132829  , 86, Chinese engineer, member of the Chinese Academy of Engineering.   \n",
       "\n",
       "                                                     link num_references  \\\n",
       "132828        https://en.wikipedia.org/wiki/Oleg_Moliboga              2   \n",
       "132829  https://en.wikipedia.org/wiki/Zou_Jing_(engineer)              3   \n",
       "\n",
       "        year month info_parenth info_0 info_1                     info_2  \\\n",
       "132828  2022  June           ()            69  Russian volleyball player   \n",
       "132829  2022  June          NaN            86           Chinese engineer   \n",
       "\n",
       "                                              info_3 info_4 info_5 info_6  \\\n",
       "132828                   Olympic champion  and coach    NaN    NaN    NaN   \n",
       "132829  member of the Chinese Academy of Engineering    NaN    NaN    NaN   \n",
       "\n",
       "       info_7 info_8 info_9 info_10 info_11  \n",
       "132828    NaN    NaN    NaN     NaN     NaN  \n",
       "132829    NaN    NaN    NaN     NaN     NaN  "
      ]
     },
     "execution_count": 27,
     "metadata": {},
     "output_type": "execute_result"
    },
    {
     "data": {
      "application/javascript": [
       "\n",
       "            setTimeout(function() {\n",
       "                var nbb_cell_id = 27;\n",
       "                var nbb_unformatted_code = \"# Checking the last 2 rows\\ndf.tail(2)\";\n",
       "                var nbb_formatted_code = \"# Checking the last 2 rows\\ndf.tail(2)\";\n",
       "                var nbb_cells = Jupyter.notebook.get_cells();\n",
       "                for (var i = 0; i < nbb_cells.length; ++i) {\n",
       "                    if (nbb_cells[i].input_prompt_number == nbb_cell_id) {\n",
       "                        if (nbb_cells[i].get_text() == nbb_unformatted_code) {\n",
       "                             nbb_cells[i].set_text(nbb_formatted_code);\n",
       "                        }\n",
       "                        break;\n",
       "                    }\n",
       "                }\n",
       "            }, 500);\n",
       "            "
      ],
      "text/plain": [
       "<IPython.core.display.Javascript object>"
      ]
     },
     "metadata": {},
     "output_type": "display_data"
    }
   ],
   "source": [
    "# Checking the last 2 rows\n",
    "df.tail(2)"
   ]
  },
  {
   "cell_type": "markdown",
   "id": "782b48d0",
   "metadata": {},
   "source": [
    "#### Observations:\n",
    "- The `info` value is successfully divided and we can proceed through it column by column.\n",
    "- We will check the set of values for the first two columns, for age."
   ]
  },
  {
   "cell_type": "markdown",
   "id": "2fcf7d87",
   "metadata": {},
   "source": [
    "### `info_0`"
   ]
  },
  {
   "cell_type": "code",
   "execution_count": null,
   "id": "59ace6ae",
   "metadata": {},
   "outputs": [],
   "source": [
    "# Checking unique value counts\n",
    "df[\"info_0\"].value_counts()"
   ]
  },
  {
   "cell_type": "markdown",
   "id": "753ef185",
   "metadata": {},
   "source": [
    "#### Observations:\n",
    "- The vast majority of rows have an empty string for this field.\n",
    "- There is one row representing a group, rather than an individual, and we will drop it.\n",
    "- We should verify the name and age information for the remainder of unique values in `info_0`."
   ]
  },
  {
   "cell_type": "markdown",
   "id": "58fce724",
   "metadata": {},
   "source": [
    "#### Dropping Entry for Group"
   ]
  },
  {
   "cell_type": "code",
   "execution_count": null,
   "id": "92834b47",
   "metadata": {},
   "outputs": [],
   "source": [
    "# Checking the entry representing a group\n",
    "group_entry = df[\n",
    "    df[\"info_0\"]\n",
    "    == \"Notable ice hockey players and coaches among the 44 killed in the :\\n\"\n",
    "]\n",
    "group_entry"
   ]
  },
  {
   "cell_type": "code",
   "execution_count": null,
   "id": "b3356b2c",
   "metadata": {},
   "outputs": [],
   "source": [
    "# Dropping group entry, resetting index, and checking new shape of df\n",
    "df.drop(group_entry.index, inplace=True)\n",
    "df.reset_index(inplace=True, drop=True)\n",
    "df.shape"
   ]
  },
  {
   "cell_type": "markdown",
   "id": "f3d5810c",
   "metadata": {},
   "source": [
    "#### Examining Rows with Atypical `info_0` Values"
   ]
  },
  {
   "cell_type": "code",
   "execution_count": null,
   "id": "79f235ce",
   "metadata": {
    "scrolled": true
   },
   "outputs": [],
   "source": [
    "# Examining rows with atypical info_0 values\n",
    "list_to_check = df[\"info_0\"].value_counts().index.to_list()\n",
    "\n",
    "verify_df = pd.DataFrame()\n",
    "for item in list_to_check[1:]:\n",
    "    verify_df = pd.concat([verify_df, df[df[\"info_0\"] == item]])\n",
    "verify_df"
   ]
  },
  {
   "cell_type": "markdown",
   "id": "8876e699",
   "metadata": {},
   "source": [
    "#### Observations:\n",
    "- The majority of rows contain additional aliases or titles within `info_0`, that we don't need, but we can leave in place for now.  \n",
    "- There are a few rows that will need to be treated individually to correct the name value, as follows:\n",
    "    1. Entry is for Mike Alexander whose band was Evile.\n",
    "    2. Entry is for Herbert Wiere who performed slapstick.\n",
    "    3. Entry is for Sarah-Jayne Mulvihill who was a Flight Lieutenant.\n",
    "    4. Entry is for Douglass Scott who was killed by Demetreus Nix.\n",
    "    5. Entry is for Kim Hwan-Sung who was a member of the band NRG.\n",
    "- We can replace the `name` value with the `info_0` value for these rows as well as proceed with hard-coding the correct values for info_2 and info_3 fields to match the Wikipedia pattern, but staying true to the information scraped.\n",
    "- The row with \"Nearly 3\" value for `info_0` represents a group, rather than an individual, so will be dropped, after treating the above rows.\n",
    "- We can proceed to extract age from `info_0` for the few rows that contain it here instead of in `info_1`."
   ]
  },
  {
   "cell_type": "markdown",
   "id": "2807ab32",
   "metadata": {},
   "source": [
    "#### Treating 5 rows with Name in `info_0`"
   ]
  },
  {
   "cell_type": "code",
   "execution_count": null,
   "id": "38e03fa3",
   "metadata": {},
   "outputs": [],
   "source": [
    "# List of names values in info_0\n",
    "values_lst = [\n",
    "    \"Mike Alexander\",\n",
    "    \"Herbert Wiere\",\n",
    "    \"Sarah-Jayne Mulvihill\",\n",
    "    \"Douglas Scott\",\n",
    "    \"Kim Hwan-Sung\",\n",
    "]"
   ]
  },
  {
   "cell_type": "code",
   "execution_count": null,
   "id": "3c3b826e",
   "metadata": {},
   "outputs": [],
   "source": [
    "# For loop to copy name from info_0 to name\n",
    "for i in df[df[\"info_0\"].isin(values_lst)].index.to_list():\n",
    "    df.loc[i, \"name\"] = df.loc[i, \"info_0\"]\n",
    "\n",
    "# Hard-coding info_2 and info_3 values for Kim Hwan-Sung\n",
    "index = df[\n",
    "    df[\"link\"] == \"https://en.wikipedia.org/wiki/NRG_(South_Korean_band)\"\n",
    "].index.to_list()\n",
    "df.loc[index, \"info_2\"] = \"South Korean musician\"\n",
    "\n",
    "df.loc[index, \"info_3\"] = \"respiratory illness\"\n",
    "\n",
    "# # Hard-coding info_2 and info_3 values for Douglass Scott\n",
    "index = df[\n",
    "    df[\"link\"]\n",
    "    == \"https://en.wikipedia.org/w/index.php?title=Demetreus_Nix&action=edit&redlink=1\"\n",
    "].index.to_list()\n",
    "df.loc[index, \"info_2\"] = \"student\"\n",
    "\n",
    "df.loc[index, \"info_3\"] = \"murdered\"\n",
    "\n",
    "# # Hard-coding info_2 and info_3 values for Sarah-Jayne Mulvihill\n",
    "index = df[\n",
    "    df[\"link\"] == \"https://en.wikipedia.org/wiki/Flight_Lieutenant\"\n",
    "].index.to_list()\n",
    "df.loc[index, \"info_2\"] = \"British servicewoman\"\n",
    "\n",
    "df.loc[index, \"info_3\"] = \"killed in action\""
   ]
  },
  {
   "cell_type": "code",
   "execution_count": null,
   "id": "0d895994",
   "metadata": {},
   "outputs": [],
   "source": [
    "# Rechecking updated rows\n",
    "df[df[\"info_0\"].isin(values_lst)]"
   ]
  },
  {
   "cell_type": "markdown",
   "id": "16f31c48",
   "metadata": {},
   "source": [
    "#### Dropping Entry for Group"
   ]
  },
  {
   "cell_type": "code",
   "execution_count": null,
   "id": "743821af",
   "metadata": {},
   "outputs": [],
   "source": [
    "# Checking the entry representing a group\n",
    "group_entry = df[df[\"info_0\"] == \"Nearly 3\"]\n",
    "group_entry"
   ]
  },
  {
   "cell_type": "code",
   "execution_count": null,
   "id": "96869bbb",
   "metadata": {},
   "outputs": [],
   "source": [
    "# Dropping group entry, resetting index, and checking new shape of df\n",
    "df.drop(group_entry.index, inplace=True)\n",
    "df.reset_index(inplace=True, drop=True)\n",
    "df.shape"
   ]
  },
  {
   "cell_type": "markdown",
   "id": "b671f0c1",
   "metadata": {},
   "source": [
    "#### Extracting `age` from `info_0`"
   ]
  },
  {
   "cell_type": "code",
   "execution_count": null,
   "id": "a00b24ae",
   "metadata": {},
   "outputs": [],
   "source": [
    "# Pattern for re\n",
    "pattern = r\"(\\d{1,3})\"\n",
    "\n",
    "# Checking rows with pattern\n",
    "rows_to_check = rows_with_pattern(df, \"info_0\", pattern)"
   ]
  },
  {
   "cell_type": "code",
   "execution_count": null,
   "id": "6fea5d8a",
   "metadata": {},
   "outputs": [],
   "source": [
    "# For loop to extract age from info_0 to age\n",
    "for i, item in enumerate(df[\"info_0\"]):\n",
    "    match = re.search(pattern, item)\n",
    "    if match:\n",
    "        df.loc[i, \"age\"] = int(match.group(1))\n",
    "        df.loc[i, \"info_0\"] = re.sub(pattern, \"\", df.loc[i, \"info_0\"])\n",
    "\n",
    "# Re-checking info_0 and age for pattern\n",
    "rows_to_check = rows_with_pattern(df, \"info_0\", pattern)\n",
    "df[df[\"age\"].notna()]"
   ]
  },
  {
   "cell_type": "markdown",
   "id": "7b0cf851",
   "metadata": {},
   "source": [
    "#### Observations:\n",
    "- The new `age` column has been added successfully.\n",
    "- We are finished processing `info_0`."
   ]
  },
  {
   "cell_type": "markdown",
   "id": "0b4f15b5",
   "metadata": {},
   "source": [
    "#### Re-checking Unique Values for `info_0` and Dropping the Column"
   ]
  },
  {
   "cell_type": "code",
   "execution_count": null,
   "id": "3aaebb6a",
   "metadata": {},
   "outputs": [],
   "source": [
    "# Re-checking unique values for info_0 prior to dropping it\n",
    "df[\"info_0\"].unique()"
   ]
  },
  {
   "cell_type": "code",
   "execution_count": null,
   "id": "4b16db8f",
   "metadata": {},
   "outputs": [],
   "source": [
    "# Dropping info_0\n",
    "df.drop(\"info_0\", axis=1, inplace=True)"
   ]
  },
  {
   "cell_type": "markdown",
   "id": "319df002",
   "metadata": {},
   "source": [
    "#### Observations:\n",
    "- We are ready to move on to processing `info_1`, which should primarily consist of age values, per the defined Wikipedia fields."
   ]
  },
  {
   "cell_type": "markdown",
   "id": "193d8b10",
   "metadata": {},
   "source": [
    "### `info_1`"
   ]
  },
  {
   "cell_type": "markdown",
   "id": "96114fd4",
   "metadata": {},
   "source": [
    "#### Unique Values"
   ]
  },
  {
   "cell_type": "code",
   "execution_count": null,
   "id": "fdfbc26a",
   "metadata": {
    "scrolled": false
   },
   "outputs": [],
   "source": [
    "# Checking unique values\n",
    "df[\"info_1\"].unique()"
   ]
  },
  {
   "cell_type": "markdown",
   "id": "7557e0c9",
   "metadata": {},
   "source": [
    "#### Observations:\n",
    "- There is a lot of variety in the format of the age data.\n",
    "- Also, this field contains several values that we would expect in info_2 and beyond.\n",
    "- Let us take the approach of extracting age values first."
   ]
  },
  {
   "cell_type": "markdown",
   "id": "fd5a8f12",
   "metadata": {},
   "source": [
    "#### Examining Unique Formats for Age Data"
   ]
  },
  {
   "cell_type": "code",
   "execution_count": null,
   "id": "b1309be1",
   "metadata": {},
   "outputs": [],
   "source": [
    "# Pattern for re\n",
    "pattern = r\"\\d\"\n",
    "\n",
    "# List and number of rows matching pattern\n",
    "rows_to_check = rows_with_pattern(df, \"info_1\", pattern)\n",
    "\n",
    "# Checking unique values for column\n",
    "df.loc[rows_to_check, :][\"info_1\"].unique()"
   ]
  },
  {
   "cell_type": "markdown",
   "id": "42e9d296",
   "metadata": {},
   "source": [
    "#### Observations:\n",
    "- The data for age within `info_1` is in the following formats:  \n",
    "    - single integer (\"age\", \"age \", \"age.\")\n",
    "    - range of 2 integers (separators '-', '–', '/', and ' or ')\n",
    "    - range of 2 integers with only unit value for second number ('age1/age2-2nd-digit')\n",
    "    - age in days or months ('age days', 'age-months')\n",
    "    - estimates ('c. age', 'c.age',  'age?', 'ages' (e.g. 80s), \"age+\"\n",
    "- There are some specific rows that need to be examined, with the following values for `info_1`:\n",
    "    - 1995\n",
    "    - 1996\n",
    "    - 1997\n",
    "    - German Olympic sailor [1]\n",
    "    - Taiwanese failed assassin in the 3-19 shooting incident\n",
    "    - 255\n",
    "    - 176\n",
    "    - the first wild bear in Germany in 170 years\n",
    "    - c. 3500\n",
    "    - common chimpanzee 55\n",
    "    - Maltese 15\n",
    "    - c.1000\n",
    "    - Tree of the Year 150\n",
    "- We will need to be strategic in the order in which we extract age from `info_1`.\n",
    "- First, we will look at the atypical values listed above."
   ]
  },
  {
   "cell_type": "markdown",
   "id": "362ed9d1",
   "metadata": {},
   "source": [
    "#### Examining Rows with Digits and Atypical Values for `info_2`"
   ]
  },
  {
   "cell_type": "code",
   "execution_count": null,
   "id": "16aeb029",
   "metadata": {
    "scrolled": false
   },
   "outputs": [],
   "source": [
    "# List of atypical info_1 values for rows with digits\n",
    "values_lst = [\n",
    "    \"1995\",\n",
    "    \"1996\",\n",
    "    \"1997\",\n",
    "    \"German Olympic sailor [1]\",\n",
    "    \"Taiwanese failed assassin in the 3-19 shooting incident\",\n",
    "    \"255\",\n",
    "    \"176\",\n",
    "    \"the first wild bear in Germany in 170 years\",\n",
    "    \"c. 3500\",\n",
    "    \"common chimpanzee 55\",\n",
    "    \"Maltese 15\",\n",
    "    \"c.1000\",\n",
    "    \"Tree of the Year 150\",\n",
    "]\n",
    "\n",
    "df[df[\"info_1\"].isin(values_lst)]"
   ]
  },
  {
   "cell_type": "markdown",
   "id": "62ebe146",
   "metadata": {},
   "source": [
    "#### Observations:\n",
    "- Age data is either missing or the entry is for a member of a non-human species.\n",
    "- We will drop all of these rows."
   ]
  },
  {
   "cell_type": "markdown",
   "id": "21a4be90",
   "metadata": {},
   "source": [
    "#### Dropping Rows for Non-Human Entries or Entries Missing Age Data"
   ]
  },
  {
   "cell_type": "code",
   "execution_count": null,
   "id": "065a1b03",
   "metadata": {},
   "outputs": [],
   "source": [
    "# List of indexes to be dropped\n",
    "drop_rows = df[df[\"info_1\"].isin(values_lst)].index.to_list()\n",
    "\n",
    "# Dropping rows, resetting index, and checking new shape of df\n",
    "df.drop(drop_rows, inplace=True)\n",
    "df.reset_index(inplace=True, drop=True)\n",
    "df.shape"
   ]
  },
  {
   "cell_type": "markdown",
   "id": "46fe3ce3",
   "metadata": {},
   "source": [
    "#### Observations:\n",
    "- With those rows addressed, we will begin extracting age in days and months and convert them to years."
   ]
  },
  {
   "cell_type": "markdown",
   "id": "fce96075",
   "metadata": {},
   "source": [
    "### Extracting `age` from `info_1`"
   ]
  },
  {
   "cell_type": "markdown",
   "id": "70f7887e",
   "metadata": {},
   "source": [
    "#### Step 1: Age in Years and Months"
   ]
  },
  {
   "cell_type": "code",
   "execution_count": null,
   "id": "e5e45728",
   "metadata": {},
   "outputs": [],
   "source": [
    "# Dictionary of patterns for days and months formats as keys and factor to convert to years\n",
    "patterns = {\n",
    "    r\"(\\d{1,3})( days)\": 365,\n",
    "    r\"(\\d{1,3})(-months)\": 12,\n",
    "    r\"(\\d{1,3})( months)\": 12,\n",
    "}\n",
    "\n",
    "# List and number of rows matching patterns\n",
    "rows_to_check = multiple_patterns(df, \"info_1\", patterns)"
   ]
  },
  {
   "cell_type": "code",
   "execution_count": null,
   "id": "ddf210f8",
   "metadata": {},
   "outputs": [],
   "source": [
    "# For loop to extract age in days and months fromm info_1 and convert to years and save in age\n",
    "for key, value in patterns.items():\n",
    "    for i, item in enumerate(df[\"info_1\"]):\n",
    "        match = re.search(key, item)\n",
    "        if match:\n",
    "            age = int(match.group(1)) / value\n",
    "            df.loc[i, \"age\"] = age\n",
    "            df.loc[i, \"info_1\"] = re.sub(key, \"\", df.loc[i, \"info_1\"])\n",
    "\n",
    "# Re-check number of rows matching patterns\n",
    "rows_to_check = multiple_patterns(df, \"info_1\", patterns)\n",
    "\n",
    "# Checking updated rows\n",
    "df[df[\"age\"].notna()]"
   ]
  },
  {
   "cell_type": "markdown",
   "id": "b44e7f85",
   "metadata": {},
   "source": [
    "#### Observations:\n",
    "- We have successfully captured the age in days and months values and converted them to years.\n",
    "- The other rows are in place already from our treatment of `info_0`.\n",
    "- Next, we will address entries that contain two age values as a range, starting first with those that have a single digit as the second number."
   ]
  },
  {
   "cell_type": "markdown",
   "id": "42fdf057",
   "metadata": {},
   "source": [
    "#### Step 2: Extracting `age` from `info_1` for Entries with Age Estimate Containing Age Range with 2 Values"
   ]
  },
  {
   "cell_type": "markdown",
   "id": "aa711a2a",
   "metadata": {},
   "source": [
    "#### Ranges with Single Digit as Upper-end"
   ]
  },
  {
   "cell_type": "code",
   "execution_count": null,
   "id": "14b3002f",
   "metadata": {},
   "outputs": [],
   "source": [
    "# Pattern for re\n",
    "pattern = r\"(\\d{1,3})(/)(\\d)\\b\"\n",
    "\n",
    "# List and number of rows matching pattern\n",
    "rows_to_check = rows_with_pattern(df, \"info_1\", pattern)\n",
    "\n",
    "# Checking sample of rows\n",
    "df.loc[rows_to_check, :].sample(2)"
   ]
  },
  {
   "cell_type": "code",
   "execution_count": null,
   "id": "4d66974c",
   "metadata": {},
   "outputs": [],
   "source": [
    "# For loop to find rows with values and pattern and calculate and extract age to age column and remove age from info_1\n",
    "for i in df[df[\"age\"].isna()].index:\n",
    "    item = df.loc[i, \"info_1\"]\n",
    "    match = re.search(pattern, item)\n",
    "    if match:\n",
    "        age_1 = int(match.group(1))\n",
    "        age_2 = int(match.group(3))\n",
    "        units = ((age_1 % 10) + age_2) / 2\n",
    "        tens = age_1 - (age_1 % 10)\n",
    "        age = tens + units\n",
    "        df.loc[i, \"age\"] = age\n",
    "        df.loc[i, \"info_1\"] = re.sub(pattern, \"\", df.loc[i, \"info_1\"])\n",
    "\n",
    "# Checking example rows\n",
    "pd.concat([df[df[\"name\"] == \"Sayed Khalifa\"], df[df[\"name\"] == \"Joji Banuve\"]])"
   ]
  },
  {
   "cell_type": "markdown",
   "id": "f2b65a9e",
   "metadata": {},
   "source": [
    "#### Other Ranges with Two Values"
   ]
  },
  {
   "cell_type": "code",
   "execution_count": null,
   "id": "284160ae",
   "metadata": {},
   "outputs": [],
   "source": [
    "# Pattern for re\n",
    "pattern = r\"(\\d{1,3})(-|–|/| or )(\\d{1,3})\"\n",
    "\n",
    "# List and number of rows matching pattern\n",
    "rows_to_check = rows_with_pattern(df, \"info_1\", pattern)\n",
    "\n",
    "# Checking sample of rows\n",
    "df.loc[rows_to_check, :].sample(2)"
   ]
  },
  {
   "cell_type": "code",
   "execution_count": null,
   "id": "239725d4",
   "metadata": {},
   "outputs": [],
   "source": [
    "# For loop to find rows with values and pattern and calculate and extract age to age column and remove age from info_1\n",
    "for i in df[df[\"age\"].isna()].index:\n",
    "    item = df.loc[i, \"info_1\"]\n",
    "    match = re.search(pattern, item)\n",
    "    if match:\n",
    "        age = (int(match.group(1)) + int(match.group(3))) / 2\n",
    "        df.loc[i, \"age\"] = age\n",
    "        df.loc[i, \"info_1\"] = re.sub(pattern, \"\", df.loc[i, \"info_1\"])\n",
    "\n",
    "# Checking example rows\n",
    "pd.concat(\n",
    "    [df[df[\"name\"] == \"Paulo de Tarso Alvim\"], df[df[\"name\"] == \"Ahmed Al Khattab\"]]\n",
    ")"
   ]
  },
  {
   "cell_type": "markdown",
   "id": "28fef44d",
   "metadata": {},
   "source": [
    "#### Observations:\n",
    "- Next, we will extract from the entries with straightforward single integer age values, including the formats: \"age\", \"age \", 'age.'.\n",
    "- More vague estimates are excluded here to allow closer examination, as they are more likely to by atypical entries."
   ]
  },
  {
   "cell_type": "markdown",
   "id": "921fa764",
   "metadata": {},
   "source": [
    "#### Step 3: Age as Single Integer (Excluding Estimates)"
   ]
  },
  {
   "cell_type": "code",
   "execution_count": null,
   "id": "1ef8c3e8",
   "metadata": {},
   "outputs": [],
   "source": [
    "# List of patterns for age formats with single integer for age\n",
    "patterns = [r\"^(\\d{1,3})$\", r\"^(\\d{1,3})\\s\", r\"^(\\d{1,3})\\.\\s\"]\n",
    "\n",
    "# List and number of rows matching patterns\n",
    "rows_to_check = multiple_patterns(df, \"info_1\", patterns)"
   ]
  },
  {
   "cell_type": "code",
   "execution_count": null,
   "id": "83c7a17f",
   "metadata": {},
   "outputs": [],
   "source": [
    "# For loop to check age pattern in info_1, save age to age column, and remove from age from info_1\n",
    "for i, item in enumerate(df[\"info_1\"]):\n",
    "    for pattern in patterns:\n",
    "        match = re.search(pattern, item)\n",
    "        if match:\n",
    "            age = int(match.group(1))\n",
    "            df.loc[i, \"age\"] = age\n",
    "            df.loc[i, \"info_1\"] = re.sub(pattern, \"\", df.loc[i, \"info_1\"])\n",
    "\n",
    "# Re-checking number of rows matching patterns\n",
    "rows_to_check = multiple_patterns(df, \"info_1\", patterns)\n",
    "\n",
    "# Checking first 2 rows\n",
    "df.head(2)"
   ]
  },
  {
   "cell_type": "code",
   "execution_count": null,
   "id": "b05fc3a1",
   "metadata": {},
   "outputs": [],
   "source": [
    "# Checking last 2 rows\n",
    "df.tail(2)"
   ]
  },
  {
   "cell_type": "code",
   "execution_count": null,
   "id": "fae96f14",
   "metadata": {},
   "outputs": [],
   "source": [
    "# Checking the number of remaining missing values for `age`\n",
    "print(f'There are {df[\"age\"].isna().sum()} remaining missing values for age.')"
   ]
  },
  {
   "cell_type": "markdown",
   "id": "af0bb535",
   "metadata": {},
   "source": [
    "#### Observations:\n",
    "- The rows with single integer age data have been addressed.\n",
    "- There are only 294 remaining missing values for `age` after extracting age in days, months, single integer years, and 2-integer year range values.\n",
    "- Let us check the rows containing 'c.', '+', or '?' in the age information.  We will do the ranges ending in 's', such as 80s, separately."
   ]
  },
  {
   "cell_type": "markdown",
   "id": "1fead163",
   "metadata": {},
   "source": [
    "#### Entries with Age Data Containing 'c.', '+', or '?' for Estimate"
   ]
  },
  {
   "cell_type": "code",
   "execution_count": null,
   "id": "8be0bcc4",
   "metadata": {
    "scrolled": false
   },
   "outputs": [],
   "source": [
    "# Pattern for re\n",
    "pattern = r\"(c\\.|\\+|\\?)\"\n",
    "\n",
    "# List and number of rows matching pattern\n",
    "rows_to_check = rows_with_pattern(df, \"info_1\", pattern)\n",
    "\n",
    "# Inspecting rows containing values\n",
    "df.loc[rows_to_check, :]"
   ]
  },
  {
   "cell_type": "markdown",
   "id": "9028995f",
   "metadata": {},
   "source": [
    "#### Observations:\n",
    "- Most of the entries are for people, but there are also one or more entries for the following:\n",
    "    - carp\n",
    "    - racehorse\n",
    "    - chimpanzee\n",
    "    - flamingo\n",
    "    - cat\n",
    "    - turkey\n",
    "- We will proceed to check `info_2` for these values and drop these and other rows representing members of these other species."
   ]
  },
  {
   "cell_type": "markdown",
   "id": "45339bc5",
   "metadata": {},
   "source": [
    "#### Checking for Cat, Racehorse, Chimpanzee, Carp, and Flamingo in `info_2`"
   ]
  },
  {
   "cell_type": "code",
   "execution_count": null,
   "id": "29a696a6",
   "metadata": {},
   "outputs": [],
   "source": [
    "# pattern for re\n",
    "pattern = r\"\\b(cat|racehorse|chimpanzee|carp|flamingo|turkey)\\b\"\n",
    "\n",
    "# List and number of rows matching pattern\n",
    "rows_to_check = rows_with_pattern(df[df[\"info_2\"].notna()], \"info_2\", pattern)"
   ]
  },
  {
   "cell_type": "markdown",
   "id": "8043ca3d",
   "metadata": {},
   "source": [
    "#### Observations:\n",
    "- There are sufficient rows to warrant checking species by species."
   ]
  },
  {
   "cell_type": "markdown",
   "id": "75af68e4",
   "metadata": {},
   "source": [
    "#### Cat Entries per `info_2`"
   ]
  },
  {
   "cell_type": "code",
   "execution_count": null,
   "id": "fa5ecb12",
   "metadata": {
    "scrolled": false
   },
   "outputs": [],
   "source": [
    "# Pattern for re\n",
    "pattern = r\"\\b(cat)\\b\"\n",
    "\n",
    "# List and number of rows matching pattern\n",
    "rows_to_check = rows_with_pattern(df[df[\"info_2\"].notna()], \"info_2\", pattern)\n",
    "\n",
    "# Inpsecting rows with pattern\n",
    "df.loc[rows_to_check, :]"
   ]
  },
  {
   "cell_type": "markdown",
   "id": "7d92f7c8",
   "metadata": {},
   "source": [
    "#### Observations:\n",
    "- There is one person represented.  \n",
    "- We can proceed to drop the others, using \"cat\", \"cat of\", and \"cat in\" patterns."
   ]
  },
  {
   "cell_type": "markdown",
   "id": "d066dcff",
   "metadata": {},
   "source": [
    "#### Dropping Entries for Cats per `info_2`"
   ]
  },
  {
   "cell_type": "code",
   "execution_count": null,
   "id": "10b09816",
   "metadata": {
    "scrolled": false
   },
   "outputs": [],
   "source": [
    "# List of re patterns to find\n",
    "patterns = [r\"\\bcat$\", r\"\\b(cat of|cat in)\\b\"]\n",
    "\n",
    "# List and number of rows matching pattern\n",
    "rows_to_drop = multiple_patterns(df[df[\"info_2\"].notna()], \"info_2\", patterns)"
   ]
  },
  {
   "cell_type": "code",
   "execution_count": null,
   "id": "cab909e5",
   "metadata": {},
   "outputs": [],
   "source": [
    "# Dropping rows, resetting index, and checking new shape of df\n",
    "df.drop(rows_to_drop, inplace=True)\n",
    "df.reset_index(inplace=True, drop=True)\n",
    "df.shape"
   ]
  },
  {
   "cell_type": "markdown",
   "id": "5bd39a81",
   "metadata": {},
   "source": [
    "####  Racehorse Entries per `info_2`"
   ]
  },
  {
   "cell_type": "code",
   "execution_count": null,
   "id": "fa5fcb09",
   "metadata": {
    "scrolled": false
   },
   "outputs": [],
   "source": [
    "# Pattern for re\n",
    "pattern = r\"\\bracehorse\\b\"\n",
    "\n",
    "# List and number of rows matching pattern\n",
    "rows_to_check = rows_with_pattern(df[df[\"info_2\"].notna()], \"info_2\", pattern)\n",
    "\n",
    "# Inpsecting rows with pattern\n",
    "df.loc[rows_to_check, :].sample(10)"
   ]
  },
  {
   "cell_type": "markdown",
   "id": "18bba372",
   "metadata": {},
   "source": [
    "#### Observations:\n",
    "- There are several entries for people involved in the racehorse business.\n",
    "- Values that end in 'racehorse' and 'racehorse and sire' can be removed."
   ]
  },
  {
   "cell_type": "markdown",
   "id": "6fb3f762",
   "metadata": {},
   "source": [
    "#### Dropping Entries for Racehorses per `info_2`"
   ]
  },
  {
   "cell_type": "code",
   "execution_count": null,
   "id": "6b85122b",
   "metadata": {
    "scrolled": false
   },
   "outputs": [],
   "source": [
    "# List of re patterns to find\n",
    "patterns = [r\"\\bracehorse$\", r\"\\b(racehorse and sire)$\"]\n",
    "\n",
    "# List and number of rows matching pattern\n",
    "rows_to_drop = multiple_patterns(df[df[\"info_2\"].notna()], \"info_2\", patterns)"
   ]
  },
  {
   "cell_type": "code",
   "execution_count": null,
   "id": "e1d45e22",
   "metadata": {},
   "outputs": [],
   "source": [
    "# Dropping rows, resetting index, and checking new shape of df\n",
    "df.drop(rows_to_drop, inplace=True)\n",
    "df.reset_index(inplace=True, drop=True)\n",
    "df.shape"
   ]
  },
  {
   "cell_type": "markdown",
   "id": "bf037fb4",
   "metadata": {},
   "source": [
    "####  Chimpanzee, Flamingo,  Carp, and Turkey Entries per `info_2`"
   ]
  },
  {
   "cell_type": "code",
   "execution_count": null,
   "id": "d1328ae5",
   "metadata": {
    "scrolled": false
   },
   "outputs": [],
   "source": [
    "# Defining pattern for re\n",
    "pattern = r\"\\b(chimpanzee|flamingo|carp|turkey)\\b\"\n",
    "\n",
    "# List and number of rows matching pattern\n",
    "rows_to_check = rows_with_pattern(df[df[\"info_2\"].notna()], \"info_2\", pattern)\n",
    "\n",
    "# Inpsecting rows with pattern\n",
    "df.loc[rows_to_check, :]"
   ]
  },
  {
   "cell_type": "markdown",
   "id": "e01823b3",
   "metadata": {},
   "source": [
    "#### Observations:\n",
    "- All of these rows are for animals, so we will remove them."
   ]
  },
  {
   "cell_type": "markdown",
   "id": "42415803",
   "metadata": {},
   "source": [
    "#### Dropping Entries for Chimpanzees, Flamingos,  Carps, and Turkeys per `info_2`"
   ]
  },
  {
   "cell_type": "code",
   "execution_count": null,
   "id": "676d4edb",
   "metadata": {},
   "outputs": [],
   "source": [
    "# Dropping rows, resetting index, and checking new shape of df\n",
    "df.drop(rows_to_check, inplace=True)\n",
    "df.reset_index(inplace=True, drop=True)\n",
    "df.shape"
   ]
  },
  {
   "cell_type": "markdown",
   "id": "4acffcc7",
   "metadata": {},
   "source": [
    "#### Observations:\n",
    "- With those non-human entries addressed, we can return to processing `info_1`.\n",
    "- Let us address the remaining entries with '?', '+', or 'c.', accepting the estimated age as `age`.\n",
    "- We will treat the age estimates ending in 's' similarly, but separately."
   ]
  },
  {
   "cell_type": "markdown",
   "id": "8d6af216",
   "metadata": {},
   "source": [
    "#### Extracting `age` from `info_1` for Entries with Age Estimate Containing '?', '+', or 'c.'"
   ]
  },
  {
   "cell_type": "code",
   "execution_count": null,
   "id": "3f1d3ecc",
   "metadata": {},
   "outputs": [],
   "source": [
    "# Pattern for re\n",
    "pattern = r\"(c\\.|\\+|\\?)\"\n",
    "\n",
    "# List and number of rows matching pattern\n",
    "rows_to_check = rows_with_pattern(df, \"info_1\", pattern)\n",
    "\n",
    "# Checking a sample of rows\n",
    "df.loc[rows_to_check, :].sample(2)"
   ]
  },
  {
   "cell_type": "code",
   "execution_count": null,
   "id": "a339c6f4",
   "metadata": {},
   "outputs": [],
   "source": [
    "# List to identify rows\n",
    "values = [\"c.\", \"+\", \"?\"]\n",
    "\n",
    "# Pattern for re\n",
    "pattern = r\"\\b(\\d{1,3})\\b\"\n",
    "\n",
    "# For loop to find rows with values and pattern and extract age to age column and remove age from info_1\n",
    "for i in df[df[\"age\"].isna()].index:\n",
    "    item = df.loc[i, \"info_1\"]\n",
    "\n",
    "    if any(value in item for value in values):\n",
    "        match = re.search(pattern, item)\n",
    "\n",
    "        if match:\n",
    "            age = int(match.group(1))\n",
    "            df.loc[i, \"age\"] = age\n",
    "            df.loc[i, \"info_1\"] = re.sub(pattern, \"\", df.loc[i, \"info_1\"])\n",
    "\n",
    "        for value in values:\n",
    "            df.loc[i, \"info_1\"] = df.loc[i, \"info_1\"].replace(value, \"\")\n",
    "\n",
    "\n",
    "# Re-checking number of rows matching pattern\n",
    "rows_to_check = rows_with_pattern(df, \"info_1\", pattern)\n",
    "\n",
    "# Checking example rows\n",
    "pd.concat([df[df[\"name\"] == \"Ataa Oko\"], df[df[\"name\"] == \"Bob Randall\"]])"
   ]
  },
  {
   "cell_type": "markdown",
   "id": "b2a1564a",
   "metadata": {},
   "source": [
    "#### Observations:\n",
    "- Here, we see an example of two people with the same name, but the extraction of `age` from `info_1` was successful.\n",
    "- The ages ending in 's' should be the only ones remaining in the `info_1` column.\n",
    "- We will examine those now."
   ]
  },
  {
   "cell_type": "markdown",
   "id": "f1a2fa8b",
   "metadata": {},
   "source": [
    "#### Extracting `age` from `info_1` for Entries with Age Estimate ending in 's'"
   ]
  },
  {
   "cell_type": "code",
   "execution_count": null,
   "id": "f51c247a",
   "metadata": {},
   "outputs": [],
   "source": [
    "# Defining pattern for re\n",
    "pattern = r\"\\b(\\d{1,3})s\\b\"\n",
    "\n",
    "# List and number of rows matching pattern\n",
    "rows_to_check = rows_with_pattern(df, \"info_1\", pattern)\n",
    "\n",
    "# Inpsecting rows with pattern\n",
    "df.loc[rows_to_check, :]"
   ]
  },
  {
   "cell_type": "markdown",
   "id": "751fe8b4",
   "metadata": {},
   "source": [
    "#### Observations:\n",
    "- They are all for people, so we can extract `age` from `info` and set it to the middle value of the range."
   ]
  },
  {
   "cell_type": "code",
   "execution_count": null,
   "id": "98aca1f2",
   "metadata": {},
   "outputs": [],
   "source": [
    "# For loop to find rows with values and pattern and extract age to age column and remove age from info_1\n",
    "for i in df[df[\"age\"].isna()].index:\n",
    "    item = df.loc[i, \"info_1\"]\n",
    "    match = re.search(pattern, item)\n",
    "    if match:\n",
    "        age = int(match.group(1))\n",
    "        df.loc[i, \"age\"] = age + 5\n",
    "        df.loc[i, \"info_1\"] = re.sub(pattern, \"\", df.loc[i, \"info_1\"])\n",
    "    if \"early \" in item:\n",
    "        df.loc[i, \"info_1\"] = df.loc[i, \"info_1\"].replace(\"early \", \"\")\n",
    "\n",
    "# Re-checking number of rows matching pattern\n",
    "rows_to_check = rows_with_pattern(df, \"info_1\", pattern)\n",
    "\n",
    "# Checking example rows\n",
    "pd.concat([df[df[\"name\"] == \"Mary Dann\"], df[df[\"name\"] == \"Timothy Apiyo\"]])"
   ]
  },
  {
   "cell_type": "markdown",
   "id": "bc426758",
   "metadata": {},
   "source": [
    "### Checking for Any Missed Digits in `info_1` and for Remaining Missing Values for `age`"
   ]
  },
  {
   "cell_type": "code",
   "execution_count": null,
   "id": "c78daa6d",
   "metadata": {},
   "outputs": [],
   "source": [
    "# Pattern for re\n",
    "pattern = r\"\\d\"\n",
    "\n",
    "# Re-checking number of rows matching pattern\n",
    "rows_to_check = rows_with_pattern(df, \"info_1\", pattern)\n",
    "\n",
    "# Checking number of missing values for age\n",
    "print(f'\\nThere are {df[\"age\"].isna().sum()} remaining missing values for age.')"
   ]
  },
  {
   "cell_type": "markdown",
   "id": "d4af1a15",
   "metadata": {},
   "source": [
    "### Observations:\n",
    "- All of the age data that had been in `info_1` has been successfully extracted.\n",
    "- There are 218 remaining missing values for `age` that we hope to find in the other info columns.\n",
    "- We will include the remaining values in `info_1` when we extract citizenship and role information.\n",
    "- It is time to export the current dataframe to a SQLite database."
   ]
  },
  {
   "cell_type": "markdown",
   "id": "76e11174",
   "metadata": {},
   "source": [
    "### Exporting Dataset to SQLite Database [wp_life_expect_clean1.db](https://github.com/teresahanak/wikipedia-life-expectancy/blob/main/wp_life_expect_clean1.db)"
   ]
  },
  {
   "cell_type": "code",
   "execution_count": null,
   "id": "d48e1d40",
   "metadata": {},
   "outputs": [],
   "source": [
    "# Saving complete raw dataset in a SQLite database\n",
    "conn = sql.connect(\"wp_life_expect_clean1.db\")\n",
    "df.to_sql(\"wp_life_expect_clean1\", conn, index=False)"
   ]
  },
  {
   "cell_type": "markdown",
   "id": "921edb5f",
   "metadata": {},
   "source": [
    "# [Proceed to Notebook 3 of  4:  Data Cleaning Part 2](https://github.com/teresahanak/wikipedia-life-expectancy/blob/main/wp_life_expect_data_clean2_thanak_2022_06_17.ipynb)"
   ]
  }
 ],
 "metadata": {
  "kernelspec": {
   "display_name": "Python 3 (ipykernel)",
   "language": "python",
   "name": "python3"
  },
  "language_info": {
   "codemirror_mode": {
    "name": "ipython",
    "version": 3
   },
   "file_extension": ".py",
   "mimetype": "text/x-python",
   "name": "python",
   "nbconvert_exporter": "python",
   "pygments_lexer": "ipython3",
   "version": "3.9.12"
  }
 },
 "nbformat": 4,
 "nbformat_minor": 5
}
