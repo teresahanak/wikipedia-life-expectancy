{
 "cells": [
  {
   "cell_type": "markdown",
   "id": "42f5ac22",
   "metadata": {},
   "source": [
    "# Wikipedia Notable Life Expectancies\n",
    "\n",
    "# [Notebook 2 of 4: Data Cleaning](https://github.com/teresahanak/wikipedia-life-expectancy/blob/main/wp_life_expect_data_clean_thanak_2022_06_13.ipynb)\n",
    "\n",
    "## Context\n",
    "\n",
    "The\n",
    "\n",
    "\n",
    "## Objective\n",
    "\n",
    "The\n",
    "\n",
    "### Data Dictionary\n",
    "\n",
    "- Feature: Description"
   ]
  },
  {
   "cell_type": "markdown",
   "id": "672ff54d",
   "metadata": {},
   "source": [
    "## Importing Necessary Libraries"
   ]
  },
  {
   "cell_type": "code",
   "execution_count": 1,
   "id": "6d142f76",
   "metadata": {},
   "outputs": [
    {
     "data": {
      "application/javascript": [
       "\n",
       "            setTimeout(function() {\n",
       "                var nbb_cell_id = 1;\n",
       "                var nbb_unformatted_code = \"# To structure code automatically\\n%load_ext nb_black\\n\\n# To import/export sqlite databases\\nimport sqlite3 as sql\\n\\n# To help with reading and manipulating data\\nimport pandas as pd\\nimport numpy as np\\nimport re\\n\\n# To define maximum number of columns to be displayed in a dataframe\\npd.set_option(\\\"display.max_columns\\\", None)\\n# To define the maximum number of rows to be displayed in a dataframe\\npd.set_option(\\\"display.max_rows\\\", 200)\\n\\n# To supress scientific notations for a dataframe\\npd.set_option(\\\"display.float_format\\\", lambda x: \\\"%.3f\\\" % x)\\n\\n# To supress warnings\\n# import warnings\\n\\n# warnings.filterwarnings(\\\"ignore\\\")\\n\\n# To set some visualization attributes\\npd.set_option(\\\"max_colwidth\\\", 150)\";\n",
       "                var nbb_formatted_code = \"# To structure code automatically\\n%load_ext nb_black\\n\\n# To import/export sqlite databases\\nimport sqlite3 as sql\\n\\n# To help with reading and manipulating data\\nimport pandas as pd\\nimport numpy as np\\nimport re\\n\\n# To define maximum number of columns to be displayed in a dataframe\\npd.set_option(\\\"display.max_columns\\\", None)\\n# To define the maximum number of rows to be displayed in a dataframe\\npd.set_option(\\\"display.max_rows\\\", 200)\\n\\n# To supress scientific notations for a dataframe\\npd.set_option(\\\"display.float_format\\\", lambda x: \\\"%.3f\\\" % x)\\n\\n# To supress warnings\\n# import warnings\\n\\n# warnings.filterwarnings(\\\"ignore\\\")\\n\\n# To set some visualization attributes\\npd.set_option(\\\"max_colwidth\\\", 150)\";\n",
       "                var nbb_cells = Jupyter.notebook.get_cells();\n",
       "                for (var i = 0; i < nbb_cells.length; ++i) {\n",
       "                    if (nbb_cells[i].input_prompt_number == nbb_cell_id) {\n",
       "                        if (nbb_cells[i].get_text() == nbb_unformatted_code) {\n",
       "                             nbb_cells[i].set_text(nbb_formatted_code);\n",
       "                        }\n",
       "                        break;\n",
       "                    }\n",
       "                }\n",
       "            }, 500);\n",
       "            "
      ],
      "text/plain": [
       "<IPython.core.display.Javascript object>"
      ]
     },
     "metadata": {},
     "output_type": "display_data"
    }
   ],
   "source": [
    "# To structure code automatically\n",
    "%load_ext nb_black\n",
    "\n",
    "# To import/export sqlite databases\n",
    "import sqlite3 as sql\n",
    "\n",
    "# To help with reading and manipulating data\n",
    "import pandas as pd\n",
    "import numpy as np\n",
    "import re\n",
    "\n",
    "# To define maximum number of columns to be displayed in a dataframe\n",
    "pd.set_option(\"display.max_columns\", None)\n",
    "# To define the maximum number of rows to be displayed in a dataframe\n",
    "pd.set_option(\"display.max_rows\", 200)\n",
    "\n",
    "# To supress scientific notations for a dataframe\n",
    "pd.set_option(\"display.float_format\", lambda x: \"%.3f\" % x)\n",
    "\n",
    "# To supress warnings\n",
    "# import warnings\n",
    "\n",
    "# warnings.filterwarnings(\"ignore\")\n",
    "\n",
    "# To set some visualization attributes\n",
    "pd.set_option(\"max_colwidth\", 150)"
   ]
  },
  {
   "cell_type": "markdown",
   "id": "f4094f60",
   "metadata": {},
   "source": [
    "## Data Overview"
   ]
  },
  {
   "cell_type": "markdown",
   "id": "30f4044f",
   "metadata": {},
   "source": [
    "### Reading, Sampling, and Checking Data Shape"
   ]
  },
  {
   "cell_type": "code",
   "execution_count": 2,
   "id": "5df7987c",
   "metadata": {},
   "outputs": [
    {
     "name": "stdout",
     "output_type": "stream",
     "text": [
      "There are 133900 rows and 6 columns.\n"
     ]
    },
    {
     "data": {
      "text/html": [
       "<div>\n",
       "<style scoped>\n",
       "    .dataframe tbody tr th:only-of-type {\n",
       "        vertical-align: middle;\n",
       "    }\n",
       "\n",
       "    .dataframe tbody tr th {\n",
       "        vertical-align: top;\n",
       "    }\n",
       "\n",
       "    .dataframe thead th {\n",
       "        text-align: right;\n",
       "    }\n",
       "</style>\n",
       "<table border=\"1\" class=\"dataframe\">\n",
       "  <thead>\n",
       "    <tr style=\"text-align: right;\">\n",
       "      <th></th>\n",
       "      <th>month_year</th>\n",
       "      <th>day</th>\n",
       "      <th>name</th>\n",
       "      <th>info</th>\n",
       "      <th>link</th>\n",
       "      <th>num_references</th>\n",
       "    </tr>\n",
       "  </thead>\n",
       "  <tbody>\n",
       "    <tr>\n",
       "      <th>0</th>\n",
       "      <td>January 1994</td>\n",
       "      <td>1</td>\n",
       "      <td>William Chappell</td>\n",
       "      <td>, 86, British dancer, ballet designer and director.</td>\n",
       "      <td>https://en.wikipedia.org/wiki/William_Chappell_(dancer)</td>\n",
       "      <td>21</td>\n",
       "    </tr>\n",
       "    <tr>\n",
       "      <th>1</th>\n",
       "      <td>January 1994</td>\n",
       "      <td>1</td>\n",
       "      <td>Raymond Crotty</td>\n",
       "      <td>, 68, Irish economist, writer, and academic.</td>\n",
       "      <td>https://en.wikipedia.org/wiki/Raymond_Crotty</td>\n",
       "      <td>12</td>\n",
       "    </tr>\n",
       "  </tbody>\n",
       "</table>\n",
       "</div>"
      ],
      "text/plain": [
       "     month_year day              name  \\\n",
       "0  January 1994   1  William Chappell   \n",
       "1  January 1994   1    Raymond Crotty   \n",
       "\n",
       "                                                  info  \\\n",
       "0  , 86, British dancer, ballet designer and director.   \n",
       "1         , 68, Irish economist, writer, and academic.   \n",
       "\n",
       "                                                      link num_references  \n",
       "0  https://en.wikipedia.org/wiki/William_Chappell_(dancer)             21  \n",
       "1             https://en.wikipedia.org/wiki/Raymond_Crotty             12  "
      ]
     },
     "execution_count": 2,
     "metadata": {},
     "output_type": "execute_result"
    },
    {
     "data": {
      "application/javascript": [
       "\n",
       "            setTimeout(function() {\n",
       "                var nbb_cell_id = 2;\n",
       "                var nbb_unformatted_code = \"# Reading the wp_life_expect_raw_complete dataset\\nconn = sql.connect(\\\"wp_life_expect_raw_complete.db\\\")\\ndata = pd.read_sql(\\\"SELECT * FROM wp_life_expect_raw_complete\\\", conn)\\n\\n# Making a working copy\\ndf = data.copy()\\n\\n# Checking the shape\\nprint(f\\\"There are {df.shape[0]} rows and {df.shape[1]} columns.\\\")\\n\\n# Checking first 2 rows of the data\\ndf.head(2)\";\n",
       "                var nbb_formatted_code = \"# Reading the wp_life_expect_raw_complete dataset\\nconn = sql.connect(\\\"wp_life_expect_raw_complete.db\\\")\\ndata = pd.read_sql(\\\"SELECT * FROM wp_life_expect_raw_complete\\\", conn)\\n\\n# Making a working copy\\ndf = data.copy()\\n\\n# Checking the shape\\nprint(f\\\"There are {df.shape[0]} rows and {df.shape[1]} columns.\\\")\\n\\n# Checking first 2 rows of the data\\ndf.head(2)\";\n",
       "                var nbb_cells = Jupyter.notebook.get_cells();\n",
       "                for (var i = 0; i < nbb_cells.length; ++i) {\n",
       "                    if (nbb_cells[i].input_prompt_number == nbb_cell_id) {\n",
       "                        if (nbb_cells[i].get_text() == nbb_unformatted_code) {\n",
       "                             nbb_cells[i].set_text(nbb_formatted_code);\n",
       "                        }\n",
       "                        break;\n",
       "                    }\n",
       "                }\n",
       "            }, 500);\n",
       "            "
      ],
      "text/plain": [
       "<IPython.core.display.Javascript object>"
      ]
     },
     "metadata": {},
     "output_type": "display_data"
    }
   ],
   "source": [
    "# Reading the wp_life_expect_raw_complete dataset\n",
    "conn = sql.connect(\"wp_life_expect_raw_complete.db\")\n",
    "data = pd.read_sql(\"SELECT * FROM wp_life_expect_raw_complete\", conn)\n",
    "\n",
    "# Making a working copy\n",
    "df = data.copy()\n",
    "\n",
    "# Checking the shape\n",
    "print(f\"There are {df.shape[0]} rows and {df.shape[1]} columns.\")\n",
    "\n",
    "# Checking first 2 rows of the data\n",
    "df.head(2)"
   ]
  },
  {
   "cell_type": "code",
   "execution_count": 3,
   "id": "39479165",
   "metadata": {},
   "outputs": [
    {
     "data": {
      "text/html": [
       "<div>\n",
       "<style scoped>\n",
       "    .dataframe tbody tr th:only-of-type {\n",
       "        vertical-align: middle;\n",
       "    }\n",
       "\n",
       "    .dataframe tbody tr th {\n",
       "        vertical-align: top;\n",
       "    }\n",
       "\n",
       "    .dataframe thead th {\n",
       "        text-align: right;\n",
       "    }\n",
       "</style>\n",
       "<table border=\"1\" class=\"dataframe\">\n",
       "  <thead>\n",
       "    <tr style=\"text-align: right;\">\n",
       "      <th></th>\n",
       "      <th>month_year</th>\n",
       "      <th>day</th>\n",
       "      <th>name</th>\n",
       "      <th>info</th>\n",
       "      <th>link</th>\n",
       "      <th>num_references</th>\n",
       "    </tr>\n",
       "  </thead>\n",
       "  <tbody>\n",
       "    <tr>\n",
       "      <th>133898</th>\n",
       "      <td>June 2022</td>\n",
       "      <td>9</td>\n",
       "      <td>Oleg Moliboga</td>\n",
       "      <td>, 69, Russian volleyball player, Olympic champion (1980) and coach.</td>\n",
       "      <td>https://en.wikipedia.org/wiki/Oleg_Moliboga</td>\n",
       "      <td>2</td>\n",
       "    </tr>\n",
       "    <tr>\n",
       "      <th>133899</th>\n",
       "      <td>June 2022</td>\n",
       "      <td>9</td>\n",
       "      <td>Zou Jing</td>\n",
       "      <td>, 86, Chinese engineer, member of the Chinese Academy of Engineering.</td>\n",
       "      <td>https://en.wikipedia.org/wiki/Zou_Jing_(engineer)</td>\n",
       "      <td>3</td>\n",
       "    </tr>\n",
       "  </tbody>\n",
       "</table>\n",
       "</div>"
      ],
      "text/plain": [
       "       month_year day           name  \\\n",
       "133898  June 2022   9  Oleg Moliboga   \n",
       "133899  June 2022   9       Zou Jing   \n",
       "\n",
       "                                                                         info  \\\n",
       "133898    , 69, Russian volleyball player, Olympic champion (1980) and coach.   \n",
       "133899  , 86, Chinese engineer, member of the Chinese Academy of Engineering.   \n",
       "\n",
       "                                                     link num_references  \n",
       "133898        https://en.wikipedia.org/wiki/Oleg_Moliboga              2  \n",
       "133899  https://en.wikipedia.org/wiki/Zou_Jing_(engineer)              3  "
      ]
     },
     "execution_count": 3,
     "metadata": {},
     "output_type": "execute_result"
    },
    {
     "data": {
      "application/javascript": [
       "\n",
       "            setTimeout(function() {\n",
       "                var nbb_cell_id = 3;\n",
       "                var nbb_unformatted_code = \"# Checking last 2 rows of the data\\ndf.tail(2)\";\n",
       "                var nbb_formatted_code = \"# Checking last 2 rows of the data\\ndf.tail(2)\";\n",
       "                var nbb_cells = Jupyter.notebook.get_cells();\n",
       "                for (var i = 0; i < nbb_cells.length; ++i) {\n",
       "                    if (nbb_cells[i].input_prompt_number == nbb_cell_id) {\n",
       "                        if (nbb_cells[i].get_text() == nbb_unformatted_code) {\n",
       "                             nbb_cells[i].set_text(nbb_formatted_code);\n",
       "                        }\n",
       "                        break;\n",
       "                    }\n",
       "                }\n",
       "            }, 500);\n",
       "            "
      ],
      "text/plain": [
       "<IPython.core.display.Javascript object>"
      ]
     },
     "metadata": {},
     "output_type": "display_data"
    }
   ],
   "source": [
    "# Checking last 2 rows of the data\n",
    "df.tail(2)"
   ]
  },
  {
   "cell_type": "code",
   "execution_count": 4,
   "id": "0d3fd555",
   "metadata": {},
   "outputs": [
    {
     "data": {
      "text/html": [
       "<div>\n",
       "<style scoped>\n",
       "    .dataframe tbody tr th:only-of-type {\n",
       "        vertical-align: middle;\n",
       "    }\n",
       "\n",
       "    .dataframe tbody tr th {\n",
       "        vertical-align: top;\n",
       "    }\n",
       "\n",
       "    .dataframe thead th {\n",
       "        text-align: right;\n",
       "    }\n",
       "</style>\n",
       "<table border=\"1\" class=\"dataframe\">\n",
       "  <thead>\n",
       "    <tr style=\"text-align: right;\">\n",
       "      <th></th>\n",
       "      <th>month_year</th>\n",
       "      <th>day</th>\n",
       "      <th>name</th>\n",
       "      <th>info</th>\n",
       "      <th>link</th>\n",
       "      <th>num_references</th>\n",
       "    </tr>\n",
       "  </thead>\n",
       "  <tbody>\n",
       "    <tr>\n",
       "      <th>51790</th>\n",
       "      <td>September 2011</td>\n",
       "      <td>21</td>\n",
       "      <td>Michael Julian Drake</td>\n",
       "      <td>, 65, American planetary scientist.</td>\n",
       "      <td>https://en.wikipedia.org/wiki/Michael_Julian_Drake</td>\n",
       "      <td>3</td>\n",
       "    </tr>\n",
       "    <tr>\n",
       "      <th>45576</th>\n",
       "      <td>May 2010</td>\n",
       "      <td>15</td>\n",
       "      <td>Armand Caouette</td>\n",
       "      <td>, 64, Canadian politician, Member of Parliament (1974–1980).</td>\n",
       "      <td>https://en.wikipedia.org/wiki/Armand_Caouette</td>\n",
       "      <td>1</td>\n",
       "    </tr>\n",
       "    <tr>\n",
       "      <th>128276</th>\n",
       "      <td>November 2021</td>\n",
       "      <td>6</td>\n",
       "      <td>Jim Kerray</td>\n",
       "      <td>, 85, Scottish footballer (Raith Rovers, Stirling Albion, St Johnstone).</td>\n",
       "      <td>https://en.wikipedia.org/wiki/Jim_Kerray</td>\n",
       "      <td>4</td>\n",
       "    </tr>\n",
       "    <tr>\n",
       "      <th>14050</th>\n",
       "      <td>July 1999</td>\n",
       "      <td>13</td>\n",
       "      <td>Donald D. Engen</td>\n",
       "      <td>, 75, United States Navy vice admiral, Administrator of the FAA and Director of the National Air and Space Museum.</td>\n",
       "      <td>https://en.wikipedia.org/wiki/Donald_D._Engen</td>\n",
       "      <td>9</td>\n",
       "    </tr>\n",
       "    <tr>\n",
       "      <th>117872</th>\n",
       "      <td>November 2020</td>\n",
       "      <td>28</td>\n",
       "      <td>Sara Leland</td>\n",
       "      <td>, 79, American ballet dancer and New York City Ballet,  principal dancer (1972–1983), congestive heart failure.</td>\n",
       "      <td>https://en.wikipedia.org/wiki/Sara_Leland</td>\n",
       "      <td>9</td>\n",
       "    </tr>\n",
       "  </tbody>\n",
       "</table>\n",
       "</div>"
      ],
      "text/plain": [
       "            month_year day                  name  \\\n",
       "51790   September 2011  21  Michael Julian Drake   \n",
       "45576         May 2010  15       Armand Caouette   \n",
       "128276   November 2021   6            Jim Kerray   \n",
       "14050        July 1999  13       Donald D. Engen   \n",
       "117872   November 2020  28           Sara Leland   \n",
       "\n",
       "                                                                                                                      info  \\\n",
       "51790                                                                                  , 65, American planetary scientist.   \n",
       "45576                                                         , 64, Canadian politician, Member of Parliament (1974–1980).   \n",
       "128276                                            , 85, Scottish footballer (Raith Rovers, Stirling Albion, St Johnstone).   \n",
       "14050   , 75, United States Navy vice admiral, Administrator of the FAA and Director of the National Air and Space Museum.   \n",
       "117872     , 79, American ballet dancer and New York City Ballet,  principal dancer (1972–1983), congestive heart failure.   \n",
       "\n",
       "                                                      link num_references  \n",
       "51790   https://en.wikipedia.org/wiki/Michael_Julian_Drake              3  \n",
       "45576        https://en.wikipedia.org/wiki/Armand_Caouette              1  \n",
       "128276            https://en.wikipedia.org/wiki/Jim_Kerray              4  \n",
       "14050        https://en.wikipedia.org/wiki/Donald_D._Engen              9  \n",
       "117872           https://en.wikipedia.org/wiki/Sara_Leland              9  "
      ]
     },
     "execution_count": 4,
     "metadata": {},
     "output_type": "execute_result"
    },
    {
     "data": {
      "application/javascript": [
       "\n",
       "            setTimeout(function() {\n",
       "                var nbb_cell_id = 4;\n",
       "                var nbb_unformatted_code = \"# Checking a sample of the data\\ndf.sample(5)\";\n",
       "                var nbb_formatted_code = \"# Checking a sample of the data\\ndf.sample(5)\";\n",
       "                var nbb_cells = Jupyter.notebook.get_cells();\n",
       "                for (var i = 0; i < nbb_cells.length; ++i) {\n",
       "                    if (nbb_cells[i].input_prompt_number == nbb_cell_id) {\n",
       "                        if (nbb_cells[i].get_text() == nbb_unformatted_code) {\n",
       "                             nbb_cells[i].set_text(nbb_formatted_code);\n",
       "                        }\n",
       "                        break;\n",
       "                    }\n",
       "                }\n",
       "            }, 500);\n",
       "            "
      ],
      "text/plain": [
       "<IPython.core.display.Javascript object>"
      ]
     },
     "metadata": {},
     "output_type": "display_data"
    }
   ],
   "source": [
    "# Checking a sample of the data\n",
    "df.sample(5)"
   ]
  },
  {
   "cell_type": "markdown",
   "id": "ffdc752e",
   "metadata": {},
   "source": [
    "#### Observations:\n",
    "- There are 133,900 rows and 6 columns.\n",
    "- `month_year` contains the month and year of death, while `day` contains the day of the month of death.\n",
    "- `name` is the notable person's name.  It is a nominal feature that will not be used for analysis, but will be maintained for any referencing needs.\n",
    "- `info` contains multiple items including the notable person's \"age, country of citizenship at birth, subsequent country of citizenship (if applicable), reason for notability, (and) cause of death (if known).\"\n",
    "- `link` is the url to the notable person's individual Wikipedia page.  If such a page does not exist, there is either a non-working link (https://en.wikipedia.orgNone), or the link is to a page with a message that the page does not exist for that individual.  `link` is a unique identifier for all entries, except the 6 with the non-working link, which do have unique `name` values from each other.\n",
    "- `num_references` contains the number of references on the notable person's individual Wikipedia page.  This feature serves as a proxy measure of notability.\n",
    "- Prior to EDA, our task will be to extract the individual elements that are comined in `month_year` and `info` columns."
   ]
  },
  {
   "cell_type": "markdown",
   "id": "1f23c234",
   "metadata": {},
   "source": [
    "### Checking Data Types, Duplicates, and Null Values"
   ]
  },
  {
   "cell_type": "code",
   "execution_count": 5,
   "id": "33f867af",
   "metadata": {},
   "outputs": [
    {
     "name": "stdout",
     "output_type": "stream",
     "text": [
      "<class 'pandas.core.frame.DataFrame'>\n",
      "RangeIndex: 133900 entries, 0 to 133899\n",
      "Data columns (total 6 columns):\n",
      " #   Column          Non-Null Count   Dtype \n",
      "---  ------          --------------   ----- \n",
      " 0   month_year      133900 non-null  object\n",
      " 1   day             133900 non-null  object\n",
      " 2   name            133894 non-null  object\n",
      " 3   info            133900 non-null  object\n",
      " 4   link            133900 non-null  object\n",
      " 5   num_references  133900 non-null  object\n",
      "dtypes: object(6)\n",
      "memory usage: 6.1+ MB\n"
     ]
    },
    {
     "data": {
      "application/javascript": [
       "\n",
       "            setTimeout(function() {\n",
       "                var nbb_cell_id = 5;\n",
       "                var nbb_unformatted_code = \"# Checking data types and null values\\ndf.info()\";\n",
       "                var nbb_formatted_code = \"# Checking data types and null values\\ndf.info()\";\n",
       "                var nbb_cells = Jupyter.notebook.get_cells();\n",
       "                for (var i = 0; i < nbb_cells.length; ++i) {\n",
       "                    if (nbb_cells[i].input_prompt_number == nbb_cell_id) {\n",
       "                        if (nbb_cells[i].get_text() == nbb_unformatted_code) {\n",
       "                             nbb_cells[i].set_text(nbb_formatted_code);\n",
       "                        }\n",
       "                        break;\n",
       "                    }\n",
       "                }\n",
       "            }, 500);\n",
       "            "
      ],
      "text/plain": [
       "<IPython.core.display.Javascript object>"
      ]
     },
     "metadata": {},
     "output_type": "display_data"
    }
   ],
   "source": [
    "# Checking data types and null values\n",
    "df.info()"
   ]
  },
  {
   "cell_type": "code",
   "execution_count": 6,
   "id": "d89156ca",
   "metadata": {},
   "outputs": [
    {
     "data": {
      "text/plain": [
       "0"
      ]
     },
     "execution_count": 6,
     "metadata": {},
     "output_type": "execute_result"
    },
    {
     "data": {
      "application/javascript": [
       "\n",
       "            setTimeout(function() {\n",
       "                var nbb_cell_id = 6;\n",
       "                var nbb_unformatted_code = \"# Checking duplicate rows\\ndf.duplicated().sum()\";\n",
       "                var nbb_formatted_code = \"# Checking duplicate rows\\ndf.duplicated().sum()\";\n",
       "                var nbb_cells = Jupyter.notebook.get_cells();\n",
       "                for (var i = 0; i < nbb_cells.length; ++i) {\n",
       "                    if (nbb_cells[i].input_prompt_number == nbb_cell_id) {\n",
       "                        if (nbb_cells[i].get_text() == nbb_unformatted_code) {\n",
       "                             nbb_cells[i].set_text(nbb_formatted_code);\n",
       "                        }\n",
       "                        break;\n",
       "                    }\n",
       "                }\n",
       "            }, 500);\n",
       "            "
      ],
      "text/plain": [
       "<IPython.core.display.Javascript object>"
      ]
     },
     "metadata": {},
     "output_type": "display_data"
    }
   ],
   "source": [
    "# Checking duplicate rows\n",
    "df.duplicated().sum()"
   ]
  },
  {
   "cell_type": "code",
   "execution_count": 7,
   "id": "c1bd4a65",
   "metadata": {},
   "outputs": [
    {
     "data": {
      "text/plain": [
       "month_year       0.000\n",
       "day              0.000\n",
       "name             0.004\n",
       "info             0.000\n",
       "link             0.000\n",
       "num_references   0.000\n",
       "dtype: float64"
      ]
     },
     "execution_count": 7,
     "metadata": {},
     "output_type": "execute_result"
    },
    {
     "data": {
      "application/javascript": [
       "\n",
       "            setTimeout(function() {\n",
       "                var nbb_cell_id = 7;\n",
       "                var nbb_unformatted_code = \"# Check percentage of null values by column\\ndf.isnull().sum() / df.count() * 100\";\n",
       "                var nbb_formatted_code = \"# Check percentage of null values by column\\ndf.isnull().sum() / df.count() * 100\";\n",
       "                var nbb_cells = Jupyter.notebook.get_cells();\n",
       "                for (var i = 0; i < nbb_cells.length; ++i) {\n",
       "                    if (nbb_cells[i].input_prompt_number == nbb_cell_id) {\n",
       "                        if (nbb_cells[i].get_text() == nbb_unformatted_code) {\n",
       "                             nbb_cells[i].set_text(nbb_formatted_code);\n",
       "                        }\n",
       "                        break;\n",
       "                    }\n",
       "                }\n",
       "            }, 500);\n",
       "            "
      ],
      "text/plain": [
       "<IPython.core.display.Javascript object>"
      ]
     },
     "metadata": {},
     "output_type": "display_data"
    }
   ],
   "source": [
    "# Check percentage of null values by column\n",
    "df.isnull().sum() / df.count() * 100"
   ]
  },
  {
   "cell_type": "code",
   "execution_count": 8,
   "id": "200a4731",
   "metadata": {},
   "outputs": [
    {
     "data": {
      "text/plain": [
       "0    133894\n",
       "1         6\n",
       "dtype: int64"
      ]
     },
     "execution_count": 8,
     "metadata": {},
     "output_type": "execute_result"
    },
    {
     "data": {
      "application/javascript": [
       "\n",
       "            setTimeout(function() {\n",
       "                var nbb_cell_id = 8;\n",
       "                var nbb_unformatted_code = \"# Checking number of missing values per row (not necessary here, but done to keep process standard)\\ndf.isnull().sum(axis=1).value_counts()\";\n",
       "                var nbb_formatted_code = \"# Checking number of missing values per row (not necessary here, but done to keep process standard)\\ndf.isnull().sum(axis=1).value_counts()\";\n",
       "                var nbb_cells = Jupyter.notebook.get_cells();\n",
       "                for (var i = 0; i < nbb_cells.length; ++i) {\n",
       "                    if (nbb_cells[i].input_prompt_number == nbb_cell_id) {\n",
       "                        if (nbb_cells[i].get_text() == nbb_unformatted_code) {\n",
       "                             nbb_cells[i].set_text(nbb_formatted_code);\n",
       "                        }\n",
       "                        break;\n",
       "                    }\n",
       "                }\n",
       "            }, 500);\n",
       "            "
      ],
      "text/plain": [
       "<IPython.core.display.Javascript object>"
      ]
     },
     "metadata": {},
     "output_type": "display_data"
    }
   ],
   "source": [
    "# Checking number of missing values per row (not necessary here, but done to keep process standard)\n",
    "df.isnull().sum(axis=1).value_counts()"
   ]
  },
  {
   "cell_type": "markdown",
   "id": "cbb0c7fe",
   "metadata": {},
   "source": [
    "#### Observations:\n",
    "- Our dataset was saved to and read from the database without any hiccups.\n",
    "- As expected, we have 6 entries that are missing `name`, but we will find it in their `info` values.\n",
    "- All columns are currently of object type.  We will need to appropriately typecast them after separating the information in `month_year` and `info`."
   ]
  },
  {
   "cell_type": "markdown",
   "id": "9f764835",
   "metadata": {},
   "source": [
    "## Data Cleaning"
   ]
  },
  {
   "cell_type": "markdown",
   "id": "6d0539c4",
   "metadata": {},
   "source": [
    "### Addressing Missing `name` Values"
   ]
  },
  {
   "cell_type": "code",
   "execution_count": 9,
   "id": "ab6cc412",
   "metadata": {},
   "outputs": [
    {
     "data": {
      "text/html": [
       "<div>\n",
       "<style scoped>\n",
       "    .dataframe tbody tr th:only-of-type {\n",
       "        vertical-align: middle;\n",
       "    }\n",
       "\n",
       "    .dataframe tbody tr th {\n",
       "        vertical-align: top;\n",
       "    }\n",
       "\n",
       "    .dataframe thead th {\n",
       "        text-align: right;\n",
       "    }\n",
       "</style>\n",
       "<table border=\"1\" class=\"dataframe\">\n",
       "  <thead>\n",
       "    <tr style=\"text-align: right;\">\n",
       "      <th></th>\n",
       "      <th>month_year</th>\n",
       "      <th>day</th>\n",
       "      <th>name</th>\n",
       "      <th>info</th>\n",
       "      <th>link</th>\n",
       "      <th>num_references</th>\n",
       "    </tr>\n",
       "  </thead>\n",
       "  <tbody>\n",
       "    <tr>\n",
       "      <th>18937</th>\n",
       "      <td>August 2001</td>\n",
       "      <td>11</td>\n",
       "      <td>None</td>\n",
       "      <td>Kevin Kowalcyk, 2, known for eating a hamburger contaminated with E. coli O157:H7.</td>\n",
       "      <td>https://en.wikipedia.orgNone</td>\n",
       "      <td>0</td>\n",
       "    </tr>\n",
       "    <tr>\n",
       "      <th>24985</th>\n",
       "      <td>January 2004</td>\n",
       "      <td>22</td>\n",
       "      <td>None</td>\n",
       "      <td>Vincent Palmer, 37, British criminal.</td>\n",
       "      <td>https://en.wikipedia.orgNone</td>\n",
       "      <td>0</td>\n",
       "    </tr>\n",
       "    <tr>\n",
       "      <th>27458</th>\n",
       "      <td>March 2005</td>\n",
       "      <td>1</td>\n",
       "      <td>None</td>\n",
       "      <td>Barry Stigler, 57, American voice actor.</td>\n",
       "      <td>https://en.wikipedia.orgNone</td>\n",
       "      <td>0</td>\n",
       "    </tr>\n",
       "    <tr>\n",
       "      <th>34077</th>\n",
       "      <td>July 2007</td>\n",
       "      <td>11</td>\n",
       "      <td>None</td>\n",
       "      <td>Nana Gualdi, 75, German singer and actress.</td>\n",
       "      <td>https://en.wikipedia.orgNone</td>\n",
       "      <td>0</td>\n",
       "    </tr>\n",
       "    <tr>\n",
       "      <th>64769</th>\n",
       "      <td>September 2013</td>\n",
       "      <td>29</td>\n",
       "      <td>None</td>\n",
       "      <td>Scott Workman, 47, American stuntman (, , ), cancer.</td>\n",
       "      <td>https://en.wikipedia.orgNone</td>\n",
       "      <td>0</td>\n",
       "    </tr>\n",
       "    <tr>\n",
       "      <th>106613</th>\n",
       "      <td>September 2019</td>\n",
       "      <td>12</td>\n",
       "      <td>None</td>\n",
       "      <td>Thami Shobede, 31, Singer Songwriter</td>\n",
       "      <td>https://en.wikipedia.orgNone</td>\n",
       "      <td>0</td>\n",
       "    </tr>\n",
       "  </tbody>\n",
       "</table>\n",
       "</div>"
      ],
      "text/plain": [
       "            month_year day  name  \\\n",
       "18937      August 2001  11  None   \n",
       "24985     January 2004  22  None   \n",
       "27458       March 2005   1  None   \n",
       "34077        July 2007  11  None   \n",
       "64769   September 2013  29  None   \n",
       "106613  September 2019  12  None   \n",
       "\n",
       "                                                                                      info  \\\n",
       "18937   Kevin Kowalcyk, 2, known for eating a hamburger contaminated with E. coli O157:H7.   \n",
       "24985                                                Vincent Palmer, 37, British criminal.   \n",
       "27458                                             Barry Stigler, 57, American voice actor.   \n",
       "34077                                          Nana Gualdi, 75, German singer and actress.   \n",
       "64769                                 Scott Workman, 47, American stuntman (, , ), cancer.   \n",
       "106613                                                Thami Shobede, 31, Singer Songwriter   \n",
       "\n",
       "                                link num_references  \n",
       "18937   https://en.wikipedia.orgNone              0  \n",
       "24985   https://en.wikipedia.orgNone              0  \n",
       "27458   https://en.wikipedia.orgNone              0  \n",
       "34077   https://en.wikipedia.orgNone              0  \n",
       "64769   https://en.wikipedia.orgNone              0  \n",
       "106613  https://en.wikipedia.orgNone              0  "
      ]
     },
     "execution_count": 9,
     "metadata": {},
     "output_type": "execute_result"
    },
    {
     "data": {
      "application/javascript": [
       "\n",
       "            setTimeout(function() {\n",
       "                var nbb_cell_id = 9;\n",
       "                var nbb_unformatted_code = \"# Checking rows with missing name values\\nmissing_name = df[df[\\\"name\\\"].isna()]\\nmissing_name\";\n",
       "                var nbb_formatted_code = \"# Checking rows with missing name values\\nmissing_name = df[df[\\\"name\\\"].isna()]\\nmissing_name\";\n",
       "                var nbb_cells = Jupyter.notebook.get_cells();\n",
       "                for (var i = 0; i < nbb_cells.length; ++i) {\n",
       "                    if (nbb_cells[i].input_prompt_number == nbb_cell_id) {\n",
       "                        if (nbb_cells[i].get_text() == nbb_unformatted_code) {\n",
       "                             nbb_cells[i].set_text(nbb_formatted_code);\n",
       "                        }\n",
       "                        break;\n",
       "                    }\n",
       "                }\n",
       "            }, 500);\n",
       "            "
      ],
      "text/plain": [
       "<IPython.core.display.Javascript object>"
      ]
     },
     "metadata": {},
     "output_type": "display_data"
    }
   ],
   "source": [
    "# Checking rows with missing name values\n",
    "missing_name = df[df[\"name\"].isna()]\n",
    "missing_name"
   ]
  },
  {
   "cell_type": "markdown",
   "id": "7a549f76",
   "metadata": {},
   "source": [
    "#### Observations:\n",
    "- These rows vary from the main set as there is a substring containing the person's name at the start of the `info` string.\n",
    "- As there are so few rows missing `name`, let us address this issue first."
   ]
  },
  {
   "cell_type": "code",
   "execution_count": 10,
   "id": "02fcb44e",
   "metadata": {},
   "outputs": [
    {
     "data": {
      "text/html": [
       "<div>\n",
       "<style scoped>\n",
       "    .dataframe tbody tr th:only-of-type {\n",
       "        vertical-align: middle;\n",
       "    }\n",
       "\n",
       "    .dataframe tbody tr th {\n",
       "        vertical-align: top;\n",
       "    }\n",
       "\n",
       "    .dataframe thead th {\n",
       "        text-align: right;\n",
       "    }\n",
       "</style>\n",
       "<table border=\"1\" class=\"dataframe\">\n",
       "  <thead>\n",
       "    <tr style=\"text-align: right;\">\n",
       "      <th></th>\n",
       "      <th>month_year</th>\n",
       "      <th>day</th>\n",
       "      <th>name</th>\n",
       "      <th>info</th>\n",
       "      <th>link</th>\n",
       "      <th>num_references</th>\n",
       "    </tr>\n",
       "  </thead>\n",
       "  <tbody>\n",
       "    <tr>\n",
       "      <th>18937</th>\n",
       "      <td>August 2001</td>\n",
       "      <td>11</td>\n",
       "      <td>Kevin Kowalcyk</td>\n",
       "      <td>Kevin Kowalcyk, 2, known for eating a hamburger contaminated with E. coli O157:H7.</td>\n",
       "      <td>https://en.wikipedia.orgNone</td>\n",
       "      <td>0</td>\n",
       "    </tr>\n",
       "    <tr>\n",
       "      <th>24985</th>\n",
       "      <td>January 2004</td>\n",
       "      <td>22</td>\n",
       "      <td>Vincent Palmer</td>\n",
       "      <td>Vincent Palmer, 37, British criminal.</td>\n",
       "      <td>https://en.wikipedia.orgNone</td>\n",
       "      <td>0</td>\n",
       "    </tr>\n",
       "    <tr>\n",
       "      <th>27458</th>\n",
       "      <td>March 2005</td>\n",
       "      <td>1</td>\n",
       "      <td>Barry Stigler</td>\n",
       "      <td>Barry Stigler, 57, American voice actor.</td>\n",
       "      <td>https://en.wikipedia.orgNone</td>\n",
       "      <td>0</td>\n",
       "    </tr>\n",
       "    <tr>\n",
       "      <th>34077</th>\n",
       "      <td>July 2007</td>\n",
       "      <td>11</td>\n",
       "      <td>Nana Gualdi</td>\n",
       "      <td>Nana Gualdi, 75, German singer and actress.</td>\n",
       "      <td>https://en.wikipedia.orgNone</td>\n",
       "      <td>0</td>\n",
       "    </tr>\n",
       "    <tr>\n",
       "      <th>64769</th>\n",
       "      <td>September 2013</td>\n",
       "      <td>29</td>\n",
       "      <td>Scott Workman</td>\n",
       "      <td>Scott Workman, 47, American stuntman (, , ), cancer.</td>\n",
       "      <td>https://en.wikipedia.orgNone</td>\n",
       "      <td>0</td>\n",
       "    </tr>\n",
       "    <tr>\n",
       "      <th>106613</th>\n",
       "      <td>September 2019</td>\n",
       "      <td>12</td>\n",
       "      <td>Thami Shobede</td>\n",
       "      <td>Thami Shobede, 31, Singer Songwriter</td>\n",
       "      <td>https://en.wikipedia.orgNone</td>\n",
       "      <td>0</td>\n",
       "    </tr>\n",
       "  </tbody>\n",
       "</table>\n",
       "</div>"
      ],
      "text/plain": [
       "            month_year day            name  \\\n",
       "18937      August 2001  11  Kevin Kowalcyk   \n",
       "24985     January 2004  22  Vincent Palmer   \n",
       "27458       March 2005   1   Barry Stigler   \n",
       "34077        July 2007  11     Nana Gualdi   \n",
       "64769   September 2013  29   Scott Workman   \n",
       "106613  September 2019  12   Thami Shobede   \n",
       "\n",
       "                                                                                      info  \\\n",
       "18937   Kevin Kowalcyk, 2, known for eating a hamburger contaminated with E. coli O157:H7.   \n",
       "24985                                                Vincent Palmer, 37, British criminal.   \n",
       "27458                                             Barry Stigler, 57, American voice actor.   \n",
       "34077                                          Nana Gualdi, 75, German singer and actress.   \n",
       "64769                                 Scott Workman, 47, American stuntman (, , ), cancer.   \n",
       "106613                                                Thami Shobede, 31, Singer Songwriter   \n",
       "\n",
       "                                link num_references  \n",
       "18937   https://en.wikipedia.orgNone              0  \n",
       "24985   https://en.wikipedia.orgNone              0  \n",
       "27458   https://en.wikipedia.orgNone              0  \n",
       "34077   https://en.wikipedia.orgNone              0  \n",
       "64769   https://en.wikipedia.orgNone              0  \n",
       "106613  https://en.wikipedia.orgNone              0  "
      ]
     },
     "execution_count": 10,
     "metadata": {},
     "output_type": "execute_result"
    },
    {
     "data": {
      "application/javascript": [
       "\n",
       "            setTimeout(function() {\n",
       "                var nbb_cell_id = 10;\n",
       "                var nbb_unformatted_code = \"# For loop to copy name value from info column\\ntreat_rows = missing_name.index\\nfor i in treat_rows:\\n    info = df.loc[i, \\\"info\\\"]\\n    info_lst = info.split(sep=\\\",\\\", maxsplit=1)\\n    df.loc[i, \\\"name\\\"] = info_lst[0]\\n\\n# Re-check rows\\ndf.loc[treat_rows, :]\";\n",
       "                var nbb_formatted_code = \"# For loop to copy name value from info column\\ntreat_rows = missing_name.index\\nfor i in treat_rows:\\n    info = df.loc[i, \\\"info\\\"]\\n    info_lst = info.split(sep=\\\",\\\", maxsplit=1)\\n    df.loc[i, \\\"name\\\"] = info_lst[0]\\n\\n# Re-check rows\\ndf.loc[treat_rows, :]\";\n",
       "                var nbb_cells = Jupyter.notebook.get_cells();\n",
       "                for (var i = 0; i < nbb_cells.length; ++i) {\n",
       "                    if (nbb_cells[i].input_prompt_number == nbb_cell_id) {\n",
       "                        if (nbb_cells[i].get_text() == nbb_unformatted_code) {\n",
       "                             nbb_cells[i].set_text(nbb_formatted_code);\n",
       "                        }\n",
       "                        break;\n",
       "                    }\n",
       "                }\n",
       "            }, 500);\n",
       "            "
      ],
      "text/plain": [
       "<IPython.core.display.Javascript object>"
      ]
     },
     "metadata": {},
     "output_type": "display_data"
    }
   ],
   "source": [
    "# For loop to copy name value from info column\n",
    "treat_rows = missing_name.index\n",
    "for i in treat_rows:\n",
    "    info = df.loc[i, \"info\"]\n",
    "    info_lst = info.split(sep=\",\", maxsplit=1)\n",
    "    df.loc[i, \"name\"] = info_lst[0]\n",
    "\n",
    "# Re-check rows\n",
    "df.loc[treat_rows, :]"
   ]
  },
  {
   "cell_type": "markdown",
   "id": "f8a6bac8",
   "metadata": {},
   "source": [
    "#### Observations:\n",
    "- Missing `name` values have been addressed.\n",
    "- The names still appear in the `info` value for these rows, but we can address that as we separate the information in that column."
   ]
  },
  {
   "cell_type": "code",
   "execution_count": 11,
   "id": "efa30810",
   "metadata": {},
   "outputs": [
    {
     "name": "stdout",
     "output_type": "stream",
     "text": [
      "<class 'pandas.core.frame.DataFrame'>\n",
      "RangeIndex: 133900 entries, 0 to 133899\n",
      "Data columns (total 6 columns):\n",
      " #   Column          Non-Null Count   Dtype \n",
      "---  ------          --------------   ----- \n",
      " 0   month_year      133900 non-null  object\n",
      " 1   day             133900 non-null  object\n",
      " 2   name            133900 non-null  object\n",
      " 3   info            133900 non-null  object\n",
      " 4   link            133900 non-null  object\n",
      " 5   num_references  133900 non-null  object\n",
      "dtypes: object(6)\n",
      "memory usage: 6.1+ MB\n"
     ]
    },
    {
     "data": {
      "application/javascript": [
       "\n",
       "            setTimeout(function() {\n",
       "                var nbb_cell_id = 11;\n",
       "                var nbb_unformatted_code = \"# Re-check info\\ndf.info()\";\n",
       "                var nbb_formatted_code = \"# Re-check info\\ndf.info()\";\n",
       "                var nbb_cells = Jupyter.notebook.get_cells();\n",
       "                for (var i = 0; i < nbb_cells.length; ++i) {\n",
       "                    if (nbb_cells[i].input_prompt_number == nbb_cell_id) {\n",
       "                        if (nbb_cells[i].get_text() == nbb_unformatted_code) {\n",
       "                             nbb_cells[i].set_text(nbb_formatted_code);\n",
       "                        }\n",
       "                        break;\n",
       "                    }\n",
       "                }\n",
       "            }, 500);\n",
       "            "
      ],
      "text/plain": [
       "<IPython.core.display.Javascript object>"
      ]
     },
     "metadata": {},
     "output_type": "display_data"
    }
   ],
   "source": [
    "# Re-check info\n",
    "df.info()"
   ]
  },
  {
   "cell_type": "markdown",
   "id": "e7bd5d93",
   "metadata": {},
   "source": [
    "#### Observations:\n",
    "- We have no remaining missing values."
   ]
  },
  {
   "cell_type": "code",
   "execution_count": null,
   "id": "6dba8972",
   "metadata": {},
   "outputs": [],
   "source": []
  }
 ],
 "metadata": {
  "kernelspec": {
   "display_name": "Python 3 (ipykernel)",
   "language": "python",
   "name": "python3"
  },
  "language_info": {
   "codemirror_mode": {
    "name": "ipython",
    "version": 3
   },
   "file_extension": ".py",
   "mimetype": "text/x-python",
   "name": "python",
   "nbconvert_exporter": "python",
   "pygments_lexer": "ipython3",
   "version": "3.9.12"
  }
 },
 "nbformat": 4,
 "nbformat_minor": 5
}
