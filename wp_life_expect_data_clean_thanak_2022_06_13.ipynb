{
 "cells": [
  {
   "cell_type": "markdown",
   "id": "42f5ac22",
   "metadata": {},
   "source": [
    "# Wikipedia Notable Life Expectancies\n",
    "\n",
    "# [Notebook 2 of 4: Data Cleaning](https://github.com/teresahanak/wikipedia-life-expectancy/blob/main/wp_life_expect_data_clean_thanak_2022_06_13.ipynb)\n",
    "\n",
    "## Context\n",
    "\n",
    "The\n",
    "\n",
    "\n",
    "## Objective\n",
    "\n",
    "The\n",
    "\n",
    "### Data Dictionary\n",
    "\n",
    "- Feature: Description"
   ]
  },
  {
   "cell_type": "markdown",
   "id": "672ff54d",
   "metadata": {},
   "source": [
    "## Importing Necessary Libraries"
   ]
  },
  {
   "cell_type": "code",
   "execution_count": 1,
   "id": "6d142f76",
   "metadata": {},
   "outputs": [
    {
     "data": {
      "application/javascript": [
       "\n",
       "            setTimeout(function() {\n",
       "                var nbb_cell_id = 1;\n",
       "                var nbb_unformatted_code = \"# To structure code automatically\\n%load_ext nb_black\\n\\n# To import/export sqlite databases\\nimport sqlite3 as sql\\n\\n# To help with reading and manipulating data\\nimport pandas as pd\\nimport numpy as np\\nimport re\\n\\n# To define maximum number of columns to be displayed in a dataframe\\npd.set_option(\\\"display.max_columns\\\", None)\\n# To define the maximum number of rows to be displayed in a dataframe\\npd.set_option(\\\"display.max_rows\\\", 200)\\n\\n# To supress warnings\\n# import warnings\\n\\n# warnings.filterwarnings(\\\"ignore\\\")\\n\\n# To set some visualization attributes\\npd.set_option(\\\"max_colwidth\\\", 150)\";\n",
       "                var nbb_formatted_code = \"# To structure code automatically\\n%load_ext nb_black\\n\\n# To import/export sqlite databases\\nimport sqlite3 as sql\\n\\n# To help with reading and manipulating data\\nimport pandas as pd\\nimport numpy as np\\nimport re\\n\\n# To define maximum number of columns to be displayed in a dataframe\\npd.set_option(\\\"display.max_columns\\\", None)\\n# To define the maximum number of rows to be displayed in a dataframe\\npd.set_option(\\\"display.max_rows\\\", 200)\\n\\n# To supress warnings\\n# import warnings\\n\\n# warnings.filterwarnings(\\\"ignore\\\")\\n\\n# To set some visualization attributes\\npd.set_option(\\\"max_colwidth\\\", 150)\";\n",
       "                var nbb_cells = Jupyter.notebook.get_cells();\n",
       "                for (var i = 0; i < nbb_cells.length; ++i) {\n",
       "                    if (nbb_cells[i].input_prompt_number == nbb_cell_id) {\n",
       "                        if (nbb_cells[i].get_text() == nbb_unformatted_code) {\n",
       "                             nbb_cells[i].set_text(nbb_formatted_code);\n",
       "                        }\n",
       "                        break;\n",
       "                    }\n",
       "                }\n",
       "            }, 500);\n",
       "            "
      ],
      "text/plain": [
       "<IPython.core.display.Javascript object>"
      ]
     },
     "metadata": {},
     "output_type": "display_data"
    }
   ],
   "source": [
    "# To structure code automatically\n",
    "%load_ext nb_black\n",
    "\n",
    "# To import/export sqlite databases\n",
    "import sqlite3 as sql\n",
    "\n",
    "# To help with reading and manipulating data\n",
    "import pandas as pd\n",
    "import numpy as np\n",
    "import re\n",
    "\n",
    "# To define maximum number of columns to be displayed in a dataframe\n",
    "pd.set_option(\"display.max_columns\", None)\n",
    "# To define the maximum number of rows to be displayed in a dataframe\n",
    "pd.set_option(\"display.max_rows\", 200)\n",
    "\n",
    "# To supress warnings\n",
    "# import warnings\n",
    "\n",
    "# warnings.filterwarnings(\"ignore\")\n",
    "\n",
    "# To set some visualization attributes\n",
    "pd.set_option(\"max_colwidth\", 150)"
   ]
  },
  {
   "cell_type": "markdown",
   "id": "f4094f60",
   "metadata": {},
   "source": [
    "## Data Overview"
   ]
  },
  {
   "cell_type": "markdown",
   "id": "30f4044f",
   "metadata": {},
   "source": [
    "### Reading, Sampling, and Checking Data Shape"
   ]
  },
  {
   "cell_type": "code",
   "execution_count": 2,
   "id": "5df7987c",
   "metadata": {},
   "outputs": [
    {
     "name": "stdout",
     "output_type": "stream",
     "text": [
      "There are 133900 rows and 6 columns.\n"
     ]
    },
    {
     "data": {
      "text/html": [
       "<div>\n",
       "<style scoped>\n",
       "    .dataframe tbody tr th:only-of-type {\n",
       "        vertical-align: middle;\n",
       "    }\n",
       "\n",
       "    .dataframe tbody tr th {\n",
       "        vertical-align: top;\n",
       "    }\n",
       "\n",
       "    .dataframe thead th {\n",
       "        text-align: right;\n",
       "    }\n",
       "</style>\n",
       "<table border=\"1\" class=\"dataframe\">\n",
       "  <thead>\n",
       "    <tr style=\"text-align: right;\">\n",
       "      <th></th>\n",
       "      <th>month_year</th>\n",
       "      <th>day</th>\n",
       "      <th>name</th>\n",
       "      <th>info</th>\n",
       "      <th>link</th>\n",
       "      <th>num_references</th>\n",
       "    </tr>\n",
       "  </thead>\n",
       "  <tbody>\n",
       "    <tr>\n",
       "      <th>0</th>\n",
       "      <td>January 1994</td>\n",
       "      <td>1</td>\n",
       "      <td>William Chappell</td>\n",
       "      <td>, 86, British dancer, ballet designer and director.</td>\n",
       "      <td>https://en.wikipedia.org/wiki/William_Chappell_(dancer)</td>\n",
       "      <td>21</td>\n",
       "    </tr>\n",
       "    <tr>\n",
       "      <th>1</th>\n",
       "      <td>January 1994</td>\n",
       "      <td>1</td>\n",
       "      <td>Raymond Crotty</td>\n",
       "      <td>, 68, Irish economist, writer, and academic.</td>\n",
       "      <td>https://en.wikipedia.org/wiki/Raymond_Crotty</td>\n",
       "      <td>12</td>\n",
       "    </tr>\n",
       "  </tbody>\n",
       "</table>\n",
       "</div>"
      ],
      "text/plain": [
       "     month_year day              name  \\\n",
       "0  January 1994   1  William Chappell   \n",
       "1  January 1994   1    Raymond Crotty   \n",
       "\n",
       "                                                  info  \\\n",
       "0  , 86, British dancer, ballet designer and director.   \n",
       "1         , 68, Irish economist, writer, and academic.   \n",
       "\n",
       "                                                      link num_references  \n",
       "0  https://en.wikipedia.org/wiki/William_Chappell_(dancer)             21  \n",
       "1             https://en.wikipedia.org/wiki/Raymond_Crotty             12  "
      ]
     },
     "execution_count": 2,
     "metadata": {},
     "output_type": "execute_result"
    },
    {
     "data": {
      "application/javascript": [
       "\n",
       "            setTimeout(function() {\n",
       "                var nbb_cell_id = 2;\n",
       "                var nbb_unformatted_code = \"# Reading the wp_life_expect_raw_complete dataset\\nconn = sql.connect(\\\"wp_life_expect_raw_complete.db\\\")\\ndata = pd.read_sql(\\\"SELECT * FROM wp_life_expect_raw_complete\\\", conn)\\n\\n# Making a working copy\\ndf = data.copy()\\n\\n# Checking the shape\\nprint(f\\\"There are {df.shape[0]} rows and {df.shape[1]} columns.\\\")\\n\\n# Checking first 2 rows of the data\\ndf.head(2)\";\n",
       "                var nbb_formatted_code = \"# Reading the wp_life_expect_raw_complete dataset\\nconn = sql.connect(\\\"wp_life_expect_raw_complete.db\\\")\\ndata = pd.read_sql(\\\"SELECT * FROM wp_life_expect_raw_complete\\\", conn)\\n\\n# Making a working copy\\ndf = data.copy()\\n\\n# Checking the shape\\nprint(f\\\"There are {df.shape[0]} rows and {df.shape[1]} columns.\\\")\\n\\n# Checking first 2 rows of the data\\ndf.head(2)\";\n",
       "                var nbb_cells = Jupyter.notebook.get_cells();\n",
       "                for (var i = 0; i < nbb_cells.length; ++i) {\n",
       "                    if (nbb_cells[i].input_prompt_number == nbb_cell_id) {\n",
       "                        if (nbb_cells[i].get_text() == nbb_unformatted_code) {\n",
       "                             nbb_cells[i].set_text(nbb_formatted_code);\n",
       "                        }\n",
       "                        break;\n",
       "                    }\n",
       "                }\n",
       "            }, 500);\n",
       "            "
      ],
      "text/plain": [
       "<IPython.core.display.Javascript object>"
      ]
     },
     "metadata": {},
     "output_type": "display_data"
    }
   ],
   "source": [
    "# Reading the wp_life_expect_raw_complete dataset\n",
    "conn = sql.connect(\"wp_life_expect_raw_complete.db\")\n",
    "data = pd.read_sql(\"SELECT * FROM wp_life_expect_raw_complete\", conn)\n",
    "\n",
    "# Making a working copy\n",
    "df = data.copy()\n",
    "\n",
    "# Checking the shape\n",
    "print(f\"There are {df.shape[0]} rows and {df.shape[1]} columns.\")\n",
    "\n",
    "# Checking first 2 rows of the data\n",
    "df.head(2)"
   ]
  },
  {
   "cell_type": "code",
   "execution_count": 3,
   "id": "39479165",
   "metadata": {},
   "outputs": [
    {
     "data": {
      "text/html": [
       "<div>\n",
       "<style scoped>\n",
       "    .dataframe tbody tr th:only-of-type {\n",
       "        vertical-align: middle;\n",
       "    }\n",
       "\n",
       "    .dataframe tbody tr th {\n",
       "        vertical-align: top;\n",
       "    }\n",
       "\n",
       "    .dataframe thead th {\n",
       "        text-align: right;\n",
       "    }\n",
       "</style>\n",
       "<table border=\"1\" class=\"dataframe\">\n",
       "  <thead>\n",
       "    <tr style=\"text-align: right;\">\n",
       "      <th></th>\n",
       "      <th>month_year</th>\n",
       "      <th>day</th>\n",
       "      <th>name</th>\n",
       "      <th>info</th>\n",
       "      <th>link</th>\n",
       "      <th>num_references</th>\n",
       "    </tr>\n",
       "  </thead>\n",
       "  <tbody>\n",
       "    <tr>\n",
       "      <th>133898</th>\n",
       "      <td>June 2022</td>\n",
       "      <td>9</td>\n",
       "      <td>Oleg Moliboga</td>\n",
       "      <td>, 69, Russian volleyball player, Olympic champion (1980) and coach.</td>\n",
       "      <td>https://en.wikipedia.org/wiki/Oleg_Moliboga</td>\n",
       "      <td>2</td>\n",
       "    </tr>\n",
       "    <tr>\n",
       "      <th>133899</th>\n",
       "      <td>June 2022</td>\n",
       "      <td>9</td>\n",
       "      <td>Zou Jing</td>\n",
       "      <td>, 86, Chinese engineer, member of the Chinese Academy of Engineering.</td>\n",
       "      <td>https://en.wikipedia.org/wiki/Zou_Jing_(engineer)</td>\n",
       "      <td>3</td>\n",
       "    </tr>\n",
       "  </tbody>\n",
       "</table>\n",
       "</div>"
      ],
      "text/plain": [
       "       month_year day           name  \\\n",
       "133898  June 2022   9  Oleg Moliboga   \n",
       "133899  June 2022   9       Zou Jing   \n",
       "\n",
       "                                                                         info  \\\n",
       "133898    , 69, Russian volleyball player, Olympic champion (1980) and coach.   \n",
       "133899  , 86, Chinese engineer, member of the Chinese Academy of Engineering.   \n",
       "\n",
       "                                                     link num_references  \n",
       "133898        https://en.wikipedia.org/wiki/Oleg_Moliboga              2  \n",
       "133899  https://en.wikipedia.org/wiki/Zou_Jing_(engineer)              3  "
      ]
     },
     "execution_count": 3,
     "metadata": {},
     "output_type": "execute_result"
    },
    {
     "data": {
      "application/javascript": [
       "\n",
       "            setTimeout(function() {\n",
       "                var nbb_cell_id = 3;\n",
       "                var nbb_unformatted_code = \"# Checking last 2 rows of the data\\ndf.tail(2)\";\n",
       "                var nbb_formatted_code = \"# Checking last 2 rows of the data\\ndf.tail(2)\";\n",
       "                var nbb_cells = Jupyter.notebook.get_cells();\n",
       "                for (var i = 0; i < nbb_cells.length; ++i) {\n",
       "                    if (nbb_cells[i].input_prompt_number == nbb_cell_id) {\n",
       "                        if (nbb_cells[i].get_text() == nbb_unformatted_code) {\n",
       "                             nbb_cells[i].set_text(nbb_formatted_code);\n",
       "                        }\n",
       "                        break;\n",
       "                    }\n",
       "                }\n",
       "            }, 500);\n",
       "            "
      ],
      "text/plain": [
       "<IPython.core.display.Javascript object>"
      ]
     },
     "metadata": {},
     "output_type": "display_data"
    }
   ],
   "source": [
    "# Checking last 2 rows of the data\n",
    "df.tail(2)"
   ]
  },
  {
   "cell_type": "code",
   "execution_count": 4,
   "id": "0d3fd555",
   "metadata": {},
   "outputs": [
    {
     "data": {
      "text/html": [
       "<div>\n",
       "<style scoped>\n",
       "    .dataframe tbody tr th:only-of-type {\n",
       "        vertical-align: middle;\n",
       "    }\n",
       "\n",
       "    .dataframe tbody tr th {\n",
       "        vertical-align: top;\n",
       "    }\n",
       "\n",
       "    .dataframe thead th {\n",
       "        text-align: right;\n",
       "    }\n",
       "</style>\n",
       "<table border=\"1\" class=\"dataframe\">\n",
       "  <thead>\n",
       "    <tr style=\"text-align: right;\">\n",
       "      <th></th>\n",
       "      <th>month_year</th>\n",
       "      <th>day</th>\n",
       "      <th>name</th>\n",
       "      <th>info</th>\n",
       "      <th>link</th>\n",
       "      <th>num_references</th>\n",
       "    </tr>\n",
       "  </thead>\n",
       "  <tbody>\n",
       "    <tr>\n",
       "      <th>12519</th>\n",
       "      <td>November 1998</td>\n",
       "      <td>6</td>\n",
       "      <td>Niklas Luhmann</td>\n",
       "      <td>, 70, German sociologist and philosopher of social science.</td>\n",
       "      <td>https://en.wikipedia.org/wiki/Niklas_Luhmann</td>\n",
       "      <td>28</td>\n",
       "    </tr>\n",
       "    <tr>\n",
       "      <th>33278</th>\n",
       "      <td>April 2007</td>\n",
       "      <td>3</td>\n",
       "      <td>Thomas Hal Phillips</td>\n",
       "      <td>, 84, American novelist and screenwriter.</td>\n",
       "      <td>https://en.wikipedia.org/wiki/Thomas_Hal_Phillips</td>\n",
       "      <td>12</td>\n",
       "    </tr>\n",
       "    <tr>\n",
       "      <th>69173</th>\n",
       "      <td>May 2014</td>\n",
       "      <td>12</td>\n",
       "      <td>Ruben T. Profugo</td>\n",
       "      <td>, 76, Filipino Roman Catholic prelate, Bishop of Lucena (1982–2003).</td>\n",
       "      <td>https://en.wikipedia.org/wiki/Ruben_T._Profugo</td>\n",
       "      <td>1</td>\n",
       "    </tr>\n",
       "    <tr>\n",
       "      <th>120771</th>\n",
       "      <td>February 2021</td>\n",
       "      <td>19</td>\n",
       "      <td>Joseph Kesenge Wandangakongu</td>\n",
       "      <td>, 92, Congolese Roman Catholic prelate, bishop of Molegbe (1968–1997).</td>\n",
       "      <td>https://en.wikipedia.org/wiki/Joseph_Kesenge_Wandangakongu</td>\n",
       "      <td>1</td>\n",
       "    </tr>\n",
       "    <tr>\n",
       "      <th>124921</th>\n",
       "      <td>July 2021</td>\n",
       "      <td>5</td>\n",
       "      <td>Masood Ashar</td>\n",
       "      <td>, 91, Pakistani writer.</td>\n",
       "      <td>https://en.wikipedia.org/wiki/Masood_Ashar</td>\n",
       "      <td>15</td>\n",
       "    </tr>\n",
       "  </tbody>\n",
       "</table>\n",
       "</div>"
      ],
      "text/plain": [
       "           month_year day                          name  \\\n",
       "12519   November 1998   6                Niklas Luhmann   \n",
       "33278      April 2007   3           Thomas Hal Phillips   \n",
       "69173        May 2014  12              Ruben T. Profugo   \n",
       "120771  February 2021  19  Joseph Kesenge Wandangakongu   \n",
       "124921      July 2021   5                  Masood Ashar   \n",
       "\n",
       "                                                                          info  \\\n",
       "12519              , 70, German sociologist and philosopher of social science.   \n",
       "33278                                , 84, American novelist and screenwriter.   \n",
       "69173     , 76, Filipino Roman Catholic prelate, Bishop of Lucena (1982–2003).   \n",
       "120771  , 92, Congolese Roman Catholic prelate, bishop of Molegbe (1968–1997).   \n",
       "124921                                                 , 91, Pakistani writer.   \n",
       "\n",
       "                                                              link  \\\n",
       "12519                 https://en.wikipedia.org/wiki/Niklas_Luhmann   \n",
       "33278            https://en.wikipedia.org/wiki/Thomas_Hal_Phillips   \n",
       "69173               https://en.wikipedia.org/wiki/Ruben_T._Profugo   \n",
       "120771  https://en.wikipedia.org/wiki/Joseph_Kesenge_Wandangakongu   \n",
       "124921                  https://en.wikipedia.org/wiki/Masood_Ashar   \n",
       "\n",
       "       num_references  \n",
       "12519              28  \n",
       "33278              12  \n",
       "69173               1  \n",
       "120771              1  \n",
       "124921             15  "
      ]
     },
     "execution_count": 4,
     "metadata": {},
     "output_type": "execute_result"
    },
    {
     "data": {
      "application/javascript": [
       "\n",
       "            setTimeout(function() {\n",
       "                var nbb_cell_id = 4;\n",
       "                var nbb_unformatted_code = \"# Checking a sample of the data\\ndf.sample(5)\";\n",
       "                var nbb_formatted_code = \"# Checking a sample of the data\\ndf.sample(5)\";\n",
       "                var nbb_cells = Jupyter.notebook.get_cells();\n",
       "                for (var i = 0; i < nbb_cells.length; ++i) {\n",
       "                    if (nbb_cells[i].input_prompt_number == nbb_cell_id) {\n",
       "                        if (nbb_cells[i].get_text() == nbb_unformatted_code) {\n",
       "                             nbb_cells[i].set_text(nbb_formatted_code);\n",
       "                        }\n",
       "                        break;\n",
       "                    }\n",
       "                }\n",
       "            }, 500);\n",
       "            "
      ],
      "text/plain": [
       "<IPython.core.display.Javascript object>"
      ]
     },
     "metadata": {},
     "output_type": "display_data"
    }
   ],
   "source": [
    "# Checking a sample of the data\n",
    "df.sample(5)"
   ]
  },
  {
   "cell_type": "markdown",
   "id": "ffdc752e",
   "metadata": {},
   "source": [
    "#### Observations:\n",
    "- There are 133,900 rows and 6 columns.\n",
    "- `month_year` contains the month and year of death, while `day` contains the day of the month of death.\n",
    "- `name` is the notable person's name.  It is a nominal feature that will not be used for analysis, but will be maintained for any referencing needs.\n",
    "- `info` contains multiple items including the notable person's \"age, country of citizenship at birth, subsequent country of citizenship (if applicable), reason for notability, (and) cause of death (if known).\"\n",
    "- `link` is the url to the notable person's individual Wikipedia page.  If such a page does not exist, there is either a non-working link (https://en.wikipedia.orgNone), or the link is to a page with a message that the page does not exist for that individual.  `link` is a unique identifier for all entries, except the 6 with the non-working link, which do have unique `name` values from each other.\n",
    "- `num_references` contains the number of references on the notable person's individual Wikipedia page.  This feature serves as a proxy measure of notability.\n",
    "- Prior to EDA, our task will be to extract the individual elements that are comined in `month_year` and `info` columns."
   ]
  },
  {
   "cell_type": "markdown",
   "id": "99088219",
   "metadata": {},
   "source": [
    "### Checking Data Types, Duplicates, and Null Values"
   ]
  },
  {
   "cell_type": "code",
   "execution_count": 5,
   "id": "7c6c2786",
   "metadata": {},
   "outputs": [
    {
     "name": "stdout",
     "output_type": "stream",
     "text": [
      "<class 'pandas.core.frame.DataFrame'>\n",
      "RangeIndex: 133900 entries, 0 to 133899\n",
      "Data columns (total 6 columns):\n",
      " #   Column          Non-Null Count   Dtype \n",
      "---  ------          --------------   ----- \n",
      " 0   month_year      133900 non-null  object\n",
      " 1   day             133900 non-null  object\n",
      " 2   name            133894 non-null  object\n",
      " 3   info            133900 non-null  object\n",
      " 4   link            133900 non-null  object\n",
      " 5   num_references  133900 non-null  object\n",
      "dtypes: object(6)\n",
      "memory usage: 6.1+ MB\n"
     ]
    },
    {
     "data": {
      "application/javascript": [
       "\n",
       "            setTimeout(function() {\n",
       "                var nbb_cell_id = 5;\n",
       "                var nbb_unformatted_code = \"# Checking data types and null values\\ndf.info()\";\n",
       "                var nbb_formatted_code = \"# Checking data types and null values\\ndf.info()\";\n",
       "                var nbb_cells = Jupyter.notebook.get_cells();\n",
       "                for (var i = 0; i < nbb_cells.length; ++i) {\n",
       "                    if (nbb_cells[i].input_prompt_number == nbb_cell_id) {\n",
       "                        if (nbb_cells[i].get_text() == nbb_unformatted_code) {\n",
       "                             nbb_cells[i].set_text(nbb_formatted_code);\n",
       "                        }\n",
       "                        break;\n",
       "                    }\n",
       "                }\n",
       "            }, 500);\n",
       "            "
      ],
      "text/plain": [
       "<IPython.core.display.Javascript object>"
      ]
     },
     "metadata": {},
     "output_type": "display_data"
    }
   ],
   "source": [
    "# Checking data types and null values\n",
    "df.info()"
   ]
  },
  {
   "cell_type": "code",
   "execution_count": 6,
   "id": "d7d0d148",
   "metadata": {},
   "outputs": [
    {
     "data": {
      "text/plain": [
       "0"
      ]
     },
     "execution_count": 6,
     "metadata": {},
     "output_type": "execute_result"
    },
    {
     "data": {
      "application/javascript": [
       "\n",
       "            setTimeout(function() {\n",
       "                var nbb_cell_id = 6;\n",
       "                var nbb_unformatted_code = \"# Checking duplicate rows\\ndf.duplicated().sum()\";\n",
       "                var nbb_formatted_code = \"# Checking duplicate rows\\ndf.duplicated().sum()\";\n",
       "                var nbb_cells = Jupyter.notebook.get_cells();\n",
       "                for (var i = 0; i < nbb_cells.length; ++i) {\n",
       "                    if (nbb_cells[i].input_prompt_number == nbb_cell_id) {\n",
       "                        if (nbb_cells[i].get_text() == nbb_unformatted_code) {\n",
       "                             nbb_cells[i].set_text(nbb_formatted_code);\n",
       "                        }\n",
       "                        break;\n",
       "                    }\n",
       "                }\n",
       "            }, 500);\n",
       "            "
      ],
      "text/plain": [
       "<IPython.core.display.Javascript object>"
      ]
     },
     "metadata": {},
     "output_type": "display_data"
    }
   ],
   "source": [
    "# Checking duplicate rows\n",
    "df.duplicated().sum()"
   ]
  },
  {
   "cell_type": "code",
   "execution_count": 7,
   "id": "8319e43a",
   "metadata": {},
   "outputs": [
    {
     "data": {
      "text/plain": [
       "month_year        0.000000\n",
       "day               0.000000\n",
       "name              0.004481\n",
       "info              0.000000\n",
       "link              0.000000\n",
       "num_references    0.000000\n",
       "dtype: float64"
      ]
     },
     "execution_count": 7,
     "metadata": {},
     "output_type": "execute_result"
    },
    {
     "data": {
      "application/javascript": [
       "\n",
       "            setTimeout(function() {\n",
       "                var nbb_cell_id = 7;\n",
       "                var nbb_unformatted_code = \"# Check percentage of null values by column\\ndf.isnull().sum() / df.count() * 100\";\n",
       "                var nbb_formatted_code = \"# Check percentage of null values by column\\ndf.isnull().sum() / df.count() * 100\";\n",
       "                var nbb_cells = Jupyter.notebook.get_cells();\n",
       "                for (var i = 0; i < nbb_cells.length; ++i) {\n",
       "                    if (nbb_cells[i].input_prompt_number == nbb_cell_id) {\n",
       "                        if (nbb_cells[i].get_text() == nbb_unformatted_code) {\n",
       "                             nbb_cells[i].set_text(nbb_formatted_code);\n",
       "                        }\n",
       "                        break;\n",
       "                    }\n",
       "                }\n",
       "            }, 500);\n",
       "            "
      ],
      "text/plain": [
       "<IPython.core.display.Javascript object>"
      ]
     },
     "metadata": {},
     "output_type": "display_data"
    }
   ],
   "source": [
    "# Check percentage of null values by column\n",
    "df.isnull().sum() / df.count() * 100"
   ]
  },
  {
   "cell_type": "code",
   "execution_count": 8,
   "id": "067bf523",
   "metadata": {},
   "outputs": [
    {
     "data": {
      "text/plain": [
       "0    133894\n",
       "1         6\n",
       "dtype: int64"
      ]
     },
     "execution_count": 8,
     "metadata": {},
     "output_type": "execute_result"
    },
    {
     "data": {
      "application/javascript": [
       "\n",
       "            setTimeout(function() {\n",
       "                var nbb_cell_id = 8;\n",
       "                var nbb_unformatted_code = \"# Checking number of missing values per row (not necessary here, but done to keep process standard)\\ndf.isnull().sum(axis=1).value_counts()\";\n",
       "                var nbb_formatted_code = \"# Checking number of missing values per row (not necessary here, but done to keep process standard)\\ndf.isnull().sum(axis=1).value_counts()\";\n",
       "                var nbb_cells = Jupyter.notebook.get_cells();\n",
       "                for (var i = 0; i < nbb_cells.length; ++i) {\n",
       "                    if (nbb_cells[i].input_prompt_number == nbb_cell_id) {\n",
       "                        if (nbb_cells[i].get_text() == nbb_unformatted_code) {\n",
       "                             nbb_cells[i].set_text(nbb_formatted_code);\n",
       "                        }\n",
       "                        break;\n",
       "                    }\n",
       "                }\n",
       "            }, 500);\n",
       "            "
      ],
      "text/plain": [
       "<IPython.core.display.Javascript object>"
      ]
     },
     "metadata": {},
     "output_type": "display_data"
    }
   ],
   "source": [
    "# Checking number of missing values per row (not necessary here, but done to keep process standard)\n",
    "df.isnull().sum(axis=1).value_counts()"
   ]
  },
  {
   "cell_type": "markdown",
   "id": "f29c9f56",
   "metadata": {},
   "source": [
    "#### Observations:\n",
    "- Our dataset was saved to and read from the database without any hiccups.\n",
    "- As expected, we have 6 entries that are missing `name`, but we will find it in their `info` values.\n",
    "- All columns are currently of object type.  We will need to appropriately typecast them after separating the information in `month_year` and `info`."
   ]
  },
  {
   "cell_type": "markdown",
   "id": "a6617dd7",
   "metadata": {},
   "source": [
    "## Data Cleaning"
   ]
  },
  {
   "cell_type": "markdown",
   "id": "e8a26f3b",
   "metadata": {},
   "source": [
    "### Addressing Missing `name` Values"
   ]
  },
  {
   "cell_type": "code",
   "execution_count": 9,
   "id": "631fee06",
   "metadata": {},
   "outputs": [
    {
     "data": {
      "text/html": [
       "<div>\n",
       "<style scoped>\n",
       "    .dataframe tbody tr th:only-of-type {\n",
       "        vertical-align: middle;\n",
       "    }\n",
       "\n",
       "    .dataframe tbody tr th {\n",
       "        vertical-align: top;\n",
       "    }\n",
       "\n",
       "    .dataframe thead th {\n",
       "        text-align: right;\n",
       "    }\n",
       "</style>\n",
       "<table border=\"1\" class=\"dataframe\">\n",
       "  <thead>\n",
       "    <tr style=\"text-align: right;\">\n",
       "      <th></th>\n",
       "      <th>month_year</th>\n",
       "      <th>day</th>\n",
       "      <th>name</th>\n",
       "      <th>info</th>\n",
       "      <th>link</th>\n",
       "      <th>num_references</th>\n",
       "    </tr>\n",
       "  </thead>\n",
       "  <tbody>\n",
       "    <tr>\n",
       "      <th>18937</th>\n",
       "      <td>August 2001</td>\n",
       "      <td>11</td>\n",
       "      <td>None</td>\n",
       "      <td>Kevin Kowalcyk, 2, known for eating a hamburger contaminated with E. coli O157:H7.</td>\n",
       "      <td>https://en.wikipedia.orgNone</td>\n",
       "      <td>0</td>\n",
       "    </tr>\n",
       "    <tr>\n",
       "      <th>24985</th>\n",
       "      <td>January 2004</td>\n",
       "      <td>22</td>\n",
       "      <td>None</td>\n",
       "      <td>Vincent Palmer, 37, British criminal.</td>\n",
       "      <td>https://en.wikipedia.orgNone</td>\n",
       "      <td>0</td>\n",
       "    </tr>\n",
       "    <tr>\n",
       "      <th>27458</th>\n",
       "      <td>March 2005</td>\n",
       "      <td>1</td>\n",
       "      <td>None</td>\n",
       "      <td>Barry Stigler, 57, American voice actor.</td>\n",
       "      <td>https://en.wikipedia.orgNone</td>\n",
       "      <td>0</td>\n",
       "    </tr>\n",
       "    <tr>\n",
       "      <th>34077</th>\n",
       "      <td>July 2007</td>\n",
       "      <td>11</td>\n",
       "      <td>None</td>\n",
       "      <td>Nana Gualdi, 75, German singer and actress.</td>\n",
       "      <td>https://en.wikipedia.orgNone</td>\n",
       "      <td>0</td>\n",
       "    </tr>\n",
       "    <tr>\n",
       "      <th>64769</th>\n",
       "      <td>September 2013</td>\n",
       "      <td>29</td>\n",
       "      <td>None</td>\n",
       "      <td>Scott Workman, 47, American stuntman (, , ), cancer.</td>\n",
       "      <td>https://en.wikipedia.orgNone</td>\n",
       "      <td>0</td>\n",
       "    </tr>\n",
       "    <tr>\n",
       "      <th>106613</th>\n",
       "      <td>September 2019</td>\n",
       "      <td>12</td>\n",
       "      <td>None</td>\n",
       "      <td>Thami Shobede, 31, Singer Songwriter</td>\n",
       "      <td>https://en.wikipedia.orgNone</td>\n",
       "      <td>0</td>\n",
       "    </tr>\n",
       "  </tbody>\n",
       "</table>\n",
       "</div>"
      ],
      "text/plain": [
       "            month_year day  name  \\\n",
       "18937      August 2001  11  None   \n",
       "24985     January 2004  22  None   \n",
       "27458       March 2005   1  None   \n",
       "34077        July 2007  11  None   \n",
       "64769   September 2013  29  None   \n",
       "106613  September 2019  12  None   \n",
       "\n",
       "                                                                                      info  \\\n",
       "18937   Kevin Kowalcyk, 2, known for eating a hamburger contaminated with E. coli O157:H7.   \n",
       "24985                                                Vincent Palmer, 37, British criminal.   \n",
       "27458                                             Barry Stigler, 57, American voice actor.   \n",
       "34077                                          Nana Gualdi, 75, German singer and actress.   \n",
       "64769                                 Scott Workman, 47, American stuntman (, , ), cancer.   \n",
       "106613                                                Thami Shobede, 31, Singer Songwriter   \n",
       "\n",
       "                                link num_references  \n",
       "18937   https://en.wikipedia.orgNone              0  \n",
       "24985   https://en.wikipedia.orgNone              0  \n",
       "27458   https://en.wikipedia.orgNone              0  \n",
       "34077   https://en.wikipedia.orgNone              0  \n",
       "64769   https://en.wikipedia.orgNone              0  \n",
       "106613  https://en.wikipedia.orgNone              0  "
      ]
     },
     "execution_count": 9,
     "metadata": {},
     "output_type": "execute_result"
    },
    {
     "data": {
      "application/javascript": [
       "\n",
       "            setTimeout(function() {\n",
       "                var nbb_cell_id = 9;\n",
       "                var nbb_unformatted_code = \"# Checking rows with missing name values\\nmissing_name = df[df[\\\"name\\\"].isna()]\\nmissing_name\";\n",
       "                var nbb_formatted_code = \"# Checking rows with missing name values\\nmissing_name = df[df[\\\"name\\\"].isna()]\\nmissing_name\";\n",
       "                var nbb_cells = Jupyter.notebook.get_cells();\n",
       "                for (var i = 0; i < nbb_cells.length; ++i) {\n",
       "                    if (nbb_cells[i].input_prompt_number == nbb_cell_id) {\n",
       "                        if (nbb_cells[i].get_text() == nbb_unformatted_code) {\n",
       "                             nbb_cells[i].set_text(nbb_formatted_code);\n",
       "                        }\n",
       "                        break;\n",
       "                    }\n",
       "                }\n",
       "            }, 500);\n",
       "            "
      ],
      "text/plain": [
       "<IPython.core.display.Javascript object>"
      ]
     },
     "metadata": {},
     "output_type": "display_data"
    }
   ],
   "source": [
    "# Checking rows with missing name values\n",
    "missing_name = df[df[\"name\"].isna()]\n",
    "missing_name"
   ]
  },
  {
   "cell_type": "markdown",
   "id": "a8339d9b",
   "metadata": {},
   "source": [
    "#### Observations:\n",
    "- These rows vary from the main set as there is a substring containing the person's name at the start of the `info` string.\n",
    "- As there are so few rows missing `name`, let us address this issue first."
   ]
  },
  {
   "cell_type": "code",
   "execution_count": 10,
   "id": "7aa458c9",
   "metadata": {},
   "outputs": [
    {
     "data": {
      "text/html": [
       "<div>\n",
       "<style scoped>\n",
       "    .dataframe tbody tr th:only-of-type {\n",
       "        vertical-align: middle;\n",
       "    }\n",
       "\n",
       "    .dataframe tbody tr th {\n",
       "        vertical-align: top;\n",
       "    }\n",
       "\n",
       "    .dataframe thead th {\n",
       "        text-align: right;\n",
       "    }\n",
       "</style>\n",
       "<table border=\"1\" class=\"dataframe\">\n",
       "  <thead>\n",
       "    <tr style=\"text-align: right;\">\n",
       "      <th></th>\n",
       "      <th>month_year</th>\n",
       "      <th>day</th>\n",
       "      <th>name</th>\n",
       "      <th>info</th>\n",
       "      <th>link</th>\n",
       "      <th>num_references</th>\n",
       "    </tr>\n",
       "  </thead>\n",
       "  <tbody>\n",
       "    <tr>\n",
       "      <th>18937</th>\n",
       "      <td>August 2001</td>\n",
       "      <td>11</td>\n",
       "      <td>Kevin Kowalcyk</td>\n",
       "      <td>, 2, known for eating a hamburger contaminated with E. coli O157:H7.</td>\n",
       "      <td>https://en.wikipedia.orgNone</td>\n",
       "      <td>0</td>\n",
       "    </tr>\n",
       "    <tr>\n",
       "      <th>24985</th>\n",
       "      <td>January 2004</td>\n",
       "      <td>22</td>\n",
       "      <td>Vincent Palmer</td>\n",
       "      <td>, 37, British criminal.</td>\n",
       "      <td>https://en.wikipedia.orgNone</td>\n",
       "      <td>0</td>\n",
       "    </tr>\n",
       "    <tr>\n",
       "      <th>27458</th>\n",
       "      <td>March 2005</td>\n",
       "      <td>1</td>\n",
       "      <td>Barry Stigler</td>\n",
       "      <td>, 57, American voice actor.</td>\n",
       "      <td>https://en.wikipedia.orgNone</td>\n",
       "      <td>0</td>\n",
       "    </tr>\n",
       "    <tr>\n",
       "      <th>34077</th>\n",
       "      <td>July 2007</td>\n",
       "      <td>11</td>\n",
       "      <td>Nana Gualdi</td>\n",
       "      <td>, 75, German singer and actress.</td>\n",
       "      <td>https://en.wikipedia.orgNone</td>\n",
       "      <td>0</td>\n",
       "    </tr>\n",
       "    <tr>\n",
       "      <th>64769</th>\n",
       "      <td>September 2013</td>\n",
       "      <td>29</td>\n",
       "      <td>Scott Workman</td>\n",
       "      <td>, 47, American stuntman (, , ), cancer.</td>\n",
       "      <td>https://en.wikipedia.orgNone</td>\n",
       "      <td>0</td>\n",
       "    </tr>\n",
       "    <tr>\n",
       "      <th>106613</th>\n",
       "      <td>September 2019</td>\n",
       "      <td>12</td>\n",
       "      <td>Thami Shobede</td>\n",
       "      <td>, 31, Singer Songwriter</td>\n",
       "      <td>https://en.wikipedia.orgNone</td>\n",
       "      <td>0</td>\n",
       "    </tr>\n",
       "  </tbody>\n",
       "</table>\n",
       "</div>"
      ],
      "text/plain": [
       "            month_year day            name  \\\n",
       "18937      August 2001  11  Kevin Kowalcyk   \n",
       "24985     January 2004  22  Vincent Palmer   \n",
       "27458       March 2005   1   Barry Stigler   \n",
       "34077        July 2007  11     Nana Gualdi   \n",
       "64769   September 2013  29   Scott Workman   \n",
       "106613  September 2019  12   Thami Shobede   \n",
       "\n",
       "                                                                        info  \\\n",
       "18937   , 2, known for eating a hamburger contaminated with E. coli O157:H7.   \n",
       "24985                                                , 37, British criminal.   \n",
       "27458                                            , 57, American voice actor.   \n",
       "34077                                       , 75, German singer and actress.   \n",
       "64769                                , 47, American stuntman (, , ), cancer.   \n",
       "106613                                               , 31, Singer Songwriter   \n",
       "\n",
       "                                link num_references  \n",
       "18937   https://en.wikipedia.orgNone              0  \n",
       "24985   https://en.wikipedia.orgNone              0  \n",
       "27458   https://en.wikipedia.orgNone              0  \n",
       "34077   https://en.wikipedia.orgNone              0  \n",
       "64769   https://en.wikipedia.orgNone              0  \n",
       "106613  https://en.wikipedia.orgNone              0  "
      ]
     },
     "execution_count": 10,
     "metadata": {},
     "output_type": "execute_result"
    },
    {
     "data": {
      "application/javascript": [
       "\n",
       "            setTimeout(function() {\n",
       "                var nbb_cell_id = 10;\n",
       "                var nbb_unformatted_code = \"# For loop to copy name value from info value and remove name from info value\\ntreat_rows = missing_name.index\\nfor i in treat_rows:\\n    info = df.loc[i, \\\"info\\\"]\\n    info_lst = info.split(sep=\\\",\\\", maxsplit=1)\\n\\n    name = info_lst[0].strip()\\n    df.loc[i, \\\"name\\\"] = name\\n    df.loc[i, \\\"info\\\"] = re.sub(name, \\\"\\\", info).strip()\\n\\n# Re-check rows\\ndf.loc[treat_rows, :]\";\n",
       "                var nbb_formatted_code = \"# For loop to copy name value from info value and remove name from info value\\ntreat_rows = missing_name.index\\nfor i in treat_rows:\\n    info = df.loc[i, \\\"info\\\"]\\n    info_lst = info.split(sep=\\\",\\\", maxsplit=1)\\n\\n    name = info_lst[0].strip()\\n    df.loc[i, \\\"name\\\"] = name\\n    df.loc[i, \\\"info\\\"] = re.sub(name, \\\"\\\", info).strip()\\n\\n# Re-check rows\\ndf.loc[treat_rows, :]\";\n",
       "                var nbb_cells = Jupyter.notebook.get_cells();\n",
       "                for (var i = 0; i < nbb_cells.length; ++i) {\n",
       "                    if (nbb_cells[i].input_prompt_number == nbb_cell_id) {\n",
       "                        if (nbb_cells[i].get_text() == nbb_unformatted_code) {\n",
       "                             nbb_cells[i].set_text(nbb_formatted_code);\n",
       "                        }\n",
       "                        break;\n",
       "                    }\n",
       "                }\n",
       "            }, 500);\n",
       "            "
      ],
      "text/plain": [
       "<IPython.core.display.Javascript object>"
      ]
     },
     "metadata": {},
     "output_type": "display_data"
    }
   ],
   "source": [
    "# For loop to copy name value from info value and remove name from info value\n",
    "treat_rows = missing_name.index\n",
    "for i in treat_rows:\n",
    "    info = df.loc[i, \"info\"]\n",
    "    info_lst = info.split(sep=\",\", maxsplit=1)\n",
    "\n",
    "    name = info_lst[0].strip()\n",
    "    df.loc[i, \"name\"] = name\n",
    "    df.loc[i, \"info\"] = re.sub(name, \"\", info).strip()\n",
    "\n",
    "# Re-check rows\n",
    "df.loc[treat_rows, :]"
   ]
  },
  {
   "cell_type": "markdown",
   "id": "bb913aec",
   "metadata": {},
   "source": [
    "#### Observations:\n",
    "- Missing `name` values have been addressed and those names have been removed from `info` values."
   ]
  },
  {
   "cell_type": "code",
   "execution_count": 11,
   "id": "1d574e67",
   "metadata": {},
   "outputs": [
    {
     "name": "stdout",
     "output_type": "stream",
     "text": [
      "<class 'pandas.core.frame.DataFrame'>\n",
      "RangeIndex: 133900 entries, 0 to 133899\n",
      "Data columns (total 6 columns):\n",
      " #   Column          Non-Null Count   Dtype \n",
      "---  ------          --------------   ----- \n",
      " 0   month_year      133900 non-null  object\n",
      " 1   day             133900 non-null  object\n",
      " 2   name            133900 non-null  object\n",
      " 3   info            133900 non-null  object\n",
      " 4   link            133900 non-null  object\n",
      " 5   num_references  133900 non-null  object\n",
      "dtypes: object(6)\n",
      "memory usage: 6.1+ MB\n"
     ]
    },
    {
     "data": {
      "application/javascript": [
       "\n",
       "            setTimeout(function() {\n",
       "                var nbb_cell_id = 11;\n",
       "                var nbb_unformatted_code = \"# Re-check info\\ndf.info()\";\n",
       "                var nbb_formatted_code = \"# Re-check info\\ndf.info()\";\n",
       "                var nbb_cells = Jupyter.notebook.get_cells();\n",
       "                for (var i = 0; i < nbb_cells.length; ++i) {\n",
       "                    if (nbb_cells[i].input_prompt_number == nbb_cell_id) {\n",
       "                        if (nbb_cells[i].get_text() == nbb_unformatted_code) {\n",
       "                             nbb_cells[i].set_text(nbb_formatted_code);\n",
       "                        }\n",
       "                        break;\n",
       "                    }\n",
       "                }\n",
       "            }, 500);\n",
       "            "
      ],
      "text/plain": [
       "<IPython.core.display.Javascript object>"
      ]
     },
     "metadata": {},
     "output_type": "display_data"
    }
   ],
   "source": [
    "# Re-check info\n",
    "df.info()"
   ]
  },
  {
   "cell_type": "markdown",
   "id": "6cccf358",
   "metadata": {},
   "source": [
    "#### Observations:\n",
    "- We have no remaining missing values.\n",
    "- Let us treat the `month_year` column next."
   ]
  },
  {
   "cell_type": "markdown",
   "id": "38e39753",
   "metadata": {},
   "source": [
    "### Separating `month` and `year`"
   ]
  },
  {
   "cell_type": "code",
   "execution_count": 12,
   "id": "c2613d35",
   "metadata": {},
   "outputs": [
    {
     "data": {
      "text/html": [
       "<div>\n",
       "<style scoped>\n",
       "    .dataframe tbody tr th:only-of-type {\n",
       "        vertical-align: middle;\n",
       "    }\n",
       "\n",
       "    .dataframe tbody tr th {\n",
       "        vertical-align: top;\n",
       "    }\n",
       "\n",
       "    .dataframe thead th {\n",
       "        text-align: right;\n",
       "    }\n",
       "</style>\n",
       "<table border=\"1\" class=\"dataframe\">\n",
       "  <thead>\n",
       "    <tr style=\"text-align: right;\">\n",
       "      <th></th>\n",
       "      <th>month_year</th>\n",
       "      <th>day</th>\n",
       "      <th>name</th>\n",
       "      <th>info</th>\n",
       "      <th>link</th>\n",
       "      <th>num_references</th>\n",
       "      <th>year</th>\n",
       "      <th>month</th>\n",
       "    </tr>\n",
       "  </thead>\n",
       "  <tbody>\n",
       "    <tr>\n",
       "      <th>0</th>\n",
       "      <td>January 1994</td>\n",
       "      <td>1</td>\n",
       "      <td>William Chappell</td>\n",
       "      <td>, 86, British dancer, ballet designer and director.</td>\n",
       "      <td>https://en.wikipedia.org/wiki/William_Chappell_(dancer)</td>\n",
       "      <td>21</td>\n",
       "      <td>1994</td>\n",
       "      <td>January</td>\n",
       "    </tr>\n",
       "    <tr>\n",
       "      <th>1</th>\n",
       "      <td>January 1994</td>\n",
       "      <td>1</td>\n",
       "      <td>Raymond Crotty</td>\n",
       "      <td>, 68, Irish economist, writer, and academic.</td>\n",
       "      <td>https://en.wikipedia.org/wiki/Raymond_Crotty</td>\n",
       "      <td>12</td>\n",
       "      <td>1994</td>\n",
       "      <td>January</td>\n",
       "    </tr>\n",
       "  </tbody>\n",
       "</table>\n",
       "</div>"
      ],
      "text/plain": [
       "     month_year day              name  \\\n",
       "0  January 1994   1  William Chappell   \n",
       "1  January 1994   1    Raymond Crotty   \n",
       "\n",
       "                                                  info  \\\n",
       "0  , 86, British dancer, ballet designer and director.   \n",
       "1         , 68, Irish economist, writer, and academic.   \n",
       "\n",
       "                                                      link num_references  \\\n",
       "0  https://en.wikipedia.org/wiki/William_Chappell_(dancer)             21   \n",
       "1             https://en.wikipedia.org/wiki/Raymond_Crotty             12   \n",
       "\n",
       "   year    month  \n",
       "0  1994  January  \n",
       "1  1994  January  "
      ]
     },
     "execution_count": 12,
     "metadata": {},
     "output_type": "execute_result"
    },
    {
     "data": {
      "application/javascript": [
       "\n",
       "            setTimeout(function() {\n",
       "                var nbb_cell_id = 12;\n",
       "                var nbb_unformatted_code = \"# Separating month and year into 2 columns and typecasting year as integer\\ndf.loc[:, \\\"year\\\"] = df[\\\"month_year\\\"].apply(lambda x: x.split(sep=\\\" \\\")[1].strip())\\ndf[\\\"year\\\"] = df[\\\"year\\\"].apply(lambda x: int(x))\\n\\ndf.loc[:, \\\"month\\\"] = df[\\\"month_year\\\"].apply(lambda x: x.split(sep=\\\" \\\")[0])\\ndf.head(2)\";\n",
       "                var nbb_formatted_code = \"# Separating month and year into 2 columns and typecasting year as integer\\ndf.loc[:, \\\"year\\\"] = df[\\\"month_year\\\"].apply(lambda x: x.split(sep=\\\" \\\")[1].strip())\\ndf[\\\"year\\\"] = df[\\\"year\\\"].apply(lambda x: int(x))\\n\\ndf.loc[:, \\\"month\\\"] = df[\\\"month_year\\\"].apply(lambda x: x.split(sep=\\\" \\\")[0])\\ndf.head(2)\";\n",
       "                var nbb_cells = Jupyter.notebook.get_cells();\n",
       "                for (var i = 0; i < nbb_cells.length; ++i) {\n",
       "                    if (nbb_cells[i].input_prompt_number == nbb_cell_id) {\n",
       "                        if (nbb_cells[i].get_text() == nbb_unformatted_code) {\n",
       "                             nbb_cells[i].set_text(nbb_formatted_code);\n",
       "                        }\n",
       "                        break;\n",
       "                    }\n",
       "                }\n",
       "            }, 500);\n",
       "            "
      ],
      "text/plain": [
       "<IPython.core.display.Javascript object>"
      ]
     },
     "metadata": {},
     "output_type": "display_data"
    }
   ],
   "source": [
    "# Separating month and year into 2 columns and typecasting year as integer\n",
    "df.loc[:, \"year\"] = df[\"month_year\"].apply(lambda x: x.split(sep=\" \")[1].strip())\n",
    "df[\"year\"] = df[\"year\"].apply(lambda x: int(x))\n",
    "\n",
    "df.loc[:, \"month\"] = df[\"month_year\"].apply(lambda x: x.split(sep=\" \")[0])\n",
    "df.head(2)"
   ]
  },
  {
   "cell_type": "code",
   "execution_count": 13,
   "id": "6426bb65",
   "metadata": {},
   "outputs": [
    {
     "data": {
      "text/html": [
       "<div>\n",
       "<style scoped>\n",
       "    .dataframe tbody tr th:only-of-type {\n",
       "        vertical-align: middle;\n",
       "    }\n",
       "\n",
       "    .dataframe tbody tr th {\n",
       "        vertical-align: top;\n",
       "    }\n",
       "\n",
       "    .dataframe thead th {\n",
       "        text-align: right;\n",
       "    }\n",
       "</style>\n",
       "<table border=\"1\" class=\"dataframe\">\n",
       "  <thead>\n",
       "    <tr style=\"text-align: right;\">\n",
       "      <th></th>\n",
       "      <th>day</th>\n",
       "      <th>name</th>\n",
       "      <th>info</th>\n",
       "      <th>link</th>\n",
       "      <th>num_references</th>\n",
       "      <th>year</th>\n",
       "      <th>month</th>\n",
       "    </tr>\n",
       "  </thead>\n",
       "  <tbody>\n",
       "    <tr>\n",
       "      <th>0</th>\n",
       "      <td>1</td>\n",
       "      <td>William Chappell</td>\n",
       "      <td>, 86, British dancer, ballet designer and director.</td>\n",
       "      <td>https://en.wikipedia.org/wiki/William_Chappell_(dancer)</td>\n",
       "      <td>21</td>\n",
       "      <td>1994</td>\n",
       "      <td>January</td>\n",
       "    </tr>\n",
       "    <tr>\n",
       "      <th>1</th>\n",
       "      <td>1</td>\n",
       "      <td>Raymond Crotty</td>\n",
       "      <td>, 68, Irish economist, writer, and academic.</td>\n",
       "      <td>https://en.wikipedia.org/wiki/Raymond_Crotty</td>\n",
       "      <td>12</td>\n",
       "      <td>1994</td>\n",
       "      <td>January</td>\n",
       "    </tr>\n",
       "  </tbody>\n",
       "</table>\n",
       "</div>"
      ],
      "text/plain": [
       "  day              name                                                 info  \\\n",
       "0   1  William Chappell  , 86, British dancer, ballet designer and director.   \n",
       "1   1    Raymond Crotty         , 68, Irish economist, writer, and academic.   \n",
       "\n",
       "                                                      link num_references  \\\n",
       "0  https://en.wikipedia.org/wiki/William_Chappell_(dancer)             21   \n",
       "1             https://en.wikipedia.org/wiki/Raymond_Crotty             12   \n",
       "\n",
       "   year    month  \n",
       "0  1994  January  \n",
       "1  1994  January  "
      ]
     },
     "execution_count": 13,
     "metadata": {},
     "output_type": "execute_result"
    },
    {
     "data": {
      "application/javascript": [
       "\n",
       "            setTimeout(function() {\n",
       "                var nbb_cell_id = 13;\n",
       "                var nbb_unformatted_code = \"# Dropping month_year column\\ndf.drop(\\\"month_year\\\", axis=1, inplace=True)\\ndf.head(2)\";\n",
       "                var nbb_formatted_code = \"# Dropping month_year column\\ndf.drop(\\\"month_year\\\", axis=1, inplace=True)\\ndf.head(2)\";\n",
       "                var nbb_cells = Jupyter.notebook.get_cells();\n",
       "                for (var i = 0; i < nbb_cells.length; ++i) {\n",
       "                    if (nbb_cells[i].input_prompt_number == nbb_cell_id) {\n",
       "                        if (nbb_cells[i].get_text() == nbb_unformatted_code) {\n",
       "                             nbb_cells[i].set_text(nbb_formatted_code);\n",
       "                        }\n",
       "                        break;\n",
       "                    }\n",
       "                }\n",
       "            }, 500);\n",
       "            "
      ],
      "text/plain": [
       "<IPython.core.display.Javascript object>"
      ]
     },
     "metadata": {},
     "output_type": "display_data"
    }
   ],
   "source": [
    "# Dropping month_year column\n",
    "df.drop(\"month_year\", axis=1, inplace=True)\n",
    "df.head(2)"
   ]
  },
  {
   "cell_type": "markdown",
   "id": "dd501ca7",
   "metadata": {},
   "source": [
    "### Treating `info`"
   ]
  },
  {
   "cell_type": "markdown",
   "id": "05989645",
   "metadata": {},
   "source": [
    "#### Function to Save Indices of Rows Matching re Pattern to a List"
   ]
  },
  {
   "cell_type": "code",
   "execution_count": 14,
   "id": "3513359b",
   "metadata": {},
   "outputs": [
    {
     "data": {
      "application/javascript": [
       "\n",
       "            setTimeout(function() {\n",
       "                var nbb_cell_id = 14;\n",
       "                var nbb_unformatted_code = \"# Define a function that takes dataframe, column name, and re pattern as arguments and returns list of indices\\n# for which column value matches re pattern\\ndef rows_with_pattern(dataframe, column, pattern):\\n    \\\"\\\"\\\"\\n    Takes input of dataframe, column name, and re pattern \\n    and returns list of indices for rows that contain match\\n    for pattern anywhere within value for given column.\\n    \\n    dataframe: dataframe\\n    column: column name\\n    pattern: re pattern\\n    \\\"\\\"\\\"\\n    index_list = []\\n\\n    for i in dataframe.index:\\n        item = dataframe.loc[i, column]\\n        match = re.search(pattern, item)\\n        if match:\\n            index_list.append(i)\\n    print(\\n        f\\\"There are {len(index_list)} rows with matching pattern in column '{column}'.\\\"\\n    )\\n    return index_list\";\n",
       "                var nbb_formatted_code = \"# Define a function that takes dataframe, column name, and re pattern as arguments and returns list of indices\\n# for which column value matches re pattern\\ndef rows_with_pattern(dataframe, column, pattern):\\n    \\\"\\\"\\\"\\n    Takes input of dataframe, column name, and re pattern \\n    and returns list of indices for rows that contain match\\n    for pattern anywhere within value for given column.\\n    \\n    dataframe: dataframe\\n    column: column name\\n    pattern: re pattern\\n    \\\"\\\"\\\"\\n    index_list = []\\n\\n    for i in dataframe.index:\\n        item = dataframe.loc[i, column]\\n        match = re.search(pattern, item)\\n        if match:\\n            index_list.append(i)\\n    print(\\n        f\\\"There are {len(index_list)} rows with matching pattern in column '{column}'.\\\"\\n    )\\n    return index_list\";\n",
       "                var nbb_cells = Jupyter.notebook.get_cells();\n",
       "                for (var i = 0; i < nbb_cells.length; ++i) {\n",
       "                    if (nbb_cells[i].input_prompt_number == nbb_cell_id) {\n",
       "                        if (nbb_cells[i].get_text() == nbb_unformatted_code) {\n",
       "                             nbb_cells[i].set_text(nbb_formatted_code);\n",
       "                        }\n",
       "                        break;\n",
       "                    }\n",
       "                }\n",
       "            }, 500);\n",
       "            "
      ],
      "text/plain": [
       "<IPython.core.display.Javascript object>"
      ]
     },
     "metadata": {},
     "output_type": "display_data"
    }
   ],
   "source": [
    "# Define a function that takes dataframe, column name, and re pattern as arguments and returns list of indices\n",
    "# for which column value matches re pattern\n",
    "def rows_with_pattern(dataframe, column, pattern):\n",
    "    \"\"\"\n",
    "    Takes input of dataframe, column name, and re pattern \n",
    "    and returns list of indices for rows that contain match\n",
    "    for pattern anywhere within value for given column.\n",
    "    \n",
    "    dataframe: dataframe\n",
    "    column: column name\n",
    "    pattern: re pattern\n",
    "    \"\"\"\n",
    "    index_list = []\n",
    "\n",
    "    for i in dataframe.index:\n",
    "        item = dataframe.loc[i, column]\n",
    "        match = re.search(pattern, item)\n",
    "        if match:\n",
    "            index_list.append(i)\n",
    "    print(\n",
    "        f\"There are {len(index_list)} rows with matching pattern in column '{column}'.\"\n",
    "    )\n",
    "    return index_list"
   ]
  },
  {
   "cell_type": "markdown",
   "id": "59edd68c",
   "metadata": {},
   "source": [
    "#### Checking a Sample"
   ]
  },
  {
   "cell_type": "code",
   "execution_count": 15,
   "id": "a5c7e5aa",
   "metadata": {},
   "outputs": [
    {
     "data": {
      "text/html": [
       "<div>\n",
       "<style scoped>\n",
       "    .dataframe tbody tr th:only-of-type {\n",
       "        vertical-align: middle;\n",
       "    }\n",
       "\n",
       "    .dataframe tbody tr th {\n",
       "        vertical-align: top;\n",
       "    }\n",
       "\n",
       "    .dataframe thead th {\n",
       "        text-align: right;\n",
       "    }\n",
       "</style>\n",
       "<table border=\"1\" class=\"dataframe\">\n",
       "  <thead>\n",
       "    <tr style=\"text-align: right;\">\n",
       "      <th></th>\n",
       "      <th>day</th>\n",
       "      <th>name</th>\n",
       "      <th>info</th>\n",
       "      <th>link</th>\n",
       "      <th>num_references</th>\n",
       "      <th>year</th>\n",
       "      <th>month</th>\n",
       "    </tr>\n",
       "  </thead>\n",
       "  <tbody>\n",
       "    <tr>\n",
       "      <th>123290</th>\n",
       "      <td>6</td>\n",
       "      <td>Matang Sinh</td>\n",
       "      <td>, 67, Indian politician, MP (1992–1998), complications from COVID-19.</td>\n",
       "      <td>https://en.wikipedia.org/wiki/Matang_Sinh</td>\n",
       "      <td>7</td>\n",
       "      <td>2021</td>\n",
       "      <td>May</td>\n",
       "    </tr>\n",
       "    <tr>\n",
       "      <th>55685</th>\n",
       "      <td>17</td>\n",
       "      <td>Herbert Breslin</td>\n",
       "      <td>, 87, American music industry executive, heart attack.</td>\n",
       "      <td>https://en.wikipedia.org/wiki/Herbert_Breslin</td>\n",
       "      <td>2</td>\n",
       "      <td>2012</td>\n",
       "      <td>May</td>\n",
       "    </tr>\n",
       "    <tr>\n",
       "      <th>39580</th>\n",
       "      <td>8</td>\n",
       "      <td>Leonidas Vargas</td>\n",
       "      <td>, 60, Colombian drug trafficker, shot.</td>\n",
       "      <td>https://en.wikipedia.org/wiki/Leonidas_Vargas</td>\n",
       "      <td>6</td>\n",
       "      <td>2009</td>\n",
       "      <td>January</td>\n",
       "    </tr>\n",
       "    <tr>\n",
       "      <th>106800</th>\n",
       "      <td>21</td>\n",
       "      <td>Jack Donner</td>\n",
       "      <td>, 90, American actor (, , ).</td>\n",
       "      <td>https://en.wikipedia.org/wiki/Jack_Donner</td>\n",
       "      <td>4</td>\n",
       "      <td>2019</td>\n",
       "      <td>September</td>\n",
       "    </tr>\n",
       "    <tr>\n",
       "      <th>108963</th>\n",
       "      <td>5</td>\n",
       "      <td>Colin Howson</td>\n",
       "      <td>, 74–75, British philosopher.</td>\n",
       "      <td>https://en.wikipedia.org/wiki/Colin_Howson</td>\n",
       "      <td>4</td>\n",
       "      <td>2020</td>\n",
       "      <td>January</td>\n",
       "    </tr>\n",
       "  </tbody>\n",
       "</table>\n",
       "</div>"
      ],
      "text/plain": [
       "       day             name  \\\n",
       "123290   6      Matang Sinh   \n",
       "55685   17  Herbert Breslin   \n",
       "39580    8  Leonidas Vargas   \n",
       "106800  21      Jack Donner   \n",
       "108963   5     Colin Howson   \n",
       "\n",
       "                                                                         info  \\\n",
       "123290  , 67, Indian politician, MP (1992–1998), complications from COVID-19.   \n",
       "55685                  , 87, American music industry executive, heart attack.   \n",
       "39580                                  , 60, Colombian drug trafficker, shot.   \n",
       "106800                                           , 90, American actor (, , ).   \n",
       "108963                                          , 74–75, British philosopher.   \n",
       "\n",
       "                                                 link num_references  year  \\\n",
       "123290      https://en.wikipedia.org/wiki/Matang_Sinh              7  2021   \n",
       "55685   https://en.wikipedia.org/wiki/Herbert_Breslin              2  2012   \n",
       "39580   https://en.wikipedia.org/wiki/Leonidas_Vargas              6  2009   \n",
       "106800      https://en.wikipedia.org/wiki/Jack_Donner              4  2019   \n",
       "108963     https://en.wikipedia.org/wiki/Colin_Howson              4  2020   \n",
       "\n",
       "            month  \n",
       "123290        May  \n",
       "55685         May  \n",
       "39580     January  \n",
       "106800  September  \n",
       "108963    January  "
      ]
     },
     "execution_count": 15,
     "metadata": {},
     "output_type": "execute_result"
    },
    {
     "data": {
      "application/javascript": [
       "\n",
       "            setTimeout(function() {\n",
       "                var nbb_cell_id = 15;\n",
       "                var nbb_unformatted_code = \"# Checking a sample of info\\ndf.sample(5)\";\n",
       "                var nbb_formatted_code = \"# Checking a sample of info\\ndf.sample(5)\";\n",
       "                var nbb_cells = Jupyter.notebook.get_cells();\n",
       "                for (var i = 0; i < nbb_cells.length; ++i) {\n",
       "                    if (nbb_cells[i].input_prompt_number == nbb_cell_id) {\n",
       "                        if (nbb_cells[i].get_text() == nbb_unformatted_code) {\n",
       "                             nbb_cells[i].set_text(nbb_formatted_code);\n",
       "                        }\n",
       "                        break;\n",
       "                    }\n",
       "                }\n",
       "            }, 500);\n",
       "            "
      ],
      "text/plain": [
       "<IPython.core.display.Javascript object>"
      ]
     },
     "metadata": {},
     "output_type": "display_data"
    }
   ],
   "source": [
    "# Checking a sample of info\n",
    "df.sample(5)"
   ]
  },
  {
   "cell_type": "markdown",
   "id": "c052f2c2",
   "metadata": {},
   "source": [
    "#### Observations:\n",
    "- First, let us check for any rows that are missing digits, and therefore the age target, within `info` and remove them.\n",
    "- Also, it would be helpful to remove information contained within parentheses, as we will not likely be using it.  We can save it to a new column, until we are certain."
   ]
  },
  {
   "cell_type": "markdown",
   "id": "fdc1b411",
   "metadata": {},
   "source": [
    "#### Checking and Dropping Rows Lacking Digits (and therefore Age Data) within `info`"
   ]
  },
  {
   "cell_type": "code",
   "execution_count": 16,
   "id": "bb94bb3a",
   "metadata": {},
   "outputs": [
    {
     "name": "stdout",
     "output_type": "stream",
     "text": [
      "There are 132975 rows with matching pattern in column 'info'.\n",
      "\n",
      "There are 925 rows without numbers in the info column.\n"
     ]
    },
    {
     "data": {
      "text/plain": [
       "(132975, 7)"
      ]
     },
     "execution_count": 16,
     "metadata": {},
     "output_type": "execute_result"
    },
    {
     "data": {
      "application/javascript": [
       "\n",
       "            setTimeout(function() {\n",
       "                var nbb_cell_id = 16;\n",
       "                var nbb_unformatted_code = \"# Finding indices of rows that have pattern\\nhas_digits = rows_with_pattern(df, \\\"info\\\", r\\\"\\\\d\\\")\\nprint(\\n    f\\\"\\\\nThere are {len(df) - len(has_digits)} rows without numbers in the info column.\\\"\\n)\\n\\n# Dropping rows missing age data, resetting index, and checking new shape of df\\ndf = df.loc[has_digits, :]\\ndf.reset_index(inplace=True, drop=True)\\ndf.shape\";\n",
       "                var nbb_formatted_code = \"# Finding indices of rows that have pattern\\nhas_digits = rows_with_pattern(df, \\\"info\\\", r\\\"\\\\d\\\")\\nprint(\\n    f\\\"\\\\nThere are {len(df) - len(has_digits)} rows without numbers in the info column.\\\"\\n)\\n\\n# Dropping rows missing age data, resetting index, and checking new shape of df\\ndf = df.loc[has_digits, :]\\ndf.reset_index(inplace=True, drop=True)\\ndf.shape\";\n",
       "                var nbb_cells = Jupyter.notebook.get_cells();\n",
       "                for (var i = 0; i < nbb_cells.length; ++i) {\n",
       "                    if (nbb_cells[i].input_prompt_number == nbb_cell_id) {\n",
       "                        if (nbb_cells[i].get_text() == nbb_unformatted_code) {\n",
       "                             nbb_cells[i].set_text(nbb_formatted_code);\n",
       "                        }\n",
       "                        break;\n",
       "                    }\n",
       "                }\n",
       "            }, 500);\n",
       "            "
      ],
      "text/plain": [
       "<IPython.core.display.Javascript object>"
      ]
     },
     "metadata": {},
     "output_type": "display_data"
    }
   ],
   "source": [
    "# Finding indices of rows that have pattern\n",
    "has_digits = rows_with_pattern(df, \"info\", r\"\\d\")\n",
    "print(\n",
    "    f\"\\nThere are {len(df) - len(has_digits)} rows without numbers in the info column.\"\n",
    ")\n",
    "\n",
    "# Dropping rows missing age data, resetting index, and checking new shape of df\n",
    "df = df.loc[has_digits, :]\n",
    "df.reset_index(inplace=True, drop=True)\n",
    "df.shape"
   ]
  },
  {
   "cell_type": "markdown",
   "id": "e4c8803f",
   "metadata": {},
   "source": [
    "#### Observations:\n",
    "- 925 rows were removed as they lacked the target data for `age`."
   ]
  },
  {
   "cell_type": "markdown",
   "id": "cc839fab",
   "metadata": {},
   "source": [
    "#### Removing Information within Parentheses from `info` and saving to new column `info_parenth`"
   ]
  },
  {
   "cell_type": "code",
   "execution_count": 17,
   "id": "11e602ae",
   "metadata": {},
   "outputs": [
    {
     "name": "stdout",
     "output_type": "stream",
     "text": [
      "There are 50020 rows with matching pattern in column 'info'.\n"
     ]
    },
    {
     "data": {
      "application/javascript": [
       "\n",
       "            setTimeout(function() {\n",
       "                var nbb_cell_id = 17;\n",
       "                var nbb_unformatted_code = \"# Regular expression for parenthesis and its contents\\npattern = r\\\"\\\\(.*\\\\)\\\"\\n\\n# Finding indices of rows that have pattern\\nrows_to_check = rows_with_pattern(df, \\\"info\\\", pattern)\";\n",
       "                var nbb_formatted_code = \"# Regular expression for parenthesis and its contents\\npattern = r\\\"\\\\(.*\\\\)\\\"\\n\\n# Finding indices of rows that have pattern\\nrows_to_check = rows_with_pattern(df, \\\"info\\\", pattern)\";\n",
       "                var nbb_cells = Jupyter.notebook.get_cells();\n",
       "                for (var i = 0; i < nbb_cells.length; ++i) {\n",
       "                    if (nbb_cells[i].input_prompt_number == nbb_cell_id) {\n",
       "                        if (nbb_cells[i].get_text() == nbb_unformatted_code) {\n",
       "                             nbb_cells[i].set_text(nbb_formatted_code);\n",
       "                        }\n",
       "                        break;\n",
       "                    }\n",
       "                }\n",
       "            }, 500);\n",
       "            "
      ],
      "text/plain": [
       "<IPython.core.display.Javascript object>"
      ]
     },
     "metadata": {},
     "output_type": "display_data"
    }
   ],
   "source": [
    "# Regular expression for parenthesis and its contents\n",
    "pattern = r\"\\(.*\\)\"\n",
    "\n",
    "# Finding indices of rows that have pattern\n",
    "rows_to_check = rows_with_pattern(df, \"info\", pattern)"
   ]
  },
  {
   "cell_type": "code",
   "execution_count": 18,
   "id": "7b21340f",
   "metadata": {},
   "outputs": [
    {
     "name": "stdout",
     "output_type": "stream",
     "text": [
      "There are 0 rows with matching pattern in column 'info'.\n",
      "There are 50020 rows with matching pattern in column 'info_parenth'.\n"
     ]
    },
    {
     "data": {
      "application/javascript": [
       "\n",
       "            setTimeout(function() {\n",
       "                var nbb_cell_id = 18;\n",
       "                var nbb_unformatted_code = \"# For loop to extract parenthesis and its contents from info to info_parenth\\nfor i, item in enumerate(df[\\\"info\\\"]):\\n    match = re.search(pattern, item)\\n    if match:\\n        df.loc[i, \\\"info_parenth\\\"] = match.group(0)\\n        df.loc[i, \\\"info\\\"] = re.sub(pattern, \\\"\\\", df.loc[i, \\\"info\\\"])\\n\\n# Rechecking for rows with pattern in original column\\nrows_to_check = rows_with_pattern(df, \\\"info\\\", pattern)\\nrows_to_check = rows_with_pattern(\\n    df[df[\\\"info_parenth\\\"].notna()], \\\"info_parenth\\\", pattern\\n)\";\n",
       "                var nbb_formatted_code = \"# For loop to extract parenthesis and its contents from info to info_parenth\\nfor i, item in enumerate(df[\\\"info\\\"]):\\n    match = re.search(pattern, item)\\n    if match:\\n        df.loc[i, \\\"info_parenth\\\"] = match.group(0)\\n        df.loc[i, \\\"info\\\"] = re.sub(pattern, \\\"\\\", df.loc[i, \\\"info\\\"])\\n\\n# Rechecking for rows with pattern in original column\\nrows_to_check = rows_with_pattern(df, \\\"info\\\", pattern)\\nrows_to_check = rows_with_pattern(\\n    df[df[\\\"info_parenth\\\"].notna()], \\\"info_parenth\\\", pattern\\n)\";\n",
       "                var nbb_cells = Jupyter.notebook.get_cells();\n",
       "                for (var i = 0; i < nbb_cells.length; ++i) {\n",
       "                    if (nbb_cells[i].input_prompt_number == nbb_cell_id) {\n",
       "                        if (nbb_cells[i].get_text() == nbb_unformatted_code) {\n",
       "                             nbb_cells[i].set_text(nbb_formatted_code);\n",
       "                        }\n",
       "                        break;\n",
       "                    }\n",
       "                }\n",
       "            }, 500);\n",
       "            "
      ],
      "text/plain": [
       "<IPython.core.display.Javascript object>"
      ]
     },
     "metadata": {},
     "output_type": "display_data"
    }
   ],
   "source": [
    "# For loop to extract parenthesis and its contents from info to info_parenth\n",
    "for i, item in enumerate(df[\"info\"]):\n",
    "    match = re.search(pattern, item)\n",
    "    if match:\n",
    "        df.loc[i, \"info_parenth\"] = match.group(0)\n",
    "        df.loc[i, \"info\"] = re.sub(pattern, \"\", df.loc[i, \"info\"])\n",
    "\n",
    "# Rechecking for rows with pattern in original column\n",
    "rows_to_check = rows_with_pattern(df, \"info\", pattern)\n",
    "rows_to_check = rows_with_pattern(\n",
    "    df[df[\"info_parenth\"].notna()], \"info_parenth\", pattern\n",
    ")"
   ]
  },
  {
   "cell_type": "markdown",
   "id": "76b9ca78",
   "metadata": {},
   "source": [
    "#### Observation:\n",
    "- Parentheses and information within has been removed from `info` and assigned to `info_parenth`.\n",
    "- Next, we will follow the Wikipedia-defined fields to divide the `info` values."
   ]
  },
  {
   "cell_type": "markdown",
   "id": "036b3151",
   "metadata": {},
   "source": [
    "#### Splitting `info` on Commas into Separate Columns"
   ]
  },
  {
   "cell_type": "code",
   "execution_count": 19,
   "id": "1cb83a88",
   "metadata": {},
   "outputs": [
    {
     "data": {
      "text/html": [
       "<div>\n",
       "<style scoped>\n",
       "    .dataframe tbody tr th:only-of-type {\n",
       "        vertical-align: middle;\n",
       "    }\n",
       "\n",
       "    .dataframe tbody tr th {\n",
       "        vertical-align: top;\n",
       "    }\n",
       "\n",
       "    .dataframe thead th {\n",
       "        text-align: right;\n",
       "    }\n",
       "</style>\n",
       "<table border=\"1\" class=\"dataframe\">\n",
       "  <thead>\n",
       "    <tr style=\"text-align: right;\">\n",
       "      <th></th>\n",
       "      <th>day</th>\n",
       "      <th>name</th>\n",
       "      <th>info</th>\n",
       "      <th>link</th>\n",
       "      <th>num_references</th>\n",
       "      <th>year</th>\n",
       "      <th>month</th>\n",
       "      <th>info_parenth</th>\n",
       "      <th>info_0</th>\n",
       "      <th>info_1</th>\n",
       "      <th>info_2</th>\n",
       "      <th>info_3</th>\n",
       "      <th>info_4</th>\n",
       "      <th>info_5</th>\n",
       "      <th>info_6</th>\n",
       "      <th>info_7</th>\n",
       "      <th>info_8</th>\n",
       "      <th>info_9</th>\n",
       "      <th>info_10</th>\n",
       "      <th>info_11</th>\n",
       "    </tr>\n",
       "  </thead>\n",
       "  <tbody>\n",
       "    <tr>\n",
       "      <th>0</th>\n",
       "      <td>1</td>\n",
       "      <td>William Chappell</td>\n",
       "      <td>, 86, British dancer, ballet designer and director.</td>\n",
       "      <td>https://en.wikipedia.org/wiki/William_Chappell_(dancer)</td>\n",
       "      <td>21</td>\n",
       "      <td>1994</td>\n",
       "      <td>January</td>\n",
       "      <td>NaN</td>\n",
       "      <td></td>\n",
       "      <td>86</td>\n",
       "      <td>British dancer</td>\n",
       "      <td>ballet designer and director</td>\n",
       "      <td>NaN</td>\n",
       "      <td>NaN</td>\n",
       "      <td>NaN</td>\n",
       "      <td>NaN</td>\n",
       "      <td>NaN</td>\n",
       "      <td>NaN</td>\n",
       "      <td>NaN</td>\n",
       "      <td>NaN</td>\n",
       "    </tr>\n",
       "    <tr>\n",
       "      <th>1</th>\n",
       "      <td>1</td>\n",
       "      <td>Raymond Crotty</td>\n",
       "      <td>, 68, Irish economist, writer, and academic.</td>\n",
       "      <td>https://en.wikipedia.org/wiki/Raymond_Crotty</td>\n",
       "      <td>12</td>\n",
       "      <td>1994</td>\n",
       "      <td>January</td>\n",
       "      <td>NaN</td>\n",
       "      <td></td>\n",
       "      <td>68</td>\n",
       "      <td>Irish economist</td>\n",
       "      <td>writer</td>\n",
       "      <td>and academic</td>\n",
       "      <td>NaN</td>\n",
       "      <td>NaN</td>\n",
       "      <td>NaN</td>\n",
       "      <td>NaN</td>\n",
       "      <td>NaN</td>\n",
       "      <td>NaN</td>\n",
       "      <td>NaN</td>\n",
       "    </tr>\n",
       "  </tbody>\n",
       "</table>\n",
       "</div>"
      ],
      "text/plain": [
       "  day              name                                                 info  \\\n",
       "0   1  William Chappell  , 86, British dancer, ballet designer and director.   \n",
       "1   1    Raymond Crotty         , 68, Irish economist, writer, and academic.   \n",
       "\n",
       "                                                      link num_references  \\\n",
       "0  https://en.wikipedia.org/wiki/William_Chappell_(dancer)             21   \n",
       "1             https://en.wikipedia.org/wiki/Raymond_Crotty             12   \n",
       "\n",
       "   year    month info_parenth info_0 info_1           info_2  \\\n",
       "0  1994  January          NaN            86   British dancer   \n",
       "1  1994  January          NaN            68  Irish economist   \n",
       "\n",
       "                         info_3        info_4 info_5 info_6 info_7 info_8  \\\n",
       "0  ballet designer and director           NaN    NaN    NaN    NaN    NaN   \n",
       "1                        writer  and academic    NaN    NaN    NaN    NaN   \n",
       "\n",
       "  info_9 info_10 info_11  \n",
       "0    NaN     NaN     NaN  \n",
       "1    NaN     NaN     NaN  "
      ]
     },
     "execution_count": 19,
     "metadata": {},
     "output_type": "execute_result"
    },
    {
     "data": {
      "application/javascript": [
       "\n",
       "            setTimeout(function() {\n",
       "                var nbb_cell_id = 19;\n",
       "                var nbb_unformatted_code = \"# For loop to split info on commas and separate into respective new columns and removing leading/trailing white space and periods\\nfor i, item in enumerate(df[\\\"info\\\"]):\\n    info_lst = item.split(\\\",\\\")\\n\\n    for j in range(len(info_lst)):\\n        df.loc[i, f\\\"info_{j}\\\"] = info_lst[j].strip(\\\" .\\\")\\n\\n# Checking the first 2 rows\\ndf.head(2)\";\n",
       "                var nbb_formatted_code = \"# For loop to split info on commas and separate into respective new columns and removing leading/trailing white space and periods\\nfor i, item in enumerate(df[\\\"info\\\"]):\\n    info_lst = item.split(\\\",\\\")\\n\\n    for j in range(len(info_lst)):\\n        df.loc[i, f\\\"info_{j}\\\"] = info_lst[j].strip(\\\" .\\\")\\n\\n# Checking the first 2 rows\\ndf.head(2)\";\n",
       "                var nbb_cells = Jupyter.notebook.get_cells();\n",
       "                for (var i = 0; i < nbb_cells.length; ++i) {\n",
       "                    if (nbb_cells[i].input_prompt_number == nbb_cell_id) {\n",
       "                        if (nbb_cells[i].get_text() == nbb_unformatted_code) {\n",
       "                             nbb_cells[i].set_text(nbb_formatted_code);\n",
       "                        }\n",
       "                        break;\n",
       "                    }\n",
       "                }\n",
       "            }, 500);\n",
       "            "
      ],
      "text/plain": [
       "<IPython.core.display.Javascript object>"
      ]
     },
     "metadata": {},
     "output_type": "display_data"
    }
   ],
   "source": [
    "# For loop to split info on commas and separate into respective new columns and removing leading/trailing white space and periods\n",
    "for i, item in enumerate(df[\"info\"]):\n",
    "    info_lst = item.split(\",\")\n",
    "\n",
    "    for j in range(len(info_lst)):\n",
    "        df.loc[i, f\"info_{j}\"] = info_lst[j].strip(\" .\")\n",
    "\n",
    "# Checking the first 2 rows\n",
    "df.head(2)"
   ]
  },
  {
   "cell_type": "code",
   "execution_count": 20,
   "id": "6dd3620b",
   "metadata": {},
   "outputs": [
    {
     "data": {
      "text/html": [
       "<div>\n",
       "<style scoped>\n",
       "    .dataframe tbody tr th:only-of-type {\n",
       "        vertical-align: middle;\n",
       "    }\n",
       "\n",
       "    .dataframe tbody tr th {\n",
       "        vertical-align: top;\n",
       "    }\n",
       "\n",
       "    .dataframe thead th {\n",
       "        text-align: right;\n",
       "    }\n",
       "</style>\n",
       "<table border=\"1\" class=\"dataframe\">\n",
       "  <thead>\n",
       "    <tr style=\"text-align: right;\">\n",
       "      <th></th>\n",
       "      <th>day</th>\n",
       "      <th>name</th>\n",
       "      <th>info</th>\n",
       "      <th>link</th>\n",
       "      <th>num_references</th>\n",
       "      <th>year</th>\n",
       "      <th>month</th>\n",
       "      <th>info_parenth</th>\n",
       "      <th>info_0</th>\n",
       "      <th>info_1</th>\n",
       "      <th>info_2</th>\n",
       "      <th>info_3</th>\n",
       "      <th>info_4</th>\n",
       "      <th>info_5</th>\n",
       "      <th>info_6</th>\n",
       "      <th>info_7</th>\n",
       "      <th>info_8</th>\n",
       "      <th>info_9</th>\n",
       "      <th>info_10</th>\n",
       "      <th>info_11</th>\n",
       "    </tr>\n",
       "  </thead>\n",
       "  <tbody>\n",
       "    <tr>\n",
       "      <th>132973</th>\n",
       "      <td>9</td>\n",
       "      <td>Oleg Moliboga</td>\n",
       "      <td>, 69, Russian volleyball player, Olympic champion  and coach.</td>\n",
       "      <td>https://en.wikipedia.org/wiki/Oleg_Moliboga</td>\n",
       "      <td>2</td>\n",
       "      <td>2022</td>\n",
       "      <td>June</td>\n",
       "      <td>(1980)</td>\n",
       "      <td></td>\n",
       "      <td>69</td>\n",
       "      <td>Russian volleyball player</td>\n",
       "      <td>Olympic champion  and coach</td>\n",
       "      <td>NaN</td>\n",
       "      <td>NaN</td>\n",
       "      <td>NaN</td>\n",
       "      <td>NaN</td>\n",
       "      <td>NaN</td>\n",
       "      <td>NaN</td>\n",
       "      <td>NaN</td>\n",
       "      <td>NaN</td>\n",
       "    </tr>\n",
       "    <tr>\n",
       "      <th>132974</th>\n",
       "      <td>9</td>\n",
       "      <td>Zou Jing</td>\n",
       "      <td>, 86, Chinese engineer, member of the Chinese Academy of Engineering.</td>\n",
       "      <td>https://en.wikipedia.org/wiki/Zou_Jing_(engineer)</td>\n",
       "      <td>3</td>\n",
       "      <td>2022</td>\n",
       "      <td>June</td>\n",
       "      <td>NaN</td>\n",
       "      <td></td>\n",
       "      <td>86</td>\n",
       "      <td>Chinese engineer</td>\n",
       "      <td>member of the Chinese Academy of Engineering</td>\n",
       "      <td>NaN</td>\n",
       "      <td>NaN</td>\n",
       "      <td>NaN</td>\n",
       "      <td>NaN</td>\n",
       "      <td>NaN</td>\n",
       "      <td>NaN</td>\n",
       "      <td>NaN</td>\n",
       "      <td>NaN</td>\n",
       "    </tr>\n",
       "  </tbody>\n",
       "</table>\n",
       "</div>"
      ],
      "text/plain": [
       "       day           name  \\\n",
       "132973   9  Oleg Moliboga   \n",
       "132974   9       Zou Jing   \n",
       "\n",
       "                                                                         info  \\\n",
       "132973          , 69, Russian volleyball player, Olympic champion  and coach.   \n",
       "132974  , 86, Chinese engineer, member of the Chinese Academy of Engineering.   \n",
       "\n",
       "                                                     link num_references  \\\n",
       "132973        https://en.wikipedia.org/wiki/Oleg_Moliboga              2   \n",
       "132974  https://en.wikipedia.org/wiki/Zou_Jing_(engineer)              3   \n",
       "\n",
       "        year month info_parenth info_0 info_1                     info_2  \\\n",
       "132973  2022  June       (1980)            69  Russian volleyball player   \n",
       "132974  2022  June          NaN            86           Chinese engineer   \n",
       "\n",
       "                                              info_3 info_4 info_5 info_6  \\\n",
       "132973                   Olympic champion  and coach    NaN    NaN    NaN   \n",
       "132974  member of the Chinese Academy of Engineering    NaN    NaN    NaN   \n",
       "\n",
       "       info_7 info_8 info_9 info_10 info_11  \n",
       "132973    NaN    NaN    NaN     NaN     NaN  \n",
       "132974    NaN    NaN    NaN     NaN     NaN  "
      ]
     },
     "execution_count": 20,
     "metadata": {},
     "output_type": "execute_result"
    },
    {
     "data": {
      "application/javascript": [
       "\n",
       "            setTimeout(function() {\n",
       "                var nbb_cell_id = 20;\n",
       "                var nbb_unformatted_code = \"# Checking the last 2 rows\\ndf.tail(2)\";\n",
       "                var nbb_formatted_code = \"# Checking the last 2 rows\\ndf.tail(2)\";\n",
       "                var nbb_cells = Jupyter.notebook.get_cells();\n",
       "                for (var i = 0; i < nbb_cells.length; ++i) {\n",
       "                    if (nbb_cells[i].input_prompt_number == nbb_cell_id) {\n",
       "                        if (nbb_cells[i].get_text() == nbb_unformatted_code) {\n",
       "                             nbb_cells[i].set_text(nbb_formatted_code);\n",
       "                        }\n",
       "                        break;\n",
       "                    }\n",
       "                }\n",
       "            }, 500);\n",
       "            "
      ],
      "text/plain": [
       "<IPython.core.display.Javascript object>"
      ]
     },
     "metadata": {},
     "output_type": "display_data"
    }
   ],
   "source": [
    "# Checking the last 2 rows\n",
    "df.tail(2)"
   ]
  },
  {
   "cell_type": "markdown",
   "id": "782b48d0",
   "metadata": {},
   "source": [
    "#### Observations:\n",
    "- The `info` value is successfully divided and we can proceed through it column by column.\n",
    "- We will check the set of values for the first two columns, for age."
   ]
  },
  {
   "cell_type": "markdown",
   "id": "2fcf7d87",
   "metadata": {},
   "source": [
    "### `info_0`"
   ]
  },
  {
   "cell_type": "code",
   "execution_count": 21,
   "id": "59ace6ae",
   "metadata": {},
   "outputs": [
    {
     "data": {
      "text/plain": [
       "                                                                         132946\n",
       "Sir                                                                           6\n",
       "92                                                                            2\n",
       "Douglas Scott                                                                 1\n",
       "VC                                                                            1\n",
       "Sir Woolwich West                                                             1\n",
       "Sir Lord Justice of Appeal                                                    1\n",
       "Dame MEP                                                                      1\n",
       "83                                                                            1\n",
       "Sir Governor-General                                                          1\n",
       "Notable ice hockey players and coaches among the 44 killed in the :\\n         1\n",
       "Mike Alexander                                                                1\n",
       "Colonel                                                                       1\n",
       "Sir Edinburgh University                                                      1\n",
       "Nearly 3                                                                      1\n",
       "Herbert Wiere                                                                 1\n",
       "Sir Winchester                                                                1\n",
       "aka Abu Hamza                                                                 1\n",
       "aka \"Dino Sete Cordas\"                                                        1\n",
       "Kim Hwan-Sung                                                                 1\n",
       "Sarah-Jayne Mulvihill                                                         1\n",
       "aka \"Sammy Steamboat\"                                                         1\n",
       "aka J Dilla                                                                   1\n",
       "Sir Premier                                                                   1\n",
       "Name: info_0, dtype: int64"
      ]
     },
     "execution_count": 21,
     "metadata": {},
     "output_type": "execute_result"
    },
    {
     "data": {
      "application/javascript": [
       "\n",
       "            setTimeout(function() {\n",
       "                var nbb_cell_id = 21;\n",
       "                var nbb_unformatted_code = \"# Checking unique value counts\\ndf[\\\"info_0\\\"].value_counts()\";\n",
       "                var nbb_formatted_code = \"# Checking unique value counts\\ndf[\\\"info_0\\\"].value_counts()\";\n",
       "                var nbb_cells = Jupyter.notebook.get_cells();\n",
       "                for (var i = 0; i < nbb_cells.length; ++i) {\n",
       "                    if (nbb_cells[i].input_prompt_number == nbb_cell_id) {\n",
       "                        if (nbb_cells[i].get_text() == nbb_unformatted_code) {\n",
       "                             nbb_cells[i].set_text(nbb_formatted_code);\n",
       "                        }\n",
       "                        break;\n",
       "                    }\n",
       "                }\n",
       "            }, 500);\n",
       "            "
      ],
      "text/plain": [
       "<IPython.core.display.Javascript object>"
      ]
     },
     "metadata": {},
     "output_type": "display_data"
    }
   ],
   "source": [
    "# Checking unique value counts\n",
    "df[\"info_0\"].value_counts()"
   ]
  },
  {
   "cell_type": "markdown",
   "id": "753ef185",
   "metadata": {},
   "source": [
    "#### Observations:\n",
    "- The vast majority of rows have an empty string for this field.\n",
    "- There is one row representing a group, rather than an individual, and we will drop it.\n",
    "- We should verify the name and age information for the remainder of unique values in `info_0`."
   ]
  },
  {
   "cell_type": "markdown",
   "id": "58fce724",
   "metadata": {},
   "source": [
    "#### Dropping Entry for Group"
   ]
  },
  {
   "cell_type": "code",
   "execution_count": 22,
   "id": "92834b47",
   "metadata": {},
   "outputs": [
    {
     "data": {
      "text/html": [
       "<div>\n",
       "<style scoped>\n",
       "    .dataframe tbody tr th:only-of-type {\n",
       "        vertical-align: middle;\n",
       "    }\n",
       "\n",
       "    .dataframe tbody tr th {\n",
       "        vertical-align: top;\n",
       "    }\n",
       "\n",
       "    .dataframe thead th {\n",
       "        text-align: right;\n",
       "    }\n",
       "</style>\n",
       "<table border=\"1\" class=\"dataframe\">\n",
       "  <thead>\n",
       "    <tr style=\"text-align: right;\">\n",
       "      <th></th>\n",
       "      <th>day</th>\n",
       "      <th>name</th>\n",
       "      <th>info</th>\n",
       "      <th>link</th>\n",
       "      <th>num_references</th>\n",
       "      <th>year</th>\n",
       "      <th>month</th>\n",
       "      <th>info_parenth</th>\n",
       "      <th>info_0</th>\n",
       "      <th>info_1</th>\n",
       "      <th>info_2</th>\n",
       "      <th>info_3</th>\n",
       "      <th>info_4</th>\n",
       "      <th>info_5</th>\n",
       "      <th>info_6</th>\n",
       "      <th>info_7</th>\n",
       "      <th>info_8</th>\n",
       "      <th>info_9</th>\n",
       "      <th>info_10</th>\n",
       "      <th>info_11</th>\n",
       "    </tr>\n",
       "  </thead>\n",
       "  <tbody>\n",
       "    <tr>\n",
       "      <th>51130</th>\n",
       "      <td>7</td>\n",
       "      <td>2011 Lokomotiv Yaroslavl plane crash</td>\n",
       "      <td>Notable ice hockey players and coaches among the 44 killed in the :\\n</td>\n",
       "      <td>https://en.wikipedia.org/wiki/2011_Lokomotiv_Yaroslavl_plane_crash</td>\n",
       "      <td>95</td>\n",
       "      <td>2011</td>\n",
       "      <td>September</td>\n",
       "      <td>NaN</td>\n",
       "      <td>Notable ice hockey players and coaches among the 44 killed in the :\\n</td>\n",
       "      <td>NaN</td>\n",
       "      <td>NaN</td>\n",
       "      <td>NaN</td>\n",
       "      <td>NaN</td>\n",
       "      <td>NaN</td>\n",
       "      <td>NaN</td>\n",
       "      <td>NaN</td>\n",
       "      <td>NaN</td>\n",
       "      <td>NaN</td>\n",
       "      <td>NaN</td>\n",
       "      <td>NaN</td>\n",
       "    </tr>\n",
       "  </tbody>\n",
       "</table>\n",
       "</div>"
      ],
      "text/plain": [
       "      day                                  name  \\\n",
       "51130   7  2011 Lokomotiv Yaroslavl plane crash   \n",
       "\n",
       "                                                                        info  \\\n",
       "51130  Notable ice hockey players and coaches among the 44 killed in the :\\n   \n",
       "\n",
       "                                                                     link  \\\n",
       "51130  https://en.wikipedia.org/wiki/2011_Lokomotiv_Yaroslavl_plane_crash   \n",
       "\n",
       "      num_references  year      month info_parenth  \\\n",
       "51130             95  2011  September          NaN   \n",
       "\n",
       "                                                                      info_0  \\\n",
       "51130  Notable ice hockey players and coaches among the 44 killed in the :\\n   \n",
       "\n",
       "      info_1 info_2 info_3 info_4 info_5 info_6 info_7 info_8 info_9 info_10  \\\n",
       "51130    NaN    NaN    NaN    NaN    NaN    NaN    NaN    NaN    NaN     NaN   \n",
       "\n",
       "      info_11  \n",
       "51130     NaN  "
      ]
     },
     "execution_count": 22,
     "metadata": {},
     "output_type": "execute_result"
    },
    {
     "data": {
      "application/javascript": [
       "\n",
       "            setTimeout(function() {\n",
       "                var nbb_cell_id = 22;\n",
       "                var nbb_unformatted_code = \"# Checking the entry representing a group\\ngroup_entry = df[\\n    df[\\\"info_0\\\"]\\n    == \\\"Notable ice hockey players and coaches among the 44 killed in the :\\\\n\\\"\\n]\\ngroup_entry\";\n",
       "                var nbb_formatted_code = \"# Checking the entry representing a group\\ngroup_entry = df[\\n    df[\\\"info_0\\\"]\\n    == \\\"Notable ice hockey players and coaches among the 44 killed in the :\\\\n\\\"\\n]\\ngroup_entry\";\n",
       "                var nbb_cells = Jupyter.notebook.get_cells();\n",
       "                for (var i = 0; i < nbb_cells.length; ++i) {\n",
       "                    if (nbb_cells[i].input_prompt_number == nbb_cell_id) {\n",
       "                        if (nbb_cells[i].get_text() == nbb_unformatted_code) {\n",
       "                             nbb_cells[i].set_text(nbb_formatted_code);\n",
       "                        }\n",
       "                        break;\n",
       "                    }\n",
       "                }\n",
       "            }, 500);\n",
       "            "
      ],
      "text/plain": [
       "<IPython.core.display.Javascript object>"
      ]
     },
     "metadata": {},
     "output_type": "display_data"
    }
   ],
   "source": [
    "# Checking the entry representing a group\n",
    "group_entry = df[\n",
    "    df[\"info_0\"]\n",
    "    == \"Notable ice hockey players and coaches among the 44 killed in the :\\n\"\n",
    "]\n",
    "group_entry"
   ]
  },
  {
   "cell_type": "code",
   "execution_count": 23,
   "id": "b3356b2c",
   "metadata": {},
   "outputs": [
    {
     "data": {
      "text/plain": [
       "(132974, 20)"
      ]
     },
     "execution_count": 23,
     "metadata": {},
     "output_type": "execute_result"
    },
    {
     "data": {
      "application/javascript": [
       "\n",
       "            setTimeout(function() {\n",
       "                var nbb_cell_id = 23;\n",
       "                var nbb_unformatted_code = \"# Dropping group entry, resetting index, and checking new shape of df\\ndf.drop(group_entry.index, inplace=True)\\ndf.reset_index(inplace=True, drop=True)\\ndf.shape\";\n",
       "                var nbb_formatted_code = \"# Dropping group entry, resetting index, and checking new shape of df\\ndf.drop(group_entry.index, inplace=True)\\ndf.reset_index(inplace=True, drop=True)\\ndf.shape\";\n",
       "                var nbb_cells = Jupyter.notebook.get_cells();\n",
       "                for (var i = 0; i < nbb_cells.length; ++i) {\n",
       "                    if (nbb_cells[i].input_prompt_number == nbb_cell_id) {\n",
       "                        if (nbb_cells[i].get_text() == nbb_unformatted_code) {\n",
       "                             nbb_cells[i].set_text(nbb_formatted_code);\n",
       "                        }\n",
       "                        break;\n",
       "                    }\n",
       "                }\n",
       "            }, 500);\n",
       "            "
      ],
      "text/plain": [
       "<IPython.core.display.Javascript object>"
      ]
     },
     "metadata": {},
     "output_type": "display_data"
    }
   ],
   "source": [
    "# Dropping group entry, resetting index, and checking new shape of df\n",
    "df.drop(group_entry.index, inplace=True)\n",
    "df.reset_index(inplace=True, drop=True)\n",
    "df.shape"
   ]
  },
  {
   "cell_type": "markdown",
   "id": "f3d5810c",
   "metadata": {},
   "source": [
    "#### Examining Rows with Atypical `info_0` Values"
   ]
  },
  {
   "cell_type": "code",
   "execution_count": 24,
   "id": "79f235ce",
   "metadata": {
    "scrolled": true
   },
   "outputs": [
    {
     "data": {
      "text/html": [
       "<div>\n",
       "<style scoped>\n",
       "    .dataframe tbody tr th:only-of-type {\n",
       "        vertical-align: middle;\n",
       "    }\n",
       "\n",
       "    .dataframe tbody tr th {\n",
       "        vertical-align: top;\n",
       "    }\n",
       "\n",
       "    .dataframe thead th {\n",
       "        text-align: right;\n",
       "    }\n",
       "</style>\n",
       "<table border=\"1\" class=\"dataframe\">\n",
       "  <thead>\n",
       "    <tr style=\"text-align: right;\">\n",
       "      <th></th>\n",
       "      <th>day</th>\n",
       "      <th>name</th>\n",
       "      <th>info</th>\n",
       "      <th>link</th>\n",
       "      <th>num_references</th>\n",
       "      <th>year</th>\n",
       "      <th>month</th>\n",
       "      <th>info_parenth</th>\n",
       "      <th>info_0</th>\n",
       "      <th>info_1</th>\n",
       "      <th>info_2</th>\n",
       "      <th>info_3</th>\n",
       "      <th>info_4</th>\n",
       "      <th>info_5</th>\n",
       "      <th>info_6</th>\n",
       "      <th>info_7</th>\n",
       "      <th>info_8</th>\n",
       "      <th>info_9</th>\n",
       "      <th>info_10</th>\n",
       "      <th>info_11</th>\n",
       "    </tr>\n",
       "  </thead>\n",
       "  <tbody>\n",
       "    <tr>\n",
       "      <th>30349</th>\n",
       "      <td>25</td>\n",
       "      <td>Julian Bullard</td>\n",
       "      <td>Sir , 78, British diplomat.</td>\n",
       "      <td>https://en.wikipedia.org/wiki/Julian_Bullard</td>\n",
       "      <td>3</td>\n",
       "      <td>2006</td>\n",
       "      <td>May</td>\n",
       "      <td>NaN</td>\n",
       "      <td>Sir</td>\n",
       "      <td>78</td>\n",
       "      <td>British diplomat</td>\n",
       "      <td>NaN</td>\n",
       "      <td>NaN</td>\n",
       "      <td>NaN</td>\n",
       "      <td>NaN</td>\n",
       "      <td>NaN</td>\n",
       "      <td>NaN</td>\n",
       "      <td>NaN</td>\n",
       "      <td>NaN</td>\n",
       "      <td>NaN</td>\n",
       "    </tr>\n",
       "    <tr>\n",
       "      <th>31140</th>\n",
       "      <td>1</td>\n",
       "      <td>Kyffin Williams</td>\n",
       "      <td>Sir , 88, Welsh artist, lung and prostate cancer.</td>\n",
       "      <td>https://en.wikipedia.org/wiki/Kyffin_Williams</td>\n",
       "      <td>15</td>\n",
       "      <td>2006</td>\n",
       "      <td>September</td>\n",
       "      <td>NaN</td>\n",
       "      <td>Sir</td>\n",
       "      <td>88</td>\n",
       "      <td>Welsh artist</td>\n",
       "      <td>lung and prostate cancer</td>\n",
       "      <td>NaN</td>\n",
       "      <td>NaN</td>\n",
       "      <td>NaN</td>\n",
       "      <td>NaN</td>\n",
       "      <td>NaN</td>\n",
       "      <td>NaN</td>\n",
       "      <td>NaN</td>\n",
       "      <td>NaN</td>\n",
       "    </tr>\n",
       "    <tr>\n",
       "      <th>34207</th>\n",
       "      <td>15</td>\n",
       "      <td>Jeremy Moore</td>\n",
       "      <td>Sir , 79, British soldier, commander of UK land forces in the Falklands War.</td>\n",
       "      <td>https://en.wikipedia.org/wiki/Jeremy_Moore</td>\n",
       "      <td>3</td>\n",
       "      <td>2007</td>\n",
       "      <td>September</td>\n",
       "      <td>NaN</td>\n",
       "      <td>Sir</td>\n",
       "      <td>79</td>\n",
       "      <td>British soldier</td>\n",
       "      <td>commander of UK land forces in the Falklands War</td>\n",
       "      <td>NaN</td>\n",
       "      <td>NaN</td>\n",
       "      <td>NaN</td>\n",
       "      <td>NaN</td>\n",
       "      <td>NaN</td>\n",
       "      <td>NaN</td>\n",
       "      <td>NaN</td>\n",
       "      <td>NaN</td>\n",
       "    </tr>\n",
       "    <tr>\n",
       "      <th>43606</th>\n",
       "      <td>29</td>\n",
       "      <td>Derek Hodgkinson</td>\n",
       "      <td>Sir , 92, British air chief marshal.</td>\n",
       "      <td>https://en.wikipedia.org/wiki/Derek_Hodgkinson</td>\n",
       "      <td>5</td>\n",
       "      <td>2010</td>\n",
       "      <td>January</td>\n",
       "      <td>NaN</td>\n",
       "      <td>Sir</td>\n",
       "      <td>92</td>\n",
       "      <td>British air chief marshal</td>\n",
       "      <td>NaN</td>\n",
       "      <td>NaN</td>\n",
       "      <td>NaN</td>\n",
       "      <td>NaN</td>\n",
       "      <td>NaN</td>\n",
       "      <td>NaN</td>\n",
       "      <td>NaN</td>\n",
       "      <td>NaN</td>\n",
       "      <td>NaN</td>\n",
       "    </tr>\n",
       "    <tr>\n",
       "      <th>67212</th>\n",
       "      <td>7</td>\n",
       "      <td>Richard Best</td>\n",
       "      <td>Sir , 80, British diplomat, Ambassador to Iceland .</td>\n",
       "      <td>https://en.wikipedia.org/wiki/Richard_Best_(diplomat)</td>\n",
       "      <td>5</td>\n",
       "      <td>2014</td>\n",
       "      <td>March</td>\n",
       "      <td>(1989–1991)</td>\n",
       "      <td>Sir</td>\n",
       "      <td>80</td>\n",
       "      <td>British diplomat</td>\n",
       "      <td>Ambassador to Iceland</td>\n",
       "      <td>NaN</td>\n",
       "      <td>NaN</td>\n",
       "      <td>NaN</td>\n",
       "      <td>NaN</td>\n",
       "      <td>NaN</td>\n",
       "      <td>NaN</td>\n",
       "      <td>NaN</td>\n",
       "      <td>NaN</td>\n",
       "    </tr>\n",
       "    <tr>\n",
       "      <th>67217</th>\n",
       "      <td>7</td>\n",
       "      <td>Thomas Hinde</td>\n",
       "      <td>Sir , 88, British novelist.</td>\n",
       "      <td>https://en.wikipedia.org/wiki/Thomas_Hinde_(novelist)</td>\n",
       "      <td>13</td>\n",
       "      <td>2014</td>\n",
       "      <td>March</td>\n",
       "      <td>NaN</td>\n",
       "      <td>Sir</td>\n",
       "      <td>88</td>\n",
       "      <td>British novelist</td>\n",
       "      <td>NaN</td>\n",
       "      <td>NaN</td>\n",
       "      <td>NaN</td>\n",
       "      <td>NaN</td>\n",
       "      <td>NaN</td>\n",
       "      <td>NaN</td>\n",
       "      <td>NaN</td>\n",
       "      <td>NaN</td>\n",
       "      <td>NaN</td>\n",
       "    </tr>\n",
       "    <tr>\n",
       "      <th>33086</th>\n",
       "      <td>28</td>\n",
       "      <td>David Turnbull</td>\n",
       "      <td>. 92, American materials scientist.</td>\n",
       "      <td>https://en.wikipedia.org/wiki/David_Turnbull_(materials_scientist)</td>\n",
       "      <td>8</td>\n",
       "      <td>2007</td>\n",
       "      <td>April</td>\n",
       "      <td>NaN</td>\n",
       "      <td>92</td>\n",
       "      <td>American materials scientist</td>\n",
       "      <td>NaN</td>\n",
       "      <td>NaN</td>\n",
       "      <td>NaN</td>\n",
       "      <td>NaN</td>\n",
       "      <td>NaN</td>\n",
       "      <td>NaN</td>\n",
       "      <td>NaN</td>\n",
       "      <td>NaN</td>\n",
       "      <td>NaN</td>\n",
       "      <td>NaN</td>\n",
       "    </tr>\n",
       "    <tr>\n",
       "      <th>117387</th>\n",
       "      <td>11</td>\n",
       "      <td>Gotthilf Fischer</td>\n",
       "      <td>92, German choral conductor .</td>\n",
       "      <td>https://en.wikipedia.org/wiki/Gotthilf_Fischer</td>\n",
       "      <td>4</td>\n",
       "      <td>2020</td>\n",
       "      <td>December</td>\n",
       "      <td>(Fischer-Chöre)</td>\n",
       "      <td>92</td>\n",
       "      <td>German choral conductor</td>\n",
       "      <td>NaN</td>\n",
       "      <td>NaN</td>\n",
       "      <td>NaN</td>\n",
       "      <td>NaN</td>\n",
       "      <td>NaN</td>\n",
       "      <td>NaN</td>\n",
       "      <td>NaN</td>\n",
       "      <td>NaN</td>\n",
       "      <td>NaN</td>\n",
       "      <td>NaN</td>\n",
       "    </tr>\n",
       "    <tr>\n",
       "      <th>67517</th>\n",
       "      <td>21</td>\n",
       "      <td>Colin Turner</td>\n",
       "      <td>Sir Woolwich West, 92, British politician, MP for  .</td>\n",
       "      <td>https://en.wikipedia.org/wiki/Colin_Turner</td>\n",
       "      <td>3</td>\n",
       "      <td>2014</td>\n",
       "      <td>March</td>\n",
       "      <td>(1959–1964)</td>\n",
       "      <td>Sir Woolwich West</td>\n",
       "      <td>92</td>\n",
       "      <td>British politician</td>\n",
       "      <td>MP for</td>\n",
       "      <td>NaN</td>\n",
       "      <td>NaN</td>\n",
       "      <td>NaN</td>\n",
       "      <td>NaN</td>\n",
       "      <td>NaN</td>\n",
       "      <td>NaN</td>\n",
       "      <td>NaN</td>\n",
       "      <td>NaN</td>\n",
       "    </tr>\n",
       "    <tr>\n",
       "      <th>67162</th>\n",
       "      <td>5</td>\n",
       "      <td>Robin Dunn</td>\n",
       "      <td>Sir Lord Justice of Appeal, 96, British jurist,  .</td>\n",
       "      <td>https://en.wikipedia.org/wiki/Robin_Dunn</td>\n",
       "      <td>3</td>\n",
       "      <td>2014</td>\n",
       "      <td>March</td>\n",
       "      <td>(1980–1984)</td>\n",
       "      <td>Sir Lord Justice of Appeal</td>\n",
       "      <td>96</td>\n",
       "      <td>British jurist</td>\n",
       "      <td></td>\n",
       "      <td>NaN</td>\n",
       "      <td>NaN</td>\n",
       "      <td>NaN</td>\n",
       "      <td>NaN</td>\n",
       "      <td>NaN</td>\n",
       "      <td>NaN</td>\n",
       "      <td>NaN</td>\n",
       "      <td>NaN</td>\n",
       "    </tr>\n",
       "    <tr>\n",
       "      <th>67152</th>\n",
       "      <td>4</td>\n",
       "      <td>Elaine Kellett-Bowman</td>\n",
       "      <td>Dame MEP, 90, British politician and barrister, MP for Lancaster .</td>\n",
       "      <td>https://en.wikipedia.org/wiki/Elaine_Kellett-Bowman</td>\n",
       "      <td>3</td>\n",
       "      <td>2014</td>\n",
       "      <td>March</td>\n",
       "      <td>(1970–1997) and  (1975–1984)</td>\n",
       "      <td>Dame MEP</td>\n",
       "      <td>90</td>\n",
       "      <td>British politician and barrister</td>\n",
       "      <td>MP for Lancaster</td>\n",
       "      <td>NaN</td>\n",
       "      <td>NaN</td>\n",
       "      <td>NaN</td>\n",
       "      <td>NaN</td>\n",
       "      <td>NaN</td>\n",
       "      <td>NaN</td>\n",
       "      <td>NaN</td>\n",
       "      <td>NaN</td>\n",
       "    </tr>\n",
       "    <tr>\n",
       "      <th>59616</th>\n",
       "      <td>24</td>\n",
       "      <td>Kristján Jóhannsson</td>\n",
       "      <td>83, Icelandic Olympic athlete.</td>\n",
       "      <td>https://en.wikipedia.org/wiki/Kristj%C3%A1n_J%C3%B3hannsson_(athlete)</td>\n",
       "      <td>2</td>\n",
       "      <td>2013</td>\n",
       "      <td>January</td>\n",
       "      <td>NaN</td>\n",
       "      <td>83</td>\n",
       "      <td>Icelandic Olympic athlete</td>\n",
       "      <td>NaN</td>\n",
       "      <td>NaN</td>\n",
       "      <td>NaN</td>\n",
       "      <td>NaN</td>\n",
       "      <td>NaN</td>\n",
       "      <td>NaN</td>\n",
       "      <td>NaN</td>\n",
       "      <td>NaN</td>\n",
       "      <td>NaN</td>\n",
       "      <td>NaN</td>\n",
       "    </tr>\n",
       "    <tr>\n",
       "      <th>52580</th>\n",
       "      <td>25</td>\n",
       "      <td>Moses Pitakaka</td>\n",
       "      <td>Sir Governor-General, 66, Solomon Islander politician,  .</td>\n",
       "      <td>https://en.wikipedia.org/wiki/Moses_Pitakaka</td>\n",
       "      <td>4</td>\n",
       "      <td>2011</td>\n",
       "      <td>December</td>\n",
       "      <td>(1994–1999)</td>\n",
       "      <td>Sir Governor-General</td>\n",
       "      <td>66</td>\n",
       "      <td>Solomon Islander politician</td>\n",
       "      <td></td>\n",
       "      <td>NaN</td>\n",
       "      <td>NaN</td>\n",
       "      <td>NaN</td>\n",
       "      <td>NaN</td>\n",
       "      <td>NaN</td>\n",
       "      <td>NaN</td>\n",
       "      <td>NaN</td>\n",
       "      <td>NaN</td>\n",
       "    </tr>\n",
       "    <tr>\n",
       "      <th>42140</th>\n",
       "      <td>5</td>\n",
       "      <td>Evile</td>\n",
       "      <td>Mike Alexander, 32, British bassist , pulmonary embolism.</td>\n",
       "      <td>https://en.wikipedia.org/wiki/Evile</td>\n",
       "      <td>82</td>\n",
       "      <td>2009</td>\n",
       "      <td>October</td>\n",
       "      <td>()</td>\n",
       "      <td>Mike Alexander</td>\n",
       "      <td>32</td>\n",
       "      <td>British bassist</td>\n",
       "      <td>pulmonary embolism</td>\n",
       "      <td>NaN</td>\n",
       "      <td>NaN</td>\n",
       "      <td>NaN</td>\n",
       "      <td>NaN</td>\n",
       "      <td>NaN</td>\n",
       "      <td>NaN</td>\n",
       "      <td>NaN</td>\n",
       "      <td>NaN</td>\n",
       "    </tr>\n",
       "    <tr>\n",
       "      <th>40355</th>\n",
       "      <td>22</td>\n",
       "      <td>Dudley Thornton</td>\n",
       "      <td>Colonel , 89, British army officer.</td>\n",
       "      <td>https://en.wikipedia.org/wiki/Dudley_Thornton</td>\n",
       "      <td>5</td>\n",
       "      <td>2009</td>\n",
       "      <td>April</td>\n",
       "      <td>NaN</td>\n",
       "      <td>Colonel</td>\n",
       "      <td>89</td>\n",
       "      <td>British army officer</td>\n",
       "      <td>NaN</td>\n",
       "      <td>NaN</td>\n",
       "      <td>NaN</td>\n",
       "      <td>NaN</td>\n",
       "      <td>NaN</td>\n",
       "      <td>NaN</td>\n",
       "      <td>NaN</td>\n",
       "      <td>NaN</td>\n",
       "      <td>NaN</td>\n",
       "    </tr>\n",
       "    <tr>\n",
       "      <th>34171</th>\n",
       "      <td>9</td>\n",
       "      <td>Sir Tasker Watkins</td>\n",
       "      <td>VC, 88, British jurist and businessman, Lord Justice of Appeal and former WRU President, after short illness.</td>\n",
       "      <td>https://en.wikipedia.org/wiki/Tasker_Watkins</td>\n",
       "      <td>22</td>\n",
       "      <td>2007</td>\n",
       "      <td>September</td>\n",
       "      <td>NaN</td>\n",
       "      <td>VC</td>\n",
       "      <td>88</td>\n",
       "      <td>British jurist and businessman</td>\n",
       "      <td>Lord Justice of Appeal and former WRU President</td>\n",
       "      <td>after short illness</td>\n",
       "      <td>NaN</td>\n",
       "      <td>NaN</td>\n",
       "      <td>NaN</td>\n",
       "      <td>NaN</td>\n",
       "      <td>NaN</td>\n",
       "      <td>NaN</td>\n",
       "      <td>NaN</td>\n",
       "    </tr>\n",
       "    <tr>\n",
       "      <th>33751</th>\n",
       "      <td>22</td>\n",
       "      <td>John Burnett</td>\n",
       "      <td>Sir Edinburgh University, 85, British academic, Principal of  .</td>\n",
       "      <td>https://en.wikipedia.org/wiki/John_Harrison_Burnett</td>\n",
       "      <td>6</td>\n",
       "      <td>2007</td>\n",
       "      <td>July</td>\n",
       "      <td>(1979–1987)</td>\n",
       "      <td>Sir Edinburgh University</td>\n",
       "      <td>85</td>\n",
       "      <td>British academic</td>\n",
       "      <td>Principal of</td>\n",
       "      <td>NaN</td>\n",
       "      <td>NaN</td>\n",
       "      <td>NaN</td>\n",
       "      <td>NaN</td>\n",
       "      <td>NaN</td>\n",
       "      <td>NaN</td>\n",
       "      <td>NaN</td>\n",
       "      <td>NaN</td>\n",
       "    </tr>\n",
       "    <tr>\n",
       "      <th>30468</th>\n",
       "      <td>8</td>\n",
       "      <td>Peter Smithers</td>\n",
       "      <td>Sir Winchester, 92, British politician, MP for Secretary General of the Council of Europe and .</td>\n",
       "      <td>https://en.wikipedia.org/wiki/Peter_Smithers</td>\n",
       "      <td>4</td>\n",
       "      <td>2006</td>\n",
       "      <td>June</td>\n",
       "      <td>NaN</td>\n",
       "      <td>Sir Winchester</td>\n",
       "      <td>92</td>\n",
       "      <td>British politician</td>\n",
       "      <td>MP for Secretary General of the Council of Europe and</td>\n",
       "      <td>NaN</td>\n",
       "      <td>NaN</td>\n",
       "      <td>NaN</td>\n",
       "      <td>NaN</td>\n",
       "      <td>NaN</td>\n",
       "      <td>NaN</td>\n",
       "      <td>NaN</td>\n",
       "      <td>NaN</td>\n",
       "    </tr>\n",
       "    <tr>\n",
       "      <th>14035</th>\n",
       "      <td>5</td>\n",
       "      <td>slapstick</td>\n",
       "      <td>Herbert Wiere, 91, Austrian-born American Wiere Brothers comedian, member of the</td>\n",
       "      <td>https://en.wikipedia.org/wiki/Slapstick</td>\n",
       "      <td>16</td>\n",
       "      <td>1999</td>\n",
       "      <td>August</td>\n",
       "      <td>NaN</td>\n",
       "      <td>Herbert Wiere</td>\n",
       "      <td>91</td>\n",
       "      <td>Austrian-born American Wiere Brothers comedian</td>\n",
       "      <td>member of the</td>\n",
       "      <td>NaN</td>\n",
       "      <td>NaN</td>\n",
       "      <td>NaN</td>\n",
       "      <td>NaN</td>\n",
       "      <td>NaN</td>\n",
       "      <td>NaN</td>\n",
       "      <td>NaN</td>\n",
       "      <td>NaN</td>\n",
       "    </tr>\n",
       "    <tr>\n",
       "      <th>30363</th>\n",
       "      <td>26</td>\n",
       "      <td>Mahmoud al-Majzoub</td>\n",
       "      <td>aka Abu Hamza, 41, Palestinian Islamic Jihad leader, assassination by bombing.</td>\n",
       "      <td>https://en.wikipedia.org/wiki/Mahmoud_al-Majzoub</td>\n",
       "      <td>2</td>\n",
       "      <td>2006</td>\n",
       "      <td>May</td>\n",
       "      <td>NaN</td>\n",
       "      <td>aka Abu Hamza</td>\n",
       "      <td>41</td>\n",
       "      <td>Palestinian Islamic Jihad leader</td>\n",
       "      <td>assassination by bombing</td>\n",
       "      <td>NaN</td>\n",
       "      <td>NaN</td>\n",
       "      <td>NaN</td>\n",
       "      <td>NaN</td>\n",
       "      <td>NaN</td>\n",
       "      <td>NaN</td>\n",
       "      <td>NaN</td>\n",
       "      <td>NaN</td>\n",
       "    </tr>\n",
       "    <tr>\n",
       "      <th>30358</th>\n",
       "      <td>26</td>\n",
       "      <td>Horondino José da Silva</td>\n",
       "      <td>aka \"Dino Sete Cordas\", 88, Brazilian virtuouso of the seven-string guitar.</td>\n",
       "      <td>https://en.wikipedia.org/wiki/Dino_7_Cordas</td>\n",
       "      <td>2</td>\n",
       "      <td>2006</td>\n",
       "      <td>May</td>\n",
       "      <td>NaN</td>\n",
       "      <td>aka \"Dino Sete Cordas\"</td>\n",
       "      <td>88</td>\n",
       "      <td>Brazilian virtuouso of the seven-string guitar</td>\n",
       "      <td>NaN</td>\n",
       "      <td>NaN</td>\n",
       "      <td>NaN</td>\n",
       "      <td>NaN</td>\n",
       "      <td>NaN</td>\n",
       "      <td>NaN</td>\n",
       "      <td>NaN</td>\n",
       "      <td>NaN</td>\n",
       "      <td>NaN</td>\n",
       "    </tr>\n",
       "    <tr>\n",
       "      <th>30210</th>\n",
       "      <td>6</td>\n",
       "      <td>Flight Lieutenant</td>\n",
       "      <td>Sarah-Jayne Mulvihill, 32, first British servicewoman to be killed in action in Iraq.</td>\n",
       "      <td>https://en.wikipedia.org/wiki/Flight_Lieutenant</td>\n",
       "      <td>12</td>\n",
       "      <td>2006</td>\n",
       "      <td>May</td>\n",
       "      <td>NaN</td>\n",
       "      <td>Sarah-Jayne Mulvihill</td>\n",
       "      <td>32</td>\n",
       "      <td>first British servicewoman to be killed in action in Iraq</td>\n",
       "      <td>NaN</td>\n",
       "      <td>NaN</td>\n",
       "      <td>NaN</td>\n",
       "      <td>NaN</td>\n",
       "      <td>NaN</td>\n",
       "      <td>NaN</td>\n",
       "      <td>NaN</td>\n",
       "      <td>NaN</td>\n",
       "      <td>NaN</td>\n",
       "    </tr>\n",
       "    <tr>\n",
       "      <th>30188</th>\n",
       "      <td>2</td>\n",
       "      <td>Sam Mokuahi, Jr.</td>\n",
       "      <td>aka \"Sammy Steamboat\", 71, American Hawaiian professional wrestler, complications from Alzheimer's disease.</td>\n",
       "      <td>https://en.wikipedia.org/wiki/Sam_Mokuahi,_Jr.</td>\n",
       "      <td>10</td>\n",
       "      <td>2006</td>\n",
       "      <td>May</td>\n",
       "      <td>NaN</td>\n",
       "      <td>aka \"Sammy Steamboat\"</td>\n",
       "      <td>71</td>\n",
       "      <td>American Hawaiian professional wrestler</td>\n",
       "      <td>complications from Alzheimer's disease</td>\n",
       "      <td>NaN</td>\n",
       "      <td>NaN</td>\n",
       "      <td>NaN</td>\n",
       "      <td>NaN</td>\n",
       "      <td>NaN</td>\n",
       "      <td>NaN</td>\n",
       "      <td>NaN</td>\n",
       "      <td>NaN</td>\n",
       "    </tr>\n",
       "    <tr>\n",
       "      <th>29619</th>\n",
       "      <td>10</td>\n",
       "      <td>James Yancey</td>\n",
       "      <td>aka J Dilla, 32, American hip hop record producer and MC, lupus nephritis.</td>\n",
       "      <td>https://en.wikipedia.org/wiki/J_Dilla</td>\n",
       "      <td>56</td>\n",
       "      <td>2006</td>\n",
       "      <td>February</td>\n",
       "      <td>NaN</td>\n",
       "      <td>aka J Dilla</td>\n",
       "      <td>32</td>\n",
       "      <td>American hip hop record producer and MC</td>\n",
       "      <td>lupus nephritis</td>\n",
       "      <td>NaN</td>\n",
       "      <td>NaN</td>\n",
       "      <td>NaN</td>\n",
       "      <td>NaN</td>\n",
       "      <td>NaN</td>\n",
       "      <td>NaN</td>\n",
       "      <td>NaN</td>\n",
       "      <td>NaN</td>\n",
       "    </tr>\n",
       "    <tr>\n",
       "      <th>18908</th>\n",
       "      <td>11</td>\n",
       "      <td>were killed</td>\n",
       "      <td>Nearly 3,000 people September 11 attacks in the , including:\\n</td>\n",
       "      <td>https://en.wikipedia.org/wiki/Casualties_of_the_September_11_attacks</td>\n",
       "      <td>176</td>\n",
       "      <td>2001</td>\n",
       "      <td>September</td>\n",
       "      <td>NaN</td>\n",
       "      <td>Nearly 3</td>\n",
       "      <td>000 people September 11 attacks in the</td>\n",
       "      <td>including:\\n</td>\n",
       "      <td>NaN</td>\n",
       "      <td>NaN</td>\n",
       "      <td>NaN</td>\n",
       "      <td>NaN</td>\n",
       "      <td>NaN</td>\n",
       "      <td>NaN</td>\n",
       "      <td>NaN</td>\n",
       "      <td>NaN</td>\n",
       "      <td>NaN</td>\n",
       "    </tr>\n",
       "    <tr>\n",
       "      <th>18312</th>\n",
       "      <td>20</td>\n",
       "      <td>Demetreus Nix</td>\n",
       "      <td>Douglas Scott, 20, High-school student murdered by .</td>\n",
       "      <td>https://en.wikipedia.org/w/index.php?title=Demetreus_Nix&amp;action=edit&amp;redlink=1</td>\n",
       "      <td>0</td>\n",
       "      <td>2001</td>\n",
       "      <td>June</td>\n",
       "      <td>NaN</td>\n",
       "      <td>Douglas Scott</td>\n",
       "      <td>20</td>\n",
       "      <td>High-school student murdered by</td>\n",
       "      <td>NaN</td>\n",
       "      <td>NaN</td>\n",
       "      <td>NaN</td>\n",
       "      <td>NaN</td>\n",
       "      <td>NaN</td>\n",
       "      <td>NaN</td>\n",
       "      <td>NaN</td>\n",
       "      <td>NaN</td>\n",
       "      <td>NaN</td>\n",
       "    </tr>\n",
       "    <tr>\n",
       "      <th>15873</th>\n",
       "      <td>15</td>\n",
       "      <td>NRG</td>\n",
       "      <td>Kim Hwan-Sung, 19, A Member of .</td>\n",
       "      <td>https://en.wikipedia.org/wiki/NRG_(South_Korean_band)</td>\n",
       "      <td>27</td>\n",
       "      <td>2000</td>\n",
       "      <td>June</td>\n",
       "      <td>NaN</td>\n",
       "      <td>Kim Hwan-Sung</td>\n",
       "      <td>19</td>\n",
       "      <td>A Member of</td>\n",
       "      <td>NaN</td>\n",
       "      <td>NaN</td>\n",
       "      <td>NaN</td>\n",
       "      <td>NaN</td>\n",
       "      <td>NaN</td>\n",
       "      <td>NaN</td>\n",
       "      <td>NaN</td>\n",
       "      <td>NaN</td>\n",
       "      <td>NaN</td>\n",
       "    </tr>\n",
       "    <tr>\n",
       "      <th>67661</th>\n",
       "      <td>30</td>\n",
       "      <td>David Gibbons</td>\n",
       "      <td>Sir Premier, 85, Bermudian politician,  .</td>\n",
       "      <td>https://en.wikipedia.org/wiki/David_Gibbons_(politician)</td>\n",
       "      <td>5</td>\n",
       "      <td>2014</td>\n",
       "      <td>March</td>\n",
       "      <td>(1977–1982)</td>\n",
       "      <td>Sir Premier</td>\n",
       "      <td>85</td>\n",
       "      <td>Bermudian politician</td>\n",
       "      <td></td>\n",
       "      <td>NaN</td>\n",
       "      <td>NaN</td>\n",
       "      <td>NaN</td>\n",
       "      <td>NaN</td>\n",
       "      <td>NaN</td>\n",
       "      <td>NaN</td>\n",
       "      <td>NaN</td>\n",
       "      <td>NaN</td>\n",
       "    </tr>\n",
       "  </tbody>\n",
       "</table>\n",
       "</div>"
      ],
      "text/plain": [
       "       day                     name  \\\n",
       "30349   25           Julian Bullard   \n",
       "31140    1          Kyffin Williams   \n",
       "34207   15             Jeremy Moore   \n",
       "43606   29         Derek Hodgkinson   \n",
       "67212    7             Richard Best   \n",
       "67217    7             Thomas Hinde   \n",
       "33086   28           David Turnbull   \n",
       "117387  11         Gotthilf Fischer   \n",
       "67517   21             Colin Turner   \n",
       "67162    5               Robin Dunn   \n",
       "67152    4    Elaine Kellett-Bowman   \n",
       "59616   24      Kristján Jóhannsson   \n",
       "52580   25           Moses Pitakaka   \n",
       "42140    5                    Evile   \n",
       "40355   22          Dudley Thornton   \n",
       "34171    9       Sir Tasker Watkins   \n",
       "33751   22             John Burnett   \n",
       "30468    8           Peter Smithers   \n",
       "14035    5                slapstick   \n",
       "30363   26       Mahmoud al-Majzoub   \n",
       "30358   26  Horondino José da Silva   \n",
       "30210    6        Flight Lieutenant   \n",
       "30188    2         Sam Mokuahi, Jr.   \n",
       "29619   10             James Yancey   \n",
       "18908   11              were killed   \n",
       "18312   20            Demetreus Nix   \n",
       "15873   15                      NRG   \n",
       "67661   30            David Gibbons   \n",
       "\n",
       "                                                                                                                  info  \\\n",
       "30349                                                                                      Sir , 78, British diplomat.   \n",
       "31140                                                                Sir , 88, Welsh artist, lung and prostate cancer.   \n",
       "34207                                     Sir , 79, British soldier, commander of UK land forces in the Falklands War.   \n",
       "43606                                                                             Sir , 92, British air chief marshal.   \n",
       "67212                                                              Sir , 80, British diplomat, Ambassador to Iceland .   \n",
       "67217                                                                                      Sir , 88, British novelist.   \n",
       "33086                                                                              . 92, American materials scientist.   \n",
       "117387                                                                                   92, German choral conductor .   \n",
       "67517                                                             Sir Woolwich West, 92, British politician, MP for  .   \n",
       "67162                                                               Sir Lord Justice of Appeal, 96, British jurist,  .   \n",
       "67152                                               Dame MEP, 90, British politician and barrister, MP for Lancaster .   \n",
       "59616                                                                                   83, Icelandic Olympic athlete.   \n",
       "52580                                                        Sir Governor-General, 66, Solomon Islander politician,  .   \n",
       "42140                                                        Mike Alexander, 32, British bassist , pulmonary embolism.   \n",
       "40355                                                                              Colonel , 89, British army officer.   \n",
       "34171    VC, 88, British jurist and businessman, Lord Justice of Appeal and former WRU President, after short illness.   \n",
       "33751                                                  Sir Edinburgh University, 85, British academic, Principal of  .   \n",
       "30468                  Sir Winchester, 92, British politician, MP for Secretary General of the Council of Europe and .   \n",
       "14035                                Herbert Wiere, 91, Austrian-born American Wiere Brothers comedian, member of the    \n",
       "30363                                   aka Abu Hamza, 41, Palestinian Islamic Jihad leader, assassination by bombing.   \n",
       "30358                                      aka \"Dino Sete Cordas\", 88, Brazilian virtuouso of the seven-string guitar.   \n",
       "30210                            Sarah-Jayne Mulvihill, 32, first British servicewoman to be killed in action in Iraq.   \n",
       "30188      aka \"Sammy Steamboat\", 71, American Hawaiian professional wrestler, complications from Alzheimer's disease.   \n",
       "29619                                       aka J Dilla, 32, American hip hop record producer and MC, lupus nephritis.   \n",
       "18908                                                   Nearly 3,000 people September 11 attacks in the , including:\\n   \n",
       "18312                                                             Douglas Scott, 20, High-school student murdered by .   \n",
       "15873                                                                                 Kim Hwan-Sung, 19, A Member of .   \n",
       "67661                                                                        Sir Premier, 85, Bermudian politician,  .   \n",
       "\n",
       "                                                                                  link  \\\n",
       "30349                                     https://en.wikipedia.org/wiki/Julian_Bullard   \n",
       "31140                                    https://en.wikipedia.org/wiki/Kyffin_Williams   \n",
       "34207                                       https://en.wikipedia.org/wiki/Jeremy_Moore   \n",
       "43606                                   https://en.wikipedia.org/wiki/Derek_Hodgkinson   \n",
       "67212                            https://en.wikipedia.org/wiki/Richard_Best_(diplomat)   \n",
       "67217                            https://en.wikipedia.org/wiki/Thomas_Hinde_(novelist)   \n",
       "33086               https://en.wikipedia.org/wiki/David_Turnbull_(materials_scientist)   \n",
       "117387                                  https://en.wikipedia.org/wiki/Gotthilf_Fischer   \n",
       "67517                                       https://en.wikipedia.org/wiki/Colin_Turner   \n",
       "67162                                         https://en.wikipedia.org/wiki/Robin_Dunn   \n",
       "67152                              https://en.wikipedia.org/wiki/Elaine_Kellett-Bowman   \n",
       "59616            https://en.wikipedia.org/wiki/Kristj%C3%A1n_J%C3%B3hannsson_(athlete)   \n",
       "52580                                     https://en.wikipedia.org/wiki/Moses_Pitakaka   \n",
       "42140                                              https://en.wikipedia.org/wiki/Evile   \n",
       "40355                                    https://en.wikipedia.org/wiki/Dudley_Thornton   \n",
       "34171                                     https://en.wikipedia.org/wiki/Tasker_Watkins   \n",
       "33751                              https://en.wikipedia.org/wiki/John_Harrison_Burnett   \n",
       "30468                                     https://en.wikipedia.org/wiki/Peter_Smithers   \n",
       "14035                                          https://en.wikipedia.org/wiki/Slapstick   \n",
       "30363                                 https://en.wikipedia.org/wiki/Mahmoud_al-Majzoub   \n",
       "30358                                      https://en.wikipedia.org/wiki/Dino_7_Cordas   \n",
       "30210                                  https://en.wikipedia.org/wiki/Flight_Lieutenant   \n",
       "30188                                   https://en.wikipedia.org/wiki/Sam_Mokuahi,_Jr.   \n",
       "29619                                            https://en.wikipedia.org/wiki/J_Dilla   \n",
       "18908             https://en.wikipedia.org/wiki/Casualties_of_the_September_11_attacks   \n",
       "18312   https://en.wikipedia.org/w/index.php?title=Demetreus_Nix&action=edit&redlink=1   \n",
       "15873                            https://en.wikipedia.org/wiki/NRG_(South_Korean_band)   \n",
       "67661                         https://en.wikipedia.org/wiki/David_Gibbons_(politician)   \n",
       "\n",
       "       num_references  year      month                  info_parenth  \\\n",
       "30349               3  2006        May                           NaN   \n",
       "31140              15  2006  September                           NaN   \n",
       "34207               3  2007  September                           NaN   \n",
       "43606               5  2010    January                           NaN   \n",
       "67212               5  2014      March                   (1989–1991)   \n",
       "67217              13  2014      March                           NaN   \n",
       "33086               8  2007      April                           NaN   \n",
       "117387              4  2020   December               (Fischer-Chöre)   \n",
       "67517               3  2014      March                   (1959–1964)   \n",
       "67162               3  2014      March                   (1980–1984)   \n",
       "67152               3  2014      March  (1970–1997) and  (1975–1984)   \n",
       "59616               2  2013    January                           NaN   \n",
       "52580               4  2011   December                   (1994–1999)   \n",
       "42140              82  2009    October                            ()   \n",
       "40355               5  2009      April                           NaN   \n",
       "34171              22  2007  September                           NaN   \n",
       "33751               6  2007       July                   (1979–1987)   \n",
       "30468               4  2006       June                           NaN   \n",
       "14035              16  1999     August                           NaN   \n",
       "30363               2  2006        May                           NaN   \n",
       "30358               2  2006        May                           NaN   \n",
       "30210              12  2006        May                           NaN   \n",
       "30188              10  2006        May                           NaN   \n",
       "29619              56  2006   February                           NaN   \n",
       "18908             176  2001  September                           NaN   \n",
       "18312               0  2001       June                           NaN   \n",
       "15873              27  2000       June                           NaN   \n",
       "67661               5  2014      March                   (1977–1982)   \n",
       "\n",
       "                            info_0                                  info_1  \\\n",
       "30349                          Sir                                      78   \n",
       "31140                          Sir                                      88   \n",
       "34207                          Sir                                      79   \n",
       "43606                          Sir                                      92   \n",
       "67212                          Sir                                      80   \n",
       "67217                          Sir                                      88   \n",
       "33086                           92            American materials scientist   \n",
       "117387                          92                 German choral conductor   \n",
       "67517            Sir Woolwich West                                      92   \n",
       "67162   Sir Lord Justice of Appeal                                      96   \n",
       "67152                     Dame MEP                                      90   \n",
       "59616                           83               Icelandic Olympic athlete   \n",
       "52580         Sir Governor-General                                      66   \n",
       "42140               Mike Alexander                                      32   \n",
       "40355                      Colonel                                      89   \n",
       "34171                           VC                                      88   \n",
       "33751     Sir Edinburgh University                                      85   \n",
       "30468               Sir Winchester                                      92   \n",
       "14035                Herbert Wiere                                      91   \n",
       "30363                aka Abu Hamza                                      41   \n",
       "30358       aka \"Dino Sete Cordas\"                                      88   \n",
       "30210        Sarah-Jayne Mulvihill                                      32   \n",
       "30188        aka \"Sammy Steamboat\"                                      71   \n",
       "29619                  aka J Dilla                                      32   \n",
       "18908                     Nearly 3  000 people September 11 attacks in the   \n",
       "18312                Douglas Scott                                      20   \n",
       "15873                Kim Hwan-Sung                                      19   \n",
       "67661                  Sir Premier                                      85   \n",
       "\n",
       "                                                           info_2  \\\n",
       "30349                                            British diplomat   \n",
       "31140                                                Welsh artist   \n",
       "34207                                             British soldier   \n",
       "43606                                   British air chief marshal   \n",
       "67212                                            British diplomat   \n",
       "67217                                            British novelist   \n",
       "33086                                                         NaN   \n",
       "117387                                                        NaN   \n",
       "67517                                          British politician   \n",
       "67162                                              British jurist   \n",
       "67152                            British politician and barrister   \n",
       "59616                                                         NaN   \n",
       "52580                                 Solomon Islander politician   \n",
       "42140                                             British bassist   \n",
       "40355                                        British army officer   \n",
       "34171                              British jurist and businessman   \n",
       "33751                                            British academic   \n",
       "30468                                          British politician   \n",
       "14035              Austrian-born American Wiere Brothers comedian   \n",
       "30363                            Palestinian Islamic Jihad leader   \n",
       "30358              Brazilian virtuouso of the seven-string guitar   \n",
       "30210   first British servicewoman to be killed in action in Iraq   \n",
       "30188                     American Hawaiian professional wrestler   \n",
       "29619                     American hip hop record producer and MC   \n",
       "18908                                                including:\\n   \n",
       "18312                             High-school student murdered by   \n",
       "15873                                                 A Member of   \n",
       "67661                                        Bermudian politician   \n",
       "\n",
       "                                                       info_3  \\\n",
       "30349                                                     NaN   \n",
       "31140                                lung and prostate cancer   \n",
       "34207        commander of UK land forces in the Falklands War   \n",
       "43606                                                     NaN   \n",
       "67212                                   Ambassador to Iceland   \n",
       "67217                                                     NaN   \n",
       "33086                                                     NaN   \n",
       "117387                                                    NaN   \n",
       "67517                                                  MP for   \n",
       "67162                                                           \n",
       "67152                                        MP for Lancaster   \n",
       "59616                                                     NaN   \n",
       "52580                                                           \n",
       "42140                                      pulmonary embolism   \n",
       "40355                                                     NaN   \n",
       "34171         Lord Justice of Appeal and former WRU President   \n",
       "33751                                            Principal of   \n",
       "30468   MP for Secretary General of the Council of Europe and   \n",
       "14035                                           member of the   \n",
       "30363                                assassination by bombing   \n",
       "30358                                                     NaN   \n",
       "30210                                                     NaN   \n",
       "30188                  complications from Alzheimer's disease   \n",
       "29619                                         lupus nephritis   \n",
       "18908                                                     NaN   \n",
       "18312                                                     NaN   \n",
       "15873                                                     NaN   \n",
       "67661                                                           \n",
       "\n",
       "                     info_4 info_5 info_6 info_7 info_8 info_9 info_10 info_11  \n",
       "30349                   NaN    NaN    NaN    NaN    NaN    NaN     NaN     NaN  \n",
       "31140                   NaN    NaN    NaN    NaN    NaN    NaN     NaN     NaN  \n",
       "34207                   NaN    NaN    NaN    NaN    NaN    NaN     NaN     NaN  \n",
       "43606                   NaN    NaN    NaN    NaN    NaN    NaN     NaN     NaN  \n",
       "67212                   NaN    NaN    NaN    NaN    NaN    NaN     NaN     NaN  \n",
       "67217                   NaN    NaN    NaN    NaN    NaN    NaN     NaN     NaN  \n",
       "33086                   NaN    NaN    NaN    NaN    NaN    NaN     NaN     NaN  \n",
       "117387                  NaN    NaN    NaN    NaN    NaN    NaN     NaN     NaN  \n",
       "67517                   NaN    NaN    NaN    NaN    NaN    NaN     NaN     NaN  \n",
       "67162                   NaN    NaN    NaN    NaN    NaN    NaN     NaN     NaN  \n",
       "67152                   NaN    NaN    NaN    NaN    NaN    NaN     NaN     NaN  \n",
       "59616                   NaN    NaN    NaN    NaN    NaN    NaN     NaN     NaN  \n",
       "52580                   NaN    NaN    NaN    NaN    NaN    NaN     NaN     NaN  \n",
       "42140                   NaN    NaN    NaN    NaN    NaN    NaN     NaN     NaN  \n",
       "40355                   NaN    NaN    NaN    NaN    NaN    NaN     NaN     NaN  \n",
       "34171   after short illness    NaN    NaN    NaN    NaN    NaN     NaN     NaN  \n",
       "33751                   NaN    NaN    NaN    NaN    NaN    NaN     NaN     NaN  \n",
       "30468                   NaN    NaN    NaN    NaN    NaN    NaN     NaN     NaN  \n",
       "14035                   NaN    NaN    NaN    NaN    NaN    NaN     NaN     NaN  \n",
       "30363                   NaN    NaN    NaN    NaN    NaN    NaN     NaN     NaN  \n",
       "30358                   NaN    NaN    NaN    NaN    NaN    NaN     NaN     NaN  \n",
       "30210                   NaN    NaN    NaN    NaN    NaN    NaN     NaN     NaN  \n",
       "30188                   NaN    NaN    NaN    NaN    NaN    NaN     NaN     NaN  \n",
       "29619                   NaN    NaN    NaN    NaN    NaN    NaN     NaN     NaN  \n",
       "18908                   NaN    NaN    NaN    NaN    NaN    NaN     NaN     NaN  \n",
       "18312                   NaN    NaN    NaN    NaN    NaN    NaN     NaN     NaN  \n",
       "15873                   NaN    NaN    NaN    NaN    NaN    NaN     NaN     NaN  \n",
       "67661                   NaN    NaN    NaN    NaN    NaN    NaN     NaN     NaN  "
      ]
     },
     "execution_count": 24,
     "metadata": {},
     "output_type": "execute_result"
    },
    {
     "data": {
      "application/javascript": [
       "\n",
       "            setTimeout(function() {\n",
       "                var nbb_cell_id = 24;\n",
       "                var nbb_unformatted_code = \"# Examining rows with atypical info_0 values\\nlist_to_check = df[\\\"info_0\\\"].value_counts().index.to_list()\\n\\nverify_df = pd.DataFrame()\\nfor item in list_to_check[1:]:\\n    verify_df = pd.concat([verify_df, df[df[\\\"info_0\\\"] == item]])\\nverify_df\";\n",
       "                var nbb_formatted_code = \"# Examining rows with atypical info_0 values\\nlist_to_check = df[\\\"info_0\\\"].value_counts().index.to_list()\\n\\nverify_df = pd.DataFrame()\\nfor item in list_to_check[1:]:\\n    verify_df = pd.concat([verify_df, df[df[\\\"info_0\\\"] == item]])\\nverify_df\";\n",
       "                var nbb_cells = Jupyter.notebook.get_cells();\n",
       "                for (var i = 0; i < nbb_cells.length; ++i) {\n",
       "                    if (nbb_cells[i].input_prompt_number == nbb_cell_id) {\n",
       "                        if (nbb_cells[i].get_text() == nbb_unformatted_code) {\n",
       "                             nbb_cells[i].set_text(nbb_formatted_code);\n",
       "                        }\n",
       "                        break;\n",
       "                    }\n",
       "                }\n",
       "            }, 500);\n",
       "            "
      ],
      "text/plain": [
       "<IPython.core.display.Javascript object>"
      ]
     },
     "metadata": {},
     "output_type": "display_data"
    }
   ],
   "source": [
    "# Examining rows with atypical info_0 values\n",
    "list_to_check = df[\"info_0\"].value_counts().index.to_list()\n",
    "\n",
    "verify_df = pd.DataFrame()\n",
    "for item in list_to_check[1:]:\n",
    "    verify_df = pd.concat([verify_df, df[df[\"info_0\"] == item]])\n",
    "verify_df"
   ]
  },
  {
   "cell_type": "markdown",
   "id": "8876e699",
   "metadata": {},
   "source": [
    "#### Observations:\n",
    "- The majority of rows contain additional aliases or titles within `info_0`, that we don't need, but we can leave in place for now.  \n",
    "- There are a few rows that will need to be treated individually to correct the name value, as follows:\n",
    "    1. Entry is for Mike Alexander whose band was Evile.\n",
    "    2. Entry is for Herbert Wiere who performed slapstick.\n",
    "    3. Entry is for Sarah-Jayne Mulvihill who was a Flight Lieutenant.\n",
    "    4. Entry is for Douglass Scott who was killed by Demetreus Nix.\n",
    "    5. Entry is for Kim Hwan-Sung who was a member of the band NRG.\n",
    "- We can replace the `name` value with the `info_0` value for these rows as well as proceed with hard-coding the correct values for info_2 and info_3 fields to match the Wikipedia pattern, but staying true to the information scraped.\n",
    "- The row with \"Nearly 3\" value for `info_0` represents a group, rather than an individual, so will be dropped, after treating the above rows.\n",
    "- We can proceed to extract age from `info_0` for the few rows that contain it here instead of in `info_1`."
   ]
  },
  {
   "cell_type": "markdown",
   "id": "2807ab32",
   "metadata": {},
   "source": [
    "#### Treating 5 rows with Name in `info_0`"
   ]
  },
  {
   "cell_type": "code",
   "execution_count": 25,
   "id": "38e03fa3",
   "metadata": {},
   "outputs": [
    {
     "data": {
      "application/javascript": [
       "\n",
       "            setTimeout(function() {\n",
       "                var nbb_cell_id = 25;\n",
       "                var nbb_unformatted_code = \"# List of names values in info_0\\nvalues_lst = [\\n    \\\"Mike Alexander\\\",\\n    \\\"Herbert Wiere\\\",\\n    \\\"Sarah-Jayne Mulvihill\\\",\\n    \\\"Douglas Scott\\\",\\n    \\\"Kim Hwan-Sung\\\",\\n]\";\n",
       "                var nbb_formatted_code = \"# List of names values in info_0\\nvalues_lst = [\\n    \\\"Mike Alexander\\\",\\n    \\\"Herbert Wiere\\\",\\n    \\\"Sarah-Jayne Mulvihill\\\",\\n    \\\"Douglas Scott\\\",\\n    \\\"Kim Hwan-Sung\\\",\\n]\";\n",
       "                var nbb_cells = Jupyter.notebook.get_cells();\n",
       "                for (var i = 0; i < nbb_cells.length; ++i) {\n",
       "                    if (nbb_cells[i].input_prompt_number == nbb_cell_id) {\n",
       "                        if (nbb_cells[i].get_text() == nbb_unformatted_code) {\n",
       "                             nbb_cells[i].set_text(nbb_formatted_code);\n",
       "                        }\n",
       "                        break;\n",
       "                    }\n",
       "                }\n",
       "            }, 500);\n",
       "            "
      ],
      "text/plain": [
       "<IPython.core.display.Javascript object>"
      ]
     },
     "metadata": {},
     "output_type": "display_data"
    }
   ],
   "source": [
    "# List of names values in info_0\n",
    "values_lst = [\n",
    "    \"Mike Alexander\",\n",
    "    \"Herbert Wiere\",\n",
    "    \"Sarah-Jayne Mulvihill\",\n",
    "    \"Douglas Scott\",\n",
    "    \"Kim Hwan-Sung\",\n",
    "]"
   ]
  },
  {
   "cell_type": "code",
   "execution_count": 26,
   "id": "3c3b826e",
   "metadata": {},
   "outputs": [
    {
     "data": {
      "application/javascript": [
       "\n",
       "            setTimeout(function() {\n",
       "                var nbb_cell_id = 26;\n",
       "                var nbb_unformatted_code = \"# For loop to copy name from info_0 to name\\nfor i in df[df[\\\"info_0\\\"].isin(values_lst)].index.to_list():\\n    df.loc[i, \\\"name\\\"] = df.loc[i, \\\"info_0\\\"]\\n\\n# Hard-coding info_2 and info_3 values for Kim Hwan-Sung\\nindex = df[\\n    df[\\\"link\\\"] == \\\"https://en.wikipedia.org/wiki/NRG_(South_Korean_band)\\\"\\n].index.to_list()\\ndf.loc[index, \\\"info_2\\\"] = \\\"South Korean musician\\\"\\n\\ndf.loc[index, \\\"info_3\\\"] = \\\"respiratory illness\\\"\\n\\n# # Hard-coding info_2 and info_3 values for Douglass Scott\\nindex = df[\\n    df[\\\"link\\\"]\\n    == \\\"https://en.wikipedia.org/w/index.php?title=Demetreus_Nix&action=edit&redlink=1\\\"\\n].index.to_list()\\ndf.loc[index, \\\"info_2\\\"] = \\\"student\\\"\\n\\ndf.loc[index, \\\"info_3\\\"] = \\\"murdered\\\"\\n\\n# # Hard-coding info_2 and info_3 values for Sarah-Jayne Mulvihill\\nindex = df[\\n    df[\\\"link\\\"] == \\\"https://en.wikipedia.org/wiki/Flight_Lieutenant\\\"\\n].index.to_list()\\ndf.loc[index, \\\"info_2\\\"] = \\\"British servicewoman\\\"\\n\\ndf.loc[index, \\\"info_3\\\"] = \\\"killed in action\\\"\";\n",
       "                var nbb_formatted_code = \"# For loop to copy name from info_0 to name\\nfor i in df[df[\\\"info_0\\\"].isin(values_lst)].index.to_list():\\n    df.loc[i, \\\"name\\\"] = df.loc[i, \\\"info_0\\\"]\\n\\n# Hard-coding info_2 and info_3 values for Kim Hwan-Sung\\nindex = df[\\n    df[\\\"link\\\"] == \\\"https://en.wikipedia.org/wiki/NRG_(South_Korean_band)\\\"\\n].index.to_list()\\ndf.loc[index, \\\"info_2\\\"] = \\\"South Korean musician\\\"\\n\\ndf.loc[index, \\\"info_3\\\"] = \\\"respiratory illness\\\"\\n\\n# # Hard-coding info_2 and info_3 values for Douglass Scott\\nindex = df[\\n    df[\\\"link\\\"]\\n    == \\\"https://en.wikipedia.org/w/index.php?title=Demetreus_Nix&action=edit&redlink=1\\\"\\n].index.to_list()\\ndf.loc[index, \\\"info_2\\\"] = \\\"student\\\"\\n\\ndf.loc[index, \\\"info_3\\\"] = \\\"murdered\\\"\\n\\n# # Hard-coding info_2 and info_3 values for Sarah-Jayne Mulvihill\\nindex = df[\\n    df[\\\"link\\\"] == \\\"https://en.wikipedia.org/wiki/Flight_Lieutenant\\\"\\n].index.to_list()\\ndf.loc[index, \\\"info_2\\\"] = \\\"British servicewoman\\\"\\n\\ndf.loc[index, \\\"info_3\\\"] = \\\"killed in action\\\"\";\n",
       "                var nbb_cells = Jupyter.notebook.get_cells();\n",
       "                for (var i = 0; i < nbb_cells.length; ++i) {\n",
       "                    if (nbb_cells[i].input_prompt_number == nbb_cell_id) {\n",
       "                        if (nbb_cells[i].get_text() == nbb_unformatted_code) {\n",
       "                             nbb_cells[i].set_text(nbb_formatted_code);\n",
       "                        }\n",
       "                        break;\n",
       "                    }\n",
       "                }\n",
       "            }, 500);\n",
       "            "
      ],
      "text/plain": [
       "<IPython.core.display.Javascript object>"
      ]
     },
     "metadata": {},
     "output_type": "display_data"
    }
   ],
   "source": [
    "# For loop to copy name from info_0 to name\n",
    "for i in df[df[\"info_0\"].isin(values_lst)].index.to_list():\n",
    "    df.loc[i, \"name\"] = df.loc[i, \"info_0\"]\n",
    "\n",
    "# Hard-coding info_2 and info_3 values for Kim Hwan-Sung\n",
    "index = df[\n",
    "    df[\"link\"] == \"https://en.wikipedia.org/wiki/NRG_(South_Korean_band)\"\n",
    "].index.to_list()\n",
    "df.loc[index, \"info_2\"] = \"South Korean musician\"\n",
    "\n",
    "df.loc[index, \"info_3\"] = \"respiratory illness\"\n",
    "\n",
    "# # Hard-coding info_2 and info_3 values for Douglass Scott\n",
    "index = df[\n",
    "    df[\"link\"]\n",
    "    == \"https://en.wikipedia.org/w/index.php?title=Demetreus_Nix&action=edit&redlink=1\"\n",
    "].index.to_list()\n",
    "df.loc[index, \"info_2\"] = \"student\"\n",
    "\n",
    "df.loc[index, \"info_3\"] = \"murdered\"\n",
    "\n",
    "# # Hard-coding info_2 and info_3 values for Sarah-Jayne Mulvihill\n",
    "index = df[\n",
    "    df[\"link\"] == \"https://en.wikipedia.org/wiki/Flight_Lieutenant\"\n",
    "].index.to_list()\n",
    "df.loc[index, \"info_2\"] = \"British servicewoman\"\n",
    "\n",
    "df.loc[index, \"info_3\"] = \"killed in action\""
   ]
  },
  {
   "cell_type": "code",
   "execution_count": 27,
   "id": "0d895994",
   "metadata": {},
   "outputs": [
    {
     "data": {
      "text/html": [
       "<div>\n",
       "<style scoped>\n",
       "    .dataframe tbody tr th:only-of-type {\n",
       "        vertical-align: middle;\n",
       "    }\n",
       "\n",
       "    .dataframe tbody tr th {\n",
       "        vertical-align: top;\n",
       "    }\n",
       "\n",
       "    .dataframe thead th {\n",
       "        text-align: right;\n",
       "    }\n",
       "</style>\n",
       "<table border=\"1\" class=\"dataframe\">\n",
       "  <thead>\n",
       "    <tr style=\"text-align: right;\">\n",
       "      <th></th>\n",
       "      <th>day</th>\n",
       "      <th>name</th>\n",
       "      <th>info</th>\n",
       "      <th>link</th>\n",
       "      <th>num_references</th>\n",
       "      <th>year</th>\n",
       "      <th>month</th>\n",
       "      <th>info_parenth</th>\n",
       "      <th>info_0</th>\n",
       "      <th>info_1</th>\n",
       "      <th>info_2</th>\n",
       "      <th>info_3</th>\n",
       "      <th>info_4</th>\n",
       "      <th>info_5</th>\n",
       "      <th>info_6</th>\n",
       "      <th>info_7</th>\n",
       "      <th>info_8</th>\n",
       "      <th>info_9</th>\n",
       "      <th>info_10</th>\n",
       "      <th>info_11</th>\n",
       "    </tr>\n",
       "  </thead>\n",
       "  <tbody>\n",
       "    <tr>\n",
       "      <th>14035</th>\n",
       "      <td>5</td>\n",
       "      <td>Herbert Wiere</td>\n",
       "      <td>Herbert Wiere, 91, Austrian-born American Wiere Brothers comedian, member of the</td>\n",
       "      <td>https://en.wikipedia.org/wiki/Slapstick</td>\n",
       "      <td>16</td>\n",
       "      <td>1999</td>\n",
       "      <td>August</td>\n",
       "      <td>NaN</td>\n",
       "      <td>Herbert Wiere</td>\n",
       "      <td>91</td>\n",
       "      <td>Austrian-born American Wiere Brothers comedian</td>\n",
       "      <td>member of the</td>\n",
       "      <td>NaN</td>\n",
       "      <td>NaN</td>\n",
       "      <td>NaN</td>\n",
       "      <td>NaN</td>\n",
       "      <td>NaN</td>\n",
       "      <td>NaN</td>\n",
       "      <td>NaN</td>\n",
       "      <td>NaN</td>\n",
       "    </tr>\n",
       "    <tr>\n",
       "      <th>15873</th>\n",
       "      <td>15</td>\n",
       "      <td>Kim Hwan-Sung</td>\n",
       "      <td>Kim Hwan-Sung, 19, A Member of .</td>\n",
       "      <td>https://en.wikipedia.org/wiki/NRG_(South_Korean_band)</td>\n",
       "      <td>27</td>\n",
       "      <td>2000</td>\n",
       "      <td>June</td>\n",
       "      <td>NaN</td>\n",
       "      <td>Kim Hwan-Sung</td>\n",
       "      <td>19</td>\n",
       "      <td>South Korean musician</td>\n",
       "      <td>respiratory illness</td>\n",
       "      <td>NaN</td>\n",
       "      <td>NaN</td>\n",
       "      <td>NaN</td>\n",
       "      <td>NaN</td>\n",
       "      <td>NaN</td>\n",
       "      <td>NaN</td>\n",
       "      <td>NaN</td>\n",
       "      <td>NaN</td>\n",
       "    </tr>\n",
       "    <tr>\n",
       "      <th>18312</th>\n",
       "      <td>20</td>\n",
       "      <td>Douglas Scott</td>\n",
       "      <td>Douglas Scott, 20, High-school student murdered by .</td>\n",
       "      <td>https://en.wikipedia.org/w/index.php?title=Demetreus_Nix&amp;action=edit&amp;redlink=1</td>\n",
       "      <td>0</td>\n",
       "      <td>2001</td>\n",
       "      <td>June</td>\n",
       "      <td>NaN</td>\n",
       "      <td>Douglas Scott</td>\n",
       "      <td>20</td>\n",
       "      <td>student</td>\n",
       "      <td>murdered</td>\n",
       "      <td>NaN</td>\n",
       "      <td>NaN</td>\n",
       "      <td>NaN</td>\n",
       "      <td>NaN</td>\n",
       "      <td>NaN</td>\n",
       "      <td>NaN</td>\n",
       "      <td>NaN</td>\n",
       "      <td>NaN</td>\n",
       "    </tr>\n",
       "    <tr>\n",
       "      <th>30210</th>\n",
       "      <td>6</td>\n",
       "      <td>Sarah-Jayne Mulvihill</td>\n",
       "      <td>Sarah-Jayne Mulvihill, 32, first British servicewoman to be killed in action in Iraq.</td>\n",
       "      <td>https://en.wikipedia.org/wiki/Flight_Lieutenant</td>\n",
       "      <td>12</td>\n",
       "      <td>2006</td>\n",
       "      <td>May</td>\n",
       "      <td>NaN</td>\n",
       "      <td>Sarah-Jayne Mulvihill</td>\n",
       "      <td>32</td>\n",
       "      <td>British servicewoman</td>\n",
       "      <td>killed in action</td>\n",
       "      <td>NaN</td>\n",
       "      <td>NaN</td>\n",
       "      <td>NaN</td>\n",
       "      <td>NaN</td>\n",
       "      <td>NaN</td>\n",
       "      <td>NaN</td>\n",
       "      <td>NaN</td>\n",
       "      <td>NaN</td>\n",
       "    </tr>\n",
       "    <tr>\n",
       "      <th>42140</th>\n",
       "      <td>5</td>\n",
       "      <td>Mike Alexander</td>\n",
       "      <td>Mike Alexander, 32, British bassist , pulmonary embolism.</td>\n",
       "      <td>https://en.wikipedia.org/wiki/Evile</td>\n",
       "      <td>82</td>\n",
       "      <td>2009</td>\n",
       "      <td>October</td>\n",
       "      <td>()</td>\n",
       "      <td>Mike Alexander</td>\n",
       "      <td>32</td>\n",
       "      <td>British bassist</td>\n",
       "      <td>pulmonary embolism</td>\n",
       "      <td>NaN</td>\n",
       "      <td>NaN</td>\n",
       "      <td>NaN</td>\n",
       "      <td>NaN</td>\n",
       "      <td>NaN</td>\n",
       "      <td>NaN</td>\n",
       "      <td>NaN</td>\n",
       "      <td>NaN</td>\n",
       "    </tr>\n",
       "  </tbody>\n",
       "</table>\n",
       "</div>"
      ],
      "text/plain": [
       "      day                   name  \\\n",
       "14035   5          Herbert Wiere   \n",
       "15873  15          Kim Hwan-Sung   \n",
       "18312  20          Douglas Scott   \n",
       "30210   6  Sarah-Jayne Mulvihill   \n",
       "42140   5         Mike Alexander   \n",
       "\n",
       "                                                                                         info  \\\n",
       "14035       Herbert Wiere, 91, Austrian-born American Wiere Brothers comedian, member of the    \n",
       "15873                                                        Kim Hwan-Sung, 19, A Member of .   \n",
       "18312                                    Douglas Scott, 20, High-school student murdered by .   \n",
       "30210   Sarah-Jayne Mulvihill, 32, first British servicewoman to be killed in action in Iraq.   \n",
       "42140                               Mike Alexander, 32, British bassist , pulmonary embolism.   \n",
       "\n",
       "                                                                                 link  \\\n",
       "14035                                         https://en.wikipedia.org/wiki/Slapstick   \n",
       "15873                           https://en.wikipedia.org/wiki/NRG_(South_Korean_band)   \n",
       "18312  https://en.wikipedia.org/w/index.php?title=Demetreus_Nix&action=edit&redlink=1   \n",
       "30210                                 https://en.wikipedia.org/wiki/Flight_Lieutenant   \n",
       "42140                                             https://en.wikipedia.org/wiki/Evile   \n",
       "\n",
       "      num_references  year    month info_parenth                 info_0  \\\n",
       "14035             16  1999   August          NaN          Herbert Wiere   \n",
       "15873             27  2000     June          NaN          Kim Hwan-Sung   \n",
       "18312              0  2001     June          NaN          Douglas Scott   \n",
       "30210             12  2006      May          NaN  Sarah-Jayne Mulvihill   \n",
       "42140             82  2009  October           ()         Mike Alexander   \n",
       "\n",
       "      info_1                                          info_2  \\\n",
       "14035     91  Austrian-born American Wiere Brothers comedian   \n",
       "15873     19                           South Korean musician   \n",
       "18312     20                                         student   \n",
       "30210     32                            British servicewoman   \n",
       "42140     32                                 British bassist   \n",
       "\n",
       "                    info_3 info_4 info_5 info_6 info_7 info_8 info_9 info_10  \\\n",
       "14035        member of the    NaN    NaN    NaN    NaN    NaN    NaN     NaN   \n",
       "15873  respiratory illness    NaN    NaN    NaN    NaN    NaN    NaN     NaN   \n",
       "18312             murdered    NaN    NaN    NaN    NaN    NaN    NaN     NaN   \n",
       "30210     killed in action    NaN    NaN    NaN    NaN    NaN    NaN     NaN   \n",
       "42140   pulmonary embolism    NaN    NaN    NaN    NaN    NaN    NaN     NaN   \n",
       "\n",
       "      info_11  \n",
       "14035     NaN  \n",
       "15873     NaN  \n",
       "18312     NaN  \n",
       "30210     NaN  \n",
       "42140     NaN  "
      ]
     },
     "execution_count": 27,
     "metadata": {},
     "output_type": "execute_result"
    },
    {
     "data": {
      "application/javascript": [
       "\n",
       "            setTimeout(function() {\n",
       "                var nbb_cell_id = 27;\n",
       "                var nbb_unformatted_code = \"# Rechecking updated rows\\ndf[df[\\\"info_0\\\"].isin(values_lst)]\";\n",
       "                var nbb_formatted_code = \"# Rechecking updated rows\\ndf[df[\\\"info_0\\\"].isin(values_lst)]\";\n",
       "                var nbb_cells = Jupyter.notebook.get_cells();\n",
       "                for (var i = 0; i < nbb_cells.length; ++i) {\n",
       "                    if (nbb_cells[i].input_prompt_number == nbb_cell_id) {\n",
       "                        if (nbb_cells[i].get_text() == nbb_unformatted_code) {\n",
       "                             nbb_cells[i].set_text(nbb_formatted_code);\n",
       "                        }\n",
       "                        break;\n",
       "                    }\n",
       "                }\n",
       "            }, 500);\n",
       "            "
      ],
      "text/plain": [
       "<IPython.core.display.Javascript object>"
      ]
     },
     "metadata": {},
     "output_type": "display_data"
    }
   ],
   "source": [
    "# Rechecking updated rows\n",
    "df[df[\"info_0\"].isin(values_lst)]"
   ]
  },
  {
   "cell_type": "markdown",
   "id": "16f31c48",
   "metadata": {},
   "source": [
    "#### Dropping Entry for Group"
   ]
  },
  {
   "cell_type": "code",
   "execution_count": 28,
   "id": "743821af",
   "metadata": {},
   "outputs": [
    {
     "data": {
      "text/html": [
       "<div>\n",
       "<style scoped>\n",
       "    .dataframe tbody tr th:only-of-type {\n",
       "        vertical-align: middle;\n",
       "    }\n",
       "\n",
       "    .dataframe tbody tr th {\n",
       "        vertical-align: top;\n",
       "    }\n",
       "\n",
       "    .dataframe thead th {\n",
       "        text-align: right;\n",
       "    }\n",
       "</style>\n",
       "<table border=\"1\" class=\"dataframe\">\n",
       "  <thead>\n",
       "    <tr style=\"text-align: right;\">\n",
       "      <th></th>\n",
       "      <th>day</th>\n",
       "      <th>name</th>\n",
       "      <th>info</th>\n",
       "      <th>link</th>\n",
       "      <th>num_references</th>\n",
       "      <th>year</th>\n",
       "      <th>month</th>\n",
       "      <th>info_parenth</th>\n",
       "      <th>info_0</th>\n",
       "      <th>info_1</th>\n",
       "      <th>info_2</th>\n",
       "      <th>info_3</th>\n",
       "      <th>info_4</th>\n",
       "      <th>info_5</th>\n",
       "      <th>info_6</th>\n",
       "      <th>info_7</th>\n",
       "      <th>info_8</th>\n",
       "      <th>info_9</th>\n",
       "      <th>info_10</th>\n",
       "      <th>info_11</th>\n",
       "    </tr>\n",
       "  </thead>\n",
       "  <tbody>\n",
       "    <tr>\n",
       "      <th>18908</th>\n",
       "      <td>11</td>\n",
       "      <td>were killed</td>\n",
       "      <td>Nearly 3,000 people September 11 attacks in the , including:\\n</td>\n",
       "      <td>https://en.wikipedia.org/wiki/Casualties_of_the_September_11_attacks</td>\n",
       "      <td>176</td>\n",
       "      <td>2001</td>\n",
       "      <td>September</td>\n",
       "      <td>NaN</td>\n",
       "      <td>Nearly 3</td>\n",
       "      <td>000 people September 11 attacks in the</td>\n",
       "      <td>including:\\n</td>\n",
       "      <td>NaN</td>\n",
       "      <td>NaN</td>\n",
       "      <td>NaN</td>\n",
       "      <td>NaN</td>\n",
       "      <td>NaN</td>\n",
       "      <td>NaN</td>\n",
       "      <td>NaN</td>\n",
       "      <td>NaN</td>\n",
       "      <td>NaN</td>\n",
       "    </tr>\n",
       "  </tbody>\n",
       "</table>\n",
       "</div>"
      ],
      "text/plain": [
       "      day         name  \\\n",
       "18908  11  were killed   \n",
       "\n",
       "                                                                 info  \\\n",
       "18908  Nearly 3,000 people September 11 attacks in the , including:\\n   \n",
       "\n",
       "                                                                       link  \\\n",
       "18908  https://en.wikipedia.org/wiki/Casualties_of_the_September_11_attacks   \n",
       "\n",
       "      num_references  year      month info_parenth    info_0  \\\n",
       "18908            176  2001  September          NaN  Nearly 3   \n",
       "\n",
       "                                       info_1        info_2 info_3 info_4  \\\n",
       "18908  000 people September 11 attacks in the  including:\\n    NaN    NaN   \n",
       "\n",
       "      info_5 info_6 info_7 info_8 info_9 info_10 info_11  \n",
       "18908    NaN    NaN    NaN    NaN    NaN     NaN     NaN  "
      ]
     },
     "execution_count": 28,
     "metadata": {},
     "output_type": "execute_result"
    },
    {
     "data": {
      "application/javascript": [
       "\n",
       "            setTimeout(function() {\n",
       "                var nbb_cell_id = 28;\n",
       "                var nbb_unformatted_code = \"# Checking the entry representing a group\\ngroup_entry = df[df[\\\"info_0\\\"] == \\\"Nearly 3\\\"]\\ngroup_entry\";\n",
       "                var nbb_formatted_code = \"# Checking the entry representing a group\\ngroup_entry = df[df[\\\"info_0\\\"] == \\\"Nearly 3\\\"]\\ngroup_entry\";\n",
       "                var nbb_cells = Jupyter.notebook.get_cells();\n",
       "                for (var i = 0; i < nbb_cells.length; ++i) {\n",
       "                    if (nbb_cells[i].input_prompt_number == nbb_cell_id) {\n",
       "                        if (nbb_cells[i].get_text() == nbb_unformatted_code) {\n",
       "                             nbb_cells[i].set_text(nbb_formatted_code);\n",
       "                        }\n",
       "                        break;\n",
       "                    }\n",
       "                }\n",
       "            }, 500);\n",
       "            "
      ],
      "text/plain": [
       "<IPython.core.display.Javascript object>"
      ]
     },
     "metadata": {},
     "output_type": "display_data"
    }
   ],
   "source": [
    "# Checking the entry representing a group\n",
    "group_entry = df[df[\"info_0\"] == \"Nearly 3\"]\n",
    "group_entry"
   ]
  },
  {
   "cell_type": "code",
   "execution_count": 29,
   "id": "96869bbb",
   "metadata": {},
   "outputs": [
    {
     "data": {
      "text/plain": [
       "(132973, 20)"
      ]
     },
     "execution_count": 29,
     "metadata": {},
     "output_type": "execute_result"
    },
    {
     "data": {
      "application/javascript": [
       "\n",
       "            setTimeout(function() {\n",
       "                var nbb_cell_id = 29;\n",
       "                var nbb_unformatted_code = \"# Dropping group entry, resetting index, and checking new shape of df\\ndf.drop(group_entry.index, inplace=True)\\ndf.reset_index(inplace=True, drop=True)\\ndf.shape\";\n",
       "                var nbb_formatted_code = \"# Dropping group entry, resetting index, and checking new shape of df\\ndf.drop(group_entry.index, inplace=True)\\ndf.reset_index(inplace=True, drop=True)\\ndf.shape\";\n",
       "                var nbb_cells = Jupyter.notebook.get_cells();\n",
       "                for (var i = 0; i < nbb_cells.length; ++i) {\n",
       "                    if (nbb_cells[i].input_prompt_number == nbb_cell_id) {\n",
       "                        if (nbb_cells[i].get_text() == nbb_unformatted_code) {\n",
       "                             nbb_cells[i].set_text(nbb_formatted_code);\n",
       "                        }\n",
       "                        break;\n",
       "                    }\n",
       "                }\n",
       "            }, 500);\n",
       "            "
      ],
      "text/plain": [
       "<IPython.core.display.Javascript object>"
      ]
     },
     "metadata": {},
     "output_type": "display_data"
    }
   ],
   "source": [
    "# Dropping group entry, resetting index, and checking new shape of df\n",
    "df.drop(group_entry.index, inplace=True)\n",
    "df.reset_index(inplace=True, drop=True)\n",
    "df.shape"
   ]
  },
  {
   "cell_type": "markdown",
   "id": "b671f0c1",
   "metadata": {},
   "source": [
    "#### Extracting `age` from `info_0`"
   ]
  },
  {
   "cell_type": "code",
   "execution_count": 30,
   "id": "a00b24ae",
   "metadata": {},
   "outputs": [
    {
     "name": "stdout",
     "output_type": "stream",
     "text": [
      "There are 3 rows with matching pattern in column 'info_0'.\n"
     ]
    },
    {
     "data": {
      "application/javascript": [
       "\n",
       "            setTimeout(function() {\n",
       "                var nbb_cell_id = 30;\n",
       "                var nbb_unformatted_code = \"# Pattern for re\\npattern = r\\\"(\\\\d{1,3})\\\"\\n\\n# Checking rows with pattern\\nrows_to_check = rows_with_pattern(df, \\\"info_0\\\", pattern)\";\n",
       "                var nbb_formatted_code = \"# Pattern for re\\npattern = r\\\"(\\\\d{1,3})\\\"\\n\\n# Checking rows with pattern\\nrows_to_check = rows_with_pattern(df, \\\"info_0\\\", pattern)\";\n",
       "                var nbb_cells = Jupyter.notebook.get_cells();\n",
       "                for (var i = 0; i < nbb_cells.length; ++i) {\n",
       "                    if (nbb_cells[i].input_prompt_number == nbb_cell_id) {\n",
       "                        if (nbb_cells[i].get_text() == nbb_unformatted_code) {\n",
       "                             nbb_cells[i].set_text(nbb_formatted_code);\n",
       "                        }\n",
       "                        break;\n",
       "                    }\n",
       "                }\n",
       "            }, 500);\n",
       "            "
      ],
      "text/plain": [
       "<IPython.core.display.Javascript object>"
      ]
     },
     "metadata": {},
     "output_type": "display_data"
    }
   ],
   "source": [
    "# Pattern for re\n",
    "pattern = r\"(\\d{1,3})\"\n",
    "\n",
    "# Checking rows with pattern\n",
    "rows_to_check = rows_with_pattern(df, \"info_0\", pattern)"
   ]
  },
  {
   "cell_type": "code",
   "execution_count": 32,
   "id": "e851179e",
   "metadata": {},
   "outputs": [
    {
     "name": "stdout",
     "output_type": "stream",
     "text": [
      "There are 0 rows with matching pattern in column 'info_0'.\n"
     ]
    },
    {
     "data": {
      "application/javascript": [
       "\n",
       "            setTimeout(function() {\n",
       "                var nbb_cell_id = 32;\n",
       "                var nbb_unformatted_code = \"# For loop to extract age from info_0 to age\\nfor i, item in enumerate(df[\\\"info_0\\\"]):\\n    match = re.search(pattern, item)\\n    if match:\\n        df.loc[i, \\\"age\\\"] = int(match.group(1))\\n        df.loc[i, \\\"info_0\\\"] = re.sub(pattern, \\\"\\\", df.loc[i, \\\"info_0\\\"])\\n\\n# Re-checking info_0 and age for pattern\\nrows_to_check = rows_with_pattern(df, \\\"info_0\\\", pattern)\";\n",
       "                var nbb_formatted_code = \"# For loop to extract age from info_0 to age\\nfor i, item in enumerate(df[\\\"info_0\\\"]):\\n    match = re.search(pattern, item)\\n    if match:\\n        df.loc[i, \\\"age\\\"] = int(match.group(1))\\n        df.loc[i, \\\"info_0\\\"] = re.sub(pattern, \\\"\\\", df.loc[i, \\\"info_0\\\"])\\n\\n# Re-checking info_0 and age for pattern\\nrows_to_check = rows_with_pattern(df, \\\"info_0\\\", pattern)\";\n",
       "                var nbb_cells = Jupyter.notebook.get_cells();\n",
       "                for (var i = 0; i < nbb_cells.length; ++i) {\n",
       "                    if (nbb_cells[i].input_prompt_number == nbb_cell_id) {\n",
       "                        if (nbb_cells[i].get_text() == nbb_unformatted_code) {\n",
       "                             nbb_cells[i].set_text(nbb_formatted_code);\n",
       "                        }\n",
       "                        break;\n",
       "                    }\n",
       "                }\n",
       "            }, 500);\n",
       "            "
      ],
      "text/plain": [
       "<IPython.core.display.Javascript object>"
      ]
     },
     "metadata": {},
     "output_type": "display_data"
    }
   ],
   "source": [
    "# For loop to extract age from info_0 to age\n",
    "for i, item in enumerate(df[\"info_0\"]):\n",
    "    match = re.search(pattern, item)\n",
    "    if match:\n",
    "        df.loc[i, \"age\"] = int(match.group(1))\n",
    "        df.loc[i, \"info_0\"] = re.sub(pattern, \"\", df.loc[i, \"info_0\"])\n",
    "\n",
    "# Re-checking info_0 and age for pattern\n",
    "rows_to_check = rows_with_pattern(df, \"info_0\", pattern)"
   ]
  },
  {
   "cell_type": "code",
   "execution_count": 33,
   "id": "4b16db8f",
   "metadata": {},
   "outputs": [
    {
     "data": {
      "application/javascript": [
       "\n",
       "            setTimeout(function() {\n",
       "                var nbb_cell_id = 33;\n",
       "                var nbb_unformatted_code = \"# Dropping info_0\\ndf.drop(\\\"info_0\\\", axis=1, inplace=True)\";\n",
       "                var nbb_formatted_code = \"# Dropping info_0\\ndf.drop(\\\"info_0\\\", axis=1, inplace=True)\";\n",
       "                var nbb_cells = Jupyter.notebook.get_cells();\n",
       "                for (var i = 0; i < nbb_cells.length; ++i) {\n",
       "                    if (nbb_cells[i].input_prompt_number == nbb_cell_id) {\n",
       "                        if (nbb_cells[i].get_text() == nbb_unformatted_code) {\n",
       "                             nbb_cells[i].set_text(nbb_formatted_code);\n",
       "                        }\n",
       "                        break;\n",
       "                    }\n",
       "                }\n",
       "            }, 500);\n",
       "            "
      ],
      "text/plain": [
       "<IPython.core.display.Javascript object>"
      ]
     },
     "metadata": {},
     "output_type": "display_data"
    }
   ],
   "source": [
    "# Dropping info_0\n",
    "df.drop(\"info_0\", axis=1, inplace=True)"
   ]
  },
  {
   "cell_type": "markdown",
   "id": "7b0cf851",
   "metadata": {},
   "source": [
    "#### Observations:\n",
    "- The new `age` column has been added successfully.\n",
    "- We are finished processing `info_0`."
   ]
  },
  {
   "cell_type": "markdown",
   "id": "193d8b10",
   "metadata": {},
   "source": [
    "### `info_1`"
   ]
  },
  {
   "cell_type": "markdown",
   "id": "96114fd4",
   "metadata": {},
   "source": [
    "#### Unique Values"
   ]
  },
  {
   "cell_type": "code",
   "execution_count": null,
   "id": "fdfbc26a",
   "metadata": {
    "scrolled": false
   },
   "outputs": [],
   "source": [
    "# Checking unique values\n",
    "df[\"info_1\"].unique()"
   ]
  },
  {
   "cell_type": "markdown",
   "id": "7557e0c9",
   "metadata": {},
   "source": [
    "#### Observations:\n",
    "- There is a lot of variety in the format of the age data.\n",
    "- Also, this field contains several values that we would expect in info_2 and beyond.\n",
    "- Let us take the approach of extracting age values first, then examining rows with missing `age`."
   ]
  },
  {
   "cell_type": "markdown",
   "id": "fd5a8f12",
   "metadata": {},
   "source": [
    "#### Examining unique formats for age data"
   ]
  },
  {
   "cell_type": "code",
   "execution_count": null,
   "id": "b9365923",
   "metadata": {},
   "outputs": [],
   "source": [
    "# Examining formats for age data\n",
    "has_num = []\n",
    "for i, item in enumerate(df[\"info_1\"]):\n",
    "    pattern = r\"\\d\"\n",
    "    if re.search(pattern, item) is not None:\n",
    "        has_num.append(i)\n",
    "\n",
    "df.loc[has_num, :][\"info_1\"].unique()"
   ]
  },
  {
   "cell_type": "markdown",
   "id": "42e9d296",
   "metadata": {},
   "source": [
    "#### Observations:\n",
    "- The data for age within `info_1` is in the following formats:  \n",
    "    - single integer (\"age\", \"age \", \"age.\")\n",
    "    - range of 2 integers (separators '-', '–', '/', and ' or ')\n",
    "    - range of 2 integers with only unit value for second number ('age1/age2-2nd-digit')\n",
    "    - age in days or months ('age days', 'age-months')\n",
    "    - estimates ('c. age', 'c.age',  'age?', 'ages' (e.g. 80s), \"age+\"\n",
    "- There are some specific rows that need to be examined, with the following values for `info_1`:\n",
    "    - 1995\n",
    "    - 1996\n",
    "    - 1997\n",
    "    - German Olympic sailor [1]\n",
    "    - Taiwanese failed assassin in the 3-19 shooting incident\n",
    "    - 255\n",
    "    - 176\n",
    "    - the first wild bear in Germany in 170 years\n",
    "    - c. 3500\n",
    "    - common chimpanzee 55\n",
    "    - Maltese 15\n",
    "    - c.1000\n",
    "    - Tree of the Year 150\n",
    "- We will need to be strategic in the order in which we extract age from `info_1`.\n",
    "- First, we will look at the atypical values listed above."
   ]
  },
  {
   "cell_type": "markdown",
   "id": "362ed9d1",
   "metadata": {},
   "source": [
    "#### Examining Rows with Digits and Atypical Values for `info_2`"
   ]
  },
  {
   "cell_type": "code",
   "execution_count": null,
   "id": "16aeb029",
   "metadata": {
    "scrolled": false
   },
   "outputs": [],
   "source": [
    "# List of atypical info_1 values for rows with digits\n",
    "values_lst = [\n",
    "    \"1995\",\n",
    "    \"1996\",\n",
    "    \"1997\",\n",
    "    \"German Olympic sailor [1]\",\n",
    "    \"Taiwanese failed assassin in the 3-19 shooting incident\",\n",
    "    \"255\",\n",
    "    \"176\",\n",
    "    \"the first wild bear in Germany in 170 years\",\n",
    "    \"c. 3500\",\n",
    "    \"common chimpanzee 55\",\n",
    "    \"Maltese 15\",\n",
    "    \"c.1000\",\n",
    "    \"Tree of the Year 150\",\n",
    "]\n",
    "\n",
    "df[df[\"info_1\"].isin(values_lst)]"
   ]
  },
  {
   "cell_type": "markdown",
   "id": "62ebe146",
   "metadata": {},
   "source": [
    "#### Observations:\n",
    "- Age data is either missing or the entry is for a member of a non-human species.\n",
    "- We will drop all of these rows."
   ]
  },
  {
   "cell_type": "markdown",
   "id": "21a4be90",
   "metadata": {},
   "source": [
    "#### Dropping Rows for Non-Human Entries or Entries Missing Age Data"
   ]
  },
  {
   "cell_type": "code",
   "execution_count": null,
   "id": "065a1b03",
   "metadata": {},
   "outputs": [],
   "source": [
    "# List of indexes to be dropped\n",
    "drop_rows = df[df[\"info_1\"].isin(values_lst)].index.to_list()\n",
    "\n",
    "# Dropping rows, resetting index, and checking new shape of df\n",
    "df.drop(drop_rows, inplace=True)\n",
    "df.reset_index(inplace=True, drop=True)\n",
    "df.shape"
   ]
  },
  {
   "cell_type": "markdown",
   "id": "46fe3ce3",
   "metadata": {},
   "source": [
    "#### Observations:\n",
    "- With those rows addressed, we will begin extracting age in days and months and convert them to years."
   ]
  },
  {
   "cell_type": "markdown",
   "id": "fce96075",
   "metadata": {},
   "source": [
    "### Extracting `age` from `info_1`"
   ]
  },
  {
   "cell_type": "markdown",
   "id": "70f7887e",
   "metadata": {},
   "source": [
    "#### Step 1: Age in Years and Months"
   ]
  },
  {
   "cell_type": "code",
   "execution_count": null,
   "id": "ddf210f8",
   "metadata": {},
   "outputs": [],
   "source": [
    "# Dictionary of patterns for days and months formats as keys and factor to convert to years\n",
    "patterns = {\n",
    "    r\"(\\d{1,3})( days)\": 365,\n",
    "    r\"(\\d{1,3})(-months)\": 12,\n",
    "    r\"(\\d{1,3})( months)\": 12,\n",
    "}\n",
    "\n",
    "# For loop to check for age in days and months and convert to years and save in age.\n",
    "# Also removes age in days/months from info_0.\n",
    "for key, value in patterns.items():\n",
    "    for i, item in enumerate(df[\"info_1\"]):\n",
    "        match = re.search(key, item)\n",
    "        if match:\n",
    "            age = int(match.group(1)) / value\n",
    "            df.loc[i, \"age\"] = age\n",
    "            df.loc[i, \"info_1\"] = re.sub(key, \"\", df.loc[i, \"info_1\"])\n",
    "\n",
    "# Checking updated rows\n",
    "df[df[\"age\"].notna()]"
   ]
  },
  {
   "cell_type": "markdown",
   "id": "b44e7f85",
   "metadata": {},
   "source": [
    "#### Observations:\n",
    "- We have successfully captured the age in days and months values and converted them to years.\n",
    "- The other rows are in place already from our treatment of `info_0`.\n",
    "- Next, we will address entries that contain two age values as a range, starting first with those that have a single digit as the second number."
   ]
  },
  {
   "cell_type": "markdown",
   "id": "42fdf057",
   "metadata": {},
   "source": [
    "#### Step 2: Extracting `age` from `info_1` for Entries with Age Estimate Containing Age Range with 2 Values"
   ]
  },
  {
   "cell_type": "markdown",
   "id": "aa711a2a",
   "metadata": {},
   "source": [
    "#### Ranges with Single Digit as Upper-end"
   ]
  },
  {
   "cell_type": "code",
   "execution_count": null,
   "id": "14b3002f",
   "metadata": {},
   "outputs": [],
   "source": [
    "# Pattern for re\n",
    "pattern = r\"(\\d{1,3})(/)(\\d)\\b\"\n",
    "\n",
    "# List of rows to check\n",
    "rows_to_check = []\n",
    "\n",
    "# For loop to add index of list containing values to list\n",
    "for i, item in enumerate(df[\"info_1\"]):\n",
    "    match = re.search(pattern, item)\n",
    "    if match:\n",
    "        rows_to_check.append(i)\n",
    "\n",
    "# Checking sample of rows\n",
    "df.loc[rows_to_check, :].sample(2)"
   ]
  },
  {
   "cell_type": "code",
   "execution_count": null,
   "id": "4d66974c",
   "metadata": {},
   "outputs": [],
   "source": [
    "# Pattern for re\n",
    "pattern = r\"(\\d{1,3})(/)(\\d)\\b\"\n",
    "\n",
    "\n",
    "# For loop to find rows with values and pattern and calculate and extract age to age column and remove age from info_1\n",
    "for i in df[df[\"age\"].isna()].index:\n",
    "    item = df.loc[i, \"info_1\"]\n",
    "    match = re.search(pattern, item)\n",
    "    if match:\n",
    "        age_1 = int(match.group(1))\n",
    "        age_2 = int(match.group(3))\n",
    "        units = ((age_1 % 10) + age_2) / 2\n",
    "        tens = age_1 - (age_1 % 10)\n",
    "        age = tens + units\n",
    "        df.loc[i, \"age\"] = age\n",
    "        df.loc[i, \"info_1\"] = re.sub(pattern, \"\", df.loc[i, \"info_1\"])\n",
    "\n",
    "# Checking example rows\n",
    "pd.concat([df[df[\"name\"] == \"Lu'ay al-Atassi\"], df[df[\"name\"] == \"Joji Banuve\"]])"
   ]
  },
  {
   "cell_type": "markdown",
   "id": "f2b65a9e",
   "metadata": {},
   "source": [
    "#### Other Ranges with Two Values"
   ]
  },
  {
   "cell_type": "code",
   "execution_count": null,
   "id": "284160ae",
   "metadata": {},
   "outputs": [],
   "source": [
    "# Pattern for re\n",
    "pattern = r\"(\\d{1,3})(-|–|/| or )(\\d{1,3})\"\n",
    "\n",
    "# List of rows to check\n",
    "rows_to_check = []\n",
    "\n",
    "# For loop to add index of list containing values to list\n",
    "for i, item in enumerate(df[\"info_1\"]):\n",
    "    match = re.search(pattern, item)\n",
    "    if match:\n",
    "        rows_to_check.append(i)\n",
    "\n",
    "# Checking sample of rows\n",
    "df.loc[rows_to_check, :].sample(2)"
   ]
  },
  {
   "cell_type": "code",
   "execution_count": null,
   "id": "239725d4",
   "metadata": {},
   "outputs": [],
   "source": [
    "# Pattern for re\n",
    "pattern = r\"(\\d{1,3})(-|–|/| or )(\\d{1,3})\"\n",
    "\n",
    "\n",
    "# For loop to find rows with values and pattern and calculate and extract age to age column and remove age from info_1\n",
    "for i in df[df[\"age\"].isna()].index:\n",
    "    item = df.loc[i, \"info_1\"]\n",
    "    match = re.search(pattern, item)\n",
    "    if match:\n",
    "        age = (int(match.group(1)) + int(match.group(3))) / 2\n",
    "        df.loc[i, \"age\"] = age\n",
    "        df.loc[i, \"info_1\"] = re.sub(pattern, \"\", df.loc[i, \"info_1\"])\n",
    "\n",
    "# Checking example rows\n",
    "pd.concat([df[df[\"name\"] == \"Moncef Ouannes\"], df[df[\"name\"] == \"Fehmi Sağınoğlu\"]])"
   ]
  },
  {
   "cell_type": "markdown",
   "id": "28fef44d",
   "metadata": {},
   "source": [
    "#### Observations:\n",
    "- Next, we will extract from the entries with straightforward single integer age values, including the formats: \"age\", \"age \", 'age.'.\n",
    "- More vague estimates are excluded here to allow closer examination, as they are more likely to by atypical entries."
   ]
  },
  {
   "cell_type": "markdown",
   "id": "921fa764",
   "metadata": {},
   "source": [
    "#### Step 3: Age as Single Integer (Excluding Estimates)"
   ]
  },
  {
   "cell_type": "code",
   "execution_count": null,
   "id": "83c7a17f",
   "metadata": {},
   "outputs": [],
   "source": [
    "# List of patterns for age formats with single integer for age\n",
    "patterns = [r\"^(\\d{1,3})$\", r\"^(\\d{1,3})\\s\", r\"^(\\d{1,3})\\.\\s\"]\n",
    "\n",
    "# For loop to check age pattern in info_0, save age to age column, and remove from age from info_0\n",
    "for i, item in enumerate(df[\"info_1\"]):\n",
    "    for pattern in patterns:\n",
    "        match = re.search(pattern, item)\n",
    "        if match:\n",
    "            age = int(match.group(1))\n",
    "            df.loc[i, \"age\"] = age\n",
    "            df.loc[i, \"info_1\"] = re.sub(pattern, \"\", df.loc[i, \"info_1\"])\n",
    "\n",
    "# Checking first 2 rows\n",
    "df.head(2)"
   ]
  },
  {
   "cell_type": "code",
   "execution_count": null,
   "id": "b05fc3a1",
   "metadata": {},
   "outputs": [],
   "source": [
    "# Checking last 2 rows\n",
    "df.tail(2)"
   ]
  },
  {
   "cell_type": "code",
   "execution_count": null,
   "id": "fae96f14",
   "metadata": {},
   "outputs": [],
   "source": [
    "# Checking the number of remaining missing values for `age`\n",
    "df[\"age\"].isna().sum()"
   ]
  },
  {
   "cell_type": "markdown",
   "id": "af0bb535",
   "metadata": {},
   "source": [
    "#### Observations:\n",
    "- The rows with single integer age data have been addressed.\n",
    "- There are only 294 remaining missing values for `age` after extracting age in days, months, single integer years, and 2-integer year range values.\n",
    "- Let us check the rows containing 'c.', '+', or '?' in the age information."
   ]
  },
  {
   "cell_type": "markdown",
   "id": "1fead163",
   "metadata": {},
   "source": [
    "#### Entries with Age Data Containing 'c.', '+', or '?' for Estimate"
   ]
  },
  {
   "cell_type": "code",
   "execution_count": null,
   "id": "8be0bcc4",
   "metadata": {
    "scrolled": false
   },
   "outputs": [],
   "source": [
    "values = [\"c.\", \"+\", \"?\"]\n",
    "\n",
    "# List of rows to check\n",
    "rows_to_check = []\n",
    "\n",
    "# For loop to add index of list containing values to list\n",
    "for index in df[df[\"age\"].isna()].index:\n",
    "    if any(value in df.loc[index, \"info_1\"] for value in values):\n",
    "        rows_to_check.append(index)\n",
    "\n",
    "# Inspecting rows containing values\n",
    "df.loc[rows_to_check, :]"
   ]
  },
  {
   "cell_type": "markdown",
   "id": "9028995f",
   "metadata": {},
   "source": [
    "#### Observations:\n",
    "- Most of the entries are for people, but there are also one or more entries for the following:\n",
    "    - carp\n",
    "    - racehorse\n",
    "    - chimpanzee\n",
    "    - flamingo\n",
    "    - cat\n",
    "    - turkey\n",
    "- We will proceed to check `info_2` for these values and drop these and other rows representing members of these other species."
   ]
  },
  {
   "cell_type": "markdown",
   "id": "45339bc5",
   "metadata": {},
   "source": [
    "#### Checking for Cat, Racehorse, Chimpanzee, Carp, and Flamingo in `info_2`"
   ]
  },
  {
   "cell_type": "code",
   "execution_count": null,
   "id": "34623882",
   "metadata": {},
   "outputs": [],
   "source": [
    "# Defining pattern for re\n",
    "species_pattern = r\"\\b(cat|racehorse|chimpanzee|carp|flamingo|turkey)\\b\"\n",
    "\n",
    "# Empty list to collect indexes of rows containing pattern\n",
    "rows_to_check = []\n",
    "\n",
    "# For loop to add index of rows containing pattern to list\n",
    "for index in df[df[\"info_2\"].notna()].index:\n",
    "    match = re.search(species_pattern, df.loc[index, \"info_2\"])\n",
    "    if match:\n",
    "        rows_to_check.append(index)\n",
    "\n",
    "# Checking number of rows containing pattern\n",
    "print(f\"There are {len(rows_to_check)} rows containing these values.\")"
   ]
  },
  {
   "cell_type": "markdown",
   "id": "8043ca3d",
   "metadata": {},
   "source": [
    "#### Observations:\n",
    "- There are sufficient rows to warrant checking species by species."
   ]
  },
  {
   "cell_type": "markdown",
   "id": "75af68e4",
   "metadata": {},
   "source": [
    "#### Cat Entries per `info_2`"
   ]
  },
  {
   "cell_type": "code",
   "execution_count": null,
   "id": "fa5ecb12",
   "metadata": {
    "scrolled": false
   },
   "outputs": [],
   "source": [
    "# Defining pattern for re\n",
    "species_pattern = r\"\\b(cat)\\b\"\n",
    "\n",
    "# Empty list to collect indexes of rows containing pattern\n",
    "rows_to_check = []\n",
    "\n",
    "# For loop to add index of rows containing pattern to list\n",
    "for index in df[df[\"info_2\"].notna()].index:\n",
    "    match = re.search(species_pattern, df.loc[index, \"info_2\"])\n",
    "    if match:\n",
    "        rows_to_check.append(index)\n",
    "\n",
    "# Inpsecting rows with pattern\n",
    "df.loc[rows_to_check, :]"
   ]
  },
  {
   "cell_type": "markdown",
   "id": "7d92f7c8",
   "metadata": {},
   "source": [
    "#### Observations:\n",
    "- There is one person represented.  \n",
    "- We can proceed to drop the others, using \"cat\", \"cat of\", and \"cat in\" patterns."
   ]
  },
  {
   "cell_type": "markdown",
   "id": "d066dcff",
   "metadata": {},
   "source": [
    "#### Dropping Entries for Cats per `info_2`"
   ]
  },
  {
   "cell_type": "code",
   "execution_count": null,
   "id": "10b09816",
   "metadata": {
    "scrolled": false
   },
   "outputs": [],
   "source": [
    "# List of re patterns to find\n",
    "patterns = [r\"\\bcat$\", r\"\\b(cat of|cat in)\\b\"]\n",
    "\n",
    "# List to collect indexes of rows to drop\n",
    "rows_to_drop = []\n",
    "\n",
    "# For loop to find re pattern and add index of rows with pattern to list\n",
    "for index in df[df[\"info_2\"].notna()].index:\n",
    "    for pattern in patterns:\n",
    "        match = re.search(pattern, df.loc[index, \"info_2\"])\n",
    "        if match:\n",
    "            rows_to_drop.append(index)\n",
    "\n",
    "# Checking number of rows added to list for dropping\n",
    "print(f\"{len(rows_to_drop)} rows will be dropped.\")"
   ]
  },
  {
   "cell_type": "code",
   "execution_count": null,
   "id": "cab909e5",
   "metadata": {},
   "outputs": [],
   "source": [
    "# Dropping rows, resetting index, and checking new shape of df\n",
    "df.drop(rows_to_drop, inplace=True)\n",
    "df.reset_index(inplace=True, drop=True)\n",
    "df.shape"
   ]
  },
  {
   "cell_type": "markdown",
   "id": "5bd39a81",
   "metadata": {},
   "source": [
    "####  Racehorse Entries per `info_2`"
   ]
  },
  {
   "cell_type": "code",
   "execution_count": null,
   "id": "fa5fcb09",
   "metadata": {
    "scrolled": false
   },
   "outputs": [],
   "source": [
    "# Defining pattern for re\n",
    "pattern = r\"\\bracehorse\\b\"\n",
    "\n",
    "# Empty list to collect indexes of rows containing pattern\n",
    "rows_to_check = []\n",
    "\n",
    "# For loop to add index of rows containing pattern to list\n",
    "for index in df[df[\"info_2\"].notna()].index:\n",
    "    match = re.search(pattern, df.loc[index, \"info_2\"])\n",
    "    if match:\n",
    "        rows_to_check.append(index)\n",
    "\n",
    "# Inpsecting rows with pattern\n",
    "df.loc[rows_to_check, :].sample(10)"
   ]
  },
  {
   "cell_type": "markdown",
   "id": "18bba372",
   "metadata": {},
   "source": [
    "#### Observations:\n",
    "- There are several entries for people involved in the racehorse business.\n",
    "- Values that end in 'racehorse' and 'racehorse and sire' can be removed."
   ]
  },
  {
   "cell_type": "markdown",
   "id": "6fb3f762",
   "metadata": {},
   "source": [
    "#### Dropping Entries for Racehorses per `info_2`"
   ]
  },
  {
   "cell_type": "code",
   "execution_count": null,
   "id": "6b85122b",
   "metadata": {
    "scrolled": false
   },
   "outputs": [],
   "source": [
    "# List of re patterns to find\n",
    "patterns = [r\"\\bracehorse$\", r\"\\b(racehorse and sire)$\"]\n",
    "\n",
    "# List to collect indexes of rows to drop\n",
    "rows_to_drop = []\n",
    "\n",
    "# For loop to find re pattern and add index of rows with pattern to list\n",
    "for index in df[df[\"info_2\"].notna()].index:\n",
    "    for pattern in patterns:\n",
    "        match = re.search(pattern, df.loc[index, \"info_2\"])\n",
    "        if match:\n",
    "            rows_to_drop.append(index)\n",
    "\n",
    "# Checking number of rows added to list for dropping\n",
    "print(f\"{len(rows_to_drop)} rows will be dropped.\")"
   ]
  },
  {
   "cell_type": "code",
   "execution_count": null,
   "id": "e1d45e22",
   "metadata": {},
   "outputs": [],
   "source": [
    "# Dropping rows, resetting index, and checking new shape of df\n",
    "df.drop(rows_to_drop, inplace=True)\n",
    "df.reset_index(inplace=True, drop=True)\n",
    "df.shape"
   ]
  },
  {
   "cell_type": "markdown",
   "id": "bf037fb4",
   "metadata": {},
   "source": [
    "####  Chimpanzee, Flamingo,  Carp, and Turkey Entries per `info_2`"
   ]
  },
  {
   "cell_type": "code",
   "execution_count": null,
   "id": "d1328ae5",
   "metadata": {
    "scrolled": false
   },
   "outputs": [],
   "source": [
    "# Defining pattern for re\n",
    "pattern = r\"\\b(chimpanzee|flamingo|carp|turkey)\\b\"\n",
    "\n",
    "# Empty list to collect indexes of rows containing pattern\n",
    "rows_to_check = []\n",
    "\n",
    "# For loop to add index of rows containing pattern to list\n",
    "for index in df[df[\"info_2\"].notna()].index:\n",
    "    match = re.search(pattern, df.loc[index, \"info_2\"])\n",
    "    if match:\n",
    "        rows_to_check.append(index)\n",
    "\n",
    "# Inpsecting rows with pattern\n",
    "df.loc[rows_to_check, :]"
   ]
  },
  {
   "cell_type": "markdown",
   "id": "e01823b3",
   "metadata": {},
   "source": [
    "#### Observations:\n",
    "- All of these rows are for animals, so we will remove them."
   ]
  },
  {
   "cell_type": "markdown",
   "id": "42415803",
   "metadata": {},
   "source": [
    "#### Dropping Entries for Chimpanzees, Flamingos,  Carps, and Turkeys per `info_2`"
   ]
  },
  {
   "cell_type": "code",
   "execution_count": null,
   "id": "898981b1",
   "metadata": {
    "scrolled": false
   },
   "outputs": [],
   "source": [
    "# List of re patterns to find\n",
    "patterns = [r\"\\b(chimpanzee|flamingo|carp|turkey)\\b\"]\n",
    "\n",
    "# List to collect indexes of rows to drop\n",
    "rows_to_drop = []\n",
    "\n",
    "# For loop to find re pattern and add index of rows with pattern to list\n",
    "for index in df[df[\"info_2\"].notna()].index:\n",
    "    for pattern in patterns:\n",
    "        match = re.search(pattern, df.loc[index, \"info_2\"])\n",
    "        if match:\n",
    "            rows_to_drop.append(index)\n",
    "\n",
    "# Checking number of rows added to list for dropping\n",
    "print(f\"{len(rows_to_drop)} rows will be dropped.\")"
   ]
  },
  {
   "cell_type": "code",
   "execution_count": null,
   "id": "676d4edb",
   "metadata": {},
   "outputs": [],
   "source": [
    "# Dropping rows, resetting index, and checking new shape of df\n",
    "df.drop(rows_to_drop, inplace=True)\n",
    "df.reset_index(inplace=True, drop=True)\n",
    "df.shape"
   ]
  },
  {
   "cell_type": "markdown",
   "id": "4acffcc7",
   "metadata": {},
   "source": [
    "#### Observations:\n",
    "- With those non-human entries addressed, we can return to processing `info_1`.\n",
    "- Let us address the remaining entries with '?', '+', or 'c.', accepting the estimated age as `age`.\n",
    "- We will treat the age estimates ending in 's' similarly, but separately."
   ]
  },
  {
   "cell_type": "markdown",
   "id": "8d6af216",
   "metadata": {},
   "source": [
    "#### Extracting `age` from `info_1` for Entries with Age Estimate Containing '?', '+', or 'c.'"
   ]
  },
  {
   "cell_type": "code",
   "execution_count": null,
   "id": "a339c6f4",
   "metadata": {},
   "outputs": [],
   "source": [
    "# List to identify rows\n",
    "values = [\"c.\", \"+\", \"?\"]\n",
    "\n",
    "# Pattern for re\n",
    "pattern = r\"\\b(\\d{1,3})\\b\"\n",
    "\n",
    "# For loop to find rows with values and pattern and extract age to age column and remove age from info_1\n",
    "for i in df[df[\"age\"].isna()].index:\n",
    "    item = df.loc[i, \"info_1\"]\n",
    "\n",
    "    if any(value in item for value in values):\n",
    "        match = re.search(pattern, item)\n",
    "\n",
    "        if match:\n",
    "            age = int(match.group(1))\n",
    "            df.loc[i, \"age\"] = age\n",
    "            df.loc[i, \"info_1\"] = re.sub(pattern, \"\", df.loc[i, \"info_1\"])\n",
    "\n",
    "        for value in values:\n",
    "            df.loc[i, \"info_1\"] = df.loc[i, \"info_1\"].replace(value, \"\")\n",
    "\n",
    "# Checking example rows\n",
    "pd.concat([df[df[\"name\"] == \"Tuti Yusupova\"], df[df[\"name\"] == \"Raed al Atar\"]])"
   ]
  },
  {
   "cell_type": "markdown",
   "id": "b2a1564a",
   "metadata": {},
   "source": [
    "#### Observations:\n",
    "- The ages ending in 's' should be the only ones remaining in the `info_1` column.\n",
    "- We will treat those now, putting them at the mid-range for the decade indicated."
   ]
  },
  {
   "cell_type": "markdown",
   "id": "f1a2fa8b",
   "metadata": {},
   "source": [
    "#### Extracting `age` from `info_1` for Entries with Age Estimate ending in 's'"
   ]
  },
  {
   "cell_type": "code",
   "execution_count": null,
   "id": "f51c247a",
   "metadata": {},
   "outputs": [],
   "source": [
    "# Defining pattern for re\n",
    "pattern = r\"\\b(\\d{1,3})s\\b\"\n",
    "\n",
    "# Empty list to collect indexes of rows containing pattern\n",
    "rows_to_check = []\n",
    "\n",
    "# For loop to add index of rows containing pattern to list\n",
    "for index in df[df[\"age\"].isna()].index:\n",
    "    match = re.search(pattern, df.loc[index, \"info_1\"])\n",
    "    if match:\n",
    "        rows_to_check.append(index)\n",
    "\n",
    "# Inpsecting rows with pattern\n",
    "df.loc[rows_to_check, :]"
   ]
  },
  {
   "cell_type": "code",
   "execution_count": null,
   "id": "98aca1f2",
   "metadata": {},
   "outputs": [],
   "source": [
    "# Pattern for re\n",
    "pattern = r\"\\b(\\d{1,3})s\\b\"\n",
    "\n",
    "# For loop to find rows with values and pattern and extract age to age column and remove age from info_1\n",
    "for i in df[df[\"age\"].isna()].index:\n",
    "    item = df.loc[i, \"info_1\"]\n",
    "    match = re.search(pattern, item)\n",
    "    if match:\n",
    "        age = int(match.group(1))\n",
    "        df.loc[i, \"age\"] = age + 5\n",
    "        df.loc[i, \"info_1\"] = re.sub(pattern, \"\", df.loc[i, \"info_1\"])\n",
    "    if \"early \" in item:\n",
    "        df.loc[i, \"info_1\"] = df.loc[i, \"info_1\"].replace(\"early \", \"\")\n",
    "\n",
    "# Checking example rows\n",
    "pd.concat([df[df[\"name\"] == \"Mary Dann\"], df[df[\"name\"] == \"Timothy Apiyo\"]])"
   ]
  },
  {
   "cell_type": "markdown",
   "id": "bc426758",
   "metadata": {},
   "source": [
    "### Checking for Any Missed Digits in `info_1` and for Remaining Missing Values for `age`"
   ]
  },
  {
   "cell_type": "code",
   "execution_count": null,
   "id": "c78daa6d",
   "metadata": {},
   "outputs": [],
   "source": [
    "pattern = r\"\\d\"\n",
    "\n",
    "rows_to_check = []\n",
    "for i, item in enumerate(df[\"info_1\"]):\n",
    "    match = re.search(pattern, item)\n",
    "    if match:\n",
    "        rows_to_check.append(i)\n",
    "print(\n",
    "    f\"There are {len(df.loc[rows_to_check, :])} remaining entries with digits in info_1 column.\\n\"\n",
    ")\n",
    "print(f'There are {df[\"age\"].isna().sum()} remaining missing values for age.')"
   ]
  },
  {
   "cell_type": "markdown",
   "id": "d4af1a15",
   "metadata": {},
   "source": [
    "### Observations:\n",
    "- All of the age data that had been in `info_1` has been successfully extracted.\n",
    "- There are 218 remaining missing values for `age` that we hope to find in the other info columns.\n",
    "- We will include the remaining values in `info_1` when extracting citizenship and role information."
   ]
  },
  {
   "cell_type": "code",
   "execution_count": null,
   "id": "c285717e",
   "metadata": {},
   "outputs": [],
   "source": [
    "df[df[\"age\"].isna()]"
   ]
  },
  {
   "cell_type": "code",
   "execution_count": null,
   "id": "a2eaee9a",
   "metadata": {},
   "outputs": [],
   "source": []
  }
 ],
 "metadata": {
  "kernelspec": {
   "display_name": "Python 3 (ipykernel)",
   "language": "python",
   "name": "python3"
  },
  "language_info": {
   "codemirror_mode": {
    "name": "ipython",
    "version": 3
   },
   "file_extension": ".py",
   "mimetype": "text/x-python",
   "name": "python",
   "nbconvert_exporter": "python",
   "pygments_lexer": "ipython3",
   "version": "3.9.12"
  }
 },
 "nbformat": 4,
 "nbformat_minor": 5
}
