{
 "cells": [
  {
   "cell_type": "markdown",
   "id": "316a0779",
   "metadata": {},
   "source": [
    "# Wikipedia Notable Life Expectancies\n",
    "# [Notebook  13: Models](https://github.com/teresahanak/wikipedia-life-expectancy/blob/main/wp_life_expect_models_thanak_2022_10_14.ipynb)\n",
    "### Context\n",
    "\n",
    "The\n",
    "### Objective\n",
    "\n",
    "The\n",
    "### Data Dictionary\n",
    "- Feature: Description"
   ]
  },
  {
   "cell_type": "markdown",
   "id": "99245d51",
   "metadata": {},
   "source": [
    "### Importing Libraries"
   ]
  },
  {
   "cell_type": "code",
   "execution_count": 36,
   "id": "453bba83",
   "metadata": {},
   "outputs": [
    {
     "name": "stdout",
     "output_type": "stream",
     "text": [
      "The nb_black extension is already loaded. To reload it, use:\n",
      "  %reload_ext nb_black\n"
     ]
    },
    {
     "data": {
      "application/javascript": [
       "\n",
       "            setTimeout(function() {\n",
       "                var nbb_cell_id = 36;\n",
       "                var nbb_unformatted_code = \"# To structure code automatically\\n%load_ext nb_black\\n\\n# To import/export sqlite databases\\n# import sqlite3 as sql\\n\\n# To save/open python objects in pickle file\\nimport pickle\\n\\n# To help with reading, cleaning, and manipulating data\\nimport pandas as pd\\nimport numpy as np\\n\\n# To help with data visualization\\nimport matplotlib.pyplot as plt\\nimport seaborn as sns\\n\\n# To be used for missing value imputation\\nfrom sklearn.impute import SimpleImputer\\n\\n# To help with model building\\nfrom sklearn.tree import DecisionTreeRegressor\\nfrom sklearn.linear_model import LinearRegression\\n\\nfrom sklearn.ensemble import (\\n    AdaBoostRegressor,\\n    GradientBoostingRegressor,\\n    RandomForestRegressor,\\n    BaggingRegressor,\\n)\\nfrom xgboost import XGBRegressor\\n\\n# To randomly split data, for cross validation, and to check model performance\\nfrom sklearn import metrics\\nfrom sklearn.model_selection import train_test_split, KFold, cross_val_score\\nfrom sklearn.metrics import (\\n    mean_absolute_error,\\n    mean_squared_error,\\n    r2_score,\\n    mean_absolute_percentage_error,\\n)\\n\\n# To be used for data scaling and one hot encoding\\nfrom sklearn.preprocessing import StandardScaler, MinMaxScaler, OneHotEncoder\\n\\n# To be used for tuning the model\\nfrom sklearn.model_selection import GridSearchCV, RandomizedSearchCV\\n\\n# To be used for hyperparameter tuning searches\\nfrom scipy.stats import loguniform\\nfrom scipy.stats import uniform\\nfrom scipy.stats import expon\\n\\n# To be used for creating pipelines and personalizing them\\nfrom sklearn.pipeline import Pipeline\\nfrom sklearn.compose import ColumnTransformer\\n\\n# To define maximum number of columns to be displayed in a dataframe\\npd.set_option(\\\"display.max_columns\\\", None)\\n# To define the maximum number of rows to be displayed in a dataframe\\npd.set_option(\\\"display.max_rows\\\", 211)\\n\\n# To set some dataframe visualization attributes\\npd.set_option(\\\"max_colwidth\\\", 150)\\n\\n# To supress scientific notations for a dataframe\\n# pd.set_option(\\\"display.float_format\\\", lambda x: \\\"%.3f\\\" % x)\\n\\n# To supress warnings\\n# import warnings\\n\\n# warnings.filterwarnings(\\\"ignore\\\")\\n\\n# To set some plot visualization attributes\\nsns.set_theme()\\nsns.set(font_scale=1.4)\\nsns.set_palette(\\n    (\\n        \\\"midnightblue\\\",\\n        \\\"goldenrod\\\",\\n        \\\"maroon\\\",\\n        \\\"darkolivegreen\\\",\\n        \\\"cadetblue\\\",\\n        \\\"tab:purple\\\",\\n        \\\"yellowgreen\\\",\\n    )\\n)\\n# plt.rc(\\\"font\\\", size=12)\\n# plt.rc(\\\"axes\\\", titlesize=15)\\n# plt.rc(\\\"axes\\\", labelsize=14)\\n# plt.rc(\\\"xtick\\\", labelsize=13)\\n# plt.rc(\\\"ytick\\\", labelsize=13)\\n# plt.rc(\\\"legend\\\", fontsize=13)\\n# plt.rc(\\\"legend\\\", fontsize=14)\\n# plt.rc(\\\"figure\\\", titlesize=16)\\n\\n# To play auditory cue when cell has executed, has warning, or has error and set chime theme\\nimport chime\\n\\nchime.theme(\\\"zelda\\\")\";\n",
       "                var nbb_formatted_code = \"# To structure code automatically\\n%load_ext nb_black\\n\\n# To import/export sqlite databases\\n# import sqlite3 as sql\\n\\n# To save/open python objects in pickle file\\nimport pickle\\n\\n# To help with reading, cleaning, and manipulating data\\nimport pandas as pd\\nimport numpy as np\\n\\n# To help with data visualization\\nimport matplotlib.pyplot as plt\\nimport seaborn as sns\\n\\n# To be used for missing value imputation\\nfrom sklearn.impute import SimpleImputer\\n\\n# To help with model building\\nfrom sklearn.tree import DecisionTreeRegressor\\nfrom sklearn.linear_model import LinearRegression\\n\\nfrom sklearn.ensemble import (\\n    AdaBoostRegressor,\\n    GradientBoostingRegressor,\\n    RandomForestRegressor,\\n    BaggingRegressor,\\n)\\nfrom xgboost import XGBRegressor\\n\\n# To randomly split data, for cross validation, and to check model performance\\nfrom sklearn import metrics\\nfrom sklearn.model_selection import train_test_split, KFold, cross_val_score\\nfrom sklearn.metrics import (\\n    mean_absolute_error,\\n    mean_squared_error,\\n    r2_score,\\n    mean_absolute_percentage_error,\\n)\\n\\n# To be used for data scaling and one hot encoding\\nfrom sklearn.preprocessing import StandardScaler, MinMaxScaler, OneHotEncoder\\n\\n# To be used for tuning the model\\nfrom sklearn.model_selection import GridSearchCV, RandomizedSearchCV\\n\\n# To be used for hyperparameter tuning searches\\nfrom scipy.stats import loguniform\\nfrom scipy.stats import uniform\\nfrom scipy.stats import expon\\n\\n# To be used for creating pipelines and personalizing them\\nfrom sklearn.pipeline import Pipeline\\nfrom sklearn.compose import ColumnTransformer\\n\\n# To define maximum number of columns to be displayed in a dataframe\\npd.set_option(\\\"display.max_columns\\\", None)\\n# To define the maximum number of rows to be displayed in a dataframe\\npd.set_option(\\\"display.max_rows\\\", 211)\\n\\n# To set some dataframe visualization attributes\\npd.set_option(\\\"max_colwidth\\\", 150)\\n\\n# To supress scientific notations for a dataframe\\n# pd.set_option(\\\"display.float_format\\\", lambda x: \\\"%.3f\\\" % x)\\n\\n# To supress warnings\\n# import warnings\\n\\n# warnings.filterwarnings(\\\"ignore\\\")\\n\\n# To set some plot visualization attributes\\nsns.set_theme()\\nsns.set(font_scale=1.4)\\nsns.set_palette(\\n    (\\n        \\\"midnightblue\\\",\\n        \\\"goldenrod\\\",\\n        \\\"maroon\\\",\\n        \\\"darkolivegreen\\\",\\n        \\\"cadetblue\\\",\\n        \\\"tab:purple\\\",\\n        \\\"yellowgreen\\\",\\n    )\\n)\\n# plt.rc(\\\"font\\\", size=12)\\n# plt.rc(\\\"axes\\\", titlesize=15)\\n# plt.rc(\\\"axes\\\", labelsize=14)\\n# plt.rc(\\\"xtick\\\", labelsize=13)\\n# plt.rc(\\\"ytick\\\", labelsize=13)\\n# plt.rc(\\\"legend\\\", fontsize=13)\\n# plt.rc(\\\"legend\\\", fontsize=14)\\n# plt.rc(\\\"figure\\\", titlesize=16)\\n\\n# To play auditory cue when cell has executed, has warning, or has error and set chime theme\\nimport chime\\n\\nchime.theme(\\\"zelda\\\")\";\n",
       "                var nbb_cells = Jupyter.notebook.get_cells();\n",
       "                for (var i = 0; i < nbb_cells.length; ++i) {\n",
       "                    if (nbb_cells[i].input_prompt_number == nbb_cell_id) {\n",
       "                        if (nbb_cells[i].get_text() == nbb_unformatted_code) {\n",
       "                             nbb_cells[i].set_text(nbb_formatted_code);\n",
       "                        }\n",
       "                        break;\n",
       "                    }\n",
       "                }\n",
       "            }, 500);\n",
       "            "
      ],
      "text/plain": [
       "<IPython.core.display.Javascript object>"
      ]
     },
     "metadata": {},
     "output_type": "display_data"
    }
   ],
   "source": [
    "# To structure code automatically\n",
    "%load_ext nb_black\n",
    "\n",
    "# To import/export sqlite databases\n",
    "# import sqlite3 as sql\n",
    "\n",
    "# To save/open python objects in pickle file\n",
    "import pickle\n",
    "\n",
    "# To help with reading, cleaning, and manipulating data\n",
    "import pandas as pd\n",
    "import numpy as np\n",
    "\n",
    "# To help with data visualization\n",
    "import matplotlib.pyplot as plt\n",
    "import seaborn as sns\n",
    "\n",
    "# To be used for missing value imputation\n",
    "from sklearn.impute import SimpleImputer\n",
    "\n",
    "# To help with model building\n",
    "from sklearn.tree import DecisionTreeRegressor\n",
    "from sklearn.linear_model import LinearRegression\n",
    "\n",
    "from sklearn.ensemble import (\n",
    "    AdaBoostRegressor,\n",
    "    GradientBoostingRegressor,\n",
    "    RandomForestRegressor,\n",
    "    BaggingRegressor,\n",
    ")\n",
    "from xgboost import XGBRegressor\n",
    "\n",
    "# To randomly split data, for cross validation, and to check model performance\n",
    "from sklearn import metrics\n",
    "from sklearn.model_selection import train_test_split, KFold, cross_val_score\n",
    "from sklearn.metrics import (\n",
    "    mean_absolute_error,\n",
    "    mean_squared_error,\n",
    "    r2_score,\n",
    "    mean_absolute_percentage_error,\n",
    ")\n",
    "\n",
    "# To be used for data scaling and one hot encoding\n",
    "from sklearn.preprocessing import StandardScaler, MinMaxScaler, OneHotEncoder\n",
    "\n",
    "# To be used for tuning the model\n",
    "from sklearn.model_selection import GridSearchCV, RandomizedSearchCV\n",
    "\n",
    "# To be used for hyperparameter tuning searches\n",
    "from scipy.stats import loguniform\n",
    "from scipy.stats import uniform\n",
    "from scipy.stats import expon\n",
    "\n",
    "# To be used for creating pipelines and personalizing them\n",
    "from sklearn.pipeline import Pipeline\n",
    "from sklearn.compose import ColumnTransformer\n",
    "\n",
    "# To define maximum number of columns to be displayed in a dataframe\n",
    "pd.set_option(\"display.max_columns\", None)\n",
    "# To define the maximum number of rows to be displayed in a dataframe\n",
    "pd.set_option(\"display.max_rows\", 211)\n",
    "\n",
    "# To set some dataframe visualization attributes\n",
    "pd.set_option(\"max_colwidth\", 150)\n",
    "\n",
    "# To supress scientific notations for a dataframe\n",
    "# pd.set_option(\"display.float_format\", lambda x: \"%.3f\" % x)\n",
    "\n",
    "# To supress warnings\n",
    "# import warnings\n",
    "\n",
    "# warnings.filterwarnings(\"ignore\")\n",
    "\n",
    "# To set some plot visualization attributes\n",
    "sns.set_theme()\n",
    "sns.set(font_scale=1.4)\n",
    "sns.set_palette(\n",
    "    (\n",
    "        \"midnightblue\",\n",
    "        \"goldenrod\",\n",
    "        \"maroon\",\n",
    "        \"darkolivegreen\",\n",
    "        \"cadetblue\",\n",
    "        \"tab:purple\",\n",
    "        \"yellowgreen\",\n",
    "    )\n",
    ")\n",
    "# plt.rc(\"font\", size=12)\n",
    "# plt.rc(\"axes\", titlesize=15)\n",
    "# plt.rc(\"axes\", labelsize=14)\n",
    "# plt.rc(\"xtick\", labelsize=13)\n",
    "# plt.rc(\"ytick\", labelsize=13)\n",
    "# plt.rc(\"legend\", fontsize=13)\n",
    "# plt.rc(\"legend\", fontsize=14)\n",
    "# plt.rc(\"figure\", titlesize=16)\n",
    "\n",
    "# To play auditory cue when cell has executed, has warning, or has error and set chime theme\n",
    "import chime\n",
    "\n",
    "chime.theme(\"zelda\")"
   ]
  },
  {
   "cell_type": "markdown",
   "id": "cc818a82",
   "metadata": {},
   "source": [
    "## Data Overview"
   ]
  },
  {
   "cell_type": "markdown",
   "id": "0ed005f6",
   "metadata": {},
   "source": [
    "### [Reading](https://github.com/teresahanak/wikipedia-life-expectancy/blob/main/wp_life_expect_preproc.csv), Sampling, and Checking Data Shape"
   ]
  },
  {
   "cell_type": "code",
   "execution_count": 2,
   "id": "0ca58a95",
   "metadata": {},
   "outputs": [
    {
     "name": "stdout",
     "output_type": "stream",
     "text": [
      "There are 77624 rows and 20 columns.\n"
     ]
    },
    {
     "data": {
      "text/html": [
       "<div>\n",
       "<style scoped>\n",
       "    .dataframe tbody tr th:only-of-type {\n",
       "        vertical-align: middle;\n",
       "    }\n",
       "\n",
       "    .dataframe tbody tr th {\n",
       "        vertical-align: top;\n",
       "    }\n",
       "\n",
       "    .dataframe thead th {\n",
       "        text-align: right;\n",
       "    }\n",
       "</style>\n",
       "<table border=\"1\" class=\"dataframe\">\n",
       "  <thead>\n",
       "    <tr style=\"text-align: right;\">\n",
       "      <th></th>\n",
       "      <th>num_references</th>\n",
       "      <th>age</th>\n",
       "      <th>sciences</th>\n",
       "      <th>social</th>\n",
       "      <th>spiritual</th>\n",
       "      <th>academia_humanities</th>\n",
       "      <th>business_farming</th>\n",
       "      <th>arts</th>\n",
       "      <th>sports</th>\n",
       "      <th>law_enf_military_operator</th>\n",
       "      <th>politics_govt_law</th>\n",
       "      <th>crime</th>\n",
       "      <th>num_categories</th>\n",
       "      <th>age_sqrd</th>\n",
       "      <th>recip_num_references</th>\n",
       "      <th>years</th>\n",
       "      <th>years_sqrd</th>\n",
       "      <th>region</th>\n",
       "      <th>prior_region</th>\n",
       "      <th>known_for</th>\n",
       "    </tr>\n",
       "  </thead>\n",
       "  <tbody>\n",
       "    <tr>\n",
       "      <th>0</th>\n",
       "      <td>4</td>\n",
       "      <td>73.0</td>\n",
       "      <td>0</td>\n",
       "      <td>0</td>\n",
       "      <td>1</td>\n",
       "      <td>0</td>\n",
       "      <td>0</td>\n",
       "      <td>0</td>\n",
       "      <td>0</td>\n",
       "      <td>0</td>\n",
       "      <td>0</td>\n",
       "      <td>0</td>\n",
       "      <td>1</td>\n",
       "      <td>5329.0</td>\n",
       "      <td>0.250000</td>\n",
       "      <td>8</td>\n",
       "      <td>64</td>\n",
       "      <td>Europe</td>\n",
       "      <td>No Prior Region</td>\n",
       "      <td>spiritual</td>\n",
       "    </tr>\n",
       "    <tr>\n",
       "      <th>1</th>\n",
       "      <td>3</td>\n",
       "      <td>90.0</td>\n",
       "      <td>1</td>\n",
       "      <td>0</td>\n",
       "      <td>0</td>\n",
       "      <td>1</td>\n",
       "      <td>0</td>\n",
       "      <td>0</td>\n",
       "      <td>0</td>\n",
       "      <td>0</td>\n",
       "      <td>0</td>\n",
       "      <td>0</td>\n",
       "      <td>2</td>\n",
       "      <td>8100.0</td>\n",
       "      <td>0.333333</td>\n",
       "      <td>13</td>\n",
       "      <td>169</td>\n",
       "      <td>North America</td>\n",
       "      <td>No Prior Region</td>\n",
       "      <td>two</td>\n",
       "    </tr>\n",
       "  </tbody>\n",
       "</table>\n",
       "</div>"
      ],
      "text/plain": [
       "   num_references   age  sciences  social  spiritual  academia_humanities  \\\n",
       "0               4  73.0         0       0          1                    0   \n",
       "1               3  90.0         1       0          0                    1   \n",
       "\n",
       "   business_farming  arts  sports  law_enf_military_operator  \\\n",
       "0                 0     0       0                          0   \n",
       "1                 0     0       0                          0   \n",
       "\n",
       "   politics_govt_law  crime  num_categories  age_sqrd  recip_num_references  \\\n",
       "0                  0      0               1    5329.0              0.250000   \n",
       "1                  0      0               2    8100.0              0.333333   \n",
       "\n",
       "   years  years_sqrd         region     prior_region  known_for  \n",
       "0      8          64         Europe  No Prior Region  spiritual  \n",
       "1     13         169  North America  No Prior Region        two  "
      ]
     },
     "execution_count": 2,
     "metadata": {},
     "output_type": "execute_result"
    },
    {
     "data": {
      "application/javascript": [
       "\n",
       "            setTimeout(function() {\n",
       "                var nbb_cell_id = 2;\n",
       "                var nbb_unformatted_code = \"# Reading the dataset\\ndata = pd.read_csv(\\\"wp_life_expect_preproc.csv\\\")\\n\\n# Making a working copy\\ndf = data.copy()\\n\\n# Checking the shape\\nprint(f\\\"There are {df.shape[0]} rows and {df.shape[1]} columns.\\\")\\n\\n# Checking first 2 rows of the data\\ndf.head(2)\";\n",
       "                var nbb_formatted_code = \"# Reading the dataset\\ndata = pd.read_csv(\\\"wp_life_expect_preproc.csv\\\")\\n\\n# Making a working copy\\ndf = data.copy()\\n\\n# Checking the shape\\nprint(f\\\"There are {df.shape[0]} rows and {df.shape[1]} columns.\\\")\\n\\n# Checking first 2 rows of the data\\ndf.head(2)\";\n",
       "                var nbb_cells = Jupyter.notebook.get_cells();\n",
       "                for (var i = 0; i < nbb_cells.length; ++i) {\n",
       "                    if (nbb_cells[i].input_prompt_number == nbb_cell_id) {\n",
       "                        if (nbb_cells[i].get_text() == nbb_unformatted_code) {\n",
       "                             nbb_cells[i].set_text(nbb_formatted_code);\n",
       "                        }\n",
       "                        break;\n",
       "                    }\n",
       "                }\n",
       "            }, 500);\n",
       "            "
      ],
      "text/plain": [
       "<IPython.core.display.Javascript object>"
      ]
     },
     "metadata": {},
     "output_type": "display_data"
    }
   ],
   "source": [
    "# Reading the dataset\n",
    "data = pd.read_csv(\"wp_life_expect_preproc.csv\")\n",
    "\n",
    "# Making a working copy\n",
    "df = data.copy()\n",
    "\n",
    "# Checking the shape\n",
    "print(f\"There are {df.shape[0]} rows and {df.shape[1]} columns.\")\n",
    "\n",
    "# Checking first 2 rows of the data\n",
    "df.head(2)"
   ]
  },
  {
   "cell_type": "code",
   "execution_count": 3,
   "id": "6cca416f",
   "metadata": {},
   "outputs": [
    {
     "data": {
      "text/html": [
       "<div>\n",
       "<style scoped>\n",
       "    .dataframe tbody tr th:only-of-type {\n",
       "        vertical-align: middle;\n",
       "    }\n",
       "\n",
       "    .dataframe tbody tr th {\n",
       "        vertical-align: top;\n",
       "    }\n",
       "\n",
       "    .dataframe thead th {\n",
       "        text-align: right;\n",
       "    }\n",
       "</style>\n",
       "<table border=\"1\" class=\"dataframe\">\n",
       "  <thead>\n",
       "    <tr style=\"text-align: right;\">\n",
       "      <th></th>\n",
       "      <th>num_references</th>\n",
       "      <th>age</th>\n",
       "      <th>sciences</th>\n",
       "      <th>social</th>\n",
       "      <th>spiritual</th>\n",
       "      <th>academia_humanities</th>\n",
       "      <th>business_farming</th>\n",
       "      <th>arts</th>\n",
       "      <th>sports</th>\n",
       "      <th>law_enf_military_operator</th>\n",
       "      <th>politics_govt_law</th>\n",
       "      <th>crime</th>\n",
       "      <th>num_categories</th>\n",
       "      <th>age_sqrd</th>\n",
       "      <th>recip_num_references</th>\n",
       "      <th>years</th>\n",
       "      <th>years_sqrd</th>\n",
       "      <th>region</th>\n",
       "      <th>prior_region</th>\n",
       "      <th>known_for</th>\n",
       "    </tr>\n",
       "  </thead>\n",
       "  <tbody>\n",
       "    <tr>\n",
       "      <th>77622</th>\n",
       "      <td>7</td>\n",
       "      <td>74.0</td>\n",
       "      <td>0</td>\n",
       "      <td>0</td>\n",
       "      <td>0</td>\n",
       "      <td>0</td>\n",
       "      <td>0</td>\n",
       "      <td>1</td>\n",
       "      <td>0</td>\n",
       "      <td>0</td>\n",
       "      <td>0</td>\n",
       "      <td>0</td>\n",
       "      <td>1</td>\n",
       "      <td>5476.0</td>\n",
       "      <td>0.142857</td>\n",
       "      <td>0</td>\n",
       "      <td>0</td>\n",
       "      <td>North America</td>\n",
       "      <td>No Prior Region</td>\n",
       "      <td>arts</td>\n",
       "    </tr>\n",
       "    <tr>\n",
       "      <th>77623</th>\n",
       "      <td>5</td>\n",
       "      <td>92.0</td>\n",
       "      <td>0</td>\n",
       "      <td>0</td>\n",
       "      <td>0</td>\n",
       "      <td>0</td>\n",
       "      <td>0</td>\n",
       "      <td>0</td>\n",
       "      <td>1</td>\n",
       "      <td>0</td>\n",
       "      <td>0</td>\n",
       "      <td>0</td>\n",
       "      <td>1</td>\n",
       "      <td>8464.0</td>\n",
       "      <td>0.200000</td>\n",
       "      <td>8</td>\n",
       "      <td>64</td>\n",
       "      <td>Europe</td>\n",
       "      <td>No Prior Region</td>\n",
       "      <td>sports</td>\n",
       "    </tr>\n",
       "  </tbody>\n",
       "</table>\n",
       "</div>"
      ],
      "text/plain": [
       "       num_references   age  sciences  social  spiritual  academia_humanities  \\\n",
       "77622               7  74.0         0       0          0                    0   \n",
       "77623               5  92.0         0       0          0                    0   \n",
       "\n",
       "       business_farming  arts  sports  law_enf_military_operator  \\\n",
       "77622                 0     1       0                          0   \n",
       "77623                 0     0       1                          0   \n",
       "\n",
       "       politics_govt_law  crime  num_categories  age_sqrd  \\\n",
       "77622                  0      0               1    5476.0   \n",
       "77623                  0      0               1    8464.0   \n",
       "\n",
       "       recip_num_references  years  years_sqrd         region  \\\n",
       "77622              0.142857      0           0  North America   \n",
       "77623              0.200000      8          64         Europe   \n",
       "\n",
       "          prior_region known_for  \n",
       "77622  No Prior Region      arts  \n",
       "77623  No Prior Region    sports  "
      ]
     },
     "execution_count": 3,
     "metadata": {},
     "output_type": "execute_result"
    },
    {
     "data": {
      "application/javascript": [
       "\n",
       "            setTimeout(function() {\n",
       "                var nbb_cell_id = 3;\n",
       "                var nbb_unformatted_code = \"# Checking last 2 rows of the data\\ndf.tail(2)\";\n",
       "                var nbb_formatted_code = \"# Checking last 2 rows of the data\\ndf.tail(2)\";\n",
       "                var nbb_cells = Jupyter.notebook.get_cells();\n",
       "                for (var i = 0; i < nbb_cells.length; ++i) {\n",
       "                    if (nbb_cells[i].input_prompt_number == nbb_cell_id) {\n",
       "                        if (nbb_cells[i].get_text() == nbb_unformatted_code) {\n",
       "                             nbb_cells[i].set_text(nbb_formatted_code);\n",
       "                        }\n",
       "                        break;\n",
       "                    }\n",
       "                }\n",
       "            }, 500);\n",
       "            "
      ],
      "text/plain": [
       "<IPython.core.display.Javascript object>"
      ]
     },
     "metadata": {},
     "output_type": "display_data"
    }
   ],
   "source": [
    "# Checking last 2 rows of the data\n",
    "df.tail(2)"
   ]
  },
  {
   "cell_type": "code",
   "execution_count": 4,
   "id": "de6e8ee5",
   "metadata": {},
   "outputs": [
    {
     "data": {
      "text/html": [
       "<div>\n",
       "<style scoped>\n",
       "    .dataframe tbody tr th:only-of-type {\n",
       "        vertical-align: middle;\n",
       "    }\n",
       "\n",
       "    .dataframe tbody tr th {\n",
       "        vertical-align: top;\n",
       "    }\n",
       "\n",
       "    .dataframe thead th {\n",
       "        text-align: right;\n",
       "    }\n",
       "</style>\n",
       "<table border=\"1\" class=\"dataframe\">\n",
       "  <thead>\n",
       "    <tr style=\"text-align: right;\">\n",
       "      <th></th>\n",
       "      <th>num_references</th>\n",
       "      <th>age</th>\n",
       "      <th>sciences</th>\n",
       "      <th>social</th>\n",
       "      <th>spiritual</th>\n",
       "      <th>academia_humanities</th>\n",
       "      <th>business_farming</th>\n",
       "      <th>arts</th>\n",
       "      <th>sports</th>\n",
       "      <th>law_enf_military_operator</th>\n",
       "      <th>politics_govt_law</th>\n",
       "      <th>crime</th>\n",
       "      <th>num_categories</th>\n",
       "      <th>age_sqrd</th>\n",
       "      <th>recip_num_references</th>\n",
       "      <th>years</th>\n",
       "      <th>years_sqrd</th>\n",
       "      <th>region</th>\n",
       "      <th>prior_region</th>\n",
       "      <th>known_for</th>\n",
       "    </tr>\n",
       "  </thead>\n",
       "  <tbody>\n",
       "    <tr>\n",
       "      <th>38534</th>\n",
       "      <td>43</td>\n",
       "      <td>66.0</td>\n",
       "      <td>0</td>\n",
       "      <td>0</td>\n",
       "      <td>0</td>\n",
       "      <td>0</td>\n",
       "      <td>0</td>\n",
       "      <td>0</td>\n",
       "      <td>1</td>\n",
       "      <td>0</td>\n",
       "      <td>0</td>\n",
       "      <td>0</td>\n",
       "      <td>1</td>\n",
       "      <td>4356.0</td>\n",
       "      <td>0.023256</td>\n",
       "      <td>17</td>\n",
       "      <td>289</td>\n",
       "      <td>Europe</td>\n",
       "      <td>No Prior Region</td>\n",
       "      <td>sports</td>\n",
       "    </tr>\n",
       "    <tr>\n",
       "      <th>55032</th>\n",
       "      <td>4</td>\n",
       "      <td>62.0</td>\n",
       "      <td>0</td>\n",
       "      <td>0</td>\n",
       "      <td>0</td>\n",
       "      <td>0</td>\n",
       "      <td>0</td>\n",
       "      <td>0</td>\n",
       "      <td>0</td>\n",
       "      <td>0</td>\n",
       "      <td>1</td>\n",
       "      <td>0</td>\n",
       "      <td>1</td>\n",
       "      <td>3844.0</td>\n",
       "      <td>0.250000</td>\n",
       "      <td>24</td>\n",
       "      <td>576</td>\n",
       "      <td>Asia</td>\n",
       "      <td>No Prior Region</td>\n",
       "      <td>politics_govt_law</td>\n",
       "    </tr>\n",
       "    <tr>\n",
       "      <th>47213</th>\n",
       "      <td>15</td>\n",
       "      <td>78.0</td>\n",
       "      <td>0</td>\n",
       "      <td>0</td>\n",
       "      <td>0</td>\n",
       "      <td>0</td>\n",
       "      <td>0</td>\n",
       "      <td>1</td>\n",
       "      <td>0</td>\n",
       "      <td>0</td>\n",
       "      <td>0</td>\n",
       "      <td>0</td>\n",
       "      <td>1</td>\n",
       "      <td>6084.0</td>\n",
       "      <td>0.066667</td>\n",
       "      <td>26</td>\n",
       "      <td>676</td>\n",
       "      <td>Asia</td>\n",
       "      <td>No Prior Region</td>\n",
       "      <td>arts</td>\n",
       "    </tr>\n",
       "    <tr>\n",
       "      <th>34842</th>\n",
       "      <td>4</td>\n",
       "      <td>68.0</td>\n",
       "      <td>0</td>\n",
       "      <td>0</td>\n",
       "      <td>0</td>\n",
       "      <td>0</td>\n",
       "      <td>0</td>\n",
       "      <td>0</td>\n",
       "      <td>1</td>\n",
       "      <td>0</td>\n",
       "      <td>0</td>\n",
       "      <td>0</td>\n",
       "      <td>1</td>\n",
       "      <td>4624.0</td>\n",
       "      <td>0.250000</td>\n",
       "      <td>26</td>\n",
       "      <td>676</td>\n",
       "      <td>North America</td>\n",
       "      <td>No Prior Region</td>\n",
       "      <td>sports</td>\n",
       "    </tr>\n",
       "    <tr>\n",
       "      <th>20255</th>\n",
       "      <td>6</td>\n",
       "      <td>40.0</td>\n",
       "      <td>0</td>\n",
       "      <td>0</td>\n",
       "      <td>0</td>\n",
       "      <td>0</td>\n",
       "      <td>0</td>\n",
       "      <td>1</td>\n",
       "      <td>0</td>\n",
       "      <td>0</td>\n",
       "      <td>0</td>\n",
       "      <td>0</td>\n",
       "      <td>1</td>\n",
       "      <td>1600.0</td>\n",
       "      <td>0.166667</td>\n",
       "      <td>6</td>\n",
       "      <td>36</td>\n",
       "      <td>Europe</td>\n",
       "      <td>No Prior Region</td>\n",
       "      <td>arts</td>\n",
       "    </tr>\n",
       "  </tbody>\n",
       "</table>\n",
       "</div>"
      ],
      "text/plain": [
       "       num_references   age  sciences  social  spiritual  academia_humanities  \\\n",
       "38534              43  66.0         0       0          0                    0   \n",
       "55032               4  62.0         0       0          0                    0   \n",
       "47213              15  78.0         0       0          0                    0   \n",
       "34842               4  68.0         0       0          0                    0   \n",
       "20255               6  40.0         0       0          0                    0   \n",
       "\n",
       "       business_farming  arts  sports  law_enf_military_operator  \\\n",
       "38534                 0     0       1                          0   \n",
       "55032                 0     0       0                          0   \n",
       "47213                 0     1       0                          0   \n",
       "34842                 0     0       1                          0   \n",
       "20255                 0     1       0                          0   \n",
       "\n",
       "       politics_govt_law  crime  num_categories  age_sqrd  \\\n",
       "38534                  0      0               1    4356.0   \n",
       "55032                  1      0               1    3844.0   \n",
       "47213                  0      0               1    6084.0   \n",
       "34842                  0      0               1    4624.0   \n",
       "20255                  0      0               1    1600.0   \n",
       "\n",
       "       recip_num_references  years  years_sqrd         region  \\\n",
       "38534              0.023256     17         289         Europe   \n",
       "55032              0.250000     24         576           Asia   \n",
       "47213              0.066667     26         676           Asia   \n",
       "34842              0.250000     26         676  North America   \n",
       "20255              0.166667      6          36         Europe   \n",
       "\n",
       "          prior_region          known_for  \n",
       "38534  No Prior Region             sports  \n",
       "55032  No Prior Region  politics_govt_law  \n",
       "47213  No Prior Region               arts  \n",
       "34842  No Prior Region             sports  \n",
       "20255  No Prior Region               arts  "
      ]
     },
     "execution_count": 4,
     "metadata": {},
     "output_type": "execute_result"
    },
    {
     "data": {
      "application/javascript": [
       "\n",
       "            setTimeout(function() {\n",
       "                var nbb_cell_id = 4;\n",
       "                var nbb_unformatted_code = \"# Checking a sample of the data\\ndf.sample(5)\";\n",
       "                var nbb_formatted_code = \"# Checking a sample of the data\\ndf.sample(5)\";\n",
       "                var nbb_cells = Jupyter.notebook.get_cells();\n",
       "                for (var i = 0; i < nbb_cells.length; ++i) {\n",
       "                    if (nbb_cells[i].input_prompt_number == nbb_cell_id) {\n",
       "                        if (nbb_cells[i].get_text() == nbb_unformatted_code) {\n",
       "                             nbb_cells[i].set_text(nbb_formatted_code);\n",
       "                        }\n",
       "                        break;\n",
       "                    }\n",
       "                }\n",
       "            }, 500);\n",
       "            "
      ],
      "text/plain": [
       "<IPython.core.display.Javascript object>"
      ]
     },
     "metadata": {},
     "output_type": "display_data"
    }
   ],
   "source": [
    "# Checking a sample of the data\n",
    "df.sample(5)"
   ]
  },
  {
   "cell_type": "markdown",
   "id": "8d5f29da",
   "metadata": {},
   "source": [
    "### Checking Data Types and Null Values"
   ]
  },
  {
   "cell_type": "code",
   "execution_count": 5,
   "id": "bf505f87",
   "metadata": {},
   "outputs": [
    {
     "name": "stdout",
     "output_type": "stream",
     "text": [
      "<class 'pandas.core.frame.DataFrame'>\n",
      "RangeIndex: 77624 entries, 0 to 77623\n",
      "Data columns (total 20 columns):\n",
      " #   Column                     Non-Null Count  Dtype  \n",
      "---  ------                     --------------  -----  \n",
      " 0   num_references             77624 non-null  int64  \n",
      " 1   age                        77624 non-null  float64\n",
      " 2   sciences                   77624 non-null  int64  \n",
      " 3   social                     77624 non-null  int64  \n",
      " 4   spiritual                  77624 non-null  int64  \n",
      " 5   academia_humanities        77624 non-null  int64  \n",
      " 6   business_farming           77624 non-null  int64  \n",
      " 7   arts                       77624 non-null  int64  \n",
      " 8   sports                     77624 non-null  int64  \n",
      " 9   law_enf_military_operator  77624 non-null  int64  \n",
      " 10  politics_govt_law          77624 non-null  int64  \n",
      " 11  crime                      77624 non-null  int64  \n",
      " 12  num_categories             77624 non-null  int64  \n",
      " 13  age_sqrd                   77624 non-null  float64\n",
      " 14  recip_num_references       77624 non-null  float64\n",
      " 15  years                      77624 non-null  int64  \n",
      " 16  years_sqrd                 77624 non-null  int64  \n",
      " 17  region                     77624 non-null  object \n",
      " 18  prior_region               77624 non-null  object \n",
      " 19  known_for                  77624 non-null  object \n",
      "dtypes: float64(3), int64(14), object(3)\n",
      "memory usage: 11.8+ MB\n"
     ]
    },
    {
     "data": {
      "application/javascript": [
       "\n",
       "            setTimeout(function() {\n",
       "                var nbb_cell_id = 5;\n",
       "                var nbb_unformatted_code = \"# Checking data types and null values\\ndf.info()\";\n",
       "                var nbb_formatted_code = \"# Checking data types and null values\\ndf.info()\";\n",
       "                var nbb_cells = Jupyter.notebook.get_cells();\n",
       "                for (var i = 0; i < nbb_cells.length; ++i) {\n",
       "                    if (nbb_cells[i].input_prompt_number == nbb_cell_id) {\n",
       "                        if (nbb_cells[i].get_text() == nbb_unformatted_code) {\n",
       "                             nbb_cells[i].set_text(nbb_formatted_code);\n",
       "                        }\n",
       "                        break;\n",
       "                    }\n",
       "                }\n",
       "            }, 500);\n",
       "            "
      ],
      "text/plain": [
       "<IPython.core.display.Javascript object>"
      ]
     },
     "metadata": {},
     "output_type": "display_data"
    }
   ],
   "source": [
    "# Checking data types and null values\n",
    "df.info()"
   ]
  },
  {
   "cell_type": "markdown",
   "id": "c459d7f8",
   "metadata": {},
   "source": [
    "#### Observations:\n",
    "- With our dataset loaded, we are ready for modeling.\n",
    "- We have three variables that need typcasting from object to category, then one hot encoding just prior to modeling."
   ]
  },
  {
   "cell_type": "markdown",
   "id": "860570d8",
   "metadata": {},
   "source": [
    "#### Typecasting `region`, `prior_region`, and `known_for` as Categorical"
   ]
  },
  {
   "cell_type": "code",
   "execution_count": 6,
   "id": "5e2534a8",
   "metadata": {},
   "outputs": [
    {
     "name": "stdout",
     "output_type": "stream",
     "text": [
      "<class 'pandas.core.frame.DataFrame'>\n",
      "RangeIndex: 77624 entries, 0 to 77623\n",
      "Data columns (total 20 columns):\n",
      " #   Column                     Non-Null Count  Dtype   \n",
      "---  ------                     --------------  -----   \n",
      " 0   num_references             77624 non-null  int64   \n",
      " 1   age                        77624 non-null  float64 \n",
      " 2   sciences                   77624 non-null  int64   \n",
      " 3   social                     77624 non-null  int64   \n",
      " 4   spiritual                  77624 non-null  int64   \n",
      " 5   academia_humanities        77624 non-null  int64   \n",
      " 6   business_farming           77624 non-null  int64   \n",
      " 7   arts                       77624 non-null  int64   \n",
      " 8   sports                     77624 non-null  int64   \n",
      " 9   law_enf_military_operator  77624 non-null  int64   \n",
      " 10  politics_govt_law          77624 non-null  int64   \n",
      " 11  crime                      77624 non-null  int64   \n",
      " 12  num_categories             77624 non-null  int64   \n",
      " 13  age_sqrd                   77624 non-null  float64 \n",
      " 14  recip_num_references       77624 non-null  float64 \n",
      " 15  years                      77624 non-null  int64   \n",
      " 16  years_sqrd                 77624 non-null  int64   \n",
      " 17  region                     77624 non-null  category\n",
      " 18  prior_region               77624 non-null  category\n",
      " 19  known_for                  77624 non-null  category\n",
      "dtypes: category(3), float64(3), int64(14)\n",
      "memory usage: 10.3 MB\n"
     ]
    },
    {
     "data": {
      "application/javascript": [
       "\n",
       "            setTimeout(function() {\n",
       "                var nbb_cell_id = 6;\n",
       "                var nbb_unformatted_code = \"# Typcasting prior_region and region as categorical\\ndf[[\\\"prior_region\\\", \\\"region\\\", \\\"known_for\\\"]] = df[\\n    [\\\"prior_region\\\", \\\"region\\\", \\\"known_for\\\"]\\n].astype(\\\"category\\\")\\n\\n# Re-check info\\ndf.info()\";\n",
       "                var nbb_formatted_code = \"# Typcasting prior_region and region as categorical\\ndf[[\\\"prior_region\\\", \\\"region\\\", \\\"known_for\\\"]] = df[\\n    [\\\"prior_region\\\", \\\"region\\\", \\\"known_for\\\"]\\n].astype(\\\"category\\\")\\n\\n# Re-check info\\ndf.info()\";\n",
       "                var nbb_cells = Jupyter.notebook.get_cells();\n",
       "                for (var i = 0; i < nbb_cells.length; ++i) {\n",
       "                    if (nbb_cells[i].input_prompt_number == nbb_cell_id) {\n",
       "                        if (nbb_cells[i].get_text() == nbb_unformatted_code) {\n",
       "                             nbb_cells[i].set_text(nbb_formatted_code);\n",
       "                        }\n",
       "                        break;\n",
       "                    }\n",
       "                }\n",
       "            }, 500);\n",
       "            "
      ],
      "text/plain": [
       "<IPython.core.display.Javascript object>"
      ]
     },
     "metadata": {},
     "output_type": "display_data"
    }
   ],
   "source": [
    "# Typcasting prior_region and region as categorical\n",
    "df[[\"prior_region\", \"region\", \"known_for\"]] = df[\n",
    "    [\"prior_region\", \"region\", \"known_for\"]\n",
    "].astype(\"category\")\n",
    "\n",
    "# Re-check info\n",
    "df.info()"
   ]
  },
  {
   "cell_type": "markdown",
   "id": "fb84b4df",
   "metadata": {},
   "source": [
    "## Data Preparation for Modeling\n",
    "In contrast to building the [linear regression model](https://github.com/teresahanak/wikipedia-life-expectancy/blob/main/wp_life_expect_olsmodel_thanak_2022_10_9.ipynb), we will be tuning these models.  So, we will split the train set into train and validation sets and utilize the `test` set only to check out-of-sample performance of the champion model.  We will load and treat the test set at that point."
   ]
  },
  {
   "cell_type": "markdown",
   "id": "6709e3e9",
   "metadata": {},
   "source": [
    "### Defining Independent and Dependent Variables for Train and Validation Sets"
   ]
  },
  {
   "cell_type": "code",
   "execution_count": 8,
   "id": "abc94ae3",
   "metadata": {},
   "outputs": [
    {
     "name": "stdout",
     "output_type": "stream",
     "text": [
      "There are 54336 rows and 34 columns in the train set.\n",
      "\n",
      "There are 23288 rows and 34 columns in the validation set.\n",
      "\n"
     ]
    },
    {
     "data": {
      "text/html": [
       "<div>\n",
       "<style scoped>\n",
       "    .dataframe tbody tr th:only-of-type {\n",
       "        vertical-align: middle;\n",
       "    }\n",
       "\n",
       "    .dataframe tbody tr th {\n",
       "        vertical-align: top;\n",
       "    }\n",
       "\n",
       "    .dataframe thead th {\n",
       "        text-align: right;\n",
       "    }\n",
       "</style>\n",
       "<table border=\"1\" class=\"dataframe\">\n",
       "  <thead>\n",
       "    <tr style=\"text-align: right;\">\n",
       "      <th></th>\n",
       "      <th>num_references</th>\n",
       "      <th>years</th>\n",
       "      <th>region_Asia</th>\n",
       "      <th>region_Central Asia</th>\n",
       "      <th>region_Europe</th>\n",
       "      <th>region_Mid-Cent America/Caribbean</th>\n",
       "      <th>region_Middle East</th>\n",
       "      <th>region_North America</th>\n",
       "      <th>region_Oceania</th>\n",
       "      <th>region_Russian Federation</th>\n",
       "      <th>region_South America</th>\n",
       "      <th>region_South East Asia</th>\n",
       "      <th>prior_region_Asia</th>\n",
       "      <th>prior_region_Central Asia</th>\n",
       "      <th>prior_region_Europe</th>\n",
       "      <th>prior_region_Mid-Cent America/Caribbean</th>\n",
       "      <th>prior_region_Middle East</th>\n",
       "      <th>prior_region_No Prior Region</th>\n",
       "      <th>prior_region_North America</th>\n",
       "      <th>prior_region_Oceania</th>\n",
       "      <th>prior_region_Russian Federation</th>\n",
       "      <th>prior_region_South America</th>\n",
       "      <th>prior_region_South East Asia</th>\n",
       "      <th>known_for_arts</th>\n",
       "      <th>known_for_business_farming</th>\n",
       "      <th>known_for_crime</th>\n",
       "      <th>known_for_law_enf_military_operator</th>\n",
       "      <th>known_for_politics_govt_law</th>\n",
       "      <th>known_for_sciences</th>\n",
       "      <th>known_for_social</th>\n",
       "      <th>known_for_spiritual</th>\n",
       "      <th>known_for_sports</th>\n",
       "      <th>known_for_three_to_five</th>\n",
       "      <th>known_for_two</th>\n",
       "    </tr>\n",
       "  </thead>\n",
       "  <tbody>\n",
       "    <tr>\n",
       "      <th>13319</th>\n",
       "      <td>5.0</td>\n",
       "      <td>12.0</td>\n",
       "      <td>0.0</td>\n",
       "      <td>0.0</td>\n",
       "      <td>0.0</td>\n",
       "      <td>0.0</td>\n",
       "      <td>0.0</td>\n",
       "      <td>1.0</td>\n",
       "      <td>0.0</td>\n",
       "      <td>0.0</td>\n",
       "      <td>0.0</td>\n",
       "      <td>0.0</td>\n",
       "      <td>0.0</td>\n",
       "      <td>0.0</td>\n",
       "      <td>0.0</td>\n",
       "      <td>0.0</td>\n",
       "      <td>0.0</td>\n",
       "      <td>1.0</td>\n",
       "      <td>0.0</td>\n",
       "      <td>0.0</td>\n",
       "      <td>0.0</td>\n",
       "      <td>0.0</td>\n",
       "      <td>0.0</td>\n",
       "      <td>0.0</td>\n",
       "      <td>0.0</td>\n",
       "      <td>0.0</td>\n",
       "      <td>0.0</td>\n",
       "      <td>0.0</td>\n",
       "      <td>0.0</td>\n",
       "      <td>0.0</td>\n",
       "      <td>0.0</td>\n",
       "      <td>0.0</td>\n",
       "      <td>0.0</td>\n",
       "      <td>1.0</td>\n",
       "    </tr>\n",
       "  </tbody>\n",
       "</table>\n",
       "</div>"
      ],
      "text/plain": [
       "       num_references  years  region_Asia  region_Central Asia  region_Europe  \\\n",
       "13319             5.0   12.0          0.0                  0.0            0.0   \n",
       "\n",
       "       region_Mid-Cent America/Caribbean  region_Middle East  \\\n",
       "13319                                0.0                 0.0   \n",
       "\n",
       "       region_North America  region_Oceania  region_Russian Federation  \\\n",
       "13319                   1.0             0.0                        0.0   \n",
       "\n",
       "       region_South America  region_South East Asia  prior_region_Asia  \\\n",
       "13319                   0.0                     0.0                0.0   \n",
       "\n",
       "       prior_region_Central Asia  prior_region_Europe  \\\n",
       "13319                        0.0                  0.0   \n",
       "\n",
       "       prior_region_Mid-Cent America/Caribbean  prior_region_Middle East  \\\n",
       "13319                                      0.0                       0.0   \n",
       "\n",
       "       prior_region_No Prior Region  prior_region_North America  \\\n",
       "13319                           1.0                         0.0   \n",
       "\n",
       "       prior_region_Oceania  prior_region_Russian Federation  \\\n",
       "13319                   0.0                              0.0   \n",
       "\n",
       "       prior_region_South America  prior_region_South East Asia  \\\n",
       "13319                         0.0                           0.0   \n",
       "\n",
       "       known_for_arts  known_for_business_farming  known_for_crime  \\\n",
       "13319             0.0                         0.0              0.0   \n",
       "\n",
       "       known_for_law_enf_military_operator  known_for_politics_govt_law  \\\n",
       "13319                                  0.0                          0.0   \n",
       "\n",
       "       known_for_sciences  known_for_social  known_for_spiritual  \\\n",
       "13319                 0.0               0.0                  0.0   \n",
       "\n",
       "       known_for_sports  known_for_three_to_five  known_for_two  \n",
       "13319               0.0                      0.0            1.0  "
      ]
     },
     "execution_count": 8,
     "metadata": {},
     "output_type": "execute_result"
    },
    {
     "data": {
      "application/javascript": [
       "\n",
       "            setTimeout(function() {\n",
       "                var nbb_cell_id = 8;\n",
       "                var nbb_unformatted_code = \"# Creating list of predictor columns\\npredictor_cols = [\\n    \\\"num_references\\\",\\n    \\\"years\\\",\\n    \\\"region\\\",\\n    \\\"prior_region\\\",\\n    \\\"known_for\\\",\\n]\\n\\n# Defining target column\\ntarget = \\\"age\\\"\\n\\n# Defining independent and dependent variables\\nX = df[predictor_cols]\\ny = df[target]\\n\\n# One hot encoding of categorical predictors and typecasting all predictors as float\\nX = pd.get_dummies(X, drop_first=True).astype(\\\"float64\\\")\\n\\n# Splitting into 70:30 train and validation sets\\nX_train, X_val, y_train, y_val = train_test_split(X, y, test_size=0.3, random_state=42)\\n\\n# Checking shape of train and validation sets\\nprint(\\n    f\\\"There are {X_train.shape[0]} rows and {X_train.shape[1]} columns in the train set.\\\\n\\\"\\n)\\nprint(\\n    f\\\"There are {X_val.shape[0]} rows and {X_val.shape[1]} columns in the validation set.\\\\n\\\"\\n)\\n\\n# Checking a sample of train set\\nX_train.sample()\";\n",
       "                var nbb_formatted_code = \"# Creating list of predictor columns\\npredictor_cols = [\\n    \\\"num_references\\\",\\n    \\\"years\\\",\\n    \\\"region\\\",\\n    \\\"prior_region\\\",\\n    \\\"known_for\\\",\\n]\\n\\n# Defining target column\\ntarget = \\\"age\\\"\\n\\n# Defining independent and dependent variables\\nX = df[predictor_cols]\\ny = df[target]\\n\\n# One hot encoding of categorical predictors and typecasting all predictors as float\\nX = pd.get_dummies(X, drop_first=True).astype(\\\"float64\\\")\\n\\n# Splitting into 70:30 train and validation sets\\nX_train, X_val, y_train, y_val = train_test_split(X, y, test_size=0.3, random_state=42)\\n\\n# Checking shape of train and validation sets\\nprint(\\n    f\\\"There are {X_train.shape[0]} rows and {X_train.shape[1]} columns in the train set.\\\\n\\\"\\n)\\nprint(\\n    f\\\"There are {X_val.shape[0]} rows and {X_val.shape[1]} columns in the validation set.\\\\n\\\"\\n)\\n\\n# Checking a sample of train set\\nX_train.sample()\";\n",
       "                var nbb_cells = Jupyter.notebook.get_cells();\n",
       "                for (var i = 0; i < nbb_cells.length; ++i) {\n",
       "                    if (nbb_cells[i].input_prompt_number == nbb_cell_id) {\n",
       "                        if (nbb_cells[i].get_text() == nbb_unformatted_code) {\n",
       "                             nbb_cells[i].set_text(nbb_formatted_code);\n",
       "                        }\n",
       "                        break;\n",
       "                    }\n",
       "                }\n",
       "            }, 500);\n",
       "            "
      ],
      "text/plain": [
       "<IPython.core.display.Javascript object>"
      ]
     },
     "metadata": {},
     "output_type": "display_data"
    }
   ],
   "source": [
    "# Creating list of predictor columns\n",
    "predictor_cols = [\n",
    "    \"num_references\",\n",
    "    \"years\",\n",
    "    \"region\",\n",
    "    \"prior_region\",\n",
    "    \"known_for\",\n",
    "]\n",
    "\n",
    "# Defining target column\n",
    "target = \"age\"\n",
    "\n",
    "# Defining independent and dependent variables\n",
    "X = df[predictor_cols]\n",
    "y = df[target]\n",
    "\n",
    "# One hot encoding of categorical predictors and typecasting all predictors as float\n",
    "X = pd.get_dummies(X, drop_first=True).astype(\"float64\")\n",
    "\n",
    "# Splitting into 70:30 train and validation sets\n",
    "X_train, X_val, y_train, y_val = train_test_split(X, y, test_size=0.3, random_state=42)\n",
    "\n",
    "# Checking shape of train and validation sets\n",
    "print(\n",
    "    f\"There are {X_train.shape[0]} rows and {X_train.shape[1]} columns in the train set.\\n\"\n",
    ")\n",
    "print(\n",
    "    f\"There are {X_val.shape[0]} rows and {X_val.shape[1]} columns in the validation set.\\n\"\n",
    ")\n",
    "\n",
    "# Checking a sample\n",
    "X_train.sample()"
   ]
  },
  {
   "cell_type": "markdown",
   "id": "b9f42914",
   "metadata": {},
   "source": [
    "## Model Building\n",
    "#### Model Evaluation Criterion\n",
    "The predictions made by the regressors will have the following performance metrics:\n",
    "- RMSE\n",
    "- MAE\n",
    "- R$^2$\n",
    "- Ajusted R$^2$\n",
    "- MAPE\n",
    "\n",
    "#### Which Metric to Optimize?\n",
    "- For hyperparameter tuning, we will optimize R$^2$, which is the proportion of variation in the target that is explained by the predictors.  \n",
    "\n",
    "- To select the champion model, will compare Adjusted R$^2$.  It is the metric that represents the amount of variation in the target that is explained by the predictors, with a penalty for more predictors.  The number of included predictors may vary between algorithms, especially as we are building including examples of decion tree regressors.  R$^2$ will improve with the addition of predictors, even if they contribute very little to the model, whereas, the penalty in Adjusted R$^2$ offsets such an increase."
   ]
  },
  {
   "cell_type": "markdown",
   "id": "9be4e93d",
   "metadata": {},
   "source": [
    "#### Functions for Checking and Tuning Model Performance"
   ]
  },
  {
   "cell_type": "code",
   "execution_count": 16,
   "id": "e40e3f27",
   "metadata": {},
   "outputs": [
    {
     "data": {
      "application/javascript": [
       "\n",
       "            setTimeout(function() {\n",
       "                var nbb_cell_id = 16;\n",
       "                var nbb_unformatted_code = \"# Function to compute adjusted R-squared\\ndef adj_r2_score(predictors, targets, predictions):\\n    r2 = r2_score(targets, predictions)\\n    n = predictors.shape[0]\\n    k = predictors.shape[1]\\n    return 1 - ((1 - r2) * (n - 1) / (n - k - 1))\\n\\n\\n# Function to compute MAPE\\ndef mape_score(targets, predictions):\\n    return np.mean(np.abs((targets - predictions) / targets)) * 100\\n\\n\\n# Function to compute and display different metrics to check performance of a regression model\\ndef model_performance_regression(model, predictors, target):\\n    \\\"\\\"\\\"\\n    Function to compute and return a dataframe of different metrics to check\\n    regression model performance\\n    \\n    model: regressor\\n    predictors: independent variables\\n    target: dependent variable\\n    \\\"\\\"\\\"\\n    # Predictions\\n    pred = model.predict(predictors)\\n\\n    r2 = r2_score(target, pred)  # To compute R-squared\\n    adjr2 = adj_r2_score(predictors, target, pred)  # To compute adjusted R-squared\\n    rmse = np.sqrt(mean_squared_error(target, pred))  # To compute RMSE\\n    mae = mean_absolute_error(target, pred)  # To compute MAE\\n    mape = mape_score(target, pred)  # To compute MAPE\\n\\n    # Creating a dataframe of metrics\\n    df_perf = pd.DataFrame(\\n        {\\n            \\\"RMSE\\\": rmse,\\n            \\\"MAE\\\": mae,\\n            \\\"R-squared\\\": r2,\\n            \\\"Adj. R-squared\\\": adjr2,\\n            \\\"MAPE\\\": mape,\\n        },\\n        index=[0],\\n    )\\n\\n    return df_perf\";\n",
       "                var nbb_formatted_code = \"# Function to compute adjusted R-squared\\ndef adj_r2_score(predictors, targets, predictions):\\n    r2 = r2_score(targets, predictions)\\n    n = predictors.shape[0]\\n    k = predictors.shape[1]\\n    return 1 - ((1 - r2) * (n - 1) / (n - k - 1))\\n\\n\\n# Function to compute MAPE\\ndef mape_score(targets, predictions):\\n    return np.mean(np.abs((targets - predictions) / targets)) * 100\\n\\n\\n# Function to compute and display different metrics to check performance of a regression model\\ndef model_performance_regression(model, predictors, target):\\n    \\\"\\\"\\\"\\n    Function to compute and return a dataframe of different metrics to check\\n    regression model performance\\n    \\n    model: regressor\\n    predictors: independent variables\\n    target: dependent variable\\n    \\\"\\\"\\\"\\n    # Predictions\\n    pred = model.predict(predictors)\\n\\n    r2 = r2_score(target, pred)  # To compute R-squared\\n    adjr2 = adj_r2_score(predictors, target, pred)  # To compute adjusted R-squared\\n    rmse = np.sqrt(mean_squared_error(target, pred))  # To compute RMSE\\n    mae = mean_absolute_error(target, pred)  # To compute MAE\\n    mape = mape_score(target, pred)  # To compute MAPE\\n\\n    # Creating a dataframe of metrics\\n    df_perf = pd.DataFrame(\\n        {\\n            \\\"RMSE\\\": rmse,\\n            \\\"MAE\\\": mae,\\n            \\\"R-squared\\\": r2,\\n            \\\"Adj. R-squared\\\": adjr2,\\n            \\\"MAPE\\\": mape,\\n        },\\n        index=[0],\\n    )\\n\\n    return df_perf\";\n",
       "                var nbb_cells = Jupyter.notebook.get_cells();\n",
       "                for (var i = 0; i < nbb_cells.length; ++i) {\n",
       "                    if (nbb_cells[i].input_prompt_number == nbb_cell_id) {\n",
       "                        if (nbb_cells[i].get_text() == nbb_unformatted_code) {\n",
       "                             nbb_cells[i].set_text(nbb_formatted_code);\n",
       "                        }\n",
       "                        break;\n",
       "                    }\n",
       "                }\n",
       "            }, 500);\n",
       "            "
      ],
      "text/plain": [
       "<IPython.core.display.Javascript object>"
      ]
     },
     "metadata": {},
     "output_type": "display_data"
    }
   ],
   "source": [
    "# Function to compute adjusted R-squared\n",
    "def adj_r2_score(predictors, targets, predictions):\n",
    "    r2 = r2_score(targets, predictions)\n",
    "    n = predictors.shape[0]\n",
    "    k = predictors.shape[1]\n",
    "    return 1 - ((1 - r2) * (n - 1) / (n - k - 1))\n",
    "\n",
    "\n",
    "# Function to compute MAPE\n",
    "def mape_score(targets, predictions):\n",
    "    return np.mean(np.abs((targets - predictions) / targets)) * 100\n",
    "\n",
    "\n",
    "# Function to compute and display different metrics to check performance of a regression model\n",
    "def model_performance_regression(model, predictors, target):\n",
    "    \"\"\"\n",
    "    Function to compute and return a dataframe of different metrics to check\n",
    "    regression model performance\n",
    "    \n",
    "    model: regressor\n",
    "    predictors: independent variables\n",
    "    target: dependent variable\n",
    "    \"\"\"\n",
    "    # Predictions\n",
    "    pred = model.predict(predictors)\n",
    "\n",
    "    r2 = r2_score(target, pred)  # To compute R-squared\n",
    "    adjr2 = adj_r2_score(predictors, target, pred)  # To compute adjusted R-squared\n",
    "    rmse = np.sqrt(mean_squared_error(target, pred))  # To compute RMSE\n",
    "    mae = mean_absolute_error(target, pred)  # To compute MAE\n",
    "    mape = mape_score(target, pred)  # To compute MAPE\n",
    "\n",
    "    # Creating a dataframe of metrics\n",
    "    df_perf = pd.DataFrame(\n",
    "        {\n",
    "            \"RMSE\": rmse,\n",
    "            \"MAE\": mae,\n",
    "            \"R-squared\": r2,\n",
    "            \"Adj. R-squared\": adjr2,\n",
    "            \"MAPE\": mape,\n",
    "        },\n",
    "        index=[0],\n",
    "    )\n",
    "\n",
    "    return df_perf"
   ]
  },
  {
   "cell_type": "markdown",
   "id": "147e5a4a",
   "metadata": {},
   "source": [
    "#### Defining Scorer for Cross-validation and Hyperparameter Tuning"
   ]
  },
  {
   "cell_type": "code",
   "execution_count": 21,
   "id": "2229df97",
   "metadata": {},
   "outputs": [
    {
     "data": {
      "application/javascript": [
       "\n",
       "            setTimeout(function() {\n",
       "                var nbb_cell_id = 21;\n",
       "                var nbb_unformatted_code = \"# Type of scoring used to compare parameter combinations--maximizing Adj R-squared\\nscorer = metrics.make_scorer(metrics.r2_score)\";\n",
       "                var nbb_formatted_code = \"# Type of scoring used to compare parameter combinations--maximizing Adj R-squared\\nscorer = metrics.make_scorer(metrics.r2_score)\";\n",
       "                var nbb_cells = Jupyter.notebook.get_cells();\n",
       "                for (var i = 0; i < nbb_cells.length; ++i) {\n",
       "                    if (nbb_cells[i].input_prompt_number == nbb_cell_id) {\n",
       "                        if (nbb_cells[i].get_text() == nbb_unformatted_code) {\n",
       "                             nbb_cells[i].set_text(nbb_formatted_code);\n",
       "                        }\n",
       "                        break;\n",
       "                    }\n",
       "                }\n",
       "            }, 500);\n",
       "            "
      ],
      "text/plain": [
       "<IPython.core.display.Javascript object>"
      ]
     },
     "metadata": {},
     "output_type": "display_data"
    }
   ],
   "source": [
    "# Type of scoring used to compare parameter combinations--maximizing Adj R-squared\n",
    "scorer = metrics.make_scorer(metrics.r2_score)"
   ]
  },
  {
   "cell_type": "markdown",
   "id": "17360464",
   "metadata": {},
   "source": [
    "### Building the Models"
   ]
  },
  {
   "cell_type": "code",
   "execution_count": 39,
   "id": "f8ea4e14",
   "metadata": {},
   "outputs": [
    {
     "name": "stdout",
     "output_type": "stream",
     "text": [
      "\n",
      "Cross-Validation:\n",
      "\n",
      "Dtree: -0.3729288388785845\n",
      "Random Forest: -0.06498999161620542\n",
      "Bagging Dtree: -0.09780574269930184\n",
      "GBM: 0.10092407348408765\n",
      "AdaBoost Dtree: -0.041942386214516916\n",
      "XGB_gbtree: 0.08816799208071073\n",
      "XGB_gblinear: 0.08272467293501293\n",
      "\n",
      "Validation Performance:\n",
      "\n",
      "Dtree: -0.3725798827812159\n",
      "Random Forest: -0.06593088660036917\n",
      "Bagging Dtree: -0.09925861808350978\n",
      "GBM: 0.10355465508610728\n",
      "AdaBoost Dtree: -0.05608653156428711\n",
      "XGB_gbtree: 0.09146574210948322\n",
      "XGB_gblinear: 0.08717872189219222\n",
      "CPU times: total: 3min 37s\n",
      "Wall time: 1min 8s\n"
     ]
    },
    {
     "data": {
      "application/javascript": [
       "\n",
       "            setTimeout(function() {\n",
       "                var nbb_cell_id = 39;\n",
       "                var nbb_unformatted_code = \"%%time\\n\\n# Creating list to store the models\\nmodels = []\\n\\n# Appending models to the list\\nmodels.append(('Dtree', DecisionTreeRegressor(random_state=42)))\\n\\nmodels.append(('Random Forest', RandomForestRegressor(random_state=42)))\\n\\nmodels.append(('Bagging Dtree', BaggingRegressor(random_state=42)))\\n\\nmodels.append(('GBM', GradientBoostingRegressor(random_state=42)))\\n\\nmodels.append(('AdaBoost Dtree', AdaBoostRegressor(random_state=42)))\\n\\nmodels.append(('XGB_gbtree', XGBRegressor(random_state=42)))\\n\\nmodels.append(('XGB_gblinear', XGBRegressor(random_state=42, booster='gblinear')))\\n\\n# Create empty list to store all model's names and CV scores\\nnames = []\\nresults = []\\n\\n# Loop through all models to get the mean cross validated score\\nprint(\\\"\\\\n\\\" \\\"Cross-Validation:\\\" \\\"\\\\n\\\")\\n\\nfor name, model in models:\\n    cv_result = cross_val_score(\\n        estimator=model, X=X_train, y=y_train, scoring='r2', cv=5\\n    )\\n    results.append(cv_result)\\n    names.append(name)\\n    print(f\\\"{name}: {cv_result.mean()}\\\")\\n    \\nprint(\\\"\\\\n\\\" \\\"Validation Performance:\\\" \\\"\\\\n\\\")\\n\\nfor name, model in models:\\n    model.fit(X_train, y_train)\\n    scores = r2_score(y_val, model.predict(X_val))\\n    print(\\\"{}: {}\\\".format(name, scores))\";\n",
       "                var nbb_formatted_code = \"%%time\\n\\n# Creating list to store the models\\nmodels = []\\n\\n# Appending models to the list\\nmodels.append(('Dtree', DecisionTreeRegressor(random_state=42)))\\n\\nmodels.append(('Random Forest', RandomForestRegressor(random_state=42)))\\n\\nmodels.append(('Bagging Dtree', BaggingRegressor(random_state=42)))\\n\\nmodels.append(('GBM', GradientBoostingRegressor(random_state=42)))\\n\\nmodels.append(('AdaBoost Dtree', AdaBoostRegressor(random_state=42)))\\n\\nmodels.append(('XGB_gbtree', XGBRegressor(random_state=42)))\\n\\nmodels.append(('XGB_gblinear', XGBRegressor(random_state=42, booster='gblinear')))\\n\\n# Create empty list to store all model's names and CV scores\\nnames = []\\nresults = []\\n\\n# Loop through all models to get the mean cross validated score\\nprint(\\\"\\\\n\\\" \\\"Cross-Validation:\\\" \\\"\\\\n\\\")\\n\\nfor name, model in models:\\n    cv_result = cross_val_score(\\n        estimator=model, X=X_train, y=y_train, scoring='r2', cv=5\\n    )\\n    results.append(cv_result)\\n    names.append(name)\\n    print(f\\\"{name}: {cv_result.mean()}\\\")\\n    \\nprint(\\\"\\\\n\\\" \\\"Validation Performance:\\\" \\\"\\\\n\\\")\\n\\nfor name, model in models:\\n    model.fit(X_train, y_train)\\n    scores = r2_score(y_val, model.predict(X_val))\\n    print(\\\"{}: {}\\\".format(name, scores))\";\n",
       "                var nbb_cells = Jupyter.notebook.get_cells();\n",
       "                for (var i = 0; i < nbb_cells.length; ++i) {\n",
       "                    if (nbb_cells[i].input_prompt_number == nbb_cell_id) {\n",
       "                        if (nbb_cells[i].get_text() == nbb_unformatted_code) {\n",
       "                             nbb_cells[i].set_text(nbb_formatted_code);\n",
       "                        }\n",
       "                        break;\n",
       "                    }\n",
       "                }\n",
       "            }, 500);\n",
       "            "
      ],
      "text/plain": [
       "<IPython.core.display.Javascript object>"
      ]
     },
     "metadata": {},
     "output_type": "display_data"
    }
   ],
   "source": [
    "%%time\n",
    "\n",
    "# Creating list to store the models\n",
    "models = []\n",
    "\n",
    "# Appending models to the list\n",
    "models.append(('Dtree', DecisionTreeRegressor(random_state=42)))\n",
    "\n",
    "models.append(('Random Forest', RandomForestRegressor(random_state=42)))\n",
    "\n",
    "models.append(('Bagging Dtree', BaggingRegressor(random_state=42)))\n",
    "\n",
    "models.append(('GBM', GradientBoostingRegressor(random_state=42)))\n",
    "\n",
    "models.append(('AdaBoost Dtree', AdaBoostRegressor(random_state=42)))\n",
    "\n",
    "models.append(('XGB_gbtree', XGBRegressor(random_state=42)))\n",
    "\n",
    "models.append(('XGB_gblinear', XGBRegressor(random_state=42, booster='gblinear')))\n",
    "\n",
    "# Create empty list to store all model's names and CV scores\n",
    "names = []\n",
    "results = []\n",
    "\n",
    "# Loop through all models to get the mean cross validated score\n",
    "print(\"\\n\" \"Cross-Validation:\" \"\\n\")\n",
    "\n",
    "for name, model in models:\n",
    "    cv_result = cross_val_score(\n",
    "        estimator=model, X=X_train, y=y_train, scoring='r2', cv=5\n",
    "    )\n",
    "    results.append(cv_result)\n",
    "    names.append(name)\n",
    "    print(f\"{name}: {cv_result.mean()}\")\n",
    "    \n",
    "print(\"\\n\" \"Validation Performance:\" \"\\n\")\n",
    "\n",
    "for name, model in models:\n",
    "    model.fit(X_train, y_train)\n",
    "    scores = r2_score(y_val, model.predict(X_val))\n",
    "    print(\"{}: {}\".format(name, scores))"
   ]
  },
  {
   "cell_type": "code",
   "execution_count": 48,
   "id": "5f12f85e",
   "metadata": {},
   "outputs": [
    {
     "data": {
      "image/png": "[encoded data removed]",
      "text/plain": [
       "<Figure size 1440x504 with 1 Axes>"
      ]
     },
     "metadata": {},
     "output_type": "display_data"
    },
    {
     "data": {
      "application/javascript": [
       "\n",
       "            setTimeout(function() {\n",
       "                var nbb_cell_id = 48;\n",
       "                var nbb_unformatted_code = \"# Plotting boxplots for CV scores of all models defined above\\nfig = plt.figure(figsize=(20, 7))\\n\\nfig.suptitle(\\\"Algorithm Comparison for Cross-validation R-squared Score\\\")\\nax = fig.add_subplot(111)\\n\\nplt.boxplot(results)\\nax.set_xticklabels(names)\\nplt.xticks(rotation=30)\\n\\nplt.show()\";\n",
       "                var nbb_formatted_code = \"# Plotting boxplots for CV scores of all models defined above\\nfig = plt.figure(figsize=(20, 7))\\n\\nfig.suptitle(\\\"Algorithm Comparison for Cross-validation R-squared Score\\\")\\nax = fig.add_subplot(111)\\n\\nplt.boxplot(results)\\nax.set_xticklabels(names)\\nplt.xticks(rotation=30)\\n\\nplt.show()\";\n",
       "                var nbb_cells = Jupyter.notebook.get_cells();\n",
       "                for (var i = 0; i < nbb_cells.length; ++i) {\n",
       "                    if (nbb_cells[i].input_prompt_number == nbb_cell_id) {\n",
       "                        if (nbb_cells[i].get_text() == nbb_unformatted_code) {\n",
       "                             nbb_cells[i].set_text(nbb_formatted_code);\n",
       "                        }\n",
       "                        break;\n",
       "                    }\n",
       "                }\n",
       "            }, 500);\n",
       "            "
      ],
      "text/plain": [
       "<IPython.core.display.Javascript object>"
      ]
     },
     "metadata": {},
     "output_type": "display_data"
    }
   ],
   "source": [
    "# Plotting boxplots for CV scores of all models defined above\n",
    "fig = plt.figure(figsize=(20, 7))\n",
    "\n",
    "fig.suptitle(\"Algorithm Comparison for Cross-validation R-squared Score\")\n",
    "ax = fig.add_subplot(111)\n",
    "\n",
    "plt.boxplot(results)\n",
    "ax.set_xticklabels(names)\n",
    "plt.xticks(rotation=30)\n",
    "\n",
    "plt.show()"
   ]
  },
  {
   "cell_type": "markdown",
   "id": "bda9b385",
   "metadata": {},
   "source": [
    "#### Observations:\n",
    "- We have negative R$^2$ values for four of the models.  This means they are performing worse than a model that merely equates the predicted values to the constant mean value of the target.\n",
    "- The remaining three models, *GBM*, *XGB_gbtree*, and *XGB_gblinear* are giving generalized performances on train and validation sets, with similar, albeit very low, R$^2$ scores as [*olsmodel3*](https://github.com/teresahanak/wikipedia-life-expectancy/blob/main/wp_life_expect_olsmodel_thanak_2022_10_9.ipynb) (0.087).  Before hyperparameter tuning, GBM is outperforming the other models, including *olsmodel3*, with both train and validation R$^2$ scores of ~0.10.\n",
    "- We will perform hyperparameter tuning on the top 3 models.  Purely as an exercise we will also keep Random Forest in the mix."
   ]
  },
  {
   "cell_type": "markdown",
   "id": "7fee3400",
   "metadata": {},
   "source": [
    "#### Collecting Models with Best Performance"
   ]
  },
  {
   "cell_type": "code",
   "execution_count": 76,
   "id": "2bd3bbe0",
   "metadata": {},
   "outputs": [
    {
     "data": {
      "application/javascript": [
       "\n",
       "            setTimeout(function() {\n",
       "                var nbb_cell_id = 76;\n",
       "                var nbb_unformatted_code = \"# List of top models so far\\ntop_models = [models[1]] + [models[3]] + models[-2:]\";\n",
       "                var nbb_formatted_code = \"# List of top models so far\\ntop_models = [models[1]] + [models[3]] + models[-2:]\";\n",
       "                var nbb_cells = Jupyter.notebook.get_cells();\n",
       "                for (var i = 0; i < nbb_cells.length; ++i) {\n",
       "                    if (nbb_cells[i].input_prompt_number == nbb_cell_id) {\n",
       "                        if (nbb_cells[i].get_text() == nbb_unformatted_code) {\n",
       "                             nbb_cells[i].set_text(nbb_formatted_code);\n",
       "                        }\n",
       "                        break;\n",
       "                    }\n",
       "                }\n",
       "            }, 500);\n",
       "            "
      ],
      "text/plain": [
       "<IPython.core.display.Javascript object>"
      ]
     },
     "metadata": {},
     "output_type": "display_data"
    }
   ],
   "source": [
    "# List of top models so far\n",
    "top_models = [models[1]] + [models[3]] + models[-2:]"
   ]
  },
  {
   "cell_type": "markdown",
   "id": "d94df9ff",
   "metadata": {},
   "source": [
    "#### Creating Dataframes to Compare Training and Validation Performance of Best Models"
   ]
  },
  {
   "cell_type": "code",
   "execution_count": 78,
   "id": "40891c08",
   "metadata": {},
   "outputs": [
    {
     "data": {
      "application/javascript": [
       "\n",
       "            setTimeout(function() {\n",
       "                var nbb_cell_id = 78;\n",
       "                var nbb_unformatted_code = \"# Creating empty dictionary to hold the models\\nmodels_to_tune = {}\\n\\n# For loop to add models to dictionary\\nfor model in top_models:\\n    key = model[0]\\n    value = model[1]\\n    models_to_tune[key] = value\\n\\n# Initializing dataframes to compare performance of all models\\nmodels_train_comp_df = pd.DataFrame()\\nmodels_val_comp_df = pd.DataFrame()\\n\\n# For loop to add performance results of each top model\\nfor name, model in models_to_tune.items():\\n    models_train_comp_df[name] = model_performance_regression(model, X_train, y_train).T\\n    models_val_comp_df[name] = model_performance_regression(model, X_val, y_val).T\";\n",
       "                var nbb_formatted_code = \"# Creating empty dictionary to hold the models\\nmodels_to_tune = {}\\n\\n# For loop to add models to dictionary\\nfor model in top_models:\\n    key = model[0]\\n    value = model[1]\\n    models_to_tune[key] = value\\n\\n# Initializing dataframes to compare performance of all models\\nmodels_train_comp_df = pd.DataFrame()\\nmodels_val_comp_df = pd.DataFrame()\\n\\n# For loop to add performance results of each top model\\nfor name, model in models_to_tune.items():\\n    models_train_comp_df[name] = model_performance_regression(model, X_train, y_train).T\\n    models_val_comp_df[name] = model_performance_regression(model, X_val, y_val).T\";\n",
       "                var nbb_cells = Jupyter.notebook.get_cells();\n",
       "                for (var i = 0; i < nbb_cells.length; ++i) {\n",
       "                    if (nbb_cells[i].input_prompt_number == nbb_cell_id) {\n",
       "                        if (nbb_cells[i].get_text() == nbb_unformatted_code) {\n",
       "                             nbb_cells[i].set_text(nbb_formatted_code);\n",
       "                        }\n",
       "                        break;\n",
       "                    }\n",
       "                }\n",
       "            }, 500);\n",
       "            "
      ],
      "text/plain": [
       "<IPython.core.display.Javascript object>"
      ]
     },
     "metadata": {},
     "output_type": "display_data"
    }
   ],
   "source": [
    "# Creating empty dictionary to hold the models\n",
    "models_to_tune = {}\n",
    "\n",
    "# For loop to add models to dictionary\n",
    "for model in top_models:\n",
    "    key = model[0]\n",
    "    value = model[1]\n",
    "    models_to_tune[key] = value\n",
    "\n",
    "# Initializing dataframes to compare performance of all models\n",
    "models_train_comp_df = pd.DataFrame()\n",
    "models_val_comp_df = pd.DataFrame()\n",
    "\n",
    "# For loop to add performance results of each top model\n",
    "for name, model in models_to_tune.items():\n",
    "    models_train_comp_df[name] = model_performance_regression(model, X_train, y_train).T\n",
    "    models_val_comp_df[name] = model_performance_regression(model, X_val, y_val).T"
   ]
  },
  {
   "cell_type": "markdown",
   "id": "64b54d27",
   "metadata": {},
   "source": [
    "#### Comparing Top Models Before Hyperparameter Tuning"
   ]
  },
  {
   "cell_type": "code",
   "execution_count": 81,
   "id": "8227a31d",
   "metadata": {},
   "outputs": [
    {
     "name": "stdout",
     "output_type": "stream",
     "text": [
      "Training Performance:\n"
     ]
    },
    {
     "data": {
      "text/html": [
       "<div>\n",
       "<style scoped>\n",
       "    .dataframe tbody tr th:only-of-type {\n",
       "        vertical-align: middle;\n",
       "    }\n",
       "\n",
       "    .dataframe tbody tr th {\n",
       "        vertical-align: top;\n",
       "    }\n",
       "\n",
       "    .dataframe thead th {\n",
       "        text-align: right;\n",
       "    }\n",
       "</style>\n",
       "<table border=\"1\" class=\"dataframe\">\n",
       "  <thead>\n",
       "    <tr style=\"text-align: right;\">\n",
       "      <th></th>\n",
       "      <th>Random Forest</th>\n",
       "      <th>GBM</th>\n",
       "      <th>XGB_gbtree</th>\n",
       "      <th>XGB_gblinear</th>\n",
       "    </tr>\n",
       "  </thead>\n",
       "  <tbody>\n",
       "    <tr>\n",
       "      <th>RMSE</th>\n",
       "      <td>11.686697</td>\n",
       "      <td>14.971421</td>\n",
       "      <td>14.237993</td>\n",
       "      <td>15.175418</td>\n",
       "    </tr>\n",
       "    <tr>\n",
       "      <th>MAE</th>\n",
       "      <td>8.736482</td>\n",
       "      <td>11.627512</td>\n",
       "      <td>11.034927</td>\n",
       "      <td>11.785195</td>\n",
       "    </tr>\n",
       "    <tr>\n",
       "      <th>R-squared</th>\n",
       "      <td>0.456950</td>\n",
       "      <td>0.108786</td>\n",
       "      <td>0.193965</td>\n",
       "      <td>0.084333</td>\n",
       "    </tr>\n",
       "    <tr>\n",
       "      <th>Adj. R-squared</th>\n",
       "      <td>0.456610</td>\n",
       "      <td>0.108228</td>\n",
       "      <td>0.193461</td>\n",
       "      <td>0.083760</td>\n",
       "    </tr>\n",
       "    <tr>\n",
       "      <th>MAPE</th>\n",
       "      <td>13.944396</td>\n",
       "      <td>19.221156</td>\n",
       "      <td>18.032207</td>\n",
       "      <td>19.425817</td>\n",
       "    </tr>\n",
       "  </tbody>\n",
       "</table>\n",
       "</div>"
      ],
      "text/plain": [
       "                Random Forest        GBM  XGB_gbtree  XGB_gblinear\n",
       "RMSE                11.686697  14.971421   14.237993     15.175418\n",
       "MAE                  8.736482  11.627512   11.034927     11.785195\n",
       "R-squared            0.456950   0.108786    0.193965      0.084333\n",
       "Adj. R-squared       0.456610   0.108228    0.193461      0.083760\n",
       "MAPE                13.944396  19.221156   18.032207     19.425817"
      ]
     },
     "execution_count": 81,
     "metadata": {},
     "output_type": "execute_result"
    },
    {
     "data": {
      "application/javascript": [
       "\n",
       "            setTimeout(function() {\n",
       "                var nbb_cell_id = 81;\n",
       "                var nbb_unformatted_code = \"# Comparing train performance\\nprint(f\\\"Training Performance:\\\")\\nmodels_train_comp_df\";\n",
       "                var nbb_formatted_code = \"# Comparing train performance\\nprint(f\\\"Training Performance:\\\")\\nmodels_train_comp_df\";\n",
       "                var nbb_cells = Jupyter.notebook.get_cells();\n",
       "                for (var i = 0; i < nbb_cells.length; ++i) {\n",
       "                    if (nbb_cells[i].input_prompt_number == nbb_cell_id) {\n",
       "                        if (nbb_cells[i].get_text() == nbb_unformatted_code) {\n",
       "                             nbb_cells[i].set_text(nbb_formatted_code);\n",
       "                        }\n",
       "                        break;\n",
       "                    }\n",
       "                }\n",
       "            }, 500);\n",
       "            "
      ],
      "text/plain": [
       "<IPython.core.display.Javascript object>"
      ]
     },
     "metadata": {},
     "output_type": "display_data"
    }
   ],
   "source": [
    "# Comparing train performance\n",
    "print(f\"Training Performance:\")\n",
    "models_train_comp_df"
   ]
  },
  {
   "cell_type": "code",
   "execution_count": 80,
   "id": "64239655",
   "metadata": {},
   "outputs": [
    {
     "name": "stdout",
     "output_type": "stream",
     "text": [
      "Validation Performance:\n"
     ]
    },
    {
     "data": {
      "text/html": [
       "<div>\n",
       "<style scoped>\n",
       "    .dataframe tbody tr th:only-of-type {\n",
       "        vertical-align: middle;\n",
       "    }\n",
       "\n",
       "    .dataframe tbody tr th {\n",
       "        vertical-align: top;\n",
       "    }\n",
       "\n",
       "    .dataframe thead th {\n",
       "        text-align: right;\n",
       "    }\n",
       "</style>\n",
       "<table border=\"1\" class=\"dataframe\">\n",
       "  <thead>\n",
       "    <tr style=\"text-align: right;\">\n",
       "      <th></th>\n",
       "      <th>Random Forest</th>\n",
       "      <th>GBM</th>\n",
       "      <th>XGB_gbtree</th>\n",
       "      <th>XGB_gblinear</th>\n",
       "    </tr>\n",
       "  </thead>\n",
       "  <tbody>\n",
       "    <tr>\n",
       "      <th>RMSE</th>\n",
       "      <td>16.271584</td>\n",
       "      <td>14.922006</td>\n",
       "      <td>15.022284</td>\n",
       "      <td>15.057684</td>\n",
       "    </tr>\n",
       "    <tr>\n",
       "      <th>MAE</th>\n",
       "      <td>12.558769</td>\n",
       "      <td>11.580272</td>\n",
       "      <td>11.632590</td>\n",
       "      <td>11.697206</td>\n",
       "    </tr>\n",
       "    <tr>\n",
       "      <th>R-squared</th>\n",
       "      <td>-0.065931</td>\n",
       "      <td>0.103555</td>\n",
       "      <td>0.091466</td>\n",
       "      <td>0.087179</td>\n",
       "    </tr>\n",
       "    <tr>\n",
       "      <th>Adj. R-squared</th>\n",
       "      <td>-0.067489</td>\n",
       "      <td>0.102244</td>\n",
       "      <td>0.090137</td>\n",
       "      <td>0.085844</td>\n",
       "    </tr>\n",
       "    <tr>\n",
       "      <th>MAPE</th>\n",
       "      <td>20.193462</td>\n",
       "      <td>19.051063</td>\n",
       "      <td>19.008358</td>\n",
       "      <td>19.181966</td>\n",
       "    </tr>\n",
       "  </tbody>\n",
       "</table>\n",
       "</div>"
      ],
      "text/plain": [
       "                Random Forest        GBM  XGB_gbtree  XGB_gblinear\n",
       "RMSE                16.271584  14.922006   15.022284     15.057684\n",
       "MAE                 12.558769  11.580272   11.632590     11.697206\n",
       "R-squared           -0.065931   0.103555    0.091466      0.087179\n",
       "Adj. R-squared      -0.067489   0.102244    0.090137      0.085844\n",
       "MAPE                20.193462  19.051063   19.008358     19.181966"
      ]
     },
     "execution_count": 80,
     "metadata": {},
     "output_type": "execute_result"
    },
    {
     "data": {
      "application/javascript": [
       "\n",
       "            setTimeout(function() {\n",
       "                var nbb_cell_id = 80;\n",
       "                var nbb_unformatted_code = \"# Comparing validation performance\\nprint(f\\\"Validation Performance:\\\")\\nmodels_val_comp_df\";\n",
       "                var nbb_formatted_code = \"# Comparing validation performance\\nprint(f\\\"Validation Performance:\\\")\\nmodels_val_comp_df\";\n",
       "                var nbb_cells = Jupyter.notebook.get_cells();\n",
       "                for (var i = 0; i < nbb_cells.length; ++i) {\n",
       "                    if (nbb_cells[i].input_prompt_number == nbb_cell_id) {\n",
       "                        if (nbb_cells[i].get_text() == nbb_unformatted_code) {\n",
       "                             nbb_cells[i].set_text(nbb_formatted_code);\n",
       "                        }\n",
       "                        break;\n",
       "                    }\n",
       "                }\n",
       "            }, 500);\n",
       "            "
      ],
      "text/plain": [
       "<IPython.core.display.Javascript object>"
      ]
     },
     "metadata": {},
     "output_type": "display_data"
    }
   ],
   "source": [
    "# Comparing validation performance\n",
    "print(f\"Validation Performance:\")\n",
    "models_val_comp_df"
   ]
  },
  {
   "cell_type": "markdown",
   "id": "15f73e19",
   "metadata": {},
   "source": [
    "#### Observations:\n",
    "- Here, we compare the performance on the whole train set to the validation set.\n",
    "- Only *GBM* and *XGB_gblinear* are giving generalized performances on the two sets.\n",
    "- These two are performing on par or slightly better than [*olsmodel3*](https://github.com/teresahanak/wikipedia-life-expectancy/blob/main/wp_life_expect_olsmodel_thanak_2022_10_9.ipynb), our linear regression model, for all metrics.\n",
    "- We will see if hyperparameter tuning improves their performance, again keeping *Rand Forest* and *XGB_tree* in the mix for demonstration and comparison."
   ]
  },
  {
   "cell_type": "markdown",
   "id": "af7de9f3",
   "metadata": {},
   "source": [
    "## Hyperparameter Tuning"
   ]
  },
  {
   "cell_type": "code",
   "execution_count": null,
   "id": "38178ae1",
   "metadata": {},
   "outputs": [],
   "source": []
  },
  {
   "cell_type": "code",
   "execution_count": null,
   "id": "8a833787",
   "metadata": {},
   "outputs": [],
   "source": []
  },
  {
   "cell_type": "code",
   "execution_count": null,
   "id": "0f130058",
   "metadata": {},
   "outputs": [],
   "source": []
  },
  {
   "cell_type": "code",
   "execution_count": null,
   "id": "0955c3f7",
   "metadata": {},
   "outputs": [],
   "source": []
  },
  {
   "cell_type": "code",
   "execution_count": null,
   "id": "677d31ea",
   "metadata": {},
   "outputs": [],
   "source": []
  },
  {
   "cell_type": "code",
   "execution_count": null,
   "id": "a36c0663",
   "metadata": {},
   "outputs": [],
   "source": [
    "print('Complete')\n",
    "\n",
    "# Chime notification when cell executes\n",
    "chime.success()"
   ]
  },
  {
   "cell_type": "markdown",
   "id": "11aacfcc",
   "metadata": {},
   "source": [
    "# [Proceed to Data Cleaning Part ]()"
   ]
  }
 ],
 "metadata": {
  "kernelspec": {
   "display_name": "Python 3 (ipykernel)",
   "language": "python",
   "name": "python3"
  },
  "language_info": {
   "codemirror_mode": {
    "name": "ipython",
    "version": 3
   },
   "file_extension": ".py",
   "mimetype": "text/x-python",
   "name": "python",
   "nbconvert_exporter": "python",
   "pygments_lexer": "ipython3",
   "version": "3.9.12"
  }
 },
 "nbformat": 4,
 "nbformat_minor": 5
}
