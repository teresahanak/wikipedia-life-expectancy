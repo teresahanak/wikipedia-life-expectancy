{
 "cells": [
  {
   "cell_type": "markdown",
   "id": "316a0779",
   "metadata": {},
   "source": [
    "# Wikipedia Notable Life Expectancies\n",
    "# [Notebook  13: Models](https://github.com/teresahanak/wikipedia-life-expectancy/blob/main/wp_life_expect_models_thanak_2022_10_14.ipynb)\n",
    "### Context\n",
    "\n",
    "The\n",
    "### Objective\n",
    "\n",
    "The\n",
    "### Data Dictionary\n",
    "- Feature: Description"
   ]
  },
  {
   "cell_type": "markdown",
   "id": "99245d51",
   "metadata": {},
   "source": [
    "### Importing Libraries"
   ]
  },
  {
   "cell_type": "code",
   "execution_count": 494,
   "id": "453bba83",
   "metadata": {},
   "outputs": [
    {
     "name": "stdout",
     "output_type": "stream",
     "text": [
      "The nb_black extension is already loaded. To reload it, use:\n",
      "  %reload_ext nb_black\n"
     ]
    },
    {
     "data": {
      "application/javascript": [
       "\n",
       "            setTimeout(function() {\n",
       "                var nbb_cell_id = 494;\n",
       "                var nbb_unformatted_code = \"# To structure code automatically\\n%load_ext nb_black\\n\\n# To import/export sqlite databases\\n# import sqlite3 as sql\\n\\n# To save/open python objects in pickle file\\nimport pickle\\n\\n# To help with reading, cleaning, and manipulating data\\nimport pandas as pd\\nimport numpy as np\\n\\n# To help with data visualization\\nimport matplotlib.pyplot as plt\\nimport seaborn as sns\\n\\n# To be used for missing value imputation\\n# from sklearn.impute import SimpleImputer\\nfrom sklearn.base import BaseEstimator, TransformerMixin\\nfrom sklearn.utils.validation import check_is_fitted\\n\\n# To help with model building\\nfrom sklearn.tree import DecisionTreeRegressor\\nfrom sklearn.linear_model import LinearRegression\\n\\nfrom sklearn.ensemble import (\\n    AdaBoostRegressor,\\n    GradientBoostingRegressor,\\n    RandomForestRegressor,\\n    BaggingRegressor,\\n)\\nfrom xgboost import XGBRegressor\\n\\n# To randomly split data, for cross validation, and to check model performance\\nfrom sklearn import metrics\\nfrom sklearn.model_selection import train_test_split, KFold, cross_val_score\\nfrom sklearn.metrics import (\\n    mean_absolute_error,\\n    mean_squared_error,\\n    r2_score,\\n    mean_absolute_percentage_error,\\n)\\n\\n# To be used for tuning the model\\nfrom sklearn.model_selection import GridSearchCV, RandomizedSearchCV\\n\\n# To be used for hyperparameter tuning searches\\nfrom scipy.stats import loguniform\\nfrom scipy.stats import uniform\\nfrom scipy.stats import expon\\n\\n# For imputation of missing values\\nfrom sklearn.experimental import enable_iterative_imputer\\nfrom sklearn.impute import IterativeImputer\\n\\n# To be used for creating pipelines and personalizing them\\nfrom sklearn.pipeline import Pipeline, make_pipeline\\nfrom sklearn.compose import ColumnTransformer\\n\\n# To define maximum number of columns to be displayed in a dataframe\\npd.set_option(\\\"display.max_columns\\\", None)\\n# To define the maximum number of rows to be displayed in a dataframe\\npd.set_option(\\\"display.max_rows\\\", 211)\\n\\n# To set some dataframe visualization attributes\\npd.set_option(\\\"max_colwidth\\\", 150)\\n\\n# # To supress scientific notations for a dataframe\\n# pd.set_option(\\\"display.float_format\\\", lambda x: \\\"%.3f\\\" % x)\\n\\n# To supress warnings\\n# import warnings\\n\\n# warnings.filterwarnings(\\\"ignore\\\")\\n\\n# To set some plot visualization attributes\\nsns.set_theme()\\nsns.set(font_scale=1.4)\\nsns.set_palette(\\n    (\\n        \\\"midnightblue\\\",\\n        \\\"goldenrod\\\",\\n        \\\"maroon\\\",\\n        \\\"darkolivegreen\\\",\\n        \\\"cadetblue\\\",\\n        \\\"tab:purple\\\",\\n        \\\"yellowgreen\\\",\\n    )\\n)\\n# plt.rc(\\\"font\\\", size=12)\\n# plt.rc(\\\"axes\\\", titlesize=15)\\n# plt.rc(\\\"axes\\\", labelsize=14)\\n# plt.rc(\\\"xtick\\\", labelsize=13)\\n# plt.rc(\\\"ytick\\\", labelsize=13)\\n# plt.rc(\\\"legend\\\", fontsize=13)\\n# plt.rc(\\\"legend\\\", fontsize=14)\\n# plt.rc(\\\"figure\\\", titlesize=16)\\n\\n# To play auditory cue when cell has executed, has warning, or has error and set chime theme\\nimport chime\\n\\nchime.theme(\\\"zelda\\\")\";\n",
       "                var nbb_formatted_code = \"# To structure code automatically\\n%load_ext nb_black\\n\\n# To import/export sqlite databases\\n# import sqlite3 as sql\\n\\n# To save/open python objects in pickle file\\nimport pickle\\n\\n# To help with reading, cleaning, and manipulating data\\nimport pandas as pd\\nimport numpy as np\\n\\n# To help with data visualization\\nimport matplotlib.pyplot as plt\\nimport seaborn as sns\\n\\n# To be used for missing value imputation\\n# from sklearn.impute import SimpleImputer\\nfrom sklearn.base import BaseEstimator, TransformerMixin\\nfrom sklearn.utils.validation import check_is_fitted\\n\\n# To help with model building\\nfrom sklearn.tree import DecisionTreeRegressor\\nfrom sklearn.linear_model import LinearRegression\\n\\nfrom sklearn.ensemble import (\\n    AdaBoostRegressor,\\n    GradientBoostingRegressor,\\n    RandomForestRegressor,\\n    BaggingRegressor,\\n)\\nfrom xgboost import XGBRegressor\\n\\n# To randomly split data, for cross validation, and to check model performance\\nfrom sklearn import metrics\\nfrom sklearn.model_selection import train_test_split, KFold, cross_val_score\\nfrom sklearn.metrics import (\\n    mean_absolute_error,\\n    mean_squared_error,\\n    r2_score,\\n    mean_absolute_percentage_error,\\n)\\n\\n# To be used for tuning the model\\nfrom sklearn.model_selection import GridSearchCV, RandomizedSearchCV\\n\\n# To be used for hyperparameter tuning searches\\nfrom scipy.stats import loguniform\\nfrom scipy.stats import uniform\\nfrom scipy.stats import expon\\n\\n# For imputation of missing values\\nfrom sklearn.experimental import enable_iterative_imputer\\nfrom sklearn.impute import IterativeImputer\\n\\n# To be used for creating pipelines and personalizing them\\nfrom sklearn.pipeline import Pipeline, make_pipeline\\nfrom sklearn.compose import ColumnTransformer\\n\\n# To define maximum number of columns to be displayed in a dataframe\\npd.set_option(\\\"display.max_columns\\\", None)\\n# To define the maximum number of rows to be displayed in a dataframe\\npd.set_option(\\\"display.max_rows\\\", 211)\\n\\n# To set some dataframe visualization attributes\\npd.set_option(\\\"max_colwidth\\\", 150)\\n\\n# # To supress scientific notations for a dataframe\\n# pd.set_option(\\\"display.float_format\\\", lambda x: \\\"%.3f\\\" % x)\\n\\n# To supress warnings\\n# import warnings\\n\\n# warnings.filterwarnings(\\\"ignore\\\")\\n\\n# To set some plot visualization attributes\\nsns.set_theme()\\nsns.set(font_scale=1.4)\\nsns.set_palette(\\n    (\\n        \\\"midnightblue\\\",\\n        \\\"goldenrod\\\",\\n        \\\"maroon\\\",\\n        \\\"darkolivegreen\\\",\\n        \\\"cadetblue\\\",\\n        \\\"tab:purple\\\",\\n        \\\"yellowgreen\\\",\\n    )\\n)\\n# plt.rc(\\\"font\\\", size=12)\\n# plt.rc(\\\"axes\\\", titlesize=15)\\n# plt.rc(\\\"axes\\\", labelsize=14)\\n# plt.rc(\\\"xtick\\\", labelsize=13)\\n# plt.rc(\\\"ytick\\\", labelsize=13)\\n# plt.rc(\\\"legend\\\", fontsize=13)\\n# plt.rc(\\\"legend\\\", fontsize=14)\\n# plt.rc(\\\"figure\\\", titlesize=16)\\n\\n# To play auditory cue when cell has executed, has warning, or has error and set chime theme\\nimport chime\\n\\nchime.theme(\\\"zelda\\\")\";\n",
       "                var nbb_cells = Jupyter.notebook.get_cells();\n",
       "                for (var i = 0; i < nbb_cells.length; ++i) {\n",
       "                    if (nbb_cells[i].input_prompt_number == nbb_cell_id) {\n",
       "                        if (nbb_cells[i].get_text() == nbb_unformatted_code) {\n",
       "                             nbb_cells[i].set_text(nbb_formatted_code);\n",
       "                        }\n",
       "                        break;\n",
       "                    }\n",
       "                }\n",
       "            }, 500);\n",
       "            "
      ],
      "text/plain": [
       "<IPython.core.display.Javascript object>"
      ]
     },
     "metadata": {},
     "output_type": "display_data"
    }
   ],
   "source": [
    "# To structure code automatically\n",
    "%load_ext nb_black\n",
    "\n",
    "# To import/export sqlite databases\n",
    "# import sqlite3 as sql\n",
    "\n",
    "# To save/open python objects in pickle file\n",
    "import pickle\n",
    "\n",
    "# To help with reading, cleaning, and manipulating data\n",
    "import pandas as pd\n",
    "import numpy as np\n",
    "\n",
    "# To help with data visualization\n",
    "import matplotlib.pyplot as plt\n",
    "import seaborn as sns\n",
    "\n",
    "# To be used for missing value imputation\n",
    "# from sklearn.impute import SimpleImputer\n",
    "from sklearn.base import BaseEstimator, TransformerMixin\n",
    "from sklearn.utils.validation import check_is_fitted\n",
    "\n",
    "# To help with model building\n",
    "from sklearn.tree import DecisionTreeRegressor\n",
    "from sklearn.linear_model import LinearRegression\n",
    "\n",
    "from sklearn.ensemble import (\n",
    "    AdaBoostRegressor,\n",
    "    GradientBoostingRegressor,\n",
    "    RandomForestRegressor,\n",
    "    BaggingRegressor,\n",
    ")\n",
    "from xgboost import XGBRegressor\n",
    "\n",
    "# To randomly split data, for cross validation, and to check model performance\n",
    "from sklearn import metrics\n",
    "from sklearn.model_selection import train_test_split, KFold, cross_val_score\n",
    "from sklearn.metrics import (\n",
    "    mean_absolute_error,\n",
    "    mean_squared_error,\n",
    "    r2_score,\n",
    "    mean_absolute_percentage_error,\n",
    ")\n",
    "\n",
    "# To be used for tuning the model\n",
    "from sklearn.model_selection import GridSearchCV, RandomizedSearchCV\n",
    "\n",
    "# To be used for hyperparameter tuning searches\n",
    "from scipy.stats import loguniform\n",
    "from scipy.stats import uniform\n",
    "from scipy.stats import expon\n",
    "\n",
    "# For imputation of missing values\n",
    "from sklearn.experimental import enable_iterative_imputer\n",
    "from sklearn.impute import IterativeImputer\n",
    "\n",
    "# To be used for creating pipelines and personalizing them\n",
    "from sklearn.pipeline import Pipeline, make_pipeline\n",
    "from sklearn.compose import ColumnTransformer\n",
    "\n",
    "# To define maximum number of columns to be displayed in a dataframe\n",
    "pd.set_option(\"display.max_columns\", None)\n",
    "# To define the maximum number of rows to be displayed in a dataframe\n",
    "pd.set_option(\"display.max_rows\", 211)\n",
    "\n",
    "# To set some dataframe visualization attributes\n",
    "pd.set_option(\"max_colwidth\", 150)\n",
    "\n",
    "# # To supress scientific notations for a dataframe\n",
    "# pd.set_option(\"display.float_format\", lambda x: \"%.3f\" % x)\n",
    "\n",
    "# To supress warnings\n",
    "# import warnings\n",
    "\n",
    "# warnings.filterwarnings(\"ignore\")\n",
    "\n",
    "# To set some plot visualization attributes\n",
    "sns.set_theme()\n",
    "sns.set(font_scale=1.4)\n",
    "sns.set_palette(\n",
    "    (\n",
    "        \"midnightblue\",\n",
    "        \"goldenrod\",\n",
    "        \"maroon\",\n",
    "        \"darkolivegreen\",\n",
    "        \"cadetblue\",\n",
    "        \"tab:purple\",\n",
    "        \"yellowgreen\",\n",
    "    )\n",
    ")\n",
    "# plt.rc(\"font\", size=12)\n",
    "# plt.rc(\"axes\", titlesize=15)\n",
    "# plt.rc(\"axes\", labelsize=14)\n",
    "# plt.rc(\"xtick\", labelsize=13)\n",
    "# plt.rc(\"ytick\", labelsize=13)\n",
    "# plt.rc(\"legend\", fontsize=13)\n",
    "# plt.rc(\"legend\", fontsize=14)\n",
    "# plt.rc(\"figure\", titlesize=16)\n",
    "\n",
    "# To play auditory cue when cell has executed, has warning, or has error and set chime theme\n",
    "import chime\n",
    "\n",
    "chime.theme(\"zelda\")"
   ]
  },
  {
   "cell_type": "markdown",
   "id": "cc818a82",
   "metadata": {},
   "source": [
    "## Data Overview"
   ]
  },
  {
   "cell_type": "markdown",
   "id": "0ed005f6",
   "metadata": {},
   "source": [
    "### [Reading](https://github.com/teresahanak/wikipedia-life-expectancy/blob/main/wp_life_expect_train_preproc.csv), Sampling, and Checking Data Shape"
   ]
  },
  {
   "cell_type": "code",
   "execution_count": 2,
   "id": "0ca58a95",
   "metadata": {},
   "outputs": [
    {
     "name": "stdout",
     "output_type": "stream",
     "text": [
      "There are 77624 rows and 20 columns.\n"
     ]
    },
    {
     "data": {
      "text/html": [
       "<div>\n",
       "<style scoped>\n",
       "    .dataframe tbody tr th:only-of-type {\n",
       "        vertical-align: middle;\n",
       "    }\n",
       "\n",
       "    .dataframe tbody tr th {\n",
       "        vertical-align: top;\n",
       "    }\n",
       "\n",
       "    .dataframe thead th {\n",
       "        text-align: right;\n",
       "    }\n",
       "</style>\n",
       "<table border=\"1\" class=\"dataframe\">\n",
       "  <thead>\n",
       "    <tr style=\"text-align: right;\">\n",
       "      <th></th>\n",
       "      <th>num_references</th>\n",
       "      <th>age</th>\n",
       "      <th>sciences</th>\n",
       "      <th>social</th>\n",
       "      <th>spiritual</th>\n",
       "      <th>academia_humanities</th>\n",
       "      <th>business_farming</th>\n",
       "      <th>arts</th>\n",
       "      <th>sports</th>\n",
       "      <th>law_enf_military_operator</th>\n",
       "      <th>politics_govt_law</th>\n",
       "      <th>crime</th>\n",
       "      <th>num_categories</th>\n",
       "      <th>age_sqrd</th>\n",
       "      <th>recip_num_references</th>\n",
       "      <th>years</th>\n",
       "      <th>years_sqrd</th>\n",
       "      <th>region</th>\n",
       "      <th>prior_region</th>\n",
       "      <th>known_for</th>\n",
       "    </tr>\n",
       "  </thead>\n",
       "  <tbody>\n",
       "    <tr>\n",
       "      <th>0</th>\n",
       "      <td>4</td>\n",
       "      <td>73.0</td>\n",
       "      <td>0</td>\n",
       "      <td>0</td>\n",
       "      <td>1</td>\n",
       "      <td>0</td>\n",
       "      <td>0</td>\n",
       "      <td>0</td>\n",
       "      <td>0</td>\n",
       "      <td>0</td>\n",
       "      <td>0</td>\n",
       "      <td>0</td>\n",
       "      <td>1</td>\n",
       "      <td>5329.0</td>\n",
       "      <td>0.250000</td>\n",
       "      <td>8</td>\n",
       "      <td>64</td>\n",
       "      <td>Europe</td>\n",
       "      <td>No Prior Region</td>\n",
       "      <td>spiritual</td>\n",
       "    </tr>\n",
       "    <tr>\n",
       "      <th>1</th>\n",
       "      <td>3</td>\n",
       "      <td>90.0</td>\n",
       "      <td>1</td>\n",
       "      <td>0</td>\n",
       "      <td>0</td>\n",
       "      <td>1</td>\n",
       "      <td>0</td>\n",
       "      <td>0</td>\n",
       "      <td>0</td>\n",
       "      <td>0</td>\n",
       "      <td>0</td>\n",
       "      <td>0</td>\n",
       "      <td>2</td>\n",
       "      <td>8100.0</td>\n",
       "      <td>0.333333</td>\n",
       "      <td>13</td>\n",
       "      <td>169</td>\n",
       "      <td>North America</td>\n",
       "      <td>No Prior Region</td>\n",
       "      <td>two</td>\n",
       "    </tr>\n",
       "  </tbody>\n",
       "</table>\n",
       "</div>"
      ],
      "text/plain": [
       "   num_references   age  sciences  social  spiritual  academia_humanities  \\\n",
       "0               4  73.0         0       0          1                    0   \n",
       "1               3  90.0         1       0          0                    1   \n",
       "\n",
       "   business_farming  arts  sports  law_enf_military_operator  \\\n",
       "0                 0     0       0                          0   \n",
       "1                 0     0       0                          0   \n",
       "\n",
       "   politics_govt_law  crime  num_categories  age_sqrd  recip_num_references  \\\n",
       "0                  0      0               1    5329.0              0.250000   \n",
       "1                  0      0               2    8100.0              0.333333   \n",
       "\n",
       "   years  years_sqrd         region     prior_region  known_for  \n",
       "0      8          64         Europe  No Prior Region  spiritual  \n",
       "1     13         169  North America  No Prior Region        two  "
      ]
     },
     "execution_count": 2,
     "metadata": {},
     "output_type": "execute_result"
    },
    {
     "data": {
      "application/javascript": [
       "\n",
       "            setTimeout(function() {\n",
       "                var nbb_cell_id = 2;\n",
       "                var nbb_unformatted_code = \"# Reading the dataset\\ndata = pd.read_csv(\\\"wp_life_expect_train_preproc.csv\\\")\\n\\n# Making a working copy\\ndf = data.copy()\\n\\n# Checking the shape\\nprint(f\\\"There are {df.shape[0]} rows and {df.shape[1]} columns.\\\")\\n\\n# Checking first 2 rows of the data\\ndf.head(2)\";\n",
       "                var nbb_formatted_code = \"# Reading the dataset\\ndata = pd.read_csv(\\\"wp_life_expect_train_preproc.csv\\\")\\n\\n# Making a working copy\\ndf = data.copy()\\n\\n# Checking the shape\\nprint(f\\\"There are {df.shape[0]} rows and {df.shape[1]} columns.\\\")\\n\\n# Checking first 2 rows of the data\\ndf.head(2)\";\n",
       "                var nbb_cells = Jupyter.notebook.get_cells();\n",
       "                for (var i = 0; i < nbb_cells.length; ++i) {\n",
       "                    if (nbb_cells[i].input_prompt_number == nbb_cell_id) {\n",
       "                        if (nbb_cells[i].get_text() == nbb_unformatted_code) {\n",
       "                             nbb_cells[i].set_text(nbb_formatted_code);\n",
       "                        }\n",
       "                        break;\n",
       "                    }\n",
       "                }\n",
       "            }, 500);\n",
       "            "
      ],
      "text/plain": [
       "<IPython.core.display.Javascript object>"
      ]
     },
     "metadata": {},
     "output_type": "display_data"
    }
   ],
   "source": [
    "# Reading the dataset\n",
    "data = pd.read_csv(\"wp_life_expect_train_preproc.csv\")\n",
    "\n",
    "# Making a working copy\n",
    "df = data.copy()\n",
    "\n",
    "# Checking the shape\n",
    "print(f\"There are {df.shape[0]} rows and {df.shape[1]} columns.\")\n",
    "\n",
    "# Checking first 2 rows of the data\n",
    "df.head(2)"
   ]
  },
  {
   "cell_type": "code",
   "execution_count": 3,
   "id": "6cca416f",
   "metadata": {},
   "outputs": [
    {
     "data": {
      "text/html": [
       "<div>\n",
       "<style scoped>\n",
       "    .dataframe tbody tr th:only-of-type {\n",
       "        vertical-align: middle;\n",
       "    }\n",
       "\n",
       "    .dataframe tbody tr th {\n",
       "        vertical-align: top;\n",
       "    }\n",
       "\n",
       "    .dataframe thead th {\n",
       "        text-align: right;\n",
       "    }\n",
       "</style>\n",
       "<table border=\"1\" class=\"dataframe\">\n",
       "  <thead>\n",
       "    <tr style=\"text-align: right;\">\n",
       "      <th></th>\n",
       "      <th>num_references</th>\n",
       "      <th>age</th>\n",
       "      <th>sciences</th>\n",
       "      <th>social</th>\n",
       "      <th>spiritual</th>\n",
       "      <th>academia_humanities</th>\n",
       "      <th>business_farming</th>\n",
       "      <th>arts</th>\n",
       "      <th>sports</th>\n",
       "      <th>law_enf_military_operator</th>\n",
       "      <th>politics_govt_law</th>\n",
       "      <th>crime</th>\n",
       "      <th>num_categories</th>\n",
       "      <th>age_sqrd</th>\n",
       "      <th>recip_num_references</th>\n",
       "      <th>years</th>\n",
       "      <th>years_sqrd</th>\n",
       "      <th>region</th>\n",
       "      <th>prior_region</th>\n",
       "      <th>known_for</th>\n",
       "    </tr>\n",
       "  </thead>\n",
       "  <tbody>\n",
       "    <tr>\n",
       "      <th>77622</th>\n",
       "      <td>7</td>\n",
       "      <td>74.0</td>\n",
       "      <td>0</td>\n",
       "      <td>0</td>\n",
       "      <td>0</td>\n",
       "      <td>0</td>\n",
       "      <td>0</td>\n",
       "      <td>1</td>\n",
       "      <td>0</td>\n",
       "      <td>0</td>\n",
       "      <td>0</td>\n",
       "      <td>0</td>\n",
       "      <td>1</td>\n",
       "      <td>5476.0</td>\n",
       "      <td>0.142857</td>\n",
       "      <td>0</td>\n",
       "      <td>0</td>\n",
       "      <td>North America</td>\n",
       "      <td>No Prior Region</td>\n",
       "      <td>arts</td>\n",
       "    </tr>\n",
       "    <tr>\n",
       "      <th>77623</th>\n",
       "      <td>5</td>\n",
       "      <td>92.0</td>\n",
       "      <td>0</td>\n",
       "      <td>0</td>\n",
       "      <td>0</td>\n",
       "      <td>0</td>\n",
       "      <td>0</td>\n",
       "      <td>0</td>\n",
       "      <td>1</td>\n",
       "      <td>0</td>\n",
       "      <td>0</td>\n",
       "      <td>0</td>\n",
       "      <td>1</td>\n",
       "      <td>8464.0</td>\n",
       "      <td>0.200000</td>\n",
       "      <td>8</td>\n",
       "      <td>64</td>\n",
       "      <td>Europe</td>\n",
       "      <td>No Prior Region</td>\n",
       "      <td>sports</td>\n",
       "    </tr>\n",
       "  </tbody>\n",
       "</table>\n",
       "</div>"
      ],
      "text/plain": [
       "       num_references   age  sciences  social  spiritual  academia_humanities  \\\n",
       "77622               7  74.0         0       0          0                    0   \n",
       "77623               5  92.0         0       0          0                    0   \n",
       "\n",
       "       business_farming  arts  sports  law_enf_military_operator  \\\n",
       "77622                 0     1       0                          0   \n",
       "77623                 0     0       1                          0   \n",
       "\n",
       "       politics_govt_law  crime  num_categories  age_sqrd  \\\n",
       "77622                  0      0               1    5476.0   \n",
       "77623                  0      0               1    8464.0   \n",
       "\n",
       "       recip_num_references  years  years_sqrd         region  \\\n",
       "77622              0.142857      0           0  North America   \n",
       "77623              0.200000      8          64         Europe   \n",
       "\n",
       "          prior_region known_for  \n",
       "77622  No Prior Region      arts  \n",
       "77623  No Prior Region    sports  "
      ]
     },
     "execution_count": 3,
     "metadata": {},
     "output_type": "execute_result"
    },
    {
     "data": {
      "application/javascript": [
       "\n",
       "            setTimeout(function() {\n",
       "                var nbb_cell_id = 3;\n",
       "                var nbb_unformatted_code = \"# Checking last 2 rows of the data\\ndf.tail(2)\";\n",
       "                var nbb_formatted_code = \"# Checking last 2 rows of the data\\ndf.tail(2)\";\n",
       "                var nbb_cells = Jupyter.notebook.get_cells();\n",
       "                for (var i = 0; i < nbb_cells.length; ++i) {\n",
       "                    if (nbb_cells[i].input_prompt_number == nbb_cell_id) {\n",
       "                        if (nbb_cells[i].get_text() == nbb_unformatted_code) {\n",
       "                             nbb_cells[i].set_text(nbb_formatted_code);\n",
       "                        }\n",
       "                        break;\n",
       "                    }\n",
       "                }\n",
       "            }, 500);\n",
       "            "
      ],
      "text/plain": [
       "<IPython.core.display.Javascript object>"
      ]
     },
     "metadata": {},
     "output_type": "display_data"
    }
   ],
   "source": [
    "# Checking last 2 rows of the data\n",
    "df.tail(2)"
   ]
  },
  {
   "cell_type": "code",
   "execution_count": 4,
   "id": "de6e8ee5",
   "metadata": {},
   "outputs": [
    {
     "data": {
      "text/html": [
       "<div>\n",
       "<style scoped>\n",
       "    .dataframe tbody tr th:only-of-type {\n",
       "        vertical-align: middle;\n",
       "    }\n",
       "\n",
       "    .dataframe tbody tr th {\n",
       "        vertical-align: top;\n",
       "    }\n",
       "\n",
       "    .dataframe thead th {\n",
       "        text-align: right;\n",
       "    }\n",
       "</style>\n",
       "<table border=\"1\" class=\"dataframe\">\n",
       "  <thead>\n",
       "    <tr style=\"text-align: right;\">\n",
       "      <th></th>\n",
       "      <th>num_references</th>\n",
       "      <th>age</th>\n",
       "      <th>sciences</th>\n",
       "      <th>social</th>\n",
       "      <th>spiritual</th>\n",
       "      <th>academia_humanities</th>\n",
       "      <th>business_farming</th>\n",
       "      <th>arts</th>\n",
       "      <th>sports</th>\n",
       "      <th>law_enf_military_operator</th>\n",
       "      <th>politics_govt_law</th>\n",
       "      <th>crime</th>\n",
       "      <th>num_categories</th>\n",
       "      <th>age_sqrd</th>\n",
       "      <th>recip_num_references</th>\n",
       "      <th>years</th>\n",
       "      <th>years_sqrd</th>\n",
       "      <th>region</th>\n",
       "      <th>prior_region</th>\n",
       "      <th>known_for</th>\n",
       "    </tr>\n",
       "  </thead>\n",
       "  <tbody>\n",
       "    <tr>\n",
       "      <th>77572</th>\n",
       "      <td>4</td>\n",
       "      <td>50.0</td>\n",
       "      <td>0</td>\n",
       "      <td>0</td>\n",
       "      <td>0</td>\n",
       "      <td>0</td>\n",
       "      <td>0</td>\n",
       "      <td>1</td>\n",
       "      <td>0</td>\n",
       "      <td>0</td>\n",
       "      <td>0</td>\n",
       "      <td>0</td>\n",
       "      <td>1</td>\n",
       "      <td>2500.0</td>\n",
       "      <td>0.250000</td>\n",
       "      <td>13</td>\n",
       "      <td>169</td>\n",
       "      <td>Oceania</td>\n",
       "      <td>No Prior Region</td>\n",
       "      <td>arts</td>\n",
       "    </tr>\n",
       "    <tr>\n",
       "      <th>2586</th>\n",
       "      <td>3</td>\n",
       "      <td>75.0</td>\n",
       "      <td>0</td>\n",
       "      <td>0</td>\n",
       "      <td>0</td>\n",
       "      <td>0</td>\n",
       "      <td>0</td>\n",
       "      <td>1</td>\n",
       "      <td>0</td>\n",
       "      <td>0</td>\n",
       "      <td>0</td>\n",
       "      <td>0</td>\n",
       "      <td>1</td>\n",
       "      <td>5625.0</td>\n",
       "      <td>0.333333</td>\n",
       "      <td>15</td>\n",
       "      <td>225</td>\n",
       "      <td>North America</td>\n",
       "      <td>Africa</td>\n",
       "      <td>arts</td>\n",
       "    </tr>\n",
       "    <tr>\n",
       "      <th>17106</th>\n",
       "      <td>18</td>\n",
       "      <td>73.0</td>\n",
       "      <td>0</td>\n",
       "      <td>0</td>\n",
       "      <td>0</td>\n",
       "      <td>0</td>\n",
       "      <td>0</td>\n",
       "      <td>0</td>\n",
       "      <td>0</td>\n",
       "      <td>1</td>\n",
       "      <td>0</td>\n",
       "      <td>0</td>\n",
       "      <td>1</td>\n",
       "      <td>5329.0</td>\n",
       "      <td>0.055556</td>\n",
       "      <td>3</td>\n",
       "      <td>9</td>\n",
       "      <td>Europe</td>\n",
       "      <td>No Prior Region</td>\n",
       "      <td>law_enf_military_operator</td>\n",
       "    </tr>\n",
       "    <tr>\n",
       "      <th>50426</th>\n",
       "      <td>4</td>\n",
       "      <td>79.0</td>\n",
       "      <td>0</td>\n",
       "      <td>0</td>\n",
       "      <td>0</td>\n",
       "      <td>0</td>\n",
       "      <td>0</td>\n",
       "      <td>0</td>\n",
       "      <td>0</td>\n",
       "      <td>0</td>\n",
       "      <td>1</td>\n",
       "      <td>0</td>\n",
       "      <td>1</td>\n",
       "      <td>6241.0</td>\n",
       "      <td>0.250000</td>\n",
       "      <td>27</td>\n",
       "      <td>729</td>\n",
       "      <td>Europe</td>\n",
       "      <td>No Prior Region</td>\n",
       "      <td>politics_govt_law</td>\n",
       "    </tr>\n",
       "    <tr>\n",
       "      <th>69097</th>\n",
       "      <td>3</td>\n",
       "      <td>93.0</td>\n",
       "      <td>0</td>\n",
       "      <td>0</td>\n",
       "      <td>0</td>\n",
       "      <td>0</td>\n",
       "      <td>0</td>\n",
       "      <td>1</td>\n",
       "      <td>0</td>\n",
       "      <td>0</td>\n",
       "      <td>0</td>\n",
       "      <td>0</td>\n",
       "      <td>1</td>\n",
       "      <td>8649.0</td>\n",
       "      <td>0.333333</td>\n",
       "      <td>21</td>\n",
       "      <td>441</td>\n",
       "      <td>North America</td>\n",
       "      <td>No Prior Region</td>\n",
       "      <td>arts</td>\n",
       "    </tr>\n",
       "  </tbody>\n",
       "</table>\n",
       "</div>"
      ],
      "text/plain": [
       "       num_references   age  sciences  social  spiritual  academia_humanities  \\\n",
       "77572               4  50.0         0       0          0                    0   \n",
       "2586                3  75.0         0       0          0                    0   \n",
       "17106              18  73.0         0       0          0                    0   \n",
       "50426               4  79.0         0       0          0                    0   \n",
       "69097               3  93.0         0       0          0                    0   \n",
       "\n",
       "       business_farming  arts  sports  law_enf_military_operator  \\\n",
       "77572                 0     1       0                          0   \n",
       "2586                  0     1       0                          0   \n",
       "17106                 0     0       0                          1   \n",
       "50426                 0     0       0                          0   \n",
       "69097                 0     1       0                          0   \n",
       "\n",
       "       politics_govt_law  crime  num_categories  age_sqrd  \\\n",
       "77572                  0      0               1    2500.0   \n",
       "2586                   0      0               1    5625.0   \n",
       "17106                  0      0               1    5329.0   \n",
       "50426                  1      0               1    6241.0   \n",
       "69097                  0      0               1    8649.0   \n",
       "\n",
       "       recip_num_references  years  years_sqrd         region  \\\n",
       "77572              0.250000     13         169        Oceania   \n",
       "2586               0.333333     15         225  North America   \n",
       "17106              0.055556      3           9         Europe   \n",
       "50426              0.250000     27         729         Europe   \n",
       "69097              0.333333     21         441  North America   \n",
       "\n",
       "          prior_region                  known_for  \n",
       "77572  No Prior Region                       arts  \n",
       "2586            Africa                       arts  \n",
       "17106  No Prior Region  law_enf_military_operator  \n",
       "50426  No Prior Region          politics_govt_law  \n",
       "69097  No Prior Region                       arts  "
      ]
     },
     "execution_count": 4,
     "metadata": {},
     "output_type": "execute_result"
    },
    {
     "data": {
      "application/javascript": [
       "\n",
       "            setTimeout(function() {\n",
       "                var nbb_cell_id = 4;\n",
       "                var nbb_unformatted_code = \"# Checking a sample of the data\\ndf.sample(5)\";\n",
       "                var nbb_formatted_code = \"# Checking a sample of the data\\ndf.sample(5)\";\n",
       "                var nbb_cells = Jupyter.notebook.get_cells();\n",
       "                for (var i = 0; i < nbb_cells.length; ++i) {\n",
       "                    if (nbb_cells[i].input_prompt_number == nbb_cell_id) {\n",
       "                        if (nbb_cells[i].get_text() == nbb_unformatted_code) {\n",
       "                             nbb_cells[i].set_text(nbb_formatted_code);\n",
       "                        }\n",
       "                        break;\n",
       "                    }\n",
       "                }\n",
       "            }, 500);\n",
       "            "
      ],
      "text/plain": [
       "<IPython.core.display.Javascript object>"
      ]
     },
     "metadata": {},
     "output_type": "display_data"
    }
   ],
   "source": [
    "# Checking a sample of the data\n",
    "df.sample(5)"
   ]
  },
  {
   "cell_type": "markdown",
   "id": "8d5f29da",
   "metadata": {},
   "source": [
    "### Checking Data Types and Null Values"
   ]
  },
  {
   "cell_type": "code",
   "execution_count": 5,
   "id": "bf505f87",
   "metadata": {},
   "outputs": [
    {
     "name": "stdout",
     "output_type": "stream",
     "text": [
      "<class 'pandas.core.frame.DataFrame'>\n",
      "RangeIndex: 77624 entries, 0 to 77623\n",
      "Data columns (total 20 columns):\n",
      " #   Column                     Non-Null Count  Dtype  \n",
      "---  ------                     --------------  -----  \n",
      " 0   num_references             77624 non-null  int64  \n",
      " 1   age                        77624 non-null  float64\n",
      " 2   sciences                   77624 non-null  int64  \n",
      " 3   social                     77624 non-null  int64  \n",
      " 4   spiritual                  77624 non-null  int64  \n",
      " 5   academia_humanities        77624 non-null  int64  \n",
      " 6   business_farming           77624 non-null  int64  \n",
      " 7   arts                       77624 non-null  int64  \n",
      " 8   sports                     77624 non-null  int64  \n",
      " 9   law_enf_military_operator  77624 non-null  int64  \n",
      " 10  politics_govt_law          77624 non-null  int64  \n",
      " 11  crime                      77624 non-null  int64  \n",
      " 12  num_categories             77624 non-null  int64  \n",
      " 13  age_sqrd                   77624 non-null  float64\n",
      " 14  recip_num_references       77624 non-null  float64\n",
      " 15  years                      77624 non-null  int64  \n",
      " 16  years_sqrd                 77624 non-null  int64  \n",
      " 17  region                     77624 non-null  object \n",
      " 18  prior_region               77624 non-null  object \n",
      " 19  known_for                  77624 non-null  object \n",
      "dtypes: float64(3), int64(14), object(3)\n",
      "memory usage: 11.8+ MB\n"
     ]
    },
    {
     "data": {
      "application/javascript": [
       "\n",
       "            setTimeout(function() {\n",
       "                var nbb_cell_id = 5;\n",
       "                var nbb_unformatted_code = \"# Checking data types and null values\\ndf.info()\";\n",
       "                var nbb_formatted_code = \"# Checking data types and null values\\ndf.info()\";\n",
       "                var nbb_cells = Jupyter.notebook.get_cells();\n",
       "                for (var i = 0; i < nbb_cells.length; ++i) {\n",
       "                    if (nbb_cells[i].input_prompt_number == nbb_cell_id) {\n",
       "                        if (nbb_cells[i].get_text() == nbb_unformatted_code) {\n",
       "                             nbb_cells[i].set_text(nbb_formatted_code);\n",
       "                        }\n",
       "                        break;\n",
       "                    }\n",
       "                }\n",
       "            }, 500);\n",
       "            "
      ],
      "text/plain": [
       "<IPython.core.display.Javascript object>"
      ]
     },
     "metadata": {},
     "output_type": "display_data"
    }
   ],
   "source": [
    "# Checking data types and null values\n",
    "df.info()"
   ]
  },
  {
   "cell_type": "markdown",
   "id": "c459d7f8",
   "metadata": {},
   "source": [
    "#### Observations:\n",
    "- With our dataset loaded, we are ready for modeling.\n",
    "- We have three variables that need typcasting from object to category, then one hot encoding just prior to modeling."
   ]
  },
  {
   "cell_type": "markdown",
   "id": "1bdf2565",
   "metadata": {},
   "source": [
    "#### Typecasting `region`, `prior_region`, and `known_for` as Categorical"
   ]
  },
  {
   "cell_type": "code",
   "execution_count": 6,
   "id": "e2aef3f0",
   "metadata": {},
   "outputs": [
    {
     "name": "stdout",
     "output_type": "stream",
     "text": [
      "<class 'pandas.core.frame.DataFrame'>\n",
      "RangeIndex: 77624 entries, 0 to 77623\n",
      "Data columns (total 20 columns):\n",
      " #   Column                     Non-Null Count  Dtype   \n",
      "---  ------                     --------------  -----   \n",
      " 0   num_references             77624 non-null  int64   \n",
      " 1   age                        77624 non-null  float64 \n",
      " 2   sciences                   77624 non-null  int64   \n",
      " 3   social                     77624 non-null  int64   \n",
      " 4   spiritual                  77624 non-null  int64   \n",
      " 5   academia_humanities        77624 non-null  int64   \n",
      " 6   business_farming           77624 non-null  int64   \n",
      " 7   arts                       77624 non-null  int64   \n",
      " 8   sports                     77624 non-null  int64   \n",
      " 9   law_enf_military_operator  77624 non-null  int64   \n",
      " 10  politics_govt_law          77624 non-null  int64   \n",
      " 11  crime                      77624 non-null  int64   \n",
      " 12  num_categories             77624 non-null  int64   \n",
      " 13  age_sqrd                   77624 non-null  float64 \n",
      " 14  recip_num_references       77624 non-null  float64 \n",
      " 15  years                      77624 non-null  int64   \n",
      " 16  years_sqrd                 77624 non-null  int64   \n",
      " 17  region                     77624 non-null  category\n",
      " 18  prior_region               77624 non-null  category\n",
      " 19  known_for                  77624 non-null  category\n",
      "dtypes: category(3), float64(3), int64(14)\n",
      "memory usage: 10.3 MB\n"
     ]
    },
    {
     "data": {
      "application/javascript": [
       "\n",
       "            setTimeout(function() {\n",
       "                var nbb_cell_id = 6;\n",
       "                var nbb_unformatted_code = \"# Typcasting prior_region and region as categorical\\ndf[[\\\"prior_region\\\", \\\"region\\\", \\\"known_for\\\"]] = df[\\n    [\\\"prior_region\\\", \\\"region\\\", \\\"known_for\\\"]\\n].astype(\\\"category\\\")\\n\\n# Re-check info\\ndf.info()\";\n",
       "                var nbb_formatted_code = \"# Typcasting prior_region and region as categorical\\ndf[[\\\"prior_region\\\", \\\"region\\\", \\\"known_for\\\"]] = df[\\n    [\\\"prior_region\\\", \\\"region\\\", \\\"known_for\\\"]\\n].astype(\\\"category\\\")\\n\\n# Re-check info\\ndf.info()\";\n",
       "                var nbb_cells = Jupyter.notebook.get_cells();\n",
       "                for (var i = 0; i < nbb_cells.length; ++i) {\n",
       "                    if (nbb_cells[i].input_prompt_number == nbb_cell_id) {\n",
       "                        if (nbb_cells[i].get_text() == nbb_unformatted_code) {\n",
       "                             nbb_cells[i].set_text(nbb_formatted_code);\n",
       "                        }\n",
       "                        break;\n",
       "                    }\n",
       "                }\n",
       "            }, 500);\n",
       "            "
      ],
      "text/plain": [
       "<IPython.core.display.Javascript object>"
      ]
     },
     "metadata": {},
     "output_type": "display_data"
    }
   ],
   "source": [
    "# Typcasting prior_region and region as categorical\n",
    "df[[\"prior_region\", \"region\", \"known_for\"]] = df[\n",
    "    [\"prior_region\", \"region\", \"known_for\"]\n",
    "].astype(\"category\")\n",
    "\n",
    "# Re-check info\n",
    "df.info()"
   ]
  },
  {
   "cell_type": "markdown",
   "id": "1c1eafaa",
   "metadata": {},
   "source": [
    "## Data Preparation for Modeling\n",
    "In contrast to building the [linear regression model](https://github.com/teresahanak/wikipedia-life-expectancy/blob/main/wp_life_expect_olsmodel_thanak_2022_10_9.ipynb), we will be tuning these models.  So, we will split the train set into train and validation sets and utilize the `test` set only to check out-of-sample performance of the champion model.  We will load and treat the test set at that point."
   ]
  },
  {
   "cell_type": "markdown",
   "id": "aef2eaa0",
   "metadata": {},
   "source": [
    "### Defining Independent and Dependent Variables for Train and Validation Sets"
   ]
  },
  {
   "cell_type": "code",
   "execution_count": 7,
   "id": "71fbe26e",
   "metadata": {},
   "outputs": [
    {
     "name": "stdout",
     "output_type": "stream",
     "text": [
      "There are 54336 rows and 34 columns in the train set.\n",
      "\n",
      "There are 23288 rows and 34 columns in the validation set.\n",
      "\n"
     ]
    },
    {
     "data": {
      "text/html": [
       "<div>\n",
       "<style scoped>\n",
       "    .dataframe tbody tr th:only-of-type {\n",
       "        vertical-align: middle;\n",
       "    }\n",
       "\n",
       "    .dataframe tbody tr th {\n",
       "        vertical-align: top;\n",
       "    }\n",
       "\n",
       "    .dataframe thead th {\n",
       "        text-align: right;\n",
       "    }\n",
       "</style>\n",
       "<table border=\"1\" class=\"dataframe\">\n",
       "  <thead>\n",
       "    <tr style=\"text-align: right;\">\n",
       "      <th></th>\n",
       "      <th>num_references</th>\n",
       "      <th>years</th>\n",
       "      <th>region_Asia</th>\n",
       "      <th>region_Central Asia</th>\n",
       "      <th>region_Europe</th>\n",
       "      <th>region_Mid-Cent America/Caribbean</th>\n",
       "      <th>region_Middle East</th>\n",
       "      <th>region_North America</th>\n",
       "      <th>region_Oceania</th>\n",
       "      <th>region_Russian Federation</th>\n",
       "      <th>region_South America</th>\n",
       "      <th>region_South East Asia</th>\n",
       "      <th>prior_region_Asia</th>\n",
       "      <th>prior_region_Central Asia</th>\n",
       "      <th>prior_region_Europe</th>\n",
       "      <th>prior_region_Mid-Cent America/Caribbean</th>\n",
       "      <th>prior_region_Middle East</th>\n",
       "      <th>prior_region_No Prior Region</th>\n",
       "      <th>prior_region_North America</th>\n",
       "      <th>prior_region_Oceania</th>\n",
       "      <th>prior_region_Russian Federation</th>\n",
       "      <th>prior_region_South America</th>\n",
       "      <th>prior_region_South East Asia</th>\n",
       "      <th>known_for_arts</th>\n",
       "      <th>known_for_business_farming</th>\n",
       "      <th>known_for_crime</th>\n",
       "      <th>known_for_law_enf_military_operator</th>\n",
       "      <th>known_for_politics_govt_law</th>\n",
       "      <th>known_for_sciences</th>\n",
       "      <th>known_for_social</th>\n",
       "      <th>known_for_spiritual</th>\n",
       "      <th>known_for_sports</th>\n",
       "      <th>known_for_three_to_five</th>\n",
       "      <th>known_for_two</th>\n",
       "    </tr>\n",
       "  </thead>\n",
       "  <tbody>\n",
       "    <tr>\n",
       "      <th>7948</th>\n",
       "      <td>38.0</td>\n",
       "      <td>25.0</td>\n",
       "      <td>0.0</td>\n",
       "      <td>0.0</td>\n",
       "      <td>1.0</td>\n",
       "      <td>0.0</td>\n",
       "      <td>0.0</td>\n",
       "      <td>0.0</td>\n",
       "      <td>0.0</td>\n",
       "      <td>0.0</td>\n",
       "      <td>0.0</td>\n",
       "      <td>0.0</td>\n",
       "      <td>0.0</td>\n",
       "      <td>0.0</td>\n",
       "      <td>0.0</td>\n",
       "      <td>0.0</td>\n",
       "      <td>0.0</td>\n",
       "      <td>1.0</td>\n",
       "      <td>0.0</td>\n",
       "      <td>0.0</td>\n",
       "      <td>0.0</td>\n",
       "      <td>0.0</td>\n",
       "      <td>0.0</td>\n",
       "      <td>0.0</td>\n",
       "      <td>0.0</td>\n",
       "      <td>0.0</td>\n",
       "      <td>0.0</td>\n",
       "      <td>0.0</td>\n",
       "      <td>0.0</td>\n",
       "      <td>0.0</td>\n",
       "      <td>0.0</td>\n",
       "      <td>1.0</td>\n",
       "      <td>0.0</td>\n",
       "      <td>0.0</td>\n",
       "    </tr>\n",
       "  </tbody>\n",
       "</table>\n",
       "</div>"
      ],
      "text/plain": [
       "      num_references  years  region_Asia  region_Central Asia  region_Europe  \\\n",
       "7948            38.0   25.0          0.0                  0.0            1.0   \n",
       "\n",
       "      region_Mid-Cent America/Caribbean  region_Middle East  \\\n",
       "7948                                0.0                 0.0   \n",
       "\n",
       "      region_North America  region_Oceania  region_Russian Federation  \\\n",
       "7948                   0.0             0.0                        0.0   \n",
       "\n",
       "      region_South America  region_South East Asia  prior_region_Asia  \\\n",
       "7948                   0.0                     0.0                0.0   \n",
       "\n",
       "      prior_region_Central Asia  prior_region_Europe  \\\n",
       "7948                        0.0                  0.0   \n",
       "\n",
       "      prior_region_Mid-Cent America/Caribbean  prior_region_Middle East  \\\n",
       "7948                                      0.0                       0.0   \n",
       "\n",
       "      prior_region_No Prior Region  prior_region_North America  \\\n",
       "7948                           1.0                         0.0   \n",
       "\n",
       "      prior_region_Oceania  prior_region_Russian Federation  \\\n",
       "7948                   0.0                              0.0   \n",
       "\n",
       "      prior_region_South America  prior_region_South East Asia  \\\n",
       "7948                         0.0                           0.0   \n",
       "\n",
       "      known_for_arts  known_for_business_farming  known_for_crime  \\\n",
       "7948             0.0                         0.0              0.0   \n",
       "\n",
       "      known_for_law_enf_military_operator  known_for_politics_govt_law  \\\n",
       "7948                                  0.0                          0.0   \n",
       "\n",
       "      known_for_sciences  known_for_social  known_for_spiritual  \\\n",
       "7948                 0.0               0.0                  0.0   \n",
       "\n",
       "      known_for_sports  known_for_three_to_five  known_for_two  \n",
       "7948               1.0                      0.0            0.0  "
      ]
     },
     "execution_count": 7,
     "metadata": {},
     "output_type": "execute_result"
    },
    {
     "data": {
      "application/javascript": [
       "\n",
       "            setTimeout(function() {\n",
       "                var nbb_cell_id = 7;\n",
       "                var nbb_unformatted_code = \"# Creating list of predictor columns\\npredictor_cols = [\\n    \\\"num_references\\\",\\n    \\\"years\\\",\\n    \\\"region\\\",\\n    \\\"prior_region\\\",\\n    \\\"known_for\\\",\\n]\\n\\n# Defining target column\\ntarget = \\\"age\\\"\\n\\n# Defining independent and dependent variables\\nX = df[predictor_cols]\\ny = df[target]\\n\\n# One hot encoding of categorical predictors and typecasting all predictors as float\\nX = pd.get_dummies(X, drop_first=True).astype(\\\"float64\\\")\\n\\n# Splitting into 70:30 train and validation sets\\nX_train, X_val, y_train, y_val = train_test_split(X, y, test_size=0.3, random_state=42)\\n\\n# Checking shape of train and validation sets\\nprint(\\n    f\\\"There are {X_train.shape[0]} rows and {X_train.shape[1]} columns in the train set.\\\\n\\\"\\n)\\nprint(\\n    f\\\"There are {X_val.shape[0]} rows and {X_val.shape[1]} columns in the validation set.\\\\n\\\"\\n)\\n\\n# Checking a sample\\nX_train.sample()\";\n",
       "                var nbb_formatted_code = \"# Creating list of predictor columns\\npredictor_cols = [\\n    \\\"num_references\\\",\\n    \\\"years\\\",\\n    \\\"region\\\",\\n    \\\"prior_region\\\",\\n    \\\"known_for\\\",\\n]\\n\\n# Defining target column\\ntarget = \\\"age\\\"\\n\\n# Defining independent and dependent variables\\nX = df[predictor_cols]\\ny = df[target]\\n\\n# One hot encoding of categorical predictors and typecasting all predictors as float\\nX = pd.get_dummies(X, drop_first=True).astype(\\\"float64\\\")\\n\\n# Splitting into 70:30 train and validation sets\\nX_train, X_val, y_train, y_val = train_test_split(X, y, test_size=0.3, random_state=42)\\n\\n# Checking shape of train and validation sets\\nprint(\\n    f\\\"There are {X_train.shape[0]} rows and {X_train.shape[1]} columns in the train set.\\\\n\\\"\\n)\\nprint(\\n    f\\\"There are {X_val.shape[0]} rows and {X_val.shape[1]} columns in the validation set.\\\\n\\\"\\n)\\n\\n# Checking a sample\\nX_train.sample()\";\n",
       "                var nbb_cells = Jupyter.notebook.get_cells();\n",
       "                for (var i = 0; i < nbb_cells.length; ++i) {\n",
       "                    if (nbb_cells[i].input_prompt_number == nbb_cell_id) {\n",
       "                        if (nbb_cells[i].get_text() == nbb_unformatted_code) {\n",
       "                             nbb_cells[i].set_text(nbb_formatted_code);\n",
       "                        }\n",
       "                        break;\n",
       "                    }\n",
       "                }\n",
       "            }, 500);\n",
       "            "
      ],
      "text/plain": [
       "<IPython.core.display.Javascript object>"
      ]
     },
     "metadata": {},
     "output_type": "display_data"
    }
   ],
   "source": [
    "# Creating list of predictor columns\n",
    "predictor_cols = [\n",
    "    \"num_references\",\n",
    "    \"years\",\n",
    "    \"region\",\n",
    "    \"prior_region\",\n",
    "    \"known_for\",\n",
    "]\n",
    "\n",
    "# Defining target column\n",
    "target = \"age\"\n",
    "\n",
    "# Defining independent and dependent variables\n",
    "X = df[predictor_cols]\n",
    "y = df[target]\n",
    "\n",
    "# One hot encoding of categorical predictors and typecasting all predictors as float\n",
    "X = pd.get_dummies(X, drop_first=True).astype(\"float64\")\n",
    "\n",
    "# Splitting into 70:30 train and validation sets\n",
    "X_train, X_val, y_train, y_val = train_test_split(X, y, test_size=0.3, random_state=42)\n",
    "\n",
    "# Checking shape of train and validation sets\n",
    "print(\n",
    "    f\"There are {X_train.shape[0]} rows and {X_train.shape[1]} columns in the train set.\\n\"\n",
    ")\n",
    "print(\n",
    "    f\"There are {X_val.shape[0]} rows and {X_val.shape[1]} columns in the validation set.\\n\"\n",
    ")\n",
    "\n",
    "# Checking a sample\n",
    "X_train.sample()"
   ]
  },
  {
   "cell_type": "markdown",
   "id": "318bcc3d",
   "metadata": {},
   "source": [
    "## Model Building\n",
    "#### Model Evaluation Criterion\n",
    "The predictions made by the regressors will have the following performance metrics:\n",
    "- RMSE\n",
    "- MAE\n",
    "- R$^2$\n",
    "- Ajusted R$^2$\n",
    "- MAPE\n",
    "\n",
    "#### Which Metric to Optimize?\n",
    "- For hyperparameter tuning, we will optimize R$^2$, which is the proportion of variation in the target that is explained by the predictors.  \n",
    "\n",
    "- To select the champion model, will compare Adjusted R$^2$.  It is the metric that represents the amount of variation in the target that is explained by the predictors, with a penalty for more predictors.  The number of included predictors may vary between algorithms, especially as we are building including examples of decion tree regressors.  R$^2$ will improve with the addition of predictors, even if they contribute very little to the model, whereas, the penalty in Adjusted R$^2$ offsets such an increase."
   ]
  },
  {
   "cell_type": "markdown",
   "id": "5bdb1386",
   "metadata": {},
   "source": [
    "#### Functions for Checking and Tuning Model Performance"
   ]
  },
  {
   "cell_type": "code",
   "execution_count": 8,
   "id": "e40e3f27",
   "metadata": {},
   "outputs": [
    {
     "data": {
      "application/javascript": [
       "\n",
       "            setTimeout(function() {\n",
       "                var nbb_cell_id = 8;\n",
       "                var nbb_unformatted_code = \"# Function to compute adjusted R-squared\\ndef adj_r2_score(predictors, targets, predictions):\\n    r2 = r2_score(targets, predictions)\\n    n = predictors.shape[0]\\n    k = predictors.shape[1]\\n    return 1 - ((1 - r2) * (n - 1) / (n - k - 1))\\n\\n\\n# Function to compute MAPE\\ndef mape_score(targets, predictions):\\n    return np.mean(np.abs((targets - predictions) / targets)) * 100\\n\\n\\n# Function to compute and display different metrics to check performance of a regression model\\ndef model_performance_regression(model, predictors, target):\\n    \\\"\\\"\\\"\\n    Function to compute and return a dataframe of different metrics to check\\n    regression model performance\\n    \\n    model: regressor\\n    predictors: independent variables\\n    target: dependent variable\\n    \\\"\\\"\\\"\\n    # Predictions\\n    pred = model.predict(predictors)\\n\\n    r2 = r2_score(target, pred)  # To compute R-squared\\n    adjr2 = adj_r2_score(predictors, target, pred)  # To compute adjusted R-squared\\n    rmse = np.sqrt(mean_squared_error(target, pred))  # To compute RMSE\\n    mae = mean_absolute_error(target, pred)  # To compute MAE\\n    mape = mape_score(target, pred)  # To compute MAPE\\n\\n    # Creating a dataframe of metrics\\n    df_perf = pd.DataFrame(\\n        {\\n            \\\"RMSE\\\": rmse,\\n            \\\"MAE\\\": mae,\\n            \\\"R-squared\\\": r2,\\n            \\\"Adj. R-squared\\\": adjr2,\\n            \\\"MAPE\\\": mape,\\n        },\\n        index=[0],\\n    )\\n\\n    return df_perf\";\n",
       "                var nbb_formatted_code = \"# Function to compute adjusted R-squared\\ndef adj_r2_score(predictors, targets, predictions):\\n    r2 = r2_score(targets, predictions)\\n    n = predictors.shape[0]\\n    k = predictors.shape[1]\\n    return 1 - ((1 - r2) * (n - 1) / (n - k - 1))\\n\\n\\n# Function to compute MAPE\\ndef mape_score(targets, predictions):\\n    return np.mean(np.abs((targets - predictions) / targets)) * 100\\n\\n\\n# Function to compute and display different metrics to check performance of a regression model\\ndef model_performance_regression(model, predictors, target):\\n    \\\"\\\"\\\"\\n    Function to compute and return a dataframe of different metrics to check\\n    regression model performance\\n    \\n    model: regressor\\n    predictors: independent variables\\n    target: dependent variable\\n    \\\"\\\"\\\"\\n    # Predictions\\n    pred = model.predict(predictors)\\n\\n    r2 = r2_score(target, pred)  # To compute R-squared\\n    adjr2 = adj_r2_score(predictors, target, pred)  # To compute adjusted R-squared\\n    rmse = np.sqrt(mean_squared_error(target, pred))  # To compute RMSE\\n    mae = mean_absolute_error(target, pred)  # To compute MAE\\n    mape = mape_score(target, pred)  # To compute MAPE\\n\\n    # Creating a dataframe of metrics\\n    df_perf = pd.DataFrame(\\n        {\\n            \\\"RMSE\\\": rmse,\\n            \\\"MAE\\\": mae,\\n            \\\"R-squared\\\": r2,\\n            \\\"Adj. R-squared\\\": adjr2,\\n            \\\"MAPE\\\": mape,\\n        },\\n        index=[0],\\n    )\\n\\n    return df_perf\";\n",
       "                var nbb_cells = Jupyter.notebook.get_cells();\n",
       "                for (var i = 0; i < nbb_cells.length; ++i) {\n",
       "                    if (nbb_cells[i].input_prompt_number == nbb_cell_id) {\n",
       "                        if (nbb_cells[i].get_text() == nbb_unformatted_code) {\n",
       "                             nbb_cells[i].set_text(nbb_formatted_code);\n",
       "                        }\n",
       "                        break;\n",
       "                    }\n",
       "                }\n",
       "            }, 500);\n",
       "            "
      ],
      "text/plain": [
       "<IPython.core.display.Javascript object>"
      ]
     },
     "metadata": {},
     "output_type": "display_data"
    }
   ],
   "source": [
    "# Function to compute adjusted R-squared\n",
    "def adj_r2_score(predictors, targets, predictions):\n",
    "    r2 = r2_score(targets, predictions)\n",
    "    n = predictors.shape[0]\n",
    "    k = predictors.shape[1]\n",
    "    return 1 - ((1 - r2) * (n - 1) / (n - k - 1))\n",
    "\n",
    "\n",
    "# Function to compute MAPE\n",
    "def mape_score(targets, predictions):\n",
    "    return np.mean(np.abs((targets - predictions) / targets)) * 100\n",
    "\n",
    "\n",
    "# Function to compute and display different metrics to check performance of a regression model\n",
    "def model_performance_regression(model, predictors, target):\n",
    "    \"\"\"\n",
    "    Function to compute and return a dataframe of different metrics to check\n",
    "    regression model performance\n",
    "    \n",
    "    model: regressor\n",
    "    predictors: independent variables\n",
    "    target: dependent variable\n",
    "    \"\"\"\n",
    "    # Predictions\n",
    "    pred = model.predict(predictors)\n",
    "\n",
    "    r2 = r2_score(target, pred)  # To compute R-squared\n",
    "    adjr2 = adj_r2_score(predictors, target, pred)  # To compute adjusted R-squared\n",
    "    rmse = np.sqrt(mean_squared_error(target, pred))  # To compute RMSE\n",
    "    mae = mean_absolute_error(target, pred)  # To compute MAE\n",
    "    mape = mape_score(target, pred)  # To compute MAPE\n",
    "\n",
    "    # Creating a dataframe of metrics\n",
    "    df_perf = pd.DataFrame(\n",
    "        {\n",
    "            \"RMSE\": rmse,\n",
    "            \"MAE\": mae,\n",
    "            \"R-squared\": r2,\n",
    "            \"Adj. R-squared\": adjr2,\n",
    "            \"MAPE\": mape,\n",
    "        },\n",
    "        index=[0],\n",
    "    )\n",
    "\n",
    "    return df_perf"
   ]
  },
  {
   "cell_type": "markdown",
   "id": "2cc98943",
   "metadata": {},
   "source": [
    "#### Defining Scorer for Cross-validation and Hyperparameter Tuning"
   ]
  },
  {
   "cell_type": "code",
   "execution_count": 9,
   "id": "ea396d00",
   "metadata": {},
   "outputs": [
    {
     "data": {
      "application/javascript": [
       "\n",
       "            setTimeout(function() {\n",
       "                var nbb_cell_id = 9;\n",
       "                var nbb_unformatted_code = \"# Type of scoring used to compare parameter combinations--maximizing Adj R-squared\\nscorer = \\\"r2\\\"\";\n",
       "                var nbb_formatted_code = \"# Type of scoring used to compare parameter combinations--maximizing Adj R-squared\\nscorer = \\\"r2\\\"\";\n",
       "                var nbb_cells = Jupyter.notebook.get_cells();\n",
       "                for (var i = 0; i < nbb_cells.length; ++i) {\n",
       "                    if (nbb_cells[i].input_prompt_number == nbb_cell_id) {\n",
       "                        if (nbb_cells[i].get_text() == nbb_unformatted_code) {\n",
       "                             nbb_cells[i].set_text(nbb_formatted_code);\n",
       "                        }\n",
       "                        break;\n",
       "                    }\n",
       "                }\n",
       "            }, 500);\n",
       "            "
      ],
      "text/plain": [
       "<IPython.core.display.Javascript object>"
      ]
     },
     "metadata": {},
     "output_type": "display_data"
    }
   ],
   "source": [
    "# Type of scoring used to compare parameter combinations--maximizing Adj R-squared\n",
    "scorer = \"r2\""
   ]
  },
  {
   "cell_type": "markdown",
   "id": "ef465812",
   "metadata": {},
   "source": [
    "### Building the Models"
   ]
  },
  {
   "cell_type": "code",
   "execution_count": 10,
   "id": "294e79f4",
   "metadata": {},
   "outputs": [
    {
     "name": "stdout",
     "output_type": "stream",
     "text": [
      "\n",
      "Cross-Validation:\n",
      "\n",
      "Dtree: -0.3729288388785845\n",
      "Random Forest: -0.06498999161620542\n",
      "Bagging Dtree: -0.09780574269930184\n",
      "GBM: 0.10092407348408765\n",
      "AdaBoost Dtree: -0.041942386214516916\n",
      "XGB_gbtree: 0.08816799208071073\n",
      "XGB_gblinear: 0.08269567222231555\n",
      "\n",
      "Validation Performance:\n",
      "\n",
      "Dtree: -0.3725798827812159\n",
      "Random Forest: -0.06593088660036917\n",
      "Bagging Dtree: -0.09925861808350978\n",
      "GBM: 0.10355465508610728\n",
      "AdaBoost Dtree: -0.05608653156428711\n",
      "XGB_gbtree: 0.09146574210948322\n",
      "XGB_gblinear: 0.08675545468855927\n",
      "CPU times: total: 3min 9s\n",
      "Wall time: 1min 5s\n"
     ]
    },
    {
     "data": {
      "application/javascript": [
       "\n",
       "            setTimeout(function() {\n",
       "                var nbb_cell_id = 10;\n",
       "                var nbb_unformatted_code = \"%%time\\n\\n# Creating list to store the models\\nmodels = []\\n\\n# Appending models to the list\\nmodels.append(('Dtree', DecisionTreeRegressor(random_state=42)))\\n\\nmodels.append(('Random Forest', RandomForestRegressor(random_state=42)))\\n\\nmodels.append(('Bagging Dtree', BaggingRegressor(random_state=42)))\\n\\nmodels.append(('GBM', GradientBoostingRegressor(random_state=42)))\\n\\nmodels.append(('AdaBoost Dtree', AdaBoostRegressor(random_state=42)))\\n\\nmodels.append(('XGB_gbtree', XGBRegressor(random_state=42)))\\n\\nmodels.append(('XGB_gblinear', XGBRegressor(random_state=42, booster='gblinear')))\\n\\n# Create empty list to store all model's names and CV scores\\nnames = []\\nresults = []\\n\\n# Loop through all models to get the mean cross validated score\\nprint(\\\"\\\\n\\\" \\\"Cross-Validation:\\\" \\\"\\\\n\\\")\\n\\nfor name, model in models:\\n    cv_result = cross_val_score(\\n        estimator=model, X=X_train, y=y_train, scoring=scorer, cv=5\\n    )\\n    results.append(cv_result)\\n    names.append(name)\\n    print(f\\\"{name}: {cv_result.mean()}\\\")\\n    \\nprint(\\\"\\\\n\\\" \\\"Validation Performance:\\\" \\\"\\\\n\\\")\\n\\nfor name, model in models:\\n    model.fit(X_train, y_train)\\n    scores = r2_score(y_val, model.predict(X_val))\\n    print(\\\"{}: {}\\\".format(name, scores))\";\n",
       "                var nbb_formatted_code = \"%%time\\n\\n# Creating list to store the models\\nmodels = []\\n\\n# Appending models to the list\\nmodels.append(('Dtree', DecisionTreeRegressor(random_state=42)))\\n\\nmodels.append(('Random Forest', RandomForestRegressor(random_state=42)))\\n\\nmodels.append(('Bagging Dtree', BaggingRegressor(random_state=42)))\\n\\nmodels.append(('GBM', GradientBoostingRegressor(random_state=42)))\\n\\nmodels.append(('AdaBoost Dtree', AdaBoostRegressor(random_state=42)))\\n\\nmodels.append(('XGB_gbtree', XGBRegressor(random_state=42)))\\n\\nmodels.append(('XGB_gblinear', XGBRegressor(random_state=42, booster='gblinear')))\\n\\n# Create empty list to store all model's names and CV scores\\nnames = []\\nresults = []\\n\\n# Loop through all models to get the mean cross validated score\\nprint(\\\"\\\\n\\\" \\\"Cross-Validation:\\\" \\\"\\\\n\\\")\\n\\nfor name, model in models:\\n    cv_result = cross_val_score(\\n        estimator=model, X=X_train, y=y_train, scoring=scorer, cv=5\\n    )\\n    results.append(cv_result)\\n    names.append(name)\\n    print(f\\\"{name}: {cv_result.mean()}\\\")\\n    \\nprint(\\\"\\\\n\\\" \\\"Validation Performance:\\\" \\\"\\\\n\\\")\\n\\nfor name, model in models:\\n    model.fit(X_train, y_train)\\n    scores = r2_score(y_val, model.predict(X_val))\\n    print(\\\"{}: {}\\\".format(name, scores))\";\n",
       "                var nbb_cells = Jupyter.notebook.get_cells();\n",
       "                for (var i = 0; i < nbb_cells.length; ++i) {\n",
       "                    if (nbb_cells[i].input_prompt_number == nbb_cell_id) {\n",
       "                        if (nbb_cells[i].get_text() == nbb_unformatted_code) {\n",
       "                             nbb_cells[i].set_text(nbb_formatted_code);\n",
       "                        }\n",
       "                        break;\n",
       "                    }\n",
       "                }\n",
       "            }, 500);\n",
       "            "
      ],
      "text/plain": [
       "<IPython.core.display.Javascript object>"
      ]
     },
     "metadata": {},
     "output_type": "display_data"
    }
   ],
   "source": [
    "%%time\n",
    "\n",
    "# Creating list to store the models\n",
    "models = []\n",
    "\n",
    "# Appending models to the list\n",
    "models.append(('Dtree', DecisionTreeRegressor(random_state=42)))\n",
    "\n",
    "models.append(('Random Forest', RandomForestRegressor(random_state=42)))\n",
    "\n",
    "models.append(('Bagging Dtree', BaggingRegressor(random_state=42)))\n",
    "\n",
    "models.append(('GBM', GradientBoostingRegressor(random_state=42)))\n",
    "\n",
    "models.append(('AdaBoost Dtree', AdaBoostRegressor(random_state=42)))\n",
    "\n",
    "models.append(('XGB_gbtree', XGBRegressor(random_state=42)))\n",
    "\n",
    "models.append(('XGB_gblinear', XGBRegressor(random_state=42, booster='gblinear')))\n",
    "\n",
    "# Create empty list to store all model's names and CV scores\n",
    "names = []\n",
    "results = []\n",
    "\n",
    "# Loop through all models to get the mean cross validated score\n",
    "print(\"\\n\" \"Cross-Validation:\" \"\\n\")\n",
    "\n",
    "for name, model in models:\n",
    "    cv_result = cross_val_score(\n",
    "        estimator=model, X=X_train, y=y_train, scoring=scorer, cv=5\n",
    "    )\n",
    "    results.append(cv_result)\n",
    "    names.append(name)\n",
    "    print(f\"{name}: {cv_result.mean()}\")\n",
    "    \n",
    "print(\"\\n\" \"Validation Performance:\" \"\\n\")\n",
    "\n",
    "for name, model in models:\n",
    "    model.fit(X_train, y_train)\n",
    "    scores = r2_score(y_val, model.predict(X_val))\n",
    "    print(\"{}: {}\".format(name, scores))"
   ]
  },
  {
   "cell_type": "code",
   "execution_count": 11,
   "id": "2f009f68",
   "metadata": {},
   "outputs": [
    {
     "data": {
      "image/png": "[encoded data removed]",
      "text/plain": [
       "<Figure size 1440x504 with 1 Axes>"
      ]
     },
     "metadata": {},
     "output_type": "display_data"
    },
    {
     "data": {
      "application/javascript": [
       "\n",
       "            setTimeout(function() {\n",
       "                var nbb_cell_id = 11;\n",
       "                var nbb_unformatted_code = \"# Plotting boxplots for CV scores of all models defined above\\nfig = plt.figure(figsize=(20, 7))\\n\\nfig.suptitle(\\\"Algorithm Comparison for Cross-validation R-squared Score\\\")\\nax = fig.add_subplot(111)\\n\\nplt.boxplot(results)\\nax.set_xticklabels(names)\\nplt.xticks(rotation=30)\\n\\nplt.show()\";\n",
       "                var nbb_formatted_code = \"# Plotting boxplots for CV scores of all models defined above\\nfig = plt.figure(figsize=(20, 7))\\n\\nfig.suptitle(\\\"Algorithm Comparison for Cross-validation R-squared Score\\\")\\nax = fig.add_subplot(111)\\n\\nplt.boxplot(results)\\nax.set_xticklabels(names)\\nplt.xticks(rotation=30)\\n\\nplt.show()\";\n",
       "                var nbb_cells = Jupyter.notebook.get_cells();\n",
       "                for (var i = 0; i < nbb_cells.length; ++i) {\n",
       "                    if (nbb_cells[i].input_prompt_number == nbb_cell_id) {\n",
       "                        if (nbb_cells[i].get_text() == nbb_unformatted_code) {\n",
       "                             nbb_cells[i].set_text(nbb_formatted_code);\n",
       "                        }\n",
       "                        break;\n",
       "                    }\n",
       "                }\n",
       "            }, 500);\n",
       "            "
      ],
      "text/plain": [
       "<IPython.core.display.Javascript object>"
      ]
     },
     "metadata": {},
     "output_type": "display_data"
    }
   ],
   "source": [
    "# Plotting boxplots for CV scores of all models defined above\n",
    "fig = plt.figure(figsize=(20, 7))\n",
    "\n",
    "fig.suptitle(\"Algorithm Comparison for Cross-validation R-squared Score\")\n",
    "ax = fig.add_subplot(111)\n",
    "\n",
    "plt.boxplot(results)\n",
    "ax.set_xticklabels(names)\n",
    "plt.xticks(rotation=30)\n",
    "\n",
    "plt.show()"
   ]
  },
  {
   "cell_type": "markdown",
   "id": "31587e35",
   "metadata": {},
   "source": [
    "#### Observations:\n",
    "- We have negative R$^2$ values for four of the models.  This means they are performing worse than a model that merely equates the predicted values to the constant mean value of the target.\n",
    "- The remaining three models, *GBM*, *XGB_gbtree*, and *XGB_gblinear* are giving generalized performances on train and validation sets, with similar, albeit very low, R$^2$ scores as [*olsmodel3*](https://github.com/teresahanak/wikipedia-life-expectancy/blob/main/wp_life_expect_olsmodel_thanak_2022_10_9.ipynb) (0.087).  Before hyperparameter tuning, *GBM* is outperforming the other models, including *olsmodel3*, with both train and validation R$^2$ scores of ~0.10.\n",
    "- We will perform hyperparameter tuning on the top 3 models.  Purely as an exercise we will also keep *Random Forest* in the mix."
   ]
  },
  {
   "cell_type": "markdown",
   "id": "e70e8a88",
   "metadata": {},
   "source": [
    "#### Collecting Models with Best Performance"
   ]
  },
  {
   "cell_type": "code",
   "execution_count": 12,
   "id": "d7591d99",
   "metadata": {},
   "outputs": [
    {
     "data": {
      "application/javascript": [
       "\n",
       "            setTimeout(function() {\n",
       "                var nbb_cell_id = 12;\n",
       "                var nbb_unformatted_code = \"# List of top models so far\\ntop_models = [models[1]] + [models[3]] + models[-2:]\";\n",
       "                var nbb_formatted_code = \"# List of top models so far\\ntop_models = [models[1]] + [models[3]] + models[-2:]\";\n",
       "                var nbb_cells = Jupyter.notebook.get_cells();\n",
       "                for (var i = 0; i < nbb_cells.length; ++i) {\n",
       "                    if (nbb_cells[i].input_prompt_number == nbb_cell_id) {\n",
       "                        if (nbb_cells[i].get_text() == nbb_unformatted_code) {\n",
       "                             nbb_cells[i].set_text(nbb_formatted_code);\n",
       "                        }\n",
       "                        break;\n",
       "                    }\n",
       "                }\n",
       "            }, 500);\n",
       "            "
      ],
      "text/plain": [
       "<IPython.core.display.Javascript object>"
      ]
     },
     "metadata": {},
     "output_type": "display_data"
    }
   ],
   "source": [
    "# List of top models so far\n",
    "top_models = [models[1]] + [models[3]] + models[-2:]"
   ]
  },
  {
   "cell_type": "markdown",
   "id": "a93e521f",
   "metadata": {},
   "source": [
    "#### Creating Dataframes to Compare Training and Validation Performance of Best Models"
   ]
  },
  {
   "cell_type": "code",
   "execution_count": 13,
   "id": "4d39e401",
   "metadata": {},
   "outputs": [
    {
     "data": {
      "application/javascript": [
       "\n",
       "            setTimeout(function() {\n",
       "                var nbb_cell_id = 13;\n",
       "                var nbb_unformatted_code = \"# Creating empty dictionary to hold the models\\nmodels_to_tune = {}\\n\\n# For loop to add models to dictionary\\nfor model in top_models:\\n    key = model[0]\\n    value = model[1]\\n    models_to_tune[key] = value\\n\\n# Initializing dataframes to compare performance of all models\\nmodels_train_comp_df = pd.DataFrame()\\nmodels_val_comp_df = pd.DataFrame()\\n\\n# For loop to add performance results of each top model\\nfor name, model in models_to_tune.items():\\n    models_train_comp_df[name] = model_performance_regression(model, X_train, y_train).T\\n    models_val_comp_df[name] = model_performance_regression(model, X_val, y_val).T\";\n",
       "                var nbb_formatted_code = \"# Creating empty dictionary to hold the models\\nmodels_to_tune = {}\\n\\n# For loop to add models to dictionary\\nfor model in top_models:\\n    key = model[0]\\n    value = model[1]\\n    models_to_tune[key] = value\\n\\n# Initializing dataframes to compare performance of all models\\nmodels_train_comp_df = pd.DataFrame()\\nmodels_val_comp_df = pd.DataFrame()\\n\\n# For loop to add performance results of each top model\\nfor name, model in models_to_tune.items():\\n    models_train_comp_df[name] = model_performance_regression(model, X_train, y_train).T\\n    models_val_comp_df[name] = model_performance_regression(model, X_val, y_val).T\";\n",
       "                var nbb_cells = Jupyter.notebook.get_cells();\n",
       "                for (var i = 0; i < nbb_cells.length; ++i) {\n",
       "                    if (nbb_cells[i].input_prompt_number == nbb_cell_id) {\n",
       "                        if (nbb_cells[i].get_text() == nbb_unformatted_code) {\n",
       "                             nbb_cells[i].set_text(nbb_formatted_code);\n",
       "                        }\n",
       "                        break;\n",
       "                    }\n",
       "                }\n",
       "            }, 500);\n",
       "            "
      ],
      "text/plain": [
       "<IPython.core.display.Javascript object>"
      ]
     },
     "metadata": {},
     "output_type": "display_data"
    }
   ],
   "source": [
    "# Creating empty dictionary to hold the models\n",
    "models_to_tune = {}\n",
    "\n",
    "# For loop to add models to dictionary\n",
    "for model in top_models:\n",
    "    key = model[0]\n",
    "    value = model[1]\n",
    "    models_to_tune[key] = value\n",
    "\n",
    "# Initializing dataframes to compare performance of all models\n",
    "models_train_comp_df = pd.DataFrame()\n",
    "models_val_comp_df = pd.DataFrame()\n",
    "\n",
    "# For loop to add performance results of each top model\n",
    "for name, model in models_to_tune.items():\n",
    "    models_train_comp_df[name] = model_performance_regression(model, X_train, y_train).T\n",
    "    models_val_comp_df[name] = model_performance_regression(model, X_val, y_val).T"
   ]
  },
  {
   "cell_type": "markdown",
   "id": "f9b06410",
   "metadata": {},
   "source": [
    "#### Comparing Top Models Before Hyperparameter Tuning"
   ]
  },
  {
   "cell_type": "code",
   "execution_count": 14,
   "id": "d7bcfe83",
   "metadata": {},
   "outputs": [
    {
     "name": "stdout",
     "output_type": "stream",
     "text": [
      "Training Performance:\n"
     ]
    },
    {
     "data": {
      "text/html": [
       "<div>\n",
       "<style scoped>\n",
       "    .dataframe tbody tr th:only-of-type {\n",
       "        vertical-align: middle;\n",
       "    }\n",
       "\n",
       "    .dataframe tbody tr th {\n",
       "        vertical-align: top;\n",
       "    }\n",
       "\n",
       "    .dataframe thead th {\n",
       "        text-align: right;\n",
       "    }\n",
       "</style>\n",
       "<table border=\"1\" class=\"dataframe\">\n",
       "  <thead>\n",
       "    <tr style=\"text-align: right;\">\n",
       "      <th></th>\n",
       "      <th>Random Forest</th>\n",
       "      <th>GBM</th>\n",
       "      <th>XGB_gbtree</th>\n",
       "      <th>XGB_gblinear</th>\n",
       "    </tr>\n",
       "  </thead>\n",
       "  <tbody>\n",
       "    <tr>\n",
       "      <th>RMSE</th>\n",
       "      <td>11.686697</td>\n",
       "      <td>14.971421</td>\n",
       "      <td>14.237993</td>\n",
       "      <td>15.177929</td>\n",
       "    </tr>\n",
       "    <tr>\n",
       "      <th>MAE</th>\n",
       "      <td>8.736482</td>\n",
       "      <td>11.627512</td>\n",
       "      <td>11.034927</td>\n",
       "      <td>11.790258</td>\n",
       "    </tr>\n",
       "    <tr>\n",
       "      <th>R-squared</th>\n",
       "      <td>0.456950</td>\n",
       "      <td>0.108786</td>\n",
       "      <td>0.193965</td>\n",
       "      <td>0.084030</td>\n",
       "    </tr>\n",
       "    <tr>\n",
       "      <th>Adj. R-squared</th>\n",
       "      <td>0.456610</td>\n",
       "      <td>0.108228</td>\n",
       "      <td>0.193461</td>\n",
       "      <td>0.083457</td>\n",
       "    </tr>\n",
       "    <tr>\n",
       "      <th>MAPE</th>\n",
       "      <td>13.944396</td>\n",
       "      <td>19.221156</td>\n",
       "      <td>18.032207</td>\n",
       "      <td>19.427922</td>\n",
       "    </tr>\n",
       "  </tbody>\n",
       "</table>\n",
       "</div>"
      ],
      "text/plain": [
       "                Random Forest        GBM  XGB_gbtree  XGB_gblinear\n",
       "RMSE                11.686697  14.971421   14.237993     15.177929\n",
       "MAE                  8.736482  11.627512   11.034927     11.790258\n",
       "R-squared            0.456950   0.108786    0.193965      0.084030\n",
       "Adj. R-squared       0.456610   0.108228    0.193461      0.083457\n",
       "MAPE                13.944396  19.221156   18.032207     19.427922"
      ]
     },
     "execution_count": 14,
     "metadata": {},
     "output_type": "execute_result"
    },
    {
     "data": {
      "application/javascript": [
       "\n",
       "            setTimeout(function() {\n",
       "                var nbb_cell_id = 14;\n",
       "                var nbb_unformatted_code = \"# Comparing train performance\\nprint(f\\\"Training Performance:\\\")\\nmodels_train_comp_df\";\n",
       "                var nbb_formatted_code = \"# Comparing train performance\\nprint(f\\\"Training Performance:\\\")\\nmodels_train_comp_df\";\n",
       "                var nbb_cells = Jupyter.notebook.get_cells();\n",
       "                for (var i = 0; i < nbb_cells.length; ++i) {\n",
       "                    if (nbb_cells[i].input_prompt_number == nbb_cell_id) {\n",
       "                        if (nbb_cells[i].get_text() == nbb_unformatted_code) {\n",
       "                             nbb_cells[i].set_text(nbb_formatted_code);\n",
       "                        }\n",
       "                        break;\n",
       "                    }\n",
       "                }\n",
       "            }, 500);\n",
       "            "
      ],
      "text/plain": [
       "<IPython.core.display.Javascript object>"
      ]
     },
     "metadata": {},
     "output_type": "display_data"
    }
   ],
   "source": [
    "# Comparing train performance\n",
    "print(f\"Training Performance:\")\n",
    "models_train_comp_df"
   ]
  },
  {
   "cell_type": "code",
   "execution_count": 15,
   "id": "a67f0163",
   "metadata": {},
   "outputs": [
    {
     "name": "stdout",
     "output_type": "stream",
     "text": [
      "Validation Performance:\n"
     ]
    },
    {
     "data": {
      "text/html": [
       "<div>\n",
       "<style scoped>\n",
       "    .dataframe tbody tr th:only-of-type {\n",
       "        vertical-align: middle;\n",
       "    }\n",
       "\n",
       "    .dataframe tbody tr th {\n",
       "        vertical-align: top;\n",
       "    }\n",
       "\n",
       "    .dataframe thead th {\n",
       "        text-align: right;\n",
       "    }\n",
       "</style>\n",
       "<table border=\"1\" class=\"dataframe\">\n",
       "  <thead>\n",
       "    <tr style=\"text-align: right;\">\n",
       "      <th></th>\n",
       "      <th>Random Forest</th>\n",
       "      <th>GBM</th>\n",
       "      <th>XGB_gbtree</th>\n",
       "      <th>XGB_gblinear</th>\n",
       "    </tr>\n",
       "  </thead>\n",
       "  <tbody>\n",
       "    <tr>\n",
       "      <th>RMSE</th>\n",
       "      <td>16.271584</td>\n",
       "      <td>14.922006</td>\n",
       "      <td>15.022284</td>\n",
       "      <td>15.061175</td>\n",
       "    </tr>\n",
       "    <tr>\n",
       "      <th>MAE</th>\n",
       "      <td>12.558769</td>\n",
       "      <td>11.580272</td>\n",
       "      <td>11.632590</td>\n",
       "      <td>11.702807</td>\n",
       "    </tr>\n",
       "    <tr>\n",
       "      <th>R-squared</th>\n",
       "      <td>-0.065931</td>\n",
       "      <td>0.103555</td>\n",
       "      <td>0.091466</td>\n",
       "      <td>0.086755</td>\n",
       "    </tr>\n",
       "    <tr>\n",
       "      <th>Adj. R-squared</th>\n",
       "      <td>-0.067489</td>\n",
       "      <td>0.102244</td>\n",
       "      <td>0.090137</td>\n",
       "      <td>0.085420</td>\n",
       "    </tr>\n",
       "    <tr>\n",
       "      <th>MAPE</th>\n",
       "      <td>20.193462</td>\n",
       "      <td>19.051063</td>\n",
       "      <td>19.008358</td>\n",
       "      <td>19.184454</td>\n",
       "    </tr>\n",
       "  </tbody>\n",
       "</table>\n",
       "</div>"
      ],
      "text/plain": [
       "                Random Forest        GBM  XGB_gbtree  XGB_gblinear\n",
       "RMSE                16.271584  14.922006   15.022284     15.061175\n",
       "MAE                 12.558769  11.580272   11.632590     11.702807\n",
       "R-squared           -0.065931   0.103555    0.091466      0.086755\n",
       "Adj. R-squared      -0.067489   0.102244    0.090137      0.085420\n",
       "MAPE                20.193462  19.051063   19.008358     19.184454"
      ]
     },
     "execution_count": 15,
     "metadata": {},
     "output_type": "execute_result"
    },
    {
     "data": {
      "application/javascript": [
       "\n",
       "            setTimeout(function() {\n",
       "                var nbb_cell_id = 15;\n",
       "                var nbb_unformatted_code = \"# Comparing validation performance\\nprint(f\\\"Validation Performance:\\\")\\nmodels_val_comp_df\";\n",
       "                var nbb_formatted_code = \"# Comparing validation performance\\nprint(f\\\"Validation Performance:\\\")\\nmodels_val_comp_df\";\n",
       "                var nbb_cells = Jupyter.notebook.get_cells();\n",
       "                for (var i = 0; i < nbb_cells.length; ++i) {\n",
       "                    if (nbb_cells[i].input_prompt_number == nbb_cell_id) {\n",
       "                        if (nbb_cells[i].get_text() == nbb_unformatted_code) {\n",
       "                             nbb_cells[i].set_text(nbb_formatted_code);\n",
       "                        }\n",
       "                        break;\n",
       "                    }\n",
       "                }\n",
       "            }, 500);\n",
       "            "
      ],
      "text/plain": [
       "<IPython.core.display.Javascript object>"
      ]
     },
     "metadata": {},
     "output_type": "display_data"
    }
   ],
   "source": [
    "# Comparing validation performance\n",
    "print(f\"Validation Performance:\")\n",
    "models_val_comp_df"
   ]
  },
  {
   "cell_type": "markdown",
   "id": "6ec420b4",
   "metadata": {},
   "source": [
    "#### Observations:\n",
    "- Here, we compare the performance on the whole train set to the validation set.\n",
    "- Only *GBM* and *XGB_gblinear* are giving generalized performances on the two sets.\n",
    "- These two are performing on par or slightly better than [*olsmodel3*](https://github.com/teresahanak/wikipedia-life-expectancy/blob/main/wp_life_expect_olsmodel_thanak_2022_10_9.ipynb), our linear regression model, for all metrics.\n",
    "- We will see if hyperparameter tuning improves their performance, again keeping *Random Forest* and *XGB_gbtree* in the mix for demonstration and comparison."
   ]
  },
  {
   "cell_type": "markdown",
   "id": "c25b1cfa",
   "metadata": {},
   "source": [
    "## Hyperparameter Tuning"
   ]
  },
  {
   "cell_type": "markdown",
   "id": "cea25fe9",
   "metadata": {},
   "source": [
    "### *Random Forest Tuned*"
   ]
  },
  {
   "cell_type": "code",
   "execution_count": 16,
   "id": "6e1581b0",
   "metadata": {},
   "outputs": [
    {
     "data": {
      "text/plain": [
       "RandomForestRegressor(random_state=42)"
      ]
     },
     "execution_count": 16,
     "metadata": {},
     "output_type": "execute_result"
    },
    {
     "data": {
      "application/javascript": [
       "\n",
       "            setTimeout(function() {\n",
       "                var nbb_cell_id = 16;\n",
       "                var nbb_unformatted_code = \"# Confirming the model\\nmodels_to_tune[\\\"Random Forest\\\"]\";\n",
       "                var nbb_formatted_code = \"# Confirming the model\\nmodels_to_tune[\\\"Random Forest\\\"]\";\n",
       "                var nbb_cells = Jupyter.notebook.get_cells();\n",
       "                for (var i = 0; i < nbb_cells.length; ++i) {\n",
       "                    if (nbb_cells[i].input_prompt_number == nbb_cell_id) {\n",
       "                        if (nbb_cells[i].get_text() == nbb_unformatted_code) {\n",
       "                             nbb_cells[i].set_text(nbb_formatted_code);\n",
       "                        }\n",
       "                        break;\n",
       "                    }\n",
       "                }\n",
       "            }, 500);\n",
       "            "
      ],
      "text/plain": [
       "<IPython.core.display.Javascript object>"
      ]
     },
     "metadata": {},
     "output_type": "display_data"
    }
   ],
   "source": [
    "# Confirming the model\n",
    "models_to_tune[\"Random Forest\"]"
   ]
  },
  {
   "cell_type": "code",
   "execution_count": 17,
   "id": "98b005d6",
   "metadata": {},
   "outputs": [
    {
     "name": "stderr",
     "output_type": "stream",
     "text": [
      "C:\\Users\\Teres\\anaconda3\\lib\\site-packages\\sklearn\\model_selection\\_validation.py:372: FitFailedWarning: \n",
      "5 fits failed out of a total of 50.\n",
      "The score on these train-test partitions for these parameters will be set to nan.\n",
      "If these failures are not expected, you can try to debug them by setting error_score='raise'.\n",
      "\n",
      "Below are more details about the failures:\n",
      "--------------------------------------------------------------------------------\n",
      "5 fits failed with the following error:\n",
      "Traceback (most recent call last):\n",
      "  File \"C:\\Users\\Teres\\anaconda3\\lib\\site-packages\\sklearn\\model_selection\\_validation.py\", line 680, in _fit_and_score\n",
      "    estimator.fit(X_train, y_train, **fit_params)\n",
      "  File \"C:\\Users\\Teres\\anaconda3\\lib\\site-packages\\sklearn\\ensemble\\_forest.py\", line 450, in fit\n",
      "    trees = Parallel(\n",
      "  File \"C:\\Users\\Teres\\anaconda3\\lib\\site-packages\\joblib\\parallel.py\", line 1043, in __call__\n",
      "    if self.dispatch_one_batch(iterator):\n",
      "  File \"C:\\Users\\Teres\\anaconda3\\lib\\site-packages\\joblib\\parallel.py\", line 861, in dispatch_one_batch\n",
      "    self._dispatch(tasks)\n",
      "  File \"C:\\Users\\Teres\\anaconda3\\lib\\site-packages\\joblib\\parallel.py\", line 779, in _dispatch\n",
      "    job = self._backend.apply_async(batch, callback=cb)\n",
      "  File \"C:\\Users\\Teres\\anaconda3\\lib\\site-packages\\joblib\\_parallel_backends.py\", line 208, in apply_async\n",
      "    result = ImmediateResult(func)\n",
      "  File \"C:\\Users\\Teres\\anaconda3\\lib\\site-packages\\joblib\\_parallel_backends.py\", line 572, in __init__\n",
      "    self.results = batch()\n",
      "  File \"C:\\Users\\Teres\\anaconda3\\lib\\site-packages\\joblib\\parallel.py\", line 262, in __call__\n",
      "    return [func(*args, **kwargs)\n",
      "  File \"C:\\Users\\Teres\\anaconda3\\lib\\site-packages\\joblib\\parallel.py\", line 262, in <listcomp>\n",
      "    return [func(*args, **kwargs)\n",
      "  File \"C:\\Users\\Teres\\anaconda3\\lib\\site-packages\\sklearn\\utils\\fixes.py\", line 216, in __call__\n",
      "    return self.function(*args, **kwargs)\n",
      "  File \"C:\\Users\\Teres\\anaconda3\\lib\\site-packages\\sklearn\\ensemble\\_forest.py\", line 185, in _parallel_build_trees\n",
      "    tree.fit(X, y, sample_weight=curr_sample_weight, check_input=False)\n",
      "  File \"C:\\Users\\Teres\\anaconda3\\lib\\site-packages\\sklearn\\tree\\_classes.py\", line 1315, in fit\n",
      "    super().fit(\n",
      "  File \"C:\\Users\\Teres\\anaconda3\\lib\\site-packages\\sklearn\\tree\\_classes.py\", line 241, in fit\n",
      "    if not 0.0 < self.min_samples_leaf <= 0.5:\n",
      "TypeError: '<' not supported between instances of 'float' and 'NoneType'\n",
      "\n",
      "  warnings.warn(some_fits_failed_message, FitFailedWarning)\n",
      "C:\\Users\\Teres\\anaconda3\\lib\\site-packages\\sklearn\\model_selection\\_search.py:969: UserWarning: One or more of the test scores are non-finite: [0.09803003 0.09738486 0.0968302  0.09849117 0.0438569  0.09959073\n",
      " 0.09967033 0.09943607        nan 0.08892088]\n",
      "  warnings.warn(\n"
     ]
    },
    {
     "name": "stdout",
     "output_type": "stream",
     "text": [
      "Best parameters are {'criterion': 'squared_error', 'max_depth': None, 'max_features': 'sqrt', 'max_samples': 0.3909124836035503, 'min_samples_leaf': 4, 'n_estimators': 260} with CV score=0.09967033141183923:\n",
      "CPU times: total: 3.14 s\n",
      "Wall time: 57.4 s\n"
     ]
    },
    {
     "data": {
      "application/javascript": [
       "\n",
       "            setTimeout(function() {\n",
       "                var nbb_cell_id = 17;\n",
       "                var nbb_unformatted_code = \"%%time\\n\\n# Defining model\\nModel = RandomForestRegressor(random_state=42)\\n\\n# Parameter grid to pass in RandomizedSearchCV\\nparam_grid = { \\n    \\\"n_estimators\\\": np.arange(100, 500), \\n    \\\"min_samples_leaf\\\": [None] + np.arange(1, 10).tolist(),\\n    \\\"max_features\\\": ['sqrt'], \\n    \\\"max_samples\\\": uniform(loc=0.3, scale=0.5),\\n    'criterion': ['squared_error'],\\n    \\\"max_depth\\\": [None]\\n}\\n\\n# Calling RandomizedSearchCV\\nrandomized_cv = RandomizedSearchCV(\\n    estimator=Model,\\n    param_distributions=param_grid,\\n    n_iter=10,\\n    n_jobs=-1,\\n    scoring=scorer,\\n    cv=5,\\n    random_state=42,\\n)\\n\\n# Fitting parameters in RandomizedSearchCV\\nrandomized_cv.fit(X_train, y_train)\\n\\nprint(\\n    \\\"Best parameters are {} with CV score={}:\\\".format(\\n        randomized_cv.best_params_, randomized_cv.best_score_\\n    )\\n)\\n\\n# Chime notification when cell successfully executes\\nchime.success()\";\n",
       "                var nbb_formatted_code = \"%%time\\n\\n# Defining model\\nModel = RandomForestRegressor(random_state=42)\\n\\n# Parameter grid to pass in RandomizedSearchCV\\nparam_grid = { \\n    \\\"n_estimators\\\": np.arange(100, 500), \\n    \\\"min_samples_leaf\\\": [None] + np.arange(1, 10).tolist(),\\n    \\\"max_features\\\": ['sqrt'], \\n    \\\"max_samples\\\": uniform(loc=0.3, scale=0.5),\\n    'criterion': ['squared_error'],\\n    \\\"max_depth\\\": [None]\\n}\\n\\n# Calling RandomizedSearchCV\\nrandomized_cv = RandomizedSearchCV(\\n    estimator=Model,\\n    param_distributions=param_grid,\\n    n_iter=10,\\n    n_jobs=-1,\\n    scoring=scorer,\\n    cv=5,\\n    random_state=42,\\n)\\n\\n# Fitting parameters in RandomizedSearchCV\\nrandomized_cv.fit(X_train, y_train)\\n\\nprint(\\n    \\\"Best parameters are {} with CV score={}:\\\".format(\\n        randomized_cv.best_params_, randomized_cv.best_score_\\n    )\\n)\\n\\n# Chime notification when cell successfully executes\\nchime.success()\";\n",
       "                var nbb_cells = Jupyter.notebook.get_cells();\n",
       "                for (var i = 0; i < nbb_cells.length; ++i) {\n",
       "                    if (nbb_cells[i].input_prompt_number == nbb_cell_id) {\n",
       "                        if (nbb_cells[i].get_text() == nbb_unformatted_code) {\n",
       "                             nbb_cells[i].set_text(nbb_formatted_code);\n",
       "                        }\n",
       "                        break;\n",
       "                    }\n",
       "                }\n",
       "            }, 500);\n",
       "            "
      ],
      "text/plain": [
       "<IPython.core.display.Javascript object>"
      ]
     },
     "metadata": {},
     "output_type": "display_data"
    }
   ],
   "source": [
    "%%time\n",
    "\n",
    "# Defining model\n",
    "Model = RandomForestRegressor(random_state=42)\n",
    "\n",
    "# Parameter grid to pass in RandomizedSearchCV\n",
    "param_grid = { \n",
    "    \"n_estimators\": np.arange(100, 500), \n",
    "    \"min_samples_leaf\": [None] + np.arange(1, 10).tolist(),\n",
    "    \"max_features\": ['sqrt'], \n",
    "    \"max_samples\": uniform(loc=0.3, scale=0.5),\n",
    "    'criterion': ['squared_error'],\n",
    "    \"max_depth\": [None]\n",
    "}\n",
    "\n",
    "# Calling RandomizedSearchCV\n",
    "randomized_cv = RandomizedSearchCV(\n",
    "    estimator=Model,\n",
    "    param_distributions=param_grid,\n",
    "    n_iter=10,\n",
    "    n_jobs=-1,\n",
    "    scoring=scorer,\n",
    "    cv=5,\n",
    "    random_state=42,\n",
    ")\n",
    "\n",
    "# Fitting parameters in RandomizedSearchCV\n",
    "randomized_cv.fit(X_train, y_train)\n",
    "\n",
    "print(\n",
    "    \"Best parameters are {} with CV score={}:\".format(\n",
    "        randomized_cv.best_params_, randomized_cv.best_score_\n",
    "    )\n",
    ")\n",
    "\n",
    "# Chime notification when cell successfully executes\n",
    "chime.success()"
   ]
  },
  {
   "cell_type": "code",
   "execution_count": 18,
   "id": "70b8ba4b",
   "metadata": {},
   "outputs": [
    {
     "data": {
      "text/plain": [
       "RandomForestRegressor(max_features='sqrt', max_samples=0.3909124836035503,\n",
       "                      min_samples_leaf=4, n_estimators=260)"
      ]
     },
     "execution_count": 18,
     "metadata": {},
     "output_type": "execute_result"
    },
    {
     "data": {
      "application/javascript": [
       "\n",
       "            setTimeout(function() {\n",
       "                var nbb_cell_id = 18;\n",
       "                var nbb_unformatted_code = \"# Building model with best parameters\\nRandom_Forest_tuned = RandomForestRegressor(\\n    criterion=\\\"squared_error\\\",\\n    max_depth=None,\\n    max_features=\\\"sqrt\\\",\\n    max_samples=0.3909124836035503,\\n    min_samples_leaf=4,\\n    n_estimators=260,\\n)\\n\\n# Fit the model on training data\\nRandom_Forest_tuned.fit(X_train, y_train)\";\n",
       "                var nbb_formatted_code = \"# Building model with best parameters\\nRandom_Forest_tuned = RandomForestRegressor(\\n    criterion=\\\"squared_error\\\",\\n    max_depth=None,\\n    max_features=\\\"sqrt\\\",\\n    max_samples=0.3909124836035503,\\n    min_samples_leaf=4,\\n    n_estimators=260,\\n)\\n\\n# Fit the model on training data\\nRandom_Forest_tuned.fit(X_train, y_train)\";\n",
       "                var nbb_cells = Jupyter.notebook.get_cells();\n",
       "                for (var i = 0; i < nbb_cells.length; ++i) {\n",
       "                    if (nbb_cells[i].input_prompt_number == nbb_cell_id) {\n",
       "                        if (nbb_cells[i].get_text() == nbb_unformatted_code) {\n",
       "                             nbb_cells[i].set_text(nbb_formatted_code);\n",
       "                        }\n",
       "                        break;\n",
       "                    }\n",
       "                }\n",
       "            }, 500);\n",
       "            "
      ],
      "text/plain": [
       "<IPython.core.display.Javascript object>"
      ]
     },
     "metadata": {},
     "output_type": "display_data"
    }
   ],
   "source": [
    "# Building model with best parameters\n",
    "Random_Forest_tuned = RandomForestRegressor(\n",
    "    criterion=\"squared_error\",\n",
    "    max_depth=None,\n",
    "    max_features=\"sqrt\",\n",
    "    max_samples=0.3909124836035503,\n",
    "    min_samples_leaf=4,\n",
    "    n_estimators=260,\n",
    ")\n",
    "\n",
    "# Fit the model on training data\n",
    "Random_Forest_tuned.fit(X_train, y_train)"
   ]
  },
  {
   "cell_type": "code",
   "execution_count": 19,
   "id": "4b02b1d1",
   "metadata": {},
   "outputs": [
    {
     "name": "stdout",
     "output_type": "stream",
     "text": [
      "Training performance:\n",
      "         RMSE        MAE  R-squared  Adj. R-squared       MAPE\n",
      "0  14.578171  11.324773   0.154989         0.15446  18.732126\n",
      "\n",
      "Validation performance:\n",
      "         RMSE       MAE  R-squared  Adj. R-squared       MAPE\n",
      "0  14.952656  11.60246   0.099868        0.098552  19.097816\n"
     ]
    },
    {
     "data": {
      "application/javascript": [
       "\n",
       "            setTimeout(function() {\n",
       "                var nbb_cell_id = 19;\n",
       "                var nbb_unformatted_code = \"# Calculating different metrics\\nRandom_Forest_tuned_train_perf = model_performance_regression(\\n    Random_Forest_tuned, X_train, y_train\\n)\\nprint(\\\"Training performance:\\\\n\\\", Random_Forest_tuned_train_perf)\\nRandom_Forest_tuned_val_perf = model_performance_regression(\\n    Random_Forest_tuned, X_val, y_val\\n)\\nprint(\\\"\\\\nValidation performance:\\\\n\\\", Random_Forest_tuned_val_perf)\\n\\n# Adding model to model comparison dataframes\\nmodels_train_comp_df[\\\"Random Forest Tuned\\\"] = Random_Forest_tuned_train_perf.T\\nmodels_val_comp_df[\\\"Random Forest Tuned\\\"] = Random_Forest_tuned_val_perf.T\";\n",
       "                var nbb_formatted_code = \"# Calculating different metrics\\nRandom_Forest_tuned_train_perf = model_performance_regression(\\n    Random_Forest_tuned, X_train, y_train\\n)\\nprint(\\\"Training performance:\\\\n\\\", Random_Forest_tuned_train_perf)\\nRandom_Forest_tuned_val_perf = model_performance_regression(\\n    Random_Forest_tuned, X_val, y_val\\n)\\nprint(\\\"\\\\nValidation performance:\\\\n\\\", Random_Forest_tuned_val_perf)\\n\\n# Adding model to model comparison dataframes\\nmodels_train_comp_df[\\\"Random Forest Tuned\\\"] = Random_Forest_tuned_train_perf.T\\nmodels_val_comp_df[\\\"Random Forest Tuned\\\"] = Random_Forest_tuned_val_perf.T\";\n",
       "                var nbb_cells = Jupyter.notebook.get_cells();\n",
       "                for (var i = 0; i < nbb_cells.length; ++i) {\n",
       "                    if (nbb_cells[i].input_prompt_number == nbb_cell_id) {\n",
       "                        if (nbb_cells[i].get_text() == nbb_unformatted_code) {\n",
       "                             nbb_cells[i].set_text(nbb_formatted_code);\n",
       "                        }\n",
       "                        break;\n",
       "                    }\n",
       "                }\n",
       "            }, 500);\n",
       "            "
      ],
      "text/plain": [
       "<IPython.core.display.Javascript object>"
      ]
     },
     "metadata": {},
     "output_type": "display_data"
    }
   ],
   "source": [
    "# Calculating different metrics\n",
    "Random_Forest_tuned_train_perf = model_performance_regression(\n",
    "    Random_Forest_tuned, X_train, y_train\n",
    ")\n",
    "print(\"Training performance:\\n\", Random_Forest_tuned_train_perf)\n",
    "Random_Forest_tuned_val_perf = model_performance_regression(\n",
    "    Random_Forest_tuned, X_val, y_val\n",
    ")\n",
    "print(\"\\nValidation performance:\\n\", Random_Forest_tuned_val_perf)\n",
    "\n",
    "# Adding model to model comparison dataframes\n",
    "models_train_comp_df[\"Random Forest Tuned\"] = Random_Forest_tuned_train_perf.T\n",
    "models_val_comp_df[\"Random Forest Tuned\"] = Random_Forest_tuned_val_perf.T"
   ]
  },
  {
   "cell_type": "markdown",
   "id": "6b37c92f",
   "metadata": {},
   "source": [
    "#### Observations:\n",
    "- Hyperparameter tuning improved performance for *Random Forest*.\n",
    "- The algorithm is still overfitting the train set, compared to the validation set.\n",
    "- Note that we had a 10% fit fail during cross-validation (\"UserWarning: One or more of the test scores are non-finite..\") indicating cross-validation had some folds for which hyperparameter combinations led to Nan values.  We are going to allow it here, and go with the results of the successful iterations."
   ]
  },
  {
   "cell_type": "markdown",
   "id": "208028f9",
   "metadata": {},
   "source": [
    "### *GBM Tuned*"
   ]
  },
  {
   "cell_type": "code",
   "execution_count": 20,
   "id": "59c48bf7",
   "metadata": {},
   "outputs": [
    {
     "data": {
      "text/plain": [
       "GradientBoostingRegressor(random_state=42)"
      ]
     },
     "execution_count": 20,
     "metadata": {},
     "output_type": "execute_result"
    },
    {
     "data": {
      "application/javascript": [
       "\n",
       "            setTimeout(function() {\n",
       "                var nbb_cell_id = 20;\n",
       "                var nbb_unformatted_code = \"# Confirming the model\\nmodels_to_tune[\\\"GBM\\\"]\";\n",
       "                var nbb_formatted_code = \"# Confirming the model\\nmodels_to_tune[\\\"GBM\\\"]\";\n",
       "                var nbb_cells = Jupyter.notebook.get_cells();\n",
       "                for (var i = 0; i < nbb_cells.length; ++i) {\n",
       "                    if (nbb_cells[i].input_prompt_number == nbb_cell_id) {\n",
       "                        if (nbb_cells[i].get_text() == nbb_unformatted_code) {\n",
       "                             nbb_cells[i].set_text(nbb_formatted_code);\n",
       "                        }\n",
       "                        break;\n",
       "                    }\n",
       "                }\n",
       "            }, 500);\n",
       "            "
      ],
      "text/plain": [
       "<IPython.core.display.Javascript object>"
      ]
     },
     "metadata": {},
     "output_type": "display_data"
    }
   ],
   "source": [
    "# Confirming the model\n",
    "models_to_tune[\"GBM\"]"
   ]
  },
  {
   "cell_type": "code",
   "execution_count": 21,
   "id": "47553f87",
   "metadata": {},
   "outputs": [
    {
     "name": "stdout",
     "output_type": "stream",
     "text": [
      "Best parameters are {'learning_rate': 0.08171272700715591, 'max_features': 0.6630456668613307, 'n_estimators': 368, 'subsample': 0.7847684335570795} with CV score=0.1063224214498147:\n",
      "CPU times: total: 12.8 s\n",
      "Wall time: 6min 31s\n"
     ]
    },
    {
     "data": {
      "application/javascript": [
       "\n",
       "            setTimeout(function() {\n",
       "                var nbb_cell_id = 21;\n",
       "                var nbb_unformatted_code = \"%%time\\n\\n# Defining model\\nModel = GradientBoostingRegressor(random_state=42)\\n\\n# Parameter grid to pass in RandomizedSearchCV\\nparam_grid = {\\n    \\\"n_estimators\\\": np.arange(100, 500),\\n    \\\"learning_rate\\\": loguniform(0.001, 1),\\n    \\\"subsample\\\": uniform(loc=0.3, scale=0.5),\\n    \\\"max_features\\\": uniform(loc=0.3, scale=0.5),\\n}\\n\\n# Calling RandomizedSearchCV\\nrandomized_cv = RandomizedSearchCV(\\n    estimator=Model,\\n    param_distributions=param_grid,\\n    n_iter=100,\\n    n_jobs=-1,\\n    scoring=scorer,\\n    cv=5,\\n    random_state=42,\\n)\\n\\n# Fitting parameters in RandomizedSearchCV\\nrandomized_cv.fit(X_train, y_train)\\n\\nprint(\\n    \\\"Best parameters are {} with CV score={}:\\\".format(\\n        randomized_cv.best_params_, randomized_cv.best_score_\\n    )\\n)\\n\\n# Chime notification when cell successfully executes\\nchime.success()\";\n",
       "                var nbb_formatted_code = \"%%time\\n\\n# Defining model\\nModel = GradientBoostingRegressor(random_state=42)\\n\\n# Parameter grid to pass in RandomizedSearchCV\\nparam_grid = {\\n    \\\"n_estimators\\\": np.arange(100, 500),\\n    \\\"learning_rate\\\": loguniform(0.001, 1),\\n    \\\"subsample\\\": uniform(loc=0.3, scale=0.5),\\n    \\\"max_features\\\": uniform(loc=0.3, scale=0.5),\\n}\\n\\n# Calling RandomizedSearchCV\\nrandomized_cv = RandomizedSearchCV(\\n    estimator=Model,\\n    param_distributions=param_grid,\\n    n_iter=100,\\n    n_jobs=-1,\\n    scoring=scorer,\\n    cv=5,\\n    random_state=42,\\n)\\n\\n# Fitting parameters in RandomizedSearchCV\\nrandomized_cv.fit(X_train, y_train)\\n\\nprint(\\n    \\\"Best parameters are {} with CV score={}:\\\".format(\\n        randomized_cv.best_params_, randomized_cv.best_score_\\n    )\\n)\\n\\n# Chime notification when cell successfully executes\\nchime.success()\";\n",
       "                var nbb_cells = Jupyter.notebook.get_cells();\n",
       "                for (var i = 0; i < nbb_cells.length; ++i) {\n",
       "                    if (nbb_cells[i].input_prompt_number == nbb_cell_id) {\n",
       "                        if (nbb_cells[i].get_text() == nbb_unformatted_code) {\n",
       "                             nbb_cells[i].set_text(nbb_formatted_code);\n",
       "                        }\n",
       "                        break;\n",
       "                    }\n",
       "                }\n",
       "            }, 500);\n",
       "            "
      ],
      "text/plain": [
       "<IPython.core.display.Javascript object>"
      ]
     },
     "metadata": {},
     "output_type": "display_data"
    }
   ],
   "source": [
    "%%time\n",
    "\n",
    "# Defining model\n",
    "Model = GradientBoostingRegressor(random_state=42)\n",
    "\n",
    "# Parameter grid to pass in RandomizedSearchCV\n",
    "param_grid = {\n",
    "    \"n_estimators\": np.arange(100, 500),\n",
    "    \"learning_rate\": loguniform(0.001, 1),\n",
    "    \"subsample\": uniform(loc=0.3, scale=0.5),\n",
    "    \"max_features\": uniform(loc=0.3, scale=0.5),\n",
    "}\n",
    "\n",
    "# Calling RandomizedSearchCV\n",
    "randomized_cv = RandomizedSearchCV(\n",
    "    estimator=Model,\n",
    "    param_distributions=param_grid,\n",
    "    n_iter=100,\n",
    "    n_jobs=-1,\n",
    "    scoring=scorer,\n",
    "    cv=5,\n",
    "    random_state=42,\n",
    ")\n",
    "\n",
    "# Fitting parameters in RandomizedSearchCV\n",
    "randomized_cv.fit(X_train, y_train)\n",
    "\n",
    "print(\n",
    "    \"Best parameters are {} with CV score={}:\".format(\n",
    "        randomized_cv.best_params_, randomized_cv.best_score_\n",
    "    )\n",
    ")\n",
    "\n",
    "# Chime notification when cell successfully executes\n",
    "chime.success()"
   ]
  },
  {
   "cell_type": "code",
   "execution_count": 22,
   "id": "6916dcf4",
   "metadata": {},
   "outputs": [
    {
     "data": {
      "text/plain": [
       "GradientBoostingRegressor(learning_rate=0.08171272700715591,\n",
       "                          max_features=0.6630456668613307, n_estimators=368,\n",
       "                          random_state=42, subsample=0.7847684335570795)"
      ]
     },
     "execution_count": 22,
     "metadata": {},
     "output_type": "execute_result"
    },
    {
     "data": {
      "application/javascript": [
       "\n",
       "            setTimeout(function() {\n",
       "                var nbb_cell_id = 22;\n",
       "                var nbb_unformatted_code = \"# Building model with best parameters\\nGBM_tuned = GradientBoostingRegressor(\\n    random_state=42,\\n    learning_rate=0.08171272700715591,\\n    max_features=0.6630456668613307,\\n    n_estimators=368,\\n    subsample=0.7847684335570795,\\n)\\n\\n# Fit the model on training data\\nGBM_tuned.fit(X_train, y_train)\";\n",
       "                var nbb_formatted_code = \"# Building model with best parameters\\nGBM_tuned = GradientBoostingRegressor(\\n    random_state=42,\\n    learning_rate=0.08171272700715591,\\n    max_features=0.6630456668613307,\\n    n_estimators=368,\\n    subsample=0.7847684335570795,\\n)\\n\\n# Fit the model on training data\\nGBM_tuned.fit(X_train, y_train)\";\n",
       "                var nbb_cells = Jupyter.notebook.get_cells();\n",
       "                for (var i = 0; i < nbb_cells.length; ++i) {\n",
       "                    if (nbb_cells[i].input_prompt_number == nbb_cell_id) {\n",
       "                        if (nbb_cells[i].get_text() == nbb_unformatted_code) {\n",
       "                             nbb_cells[i].set_text(nbb_formatted_code);\n",
       "                        }\n",
       "                        break;\n",
       "                    }\n",
       "                }\n",
       "            }, 500);\n",
       "            "
      ],
      "text/plain": [
       "<IPython.core.display.Javascript object>"
      ]
     },
     "metadata": {},
     "output_type": "display_data"
    }
   ],
   "source": [
    "# Building model with best parameters\n",
    "GBM_tuned = GradientBoostingRegressor(\n",
    "    random_state=42,\n",
    "    learning_rate=0.08171272700715591,\n",
    "    max_features=0.6630456668613307,\n",
    "    n_estimators=368,\n",
    "    subsample=0.7847684335570795,\n",
    ")\n",
    "\n",
    "# Fit the model on training data\n",
    "GBM_tuned.fit(X_train, y_train)"
   ]
  },
  {
   "cell_type": "code",
   "execution_count": 23,
   "id": "d47c87fc",
   "metadata": {},
   "outputs": [
    {
     "name": "stdout",
     "output_type": "stream",
     "text": [
      "Training performance:\n",
      "         RMSE        MAE  R-squared  Adj. R-squared       MAPE\n",
      "0  14.835035  11.521845   0.124949        0.124401  18.989296\n",
      "\n",
      "Validation performance:\n",
      "         RMSE        MAE  R-squared  Adj. R-squared       MAPE\n",
      "0  14.877704  11.542386    0.10887        0.107567  18.937928\n"
     ]
    },
    {
     "data": {
      "application/javascript": [
       "\n",
       "            setTimeout(function() {\n",
       "                var nbb_cell_id = 23;\n",
       "                var nbb_unformatted_code = \"# Calculating different metrics\\nGBM_tuned_train_perf = model_performance_regression(GBM_tuned, X_train, y_train)\\nprint(\\\"Training performance:\\\\n\\\", GBM_tuned_train_perf)\\nGBM_tuned_val_perf = model_performance_regression(GBM_tuned, X_val, y_val)\\nprint(\\\"\\\\nValidation performance:\\\\n\\\", GBM_tuned_val_perf)\\n\\n# Adding model to model comparison dataframes\\nmodels_train_comp_df[\\\"GBM Tuned\\\"] = GBM_tuned_train_perf.T\\nmodels_val_comp_df[\\\"GBM Tuned\\\"] = GBM_tuned_val_perf.T\";\n",
       "                var nbb_formatted_code = \"# Calculating different metrics\\nGBM_tuned_train_perf = model_performance_regression(GBM_tuned, X_train, y_train)\\nprint(\\\"Training performance:\\\\n\\\", GBM_tuned_train_perf)\\nGBM_tuned_val_perf = model_performance_regression(GBM_tuned, X_val, y_val)\\nprint(\\\"\\\\nValidation performance:\\\\n\\\", GBM_tuned_val_perf)\\n\\n# Adding model to model comparison dataframes\\nmodels_train_comp_df[\\\"GBM Tuned\\\"] = GBM_tuned_train_perf.T\\nmodels_val_comp_df[\\\"GBM Tuned\\\"] = GBM_tuned_val_perf.T\";\n",
       "                var nbb_cells = Jupyter.notebook.get_cells();\n",
       "                for (var i = 0; i < nbb_cells.length; ++i) {\n",
       "                    if (nbb_cells[i].input_prompt_number == nbb_cell_id) {\n",
       "                        if (nbb_cells[i].get_text() == nbb_unformatted_code) {\n",
       "                             nbb_cells[i].set_text(nbb_formatted_code);\n",
       "                        }\n",
       "                        break;\n",
       "                    }\n",
       "                }\n",
       "            }, 500);\n",
       "            "
      ],
      "text/plain": [
       "<IPython.core.display.Javascript object>"
      ]
     },
     "metadata": {},
     "output_type": "display_data"
    }
   ],
   "source": [
    "# Calculating different metrics\n",
    "GBM_tuned_train_perf = model_performance_regression(GBM_tuned, X_train, y_train)\n",
    "print(\"Training performance:\\n\", GBM_tuned_train_perf)\n",
    "GBM_tuned_val_perf = model_performance_regression(GBM_tuned, X_val, y_val)\n",
    "print(\"\\nValidation performance:\\n\", GBM_tuned_val_perf)\n",
    "\n",
    "# Adding model to model comparison dataframes\n",
    "models_train_comp_df[\"GBM Tuned\"] = GBM_tuned_train_perf.T\n",
    "models_val_comp_df[\"GBM Tuned\"] = GBM_tuned_val_perf.T"
   ]
  },
  {
   "cell_type": "markdown",
   "id": "e76f44e0",
   "metadata": {},
   "source": [
    "#### Observations:\n",
    "- The performance for *GBM* is improved with hyperparameter tuning.  \n",
    "- There is a slight increase in overfitting, but the validation metrics are better."
   ]
  },
  {
   "cell_type": "markdown",
   "id": "d345d350",
   "metadata": {},
   "source": [
    "### *XGB_gbtree Tuned*"
   ]
  },
  {
   "cell_type": "code",
   "execution_count": 24,
   "id": "8a847975",
   "metadata": {},
   "outputs": [
    {
     "data": {
      "text/plain": [
       "XGBRegressor(base_score=0.5, booster='gbtree', callbacks=None,\n",
       "             colsample_bylevel=1, colsample_bynode=1, colsample_bytree=1,\n",
       "             early_stopping_rounds=None, enable_categorical=False,\n",
       "             eval_metric=None, gamma=0, gpu_id=-1, grow_policy='depthwise',\n",
       "             importance_type=None, interaction_constraints='',\n",
       "             learning_rate=0.300000012, max_bin=256, max_cat_to_onehot=4,\n",
       "             max_delta_step=0, max_depth=6, max_leaves=0, min_child_weight=1,\n",
       "             missing=nan, monotone_constraints='()', n_estimators=100, n_jobs=0,\n",
       "             num_parallel_tree=1, predictor='auto', random_state=42,\n",
       "             reg_alpha=0, reg_lambda=1, ...)"
      ]
     },
     "execution_count": 24,
     "metadata": {},
     "output_type": "execute_result"
    },
    {
     "data": {
      "application/javascript": [
       "\n",
       "            setTimeout(function() {\n",
       "                var nbb_cell_id = 24;\n",
       "                var nbb_unformatted_code = \"# Confirming the model\\nmodels_to_tune[\\\"XGB_gbtree\\\"]\";\n",
       "                var nbb_formatted_code = \"# Confirming the model\\nmodels_to_tune[\\\"XGB_gbtree\\\"]\";\n",
       "                var nbb_cells = Jupyter.notebook.get_cells();\n",
       "                for (var i = 0; i < nbb_cells.length; ++i) {\n",
       "                    if (nbb_cells[i].input_prompt_number == nbb_cell_id) {\n",
       "                        if (nbb_cells[i].get_text() == nbb_unformatted_code) {\n",
       "                             nbb_cells[i].set_text(nbb_formatted_code);\n",
       "                        }\n",
       "                        break;\n",
       "                    }\n",
       "                }\n",
       "            }, 500);\n",
       "            "
      ],
      "text/plain": [
       "<IPython.core.display.Javascript object>"
      ]
     },
     "metadata": {},
     "output_type": "display_data"
    }
   ],
   "source": [
    "# Confirming the model\n",
    "models_to_tune[\"XGB_gbtree\"]"
   ]
  },
  {
   "cell_type": "code",
   "execution_count": 25,
   "id": "06dbfd3d",
   "metadata": {},
   "outputs": [
    {
     "name": "stdout",
     "output_type": "stream",
     "text": [
      "Best parameters are {'colsample_bytree': 0.42649508399462055, 'gamma': 1.188792356281234, 'learning_rate': 0.12263036412693079, 'max_depth': 3, 'n_estimators': 404, 'subsample': 0.7391497377969234} with CV score=0.10679644601394585:\n",
      "CPU times: total: 1min 9s\n",
      "Wall time: 20min 49s\n"
     ]
    },
    {
     "data": {
      "application/javascript": [
       "\n",
       "            setTimeout(function() {\n",
       "                var nbb_cell_id = 25;\n",
       "                var nbb_unformatted_code = \"%%time\\n\\n# Defining model\\nModel = XGBRegressor(random_state=42, booster='gbtree')\\n\\n# Parameter grid to pass in RandomizedSearchCV\\nparam_grid={\\n    'n_estimators': np.arange(100, 500),\\n    \\\"learning_rate\\\": uniform(0.1, 0.3), # aka eta\\n    'gamma': expon(), # aka min_split_loss\\n    'subsample': uniform(loc=0.6, scale=0.2), # proportion of train set to randomly sample prior to growing trees\\n    'max_depth': np.arange(3, 8).tolist(),\\n    'colsample_bytree': uniform(loc=0.3, scale=0.5)\\n}\\n\\n# Calling RandomizedSearchCV\\nrandomized_cv = RandomizedSearchCV(\\n    estimator=Model,\\n    param_distributions=param_grid,\\n    n_iter=100,\\n    n_jobs=-1,\\n    scoring=scorer,\\n    cv=5,\\n    random_state=42,\\n)\\n\\n# Fitting parameters in RandomizedSearchCV\\nrandomized_cv.fit(X_train, y_train)\\n\\nprint(\\n    \\\"Best parameters are {} with CV score={}:\\\".format(\\n        randomized_cv.best_params_, randomized_cv.best_score_\\n    )\\n)\\n\\n# Chime notification when cell successfully executes\\nchime.success()\";\n",
       "                var nbb_formatted_code = \"%%time\\n\\n# Defining model\\nModel = XGBRegressor(random_state=42, booster='gbtree')\\n\\n# Parameter grid to pass in RandomizedSearchCV\\nparam_grid={\\n    'n_estimators': np.arange(100, 500),\\n    \\\"learning_rate\\\": uniform(0.1, 0.3), # aka eta\\n    'gamma': expon(), # aka min_split_loss\\n    'subsample': uniform(loc=0.6, scale=0.2), # proportion of train set to randomly sample prior to growing trees\\n    'max_depth': np.arange(3, 8).tolist(),\\n    'colsample_bytree': uniform(loc=0.3, scale=0.5)\\n}\\n\\n# Calling RandomizedSearchCV\\nrandomized_cv = RandomizedSearchCV(\\n    estimator=Model,\\n    param_distributions=param_grid,\\n    n_iter=100,\\n    n_jobs=-1,\\n    scoring=scorer,\\n    cv=5,\\n    random_state=42,\\n)\\n\\n# Fitting parameters in RandomizedSearchCV\\nrandomized_cv.fit(X_train, y_train)\\n\\nprint(\\n    \\\"Best parameters are {} with CV score={}:\\\".format(\\n        randomized_cv.best_params_, randomized_cv.best_score_\\n    )\\n)\\n\\n# Chime notification when cell successfully executes\\nchime.success()\";\n",
       "                var nbb_cells = Jupyter.notebook.get_cells();\n",
       "                for (var i = 0; i < nbb_cells.length; ++i) {\n",
       "                    if (nbb_cells[i].input_prompt_number == nbb_cell_id) {\n",
       "                        if (nbb_cells[i].get_text() == nbb_unformatted_code) {\n",
       "                             nbb_cells[i].set_text(nbb_formatted_code);\n",
       "                        }\n",
       "                        break;\n",
       "                    }\n",
       "                }\n",
       "            }, 500);\n",
       "            "
      ],
      "text/plain": [
       "<IPython.core.display.Javascript object>"
      ]
     },
     "metadata": {},
     "output_type": "display_data"
    }
   ],
   "source": [
    "%%time\n",
    "\n",
    "# Defining model\n",
    "Model = XGBRegressor(random_state=42, booster='gbtree')\n",
    "\n",
    "# Parameter grid to pass in RandomizedSearchCV\n",
    "param_grid={\n",
    "    'n_estimators': np.arange(100, 500),\n",
    "    \"learning_rate\": uniform(0.1, 0.3), # aka eta\n",
    "    'gamma': expon(), # aka min_split_loss\n",
    "    'subsample': uniform(loc=0.6, scale=0.2), # proportion of train set to randomly sample prior to growing trees\n",
    "    'max_depth': np.arange(3, 8).tolist(),\n",
    "    'colsample_bytree': uniform(loc=0.3, scale=0.5)\n",
    "}\n",
    "\n",
    "# Calling RandomizedSearchCV\n",
    "randomized_cv = RandomizedSearchCV(\n",
    "    estimator=Model,\n",
    "    param_distributions=param_grid,\n",
    "    n_iter=100,\n",
    "    n_jobs=-1,\n",
    "    scoring=scorer,\n",
    "    cv=5,\n",
    "    random_state=42,\n",
    ")\n",
    "\n",
    "# Fitting parameters in RandomizedSearchCV\n",
    "randomized_cv.fit(X_train, y_train)\n",
    "\n",
    "print(\n",
    "    \"Best parameters are {} with CV score={}:\".format(\n",
    "        randomized_cv.best_params_, randomized_cv.best_score_\n",
    "    )\n",
    ")\n",
    "\n",
    "# Chime notification when cell successfully executes\n",
    "chime.success()"
   ]
  },
  {
   "cell_type": "code",
   "execution_count": 26,
   "id": "9472522b",
   "metadata": {},
   "outputs": [
    {
     "data": {
      "text/plain": [
       "XGBRegressor(base_score=0.5, booster='gbtree', callbacks=None,\n",
       "             colsample_bylevel=1, colsample_bynode=1,\n",
       "             colsample_bytree=0.42649508399462055, early_stopping_rounds=None,\n",
       "             enable_categorical=False, eval_metric=None,\n",
       "             gamma=1.188792356281234, gpu_id=-1, grow_policy='depthwise',\n",
       "             importance_type=None, interaction_constraints='',\n",
       "             learning_rate=0.12263036412693079, max_bin=256,\n",
       "             max_cat_to_onehot=4, max_delta_step=0, max_depth=3, max_leaves=0,\n",
       "             min_child_weight=1, missing=nan, monotone_constraints='()',\n",
       "             n_estimators=404, n_jobs=0, num_parallel_tree=1, predictor='auto',\n",
       "             random_state=42, reg_alpha=0, reg_lambda=1, ...)"
      ]
     },
     "execution_count": 26,
     "metadata": {},
     "output_type": "execute_result"
    },
    {
     "data": {
      "application/javascript": [
       "\n",
       "            setTimeout(function() {\n",
       "                var nbb_cell_id = 26;\n",
       "                var nbb_unformatted_code = \"# Building model with best parameters\\nXGB_gbtree_tuned = XGBRegressor(\\n    booster=\\\"gbtree\\\",\\n    random_state=42,\\n    colsample_bytree=0.42649508399462055,\\n    gamma=1.188792356281234,\\n    learning_rate=0.12263036412693079,\\n    max_depth=3,\\n    n_estimators=404,\\n    subsample=0.7391497377969234,\\n)\\n\\n# Fit the model on training data\\nXGB_gbtree_tuned.fit(X_train, y_train)\";\n",
       "                var nbb_formatted_code = \"# Building model with best parameters\\nXGB_gbtree_tuned = XGBRegressor(\\n    booster=\\\"gbtree\\\",\\n    random_state=42,\\n    colsample_bytree=0.42649508399462055,\\n    gamma=1.188792356281234,\\n    learning_rate=0.12263036412693079,\\n    max_depth=3,\\n    n_estimators=404,\\n    subsample=0.7391497377969234,\\n)\\n\\n# Fit the model on training data\\nXGB_gbtree_tuned.fit(X_train, y_train)\";\n",
       "                var nbb_cells = Jupyter.notebook.get_cells();\n",
       "                for (var i = 0; i < nbb_cells.length; ++i) {\n",
       "                    if (nbb_cells[i].input_prompt_number == nbb_cell_id) {\n",
       "                        if (nbb_cells[i].get_text() == nbb_unformatted_code) {\n",
       "                             nbb_cells[i].set_text(nbb_formatted_code);\n",
       "                        }\n",
       "                        break;\n",
       "                    }\n",
       "                }\n",
       "            }, 500);\n",
       "            "
      ],
      "text/plain": [
       "<IPython.core.display.Javascript object>"
      ]
     },
     "metadata": {},
     "output_type": "display_data"
    }
   ],
   "source": [
    "# Building model with best parameters\n",
    "XGB_gbtree_tuned = XGBRegressor(\n",
    "    booster=\"gbtree\",\n",
    "    random_state=42,\n",
    "    colsample_bytree=0.42649508399462055,\n",
    "    gamma=1.188792356281234,\n",
    "    learning_rate=0.12263036412693079,\n",
    "    max_depth=3,\n",
    "    n_estimators=404,\n",
    "    subsample=0.7391497377969234,\n",
    ")\n",
    "\n",
    "# Fit the model on training data\n",
    "XGB_gbtree_tuned.fit(X_train, y_train)"
   ]
  },
  {
   "cell_type": "code",
   "execution_count": 27,
   "id": "a6101083",
   "metadata": {},
   "outputs": [
    {
     "name": "stdout",
     "output_type": "stream",
     "text": [
      "Training performance:\n",
      "         RMSE       MAE  R-squared  Adj. R-squared       MAPE\n",
      "0  14.813429  11.50438   0.127496         0.12695  18.953973\n",
      "\n",
      "Validation performance:\n",
      "         RMSE        MAE  R-squared  Adj. R-squared       MAPE\n",
      "0  14.882834  11.546377   0.108255        0.106951  18.931955\n"
     ]
    },
    {
     "data": {
      "application/javascript": [
       "\n",
       "            setTimeout(function() {\n",
       "                var nbb_cell_id = 27;\n",
       "                var nbb_unformatted_code = \"# Calculating different metrics\\nXGB_gbtree_tuned_train_perf = model_performance_regression(\\n    XGB_gbtree_tuned, X_train, y_train\\n)\\nprint(\\\"Training performance:\\\\n\\\", XGB_gbtree_tuned_train_perf)\\nXGB_gbtree_tuned_val_perf = model_performance_regression(XGB_gbtree_tuned, X_val, y_val)\\nprint(\\\"\\\\nValidation performance:\\\\n\\\", XGB_gbtree_tuned_val_perf)\\n\\n# Adding model to model comparison dataframes\\nmodels_train_comp_df[\\\"XGB_gbtree Tuned\\\"] = XGB_gbtree_tuned_train_perf.T\\nmodels_val_comp_df[\\\"XGB_gbtree Tuned\\\"] = XGB_gbtree_tuned_val_perf.T\";\n",
       "                var nbb_formatted_code = \"# Calculating different metrics\\nXGB_gbtree_tuned_train_perf = model_performance_regression(\\n    XGB_gbtree_tuned, X_train, y_train\\n)\\nprint(\\\"Training performance:\\\\n\\\", XGB_gbtree_tuned_train_perf)\\nXGB_gbtree_tuned_val_perf = model_performance_regression(XGB_gbtree_tuned, X_val, y_val)\\nprint(\\\"\\\\nValidation performance:\\\\n\\\", XGB_gbtree_tuned_val_perf)\\n\\n# Adding model to model comparison dataframes\\nmodels_train_comp_df[\\\"XGB_gbtree Tuned\\\"] = XGB_gbtree_tuned_train_perf.T\\nmodels_val_comp_df[\\\"XGB_gbtree Tuned\\\"] = XGB_gbtree_tuned_val_perf.T\";\n",
       "                var nbb_cells = Jupyter.notebook.get_cells();\n",
       "                for (var i = 0; i < nbb_cells.length; ++i) {\n",
       "                    if (nbb_cells[i].input_prompt_number == nbb_cell_id) {\n",
       "                        if (nbb_cells[i].get_text() == nbb_unformatted_code) {\n",
       "                             nbb_cells[i].set_text(nbb_formatted_code);\n",
       "                        }\n",
       "                        break;\n",
       "                    }\n",
       "                }\n",
       "            }, 500);\n",
       "            "
      ],
      "text/plain": [
       "<IPython.core.display.Javascript object>"
      ]
     },
     "metadata": {},
     "output_type": "display_data"
    }
   ],
   "source": [
    "# Calculating different metrics\n",
    "XGB_gbtree_tuned_train_perf = model_performance_regression(\n",
    "    XGB_gbtree_tuned, X_train, y_train\n",
    ")\n",
    "print(\"Training performance:\\n\", XGB_gbtree_tuned_train_perf)\n",
    "XGB_gbtree_tuned_val_perf = model_performance_regression(XGB_gbtree_tuned, X_val, y_val)\n",
    "print(\"\\nValidation performance:\\n\", XGB_gbtree_tuned_val_perf)\n",
    "\n",
    "# Adding model to model comparison dataframes\n",
    "models_train_comp_df[\"XGB_gbtree Tuned\"] = XGB_gbtree_tuned_train_perf.T\n",
    "models_val_comp_df[\"XGB_gbtree Tuned\"] = XGB_gbtree_tuned_val_perf.T"
   ]
  },
  {
   "cell_type": "markdown",
   "id": "589bde06",
   "metadata": {},
   "source": [
    "#### Observations:\n",
    "- The performance for *XGB_gbtree* is improved with hyperparameter tuning.  \n",
    "- There is a slight increase in overfitting, but the validation metrics are better."
   ]
  },
  {
   "cell_type": "markdown",
   "id": "7cc9bc9d",
   "metadata": {},
   "source": [
    "### *XGB_gblinear Tuned*"
   ]
  },
  {
   "cell_type": "code",
   "execution_count": 28,
   "id": "5bded9fa",
   "metadata": {},
   "outputs": [
    {
     "data": {
      "text/plain": [
       "XGBRegressor(base_score=0.5, booster='gblinear', callbacks=None,\n",
       "             colsample_bylevel=None, colsample_bynode=None,\n",
       "             colsample_bytree=None, early_stopping_rounds=None,\n",
       "             enable_categorical=False, eval_metric=None, gamma=None, gpu_id=-1,\n",
       "             grow_policy=None, importance_type=None,\n",
       "             interaction_constraints=None, learning_rate=0.5, max_bin=None,\n",
       "             max_cat_to_onehot=None, max_delta_step=None, max_depth=None,\n",
       "             max_leaves=None, min_child_weight=None, missing=nan,\n",
       "             monotone_constraints=None, n_estimators=100, n_jobs=0,\n",
       "             num_parallel_tree=None, predictor=None, random_state=42,\n",
       "             reg_alpha=0, reg_lambda=0, ...)"
      ]
     },
     "execution_count": 28,
     "metadata": {},
     "output_type": "execute_result"
    },
    {
     "data": {
      "application/javascript": [
       "\n",
       "            setTimeout(function() {\n",
       "                var nbb_cell_id = 28;\n",
       "                var nbb_unformatted_code = \"# Confirming the model\\nmodels_to_tune[\\\"XGB_gblinear\\\"]\";\n",
       "                var nbb_formatted_code = \"# Confirming the model\\nmodels_to_tune[\\\"XGB_gblinear\\\"]\";\n",
       "                var nbb_cells = Jupyter.notebook.get_cells();\n",
       "                for (var i = 0; i < nbb_cells.length; ++i) {\n",
       "                    if (nbb_cells[i].input_prompt_number == nbb_cell_id) {\n",
       "                        if (nbb_cells[i].get_text() == nbb_unformatted_code) {\n",
       "                             nbb_cells[i].set_text(nbb_formatted_code);\n",
       "                        }\n",
       "                        break;\n",
       "                    }\n",
       "                }\n",
       "            }, 500);\n",
       "            "
      ],
      "text/plain": [
       "<IPython.core.display.Javascript object>"
      ]
     },
     "metadata": {},
     "output_type": "display_data"
    }
   ],
   "source": [
    "# Confirming the model\n",
    "models_to_tune[\"XGB_gblinear\"]"
   ]
  },
  {
   "cell_type": "code",
   "execution_count": 29,
   "id": "b6f73eb3",
   "metadata": {},
   "outputs": [
    {
     "name": "stdout",
     "output_type": "stream",
     "text": [
      "Best parameters are {'n_estimators': 439, 'reg_lambda': 0.0009206654892274761} with CV score=0.09196572057161607:\n",
      "CPU times: total: 37.1 s\n",
      "Wall time: 5min 49s\n"
     ]
    },
    {
     "data": {
      "application/javascript": [
       "\n",
       "            setTimeout(function() {\n",
       "                var nbb_cell_id = 29;\n",
       "                var nbb_unformatted_code = \"%%time\\n\\n# Defining model\\nModel = XGBRegressor(random_state=42, booster='gblinear')\\n\\n# Parameter grid to pass in RandomizedSearchCV\\nparam_grid={\\n    'n_estimators': np.arange(100, 500),\\n    'reg_lambda': loguniform(.0001, 1)\\n}\\n\\n# Calling RandomizedSearchCV\\nrandomized_cv = RandomizedSearchCV(\\n    estimator=Model,\\n    param_distributions=param_grid,\\n    n_iter=100,\\n    n_jobs=-1,\\n    scoring=scorer,\\n    cv=5,\\n    random_state=42,\\n)\\n\\n# Fitting parameters in RandomizedSearchCV\\nrandomized_cv.fit(X_train, y_train)\\n\\nprint(\\n    \\\"Best parameters are {} with CV score={}:\\\".format(\\n        randomized_cv.best_params_, randomized_cv.best_score_\\n    )\\n)\\n\\n# Chime notification when cell successfully executes\\nchime.success()\";\n",
       "                var nbb_formatted_code = \"%%time\\n\\n# Defining model\\nModel = XGBRegressor(random_state=42, booster='gblinear')\\n\\n# Parameter grid to pass in RandomizedSearchCV\\nparam_grid={\\n    'n_estimators': np.arange(100, 500),\\n    'reg_lambda': loguniform(.0001, 1)\\n}\\n\\n# Calling RandomizedSearchCV\\nrandomized_cv = RandomizedSearchCV(\\n    estimator=Model,\\n    param_distributions=param_grid,\\n    n_iter=100,\\n    n_jobs=-1,\\n    scoring=scorer,\\n    cv=5,\\n    random_state=42,\\n)\\n\\n# Fitting parameters in RandomizedSearchCV\\nrandomized_cv.fit(X_train, y_train)\\n\\nprint(\\n    \\\"Best parameters are {} with CV score={}:\\\".format(\\n        randomized_cv.best_params_, randomized_cv.best_score_\\n    )\\n)\\n\\n# Chime notification when cell successfully executes\\nchime.success()\";\n",
       "                var nbb_cells = Jupyter.notebook.get_cells();\n",
       "                for (var i = 0; i < nbb_cells.length; ++i) {\n",
       "                    if (nbb_cells[i].input_prompt_number == nbb_cell_id) {\n",
       "                        if (nbb_cells[i].get_text() == nbb_unformatted_code) {\n",
       "                             nbb_cells[i].set_text(nbb_formatted_code);\n",
       "                        }\n",
       "                        break;\n",
       "                    }\n",
       "                }\n",
       "            }, 500);\n",
       "            "
      ],
      "text/plain": [
       "<IPython.core.display.Javascript object>"
      ]
     },
     "metadata": {},
     "output_type": "display_data"
    }
   ],
   "source": [
    "%%time\n",
    "\n",
    "# Defining model\n",
    "Model = XGBRegressor(random_state=42, booster='gblinear')\n",
    "\n",
    "# Parameter grid to pass in RandomizedSearchCV\n",
    "param_grid={\n",
    "    'n_estimators': np.arange(100, 500),\n",
    "    'reg_lambda': loguniform(.0001, 1)\n",
    "}\n",
    "\n",
    "# Calling RandomizedSearchCV\n",
    "randomized_cv = RandomizedSearchCV(\n",
    "    estimator=Model,\n",
    "    param_distributions=param_grid,\n",
    "    n_iter=100,\n",
    "    n_jobs=-1,\n",
    "    scoring=scorer,\n",
    "    cv=5,\n",
    "    random_state=42,\n",
    ")\n",
    "\n",
    "# Fitting parameters in RandomizedSearchCV\n",
    "randomized_cv.fit(X_train, y_train)\n",
    "\n",
    "print(\n",
    "    \"Best parameters are {} with CV score={}:\".format(\n",
    "        randomized_cv.best_params_, randomized_cv.best_score_\n",
    "    )\n",
    ")\n",
    "\n",
    "# Chime notification when cell successfully executes\n",
    "chime.success()"
   ]
  },
  {
   "cell_type": "code",
   "execution_count": 30,
   "id": "c5f6c963",
   "metadata": {},
   "outputs": [
    {
     "data": {
      "text/plain": [
       "XGBRegressor(base_score=0.5, booster='gblinear', callbacks=None,\n",
       "             colsample_bylevel=None, colsample_bynode=None,\n",
       "             colsample_bytree=None, early_stopping_rounds=None,\n",
       "             enable_categorical=False, eval_metric=None, gamma=None, gpu_id=-1,\n",
       "             grow_policy=None, importance_type=None,\n",
       "             interaction_constraints=None, learning_rate=0.5, max_bin=None,\n",
       "             max_cat_to_onehot=None, max_delta_step=None, max_depth=None,\n",
       "             max_leaves=None, min_child_weight=None, missing=nan,\n",
       "             monotone_constraints=None, n_estimators=439, n_jobs=0,\n",
       "             num_parallel_tree=None, predictor=None, random_state=42,\n",
       "             reg_alpha=0, reg_lambda=0.0009206654892274761, ...)"
      ]
     },
     "execution_count": 30,
     "metadata": {},
     "output_type": "execute_result"
    },
    {
     "data": {
      "application/javascript": [
       "\n",
       "            setTimeout(function() {\n",
       "                var nbb_cell_id = 30;\n",
       "                var nbb_unformatted_code = \"# Building model with best parameters\\nXGB_gblinear_tuned = XGBRegressor(\\n    booster=\\\"gblinear\\\",\\n    random_state=42,\\n    n_estimators=439,\\n    reg_lambda=0.0009206654892274761,\\n)\\n\\n# Fit the model on training data\\nXGB_gblinear_tuned.fit(X_train, y_train)\";\n",
       "                var nbb_formatted_code = \"# Building model with best parameters\\nXGB_gblinear_tuned = XGBRegressor(\\n    booster=\\\"gblinear\\\",\\n    random_state=42,\\n    n_estimators=439,\\n    reg_lambda=0.0009206654892274761,\\n)\\n\\n# Fit the model on training data\\nXGB_gblinear_tuned.fit(X_train, y_train)\";\n",
       "                var nbb_cells = Jupyter.notebook.get_cells();\n",
       "                for (var i = 0; i < nbb_cells.length; ++i) {\n",
       "                    if (nbb_cells[i].input_prompt_number == nbb_cell_id) {\n",
       "                        if (nbb_cells[i].get_text() == nbb_unformatted_code) {\n",
       "                             nbb_cells[i].set_text(nbb_formatted_code);\n",
       "                        }\n",
       "                        break;\n",
       "                    }\n",
       "                }\n",
       "            }, 500);\n",
       "            "
      ],
      "text/plain": [
       "<IPython.core.display.Javascript object>"
      ]
     },
     "metadata": {},
     "output_type": "display_data"
    }
   ],
   "source": [
    "# Building model with best parameters\n",
    "XGB_gblinear_tuned = XGBRegressor(\n",
    "    booster=\"gblinear\",\n",
    "    random_state=42,\n",
    "    n_estimators=439,\n",
    "    reg_lambda=0.0009206654892274761,\n",
    ")\n",
    "\n",
    "# Fit the model on training data\n",
    "XGB_gblinear_tuned.fit(X_train, y_train)"
   ]
  },
  {
   "cell_type": "code",
   "execution_count": 31,
   "id": "c03abdd4",
   "metadata": {},
   "outputs": [
    {
     "name": "stdout",
     "output_type": "stream",
     "text": [
      "Training performance:\n",
      "         RMSE        MAE  R-squared  Adj. R-squared       MAPE\n",
      "0  15.102707  11.727685   0.093087        0.092519  19.393284\n",
      "\n",
      "Validation performance:\n",
      "       RMSE        MAE  R-squared  Adj. R-squared      MAPE\n",
      "0  14.9948  11.638517   0.094787        0.093464  19.15185\n"
     ]
    },
    {
     "data": {
      "application/javascript": [
       "\n",
       "            setTimeout(function() {\n",
       "                var nbb_cell_id = 31;\n",
       "                var nbb_unformatted_code = \"# Calculating different metrics\\nXGB_gblinear_tuned_train_perf = model_performance_regression(\\n    XGB_gblinear_tuned, X_train, y_train\\n)\\nprint(\\\"Training performance:\\\\n\\\", XGB_gblinear_tuned_train_perf)\\nXGB_gblinear_tuned_val_perf = model_performance_regression(\\n    XGB_gblinear_tuned, X_val, y_val\\n)\\nprint(\\\"\\\\nValidation performance:\\\\n\\\", XGB_gblinear_tuned_val_perf)\\n\\n# Adding model to model comparison dataframes\\nmodels_train_comp_df[\\\"XGB_gblinear Tuned\\\"] = XGB_gblinear_tuned_train_perf.T\\nmodels_val_comp_df[\\\"XGB_gblinear Tuned\\\"] = XGB_gblinear_tuned_val_perf.T\";\n",
       "                var nbb_formatted_code = \"# Calculating different metrics\\nXGB_gblinear_tuned_train_perf = model_performance_regression(\\n    XGB_gblinear_tuned, X_train, y_train\\n)\\nprint(\\\"Training performance:\\\\n\\\", XGB_gblinear_tuned_train_perf)\\nXGB_gblinear_tuned_val_perf = model_performance_regression(\\n    XGB_gblinear_tuned, X_val, y_val\\n)\\nprint(\\\"\\\\nValidation performance:\\\\n\\\", XGB_gblinear_tuned_val_perf)\\n\\n# Adding model to model comparison dataframes\\nmodels_train_comp_df[\\\"XGB_gblinear Tuned\\\"] = XGB_gblinear_tuned_train_perf.T\\nmodels_val_comp_df[\\\"XGB_gblinear Tuned\\\"] = XGB_gblinear_tuned_val_perf.T\";\n",
       "                var nbb_cells = Jupyter.notebook.get_cells();\n",
       "                for (var i = 0; i < nbb_cells.length; ++i) {\n",
       "                    if (nbb_cells[i].input_prompt_number == nbb_cell_id) {\n",
       "                        if (nbb_cells[i].get_text() == nbb_unformatted_code) {\n",
       "                             nbb_cells[i].set_text(nbb_formatted_code);\n",
       "                        }\n",
       "                        break;\n",
       "                    }\n",
       "                }\n",
       "            }, 500);\n",
       "            "
      ],
      "text/plain": [
       "<IPython.core.display.Javascript object>"
      ]
     },
     "metadata": {},
     "output_type": "display_data"
    }
   ],
   "source": [
    "# Calculating different metrics\n",
    "XGB_gblinear_tuned_train_perf = model_performance_regression(\n",
    "    XGB_gblinear_tuned, X_train, y_train\n",
    ")\n",
    "print(\"Training performance:\\n\", XGB_gblinear_tuned_train_perf)\n",
    "XGB_gblinear_tuned_val_perf = model_performance_regression(\n",
    "    XGB_gblinear_tuned, X_val, y_val\n",
    ")\n",
    "print(\"\\nValidation performance:\\n\", XGB_gblinear_tuned_val_perf)\n",
    "\n",
    "# Adding model to model comparison dataframes\n",
    "models_train_comp_df[\"XGB_gblinear Tuned\"] = XGB_gblinear_tuned_train_perf.T\n",
    "models_val_comp_df[\"XGB_gblinear Tuned\"] = XGB_gblinear_tuned_val_perf.T"
   ]
  },
  {
   "cell_type": "markdown",
   "id": "627e4098",
   "metadata": {},
   "source": [
    "#### Observations:\n",
    "- *XGB_gblinear* also has improved performance with hyperparameter tuning.\n",
    "- Let us compare the models, before and after hyperparameter tuning."
   ]
  },
  {
   "cell_type": "markdown",
   "id": "a27ff942",
   "metadata": {},
   "source": [
    "## Model Performance Comparison"
   ]
  },
  {
   "cell_type": "markdown",
   "id": "d1dcb341",
   "metadata": {},
   "source": [
    "### Performance of Various Models Tuned and Untuned"
   ]
  },
  {
   "cell_type": "code",
   "execution_count": 32,
   "id": "eafdbe24",
   "metadata": {},
   "outputs": [
    {
     "name": "stdout",
     "output_type": "stream",
     "text": [
      "Train Performance Comparison:\n"
     ]
    },
    {
     "data": {
      "text/html": [
       "<div>\n",
       "<style scoped>\n",
       "    .dataframe tbody tr th:only-of-type {\n",
       "        vertical-align: middle;\n",
       "    }\n",
       "\n",
       "    .dataframe tbody tr th {\n",
       "        vertical-align: top;\n",
       "    }\n",
       "\n",
       "    .dataframe thead th {\n",
       "        text-align: right;\n",
       "    }\n",
       "</style>\n",
       "<table border=\"1\" class=\"dataframe\">\n",
       "  <thead>\n",
       "    <tr style=\"text-align: right;\">\n",
       "      <th></th>\n",
       "      <th>GBM</th>\n",
       "      <th>GBM Tuned</th>\n",
       "      <th>Random Forest</th>\n",
       "      <th>Random Forest Tuned</th>\n",
       "      <th>XGB_gblinear</th>\n",
       "      <th>XGB_gblinear Tuned</th>\n",
       "      <th>XGB_gbtree</th>\n",
       "      <th>XGB_gbtree Tuned</th>\n",
       "    </tr>\n",
       "  </thead>\n",
       "  <tbody>\n",
       "    <tr>\n",
       "      <th>RMSE</th>\n",
       "      <td>14.971421</td>\n",
       "      <td>14.835035</td>\n",
       "      <td>11.686697</td>\n",
       "      <td>14.578171</td>\n",
       "      <td>15.177929</td>\n",
       "      <td>15.102707</td>\n",
       "      <td>14.237993</td>\n",
       "      <td>14.813429</td>\n",
       "    </tr>\n",
       "    <tr>\n",
       "      <th>MAE</th>\n",
       "      <td>11.627512</td>\n",
       "      <td>11.521845</td>\n",
       "      <td>8.736482</td>\n",
       "      <td>11.324773</td>\n",
       "      <td>11.790258</td>\n",
       "      <td>11.727685</td>\n",
       "      <td>11.034927</td>\n",
       "      <td>11.504380</td>\n",
       "    </tr>\n",
       "    <tr>\n",
       "      <th>R-squared</th>\n",
       "      <td>0.108786</td>\n",
       "      <td>0.124949</td>\n",
       "      <td>0.456950</td>\n",
       "      <td>0.154989</td>\n",
       "      <td>0.084030</td>\n",
       "      <td>0.093087</td>\n",
       "      <td>0.193965</td>\n",
       "      <td>0.127496</td>\n",
       "    </tr>\n",
       "    <tr>\n",
       "      <th>Adj. R-squared</th>\n",
       "      <td>0.108228</td>\n",
       "      <td>0.124401</td>\n",
       "      <td>0.456610</td>\n",
       "      <td>0.154460</td>\n",
       "      <td>0.083457</td>\n",
       "      <td>0.092519</td>\n",
       "      <td>0.193461</td>\n",
       "      <td>0.126950</td>\n",
       "    </tr>\n",
       "    <tr>\n",
       "      <th>MAPE</th>\n",
       "      <td>19.221156</td>\n",
       "      <td>18.989296</td>\n",
       "      <td>13.944396</td>\n",
       "      <td>18.732126</td>\n",
       "      <td>19.427922</td>\n",
       "      <td>19.393284</td>\n",
       "      <td>18.032207</td>\n",
       "      <td>18.953973</td>\n",
       "    </tr>\n",
       "  </tbody>\n",
       "</table>\n",
       "</div>"
      ],
      "text/plain": [
       "                      GBM  GBM Tuned  Random Forest  Random Forest Tuned  \\\n",
       "RMSE            14.971421  14.835035      11.686697            14.578171   \n",
       "MAE             11.627512  11.521845       8.736482            11.324773   \n",
       "R-squared        0.108786   0.124949       0.456950             0.154989   \n",
       "Adj. R-squared   0.108228   0.124401       0.456610             0.154460   \n",
       "MAPE            19.221156  18.989296      13.944396            18.732126   \n",
       "\n",
       "                XGB_gblinear  XGB_gblinear Tuned  XGB_gbtree  XGB_gbtree Tuned  \n",
       "RMSE               15.177929           15.102707   14.237993         14.813429  \n",
       "MAE                11.790258           11.727685   11.034927         11.504380  \n",
       "R-squared           0.084030            0.093087    0.193965          0.127496  \n",
       "Adj. R-squared      0.083457            0.092519    0.193461          0.126950  \n",
       "MAPE               19.427922           19.393284   18.032207         18.953973  "
      ]
     },
     "execution_count": 32,
     "metadata": {},
     "output_type": "execute_result"
    },
    {
     "data": {
      "application/javascript": [
       "\n",
       "            setTimeout(function() {\n",
       "                var nbb_cell_id = 32;\n",
       "                var nbb_unformatted_code = \"# Displaying train performance of all models\\nprint(\\\"Train Performance Comparison:\\\")\\nmodels_train_comp_df.sort_index(axis=1)\";\n",
       "                var nbb_formatted_code = \"# Displaying train performance of all models\\nprint(\\\"Train Performance Comparison:\\\")\\nmodels_train_comp_df.sort_index(axis=1)\";\n",
       "                var nbb_cells = Jupyter.notebook.get_cells();\n",
       "                for (var i = 0; i < nbb_cells.length; ++i) {\n",
       "                    if (nbb_cells[i].input_prompt_number == nbb_cell_id) {\n",
       "                        if (nbb_cells[i].get_text() == nbb_unformatted_code) {\n",
       "                             nbb_cells[i].set_text(nbb_formatted_code);\n",
       "                        }\n",
       "                        break;\n",
       "                    }\n",
       "                }\n",
       "            }, 500);\n",
       "            "
      ],
      "text/plain": [
       "<IPython.core.display.Javascript object>"
      ]
     },
     "metadata": {},
     "output_type": "display_data"
    }
   ],
   "source": [
    "# Displaying train performance of all models\n",
    "print(\"Train Performance Comparison:\")\n",
    "models_train_comp_df.sort_index(axis=1)"
   ]
  },
  {
   "cell_type": "code",
   "execution_count": 33,
   "id": "ed958b1f",
   "metadata": {},
   "outputs": [
    {
     "name": "stdout",
     "output_type": "stream",
     "text": [
      "Validation Performance Comparison:\n"
     ]
    },
    {
     "data": {
      "text/html": [
       "<div>\n",
       "<style scoped>\n",
       "    .dataframe tbody tr th:only-of-type {\n",
       "        vertical-align: middle;\n",
       "    }\n",
       "\n",
       "    .dataframe tbody tr th {\n",
       "        vertical-align: top;\n",
       "    }\n",
       "\n",
       "    .dataframe thead th {\n",
       "        text-align: right;\n",
       "    }\n",
       "</style>\n",
       "<table border=\"1\" class=\"dataframe\">\n",
       "  <thead>\n",
       "    <tr style=\"text-align: right;\">\n",
       "      <th></th>\n",
       "      <th>GBM</th>\n",
       "      <th>GBM Tuned</th>\n",
       "      <th>Random Forest</th>\n",
       "      <th>Random Forest Tuned</th>\n",
       "      <th>XGB_gblinear</th>\n",
       "      <th>XGB_gblinear Tuned</th>\n",
       "      <th>XGB_gbtree</th>\n",
       "      <th>XGB_gbtree Tuned</th>\n",
       "    </tr>\n",
       "  </thead>\n",
       "  <tbody>\n",
       "    <tr>\n",
       "      <th>RMSE</th>\n",
       "      <td>14.922006</td>\n",
       "      <td>14.877704</td>\n",
       "      <td>16.271584</td>\n",
       "      <td>14.952656</td>\n",
       "      <td>15.061175</td>\n",
       "      <td>14.994800</td>\n",
       "      <td>15.022284</td>\n",
       "      <td>14.882834</td>\n",
       "    </tr>\n",
       "    <tr>\n",
       "      <th>MAE</th>\n",
       "      <td>11.580272</td>\n",
       "      <td>11.542386</td>\n",
       "      <td>12.558769</td>\n",
       "      <td>11.602460</td>\n",
       "      <td>11.702807</td>\n",
       "      <td>11.638517</td>\n",
       "      <td>11.632590</td>\n",
       "      <td>11.546377</td>\n",
       "    </tr>\n",
       "    <tr>\n",
       "      <th>R-squared</th>\n",
       "      <td>0.103555</td>\n",
       "      <td>0.108870</td>\n",
       "      <td>-0.065931</td>\n",
       "      <td>0.099868</td>\n",
       "      <td>0.086755</td>\n",
       "      <td>0.094787</td>\n",
       "      <td>0.091466</td>\n",
       "      <td>0.108255</td>\n",
       "    </tr>\n",
       "    <tr>\n",
       "      <th>Adj. R-squared</th>\n",
       "      <td>0.102244</td>\n",
       "      <td>0.107567</td>\n",
       "      <td>-0.067489</td>\n",
       "      <td>0.098552</td>\n",
       "      <td>0.085420</td>\n",
       "      <td>0.093464</td>\n",
       "      <td>0.090137</td>\n",
       "      <td>0.106951</td>\n",
       "    </tr>\n",
       "    <tr>\n",
       "      <th>MAPE</th>\n",
       "      <td>19.051063</td>\n",
       "      <td>18.937928</td>\n",
       "      <td>20.193462</td>\n",
       "      <td>19.097816</td>\n",
       "      <td>19.184454</td>\n",
       "      <td>19.151850</td>\n",
       "      <td>19.008358</td>\n",
       "      <td>18.931955</td>\n",
       "    </tr>\n",
       "  </tbody>\n",
       "</table>\n",
       "</div>"
      ],
      "text/plain": [
       "                      GBM  GBM Tuned  Random Forest  Random Forest Tuned  \\\n",
       "RMSE            14.922006  14.877704      16.271584            14.952656   \n",
       "MAE             11.580272  11.542386      12.558769            11.602460   \n",
       "R-squared        0.103555   0.108870      -0.065931             0.099868   \n",
       "Adj. R-squared   0.102244   0.107567      -0.067489             0.098552   \n",
       "MAPE            19.051063  18.937928      20.193462            19.097816   \n",
       "\n",
       "                XGB_gblinear  XGB_gblinear Tuned  XGB_gbtree  XGB_gbtree Tuned  \n",
       "RMSE               15.061175           14.994800   15.022284         14.882834  \n",
       "MAE                11.702807           11.638517   11.632590         11.546377  \n",
       "R-squared           0.086755            0.094787    0.091466          0.108255  \n",
       "Adj. R-squared      0.085420            0.093464    0.090137          0.106951  \n",
       "MAPE               19.184454           19.151850   19.008358         18.931955  "
      ]
     },
     "execution_count": 33,
     "metadata": {},
     "output_type": "execute_result"
    },
    {
     "data": {
      "application/javascript": [
       "\n",
       "            setTimeout(function() {\n",
       "                var nbb_cell_id = 33;\n",
       "                var nbb_unformatted_code = \"# Displaying validation performance of all models\\nprint(\\\"Validation Performance Comparison:\\\")\\nmodels_val_comp_df.sort_index(axis=1)\";\n",
       "                var nbb_formatted_code = \"# Displaying validation performance of all models\\nprint(\\\"Validation Performance Comparison:\\\")\\nmodels_val_comp_df.sort_index(axis=1)\";\n",
       "                var nbb_cells = Jupyter.notebook.get_cells();\n",
       "                for (var i = 0; i < nbb_cells.length; ++i) {\n",
       "                    if (nbb_cells[i].input_prompt_number == nbb_cell_id) {\n",
       "                        if (nbb_cells[i].get_text() == nbb_unformatted_code) {\n",
       "                             nbb_cells[i].set_text(nbb_formatted_code);\n",
       "                        }\n",
       "                        break;\n",
       "                    }\n",
       "                }\n",
       "            }, 500);\n",
       "            "
      ],
      "text/plain": [
       "<IPython.core.display.Javascript object>"
      ]
     },
     "metadata": {},
     "output_type": "display_data"
    }
   ],
   "source": [
    "# Displaying validation performance of all models\n",
    "print(\"Validation Performance Comparison:\")\n",
    "models_val_comp_df.sort_index(axis=1)"
   ]
  },
  {
   "cell_type": "markdown",
   "id": "db377c5d",
   "metadata": {},
   "source": [
    "#### Observations:\n",
    "- *GBM Tuned* has the highest R$^2$ (0.109) on the validation set, followed by *XGB_gbtree Tuned*, then *GBM*.\n",
    "- As we did not include the Decision Tree here, we can ignore Adjusted R$^2$, and just compare R$^2$.\n",
    "- Of the three models with R$^2$ scores over 10, there is some variation in overfitting."
   ]
  },
  {
   "cell_type": "markdown",
   "id": "b9676dad",
   "metadata": {},
   "source": [
    "#### Comparison of Percentage of Overfitting for R$^2$"
   ]
  },
  {
   "cell_type": "code",
   "execution_count": 34,
   "id": "233dce94",
   "metadata": {},
   "outputs": [
    {
     "name": "stdout",
     "output_type": "stream",
     "text": [
      "Percentage of R-square overfitting:\n"
     ]
    },
    {
     "data": {
      "text/plain": [
       "XGB_gblinear            -3.243171\n",
       "XGB_gblinear Tuned      -1.826605\n",
       "GBM                      4.808487\n",
       "GBM Tuned               12.868707\n",
       "XGB_gbtree Tuned        15.091493\n",
       "Random Forest Tuned     35.564337\n",
       "XGB_gbtree              52.844295\n",
       "Random Forest          114.428464\n",
       "Name: R-squared, dtype: float64"
      ]
     },
     "execution_count": 34,
     "metadata": {},
     "output_type": "execute_result"
    },
    {
     "data": {
      "application/javascript": [
       "\n",
       "            setTimeout(function() {\n",
       "                var nbb_cell_id = 34;\n",
       "                var nbb_unformatted_code = \"# Subtracting the ratio of validation R-square/train R-square from 1\\noverfit_perc = (\\n    1\\n    - (\\n        models_val_comp_df.loc[\\\"R-squared\\\", :]\\n        / models_train_comp_df.loc[\\\"R-squared\\\", :]\\n    )\\n) * 100\\n\\nprint(f\\\"Percentage of R-square overfitting:\\\")\\noverfit_perc.sort_values()\";\n",
       "                var nbb_formatted_code = \"# Subtracting the ratio of validation R-square/train R-square from 1\\noverfit_perc = (\\n    1\\n    - (\\n        models_val_comp_df.loc[\\\"R-squared\\\", :]\\n        / models_train_comp_df.loc[\\\"R-squared\\\", :]\\n    )\\n) * 100\\n\\nprint(f\\\"Percentage of R-square overfitting:\\\")\\noverfit_perc.sort_values()\";\n",
       "                var nbb_cells = Jupyter.notebook.get_cells();\n",
       "                for (var i = 0; i < nbb_cells.length; ++i) {\n",
       "                    if (nbb_cells[i].input_prompt_number == nbb_cell_id) {\n",
       "                        if (nbb_cells[i].get_text() == nbb_unformatted_code) {\n",
       "                             nbb_cells[i].set_text(nbb_formatted_code);\n",
       "                        }\n",
       "                        break;\n",
       "                    }\n",
       "                }\n",
       "            }, 500);\n",
       "            "
      ],
      "text/plain": [
       "<IPython.core.display.Javascript object>"
      ]
     },
     "metadata": {},
     "output_type": "display_data"
    }
   ],
   "source": [
    "# Subtracting the ratio of validation R-square/train R-square from 1\n",
    "overfit_perc = (\n",
    "    1\n",
    "    - (\n",
    "        models_val_comp_df.loc[\"R-squared\", :]\n",
    "        / models_train_comp_df.loc[\"R-squared\", :]\n",
    "    )\n",
    ") * 100\n",
    "\n",
    "print(f\"Percentage of R-square overfitting:\")\n",
    "overfit_perc.sort_values()"
   ]
  },
  {
   "cell_type": "markdown",
   "id": "b074931e",
   "metadata": {},
   "source": [
    "#### Observations:\n",
    "- *XGB_gblinear* and *XGB_gblinear Tuned* both performed better on the validation set, than the training set, which is interesting.\n",
    "- Of the top 3 models for R$^2$ score, *GBM* generalized considerably better than *GBM Tuned* and *XGB_gtree Tuned*.  \n",
    "- That said, *GBM Tuned* has the highest R$^2$ score on the validation set.\n",
    "- Next we will try another modeling iteration, replacing the one hot encoded `known_for` predictor with the original `known for` category columns.  For linear regression, we had to drop categorical columns to address multicollinearity, so entries with multiple `known for` categories were grouped in the `known_for` feature, into `two` and `three_to_five` classes.  We retained that approach for the above modeling iteration, but for this iteration we will allow entries to have their original multiple categories.  We will also include the `num_categories` feature in this iteration."
   ]
  },
  {
   "cell_type": "markdown",
   "id": "31317d01",
   "metadata": {},
   "source": [
    "## 2nd Modeling Iteration with Original `known for` Category Columns and `num_features`"
   ]
  },
  {
   "cell_type": "markdown",
   "id": "e3bec29e",
   "metadata": {},
   "source": [
    "### Defining Independent and Dependent Variables for Train and Validation Sets"
   ]
  },
  {
   "cell_type": "code",
   "execution_count": 35,
   "id": "13c39fb4",
   "metadata": {},
   "outputs": [
    {
     "name": "stdout",
     "output_type": "stream",
     "text": [
      "There are 54336 rows and 34 columns in the train set.\n",
      "\n",
      "There are 23288 rows and 34 columns in the validation set.\n",
      "\n"
     ]
    },
    {
     "data": {
      "text/html": [
       "<div>\n",
       "<style scoped>\n",
       "    .dataframe tbody tr th:only-of-type {\n",
       "        vertical-align: middle;\n",
       "    }\n",
       "\n",
       "    .dataframe tbody tr th {\n",
       "        vertical-align: top;\n",
       "    }\n",
       "\n",
       "    .dataframe thead th {\n",
       "        text-align: right;\n",
       "    }\n",
       "</style>\n",
       "<table border=\"1\" class=\"dataframe\">\n",
       "  <thead>\n",
       "    <tr style=\"text-align: right;\">\n",
       "      <th></th>\n",
       "      <th>num_references</th>\n",
       "      <th>years</th>\n",
       "      <th>sciences</th>\n",
       "      <th>social</th>\n",
       "      <th>spiritual</th>\n",
       "      <th>academia_humanities</th>\n",
       "      <th>business_farming</th>\n",
       "      <th>arts</th>\n",
       "      <th>sports</th>\n",
       "      <th>law_enf_military_operator</th>\n",
       "      <th>politics_govt_law</th>\n",
       "      <th>crime</th>\n",
       "      <th>num_categories</th>\n",
       "      <th>region_Asia</th>\n",
       "      <th>region_Central Asia</th>\n",
       "      <th>region_Europe</th>\n",
       "      <th>region_Mid-Cent America/Caribbean</th>\n",
       "      <th>region_Middle East</th>\n",
       "      <th>region_North America</th>\n",
       "      <th>region_Oceania</th>\n",
       "      <th>region_Russian Federation</th>\n",
       "      <th>region_South America</th>\n",
       "      <th>region_South East Asia</th>\n",
       "      <th>prior_region_Asia</th>\n",
       "      <th>prior_region_Central Asia</th>\n",
       "      <th>prior_region_Europe</th>\n",
       "      <th>prior_region_Mid-Cent America/Caribbean</th>\n",
       "      <th>prior_region_Middle East</th>\n",
       "      <th>prior_region_No Prior Region</th>\n",
       "      <th>prior_region_North America</th>\n",
       "      <th>prior_region_Oceania</th>\n",
       "      <th>prior_region_Russian Federation</th>\n",
       "      <th>prior_region_South America</th>\n",
       "      <th>prior_region_South East Asia</th>\n",
       "    </tr>\n",
       "  </thead>\n",
       "  <tbody>\n",
       "    <tr>\n",
       "      <th>19776</th>\n",
       "      <td>19.0</td>\n",
       "      <td>24.0</td>\n",
       "      <td>0.0</td>\n",
       "      <td>0.0</td>\n",
       "      <td>0.0</td>\n",
       "      <td>0.0</td>\n",
       "      <td>0.0</td>\n",
       "      <td>0.0</td>\n",
       "      <td>0.0</td>\n",
       "      <td>1.0</td>\n",
       "      <td>0.0</td>\n",
       "      <td>0.0</td>\n",
       "      <td>1.0</td>\n",
       "      <td>0.0</td>\n",
       "      <td>0.0</td>\n",
       "      <td>0.0</td>\n",
       "      <td>0.0</td>\n",
       "      <td>0.0</td>\n",
       "      <td>1.0</td>\n",
       "      <td>0.0</td>\n",
       "      <td>0.0</td>\n",
       "      <td>0.0</td>\n",
       "      <td>0.0</td>\n",
       "      <td>0.0</td>\n",
       "      <td>0.0</td>\n",
       "      <td>0.0</td>\n",
       "      <td>0.0</td>\n",
       "      <td>0.0</td>\n",
       "      <td>1.0</td>\n",
       "      <td>0.0</td>\n",
       "      <td>0.0</td>\n",
       "      <td>0.0</td>\n",
       "      <td>0.0</td>\n",
       "      <td>0.0</td>\n",
       "    </tr>\n",
       "  </tbody>\n",
       "</table>\n",
       "</div>"
      ],
      "text/plain": [
       "       num_references  years  sciences  social  spiritual  \\\n",
       "19776            19.0   24.0       0.0     0.0        0.0   \n",
       "\n",
       "       academia_humanities  business_farming  arts  sports  \\\n",
       "19776                  0.0               0.0   0.0     0.0   \n",
       "\n",
       "       law_enf_military_operator  politics_govt_law  crime  num_categories  \\\n",
       "19776                        1.0                0.0    0.0             1.0   \n",
       "\n",
       "       region_Asia  region_Central Asia  region_Europe  \\\n",
       "19776          0.0                  0.0            0.0   \n",
       "\n",
       "       region_Mid-Cent America/Caribbean  region_Middle East  \\\n",
       "19776                                0.0                 0.0   \n",
       "\n",
       "       region_North America  region_Oceania  region_Russian Federation  \\\n",
       "19776                   1.0             0.0                        0.0   \n",
       "\n",
       "       region_South America  region_South East Asia  prior_region_Asia  \\\n",
       "19776                   0.0                     0.0                0.0   \n",
       "\n",
       "       prior_region_Central Asia  prior_region_Europe  \\\n",
       "19776                        0.0                  0.0   \n",
       "\n",
       "       prior_region_Mid-Cent America/Caribbean  prior_region_Middle East  \\\n",
       "19776                                      0.0                       0.0   \n",
       "\n",
       "       prior_region_No Prior Region  prior_region_North America  \\\n",
       "19776                           1.0                         0.0   \n",
       "\n",
       "       prior_region_Oceania  prior_region_Russian Federation  \\\n",
       "19776                   0.0                              0.0   \n",
       "\n",
       "       prior_region_South America  prior_region_South East Asia  \n",
       "19776                         0.0                           0.0  "
      ]
     },
     "execution_count": 35,
     "metadata": {},
     "output_type": "execute_result"
    },
    {
     "data": {
      "application/javascript": [
       "\n",
       "            setTimeout(function() {\n",
       "                var nbb_cell_id = 35;\n",
       "                var nbb_unformatted_code = \"# Creating list of predictor columns\\npredictor_cols = [\\n    \\\"num_references\\\",\\n    \\\"years\\\",\\n    \\\"region\\\",\\n    \\\"prior_region\\\",\\n    \\\"sciences\\\",\\n    \\\"social\\\",\\n    \\\"spiritual\\\",\\n    \\\"academia_humanities\\\",\\n    \\\"business_farming\\\",\\n    \\\"arts\\\",\\n    \\\"sports\\\",\\n    \\\"law_enf_military_operator\\\",\\n    \\\"politics_govt_law\\\",\\n    \\\"crime\\\",\\n    \\\"num_categories\\\",\\n]\\n\\n# Defining target column\\ntarget = \\\"age\\\"\\n\\n# Defining independent and dependent variables\\nX = df[predictor_cols]\\ny = df[target]\\n\\n# One hot encoding of categorical predictors and typecasting all predictors as float\\nX = pd.get_dummies(X, drop_first=True).astype(\\\"float64\\\")\\n\\n# Splitting into 70:30 train and validation sets\\nX_train, X_val, y_train, y_val = train_test_split(X, y, test_size=0.3, random_state=42)\\n\\n# Checking shape of train and validation sets\\nprint(\\n    f\\\"There are {X_train.shape[0]} rows and {X_train.shape[1]} columns in the train set.\\\\n\\\"\\n)\\nprint(\\n    f\\\"There are {X_val.shape[0]} rows and {X_val.shape[1]} columns in the validation set.\\\\n\\\"\\n)\\n\\n# Checking a sample\\nX_train.sample()\";\n",
       "                var nbb_formatted_code = \"# Creating list of predictor columns\\npredictor_cols = [\\n    \\\"num_references\\\",\\n    \\\"years\\\",\\n    \\\"region\\\",\\n    \\\"prior_region\\\",\\n    \\\"sciences\\\",\\n    \\\"social\\\",\\n    \\\"spiritual\\\",\\n    \\\"academia_humanities\\\",\\n    \\\"business_farming\\\",\\n    \\\"arts\\\",\\n    \\\"sports\\\",\\n    \\\"law_enf_military_operator\\\",\\n    \\\"politics_govt_law\\\",\\n    \\\"crime\\\",\\n    \\\"num_categories\\\",\\n]\\n\\n# Defining target column\\ntarget = \\\"age\\\"\\n\\n# Defining independent and dependent variables\\nX = df[predictor_cols]\\ny = df[target]\\n\\n# One hot encoding of categorical predictors and typecasting all predictors as float\\nX = pd.get_dummies(X, drop_first=True).astype(\\\"float64\\\")\\n\\n# Splitting into 70:30 train and validation sets\\nX_train, X_val, y_train, y_val = train_test_split(X, y, test_size=0.3, random_state=42)\\n\\n# Checking shape of train and validation sets\\nprint(\\n    f\\\"There are {X_train.shape[0]} rows and {X_train.shape[1]} columns in the train set.\\\\n\\\"\\n)\\nprint(\\n    f\\\"There are {X_val.shape[0]} rows and {X_val.shape[1]} columns in the validation set.\\\\n\\\"\\n)\\n\\n# Checking a sample\\nX_train.sample()\";\n",
       "                var nbb_cells = Jupyter.notebook.get_cells();\n",
       "                for (var i = 0; i < nbb_cells.length; ++i) {\n",
       "                    if (nbb_cells[i].input_prompt_number == nbb_cell_id) {\n",
       "                        if (nbb_cells[i].get_text() == nbb_unformatted_code) {\n",
       "                             nbb_cells[i].set_text(nbb_formatted_code);\n",
       "                        }\n",
       "                        break;\n",
       "                    }\n",
       "                }\n",
       "            }, 500);\n",
       "            "
      ],
      "text/plain": [
       "<IPython.core.display.Javascript object>"
      ]
     },
     "metadata": {},
     "output_type": "display_data"
    }
   ],
   "source": [
    "# Creating list of predictor columns\n",
    "predictor_cols = [\n",
    "    \"num_references\",\n",
    "    \"years\",\n",
    "    \"region\",\n",
    "    \"prior_region\",\n",
    "    \"sciences\",\n",
    "    \"social\",\n",
    "    \"spiritual\",\n",
    "    \"academia_humanities\",\n",
    "    \"business_farming\",\n",
    "    \"arts\",\n",
    "    \"sports\",\n",
    "    \"law_enf_military_operator\",\n",
    "    \"politics_govt_law\",\n",
    "    \"crime\",\n",
    "    \"num_categories\",\n",
    "]\n",
    "\n",
    "# Defining target column\n",
    "target = \"age\"\n",
    "\n",
    "# Defining independent and dependent variables\n",
    "X = df[predictor_cols]\n",
    "y = df[target]\n",
    "\n",
    "# One hot encoding of categorical predictors and typecasting all predictors as float\n",
    "X = pd.get_dummies(X, drop_first=True).astype(\"float64\")\n",
    "\n",
    "# Splitting into 70:30 train and validation sets\n",
    "X_train, X_val, y_train, y_val = train_test_split(X, y, test_size=0.3, random_state=42)\n",
    "\n",
    "# Checking shape of train and validation sets\n",
    "print(\n",
    "    f\"There are {X_train.shape[0]} rows and {X_train.shape[1]} columns in the train set.\\n\"\n",
    ")\n",
    "print(\n",
    "    f\"There are {X_val.shape[0]} rows and {X_val.shape[1]} columns in the validation set.\\n\"\n",
    ")\n",
    "\n",
    "# Checking a sample\n",
    "X_train.sample()"
   ]
  },
  {
   "cell_type": "markdown",
   "id": "12f2d0b7",
   "metadata": {},
   "source": [
    "#### Defining Scorer for Cross-validation and Hyperparameter Tuning"
   ]
  },
  {
   "cell_type": "code",
   "execution_count": 36,
   "id": "091141e6",
   "metadata": {},
   "outputs": [
    {
     "data": {
      "application/javascript": [
       "\n",
       "            setTimeout(function() {\n",
       "                var nbb_cell_id = 36;\n",
       "                var nbb_unformatted_code = \"# Type of scoring used to compare parameter combinations--maximizing Adj R-squared\\nscorer = \\\"r2\\\"\";\n",
       "                var nbb_formatted_code = \"# Type of scoring used to compare parameter combinations--maximizing Adj R-squared\\nscorer = \\\"r2\\\"\";\n",
       "                var nbb_cells = Jupyter.notebook.get_cells();\n",
       "                for (var i = 0; i < nbb_cells.length; ++i) {\n",
       "                    if (nbb_cells[i].input_prompt_number == nbb_cell_id) {\n",
       "                        if (nbb_cells[i].get_text() == nbb_unformatted_code) {\n",
       "                             nbb_cells[i].set_text(nbb_formatted_code);\n",
       "                        }\n",
       "                        break;\n",
       "                    }\n",
       "                }\n",
       "            }, 500);\n",
       "            "
      ],
      "text/plain": [
       "<IPython.core.display.Javascript object>"
      ]
     },
     "metadata": {},
     "output_type": "display_data"
    }
   ],
   "source": [
    "# Type of scoring used to compare parameter combinations--maximizing Adj R-squared\n",
    "scorer = \"r2\""
   ]
  },
  {
   "cell_type": "markdown",
   "id": "1737ee02",
   "metadata": {},
   "source": [
    "### Building the Models"
   ]
  },
  {
   "cell_type": "code",
   "execution_count": 37,
   "id": "c72709d9",
   "metadata": {},
   "outputs": [
    {
     "name": "stdout",
     "output_type": "stream",
     "text": [
      "\n",
      "Cross-Validation:\n",
      "\n",
      "Dtree2: -0.39988031150791087\n",
      "Random Forest2: -0.055391943965687626\n",
      "Bagging Dtree2: -0.09151226074998306\n",
      "GBM2: 0.10458496917399238\n",
      "AdaBoost Dtree2: -0.04659101299906472\n",
      "XGB_gbtree2: 0.09199892946363704\n",
      "XGB_gblinear2: 0.08892135565755814\n",
      "\n",
      "Validation Performance:\n",
      "\n",
      "Dtree2: -0.3874580410488391\n",
      "Random Forest2: -0.05737130520636269\n",
      "Bagging Dtree2: -0.09428953449035293\n",
      "GBM2: 0.10690165941428653\n",
      "AdaBoost Dtree2: -0.08047644155074885\n",
      "XGB_gbtree2: 0.09741681484821774\n",
      "XGB_gblinear2: 0.09099787528674863\n",
      "CPU times: total: 4min 26s\n",
      "Wall time: 1min 20s\n"
     ]
    },
    {
     "data": {
      "application/javascript": [
       "\n",
       "            setTimeout(function() {\n",
       "                var nbb_cell_id = 37;\n",
       "                var nbb_unformatted_code = \"%%time\\n\\n# Creating list to store the models\\nmodels = []\\n\\n# Appending models to the list\\nmodels.append(('Dtree2', DecisionTreeRegressor(random_state=42)))\\n\\nmodels.append(('Random Forest2', RandomForestRegressor(random_state=42)))\\n\\nmodels.append(('Bagging Dtree2', BaggingRegressor(random_state=42)))\\n\\nmodels.append(('GBM2', GradientBoostingRegressor(random_state=42)))\\n\\nmodels.append(('AdaBoost Dtree2', AdaBoostRegressor(random_state=42)))\\n\\nmodels.append(('XGB_gbtree2', XGBRegressor(random_state=42)))\\n\\nmodels.append(('XGB_gblinear2', XGBRegressor(random_state=42, booster='gblinear')))\\n\\n# Create empty list to store all model's names and CV scores\\nnames = []\\nresults = []\\n\\n# Loop through all models to get the mean cross validated score\\nprint(\\\"\\\\n\\\" \\\"Cross-Validation:\\\" \\\"\\\\n\\\")\\n\\nfor name, model in models:\\n    cv_result = cross_val_score(\\n        estimator=model, X=X_train, y=y_train, scoring=scorer, cv=5\\n    )\\n    results.append(cv_result)\\n    names.append(name)\\n    print(f\\\"{name}: {cv_result.mean()}\\\")\\n    \\nprint(\\\"\\\\n\\\" \\\"Validation Performance:\\\" \\\"\\\\n\\\")\\n\\nfor name, model in models:\\n    model.fit(X_train, y_train)\\n    scores = r2_score(y_val, model.predict(X_val))\\n    print(\\\"{}: {}\\\".format(name, scores))\";\n",
       "                var nbb_formatted_code = \"%%time\\n\\n# Creating list to store the models\\nmodels = []\\n\\n# Appending models to the list\\nmodels.append(('Dtree2', DecisionTreeRegressor(random_state=42)))\\n\\nmodels.append(('Random Forest2', RandomForestRegressor(random_state=42)))\\n\\nmodels.append(('Bagging Dtree2', BaggingRegressor(random_state=42)))\\n\\nmodels.append(('GBM2', GradientBoostingRegressor(random_state=42)))\\n\\nmodels.append(('AdaBoost Dtree2', AdaBoostRegressor(random_state=42)))\\n\\nmodels.append(('XGB_gbtree2', XGBRegressor(random_state=42)))\\n\\nmodels.append(('XGB_gblinear2', XGBRegressor(random_state=42, booster='gblinear')))\\n\\n# Create empty list to store all model's names and CV scores\\nnames = []\\nresults = []\\n\\n# Loop through all models to get the mean cross validated score\\nprint(\\\"\\\\n\\\" \\\"Cross-Validation:\\\" \\\"\\\\n\\\")\\n\\nfor name, model in models:\\n    cv_result = cross_val_score(\\n        estimator=model, X=X_train, y=y_train, scoring=scorer, cv=5\\n    )\\n    results.append(cv_result)\\n    names.append(name)\\n    print(f\\\"{name}: {cv_result.mean()}\\\")\\n    \\nprint(\\\"\\\\n\\\" \\\"Validation Performance:\\\" \\\"\\\\n\\\")\\n\\nfor name, model in models:\\n    model.fit(X_train, y_train)\\n    scores = r2_score(y_val, model.predict(X_val))\\n    print(\\\"{}: {}\\\".format(name, scores))\";\n",
       "                var nbb_cells = Jupyter.notebook.get_cells();\n",
       "                for (var i = 0; i < nbb_cells.length; ++i) {\n",
       "                    if (nbb_cells[i].input_prompt_number == nbb_cell_id) {\n",
       "                        if (nbb_cells[i].get_text() == nbb_unformatted_code) {\n",
       "                             nbb_cells[i].set_text(nbb_formatted_code);\n",
       "                        }\n",
       "                        break;\n",
       "                    }\n",
       "                }\n",
       "            }, 500);\n",
       "            "
      ],
      "text/plain": [
       "<IPython.core.display.Javascript object>"
      ]
     },
     "metadata": {},
     "output_type": "display_data"
    }
   ],
   "source": [
    "%%time\n",
    "\n",
    "# Creating list to store the models\n",
    "models = []\n",
    "\n",
    "# Appending models to the list\n",
    "models.append(('Dtree2', DecisionTreeRegressor(random_state=42)))\n",
    "\n",
    "models.append(('Random Forest2', RandomForestRegressor(random_state=42)))\n",
    "\n",
    "models.append(('Bagging Dtree2', BaggingRegressor(random_state=42)))\n",
    "\n",
    "models.append(('GBM2', GradientBoostingRegressor(random_state=42)))\n",
    "\n",
    "models.append(('AdaBoost Dtree2', AdaBoostRegressor(random_state=42)))\n",
    "\n",
    "models.append(('XGB_gbtree2', XGBRegressor(random_state=42)))\n",
    "\n",
    "models.append(('XGB_gblinear2', XGBRegressor(random_state=42, booster='gblinear')))\n",
    "\n",
    "# Create empty list to store all model's names and CV scores\n",
    "names = []\n",
    "results = []\n",
    "\n",
    "# Loop through all models to get the mean cross validated score\n",
    "print(\"\\n\" \"Cross-Validation:\" \"\\n\")\n",
    "\n",
    "for name, model in models:\n",
    "    cv_result = cross_val_score(\n",
    "        estimator=model, X=X_train, y=y_train, scoring=scorer, cv=5\n",
    "    )\n",
    "    results.append(cv_result)\n",
    "    names.append(name)\n",
    "    print(f\"{name}: {cv_result.mean()}\")\n",
    "    \n",
    "print(\"\\n\" \"Validation Performance:\" \"\\n\")\n",
    "\n",
    "for name, model in models:\n",
    "    model.fit(X_train, y_train)\n",
    "    scores = r2_score(y_val, model.predict(X_val))\n",
    "    print(\"{}: {}\".format(name, scores))"
   ]
  },
  {
   "cell_type": "code",
   "execution_count": 38,
   "id": "8c8051d8",
   "metadata": {},
   "outputs": [
    {
     "data": {
      "image/png": "[encoded data removed]",
      "text/plain": [
       "<Figure size 1440x504 with 1 Axes>"
      ]
     },
     "metadata": {},
     "output_type": "display_data"
    },
    {
     "data": {
      "application/javascript": [
       "\n",
       "            setTimeout(function() {\n",
       "                var nbb_cell_id = 38;\n",
       "                var nbb_unformatted_code = \"# Plotting boxplots for CV scores of all models defined above\\nfig = plt.figure(figsize=(20, 7))\\n\\nfig.suptitle(\\\"Algorithm Comparison for Cross-validation R-squared Score\\\")\\nax = fig.add_subplot(111)\\n\\nplt.boxplot(results)\\nax.set_xticklabels(names)\\nplt.xticks(rotation=30)\\n\\nplt.show()\";\n",
       "                var nbb_formatted_code = \"# Plotting boxplots for CV scores of all models defined above\\nfig = plt.figure(figsize=(20, 7))\\n\\nfig.suptitle(\\\"Algorithm Comparison for Cross-validation R-squared Score\\\")\\nax = fig.add_subplot(111)\\n\\nplt.boxplot(results)\\nax.set_xticklabels(names)\\nplt.xticks(rotation=30)\\n\\nplt.show()\";\n",
       "                var nbb_cells = Jupyter.notebook.get_cells();\n",
       "                for (var i = 0; i < nbb_cells.length; ++i) {\n",
       "                    if (nbb_cells[i].input_prompt_number == nbb_cell_id) {\n",
       "                        if (nbb_cells[i].get_text() == nbb_unformatted_code) {\n",
       "                             nbb_cells[i].set_text(nbb_formatted_code);\n",
       "                        }\n",
       "                        break;\n",
       "                    }\n",
       "                }\n",
       "            }, 500);\n",
       "            "
      ],
      "text/plain": [
       "<IPython.core.display.Javascript object>"
      ]
     },
     "metadata": {},
     "output_type": "display_data"
    }
   ],
   "source": [
    "# Plotting boxplots for CV scores of all models defined above\n",
    "fig = plt.figure(figsize=(20, 7))\n",
    "\n",
    "fig.suptitle(\"Algorithm Comparison for Cross-validation R-squared Score\")\n",
    "ax = fig.add_subplot(111)\n",
    "\n",
    "plt.boxplot(results)\n",
    "ax.set_xticklabels(names)\n",
    "plt.xticks(rotation=30)\n",
    "\n",
    "plt.show()"
   ]
  },
  {
   "cell_type": "markdown",
   "id": "ad83c51d",
   "metadata": {},
   "source": [
    "#### Observations:\n",
    "- So far, the performances are similar to the first modeling iteration above.\n",
    "- We will perform hyperparameter tuning on the top 3 models and again keep *Random Forest2* in the mix, also."
   ]
  },
  {
   "cell_type": "markdown",
   "id": "17777769",
   "metadata": {},
   "source": [
    "#### Collecting Models with Best Performance"
   ]
  },
  {
   "cell_type": "code",
   "execution_count": 39,
   "id": "31644f82",
   "metadata": {},
   "outputs": [
    {
     "data": {
      "application/javascript": [
       "\n",
       "            setTimeout(function() {\n",
       "                var nbb_cell_id = 39;\n",
       "                var nbb_unformatted_code = \"# List of top models so far\\ntop_models = [models[1]] + [models[3]] + models[-2:]\";\n",
       "                var nbb_formatted_code = \"# List of top models so far\\ntop_models = [models[1]] + [models[3]] + models[-2:]\";\n",
       "                var nbb_cells = Jupyter.notebook.get_cells();\n",
       "                for (var i = 0; i < nbb_cells.length; ++i) {\n",
       "                    if (nbb_cells[i].input_prompt_number == nbb_cell_id) {\n",
       "                        if (nbb_cells[i].get_text() == nbb_unformatted_code) {\n",
       "                             nbb_cells[i].set_text(nbb_formatted_code);\n",
       "                        }\n",
       "                        break;\n",
       "                    }\n",
       "                }\n",
       "            }, 500);\n",
       "            "
      ],
      "text/plain": [
       "<IPython.core.display.Javascript object>"
      ]
     },
     "metadata": {},
     "output_type": "display_data"
    }
   ],
   "source": [
    "# List of top models so far\n",
    "top_models = [models[1]] + [models[3]] + models[-2:]"
   ]
  },
  {
   "cell_type": "markdown",
   "id": "bdf8ed15",
   "metadata": {},
   "source": [
    "#### Creating Dataframes to Compare Training and Validation Performance of Best Models"
   ]
  },
  {
   "cell_type": "code",
   "execution_count": 40,
   "id": "eac3f2e7",
   "metadata": {},
   "outputs": [
    {
     "data": {
      "application/javascript": [
       "\n",
       "            setTimeout(function() {\n",
       "                var nbb_cell_id = 40;\n",
       "                var nbb_unformatted_code = \"# Creating empty dictionary to hold the models\\nmodels_to_tune = {}\\n\\n# For loop to add models to dictionary\\nfor model in top_models:\\n    key = model[0]\\n    value = model[1]\\n    models_to_tune[key] = value\\n\\n# For loop to add performance results of each top model\\nfor name, model in models_to_tune.items():\\n    models_train_comp_df[name] = model_performance_regression(model, X_train, y_train).T\\n    models_val_comp_df[name] = model_performance_regression(model, X_val, y_val).T\";\n",
       "                var nbb_formatted_code = \"# Creating empty dictionary to hold the models\\nmodels_to_tune = {}\\n\\n# For loop to add models to dictionary\\nfor model in top_models:\\n    key = model[0]\\n    value = model[1]\\n    models_to_tune[key] = value\\n\\n# For loop to add performance results of each top model\\nfor name, model in models_to_tune.items():\\n    models_train_comp_df[name] = model_performance_regression(model, X_train, y_train).T\\n    models_val_comp_df[name] = model_performance_regression(model, X_val, y_val).T\";\n",
       "                var nbb_cells = Jupyter.notebook.get_cells();\n",
       "                for (var i = 0; i < nbb_cells.length; ++i) {\n",
       "                    if (nbb_cells[i].input_prompt_number == nbb_cell_id) {\n",
       "                        if (nbb_cells[i].get_text() == nbb_unformatted_code) {\n",
       "                             nbb_cells[i].set_text(nbb_formatted_code);\n",
       "                        }\n",
       "                        break;\n",
       "                    }\n",
       "                }\n",
       "            }, 500);\n",
       "            "
      ],
      "text/plain": [
       "<IPython.core.display.Javascript object>"
      ]
     },
     "metadata": {},
     "output_type": "display_data"
    }
   ],
   "source": [
    "# Creating empty dictionary to hold the models\n",
    "models_to_tune = {}\n",
    "\n",
    "# For loop to add models to dictionary\n",
    "for model in top_models:\n",
    "    key = model[0]\n",
    "    value = model[1]\n",
    "    models_to_tune[key] = value\n",
    "\n",
    "# For loop to add performance results of each top model\n",
    "for name, model in models_to_tune.items():\n",
    "    models_train_comp_df[name] = model_performance_regression(model, X_train, y_train).T\n",
    "    models_val_comp_df[name] = model_performance_regression(model, X_val, y_val).T"
   ]
  },
  {
   "cell_type": "markdown",
   "id": "17466a60",
   "metadata": {},
   "source": [
    "#### Comparing Top Models Before Hyperparameter Tuning"
   ]
  },
  {
   "cell_type": "code",
   "execution_count": 41,
   "id": "d7a2bc20",
   "metadata": {},
   "outputs": [
    {
     "name": "stdout",
     "output_type": "stream",
     "text": [
      "Training Performance:\n"
     ]
    },
    {
     "data": {
      "text/html": [
       "<div>\n",
       "<style scoped>\n",
       "    .dataframe tbody tr th:only-of-type {\n",
       "        vertical-align: middle;\n",
       "    }\n",
       "\n",
       "    .dataframe tbody tr th {\n",
       "        vertical-align: top;\n",
       "    }\n",
       "\n",
       "    .dataframe thead th {\n",
       "        text-align: right;\n",
       "    }\n",
       "</style>\n",
       "<table border=\"1\" class=\"dataframe\">\n",
       "  <thead>\n",
       "    <tr style=\"text-align: right;\">\n",
       "      <th></th>\n",
       "      <th>Random Forest2</th>\n",
       "      <th>GBM2</th>\n",
       "      <th>XGB_gbtree2</th>\n",
       "      <th>XGB_gblinear2</th>\n",
       "    </tr>\n",
       "  </thead>\n",
       "  <tbody>\n",
       "    <tr>\n",
       "      <th>RMSE</th>\n",
       "      <td>11.328976</td>\n",
       "      <td>14.937480</td>\n",
       "      <td>14.196740</td>\n",
       "      <td>15.129664</td>\n",
       "    </tr>\n",
       "    <tr>\n",
       "      <th>MAE</th>\n",
       "      <td>8.362030</td>\n",
       "      <td>11.599899</td>\n",
       "      <td>10.984573</td>\n",
       "      <td>11.741451</td>\n",
       "    </tr>\n",
       "    <tr>\n",
       "      <th>R-squared</th>\n",
       "      <td>0.489686</td>\n",
       "      <td>0.112822</td>\n",
       "      <td>0.198629</td>\n",
       "      <td>0.089846</td>\n",
       "    </tr>\n",
       "    <tr>\n",
       "      <th>Adj. R-squared</th>\n",
       "      <td>0.489367</td>\n",
       "      <td>0.112266</td>\n",
       "      <td>0.198128</td>\n",
       "      <td>0.089276</td>\n",
       "    </tr>\n",
       "    <tr>\n",
       "      <th>MAPE</th>\n",
       "      <td>13.404005</td>\n",
       "      <td>19.178492</td>\n",
       "      <td>17.982195</td>\n",
       "      <td>19.384544</td>\n",
       "    </tr>\n",
       "  </tbody>\n",
       "</table>\n",
       "</div>"
      ],
      "text/plain": [
       "                Random Forest2       GBM2  XGB_gbtree2  XGB_gblinear2\n",
       "RMSE                 11.328976  14.937480    14.196740      15.129664\n",
       "MAE                   8.362030  11.599899    10.984573      11.741451\n",
       "R-squared             0.489686   0.112822     0.198629       0.089846\n",
       "Adj. R-squared        0.489367   0.112266     0.198128       0.089276\n",
       "MAPE                 13.404005  19.178492    17.982195      19.384544"
      ]
     },
     "execution_count": 41,
     "metadata": {},
     "output_type": "execute_result"
    },
    {
     "data": {
      "application/javascript": [
       "\n",
       "            setTimeout(function() {\n",
       "                var nbb_cell_id = 41;\n",
       "                var nbb_unformatted_code = \"# Comparing train performance\\nprint(f\\\"Training Performance:\\\")\\nmodels_train_comp_df[[key for key in models_to_tune.keys()]]\";\n",
       "                var nbb_formatted_code = \"# Comparing train performance\\nprint(f\\\"Training Performance:\\\")\\nmodels_train_comp_df[[key for key in models_to_tune.keys()]]\";\n",
       "                var nbb_cells = Jupyter.notebook.get_cells();\n",
       "                for (var i = 0; i < nbb_cells.length; ++i) {\n",
       "                    if (nbb_cells[i].input_prompt_number == nbb_cell_id) {\n",
       "                        if (nbb_cells[i].get_text() == nbb_unformatted_code) {\n",
       "                             nbb_cells[i].set_text(nbb_formatted_code);\n",
       "                        }\n",
       "                        break;\n",
       "                    }\n",
       "                }\n",
       "            }, 500);\n",
       "            "
      ],
      "text/plain": [
       "<IPython.core.display.Javascript object>"
      ]
     },
     "metadata": {},
     "output_type": "display_data"
    }
   ],
   "source": [
    "# Comparing train performance\n",
    "print(f\"Training Performance:\")\n",
    "models_train_comp_df[[key for key in models_to_tune.keys()]]"
   ]
  },
  {
   "cell_type": "code",
   "execution_count": 42,
   "id": "2afc9145",
   "metadata": {},
   "outputs": [
    {
     "name": "stdout",
     "output_type": "stream",
     "text": [
      "Validation Performance:\n"
     ]
    },
    {
     "data": {
      "text/html": [
       "<div>\n",
       "<style scoped>\n",
       "    .dataframe tbody tr th:only-of-type {\n",
       "        vertical-align: middle;\n",
       "    }\n",
       "\n",
       "    .dataframe tbody tr th {\n",
       "        vertical-align: top;\n",
       "    }\n",
       "\n",
       "    .dataframe thead th {\n",
       "        text-align: right;\n",
       "    }\n",
       "</style>\n",
       "<table border=\"1\" class=\"dataframe\">\n",
       "  <thead>\n",
       "    <tr style=\"text-align: right;\">\n",
       "      <th></th>\n",
       "      <th>Random Forest2</th>\n",
       "      <th>GBM2</th>\n",
       "      <th>XGB_gbtree2</th>\n",
       "      <th>XGB_gblinear2</th>\n",
       "    </tr>\n",
       "  </thead>\n",
       "  <tbody>\n",
       "    <tr>\n",
       "      <th>RMSE</th>\n",
       "      <td>16.206121</td>\n",
       "      <td>14.894124</td>\n",
       "      <td>14.973004</td>\n",
       "      <td>15.026151</td>\n",
       "    </tr>\n",
       "    <tr>\n",
       "      <th>MAE</th>\n",
       "      <td>12.476262</td>\n",
       "      <td>11.552854</td>\n",
       "      <td>11.582826</td>\n",
       "      <td>11.654557</td>\n",
       "    </tr>\n",
       "    <tr>\n",
       "      <th>R-squared</th>\n",
       "      <td>-0.057371</td>\n",
       "      <td>0.106902</td>\n",
       "      <td>0.097417</td>\n",
       "      <td>0.090998</td>\n",
       "    </tr>\n",
       "    <tr>\n",
       "      <th>Adj. R-squared</th>\n",
       "      <td>-0.058917</td>\n",
       "      <td>0.105596</td>\n",
       "      <td>0.096097</td>\n",
       "      <td>0.089669</td>\n",
       "    </tr>\n",
       "    <tr>\n",
       "      <th>MAPE</th>\n",
       "      <td>20.071146</td>\n",
       "      <td>19.011210</td>\n",
       "      <td>18.941080</td>\n",
       "      <td>19.158585</td>\n",
       "    </tr>\n",
       "  </tbody>\n",
       "</table>\n",
       "</div>"
      ],
      "text/plain": [
       "                Random Forest2       GBM2  XGB_gbtree2  XGB_gblinear2\n",
       "RMSE                 16.206121  14.894124    14.973004      15.026151\n",
       "MAE                  12.476262  11.552854    11.582826      11.654557\n",
       "R-squared            -0.057371   0.106902     0.097417       0.090998\n",
       "Adj. R-squared       -0.058917   0.105596     0.096097       0.089669\n",
       "MAPE                 20.071146  19.011210    18.941080      19.158585"
      ]
     },
     "execution_count": 42,
     "metadata": {},
     "output_type": "execute_result"
    },
    {
     "data": {
      "application/javascript": [
       "\n",
       "            setTimeout(function() {\n",
       "                var nbb_cell_id = 42;\n",
       "                var nbb_unformatted_code = \"# Comparing validation performance\\nprint(f\\\"Validation Performance:\\\")\\nmodels_val_comp_df[[key for key in models_to_tune.keys()]]\";\n",
       "                var nbb_formatted_code = \"# Comparing validation performance\\nprint(f\\\"Validation Performance:\\\")\\nmodels_val_comp_df[[key for key in models_to_tune.keys()]]\";\n",
       "                var nbb_cells = Jupyter.notebook.get_cells();\n",
       "                for (var i = 0; i < nbb_cells.length; ++i) {\n",
       "                    if (nbb_cells[i].input_prompt_number == nbb_cell_id) {\n",
       "                        if (nbb_cells[i].get_text() == nbb_unformatted_code) {\n",
       "                             nbb_cells[i].set_text(nbb_formatted_code);\n",
       "                        }\n",
       "                        break;\n",
       "                    }\n",
       "                }\n",
       "            }, 500);\n",
       "            "
      ],
      "text/plain": [
       "<IPython.core.display.Javascript object>"
      ]
     },
     "metadata": {},
     "output_type": "display_data"
    }
   ],
   "source": [
    "# Comparing validation performance\n",
    "print(f\"Validation Performance:\")\n",
    "models_val_comp_df[[key for key in models_to_tune.keys()]]"
   ]
  },
  {
   "cell_type": "markdown",
   "id": "84e812ca",
   "metadata": {},
   "source": [
    "#### Observations:\n",
    "- Here, we compare the performance on the whole train set to the validation set.\n",
    "- As with the first iteration above, only *GBM2* and *XGB_gblinear2* are giving generalized performances on the two sets.\n",
    "- We will proceed with hyperparameter tuning."
   ]
  },
  {
   "cell_type": "markdown",
   "id": "b59aace1",
   "metadata": {},
   "source": [
    "## Hyperparameter Tuning"
   ]
  },
  {
   "cell_type": "markdown",
   "id": "4c9645e8",
   "metadata": {},
   "source": [
    "### *Random Forest2 Tuned*"
   ]
  },
  {
   "cell_type": "code",
   "execution_count": 43,
   "id": "fdc0fd0b",
   "metadata": {},
   "outputs": [
    {
     "data": {
      "text/plain": [
       "RandomForestRegressor(random_state=42)"
      ]
     },
     "execution_count": 43,
     "metadata": {},
     "output_type": "execute_result"
    },
    {
     "data": {
      "application/javascript": [
       "\n",
       "            setTimeout(function() {\n",
       "                var nbb_cell_id = 43;\n",
       "                var nbb_unformatted_code = \"# Confirming the model\\nmodels_to_tune[\\\"Random Forest2\\\"]\";\n",
       "                var nbb_formatted_code = \"# Confirming the model\\nmodels_to_tune[\\\"Random Forest2\\\"]\";\n",
       "                var nbb_cells = Jupyter.notebook.get_cells();\n",
       "                for (var i = 0; i < nbb_cells.length; ++i) {\n",
       "                    if (nbb_cells[i].input_prompt_number == nbb_cell_id) {\n",
       "                        if (nbb_cells[i].get_text() == nbb_unformatted_code) {\n",
       "                             nbb_cells[i].set_text(nbb_formatted_code);\n",
       "                        }\n",
       "                        break;\n",
       "                    }\n",
       "                }\n",
       "            }, 500);\n",
       "            "
      ],
      "text/plain": [
       "<IPython.core.display.Javascript object>"
      ]
     },
     "metadata": {},
     "output_type": "display_data"
    }
   ],
   "source": [
    "# Confirming the model\n",
    "models_to_tune[\"Random Forest2\"]"
   ]
  },
  {
   "cell_type": "code",
   "execution_count": 44,
   "id": "c0c1d615",
   "metadata": {},
   "outputs": [
    {
     "name": "stderr",
     "output_type": "stream",
     "text": [
      "C:\\Users\\Teres\\anaconda3\\lib\\site-packages\\sklearn\\model_selection\\_validation.py:372: FitFailedWarning: \n",
      "5 fits failed out of a total of 50.\n",
      "The score on these train-test partitions for these parameters will be set to nan.\n",
      "If these failures are not expected, you can try to debug them by setting error_score='raise'.\n",
      "\n",
      "Below are more details about the failures:\n",
      "--------------------------------------------------------------------------------\n",
      "5 fits failed with the following error:\n",
      "Traceback (most recent call last):\n",
      "  File \"C:\\Users\\Teres\\anaconda3\\lib\\site-packages\\sklearn\\model_selection\\_validation.py\", line 680, in _fit_and_score\n",
      "    estimator.fit(X_train, y_train, **fit_params)\n",
      "  File \"C:\\Users\\Teres\\anaconda3\\lib\\site-packages\\sklearn\\ensemble\\_forest.py\", line 450, in fit\n",
      "    trees = Parallel(\n",
      "  File \"C:\\Users\\Teres\\anaconda3\\lib\\site-packages\\joblib\\parallel.py\", line 1043, in __call__\n",
      "    if self.dispatch_one_batch(iterator):\n",
      "  File \"C:\\Users\\Teres\\anaconda3\\lib\\site-packages\\joblib\\parallel.py\", line 861, in dispatch_one_batch\n",
      "    self._dispatch(tasks)\n",
      "  File \"C:\\Users\\Teres\\anaconda3\\lib\\site-packages\\joblib\\parallel.py\", line 779, in _dispatch\n",
      "    job = self._backend.apply_async(batch, callback=cb)\n",
      "  File \"C:\\Users\\Teres\\anaconda3\\lib\\site-packages\\joblib\\_parallel_backends.py\", line 208, in apply_async\n",
      "    result = ImmediateResult(func)\n",
      "  File \"C:\\Users\\Teres\\anaconda3\\lib\\site-packages\\joblib\\_parallel_backends.py\", line 572, in __init__\n",
      "    self.results = batch()\n",
      "  File \"C:\\Users\\Teres\\anaconda3\\lib\\site-packages\\joblib\\parallel.py\", line 262, in __call__\n",
      "    return [func(*args, **kwargs)\n",
      "  File \"C:\\Users\\Teres\\anaconda3\\lib\\site-packages\\joblib\\parallel.py\", line 262, in <listcomp>\n",
      "    return [func(*args, **kwargs)\n",
      "  File \"C:\\Users\\Teres\\anaconda3\\lib\\site-packages\\sklearn\\utils\\fixes.py\", line 216, in __call__\n",
      "    return self.function(*args, **kwargs)\n",
      "  File \"C:\\Users\\Teres\\anaconda3\\lib\\site-packages\\sklearn\\ensemble\\_forest.py\", line 185, in _parallel_build_trees\n",
      "    tree.fit(X, y, sample_weight=curr_sample_weight, check_input=False)\n",
      "  File \"C:\\Users\\Teres\\anaconda3\\lib\\site-packages\\sklearn\\tree\\_classes.py\", line 1315, in fit\n",
      "    super().fit(\n",
      "  File \"C:\\Users\\Teres\\anaconda3\\lib\\site-packages\\sklearn\\tree\\_classes.py\", line 241, in fit\n",
      "    if not 0.0 < self.min_samples_leaf <= 0.5:\n",
      "TypeError: '<' not supported between instances of 'float' and 'NoneType'\n",
      "\n",
      "  warnings.warn(some_fits_failed_message, FitFailedWarning)\n",
      "C:\\Users\\Teres\\anaconda3\\lib\\site-packages\\sklearn\\model_selection\\_search.py:969: UserWarning: One or more of the test scores are non-finite: [0.10342598 0.10211994 0.10160088 0.10362196 0.05381091 0.10627175\n",
      " 0.10560085 0.10495005        nan 0.09923682]\n",
      "  warnings.warn(\n"
     ]
    },
    {
     "name": "stdout",
     "output_type": "stream",
     "text": [
      "Best parameters are {'criterion': 'squared_error', 'max_depth': None, 'max_features': 'sqrt', 'max_samples': 0.7162213204002108, 'min_samples_leaf': 5, 'n_estimators': 485} with CV score=0.10627175102316326:\n",
      "CPU times: total: 7.36 s\n",
      "Wall time: 58.1 s\n"
     ]
    },
    {
     "data": {
      "application/javascript": [
       "\n",
       "            setTimeout(function() {\n",
       "                var nbb_cell_id = 44;\n",
       "                var nbb_unformatted_code = \"%%time\\n\\n# Defining model\\nModel = RandomForestRegressor(random_state=42)\\n\\n# Parameter grid to pass in RandomizedSearchCV\\nparam_grid = { \\n    \\\"n_estimators\\\": np.arange(100, 500), \\n    \\\"min_samples_leaf\\\": [None] + np.arange(1, 10).tolist(),\\n    \\\"max_features\\\": ['sqrt'], \\n    \\\"max_samples\\\": uniform(loc=0.3, scale=0.5),\\n    'criterion': ['squared_error'],\\n    \\\"max_depth\\\": [None]\\n}\\n\\n# Calling RandomizedSearchCV\\nrandomized_cv = RandomizedSearchCV(\\n    estimator=Model,\\n    param_distributions=param_grid,\\n    n_iter=10,\\n    n_jobs=-1,\\n    scoring=scorer,\\n    cv=5,\\n    random_state=42,\\n)\\n\\n# Fitting parameters in RandomizedSearchCV\\nrandomized_cv.fit(X_train, y_train)\\n\\nprint(\\n    \\\"Best parameters are {} with CV score={}:\\\".format(\\n        randomized_cv.best_params_, randomized_cv.best_score_\\n    )\\n)\\n\\n# Chime notification when cell successfully executes\\nchime.success()\";\n",
       "                var nbb_formatted_code = \"%%time\\n\\n# Defining model\\nModel = RandomForestRegressor(random_state=42)\\n\\n# Parameter grid to pass in RandomizedSearchCV\\nparam_grid = { \\n    \\\"n_estimators\\\": np.arange(100, 500), \\n    \\\"min_samples_leaf\\\": [None] + np.arange(1, 10).tolist(),\\n    \\\"max_features\\\": ['sqrt'], \\n    \\\"max_samples\\\": uniform(loc=0.3, scale=0.5),\\n    'criterion': ['squared_error'],\\n    \\\"max_depth\\\": [None]\\n}\\n\\n# Calling RandomizedSearchCV\\nrandomized_cv = RandomizedSearchCV(\\n    estimator=Model,\\n    param_distributions=param_grid,\\n    n_iter=10,\\n    n_jobs=-1,\\n    scoring=scorer,\\n    cv=5,\\n    random_state=42,\\n)\\n\\n# Fitting parameters in RandomizedSearchCV\\nrandomized_cv.fit(X_train, y_train)\\n\\nprint(\\n    \\\"Best parameters are {} with CV score={}:\\\".format(\\n        randomized_cv.best_params_, randomized_cv.best_score_\\n    )\\n)\\n\\n# Chime notification when cell successfully executes\\nchime.success()\";\n",
       "                var nbb_cells = Jupyter.notebook.get_cells();\n",
       "                for (var i = 0; i < nbb_cells.length; ++i) {\n",
       "                    if (nbb_cells[i].input_prompt_number == nbb_cell_id) {\n",
       "                        if (nbb_cells[i].get_text() == nbb_unformatted_code) {\n",
       "                             nbb_cells[i].set_text(nbb_formatted_code);\n",
       "                        }\n",
       "                        break;\n",
       "                    }\n",
       "                }\n",
       "            }, 500);\n",
       "            "
      ],
      "text/plain": [
       "<IPython.core.display.Javascript object>"
      ]
     },
     "metadata": {},
     "output_type": "display_data"
    }
   ],
   "source": [
    "%%time\n",
    "\n",
    "# Defining model\n",
    "Model = RandomForestRegressor(random_state=42)\n",
    "\n",
    "# Parameter grid to pass in RandomizedSearchCV\n",
    "param_grid = { \n",
    "    \"n_estimators\": np.arange(100, 500), \n",
    "    \"min_samples_leaf\": [None] + np.arange(1, 10).tolist(),\n",
    "    \"max_features\": ['sqrt'], \n",
    "    \"max_samples\": uniform(loc=0.3, scale=0.5),\n",
    "    'criterion': ['squared_error'],\n",
    "    \"max_depth\": [None]\n",
    "}\n",
    "\n",
    "# Calling RandomizedSearchCV\n",
    "randomized_cv = RandomizedSearchCV(\n",
    "    estimator=Model,\n",
    "    param_distributions=param_grid,\n",
    "    n_iter=10,\n",
    "    n_jobs=-1,\n",
    "    scoring=scorer,\n",
    "    cv=5,\n",
    "    random_state=42,\n",
    ")\n",
    "\n",
    "# Fitting parameters in RandomizedSearchCV\n",
    "randomized_cv.fit(X_train, y_train)\n",
    "\n",
    "print(\n",
    "    \"Best parameters are {} with CV score={}:\".format(\n",
    "        randomized_cv.best_params_, randomized_cv.best_score_\n",
    "    )\n",
    ")\n",
    "\n",
    "# Chime notification when cell successfully executes\n",
    "chime.success()"
   ]
  },
  {
   "cell_type": "code",
   "execution_count": 45,
   "id": "ff8ed9c5",
   "metadata": {},
   "outputs": [
    {
     "data": {
      "text/plain": [
       "RandomForestRegressor(max_features='sqrt', max_samples=0.7162213204002108,\n",
       "                      min_samples_leaf=5, n_estimators=485)"
      ]
     },
     "execution_count": 45,
     "metadata": {},
     "output_type": "execute_result"
    },
    {
     "data": {
      "application/javascript": [
       "\n",
       "            setTimeout(function() {\n",
       "                var nbb_cell_id = 45;\n",
       "                var nbb_unformatted_code = \"# Building model with best parameters\\nRandom_Forest2_tuned = RandomForestRegressor(\\n    criterion=\\\"squared_error\\\",\\n    max_depth=None,\\n    max_features=\\\"sqrt\\\",\\n    max_samples=0.7162213204002108,\\n    min_samples_leaf=5,\\n    n_estimators=485,\\n)\\n\\n# Fit the model on training data\\nRandom_Forest2_tuned.fit(X_train, y_train)\";\n",
       "                var nbb_formatted_code = \"# Building model with best parameters\\nRandom_Forest2_tuned = RandomForestRegressor(\\n    criterion=\\\"squared_error\\\",\\n    max_depth=None,\\n    max_features=\\\"sqrt\\\",\\n    max_samples=0.7162213204002108,\\n    min_samples_leaf=5,\\n    n_estimators=485,\\n)\\n\\n# Fit the model on training data\\nRandom_Forest2_tuned.fit(X_train, y_train)\";\n",
       "                var nbb_cells = Jupyter.notebook.get_cells();\n",
       "                for (var i = 0; i < nbb_cells.length; ++i) {\n",
       "                    if (nbb_cells[i].input_prompt_number == nbb_cell_id) {\n",
       "                        if (nbb_cells[i].get_text() == nbb_unformatted_code) {\n",
       "                             nbb_cells[i].set_text(nbb_formatted_code);\n",
       "                        }\n",
       "                        break;\n",
       "                    }\n",
       "                }\n",
       "            }, 500);\n",
       "            "
      ],
      "text/plain": [
       "<IPython.core.display.Javascript object>"
      ]
     },
     "metadata": {},
     "output_type": "display_data"
    }
   ],
   "source": [
    "# Building model with best parameters\n",
    "Random_Forest2_tuned = RandomForestRegressor(\n",
    "    criterion=\"squared_error\",\n",
    "    max_depth=None,\n",
    "    max_features=\"sqrt\",\n",
    "    max_samples=0.7162213204002108,\n",
    "    min_samples_leaf=5,\n",
    "    n_estimators=485,\n",
    ")\n",
    "\n",
    "# Fit the model on training data\n",
    "Random_Forest2_tuned.fit(X_train, y_train)"
   ]
  },
  {
   "cell_type": "code",
   "execution_count": 46,
   "id": "7bb844d6",
   "metadata": {},
   "outputs": [
    {
     "name": "stdout",
     "output_type": "stream",
     "text": [
      "Training performance:\n",
      "         RMSE        MAE  R-squared  Adj. R-squared       MAPE\n",
      "0  14.485455  11.250801   0.165703        0.165181  18.596652\n",
      "\n",
      "Validation performance:\n",
      "         RMSE        MAE  R-squared  Adj. R-squared       MAPE\n",
      "0  14.906245  11.559593   0.105447        0.104139  19.019887\n"
     ]
    },
    {
     "data": {
      "application/javascript": [
       "\n",
       "            setTimeout(function() {\n",
       "                var nbb_cell_id = 46;\n",
       "                var nbb_unformatted_code = \"# Calculating different metrics\\nRandom_Forest2_tuned_train_perf = model_performance_regression(\\n    Random_Forest2_tuned, X_train, y_train\\n)\\nprint(\\\"Training performance:\\\\n\\\", Random_Forest2_tuned_train_perf)\\nRandom_Forest2_tuned_val_perf = model_performance_regression(\\n    Random_Forest2_tuned, X_val, y_val\\n)\\nprint(\\\"\\\\nValidation performance:\\\\n\\\", Random_Forest2_tuned_val_perf)\\n\\n# Adding model to model comparison dataframes\\nmodels_train_comp_df[\\\"Random Forest2 Tuned\\\"] = Random_Forest2_tuned_train_perf.T\\nmodels_val_comp_df[\\\"Random Forest2 Tuned\\\"] = Random_Forest2_tuned_val_perf.T\";\n",
       "                var nbb_formatted_code = \"# Calculating different metrics\\nRandom_Forest2_tuned_train_perf = model_performance_regression(\\n    Random_Forest2_tuned, X_train, y_train\\n)\\nprint(\\\"Training performance:\\\\n\\\", Random_Forest2_tuned_train_perf)\\nRandom_Forest2_tuned_val_perf = model_performance_regression(\\n    Random_Forest2_tuned, X_val, y_val\\n)\\nprint(\\\"\\\\nValidation performance:\\\\n\\\", Random_Forest2_tuned_val_perf)\\n\\n# Adding model to model comparison dataframes\\nmodels_train_comp_df[\\\"Random Forest2 Tuned\\\"] = Random_Forest2_tuned_train_perf.T\\nmodels_val_comp_df[\\\"Random Forest2 Tuned\\\"] = Random_Forest2_tuned_val_perf.T\";\n",
       "                var nbb_cells = Jupyter.notebook.get_cells();\n",
       "                for (var i = 0; i < nbb_cells.length; ++i) {\n",
       "                    if (nbb_cells[i].input_prompt_number == nbb_cell_id) {\n",
       "                        if (nbb_cells[i].get_text() == nbb_unformatted_code) {\n",
       "                             nbb_cells[i].set_text(nbb_formatted_code);\n",
       "                        }\n",
       "                        break;\n",
       "                    }\n",
       "                }\n",
       "            }, 500);\n",
       "            "
      ],
      "text/plain": [
       "<IPython.core.display.Javascript object>"
      ]
     },
     "metadata": {},
     "output_type": "display_data"
    }
   ],
   "source": [
    "# Calculating different metrics\n",
    "Random_Forest2_tuned_train_perf = model_performance_regression(\n",
    "    Random_Forest2_tuned, X_train, y_train\n",
    ")\n",
    "print(\"Training performance:\\n\", Random_Forest2_tuned_train_perf)\n",
    "Random_Forest2_tuned_val_perf = model_performance_regression(\n",
    "    Random_Forest2_tuned, X_val, y_val\n",
    ")\n",
    "print(\"\\nValidation performance:\\n\", Random_Forest2_tuned_val_perf)\n",
    "\n",
    "# Adding model to model comparison dataframes\n",
    "models_train_comp_df[\"Random Forest2 Tuned\"] = Random_Forest2_tuned_train_perf.T\n",
    "models_val_comp_df[\"Random Forest2 Tuned\"] = Random_Forest2_tuned_val_perf.T"
   ]
  },
  {
   "cell_type": "markdown",
   "id": "bd5517f3",
   "metadata": {},
   "source": [
    "#### Observations:\n",
    "- Hyperparameter tuning improved performance for *Random Forest2*.\n",
    "- The algorithm is still overfitting the train set, compared to the validation set.\n",
    "- Note that we again had a 10% fit fail during cross-validation (\"UserWarning: One or more of the test scores are non-finite..\") indicating cross-validation had some folds for which hyperparameter combinations led to Nan values.  We are going to allow it here, and go with the results of the successful iterations."
   ]
  },
  {
   "cell_type": "markdown",
   "id": "a3bbffed",
   "metadata": {},
   "source": [
    "### *GBM2 Tuned*"
   ]
  },
  {
   "cell_type": "code",
   "execution_count": 47,
   "id": "5a7278d0",
   "metadata": {},
   "outputs": [
    {
     "data": {
      "text/plain": [
       "GradientBoostingRegressor(random_state=42)"
      ]
     },
     "execution_count": 47,
     "metadata": {},
     "output_type": "execute_result"
    },
    {
     "data": {
      "application/javascript": [
       "\n",
       "            setTimeout(function() {\n",
       "                var nbb_cell_id = 47;\n",
       "                var nbb_unformatted_code = \"# Confirming the model\\nmodels_to_tune[\\\"GBM2\\\"]\";\n",
       "                var nbb_formatted_code = \"# Confirming the model\\nmodels_to_tune[\\\"GBM2\\\"]\";\n",
       "                var nbb_cells = Jupyter.notebook.get_cells();\n",
       "                for (var i = 0; i < nbb_cells.length; ++i) {\n",
       "                    if (nbb_cells[i].input_prompt_number == nbb_cell_id) {\n",
       "                        if (nbb_cells[i].get_text() == nbb_unformatted_code) {\n",
       "                             nbb_cells[i].set_text(nbb_formatted_code);\n",
       "                        }\n",
       "                        break;\n",
       "                    }\n",
       "                }\n",
       "            }, 500);\n",
       "            "
      ],
      "text/plain": [
       "<IPython.core.display.Javascript object>"
      ]
     },
     "metadata": {},
     "output_type": "display_data"
    }
   ],
   "source": [
    "# Confirming the model\n",
    "models_to_tune[\"GBM2\"]"
   ]
  },
  {
   "cell_type": "code",
   "execution_count": 48,
   "id": "164a6ac4",
   "metadata": {},
   "outputs": [
    {
     "name": "stdout",
     "output_type": "stream",
     "text": [
      "Best parameters are {'learning_rate': 0.08171272700715591, 'max_features': 0.6630456668613307, 'n_estimators': 368, 'subsample': 0.7847684335570795} with CV score=0.11041556668246581:\n",
      "CPU times: total: 14.8 s\n",
      "Wall time: 7min 27s\n"
     ]
    },
    {
     "data": {
      "application/javascript": [
       "\n",
       "            setTimeout(function() {\n",
       "                var nbb_cell_id = 48;\n",
       "                var nbb_unformatted_code = \"%%time\\n\\n# Defining model\\nModel = GradientBoostingRegressor(random_state=42)\\n\\n# Parameter grid to pass in RandomizedSearchCV\\nparam_grid = {\\n    \\\"n_estimators\\\": np.arange(100, 500),\\n    \\\"learning_rate\\\": loguniform(0.001, 1),\\n    \\\"subsample\\\": uniform(loc=0.3, scale=0.5),\\n    \\\"max_features\\\": uniform(loc=0.3, scale=0.5),\\n}\\n\\n# Calling RandomizedSearchCV\\nrandomized_cv = RandomizedSearchCV(\\n    estimator=Model,\\n    param_distributions=param_grid,\\n    n_iter=100,\\n    n_jobs=-1,\\n    scoring=scorer,\\n    cv=5,\\n    random_state=42,\\n)\\n\\n# Fitting parameters in RandomizedSearchCV\\nrandomized_cv.fit(X_train, y_train)\\n\\nprint(\\n    \\\"Best parameters are {} with CV score={}:\\\".format(\\n        randomized_cv.best_params_, randomized_cv.best_score_\\n    )\\n)\\n\\n# Chime notification when cell successfully executes\\nchime.success()\";\n",
       "                var nbb_formatted_code = \"%%time\\n\\n# Defining model\\nModel = GradientBoostingRegressor(random_state=42)\\n\\n# Parameter grid to pass in RandomizedSearchCV\\nparam_grid = {\\n    \\\"n_estimators\\\": np.arange(100, 500),\\n    \\\"learning_rate\\\": loguniform(0.001, 1),\\n    \\\"subsample\\\": uniform(loc=0.3, scale=0.5),\\n    \\\"max_features\\\": uniform(loc=0.3, scale=0.5),\\n}\\n\\n# Calling RandomizedSearchCV\\nrandomized_cv = RandomizedSearchCV(\\n    estimator=Model,\\n    param_distributions=param_grid,\\n    n_iter=100,\\n    n_jobs=-1,\\n    scoring=scorer,\\n    cv=5,\\n    random_state=42,\\n)\\n\\n# Fitting parameters in RandomizedSearchCV\\nrandomized_cv.fit(X_train, y_train)\\n\\nprint(\\n    \\\"Best parameters are {} with CV score={}:\\\".format(\\n        randomized_cv.best_params_, randomized_cv.best_score_\\n    )\\n)\\n\\n# Chime notification when cell successfully executes\\nchime.success()\";\n",
       "                var nbb_cells = Jupyter.notebook.get_cells();\n",
       "                for (var i = 0; i < nbb_cells.length; ++i) {\n",
       "                    if (nbb_cells[i].input_prompt_number == nbb_cell_id) {\n",
       "                        if (nbb_cells[i].get_text() == nbb_unformatted_code) {\n",
       "                             nbb_cells[i].set_text(nbb_formatted_code);\n",
       "                        }\n",
       "                        break;\n",
       "                    }\n",
       "                }\n",
       "            }, 500);\n",
       "            "
      ],
      "text/plain": [
       "<IPython.core.display.Javascript object>"
      ]
     },
     "metadata": {},
     "output_type": "display_data"
    }
   ],
   "source": [
    "%%time\n",
    "\n",
    "# Defining model\n",
    "Model = GradientBoostingRegressor(random_state=42)\n",
    "\n",
    "# Parameter grid to pass in RandomizedSearchCV\n",
    "param_grid = {\n",
    "    \"n_estimators\": np.arange(100, 500),\n",
    "    \"learning_rate\": loguniform(0.001, 1),\n",
    "    \"subsample\": uniform(loc=0.3, scale=0.5),\n",
    "    \"max_features\": uniform(loc=0.3, scale=0.5),\n",
    "}\n",
    "\n",
    "# Calling RandomizedSearchCV\n",
    "randomized_cv = RandomizedSearchCV(\n",
    "    estimator=Model,\n",
    "    param_distributions=param_grid,\n",
    "    n_iter=100,\n",
    "    n_jobs=-1,\n",
    "    scoring=scorer,\n",
    "    cv=5,\n",
    "    random_state=42,\n",
    ")\n",
    "\n",
    "# Fitting parameters in RandomizedSearchCV\n",
    "randomized_cv.fit(X_train, y_train)\n",
    "\n",
    "print(\n",
    "    \"Best parameters are {} with CV score={}:\".format(\n",
    "        randomized_cv.best_params_, randomized_cv.best_score_\n",
    "    )\n",
    ")\n",
    "\n",
    "# Chime notification when cell successfully executes\n",
    "chime.success()"
   ]
  },
  {
   "cell_type": "code",
   "execution_count": 49,
   "id": "83072624",
   "metadata": {},
   "outputs": [
    {
     "data": {
      "text/plain": [
       "GradientBoostingRegressor(learning_rate=0.08171272700715591,\n",
       "                          max_features=0.6630456668613307, n_estimators=368,\n",
       "                          random_state=42, subsample=0.7847684335570795)"
      ]
     },
     "execution_count": 49,
     "metadata": {},
     "output_type": "execute_result"
    },
    {
     "data": {
      "application/javascript": [
       "\n",
       "            setTimeout(function() {\n",
       "                var nbb_cell_id = 49;\n",
       "                var nbb_unformatted_code = \"# Building model with best parameters\\nGBM2_tuned = GradientBoostingRegressor(\\n    random_state=42,\\n    learning_rate=0.08171272700715591,\\n    max_features=0.6630456668613307,\\n    n_estimators=368,\\n    subsample=0.7847684335570795,\\n)\\n\\n# Fit the model on training data\\nGBM2_tuned.fit(X_train, y_train)\";\n",
       "                var nbb_formatted_code = \"# Building model with best parameters\\nGBM2_tuned = GradientBoostingRegressor(\\n    random_state=42,\\n    learning_rate=0.08171272700715591,\\n    max_features=0.6630456668613307,\\n    n_estimators=368,\\n    subsample=0.7847684335570795,\\n)\\n\\n# Fit the model on training data\\nGBM2_tuned.fit(X_train, y_train)\";\n",
       "                var nbb_cells = Jupyter.notebook.get_cells();\n",
       "                for (var i = 0; i < nbb_cells.length; ++i) {\n",
       "                    if (nbb_cells[i].input_prompt_number == nbb_cell_id) {\n",
       "                        if (nbb_cells[i].get_text() == nbb_unformatted_code) {\n",
       "                             nbb_cells[i].set_text(nbb_formatted_code);\n",
       "                        }\n",
       "                        break;\n",
       "                    }\n",
       "                }\n",
       "            }, 500);\n",
       "            "
      ],
      "text/plain": [
       "<IPython.core.display.Javascript object>"
      ]
     },
     "metadata": {},
     "output_type": "display_data"
    }
   ],
   "source": [
    "# Building model with best parameters\n",
    "GBM2_tuned = GradientBoostingRegressor(\n",
    "    random_state=42,\n",
    "    learning_rate=0.08171272700715591,\n",
    "    max_features=0.6630456668613307,\n",
    "    n_estimators=368,\n",
    "    subsample=0.7847684335570795,\n",
    ")\n",
    "\n",
    "# Fit the model on training data\n",
    "GBM2_tuned.fit(X_train, y_train)"
   ]
  },
  {
   "cell_type": "code",
   "execution_count": 50,
   "id": "41f9f376",
   "metadata": {},
   "outputs": [
    {
     "name": "stdout",
     "output_type": "stream",
     "text": [
      "Training performance:\n",
      "         RMSE       MAE  R-squared  Adj. R-squared      MAPE\n",
      "0  14.803396  11.49037   0.128678        0.128132  18.95094\n",
      "\n",
      "Validation performance:\n",
      "         RMSE        MAE  R-squared  Adj. R-squared       MAPE\n",
      "0  14.853802  11.512155   0.111731        0.110432  18.898856\n"
     ]
    },
    {
     "data": {
      "application/javascript": [
       "\n",
       "            setTimeout(function() {\n",
       "                var nbb_cell_id = 50;\n",
       "                var nbb_unformatted_code = \"# Calculating different metrics\\nGBM2_tuned_train_perf = model_performance_regression(GBM2_tuned, X_train, y_train)\\nprint(\\\"Training performance:\\\\n\\\", GBM2_tuned_train_perf)\\nGBM2_tuned_val_perf = model_performance_regression(GBM2_tuned, X_val, y_val)\\nprint(\\\"\\\\nValidation performance:\\\\n\\\", GBM2_tuned_val_perf)\\n\\n# Adding model to model comparison dataframes\\nmodels_train_comp_df[\\\"GBM2 Tuned\\\"] = GBM2_tuned_train_perf.T\\nmodels_val_comp_df[\\\"GBM2 Tuned\\\"] = GBM2_tuned_val_perf.T\";\n",
       "                var nbb_formatted_code = \"# Calculating different metrics\\nGBM2_tuned_train_perf = model_performance_regression(GBM2_tuned, X_train, y_train)\\nprint(\\\"Training performance:\\\\n\\\", GBM2_tuned_train_perf)\\nGBM2_tuned_val_perf = model_performance_regression(GBM2_tuned, X_val, y_val)\\nprint(\\\"\\\\nValidation performance:\\\\n\\\", GBM2_tuned_val_perf)\\n\\n# Adding model to model comparison dataframes\\nmodels_train_comp_df[\\\"GBM2 Tuned\\\"] = GBM2_tuned_train_perf.T\\nmodels_val_comp_df[\\\"GBM2 Tuned\\\"] = GBM2_tuned_val_perf.T\";\n",
       "                var nbb_cells = Jupyter.notebook.get_cells();\n",
       "                for (var i = 0; i < nbb_cells.length; ++i) {\n",
       "                    if (nbb_cells[i].input_prompt_number == nbb_cell_id) {\n",
       "                        if (nbb_cells[i].get_text() == nbb_unformatted_code) {\n",
       "                             nbb_cells[i].set_text(nbb_formatted_code);\n",
       "                        }\n",
       "                        break;\n",
       "                    }\n",
       "                }\n",
       "            }, 500);\n",
       "            "
      ],
      "text/plain": [
       "<IPython.core.display.Javascript object>"
      ]
     },
     "metadata": {},
     "output_type": "display_data"
    }
   ],
   "source": [
    "# Calculating different metrics\n",
    "GBM2_tuned_train_perf = model_performance_regression(GBM2_tuned, X_train, y_train)\n",
    "print(\"Training performance:\\n\", GBM2_tuned_train_perf)\n",
    "GBM2_tuned_val_perf = model_performance_regression(GBM2_tuned, X_val, y_val)\n",
    "print(\"\\nValidation performance:\\n\", GBM2_tuned_val_perf)\n",
    "\n",
    "# Adding model to model comparison dataframes\n",
    "models_train_comp_df[\"GBM2 Tuned\"] = GBM2_tuned_train_perf.T\n",
    "models_val_comp_df[\"GBM2 Tuned\"] = GBM2_tuned_val_perf.T"
   ]
  },
  {
   "cell_type": "markdown",
   "id": "e0d33085",
   "metadata": {},
   "source": [
    "#### Observations:\n",
    "- The performance for *GBM2* is improved with hyperparameter tuning.  "
   ]
  },
  {
   "cell_type": "markdown",
   "id": "b6ea9612",
   "metadata": {},
   "source": [
    "### *XGB_gbtree2 Tuned*"
   ]
  },
  {
   "cell_type": "code",
   "execution_count": 51,
   "id": "629f0ae4",
   "metadata": {},
   "outputs": [
    {
     "data": {
      "text/plain": [
       "XGBRegressor(base_score=0.5, booster='gbtree', callbacks=None,\n",
       "             colsample_bylevel=1, colsample_bynode=1, colsample_bytree=1,\n",
       "             early_stopping_rounds=None, enable_categorical=False,\n",
       "             eval_metric=None, gamma=0, gpu_id=-1, grow_policy='depthwise',\n",
       "             importance_type=None, interaction_constraints='',\n",
       "             learning_rate=0.300000012, max_bin=256, max_cat_to_onehot=4,\n",
       "             max_delta_step=0, max_depth=6, max_leaves=0, min_child_weight=1,\n",
       "             missing=nan, monotone_constraints='()', n_estimators=100, n_jobs=0,\n",
       "             num_parallel_tree=1, predictor='auto', random_state=42,\n",
       "             reg_alpha=0, reg_lambda=1, ...)"
      ]
     },
     "execution_count": 51,
     "metadata": {},
     "output_type": "execute_result"
    },
    {
     "data": {
      "application/javascript": [
       "\n",
       "            setTimeout(function() {\n",
       "                var nbb_cell_id = 51;\n",
       "                var nbb_unformatted_code = \"# Confirming the model\\nmodels_to_tune[\\\"XGB_gbtree2\\\"]\";\n",
       "                var nbb_formatted_code = \"# Confirming the model\\nmodels_to_tune[\\\"XGB_gbtree2\\\"]\";\n",
       "                var nbb_cells = Jupyter.notebook.get_cells();\n",
       "                for (var i = 0; i < nbb_cells.length; ++i) {\n",
       "                    if (nbb_cells[i].input_prompt_number == nbb_cell_id) {\n",
       "                        if (nbb_cells[i].get_text() == nbb_unformatted_code) {\n",
       "                             nbb_cells[i].set_text(nbb_formatted_code);\n",
       "                        }\n",
       "                        break;\n",
       "                    }\n",
       "                }\n",
       "            }, 500);\n",
       "            "
      ],
      "text/plain": [
       "<IPython.core.display.Javascript object>"
      ]
     },
     "metadata": {},
     "output_type": "display_data"
    }
   ],
   "source": [
    "# Confirming the model\n",
    "models_to_tune[\"XGB_gbtree2\"]"
   ]
  },
  {
   "cell_type": "code",
   "execution_count": 52,
   "id": "567e4678",
   "metadata": {},
   "outputs": [
    {
     "name": "stdout",
     "output_type": "stream",
     "text": [
      "Best parameters are {'colsample_bytree': 0.6861223846483286, 'gamma': 0.22153944050588595, 'learning_rate': 0.10165663513708073, 'max_depth': 5, 'n_estimators': 180, 'subsample': 0.74226839054973} with CV score=0.11086998659519617:\n",
      "CPU times: total: 44.8 s\n",
      "Wall time: 9h 26min 53s\n"
     ]
    },
    {
     "data": {
      "application/javascript": [
       "\n",
       "            setTimeout(function() {\n",
       "                var nbb_cell_id = 52;\n",
       "                var nbb_unformatted_code = \"%%time\\n\\n# Defining model\\nModel = XGBRegressor(random_state=42, booster='gbtree')\\n\\n# Parameter grid to pass in RandomizedSearchCV\\nparam_grid={\\n    'n_estimators': np.arange(100, 500),\\n    \\\"learning_rate\\\": uniform(0.1, 0.3), # aka eta\\n    'gamma': expon(), # aka min_split_loss\\n    'subsample': uniform(loc=0.6, scale=0.2), # proportion of train set to randomly sample prior to growing trees\\n    'max_depth': np.arange(3, 8).tolist(),\\n    'colsample_bytree': uniform(loc=0.3, scale=0.5)\\n}\\n\\n# Calling RandomizedSearchCV\\nrandomized_cv = RandomizedSearchCV(\\n    estimator=Model,\\n    param_distributions=param_grid,\\n    n_iter=100,\\n    n_jobs=-1,\\n    scoring=scorer,\\n    cv=5,\\n    random_state=42,\\n)\\n\\n# Fitting parameters in RandomizedSearchCV\\nrandomized_cv.fit(X_train, y_train)\\n\\nprint(\\n    \\\"Best parameters are {} with CV score={}:\\\".format(\\n        randomized_cv.best_params_, randomized_cv.best_score_\\n    )\\n)\\n\\n# Chime notification when cell successfully executes\\nchime.success()\";\n",
       "                var nbb_formatted_code = \"%%time\\n\\n# Defining model\\nModel = XGBRegressor(random_state=42, booster='gbtree')\\n\\n# Parameter grid to pass in RandomizedSearchCV\\nparam_grid={\\n    'n_estimators': np.arange(100, 500),\\n    \\\"learning_rate\\\": uniform(0.1, 0.3), # aka eta\\n    'gamma': expon(), # aka min_split_loss\\n    'subsample': uniform(loc=0.6, scale=0.2), # proportion of train set to randomly sample prior to growing trees\\n    'max_depth': np.arange(3, 8).tolist(),\\n    'colsample_bytree': uniform(loc=0.3, scale=0.5)\\n}\\n\\n# Calling RandomizedSearchCV\\nrandomized_cv = RandomizedSearchCV(\\n    estimator=Model,\\n    param_distributions=param_grid,\\n    n_iter=100,\\n    n_jobs=-1,\\n    scoring=scorer,\\n    cv=5,\\n    random_state=42,\\n)\\n\\n# Fitting parameters in RandomizedSearchCV\\nrandomized_cv.fit(X_train, y_train)\\n\\nprint(\\n    \\\"Best parameters are {} with CV score={}:\\\".format(\\n        randomized_cv.best_params_, randomized_cv.best_score_\\n    )\\n)\\n\\n# Chime notification when cell successfully executes\\nchime.success()\";\n",
       "                var nbb_cells = Jupyter.notebook.get_cells();\n",
       "                for (var i = 0; i < nbb_cells.length; ++i) {\n",
       "                    if (nbb_cells[i].input_prompt_number == nbb_cell_id) {\n",
       "                        if (nbb_cells[i].get_text() == nbb_unformatted_code) {\n",
       "                             nbb_cells[i].set_text(nbb_formatted_code);\n",
       "                        }\n",
       "                        break;\n",
       "                    }\n",
       "                }\n",
       "            }, 500);\n",
       "            "
      ],
      "text/plain": [
       "<IPython.core.display.Javascript object>"
      ]
     },
     "metadata": {},
     "output_type": "display_data"
    }
   ],
   "source": [
    "%%time\n",
    "\n",
    "# Defining model\n",
    "Model = XGBRegressor(random_state=42, booster='gbtree')\n",
    "\n",
    "# Parameter grid to pass in RandomizedSearchCV\n",
    "param_grid={\n",
    "    'n_estimators': np.arange(100, 500),\n",
    "    \"learning_rate\": uniform(0.1, 0.3), # aka eta\n",
    "    'gamma': expon(), # aka min_split_loss\n",
    "    'subsample': uniform(loc=0.6, scale=0.2), # proportion of train set to randomly sample prior to growing trees\n",
    "    'max_depth': np.arange(3, 8).tolist(),\n",
    "    'colsample_bytree': uniform(loc=0.3, scale=0.5)\n",
    "}\n",
    "\n",
    "# Calling RandomizedSearchCV\n",
    "randomized_cv = RandomizedSearchCV(\n",
    "    estimator=Model,\n",
    "    param_distributions=param_grid,\n",
    "    n_iter=100,\n",
    "    n_jobs=-1,\n",
    "    scoring=scorer,\n",
    "    cv=5,\n",
    "    random_state=42,\n",
    ")\n",
    "\n",
    "# Fitting parameters in RandomizedSearchCV\n",
    "randomized_cv.fit(X_train, y_train)\n",
    "\n",
    "print(\n",
    "    \"Best parameters are {} with CV score={}:\".format(\n",
    "        randomized_cv.best_params_, randomized_cv.best_score_\n",
    "    )\n",
    ")\n",
    "\n",
    "# Chime notification when cell successfully executes\n",
    "chime.success()"
   ]
  },
  {
   "cell_type": "code",
   "execution_count": 53,
   "id": "ff25695c",
   "metadata": {},
   "outputs": [
    {
     "data": {
      "text/plain": [
       "XGBRegressor(base_score=0.5, booster='gbtree', callbacks=None,\n",
       "             colsample_bylevel=1, colsample_bynode=1,\n",
       "             colsample_bytree=0.6861223846483286, early_stopping_rounds=None,\n",
       "             enable_categorical=False, eval_metric=None,\n",
       "             gamma=0.22153944050588595, gpu_id=-1, grow_policy='depthwise',\n",
       "             importance_type=None, interaction_constraints='',\n",
       "             learning_rate=0.10165663513708073, max_bin=256,\n",
       "             max_cat_to_onehot=4, max_delta_step=0, max_depth=5, max_leaves=0,\n",
       "             min_child_weight=1, missing=nan, monotone_constraints='()',\n",
       "             n_estimators=180, n_jobs=0, num_parallel_tree=1, predictor='auto',\n",
       "             random_state=42, reg_alpha=0, reg_lambda=1, ...)"
      ]
     },
     "execution_count": 53,
     "metadata": {},
     "output_type": "execute_result"
    },
    {
     "data": {
      "application/javascript": [
       "\n",
       "            setTimeout(function() {\n",
       "                var nbb_cell_id = 53;\n",
       "                var nbb_unformatted_code = \"# Building model with best parameters\\nXGB_gbtree2_tuned = XGBRegressor(\\n    booster=\\\"gbtree\\\",\\n    random_state=42,\\n    colsample_bytree=0.6861223846483286,\\n    gamma=0.22153944050588595,\\n    learning_rate=0.10165663513708073,\\n    max_depth=5,\\n    n_estimators=180,\\n    subsample=0.74226839054973,\\n)\\n\\n# Fit the model on training data\\nXGB_gbtree2_tuned.fit(X_train, y_train)\";\n",
       "                var nbb_formatted_code = \"# Building model with best parameters\\nXGB_gbtree2_tuned = XGBRegressor(\\n    booster=\\\"gbtree\\\",\\n    random_state=42,\\n    colsample_bytree=0.6861223846483286,\\n    gamma=0.22153944050588595,\\n    learning_rate=0.10165663513708073,\\n    max_depth=5,\\n    n_estimators=180,\\n    subsample=0.74226839054973,\\n)\\n\\n# Fit the model on training data\\nXGB_gbtree2_tuned.fit(X_train, y_train)\";\n",
       "                var nbb_cells = Jupyter.notebook.get_cells();\n",
       "                for (var i = 0; i < nbb_cells.length; ++i) {\n",
       "                    if (nbb_cells[i].input_prompt_number == nbb_cell_id) {\n",
       "                        if (nbb_cells[i].get_text() == nbb_unformatted_code) {\n",
       "                             nbb_cells[i].set_text(nbb_formatted_code);\n",
       "                        }\n",
       "                        break;\n",
       "                    }\n",
       "                }\n",
       "            }, 500);\n",
       "            "
      ],
      "text/plain": [
       "<IPython.core.display.Javascript object>"
      ]
     },
     "metadata": {},
     "output_type": "display_data"
    }
   ],
   "source": [
    "# Building model with best parameters\n",
    "XGB_gbtree2_tuned = XGBRegressor(\n",
    "    booster=\"gbtree\",\n",
    "    random_state=42,\n",
    "    colsample_bytree=0.6861223846483286,\n",
    "    gamma=0.22153944050588595,\n",
    "    learning_rate=0.10165663513708073,\n",
    "    max_depth=5,\n",
    "    n_estimators=180,\n",
    "    subsample=0.74226839054973,\n",
    ")\n",
    "\n",
    "# Fit the model on training data\n",
    "XGB_gbtree2_tuned.fit(X_train, y_train)"
   ]
  },
  {
   "cell_type": "code",
   "execution_count": 54,
   "id": "3c4bbcb5",
   "metadata": {},
   "outputs": [
    {
     "name": "stdout",
     "output_type": "stream",
     "text": [
      "Training performance:\n",
      "         RMSE        MAE  R-squared  Adj. R-squared       MAPE\n",
      "0  14.596533  11.326033   0.152859        0.152329  18.630614\n",
      "\n",
      "Validation performance:\n",
      "         RMSE        MAE  R-squared  Adj. R-squared       MAPE\n",
      "0  14.867475  11.517005   0.110095        0.108794  18.881056\n"
     ]
    },
    {
     "data": {
      "application/javascript": [
       "\n",
       "            setTimeout(function() {\n",
       "                var nbb_cell_id = 54;\n",
       "                var nbb_unformatted_code = \"# Calculating different metrics\\nXGB_gbtree2_tuned_train_perf = model_performance_regression(\\n    XGB_gbtree2_tuned, X_train, y_train\\n)\\nprint(\\\"Training performance:\\\\n\\\", XGB_gbtree2_tuned_train_perf)\\nXGB_gbtree2_tuned_val_perf = model_performance_regression(\\n    XGB_gbtree2_tuned, X_val, y_val\\n)\\nprint(\\\"\\\\nValidation performance:\\\\n\\\", XGB_gbtree2_tuned_val_perf)\\n\\n# Adding model to model comparison dataframes\\nmodels_train_comp_df[\\\"XGB_gbtree2 Tuned\\\"] = XGB_gbtree2_tuned_train_perf.T\\nmodels_val_comp_df[\\\"XGB_gbtree2 Tuned\\\"] = XGB_gbtree2_tuned_val_perf.T\";\n",
       "                var nbb_formatted_code = \"# Calculating different metrics\\nXGB_gbtree2_tuned_train_perf = model_performance_regression(\\n    XGB_gbtree2_tuned, X_train, y_train\\n)\\nprint(\\\"Training performance:\\\\n\\\", XGB_gbtree2_tuned_train_perf)\\nXGB_gbtree2_tuned_val_perf = model_performance_regression(\\n    XGB_gbtree2_tuned, X_val, y_val\\n)\\nprint(\\\"\\\\nValidation performance:\\\\n\\\", XGB_gbtree2_tuned_val_perf)\\n\\n# Adding model to model comparison dataframes\\nmodels_train_comp_df[\\\"XGB_gbtree2 Tuned\\\"] = XGB_gbtree2_tuned_train_perf.T\\nmodels_val_comp_df[\\\"XGB_gbtree2 Tuned\\\"] = XGB_gbtree2_tuned_val_perf.T\";\n",
       "                var nbb_cells = Jupyter.notebook.get_cells();\n",
       "                for (var i = 0; i < nbb_cells.length; ++i) {\n",
       "                    if (nbb_cells[i].input_prompt_number == nbb_cell_id) {\n",
       "                        if (nbb_cells[i].get_text() == nbb_unformatted_code) {\n",
       "                             nbb_cells[i].set_text(nbb_formatted_code);\n",
       "                        }\n",
       "                        break;\n",
       "                    }\n",
       "                }\n",
       "            }, 500);\n",
       "            "
      ],
      "text/plain": [
       "<IPython.core.display.Javascript object>"
      ]
     },
     "metadata": {},
     "output_type": "display_data"
    }
   ],
   "source": [
    "# Calculating different metrics\n",
    "XGB_gbtree2_tuned_train_perf = model_performance_regression(\n",
    "    XGB_gbtree2_tuned, X_train, y_train\n",
    ")\n",
    "print(\"Training performance:\\n\", XGB_gbtree2_tuned_train_perf)\n",
    "XGB_gbtree2_tuned_val_perf = model_performance_regression(\n",
    "    XGB_gbtree2_tuned, X_val, y_val\n",
    ")\n",
    "print(\"\\nValidation performance:\\n\", XGB_gbtree2_tuned_val_perf)\n",
    "\n",
    "# Adding model to model comparison dataframes\n",
    "models_train_comp_df[\"XGB_gbtree2 Tuned\"] = XGB_gbtree2_tuned_train_perf.T\n",
    "models_val_comp_df[\"XGB_gbtree2 Tuned\"] = XGB_gbtree2_tuned_val_perf.T"
   ]
  },
  {
   "cell_type": "markdown",
   "id": "0b65f6e3",
   "metadata": {},
   "source": [
    "#### Observations:\n",
    "- The performance for *XGB_gbtree2* is improved with hyperparameter tuning.  "
   ]
  },
  {
   "cell_type": "markdown",
   "id": "150d6c55",
   "metadata": {},
   "source": [
    "### *XGB_gblinear2 Tuned*"
   ]
  },
  {
   "cell_type": "code",
   "execution_count": 55,
   "id": "283c6ebe",
   "metadata": {},
   "outputs": [
    {
     "data": {
      "text/plain": [
       "XGBRegressor(base_score=0.5, booster='gblinear', callbacks=None,\n",
       "             colsample_bylevel=None, colsample_bynode=None,\n",
       "             colsample_bytree=None, early_stopping_rounds=None,\n",
       "             enable_categorical=False, eval_metric=None, gamma=None, gpu_id=-1,\n",
       "             grow_policy=None, importance_type=None,\n",
       "             interaction_constraints=None, learning_rate=0.5, max_bin=None,\n",
       "             max_cat_to_onehot=None, max_delta_step=None, max_depth=None,\n",
       "             max_leaves=None, min_child_weight=None, missing=nan,\n",
       "             monotone_constraints=None, n_estimators=100, n_jobs=0,\n",
       "             num_parallel_tree=None, predictor=None, random_state=42,\n",
       "             reg_alpha=0, reg_lambda=0, ...)"
      ]
     },
     "execution_count": 55,
     "metadata": {},
     "output_type": "execute_result"
    },
    {
     "data": {
      "application/javascript": [
       "\n",
       "            setTimeout(function() {\n",
       "                var nbb_cell_id = 55;\n",
       "                var nbb_unformatted_code = \"# Confirming the model\\nmodels_to_tune[\\\"XGB_gblinear2\\\"]\";\n",
       "                var nbb_formatted_code = \"# Confirming the model\\nmodels_to_tune[\\\"XGB_gblinear2\\\"]\";\n",
       "                var nbb_cells = Jupyter.notebook.get_cells();\n",
       "                for (var i = 0; i < nbb_cells.length; ++i) {\n",
       "                    if (nbb_cells[i].input_prompt_number == nbb_cell_id) {\n",
       "                        if (nbb_cells[i].get_text() == nbb_unformatted_code) {\n",
       "                             nbb_cells[i].set_text(nbb_formatted_code);\n",
       "                        }\n",
       "                        break;\n",
       "                    }\n",
       "                }\n",
       "            }, 500);\n",
       "            "
      ],
      "text/plain": [
       "<IPython.core.display.Javascript object>"
      ]
     },
     "metadata": {},
     "output_type": "display_data"
    }
   ],
   "source": [
    "# Confirming the model\n",
    "models_to_tune[\"XGB_gblinear2\"]"
   ]
  },
  {
   "cell_type": "code",
   "execution_count": 64,
   "id": "8ceb7df9",
   "metadata": {},
   "outputs": [
    {
     "name": "stdout",
     "output_type": "stream",
     "text": [
      "Best parameters are {'n_estimators': 439, 'reg_lambda': 0.0009206654892274761} with CV score=0.09239924785728368:\n",
      "CPU times: total: 38.8 s\n",
      "Wall time: 4min 29s\n"
     ]
    },
    {
     "data": {
      "application/javascript": [
       "\n",
       "            setTimeout(function() {\n",
       "                var nbb_cell_id = 64;\n",
       "                var nbb_unformatted_code = \"%%time\\n\\n# Defining model\\nModel = XGBRegressor(random_state=42, booster='gblinear')\\n\\n# Parameter grid to pass in RandomizedSearchCV\\nparam_grid={\\n    'n_estimators': np.arange(100, 500),\\n    'reg_lambda': loguniform(.0001, 1)\\n}\\n\\n# Calling RandomizedSearchCV\\nrandomized_cv = RandomizedSearchCV(\\n    estimator=Model,\\n    param_distributions=param_grid,\\n    n_iter=100,\\n    n_jobs=-1,\\n    scoring=scorer,\\n    cv=5,\\n    random_state=42,\\n)\\n\\n# Fitting parameters in RandomizedSearchCV\\nrandomized_cv.fit(X_train, y_train)\\n\\nprint(\\n    \\\"Best parameters are {} with CV score={}:\\\".format(\\n        randomized_cv.best_params_, randomized_cv.best_score_\\n    )\\n)\\n\\n# Chime notification when cell successfully executes\\nchime.success()\";\n",
       "                var nbb_formatted_code = \"%%time\\n\\n# Defining model\\nModel = XGBRegressor(random_state=42, booster='gblinear')\\n\\n# Parameter grid to pass in RandomizedSearchCV\\nparam_grid={\\n    'n_estimators': np.arange(100, 500),\\n    'reg_lambda': loguniform(.0001, 1)\\n}\\n\\n# Calling RandomizedSearchCV\\nrandomized_cv = RandomizedSearchCV(\\n    estimator=Model,\\n    param_distributions=param_grid,\\n    n_iter=100,\\n    n_jobs=-1,\\n    scoring=scorer,\\n    cv=5,\\n    random_state=42,\\n)\\n\\n# Fitting parameters in RandomizedSearchCV\\nrandomized_cv.fit(X_train, y_train)\\n\\nprint(\\n    \\\"Best parameters are {} with CV score={}:\\\".format(\\n        randomized_cv.best_params_, randomized_cv.best_score_\\n    )\\n)\\n\\n# Chime notification when cell successfully executes\\nchime.success()\";\n",
       "                var nbb_cells = Jupyter.notebook.get_cells();\n",
       "                for (var i = 0; i < nbb_cells.length; ++i) {\n",
       "                    if (nbb_cells[i].input_prompt_number == nbb_cell_id) {\n",
       "                        if (nbb_cells[i].get_text() == nbb_unformatted_code) {\n",
       "                             nbb_cells[i].set_text(nbb_formatted_code);\n",
       "                        }\n",
       "                        break;\n",
       "                    }\n",
       "                }\n",
       "            }, 500);\n",
       "            "
      ],
      "text/plain": [
       "<IPython.core.display.Javascript object>"
      ]
     },
     "metadata": {},
     "output_type": "display_data"
    }
   ],
   "source": [
    "%%time\n",
    "\n",
    "# Defining model\n",
    "Model = XGBRegressor(random_state=42, booster='gblinear')\n",
    "\n",
    "# Parameter grid to pass in RandomizedSearchCV\n",
    "param_grid={\n",
    "    'n_estimators': np.arange(100, 500),\n",
    "    'reg_lambda': loguniform(.0001, 1)\n",
    "}\n",
    "\n",
    "# Calling RandomizedSearchCV\n",
    "randomized_cv = RandomizedSearchCV(\n",
    "    estimator=Model,\n",
    "    param_distributions=param_grid,\n",
    "    n_iter=100,\n",
    "    n_jobs=-1,\n",
    "    scoring=scorer,\n",
    "    cv=5,\n",
    "    random_state=42,\n",
    ")\n",
    "\n",
    "# Fitting parameters in RandomizedSearchCV\n",
    "randomized_cv.fit(X_train, y_train)\n",
    "\n",
    "print(\n",
    "    \"Best parameters are {} with CV score={}:\".format(\n",
    "        randomized_cv.best_params_, randomized_cv.best_score_\n",
    "    )\n",
    ")\n",
    "\n",
    "# Chime notification when cell successfully executes\n",
    "chime.success()"
   ]
  },
  {
   "cell_type": "code",
   "execution_count": 65,
   "id": "19ae25e8",
   "metadata": {},
   "outputs": [
    {
     "data": {
      "text/plain": [
       "XGBRegressor(base_score=0.5, booster='gblinear', callbacks=None,\n",
       "             colsample_bylevel=None, colsample_bynode=None,\n",
       "             colsample_bytree=None, early_stopping_rounds=None,\n",
       "             enable_categorical=False, eval_metric=None, gamma=None, gpu_id=-1,\n",
       "             grow_policy=None, importance_type=None,\n",
       "             interaction_constraints=None, learning_rate=0.5, max_bin=None,\n",
       "             max_cat_to_onehot=None, max_delta_step=None, max_depth=None,\n",
       "             max_leaves=None, min_child_weight=None, missing=nan,\n",
       "             monotone_constraints=None, n_estimators=439, n_jobs=0,\n",
       "             num_parallel_tree=None, predictor=None, random_state=42,\n",
       "             reg_alpha=0, reg_lambda=0.0009206654892274761, ...)"
      ]
     },
     "execution_count": 65,
     "metadata": {},
     "output_type": "execute_result"
    },
    {
     "data": {
      "application/javascript": [
       "\n",
       "            setTimeout(function() {\n",
       "                var nbb_cell_id = 65;\n",
       "                var nbb_unformatted_code = \"# Building model with best parameters\\nXGB_gblinear2_tuned = XGBRegressor(\\n    booster=\\\"gblinear\\\",\\n    random_state=42,\\n    n_estimators=439,\\n    reg_lambda=0.0009206654892274761,\\n)\\n\\n# Fit the model on training data\\nXGB_gblinear2_tuned.fit(X_train, y_train)\";\n",
       "                var nbb_formatted_code = \"# Building model with best parameters\\nXGB_gblinear2_tuned = XGBRegressor(\\n    booster=\\\"gblinear\\\",\\n    random_state=42,\\n    n_estimators=439,\\n    reg_lambda=0.0009206654892274761,\\n)\\n\\n# Fit the model on training data\\nXGB_gblinear2_tuned.fit(X_train, y_train)\";\n",
       "                var nbb_cells = Jupyter.notebook.get_cells();\n",
       "                for (var i = 0; i < nbb_cells.length; ++i) {\n",
       "                    if (nbb_cells[i].input_prompt_number == nbb_cell_id) {\n",
       "                        if (nbb_cells[i].get_text() == nbb_unformatted_code) {\n",
       "                             nbb_cells[i].set_text(nbb_formatted_code);\n",
       "                        }\n",
       "                        break;\n",
       "                    }\n",
       "                }\n",
       "            }, 500);\n",
       "            "
      ],
      "text/plain": [
       "<IPython.core.display.Javascript object>"
      ]
     },
     "metadata": {},
     "output_type": "display_data"
    }
   ],
   "source": [
    "# Building model with best parameters\n",
    "XGB_gblinear2_tuned = XGBRegressor(\n",
    "    booster=\"gblinear\",\n",
    "    random_state=42,\n",
    "    n_estimators=439,\n",
    "    reg_lambda=0.0009206654892274761,\n",
    ")\n",
    "\n",
    "# Fit the model on training data\n",
    "XGB_gblinear2_tuned.fit(X_train, y_train)"
   ]
  },
  {
   "cell_type": "code",
   "execution_count": 66,
   "id": "45ab8538",
   "metadata": {},
   "outputs": [
    {
     "name": "stdout",
     "output_type": "stream",
     "text": [
      "Training performance:\n",
      "         RMSE        MAE  R-squared  Adj. R-squared    MAPE\n",
      "0  15.101745  11.725615   0.093202        0.092635  19.392\n",
      "\n",
      "Validation performance:\n",
      "         RMSE        MAE  R-squared  Adj. R-squared       MAPE\n",
      "0  15.009157  11.641346   0.093053        0.091727  19.169478\n"
     ]
    },
    {
     "data": {
      "application/javascript": [
       "\n",
       "            setTimeout(function() {\n",
       "                var nbb_cell_id = 66;\n",
       "                var nbb_unformatted_code = \"# Calculating different metrics\\nXGB_gblinear2_tuned_train_perf = model_performance_regression(\\n    XGB_gblinear2_tuned, X_train, y_train\\n)\\nprint(\\\"Training performance:\\\\n\\\", XGB_gblinear2_tuned_train_perf)\\nXGB_gblinear2_tuned_val_perf = model_performance_regression(\\n    XGB_gblinear2_tuned, X_val, y_val\\n)\\nprint(\\\"\\\\nValidation performance:\\\\n\\\", XGB_gblinear2_tuned_val_perf)\\n\\n# Adding model to model comparison dataframes\\nmodels_train_comp_df[\\\"XGB_gblinear2 Tuned\\\"] = XGB_gblinear2_tuned_train_perf.T\\nmodels_val_comp_df[\\\"XGB_gblinear2 Tuned\\\"] = XGB_gblinear2_tuned_val_perf.T\";\n",
       "                var nbb_formatted_code = \"# Calculating different metrics\\nXGB_gblinear2_tuned_train_perf = model_performance_regression(\\n    XGB_gblinear2_tuned, X_train, y_train\\n)\\nprint(\\\"Training performance:\\\\n\\\", XGB_gblinear2_tuned_train_perf)\\nXGB_gblinear2_tuned_val_perf = model_performance_regression(\\n    XGB_gblinear2_tuned, X_val, y_val\\n)\\nprint(\\\"\\\\nValidation performance:\\\\n\\\", XGB_gblinear2_tuned_val_perf)\\n\\n# Adding model to model comparison dataframes\\nmodels_train_comp_df[\\\"XGB_gblinear2 Tuned\\\"] = XGB_gblinear2_tuned_train_perf.T\\nmodels_val_comp_df[\\\"XGB_gblinear2 Tuned\\\"] = XGB_gblinear2_tuned_val_perf.T\";\n",
       "                var nbb_cells = Jupyter.notebook.get_cells();\n",
       "                for (var i = 0; i < nbb_cells.length; ++i) {\n",
       "                    if (nbb_cells[i].input_prompt_number == nbb_cell_id) {\n",
       "                        if (nbb_cells[i].get_text() == nbb_unformatted_code) {\n",
       "                             nbb_cells[i].set_text(nbb_formatted_code);\n",
       "                        }\n",
       "                        break;\n",
       "                    }\n",
       "                }\n",
       "            }, 500);\n",
       "            "
      ],
      "text/plain": [
       "<IPython.core.display.Javascript object>"
      ]
     },
     "metadata": {},
     "output_type": "display_data"
    }
   ],
   "source": [
    "# Calculating different metrics\n",
    "XGB_gblinear2_tuned_train_perf = model_performance_regression(\n",
    "    XGB_gblinear2_tuned, X_train, y_train\n",
    ")\n",
    "print(\"Training performance:\\n\", XGB_gblinear2_tuned_train_perf)\n",
    "XGB_gblinear2_tuned_val_perf = model_performance_regression(\n",
    "    XGB_gblinear2_tuned, X_val, y_val\n",
    ")\n",
    "print(\"\\nValidation performance:\\n\", XGB_gblinear2_tuned_val_perf)\n",
    "\n",
    "# Adding model to model comparison dataframes\n",
    "models_train_comp_df[\"XGB_gblinear2 Tuned\"] = XGB_gblinear2_tuned_train_perf.T\n",
    "models_val_comp_df[\"XGB_gblinear2 Tuned\"] = XGB_gblinear2_tuned_val_perf.T"
   ]
  },
  {
   "cell_type": "markdown",
   "id": "ef992f89",
   "metadata": {},
   "source": [
    "#### Observations:\n",
    "- The performance of *XGB_gblinear1* is improved with hyperparameter tuning.\n",
    "- Let us compare the performance of this iteration's models before and after hyperparameter tuning."
   ]
  },
  {
   "cell_type": "markdown",
   "id": "ce915567",
   "metadata": {},
   "source": [
    "## Model Performance Comparison"
   ]
  },
  {
   "cell_type": "markdown",
   "id": "9dd758c1",
   "metadata": {},
   "source": [
    "### Performance of Various Models Tuned and Untuned"
   ]
  },
  {
   "cell_type": "code",
   "execution_count": 67,
   "id": "53f2ff81",
   "metadata": {},
   "outputs": [
    {
     "name": "stdout",
     "output_type": "stream",
     "text": [
      "Train Performance Comparison:\n"
     ]
    },
    {
     "data": {
      "text/html": [
       "<div>\n",
       "<style scoped>\n",
       "    .dataframe tbody tr th:only-of-type {\n",
       "        vertical-align: middle;\n",
       "    }\n",
       "\n",
       "    .dataframe tbody tr th {\n",
       "        vertical-align: top;\n",
       "    }\n",
       "\n",
       "    .dataframe thead th {\n",
       "        text-align: right;\n",
       "    }\n",
       "</style>\n",
       "<table border=\"1\" class=\"dataframe\">\n",
       "  <thead>\n",
       "    <tr style=\"text-align: right;\">\n",
       "      <th></th>\n",
       "      <th>GBM2</th>\n",
       "      <th>GBM2 Tuned</th>\n",
       "      <th>Random Forest2</th>\n",
       "      <th>Random Forest2 Tuned</th>\n",
       "      <th>XGB_gblinear2</th>\n",
       "      <th>XGB_gblinear2 Tuned</th>\n",
       "      <th>XGB_gbtree2</th>\n",
       "      <th>XGB_gbtree2 Tuned</th>\n",
       "    </tr>\n",
       "  </thead>\n",
       "  <tbody>\n",
       "    <tr>\n",
       "      <th>RMSE</th>\n",
       "      <td>14.937480</td>\n",
       "      <td>14.803396</td>\n",
       "      <td>11.328976</td>\n",
       "      <td>14.485455</td>\n",
       "      <td>15.129664</td>\n",
       "      <td>15.101745</td>\n",
       "      <td>14.196740</td>\n",
       "      <td>14.596533</td>\n",
       "    </tr>\n",
       "    <tr>\n",
       "      <th>MAE</th>\n",
       "      <td>11.599899</td>\n",
       "      <td>11.490370</td>\n",
       "      <td>8.362030</td>\n",
       "      <td>11.250801</td>\n",
       "      <td>11.741451</td>\n",
       "      <td>11.725615</td>\n",
       "      <td>10.984573</td>\n",
       "      <td>11.326033</td>\n",
       "    </tr>\n",
       "    <tr>\n",
       "      <th>R-squared</th>\n",
       "      <td>0.112822</td>\n",
       "      <td>0.128678</td>\n",
       "      <td>0.489686</td>\n",
       "      <td>0.165703</td>\n",
       "      <td>0.089846</td>\n",
       "      <td>0.093202</td>\n",
       "      <td>0.198629</td>\n",
       "      <td>0.152859</td>\n",
       "    </tr>\n",
       "    <tr>\n",
       "      <th>Adj. R-squared</th>\n",
       "      <td>0.112266</td>\n",
       "      <td>0.128132</td>\n",
       "      <td>0.489367</td>\n",
       "      <td>0.165181</td>\n",
       "      <td>0.089276</td>\n",
       "      <td>0.092635</td>\n",
       "      <td>0.198128</td>\n",
       "      <td>0.152329</td>\n",
       "    </tr>\n",
       "    <tr>\n",
       "      <th>MAPE</th>\n",
       "      <td>19.178492</td>\n",
       "      <td>18.950940</td>\n",
       "      <td>13.404005</td>\n",
       "      <td>18.596652</td>\n",
       "      <td>19.384544</td>\n",
       "      <td>19.392000</td>\n",
       "      <td>17.982195</td>\n",
       "      <td>18.630614</td>\n",
       "    </tr>\n",
       "  </tbody>\n",
       "</table>\n",
       "</div>"
      ],
      "text/plain": [
       "                     GBM2  GBM2 Tuned  Random Forest2  Random Forest2 Tuned  \\\n",
       "RMSE            14.937480   14.803396       11.328976             14.485455   \n",
       "MAE             11.599899   11.490370        8.362030             11.250801   \n",
       "R-squared        0.112822    0.128678        0.489686              0.165703   \n",
       "Adj. R-squared   0.112266    0.128132        0.489367              0.165181   \n",
       "MAPE            19.178492   18.950940       13.404005             18.596652   \n",
       "\n",
       "                XGB_gblinear2  XGB_gblinear2 Tuned  XGB_gbtree2  \\\n",
       "RMSE                15.129664            15.101745    14.196740   \n",
       "MAE                 11.741451            11.725615    10.984573   \n",
       "R-squared            0.089846             0.093202     0.198629   \n",
       "Adj. R-squared       0.089276             0.092635     0.198128   \n",
       "MAPE                19.384544            19.392000    17.982195   \n",
       "\n",
       "                XGB_gbtree2 Tuned  \n",
       "RMSE                    14.596533  \n",
       "MAE                     11.326033  \n",
       "R-squared                0.152859  \n",
       "Adj. R-squared           0.152329  \n",
       "MAPE                    18.630614  "
      ]
     },
     "execution_count": 67,
     "metadata": {},
     "output_type": "execute_result"
    },
    {
     "data": {
      "application/javascript": [
       "\n",
       "            setTimeout(function() {\n",
       "                var nbb_cell_id = 67;\n",
       "                var nbb_unformatted_code = \"# Displaying train performance of all models\\nprint(\\\"Train Performance Comparison:\\\")\\ncols = [column for column in models_train_comp_df.columns if \\\"2\\\" in column]\\nmodels_train_comp_df[cols].sort_index(axis=1)\";\n",
       "                var nbb_formatted_code = \"# Displaying train performance of all models\\nprint(\\\"Train Performance Comparison:\\\")\\ncols = [column for column in models_train_comp_df.columns if \\\"2\\\" in column]\\nmodels_train_comp_df[cols].sort_index(axis=1)\";\n",
       "                var nbb_cells = Jupyter.notebook.get_cells();\n",
       "                for (var i = 0; i < nbb_cells.length; ++i) {\n",
       "                    if (nbb_cells[i].input_prompt_number == nbb_cell_id) {\n",
       "                        if (nbb_cells[i].get_text() == nbb_unformatted_code) {\n",
       "                             nbb_cells[i].set_text(nbb_formatted_code);\n",
       "                        }\n",
       "                        break;\n",
       "                    }\n",
       "                }\n",
       "            }, 500);\n",
       "            "
      ],
      "text/plain": [
       "<IPython.core.display.Javascript object>"
      ]
     },
     "metadata": {},
     "output_type": "display_data"
    }
   ],
   "source": [
    "# Displaying train performance of all models\n",
    "print(\"Train Performance Comparison:\")\n",
    "cols = [column for column in models_train_comp_df.columns if \"2\" in column]\n",
    "models_train_comp_df[cols].sort_index(axis=1)"
   ]
  },
  {
   "cell_type": "code",
   "execution_count": 68,
   "id": "ad87ba49",
   "metadata": {},
   "outputs": [
    {
     "name": "stdout",
     "output_type": "stream",
     "text": [
      "Validation Performance Comparison:\n"
     ]
    },
    {
     "data": {
      "text/html": [
       "<div>\n",
       "<style scoped>\n",
       "    .dataframe tbody tr th:only-of-type {\n",
       "        vertical-align: middle;\n",
       "    }\n",
       "\n",
       "    .dataframe tbody tr th {\n",
       "        vertical-align: top;\n",
       "    }\n",
       "\n",
       "    .dataframe thead th {\n",
       "        text-align: right;\n",
       "    }\n",
       "</style>\n",
       "<table border=\"1\" class=\"dataframe\">\n",
       "  <thead>\n",
       "    <tr style=\"text-align: right;\">\n",
       "      <th></th>\n",
       "      <th>GBM2</th>\n",
       "      <th>GBM2 Tuned</th>\n",
       "      <th>Random Forest2</th>\n",
       "      <th>Random Forest2 Tuned</th>\n",
       "      <th>XGB_gblinear2</th>\n",
       "      <th>XGB_gblinear2 Tuned</th>\n",
       "      <th>XGB_gbtree2</th>\n",
       "      <th>XGB_gbtree2 Tuned</th>\n",
       "    </tr>\n",
       "  </thead>\n",
       "  <tbody>\n",
       "    <tr>\n",
       "      <th>RMSE</th>\n",
       "      <td>14.894124</td>\n",
       "      <td>14.853802</td>\n",
       "      <td>16.206121</td>\n",
       "      <td>14.906245</td>\n",
       "      <td>15.026151</td>\n",
       "      <td>15.009157</td>\n",
       "      <td>14.973004</td>\n",
       "      <td>14.867475</td>\n",
       "    </tr>\n",
       "    <tr>\n",
       "      <th>MAE</th>\n",
       "      <td>11.552854</td>\n",
       "      <td>11.512155</td>\n",
       "      <td>12.476262</td>\n",
       "      <td>11.559593</td>\n",
       "      <td>11.654557</td>\n",
       "      <td>11.641346</td>\n",
       "      <td>11.582826</td>\n",
       "      <td>11.517005</td>\n",
       "    </tr>\n",
       "    <tr>\n",
       "      <th>R-squared</th>\n",
       "      <td>0.106902</td>\n",
       "      <td>0.111731</td>\n",
       "      <td>-0.057371</td>\n",
       "      <td>0.105447</td>\n",
       "      <td>0.090998</td>\n",
       "      <td>0.093053</td>\n",
       "      <td>0.097417</td>\n",
       "      <td>0.110095</td>\n",
       "    </tr>\n",
       "    <tr>\n",
       "      <th>Adj. R-squared</th>\n",
       "      <td>0.105596</td>\n",
       "      <td>0.110432</td>\n",
       "      <td>-0.058917</td>\n",
       "      <td>0.104139</td>\n",
       "      <td>0.089669</td>\n",
       "      <td>0.091727</td>\n",
       "      <td>0.096097</td>\n",
       "      <td>0.108794</td>\n",
       "    </tr>\n",
       "    <tr>\n",
       "      <th>MAPE</th>\n",
       "      <td>19.011210</td>\n",
       "      <td>18.898856</td>\n",
       "      <td>20.071146</td>\n",
       "      <td>19.019887</td>\n",
       "      <td>19.158585</td>\n",
       "      <td>19.169478</td>\n",
       "      <td>18.941080</td>\n",
       "      <td>18.881056</td>\n",
       "    </tr>\n",
       "  </tbody>\n",
       "</table>\n",
       "</div>"
      ],
      "text/plain": [
       "                     GBM2  GBM2 Tuned  Random Forest2  Random Forest2 Tuned  \\\n",
       "RMSE            14.894124   14.853802       16.206121             14.906245   \n",
       "MAE             11.552854   11.512155       12.476262             11.559593   \n",
       "R-squared        0.106902    0.111731       -0.057371              0.105447   \n",
       "Adj. R-squared   0.105596    0.110432       -0.058917              0.104139   \n",
       "MAPE            19.011210   18.898856       20.071146             19.019887   \n",
       "\n",
       "                XGB_gblinear2  XGB_gblinear2 Tuned  XGB_gbtree2  \\\n",
       "RMSE                15.026151            15.009157    14.973004   \n",
       "MAE                 11.654557            11.641346    11.582826   \n",
       "R-squared            0.090998             0.093053     0.097417   \n",
       "Adj. R-squared       0.089669             0.091727     0.096097   \n",
       "MAPE                19.158585            19.169478    18.941080   \n",
       "\n",
       "                XGB_gbtree2 Tuned  \n",
       "RMSE                    14.867475  \n",
       "MAE                     11.517005  \n",
       "R-squared                0.110095  \n",
       "Adj. R-squared           0.108794  \n",
       "MAPE                    18.881056  "
      ]
     },
     "execution_count": 68,
     "metadata": {},
     "output_type": "execute_result"
    },
    {
     "data": {
      "application/javascript": [
       "\n",
       "            setTimeout(function() {\n",
       "                var nbb_cell_id = 68;\n",
       "                var nbb_unformatted_code = \"# Displaying validation performance of all models\\nprint(\\\"Validation Performance Comparison:\\\")\\nmodels_val_comp_df[cols].sort_index(axis=1)\";\n",
       "                var nbb_formatted_code = \"# Displaying validation performance of all models\\nprint(\\\"Validation Performance Comparison:\\\")\\nmodels_val_comp_df[cols].sort_index(axis=1)\";\n",
       "                var nbb_cells = Jupyter.notebook.get_cells();\n",
       "                for (var i = 0; i < nbb_cells.length; ++i) {\n",
       "                    if (nbb_cells[i].input_prompt_number == nbb_cell_id) {\n",
       "                        if (nbb_cells[i].get_text() == nbb_unformatted_code) {\n",
       "                             nbb_cells[i].set_text(nbb_formatted_code);\n",
       "                        }\n",
       "                        break;\n",
       "                    }\n",
       "                }\n",
       "            }, 500);\n",
       "            "
      ],
      "text/plain": [
       "<IPython.core.display.Javascript object>"
      ]
     },
     "metadata": {},
     "output_type": "display_data"
    }
   ],
   "source": [
    "# Displaying validation performance of all models\n",
    "print(\"Validation Performance Comparison:\")\n",
    "models_val_comp_df[cols].sort_index(axis=1)"
   ]
  },
  {
   "cell_type": "markdown",
   "id": "ff0499f5",
   "metadata": {},
   "source": [
    "#### Observations:\n",
    "- We see improvement across the board with hyperparameter tuning.  Even *Random Forest2** improved enough to be a contender.\n",
    "- Let us narrow down the model contenders to those with validation R$^2$ scores of at least 0.105, from both modeling iterations."
   ]
  },
  {
   "cell_type": "markdown",
   "id": "59979b39",
   "metadata": {},
   "source": [
    "### Performance of Contender Models"
   ]
  },
  {
   "cell_type": "code",
   "execution_count": 75,
   "id": "24075b2d",
   "metadata": {},
   "outputs": [
    {
     "name": "stdout",
     "output_type": "stream",
     "text": [
      "Train Performance Comparison:\n"
     ]
    },
    {
     "data": {
      "text/html": [
       "<div>\n",
       "<style scoped>\n",
       "    .dataframe tbody tr th:only-of-type {\n",
       "        vertical-align: middle;\n",
       "    }\n",
       "\n",
       "    .dataframe tbody tr th {\n",
       "        vertical-align: top;\n",
       "    }\n",
       "\n",
       "    .dataframe thead th {\n",
       "        text-align: right;\n",
       "    }\n",
       "</style>\n",
       "<table border=\"1\" class=\"dataframe\">\n",
       "  <thead>\n",
       "    <tr style=\"text-align: right;\">\n",
       "      <th></th>\n",
       "      <th>GBM Tuned</th>\n",
       "      <th>GBM2</th>\n",
       "      <th>GBM2 Tuned</th>\n",
       "      <th>Random Forest2 Tuned</th>\n",
       "      <th>XGB_gbtree Tuned</th>\n",
       "      <th>XGB_gbtree2 Tuned</th>\n",
       "    </tr>\n",
       "  </thead>\n",
       "  <tbody>\n",
       "    <tr>\n",
       "      <th>RMSE</th>\n",
       "      <td>14.835035</td>\n",
       "      <td>14.937480</td>\n",
       "      <td>14.803396</td>\n",
       "      <td>14.485455</td>\n",
       "      <td>14.813429</td>\n",
       "      <td>14.596533</td>\n",
       "    </tr>\n",
       "    <tr>\n",
       "      <th>MAE</th>\n",
       "      <td>11.521845</td>\n",
       "      <td>11.599899</td>\n",
       "      <td>11.490370</td>\n",
       "      <td>11.250801</td>\n",
       "      <td>11.504380</td>\n",
       "      <td>11.326033</td>\n",
       "    </tr>\n",
       "    <tr>\n",
       "      <th>R-squared</th>\n",
       "      <td>0.124949</td>\n",
       "      <td>0.112822</td>\n",
       "      <td>0.128678</td>\n",
       "      <td>0.165703</td>\n",
       "      <td>0.127496</td>\n",
       "      <td>0.152859</td>\n",
       "    </tr>\n",
       "    <tr>\n",
       "      <th>MAPE</th>\n",
       "      <td>18.989296</td>\n",
       "      <td>19.178492</td>\n",
       "      <td>18.950940</td>\n",
       "      <td>18.596652</td>\n",
       "      <td>18.953973</td>\n",
       "      <td>18.630614</td>\n",
       "    </tr>\n",
       "  </tbody>\n",
       "</table>\n",
       "</div>"
      ],
      "text/plain": [
       "           GBM Tuned       GBM2  GBM2 Tuned  Random Forest2 Tuned  \\\n",
       "RMSE       14.835035  14.937480   14.803396             14.485455   \n",
       "MAE        11.521845  11.599899   11.490370             11.250801   \n",
       "R-squared   0.124949   0.112822    0.128678              0.165703   \n",
       "MAPE       18.989296  19.178492   18.950940             18.596652   \n",
       "\n",
       "           XGB_gbtree Tuned  XGB_gbtree2 Tuned  \n",
       "RMSE              14.813429          14.596533  \n",
       "MAE               11.504380          11.326033  \n",
       "R-squared          0.127496           0.152859  \n",
       "MAPE              18.953973          18.630614  "
      ]
     },
     "execution_count": 75,
     "metadata": {},
     "output_type": "execute_result"
    },
    {
     "data": {
      "application/javascript": [
       "\n",
       "            setTimeout(function() {\n",
       "                var nbb_cell_id = 75;\n",
       "                var nbb_unformatted_code = \"# Displaying train performance of contender models\\nprint(\\\"Train Performance Comparison:\\\")\\ncols = [\\n    column\\n    for column in models_train_comp_df.columns\\n    if models_val_comp_df.loc[\\\"R-squared\\\", column] >= 0.105\\n]\\nmodels_train_comp_df.drop('Adj. R-squared')[cols].sort_index(axis=1)\";\n",
       "                var nbb_formatted_code = \"# Displaying train performance of contender models\\nprint(\\\"Train Performance Comparison:\\\")\\ncols = [\\n    column\\n    for column in models_train_comp_df.columns\\n    if models_val_comp_df.loc[\\\"R-squared\\\", column] >= 0.105\\n]\\nmodels_train_comp_df.drop(\\\"Adj. R-squared\\\")[cols].sort_index(axis=1)\";\n",
       "                var nbb_cells = Jupyter.notebook.get_cells();\n",
       "                for (var i = 0; i < nbb_cells.length; ++i) {\n",
       "                    if (nbb_cells[i].input_prompt_number == nbb_cell_id) {\n",
       "                        if (nbb_cells[i].get_text() == nbb_unformatted_code) {\n",
       "                             nbb_cells[i].set_text(nbb_formatted_code);\n",
       "                        }\n",
       "                        break;\n",
       "                    }\n",
       "                }\n",
       "            }, 500);\n",
       "            "
      ],
      "text/plain": [
       "<IPython.core.display.Javascript object>"
      ]
     },
     "metadata": {},
     "output_type": "display_data"
    }
   ],
   "source": [
    "# Displaying train performance of contender models\n",
    "print(\"Train Performance Comparison:\")\n",
    "cols = [\n",
    "    column\n",
    "    for column in models_train_comp_df.columns\n",
    "    if models_val_comp_df.loc[\"R-squared\", column] >= 0.105\n",
    "]\n",
    "models_train_comp_df.drop(\"Adj. R-squared\")[cols].sort_index(axis=1)"
   ]
  },
  {
   "cell_type": "code",
   "execution_count": 76,
   "id": "df9d1057",
   "metadata": {},
   "outputs": [
    {
     "name": "stdout",
     "output_type": "stream",
     "text": [
      "Validation Performance Comparison:\n"
     ]
    },
    {
     "data": {
      "text/html": [
       "<div>\n",
       "<style scoped>\n",
       "    .dataframe tbody tr th:only-of-type {\n",
       "        vertical-align: middle;\n",
       "    }\n",
       "\n",
       "    .dataframe tbody tr th {\n",
       "        vertical-align: top;\n",
       "    }\n",
       "\n",
       "    .dataframe thead th {\n",
       "        text-align: right;\n",
       "    }\n",
       "</style>\n",
       "<table border=\"1\" class=\"dataframe\">\n",
       "  <thead>\n",
       "    <tr style=\"text-align: right;\">\n",
       "      <th></th>\n",
       "      <th>GBM Tuned</th>\n",
       "      <th>GBM2</th>\n",
       "      <th>GBM2 Tuned</th>\n",
       "      <th>Random Forest2 Tuned</th>\n",
       "      <th>XGB_gbtree Tuned</th>\n",
       "      <th>XGB_gbtree2 Tuned</th>\n",
       "    </tr>\n",
       "  </thead>\n",
       "  <tbody>\n",
       "    <tr>\n",
       "      <th>RMSE</th>\n",
       "      <td>14.877704</td>\n",
       "      <td>14.894124</td>\n",
       "      <td>14.853802</td>\n",
       "      <td>14.906245</td>\n",
       "      <td>14.882834</td>\n",
       "      <td>14.867475</td>\n",
       "    </tr>\n",
       "    <tr>\n",
       "      <th>MAE</th>\n",
       "      <td>11.542386</td>\n",
       "      <td>11.552854</td>\n",
       "      <td>11.512155</td>\n",
       "      <td>11.559593</td>\n",
       "      <td>11.546377</td>\n",
       "      <td>11.517005</td>\n",
       "    </tr>\n",
       "    <tr>\n",
       "      <th>R-squared</th>\n",
       "      <td>0.108870</td>\n",
       "      <td>0.106902</td>\n",
       "      <td>0.111731</td>\n",
       "      <td>0.105447</td>\n",
       "      <td>0.108255</td>\n",
       "      <td>0.110095</td>\n",
       "    </tr>\n",
       "    <tr>\n",
       "      <th>MAPE</th>\n",
       "      <td>18.937928</td>\n",
       "      <td>19.011210</td>\n",
       "      <td>18.898856</td>\n",
       "      <td>19.019887</td>\n",
       "      <td>18.931955</td>\n",
       "      <td>18.881056</td>\n",
       "    </tr>\n",
       "  </tbody>\n",
       "</table>\n",
       "</div>"
      ],
      "text/plain": [
       "           GBM Tuned       GBM2  GBM2 Tuned  Random Forest2 Tuned  \\\n",
       "RMSE       14.877704  14.894124   14.853802             14.906245   \n",
       "MAE        11.542386  11.552854   11.512155             11.559593   \n",
       "R-squared   0.108870   0.106902    0.111731              0.105447   \n",
       "MAPE       18.937928  19.011210   18.898856             19.019887   \n",
       "\n",
       "           XGB_gbtree Tuned  XGB_gbtree2 Tuned  \n",
       "RMSE              14.882834          14.867475  \n",
       "MAE               11.546377          11.517005  \n",
       "R-squared          0.108255           0.110095  \n",
       "MAPE              18.931955          18.881056  "
      ]
     },
     "execution_count": 76,
     "metadata": {},
     "output_type": "execute_result"
    },
    {
     "data": {
      "application/javascript": [
       "\n",
       "            setTimeout(function() {\n",
       "                var nbb_cell_id = 76;\n",
       "                var nbb_unformatted_code = \"# Displaying validation performance of contender models\\nprint(\\\"Validation Performance Comparison:\\\")\\nmodels_val_comp_df.drop('Adj. R-squared')[cols].sort_index(axis=1)\";\n",
       "                var nbb_formatted_code = \"# Displaying validation performance of contender models\\nprint(\\\"Validation Performance Comparison:\\\")\\nmodels_val_comp_df.drop(\\\"Adj. R-squared\\\")[cols].sort_index(axis=1)\";\n",
       "                var nbb_cells = Jupyter.notebook.get_cells();\n",
       "                for (var i = 0; i < nbb_cells.length; ++i) {\n",
       "                    if (nbb_cells[i].input_prompt_number == nbb_cell_id) {\n",
       "                        if (nbb_cells[i].get_text() == nbb_unformatted_code) {\n",
       "                             nbb_cells[i].set_text(nbb_formatted_code);\n",
       "                        }\n",
       "                        break;\n",
       "                    }\n",
       "                }\n",
       "            }, 500);\n",
       "            "
      ],
      "text/plain": [
       "<IPython.core.display.Javascript object>"
      ]
     },
     "metadata": {},
     "output_type": "display_data"
    }
   ],
   "source": [
    "# Displaying validation performance of contender models\n",
    "print(\"Validation Performance Comparison:\")\n",
    "models_val_comp_df.drop(\"Adj. R-squared\")[cols].sort_index(axis=1)"
   ]
  },
  {
   "cell_type": "markdown",
   "id": "f1ab6f60",
   "metadata": {},
   "source": [
    "#### Observations:\n",
    "- *GBM* and *GBM Tuned* has one additional feature than the other models, after one hot encoding.  Therefore Ajusted $R^2$ is more relevant here comparing those two models with the others, than previously.\n",
    "- Regardless, the top models are the same for R$^2$ and Adjusted R$^2$, *GBM2 Tuned*, followed by *XGB_gtree2 Tuned*, then *GBM Tuned*.\n",
    "- Using the original `known for` category columns instead of `known_for`, with the inclusion of `num_categories`, brought the validation R$^2$ scores over 0.11 for two of the models.\n",
    "- There is some variation in overfitting between the contender models."
   ]
  },
  {
   "cell_type": "markdown",
   "id": "ff59cc71",
   "metadata": {},
   "source": [
    "#### Comparison of Percentage of Overfit for All 4 Metrics"
   ]
  },
  {
   "cell_type": "code",
   "execution_count": 119,
   "id": "8483a77f",
   "metadata": {},
   "outputs": [
    {
     "data": {
      "text/plain": [
       "Index(['RMSE', 'MAE', 'R-squared', 'MAPE'], dtype='object')"
      ]
     },
     "execution_count": 119,
     "metadata": {},
     "output_type": "execute_result"
    },
    {
     "data": {
      "application/javascript": [
       "\n",
       "            setTimeout(function() {\n",
       "                var nbb_cell_id = 119;\n",
       "                var nbb_unformatted_code = \"models_val_comp_df.drop('Adj. R-squared').index\";\n",
       "                var nbb_formatted_code = \"models_val_comp_df.drop(\\\"Adj. R-squared\\\").index\";\n",
       "                var nbb_cells = Jupyter.notebook.get_cells();\n",
       "                for (var i = 0; i < nbb_cells.length; ++i) {\n",
       "                    if (nbb_cells[i].input_prompt_number == nbb_cell_id) {\n",
       "                        if (nbb_cells[i].get_text() == nbb_unformatted_code) {\n",
       "                             nbb_cells[i].set_text(nbb_formatted_code);\n",
       "                        }\n",
       "                        break;\n",
       "                    }\n",
       "                }\n",
       "            }, 500);\n",
       "            "
      ],
      "text/plain": [
       "<IPython.core.display.Javascript object>"
      ]
     },
     "metadata": {},
     "output_type": "display_data"
    }
   ],
   "source": [
    "models_val_comp_df.drop(\"Adj. R-squared\").index"
   ]
  },
  {
   "cell_type": "code",
   "execution_count": 167,
   "id": "8c576bcc",
   "metadata": {},
   "outputs": [
    {
     "name": "stdout",
     "output_type": "stream",
     "text": [
      "Percentage of Overfit:\n"
     ]
    },
    {
     "data": {
      "text/html": [
       "<div>\n",
       "<style scoped>\n",
       "    .dataframe tbody tr th:only-of-type {\n",
       "        vertical-align: middle;\n",
       "    }\n",
       "\n",
       "    .dataframe tbody tr th {\n",
       "        vertical-align: top;\n",
       "    }\n",
       "\n",
       "    .dataframe thead th {\n",
       "        text-align: right;\n",
       "    }\n",
       "</style>\n",
       "<table border=\"1\" class=\"dataframe\">\n",
       "  <thead>\n",
       "    <tr style=\"text-align: right;\">\n",
       "      <th></th>\n",
       "      <th>R-squared % overfit</th>\n",
       "      <th>RMSE % overfit</th>\n",
       "      <th>MAE % overfit</th>\n",
       "      <th>MAPE % overfit</th>\n",
       "      <th>% Overfit Average of 4 Metrics</th>\n",
       "    </tr>\n",
       "  </thead>\n",
       "  <tbody>\n",
       "    <tr>\n",
       "      <th>GBM2</th>\n",
       "      <td>5.2</td>\n",
       "      <td>-0.3</td>\n",
       "      <td>-0.4</td>\n",
       "      <td>-0.9</td>\n",
       "      <td>0.9</td>\n",
       "    </tr>\n",
       "    <tr>\n",
       "      <th>GBM Tuned</th>\n",
       "      <td>12.9</td>\n",
       "      <td>0.3</td>\n",
       "      <td>0.2</td>\n",
       "      <td>-0.3</td>\n",
       "      <td>3.3</td>\n",
       "    </tr>\n",
       "    <tr>\n",
       "      <th>GBM2 Tuned</th>\n",
       "      <td>13.2</td>\n",
       "      <td>0.3</td>\n",
       "      <td>0.2</td>\n",
       "      <td>-0.3</td>\n",
       "      <td>3.4</td>\n",
       "    </tr>\n",
       "    <tr>\n",
       "      <th>XGB_gbtree Tuned</th>\n",
       "      <td>15.1</td>\n",
       "      <td>0.5</td>\n",
       "      <td>0.4</td>\n",
       "      <td>-0.1</td>\n",
       "      <td>4.0</td>\n",
       "    </tr>\n",
       "    <tr>\n",
       "      <th>XGB_gbtree2 Tuned</th>\n",
       "      <td>28.0</td>\n",
       "      <td>1.8</td>\n",
       "      <td>1.7</td>\n",
       "      <td>1.3</td>\n",
       "      <td>8.2</td>\n",
       "    </tr>\n",
       "    <tr>\n",
       "      <th>Random Forest2 Tuned</th>\n",
       "      <td>36.4</td>\n",
       "      <td>2.8</td>\n",
       "      <td>2.7</td>\n",
       "      <td>2.2</td>\n",
       "      <td>11.0</td>\n",
       "    </tr>\n",
       "  </tbody>\n",
       "</table>\n",
       "</div>"
      ],
      "text/plain": [
       "                      R-squared % overfit  RMSE % overfit  MAE % overfit  \\\n",
       "GBM2                                  5.2            -0.3           -0.4   \n",
       "GBM Tuned                            12.9             0.3            0.2   \n",
       "GBM2 Tuned                           13.2             0.3            0.2   \n",
       "XGB_gbtree Tuned                     15.1             0.5            0.4   \n",
       "XGB_gbtree2 Tuned                    28.0             1.8            1.7   \n",
       "Random Forest2 Tuned                 36.4             2.8            2.7   \n",
       "\n",
       "                      MAPE % overfit  % Overfit Average of 4 Metrics  \n",
       "GBM2                            -0.9                             0.9  \n",
       "GBM Tuned                       -0.3                             3.3  \n",
       "GBM2 Tuned                      -0.3                             3.4  \n",
       "XGB_gbtree Tuned                -0.1                             4.0  \n",
       "XGB_gbtree2 Tuned                1.3                             8.2  \n",
       "Random Forest2 Tuned             2.2                            11.0  "
      ]
     },
     "execution_count": 167,
     "metadata": {},
     "output_type": "execute_result"
    },
    {
     "data": {
      "application/javascript": [
       "\n",
       "            setTimeout(function() {\n",
       "                var nbb_cell_id = 167;\n",
       "                var nbb_unformatted_code = \"# Subtracting the ratio of validation R-square/train R-square from 1\\noverfit_perc = pd.DataFrame()\\noverfit_perc[\\\"R-squared % overfit\\\"] = np.round(\\n    (\\n        1\\n        - (\\n            models_val_comp_df[cols].T[\\\"R-squared\\\"]\\n            / models_train_comp_df[cols].T[\\\"R-squared\\\"]\\n        )\\n    )\\n    * 100,\\n    1,\\n)\\nfor metric in [\\\"RMSE\\\", \\\"MAE\\\", \\\"MAPE\\\"]:\\n    overfit_perc[f\\\"{metric} % overfit\\\"] = np.round(\\n        (1 - (models_train_comp_df.T[metric] / models_val_comp_df.T[metric])) * 100, 1\\n    )\\n\\noverfit_perc[\\\"% Overfit Average of 4 Metrics\\\"] = np.round(\\n    overfit_perc.sum(axis=1) / 4, 1\\n)\\n\\nprint(f\\\"Percentage of Overfit:\\\")\\noverfit_perc.sort_values(by=\\\"R-squared % overfit\\\")\";\n",
       "                var nbb_formatted_code = \"# Subtracting the ratio of validation R-square/train R-square from 1\\noverfit_perc = pd.DataFrame()\\noverfit_perc[\\\"R-squared % overfit\\\"] = np.round(\\n    (\\n        1\\n        - (\\n            models_val_comp_df[cols].T[\\\"R-squared\\\"]\\n            / models_train_comp_df[cols].T[\\\"R-squared\\\"]\\n        )\\n    )\\n    * 100,\\n    1,\\n)\\nfor metric in [\\\"RMSE\\\", \\\"MAE\\\", \\\"MAPE\\\"]:\\n    overfit_perc[f\\\"{metric} % overfit\\\"] = np.round(\\n        (1 - (models_train_comp_df.T[metric] / models_val_comp_df.T[metric])) * 100, 1\\n    )\\n\\noverfit_perc[\\\"% Overfit Average of 4 Metrics\\\"] = np.round(\\n    overfit_perc.sum(axis=1) / 4, 1\\n)\\n\\nprint(f\\\"Percentage of Overfit:\\\")\\noverfit_perc.sort_values(by=\\\"R-squared % overfit\\\")\";\n",
       "                var nbb_cells = Jupyter.notebook.get_cells();\n",
       "                for (var i = 0; i < nbb_cells.length; ++i) {\n",
       "                    if (nbb_cells[i].input_prompt_number == nbb_cell_id) {\n",
       "                        if (nbb_cells[i].get_text() == nbb_unformatted_code) {\n",
       "                             nbb_cells[i].set_text(nbb_formatted_code);\n",
       "                        }\n",
       "                        break;\n",
       "                    }\n",
       "                }\n",
       "            }, 500);\n",
       "            "
      ],
      "text/plain": [
       "<IPython.core.display.Javascript object>"
      ]
     },
     "metadata": {},
     "output_type": "display_data"
    }
   ],
   "source": [
    "# Subtracting the ratio of validation R-square/train R-square from 1\n",
    "overfit_perc = pd.DataFrame()\n",
    "overfit_perc[\"R-squared % overfit\"] = np.round(\n",
    "    (\n",
    "        1\n",
    "        - (\n",
    "            models_val_comp_df[cols].T[\"R-squared\"]\n",
    "            / models_train_comp_df[cols].T[\"R-squared\"]\n",
    "        )\n",
    "    )\n",
    "    * 100,\n",
    "    1,\n",
    ")\n",
    "for metric in [\"RMSE\", \"MAE\", \"MAPE\"]:\n",
    "    overfit_perc[f\"{metric} % overfit\"] = np.round(\n",
    "        (1 - (models_train_comp_df.T[metric] / models_val_comp_df.T[metric])) * 100, 1\n",
    "    )\n",
    "\n",
    "overfit_perc[\"% Overfit Average of 4 Metrics\"] = np.round(\n",
    "    overfit_perc.sum(axis=1) / 4, 1\n",
    ")\n",
    "\n",
    "print(f\"Percentage of Overfit:\")\n",
    "overfit_perc.sort_values(by=\"R-squared % overfit\")"
   ]
  },
  {
   "cell_type": "markdown",
   "id": "c347e38b",
   "metadata": {},
   "source": [
    "#### Observations:\n",
    "- Of the candidate models for R$^2$ score, *GBM2* gives the most generalized performance.\n",
    "- That said, *GBM2 Tuned* has the highest R$^2$ score on the validation set, followed by *XGB_gbtree2 Tuned*.  \n",
    "- With limited performance across the board, we will aim to eke out as much predictive capacity as possible by choosing *GBM2* as the champion model and *XGB_gbtree2 Tuned* as the challenger.\n",
    "- It's time to check our champion model's performance on the test set."
   ]
  },
  {
   "cell_type": "markdown",
   "id": "6a9b5162",
   "metadata": {},
   "source": [
    "### Champion Model *GBM2 Tuned* Performance on Test Set"
   ]
  },
  {
   "cell_type": "markdown",
   "id": "adce2d8a",
   "metadata": {},
   "source": [
    "#### Reading the [Preprocessed Test Set](https://github.com/teresahanak/wikipedia-life-expectancy/blob/main/wp_life_expect_test_preproc.csv)"
   ]
  },
  {
   "cell_type": "code",
   "execution_count": 446,
   "id": "b62137d6",
   "metadata": {},
   "outputs": [
    {
     "name": "stdout",
     "output_type": "stream",
     "text": [
      "There are 19420 rows and 20 columns.\n"
     ]
    },
    {
     "data": {
      "application/javascript": [
       "\n",
       "            setTimeout(function() {\n",
       "                var nbb_cell_id = 446;\n",
       "                var nbb_unformatted_code = \"# Reading the test set\\ntest_data = pd.read_csv(\\\"wp_life_expect_test_preproc.csv\\\")\\n\\n# Making a working copy\\ntest = test_data.copy()\\n\\n# Checking shape\\nprint(f\\\"There are {test.shape[0]} rows and {test.shape[1]} columns.\\\")\";\n",
       "                var nbb_formatted_code = \"# Reading the test set\\ntest_data = pd.read_csv(\\\"wp_life_expect_test_preproc.csv\\\")\\n\\n# Making a working copy\\ntest = test_data.copy()\\n\\n# Checking shape\\nprint(f\\\"There are {test.shape[0]} rows and {test.shape[1]} columns.\\\")\";\n",
       "                var nbb_cells = Jupyter.notebook.get_cells();\n",
       "                for (var i = 0; i < nbb_cells.length; ++i) {\n",
       "                    if (nbb_cells[i].input_prompt_number == nbb_cell_id) {\n",
       "                        if (nbb_cells[i].get_text() == nbb_unformatted_code) {\n",
       "                             nbb_cells[i].set_text(nbb_formatted_code);\n",
       "                        }\n",
       "                        break;\n",
       "                    }\n",
       "                }\n",
       "            }, 500);\n",
       "            "
      ],
      "text/plain": [
       "<IPython.core.display.Javascript object>"
      ]
     },
     "metadata": {},
     "output_type": "display_data"
    }
   ],
   "source": [
    "# Reading the test set\n",
    "test_data = pd.read_csv(\"wp_life_expect_test_preproc.csv\")\n",
    "\n",
    "# Making a working copy\n",
    "test = test_data.copy()\n",
    "\n",
    "# Checking shape\n",
    "print(f\"There are {test.shape[0]} rows and {test.shape[1]} columns.\")"
   ]
  },
  {
   "cell_type": "code",
   "execution_count": 447,
   "id": "def88163",
   "metadata": {},
   "outputs": [
    {
     "data": {
      "text/html": [
       "<div>\n",
       "<style scoped>\n",
       "    .dataframe tbody tr th:only-of-type {\n",
       "        vertical-align: middle;\n",
       "    }\n",
       "\n",
       "    .dataframe tbody tr th {\n",
       "        vertical-align: top;\n",
       "    }\n",
       "\n",
       "    .dataframe thead th {\n",
       "        text-align: right;\n",
       "    }\n",
       "</style>\n",
       "<table border=\"1\" class=\"dataframe\">\n",
       "  <thead>\n",
       "    <tr style=\"text-align: right;\">\n",
       "      <th></th>\n",
       "      <th>num_references</th>\n",
       "      <th>age</th>\n",
       "      <th>sciences</th>\n",
       "      <th>social</th>\n",
       "      <th>spiritual</th>\n",
       "      <th>academia_humanities</th>\n",
       "      <th>business_farming</th>\n",
       "      <th>arts</th>\n",
       "      <th>sports</th>\n",
       "      <th>law_enf_military_operator</th>\n",
       "      <th>politics_govt_law</th>\n",
       "      <th>crime</th>\n",
       "      <th>num_categories</th>\n",
       "      <th>age_sqrd</th>\n",
       "      <th>recip_num_references</th>\n",
       "      <th>years</th>\n",
       "      <th>years_sqrd</th>\n",
       "      <th>region</th>\n",
       "      <th>prior_region</th>\n",
       "      <th>known_for</th>\n",
       "    </tr>\n",
       "  </thead>\n",
       "  <tbody>\n",
       "    <tr>\n",
       "      <th>16110</th>\n",
       "      <td>3</td>\n",
       "      <td>77.0</td>\n",
       "      <td>0</td>\n",
       "      <td>0</td>\n",
       "      <td>0</td>\n",
       "      <td>0</td>\n",
       "      <td>0</td>\n",
       "      <td>0</td>\n",
       "      <td>1</td>\n",
       "      <td>0</td>\n",
       "      <td>0</td>\n",
       "      <td>0</td>\n",
       "      <td>1</td>\n",
       "      <td>5929.0</td>\n",
       "      <td>0.333333</td>\n",
       "      <td>17</td>\n",
       "      <td>289</td>\n",
       "      <td>North America</td>\n",
       "      <td>No Prior Region</td>\n",
       "      <td>sports</td>\n",
       "    </tr>\n",
       "    <tr>\n",
       "      <th>6882</th>\n",
       "      <td>20</td>\n",
       "      <td>62.0</td>\n",
       "      <td>0</td>\n",
       "      <td>0</td>\n",
       "      <td>0</td>\n",
       "      <td>0</td>\n",
       "      <td>0</td>\n",
       "      <td>0</td>\n",
       "      <td>0</td>\n",
       "      <td>1</td>\n",
       "      <td>1</td>\n",
       "      <td>0</td>\n",
       "      <td>2</td>\n",
       "      <td>3844.0</td>\n",
       "      <td>0.050000</td>\n",
       "      <td>17</td>\n",
       "      <td>289</td>\n",
       "      <td>Africa</td>\n",
       "      <td>No Prior Region</td>\n",
       "      <td>two</td>\n",
       "    </tr>\n",
       "  </tbody>\n",
       "</table>\n",
       "</div>"
      ],
      "text/plain": [
       "       num_references   age  sciences  social  spiritual  academia_humanities  \\\n",
       "16110               3  77.0         0       0          0                    0   \n",
       "6882               20  62.0         0       0          0                    0   \n",
       "\n",
       "       business_farming  arts  sports  law_enf_military_operator  \\\n",
       "16110                 0     0       1                          0   \n",
       "6882                  0     0       0                          1   \n",
       "\n",
       "       politics_govt_law  crime  num_categories  age_sqrd  \\\n",
       "16110                  0      0               1    5929.0   \n",
       "6882                   1      0               2    3844.0   \n",
       "\n",
       "       recip_num_references  years  years_sqrd         region  \\\n",
       "16110              0.333333     17         289  North America   \n",
       "6882               0.050000     17         289         Africa   \n",
       "\n",
       "          prior_region known_for  \n",
       "16110  No Prior Region    sports  \n",
       "6882   No Prior Region       two  "
      ]
     },
     "execution_count": 447,
     "metadata": {},
     "output_type": "execute_result"
    },
    {
     "data": {
      "application/javascript": [
       "\n",
       "            setTimeout(function() {\n",
       "                var nbb_cell_id = 447;\n",
       "                var nbb_unformatted_code = \"# Checking a sample of rows\\ntest.sample(2)\";\n",
       "                var nbb_formatted_code = \"# Checking a sample of rows\\ntest.sample(2)\";\n",
       "                var nbb_cells = Jupyter.notebook.get_cells();\n",
       "                for (var i = 0; i < nbb_cells.length; ++i) {\n",
       "                    if (nbb_cells[i].input_prompt_number == nbb_cell_id) {\n",
       "                        if (nbb_cells[i].get_text() == nbb_unformatted_code) {\n",
       "                             nbb_cells[i].set_text(nbb_formatted_code);\n",
       "                        }\n",
       "                        break;\n",
       "                    }\n",
       "                }\n",
       "            }, 500);\n",
       "            "
      ],
      "text/plain": [
       "<IPython.core.display.Javascript object>"
      ]
     },
     "metadata": {},
     "output_type": "display_data"
    }
   ],
   "source": [
    "# Checking a sample of rows\n",
    "test.sample(2)"
   ]
  },
  {
   "cell_type": "markdown",
   "id": "9964b4c5",
   "metadata": {},
   "source": [
    "#### Checking Data Types and Null Values"
   ]
  },
  {
   "cell_type": "code",
   "execution_count": 448,
   "id": "3df097a1",
   "metadata": {},
   "outputs": [
    {
     "name": "stdout",
     "output_type": "stream",
     "text": [
      "<class 'pandas.core.frame.DataFrame'>\n",
      "RangeIndex: 19420 entries, 0 to 19419\n",
      "Data columns (total 20 columns):\n",
      " #   Column                     Non-Null Count  Dtype  \n",
      "---  ------                     --------------  -----  \n",
      " 0   num_references             19420 non-null  int64  \n",
      " 1   age                        19420 non-null  float64\n",
      " 2   sciences                   19420 non-null  int64  \n",
      " 3   social                     19420 non-null  int64  \n",
      " 4   spiritual                  19420 non-null  int64  \n",
      " 5   academia_humanities        19420 non-null  int64  \n",
      " 6   business_farming           19420 non-null  int64  \n",
      " 7   arts                       19420 non-null  int64  \n",
      " 8   sports                     19420 non-null  int64  \n",
      " 9   law_enf_military_operator  19420 non-null  int64  \n",
      " 10  politics_govt_law          19420 non-null  int64  \n",
      " 11  crime                      19420 non-null  int64  \n",
      " 12  num_categories             19420 non-null  int64  \n",
      " 13  age_sqrd                   19420 non-null  float64\n",
      " 14  recip_num_references       19420 non-null  float64\n",
      " 15  years                      19420 non-null  int64  \n",
      " 16  years_sqrd                 19420 non-null  int64  \n",
      " 17  region                     19420 non-null  object \n",
      " 18  prior_region               19420 non-null  object \n",
      " 19  known_for                  19420 non-null  object \n",
      "dtypes: float64(3), int64(14), object(3)\n",
      "memory usage: 3.0+ MB\n"
     ]
    },
    {
     "data": {
      "application/javascript": [
       "\n",
       "            setTimeout(function() {\n",
       "                var nbb_cell_id = 448;\n",
       "                var nbb_unformatted_code = \"# Checking info\\ntest.info()\";\n",
       "                var nbb_formatted_code = \"# Checking info\\ntest.info()\";\n",
       "                var nbb_cells = Jupyter.notebook.get_cells();\n",
       "                for (var i = 0; i < nbb_cells.length; ++i) {\n",
       "                    if (nbb_cells[i].input_prompt_number == nbb_cell_id) {\n",
       "                        if (nbb_cells[i].get_text() == nbb_unformatted_code) {\n",
       "                             nbb_cells[i].set_text(nbb_formatted_code);\n",
       "                        }\n",
       "                        break;\n",
       "                    }\n",
       "                }\n",
       "            }, 500);\n",
       "            "
      ],
      "text/plain": [
       "<IPython.core.display.Javascript object>"
      ]
     },
     "metadata": {},
     "output_type": "display_data"
    }
   ],
   "source": [
    "# Checking info\n",
    "test.info()"
   ]
  },
  {
   "cell_type": "markdown",
   "id": "240e1e45",
   "metadata": {},
   "source": [
    "#### Observations:\n",
    "- The test set was pre-processed in the [olsmodel notebook](https://github.com/teresahanak/wikipedia-life-expectancy/blob/main/wp_life_expect_olsmodel_thanak_2022_10_9.ipynb) and has no missing values.\n",
    "- We will typecast object type features as category."
   ]
  },
  {
   "cell_type": "markdown",
   "id": "eee2dd6b",
   "metadata": {},
   "source": [
    "#### Typecasting `region`, `prior_region`, and `known_for` as Categorical"
   ]
  },
  {
   "cell_type": "code",
   "execution_count": 449,
   "id": "a3d01b3e",
   "metadata": {},
   "outputs": [
    {
     "name": "stdout",
     "output_type": "stream",
     "text": [
      "<class 'pandas.core.frame.DataFrame'>\n",
      "RangeIndex: 19420 entries, 0 to 19419\n",
      "Data columns (total 20 columns):\n",
      " #   Column                     Non-Null Count  Dtype   \n",
      "---  ------                     --------------  -----   \n",
      " 0   num_references             19420 non-null  int64   \n",
      " 1   age                        19420 non-null  float64 \n",
      " 2   sciences                   19420 non-null  int64   \n",
      " 3   social                     19420 non-null  int64   \n",
      " 4   spiritual                  19420 non-null  int64   \n",
      " 5   academia_humanities        19420 non-null  int64   \n",
      " 6   business_farming           19420 non-null  int64   \n",
      " 7   arts                       19420 non-null  int64   \n",
      " 8   sports                     19420 non-null  int64   \n",
      " 9   law_enf_military_operator  19420 non-null  int64   \n",
      " 10  politics_govt_law          19420 non-null  int64   \n",
      " 11  crime                      19420 non-null  int64   \n",
      " 12  num_categories             19420 non-null  int64   \n",
      " 13  age_sqrd                   19420 non-null  float64 \n",
      " 14  recip_num_references       19420 non-null  float64 \n",
      " 15  years                      19420 non-null  int64   \n",
      " 16  years_sqrd                 19420 non-null  int64   \n",
      " 17  region                     19420 non-null  category\n",
      " 18  prior_region               19420 non-null  category\n",
      " 19  known_for                  19420 non-null  category\n",
      "dtypes: category(3), float64(3), int64(14)\n",
      "memory usage: 2.6 MB\n"
     ]
    },
    {
     "data": {
      "application/javascript": [
       "\n",
       "            setTimeout(function() {\n",
       "                var nbb_cell_id = 449;\n",
       "                var nbb_unformatted_code = \"# Typecasting object type features as categorical\\ntest[[\\\"region\\\", \\\"prior_region\\\", \\\"known_for\\\"]] = test[\\n    [\\\"region\\\", \\\"prior_region\\\", \\\"known_for\\\"]\\n].astype(\\\"category\\\")\\n\\n# Recheck info\\ntest.info()\";\n",
       "                var nbb_formatted_code = \"# Typecasting object type features as categorical\\ntest[[\\\"region\\\", \\\"prior_region\\\", \\\"known_for\\\"]] = test[\\n    [\\\"region\\\", \\\"prior_region\\\", \\\"known_for\\\"]\\n].astype(\\\"category\\\")\\n\\n# Recheck info\\ntest.info()\";\n",
       "                var nbb_cells = Jupyter.notebook.get_cells();\n",
       "                for (var i = 0; i < nbb_cells.length; ++i) {\n",
       "                    if (nbb_cells[i].input_prompt_number == nbb_cell_id) {\n",
       "                        if (nbb_cells[i].get_text() == nbb_unformatted_code) {\n",
       "                             nbb_cells[i].set_text(nbb_formatted_code);\n",
       "                        }\n",
       "                        break;\n",
       "                    }\n",
       "                }\n",
       "            }, 500);\n",
       "            "
      ],
      "text/plain": [
       "<IPython.core.display.Javascript object>"
      ]
     },
     "metadata": {},
     "output_type": "display_data"
    }
   ],
   "source": [
    "# Typecasting object type features as categorical\n",
    "test[[\"region\", \"prior_region\", \"known_for\"]] = test[\n",
    "    [\"region\", \"prior_region\", \"known_for\"]\n",
    "].astype(\"category\")\n",
    "\n",
    "# Recheck info\n",
    "test.info()"
   ]
  },
  {
   "cell_type": "markdown",
   "id": "94f6031c",
   "metadata": {},
   "source": [
    "#### Observations:\n",
    "- We are ready to define independent and dependent variables."
   ]
  },
  {
   "cell_type": "code",
   "execution_count": 450,
   "id": "cfe2781b",
   "metadata": {},
   "outputs": [
    {
     "name": "stdout",
     "output_type": "stream",
     "text": [
      "There are 19420 rows and 34 columns in the train set.\n",
      "\n"
     ]
    },
    {
     "data": {
      "text/html": [
       "<div>\n",
       "<style scoped>\n",
       "    .dataframe tbody tr th:only-of-type {\n",
       "        vertical-align: middle;\n",
       "    }\n",
       "\n",
       "    .dataframe tbody tr th {\n",
       "        vertical-align: top;\n",
       "    }\n",
       "\n",
       "    .dataframe thead th {\n",
       "        text-align: right;\n",
       "    }\n",
       "</style>\n",
       "<table border=\"1\" class=\"dataframe\">\n",
       "  <thead>\n",
       "    <tr style=\"text-align: right;\">\n",
       "      <th></th>\n",
       "      <th>num_references</th>\n",
       "      <th>years</th>\n",
       "      <th>sciences</th>\n",
       "      <th>social</th>\n",
       "      <th>spiritual</th>\n",
       "      <th>academia_humanities</th>\n",
       "      <th>business_farming</th>\n",
       "      <th>arts</th>\n",
       "      <th>sports</th>\n",
       "      <th>law_enf_military_operator</th>\n",
       "      <th>politics_govt_law</th>\n",
       "      <th>crime</th>\n",
       "      <th>num_categories</th>\n",
       "      <th>region_Asia</th>\n",
       "      <th>region_Central Asia</th>\n",
       "      <th>region_Europe</th>\n",
       "      <th>region_Mid-Cent America/Caribbean</th>\n",
       "      <th>region_Middle East</th>\n",
       "      <th>region_North America</th>\n",
       "      <th>region_Oceania</th>\n",
       "      <th>region_Russian Federation</th>\n",
       "      <th>region_South America</th>\n",
       "      <th>region_South East Asia</th>\n",
       "      <th>prior_region_Asia</th>\n",
       "      <th>prior_region_Central Asia</th>\n",
       "      <th>prior_region_Europe</th>\n",
       "      <th>prior_region_Mid-Cent America/Caribbean</th>\n",
       "      <th>prior_region_Middle East</th>\n",
       "      <th>prior_region_No Prior Region</th>\n",
       "      <th>prior_region_North America</th>\n",
       "      <th>prior_region_Oceania</th>\n",
       "      <th>prior_region_Russian Federation</th>\n",
       "      <th>prior_region_South America</th>\n",
       "      <th>prior_region_South East Asia</th>\n",
       "    </tr>\n",
       "  </thead>\n",
       "  <tbody>\n",
       "    <tr>\n",
       "      <th>10141</th>\n",
       "      <td>7.0</td>\n",
       "      <td>20.0</td>\n",
       "      <td>0.0</td>\n",
       "      <td>0.0</td>\n",
       "      <td>0.0</td>\n",
       "      <td>0.0</td>\n",
       "      <td>0.0</td>\n",
       "      <td>1.0</td>\n",
       "      <td>0.0</td>\n",
       "      <td>0.0</td>\n",
       "      <td>0.0</td>\n",
       "      <td>0.0</td>\n",
       "      <td>1.0</td>\n",
       "      <td>0.0</td>\n",
       "      <td>0.0</td>\n",
       "      <td>1.0</td>\n",
       "      <td>0.0</td>\n",
       "      <td>0.0</td>\n",
       "      <td>0.0</td>\n",
       "      <td>0.0</td>\n",
       "      <td>0.0</td>\n",
       "      <td>0.0</td>\n",
       "      <td>0.0</td>\n",
       "      <td>0.0</td>\n",
       "      <td>0.0</td>\n",
       "      <td>0.0</td>\n",
       "      <td>0.0</td>\n",
       "      <td>0.0</td>\n",
       "      <td>0.0</td>\n",
       "      <td>1.0</td>\n",
       "      <td>0.0</td>\n",
       "      <td>0.0</td>\n",
       "      <td>0.0</td>\n",
       "      <td>0.0</td>\n",
       "    </tr>\n",
       "  </tbody>\n",
       "</table>\n",
       "</div>"
      ],
      "text/plain": [
       "       num_references  years  sciences  social  spiritual  \\\n",
       "10141             7.0   20.0       0.0     0.0        0.0   \n",
       "\n",
       "       academia_humanities  business_farming  arts  sports  \\\n",
       "10141                  0.0               0.0   1.0     0.0   \n",
       "\n",
       "       law_enf_military_operator  politics_govt_law  crime  num_categories  \\\n",
       "10141                        0.0                0.0    0.0             1.0   \n",
       "\n",
       "       region_Asia  region_Central Asia  region_Europe  \\\n",
       "10141          0.0                  0.0            1.0   \n",
       "\n",
       "       region_Mid-Cent America/Caribbean  region_Middle East  \\\n",
       "10141                                0.0                 0.0   \n",
       "\n",
       "       region_North America  region_Oceania  region_Russian Federation  \\\n",
       "10141                   0.0             0.0                        0.0   \n",
       "\n",
       "       region_South America  region_South East Asia  prior_region_Asia  \\\n",
       "10141                   0.0                     0.0                0.0   \n",
       "\n",
       "       prior_region_Central Asia  prior_region_Europe  \\\n",
       "10141                        0.0                  0.0   \n",
       "\n",
       "       prior_region_Mid-Cent America/Caribbean  prior_region_Middle East  \\\n",
       "10141                                      0.0                       0.0   \n",
       "\n",
       "       prior_region_No Prior Region  prior_region_North America  \\\n",
       "10141                           0.0                         1.0   \n",
       "\n",
       "       prior_region_Oceania  prior_region_Russian Federation  \\\n",
       "10141                   0.0                              0.0   \n",
       "\n",
       "       prior_region_South America  prior_region_South East Asia  \n",
       "10141                         0.0                           0.0  "
      ]
     },
     "execution_count": 450,
     "metadata": {},
     "output_type": "execute_result"
    },
    {
     "data": {
      "application/javascript": [
       "\n",
       "            setTimeout(function() {\n",
       "                var nbb_cell_id = 450;\n",
       "                var nbb_unformatted_code = \"# Creating list of predictor columns\\npredictor_cols = [\\n    \\\"num_references\\\",\\n    \\\"years\\\",\\n    \\\"region\\\",\\n    \\\"prior_region\\\",\\n    \\\"sciences\\\",\\n    \\\"social\\\",\\n    \\\"spiritual\\\",\\n    \\\"academia_humanities\\\",\\n    \\\"business_farming\\\",\\n    \\\"arts\\\",\\n    \\\"sports\\\",\\n    \\\"law_enf_military_operator\\\",\\n    \\\"politics_govt_law\\\",\\n    \\\"crime\\\",\\n    \\\"num_categories\\\",\\n]\\n\\n# Defining target column\\ntarget = \\\"age\\\"\\n\\n# Defining independent and dependent variables\\nX_test = test[predictor_cols]\\ny_test = test[target]\\n\\n# One hot encoding of categorical predictors and typecasting all predictors as float\\nX_test = pd.get_dummies(X_test, drop_first=True).astype(\\\"float64\\\")\\n\\n# Checking shape of train and validation sets\\nprint(\\n    f\\\"There are {X_test.shape[0]} rows and {X_test.shape[1]} columns in the train set.\\\\n\\\"\\n)\\n\\n# Checking a sample\\nX_test.sample()\";\n",
       "                var nbb_formatted_code = \"# Creating list of predictor columns\\npredictor_cols = [\\n    \\\"num_references\\\",\\n    \\\"years\\\",\\n    \\\"region\\\",\\n    \\\"prior_region\\\",\\n    \\\"sciences\\\",\\n    \\\"social\\\",\\n    \\\"spiritual\\\",\\n    \\\"academia_humanities\\\",\\n    \\\"business_farming\\\",\\n    \\\"arts\\\",\\n    \\\"sports\\\",\\n    \\\"law_enf_military_operator\\\",\\n    \\\"politics_govt_law\\\",\\n    \\\"crime\\\",\\n    \\\"num_categories\\\",\\n]\\n\\n# Defining target column\\ntarget = \\\"age\\\"\\n\\n# Defining independent and dependent variables\\nX_test = test[predictor_cols]\\ny_test = test[target]\\n\\n# One hot encoding of categorical predictors and typecasting all predictors as float\\nX_test = pd.get_dummies(X_test, drop_first=True).astype(\\\"float64\\\")\\n\\n# Checking shape of train and validation sets\\nprint(\\n    f\\\"There are {X_test.shape[0]} rows and {X_test.shape[1]} columns in the train set.\\\\n\\\"\\n)\\n\\n# Checking a sample\\nX_test.sample()\";\n",
       "                var nbb_cells = Jupyter.notebook.get_cells();\n",
       "                for (var i = 0; i < nbb_cells.length; ++i) {\n",
       "                    if (nbb_cells[i].input_prompt_number == nbb_cell_id) {\n",
       "                        if (nbb_cells[i].get_text() == nbb_unformatted_code) {\n",
       "                             nbb_cells[i].set_text(nbb_formatted_code);\n",
       "                        }\n",
       "                        break;\n",
       "                    }\n",
       "                }\n",
       "            }, 500);\n",
       "            "
      ],
      "text/plain": [
       "<IPython.core.display.Javascript object>"
      ]
     },
     "metadata": {},
     "output_type": "display_data"
    }
   ],
   "source": [
    "# Creating list of predictor columns\n",
    "predictor_cols = [\n",
    "    \"num_references\",\n",
    "    \"years\",\n",
    "    \"region\",\n",
    "    \"prior_region\",\n",
    "    \"sciences\",\n",
    "    \"social\",\n",
    "    \"spiritual\",\n",
    "    \"academia_humanities\",\n",
    "    \"business_farming\",\n",
    "    \"arts\",\n",
    "    \"sports\",\n",
    "    \"law_enf_military_operator\",\n",
    "    \"politics_govt_law\",\n",
    "    \"crime\",\n",
    "    \"num_categories\",\n",
    "]\n",
    "\n",
    "# Defining target column\n",
    "target = \"age\"\n",
    "\n",
    "# Defining independent and dependent variables\n",
    "X_test = test[predictor_cols]\n",
    "y_test = test[target]\n",
    "\n",
    "# One hot encoding of categorical predictors and typecasting all predictors as float\n",
    "X_test = pd.get_dummies(X_test, drop_first=True).astype(\"float64\")\n",
    "\n",
    "# Checking shape of train and validation sets\n",
    "print(\n",
    "    f\"There are {X_test.shape[0]} rows and {X_test.shape[1]} columns in the train set.\\n\"\n",
    ")\n",
    "\n",
    "# Checking a sample\n",
    "X_test.sample()"
   ]
  },
  {
   "cell_type": "markdown",
   "id": "424c4742",
   "metadata": {},
   "source": [
    "#### Checking *GBM2_Tuned* Performance on Test Set"
   ]
  },
  {
   "cell_type": "code",
   "execution_count": 451,
   "id": "ff8e3bdd",
   "metadata": {},
   "outputs": [
    {
     "name": "stdout",
     "output_type": "stream",
     "text": [
      "Test performance:\n",
      "         RMSE        MAE  R-squared  Adj. R-squared       MAPE\n",
      "0  14.790026  11.483625   0.110572        0.109012  18.724429\n"
     ]
    },
    {
     "data": {
      "application/javascript": [
       "\n",
       "            setTimeout(function() {\n",
       "                var nbb_cell_id = 451;\n",
       "                var nbb_unformatted_code = \"# Checking performance of champion model on test set\\nGBM2_tuned_test_perf = model_performance_regression(GBM2_tuned, X_test, y_test)\\nprint(\\\"Test performance:\\\\n\\\", GBM2_tuned_test_perf)\\n\\n# Creating test and train performance df\\nchampion_df = pd.DataFrame()\\nchampion_df[\\\"GBM2 Tuned Train\\\"] = GBM2_tuned_train_perf.T\\nchampion_df[\\\"GBM2 Tuned Test\\\"] = GBM2_tuned_test_perf.T\\nchampion_df.drop(\\\"Adj. R-squared\\\", inplace=True)\";\n",
       "                var nbb_formatted_code = \"# Checking performance of champion model on test set\\nGBM2_tuned_test_perf = model_performance_regression(GBM2_tuned, X_test, y_test)\\nprint(\\\"Test performance:\\\\n\\\", GBM2_tuned_test_perf)\\n\\n# Creating test and train performance df\\nchampion_df = pd.DataFrame()\\nchampion_df[\\\"GBM2 Tuned Train\\\"] = GBM2_tuned_train_perf.T\\nchampion_df[\\\"GBM2 Tuned Test\\\"] = GBM2_tuned_test_perf.T\\nchampion_df.drop(\\\"Adj. R-squared\\\", inplace=True)\";\n",
       "                var nbb_cells = Jupyter.notebook.get_cells();\n",
       "                for (var i = 0; i < nbb_cells.length; ++i) {\n",
       "                    if (nbb_cells[i].input_prompt_number == nbb_cell_id) {\n",
       "                        if (nbb_cells[i].get_text() == nbb_unformatted_code) {\n",
       "                             nbb_cells[i].set_text(nbb_formatted_code);\n",
       "                        }\n",
       "                        break;\n",
       "                    }\n",
       "                }\n",
       "            }, 500);\n",
       "            "
      ],
      "text/plain": [
       "<IPython.core.display.Javascript object>"
      ]
     },
     "metadata": {},
     "output_type": "display_data"
    }
   ],
   "source": [
    "# Checking performance of champion model on test set\n",
    "GBM2_tuned_test_perf = model_performance_regression(GBM2_tuned, X_test, y_test)\n",
    "print(\"Test performance:\\n\", GBM2_tuned_test_perf)\n",
    "\n",
    "# Creating test and train performance df\n",
    "champion_df = pd.DataFrame()\n",
    "champion_df[\"GBM2 Tuned Train\"] = GBM2_tuned_train_perf.T\n",
    "champion_df[\"GBM2 Tuned Test\"] = GBM2_tuned_test_perf.T\n",
    "champion_df.drop(\"Adj. R-squared\", inplace=True)"
   ]
  },
  {
   "cell_type": "code",
   "execution_count": 452,
   "id": "d8496606",
   "metadata": {},
   "outputs": [
    {
     "name": "stdout",
     "output_type": "stream",
     "text": [
      "Average overfit of the 4 metrics is 3.2%.\n"
     ]
    },
    {
     "data": {
      "text/html": [
       "<div>\n",
       "<style scoped>\n",
       "    .dataframe tbody tr th:only-of-type {\n",
       "        vertical-align: middle;\n",
       "    }\n",
       "\n",
       "    .dataframe tbody tr th {\n",
       "        vertical-align: top;\n",
       "    }\n",
       "\n",
       "    .dataframe thead th {\n",
       "        text-align: right;\n",
       "    }\n",
       "</style>\n",
       "<table border=\"1\" class=\"dataframe\">\n",
       "  <thead>\n",
       "    <tr style=\"text-align: right;\">\n",
       "      <th></th>\n",
       "      <th>GBM2 Tuned Train</th>\n",
       "      <th>GBM2 Tuned Test</th>\n",
       "      <th>% Overfit</th>\n",
       "    </tr>\n",
       "  </thead>\n",
       "  <tbody>\n",
       "    <tr>\n",
       "      <th>RMSE</th>\n",
       "      <td>14.803396</td>\n",
       "      <td>14.790026</td>\n",
       "      <td>-0.09</td>\n",
       "    </tr>\n",
       "    <tr>\n",
       "      <th>MAE</th>\n",
       "      <td>11.490370</td>\n",
       "      <td>11.483625</td>\n",
       "      <td>-0.06</td>\n",
       "    </tr>\n",
       "    <tr>\n",
       "      <th>R-squared</th>\n",
       "      <td>0.128678</td>\n",
       "      <td>0.110572</td>\n",
       "      <td>14.07</td>\n",
       "    </tr>\n",
       "    <tr>\n",
       "      <th>MAPE</th>\n",
       "      <td>18.950940</td>\n",
       "      <td>18.724429</td>\n",
       "      <td>-1.21</td>\n",
       "    </tr>\n",
       "  </tbody>\n",
       "</table>\n",
       "</div>"
      ],
      "text/plain": [
       "           GBM2 Tuned Train  GBM2 Tuned Test  % Overfit\n",
       "RMSE              14.803396        14.790026      -0.09\n",
       "MAE               11.490370        11.483625      -0.06\n",
       "R-squared          0.128678         0.110572      14.07\n",
       "MAPE              18.950940        18.724429      -1.21"
      ]
     },
     "execution_count": 452,
     "metadata": {},
     "output_type": "execute_result"
    },
    {
     "data": {
      "application/javascript": [
       "\n",
       "            setTimeout(function() {\n",
       "                var nbb_cell_id = 452;\n",
       "                var nbb_unformatted_code = \"# Performance on train and test sets\\nchampion_df.loc[[\\\"RMSE\\\", \\\"MAE\\\", \\\"MAPE\\\"], \\\"% Overfit\\\"] = np.round(\\n    (1 - (champion_df.iloc[[0, 1, 3], 0] / champion_df.iloc[[0, 1, 3], 1])) * 100, 2\\n)\\nchampion_df.loc[\\\"R-squared\\\", \\\"% Overfit\\\"] = np.round(\\n    (1 - champion_df.iloc[2, 1] / champion_df.iloc[2, 0]) * 100, 2\\n)\\n\\nprint(\\n    f\\\"Average overfit of the 4 metrics is {np.round(champion_df['% Overfit'].sum()/4,1)}%.\\\"\\n)\\nchampion_df\";\n",
       "                var nbb_formatted_code = \"# Performance on train and test sets\\nchampion_df.loc[[\\\"RMSE\\\", \\\"MAE\\\", \\\"MAPE\\\"], \\\"% Overfit\\\"] = np.round(\\n    (1 - (champion_df.iloc[[0, 1, 3], 0] / champion_df.iloc[[0, 1, 3], 1])) * 100, 2\\n)\\nchampion_df.loc[\\\"R-squared\\\", \\\"% Overfit\\\"] = np.round(\\n    (1 - champion_df.iloc[2, 1] / champion_df.iloc[2, 0]) * 100, 2\\n)\\n\\nprint(\\n    f\\\"Average overfit of the 4 metrics is {np.round(champion_df['% Overfit'].sum()/4,1)}%.\\\"\\n)\\nchampion_df\";\n",
       "                var nbb_cells = Jupyter.notebook.get_cells();\n",
       "                for (var i = 0; i < nbb_cells.length; ++i) {\n",
       "                    if (nbb_cells[i].input_prompt_number == nbb_cell_id) {\n",
       "                        if (nbb_cells[i].get_text() == nbb_unformatted_code) {\n",
       "                             nbb_cells[i].set_text(nbb_formatted_code);\n",
       "                        }\n",
       "                        break;\n",
       "                    }\n",
       "                }\n",
       "            }, 500);\n",
       "            "
      ],
      "text/plain": [
       "<IPython.core.display.Javascript object>"
      ]
     },
     "metadata": {},
     "output_type": "display_data"
    }
   ],
   "source": [
    "# Performance on train and test sets\n",
    "champion_df.loc[[\"RMSE\", \"MAE\", \"MAPE\"], \"% Overfit\"] = np.round(\n",
    "    (1 - (champion_df.iloc[[0, 1, 3], 0] / champion_df.iloc[[0, 1, 3], 1])) * 100, 2\n",
    ")\n",
    "champion_df.loc[\"R-squared\", \"% Overfit\"] = np.round(\n",
    "    (1 - champion_df.iloc[2, 1] / champion_df.iloc[2, 0]) * 100, 2\n",
    ")\n",
    "\n",
    "print(\n",
    "    f\"Average overfit of the 4 metrics is {np.round(champion_df['% Overfit'].sum()/4,1)}%.\"\n",
    ")\n",
    "champion_df"
   ]
  },
  {
   "cell_type": "markdown",
   "id": "c32efcd3",
   "metadata": {},
   "source": [
    "#### Observations:\n",
    "- *GBM2 Tuned*'s performance is holding up on the unseen test data.\n",
    "- We have a model that explains ~11.1% of the variation in life span of notable Wikipedia individuals, who meet inclusion criteria.\n",
    "- The model predicts life expectancy within average errors of ~11.5 years and ~18.7%.\n",
    "- Let us check the most important predictive features of the model."
   ]
  },
  {
   "cell_type": "markdown",
   "id": "a9154ab0",
   "metadata": {},
   "source": [
    "### Feature Importance of *GBM2 Tuned*"
   ]
  },
  {
   "cell_type": "code",
   "execution_count": 453,
   "id": "e3873454",
   "metadata": {},
   "outputs": [
    {
     "data": {
      "image/png": "[encoded data removed]",
      "text/plain": [
       "<Figure size 864x864 with 1 Axes>"
      ]
     },
     "metadata": {},
     "output_type": "display_data"
    },
    {
     "data": {
      "application/javascript": [
       "\n",
       "            setTimeout(function() {\n",
       "                var nbb_cell_id = 453;\n",
       "                var nbb_unformatted_code = \"# Plotting feature importances of final model\\nfeature_names = X_train.columns\\nimportances = GBM2_tuned.feature_importances_\\nindices = np.argsort(importances)\\n\\nplt.figure(figsize=(12, 12))\\nplt.title(\\\"Feature Importances\\\")\\nplt.barh(\\n    range(len(indices)), importances[indices], color=\\\"mediumorchid\\\", align=\\\"center\\\"\\n)\\nplt.yticks(range(len(indices)), [feature_names[i] for i in indices])\\nplt.xlabel(\\\"Relative Importance\\\")\\nplt.show()\";\n",
       "                var nbb_formatted_code = \"# Plotting feature importances of final model\\nfeature_names = X_train.columns\\nimportances = GBM2_tuned.feature_importances_\\nindices = np.argsort(importances)\\n\\nplt.figure(figsize=(12, 12))\\nplt.title(\\\"Feature Importances\\\")\\nplt.barh(\\n    range(len(indices)), importances[indices], color=\\\"mediumorchid\\\", align=\\\"center\\\"\\n)\\nplt.yticks(range(len(indices)), [feature_names[i] for i in indices])\\nplt.xlabel(\\\"Relative Importance\\\")\\nplt.show()\";\n",
       "                var nbb_cells = Jupyter.notebook.get_cells();\n",
       "                for (var i = 0; i < nbb_cells.length; ++i) {\n",
       "                    if (nbb_cells[i].input_prompt_number == nbb_cell_id) {\n",
       "                        if (nbb_cells[i].get_text() == nbb_unformatted_code) {\n",
       "                             nbb_cells[i].set_text(nbb_formatted_code);\n",
       "                        }\n",
       "                        break;\n",
       "                    }\n",
       "                }\n",
       "            }, 500);\n",
       "            "
      ],
      "text/plain": [
       "<IPython.core.display.Javascript object>"
      ]
     },
     "metadata": {},
     "output_type": "display_data"
    }
   ],
   "source": [
    "# Plotting feature importances of final model\n",
    "feature_names = X_train.columns\n",
    "importances = GBM2_tuned.feature_importances_\n",
    "indices = np.argsort(importances)\n",
    "\n",
    "plt.figure(figsize=(12, 12))\n",
    "plt.title(\"Feature Importances\")\n",
    "plt.barh(\n",
    "    range(len(indices)), importances[indices], color=\"mediumorchid\", align=\"center\"\n",
    ")\n",
    "plt.yticks(range(len(indices)), [feature_names[i] for i in indices])\n",
    "plt.xlabel(\"Relative Importance\")\n",
    "plt.show()"
   ]
  },
  {
   "cell_type": "markdown",
   "id": "a6f69f66",
   "metadata": {},
   "source": [
    "#### Observations:\n",
    "- The top 7 features of the model for predicting life span of a notable individual are (known for) `sports`, (known for) `crime`, `years`, `num_references`, `region_North America`, `region_Europe`, and (known for) `arts`, in that order.\n",
    "- Recall from EDA that being known for `crime`, `sports`, or `arts` is associated with shorter life span.  Both in EDA and with our linear regression model, we saw that `age` increases with years, yet decreases with `num_references`.  Similarly, in [*olsmodel3*](https://github.com/teresahanak/wikipedia-life-expectancy/blob/main/wp_life_expect_olsmodel_thanak_2022_10_9.ipynb), the combined class of `region_Europe_OR_North_America_OR_Asia` was associated with longer life span (~10 year increase).\n",
    "- So, the feature importances for our champion model, *GBM2 Tuned* are not surprising.\n",
    "- Of the 34 predictor variables, 33 have predictive value in the model.  `prior_region_Central_Asia` is the exception.\n",
    "- We can now proceed to productionalizing *GBM2 Tuned*."
   ]
  },
  {
   "cell_type": "markdown",
   "id": "cd8abad0",
   "metadata": {},
   "source": [
    "## Pipelines to Productionalize the Final Model\n",
    "New data will have the following features at the outset:\n",
    "- `num_references`\n",
    "- `years`\n",
    "- known for category features:\n",
    "    - `sciences`\n",
    "    - `social`\n",
    "    - `spiritual`\n",
    "    - `academia_humanities`\n",
    "    - `business_farming`, \n",
    "    - `arts`\n",
    "    - `sports`\n",
    "    - `law_enf_military_operator`\n",
    "    - `politics_govt_law`\n",
    "    - `crime`\n",
    "- `region`\n",
    "- `prior_region`\n",
    "\n",
    "We have not had to treat any missing values for numerical columns previously.  However, we will add that step in our production pipeline, imputing missing numerical values with the train set group median with matching sole `known for` category, or two, or three to five `known for` categories, or the column median, if there is no match.\n",
    "\n",
    "There should not be any missing values for the known for category columns for new data, as the default value is 0.  As such, there also should not be any missing values for `num_categories`.  Similarly, `prior_region` will have a default of `No Prior Region`."
   ]
  },
  {
   "cell_type": "markdown",
   "id": "4cd44a18",
   "metadata": {},
   "source": [
    "#### [Building a Custom Imputer](https://towardsdatascience.com/coding-a-custom-imputer-in-scikit-learn-31bd68e541de)"
   ]
  },
  {
   "cell_type": "code",
   "execution_count": 458,
   "id": "cedf0181",
   "metadata": {},
   "outputs": [
    {
     "data": {
      "application/javascript": [
       "\n",
       "            setTimeout(function() {\n",
       "                var nbb_cell_id = 458;\n",
       "                var nbb_unformatted_code = \"# Creating class GroupImputer\\nclass GroupImputer(BaseEstimator, TransformerMixin):\\n    \\\"\\\"\\\"\\n    Class used for imputing missing values in a pd.DataFrame using mean, median, or mode of a group\\n    \\n    Parameters\\n    ----------\\n    group_cols: (list of strings) list of columns on which to group to calculate aggregated value\\n    target: (str)the name of the column with missing values to be treated\\n    strategy: (str) \\\"mean\\\", \\\"median\\\", or \\\"mode\\\" (default is \\\"mean\\\")\\n    \\n    Returns\\n    -------\\n    X: (array-like)\\n        The array with imputed values in the treated column\\n    \\\"\\\"\\\"\\n\\n    def __init__(self, group_cols, target, strategy=\\\"mean\\\"):\\n\\n        assert strategy in [\\n            \\\"mean\\\",\\n            \\\"median\\\",\\n            \\\"mode\\\",\\n        ], \\\"Unrecognized value for strategy, should be mean/median/mode\\\"\\n        assert type(group_cols) == list, \\\"group_cols should be a list of columns\\\"\\n        assert type(target) == str, \\\"target should be a string\\\"\\n\\n        self.group_cols = group_cols\\n        self.target = target\\n        if strategy in [\\\"mean\\\", \\\"median\\\"]:\\n            self.strategy = strategy\\n        else:\\n            self.strategy = lambda x: pd.Series.mode(x)[0]\\n\\n    def fit(self, X, y=None):\\n\\n        assert (\\n            pd.isnull(X[self.group_cols]).any(axis=None) == False\\n        ), \\\"There are missing values in group_cols\\\"\\n\\n        impute_map = (\\n            X.groupby(self.group_cols)[self.target]\\n            .agg(self.strategy)\\n            .reset_index(drop=False)\\n        )\\n\\n        self.impute_map_ = impute_map\\n\\n    def transform(self, X, y=None):\\n\\n        # Make sure that the imputer was fitted\\n        check_is_fitted(self, \\\"impute_map_\\\")\\n\\n        X = X.copy()\\n\\n        for index, row in self.impute_map_.iterrows():\\n            ind = (X[self.group_cols] == row[self.group_cols]).all(axis=1)\\n            X.loc[ind, self.target] = X.loc[ind, self.target].fillna(row[self.target])\\n\\n        return X.values\";\n",
       "                var nbb_formatted_code = \"# Creating class GroupImputer\\nclass GroupImputer(BaseEstimator, TransformerMixin):\\n    \\\"\\\"\\\"\\n    Class used for imputing missing values in a pd.DataFrame using mean, median, or mode of a group\\n    \\n    Parameters\\n    ----------\\n    group_cols: (list of strings) list of columns on which to group to calculate aggregated value\\n    target: (str)the name of the column with missing values to be treated\\n    strategy: (str) \\\"mean\\\", \\\"median\\\", or \\\"mode\\\" (default is \\\"mean\\\")\\n    \\n    Returns\\n    -------\\n    X: (array-like)\\n        The array with imputed values in the treated column\\n    \\\"\\\"\\\"\\n\\n    def __init__(self, group_cols, target, strategy=\\\"mean\\\"):\\n\\n        assert strategy in [\\n            \\\"mean\\\",\\n            \\\"median\\\",\\n            \\\"mode\\\",\\n        ], \\\"Unrecognized value for strategy, should be mean/median/mode\\\"\\n        assert type(group_cols) == list, \\\"group_cols should be a list of columns\\\"\\n        assert type(target) == str, \\\"target should be a string\\\"\\n\\n        self.group_cols = group_cols\\n        self.target = target\\n        if strategy in [\\\"mean\\\", \\\"median\\\"]:\\n            self.strategy = strategy\\n        else:\\n            self.strategy = lambda x: pd.Series.mode(x)[0]\\n\\n    def fit(self, X, y=None):\\n\\n        assert (\\n            pd.isnull(X[self.group_cols]).any(axis=None) == False\\n        ), \\\"There are missing values in group_cols\\\"\\n\\n        impute_map = (\\n            X.groupby(self.group_cols)[self.target]\\n            .agg(self.strategy)\\n            .reset_index(drop=False)\\n        )\\n\\n        self.impute_map_ = impute_map\\n\\n    def transform(self, X, y=None):\\n\\n        # Make sure that the imputer was fitted\\n        check_is_fitted(self, \\\"impute_map_\\\")\\n\\n        X = X.copy()\\n\\n        for index, row in self.impute_map_.iterrows():\\n            ind = (X[self.group_cols] == row[self.group_cols]).all(axis=1)\\n            X.loc[ind, self.target] = X.loc[ind, self.target].fillna(row[self.target])\\n\\n        return X.values\";\n",
       "                var nbb_cells = Jupyter.notebook.get_cells();\n",
       "                for (var i = 0; i < nbb_cells.length; ++i) {\n",
       "                    if (nbb_cells[i].input_prompt_number == nbb_cell_id) {\n",
       "                        if (nbb_cells[i].get_text() == nbb_unformatted_code) {\n",
       "                             nbb_cells[i].set_text(nbb_formatted_code);\n",
       "                        }\n",
       "                        break;\n",
       "                    }\n",
       "                }\n",
       "            }, 500);\n",
       "            "
      ],
      "text/plain": [
       "<IPython.core.display.Javascript object>"
      ]
     },
     "metadata": {},
     "output_type": "display_data"
    }
   ],
   "source": [
    "# Creating class GroupImputer\n",
    "class GroupImputer(BaseEstimator, TransformerMixin):\n",
    "    \"\"\"\n",
    "    Class used for imputing missing values in a pd.DataFrame using mean, median, or mode of a group\n",
    "    \n",
    "    Parameters\n",
    "    ----------\n",
    "    group_cols: (list of strings) list of columns on which to group to calculate aggregated value\n",
    "    target: (str)the name of the column with missing values to be treated\n",
    "    strategy: (str) \"mean\", \"median\", or \"mode\" (default is \"mean\")\n",
    "    \n",
    "    Returns\n",
    "    -------\n",
    "    X: (array-like)\n",
    "        The array with imputed values in the treated column\n",
    "    \"\"\"\n",
    "\n",
    "    def __init__(self, group_cols, target, strategy=\"mean\"):\n",
    "\n",
    "        assert strategy in [\n",
    "            \"mean\",\n",
    "            \"median\",\n",
    "            \"mode\",\n",
    "        ], \"Unrecognized value for strategy, should be mean/median/mode\"\n",
    "        assert type(group_cols) == list, \"group_cols should be a list of columns\"\n",
    "        assert type(target) == str, \"target should be a string\"\n",
    "\n",
    "        self.group_cols = group_cols\n",
    "        self.target = target\n",
    "        if strategy in [\"mean\", \"median\"]:\n",
    "            self.strategy = strategy\n",
    "        else:\n",
    "            self.strategy = lambda x: pd.Series.mode(x)[0]\n",
    "\n",
    "    def fit(self, X, y=None):\n",
    "\n",
    "        assert (\n",
    "            pd.isnull(X[self.group_cols]).any(axis=None) == False\n",
    "        ), \"There are missing values in group_cols\"\n",
    "\n",
    "        impute_map = (\n",
    "            X.groupby(self.group_cols)[self.target]\n",
    "            .agg(self.strategy)\n",
    "            .reset_index(drop=False)\n",
    "        )\n",
    "\n",
    "        self.impute_map_ = impute_map\n",
    "\n",
    "    def transform(self, X, y=None):\n",
    "\n",
    "        # Make sure that the imputer was fitted\n",
    "        check_is_fitted(self, \"impute_map_\")\n",
    "\n",
    "        X = X.copy()\n",
    "\n",
    "        for index, row in self.impute_map_.iterrows():\n",
    "            ind = (X[self.group_cols] == row[self.group_cols]).all(axis=1)\n",
    "            X.loc[ind, self.target] = X.loc[ind, self.target].fillna(row[self.target])\n",
    "\n",
    "        return X.values"
   ]
  },
  {
   "cell_type": "markdown",
   "id": "b95d23f3",
   "metadata": {},
   "source": [
    "#### Creating Column Imputers and Preprocessor for Production Pipeline"
   ]
  },
  {
   "cell_type": "code",
   "execution_count": 499,
   "id": "5244a34f",
   "metadata": {},
   "outputs": [
    {
     "data": {
      "text/plain": [
       "Index(['num_references', 'age', 'sciences', 'social', 'spiritual',\n",
       "       'academia_humanities', 'business_farming', 'arts', 'sports',\n",
       "       'law_enf_military_operator', 'politics_govt_law', 'crime',\n",
       "       'num_categories', 'age_sqrd', 'recip_num_references', 'years',\n",
       "       'years_sqrd', 'region', 'prior_region', 'known_for'],\n",
       "      dtype='object')"
      ]
     },
     "execution_count": 499,
     "metadata": {},
     "output_type": "execute_result"
    },
    {
     "data": {
      "application/javascript": [
       "\n",
       "            setTimeout(function() {\n",
       "                var nbb_cell_id = 499;\n",
       "                var nbb_unformatted_code = \"test.columns\";\n",
       "                var nbb_formatted_code = \"test.columns\";\n",
       "                var nbb_cells = Jupyter.notebook.get_cells();\n",
       "                for (var i = 0; i < nbb_cells.length; ++i) {\n",
       "                    if (nbb_cells[i].input_prompt_number == nbb_cell_id) {\n",
       "                        if (nbb_cells[i].get_text() == nbb_unformatted_code) {\n",
       "                             nbb_cells[i].set_text(nbb_formatted_code);\n",
       "                        }\n",
       "                        break;\n",
       "                    }\n",
       "                }\n",
       "            }, 500);\n",
       "            "
      ],
      "text/plain": [
       "<IPython.core.display.Javascript object>"
      ]
     },
     "metadata": {},
     "output_type": "display_data"
    }
   ],
   "source": [
    "test.columns"
   ]
  },
  {
   "cell_type": "markdown",
   "id": "7ddc7560",
   "metadata": {},
   "source": [
    "#### Creating Pipeline with Best Parameters"
   ]
  },
  {
   "cell_type": "code",
   "execution_count": 502,
   "id": "a76643b8",
   "metadata": {},
   "outputs": [
    {
     "data": {
      "application/javascript": [
       "\n",
       "            setTimeout(function() {\n",
       "                var nbb_cell_id = 502;\n",
       "                var nbb_unformatted_code = \"testing = test.copy()\\ntesting = testing[predictor_cols]\\ntesting = pd.get_dummies(testing, drop_first=True)\\ntest.loc[45:55, :] = np.nan\";\n",
       "                var nbb_formatted_code = \"testing = test.copy()\\ntesting = testing[predictor_cols]\\ntesting = pd.get_dummies(testing, drop_first=True)\\ntest.loc[45:55, :] = np.nan\";\n",
       "                var nbb_cells = Jupyter.notebook.get_cells();\n",
       "                for (var i = 0; i < nbb_cells.length; ++i) {\n",
       "                    if (nbb_cells[i].input_prompt_number == nbb_cell_id) {\n",
       "                        if (nbb_cells[i].get_text() == nbb_unformatted_code) {\n",
       "                             nbb_cells[i].set_text(nbb_formatted_code);\n",
       "                        }\n",
       "                        break;\n",
       "                    }\n",
       "                }\n",
       "            }, 500);\n",
       "            "
      ],
      "text/plain": [
       "<IPython.core.display.Javascript object>"
      ]
     },
     "metadata": {},
     "output_type": "display_data"
    }
   ],
   "source": [
    "testing = test.copy()\n",
    "testing = testing[predictor_cols]\n",
    "testing = pd.get_dummies(testing, drop_first=True)\n",
    "test.loc[45:55, :] = np.nan"
   ]
  },
  {
   "cell_type": "markdown",
   "id": "d2ff1bad",
   "metadata": {},
   "source": [
    "#### Observations:\n",
    "- Since we already know the best mode, we no longer need to have the Train set divided into 2 parts (train and validation)."
   ]
  },
  {
   "cell_type": "code",
   "execution_count": 503,
   "id": "cd063452",
   "metadata": {},
   "outputs": [
    {
     "name": "stderr",
     "output_type": "stream",
     "text": [
      "C:\\Users\\Teres\\anaconda3\\lib\\site-packages\\sklearn\\base.py:493: FutureWarning: The feature names should match those that were passed during fit. Starting version 1.2, an error will be raised.\n",
      "Feature names must be in the same order as they were in fit.\n",
      "\n",
      "  warnings.warn(message, FutureWarning)\n"
     ]
    },
    {
     "data": {
      "application/javascript": [
       "\n",
       "            setTimeout(function() {\n",
       "                var nbb_cell_id = 503;\n",
       "                var nbb_unformatted_code = \"imp = IterativeImputer(max_iter=10, random_state=42)\\nimp.fit(X)\\n\\ntesting_imp_df = imp.transform(testing)\";\n",
       "                var nbb_formatted_code = \"imp = IterativeImputer(max_iter=10, random_state=42)\\nimp.fit(X)\\n\\ntesting_imp_df = imp.transform(testing)\";\n",
       "                var nbb_cells = Jupyter.notebook.get_cells();\n",
       "                for (var i = 0; i < nbb_cells.length; ++i) {\n",
       "                    if (nbb_cells[i].input_prompt_number == nbb_cell_id) {\n",
       "                        if (nbb_cells[i].get_text() == nbb_unformatted_code) {\n",
       "                             nbb_cells[i].set_text(nbb_formatted_code);\n",
       "                        }\n",
       "                        break;\n",
       "                    }\n",
       "                }\n",
       "            }, 500);\n",
       "            "
      ],
      "text/plain": [
       "<IPython.core.display.Javascript object>"
      ]
     },
     "metadata": {},
     "output_type": "display_data"
    }
   ],
   "source": [
    "imp = IterativeImputer(max_iter=x10, random_state=42)\n",
    "imp.fit(X)\n",
    "\n",
    "testing_imp_df = imp.transform(testing)"
   ]
  },
  {
   "cell_type": "markdown",
   "id": "a413f96f",
   "metadata": {},
   "source": [
    "#### Updating Train Set to Include Entire Train Set"
   ]
  },
  {
   "cell_type": "code",
   "execution_count": 504,
   "id": "024a7205",
   "metadata": {},
   "outputs": [
    {
     "data": {
      "text/html": [
       "<div>\n",
       "<style scoped>\n",
       "    .dataframe tbody tr th:only-of-type {\n",
       "        vertical-align: middle;\n",
       "    }\n",
       "\n",
       "    .dataframe tbody tr th {\n",
       "        vertical-align: top;\n",
       "    }\n",
       "\n",
       "    .dataframe thead th {\n",
       "        text-align: right;\n",
       "    }\n",
       "</style>\n",
       "<table border=\"1\" class=\"dataframe\">\n",
       "  <thead>\n",
       "    <tr style=\"text-align: right;\">\n",
       "      <th></th>\n",
       "      <th>num_references</th>\n",
       "      <th>sciences</th>\n",
       "      <th>social</th>\n",
       "      <th>spiritual</th>\n",
       "      <th>academia_humanities</th>\n",
       "      <th>business_farming</th>\n",
       "      <th>arts</th>\n",
       "      <th>sports</th>\n",
       "      <th>law_enf_military_operator</th>\n",
       "      <th>politics_govt_law</th>\n",
       "      <th>crime</th>\n",
       "      <th>num_categories</th>\n",
       "      <th>years</th>\n",
       "      <th>region_Asia</th>\n",
       "      <th>region_Central Asia</th>\n",
       "      <th>region_Europe</th>\n",
       "      <th>region_Mid-Cent America/Caribbean</th>\n",
       "      <th>region_Middle East</th>\n",
       "      <th>region_North America</th>\n",
       "      <th>region_Oceania</th>\n",
       "      <th>region_Russian Federation</th>\n",
       "      <th>region_South America</th>\n",
       "      <th>region_South East Asia</th>\n",
       "      <th>prior_region_Asia</th>\n",
       "      <th>prior_region_Central Asia</th>\n",
       "      <th>prior_region_Europe</th>\n",
       "      <th>prior_region_Mid-Cent America/Caribbean</th>\n",
       "      <th>prior_region_Middle East</th>\n",
       "      <th>prior_region_No Prior Region</th>\n",
       "      <th>prior_region_North America</th>\n",
       "      <th>prior_region_Oceania</th>\n",
       "      <th>prior_region_Russian Federation</th>\n",
       "      <th>prior_region_South America</th>\n",
       "      <th>prior_region_South East Asia</th>\n",
       "    </tr>\n",
       "  </thead>\n",
       "  <tbody>\n",
       "    <tr>\n",
       "      <th>45</th>\n",
       "      <td>NaN</td>\n",
       "      <td>NaN</td>\n",
       "      <td>NaN</td>\n",
       "      <td>NaN</td>\n",
       "      <td>NaN</td>\n",
       "      <td>NaN</td>\n",
       "      <td>NaN</td>\n",
       "      <td>NaN</td>\n",
       "      <td>NaN</td>\n",
       "      <td>NaN</td>\n",
       "      <td>NaN</td>\n",
       "      <td>NaN</td>\n",
       "      <td>NaN</td>\n",
       "      <td>0</td>\n",
       "      <td>0</td>\n",
       "      <td>0</td>\n",
       "      <td>0</td>\n",
       "      <td>0</td>\n",
       "      <td>0</td>\n",
       "      <td>0</td>\n",
       "      <td>0</td>\n",
       "      <td>0</td>\n",
       "      <td>0</td>\n",
       "      <td>0</td>\n",
       "      <td>0</td>\n",
       "      <td>0</td>\n",
       "      <td>0</td>\n",
       "      <td>0</td>\n",
       "      <td>0</td>\n",
       "      <td>0</td>\n",
       "      <td>0</td>\n",
       "      <td>0</td>\n",
       "      <td>0</td>\n",
       "      <td>0</td>\n",
       "    </tr>\n",
       "    <tr>\n",
       "      <th>46</th>\n",
       "      <td>NaN</td>\n",
       "      <td>NaN</td>\n",
       "      <td>NaN</td>\n",
       "      <td>NaN</td>\n",
       "      <td>NaN</td>\n",
       "      <td>NaN</td>\n",
       "      <td>NaN</td>\n",
       "      <td>NaN</td>\n",
       "      <td>NaN</td>\n",
       "      <td>NaN</td>\n",
       "      <td>NaN</td>\n",
       "      <td>NaN</td>\n",
       "      <td>NaN</td>\n",
       "      <td>0</td>\n",
       "      <td>0</td>\n",
       "      <td>0</td>\n",
       "      <td>0</td>\n",
       "      <td>0</td>\n",
       "      <td>0</td>\n",
       "      <td>0</td>\n",
       "      <td>0</td>\n",
       "      <td>0</td>\n",
       "      <td>0</td>\n",
       "      <td>0</td>\n",
       "      <td>0</td>\n",
       "      <td>0</td>\n",
       "      <td>0</td>\n",
       "      <td>0</td>\n",
       "      <td>0</td>\n",
       "      <td>0</td>\n",
       "      <td>0</td>\n",
       "      <td>0</td>\n",
       "      <td>0</td>\n",
       "      <td>0</td>\n",
       "    </tr>\n",
       "    <tr>\n",
       "      <th>47</th>\n",
       "      <td>NaN</td>\n",
       "      <td>NaN</td>\n",
       "      <td>NaN</td>\n",
       "      <td>NaN</td>\n",
       "      <td>NaN</td>\n",
       "      <td>NaN</td>\n",
       "      <td>NaN</td>\n",
       "      <td>NaN</td>\n",
       "      <td>NaN</td>\n",
       "      <td>NaN</td>\n",
       "      <td>NaN</td>\n",
       "      <td>NaN</td>\n",
       "      <td>NaN</td>\n",
       "      <td>0</td>\n",
       "      <td>0</td>\n",
       "      <td>0</td>\n",
       "      <td>0</td>\n",
       "      <td>0</td>\n",
       "      <td>0</td>\n",
       "      <td>0</td>\n",
       "      <td>0</td>\n",
       "      <td>0</td>\n",
       "      <td>0</td>\n",
       "      <td>0</td>\n",
       "      <td>0</td>\n",
       "      <td>0</td>\n",
       "      <td>0</td>\n",
       "      <td>0</td>\n",
       "      <td>0</td>\n",
       "      <td>0</td>\n",
       "      <td>0</td>\n",
       "      <td>0</td>\n",
       "      <td>0</td>\n",
       "      <td>0</td>\n",
       "    </tr>\n",
       "    <tr>\n",
       "      <th>48</th>\n",
       "      <td>NaN</td>\n",
       "      <td>NaN</td>\n",
       "      <td>NaN</td>\n",
       "      <td>NaN</td>\n",
       "      <td>NaN</td>\n",
       "      <td>NaN</td>\n",
       "      <td>NaN</td>\n",
       "      <td>NaN</td>\n",
       "      <td>NaN</td>\n",
       "      <td>NaN</td>\n",
       "      <td>NaN</td>\n",
       "      <td>NaN</td>\n",
       "      <td>NaN</td>\n",
       "      <td>0</td>\n",
       "      <td>0</td>\n",
       "      <td>0</td>\n",
       "      <td>0</td>\n",
       "      <td>0</td>\n",
       "      <td>0</td>\n",
       "      <td>0</td>\n",
       "      <td>0</td>\n",
       "      <td>0</td>\n",
       "      <td>0</td>\n",
       "      <td>0</td>\n",
       "      <td>0</td>\n",
       "      <td>0</td>\n",
       "      <td>0</td>\n",
       "      <td>0</td>\n",
       "      <td>0</td>\n",
       "      <td>0</td>\n",
       "      <td>0</td>\n",
       "      <td>0</td>\n",
       "      <td>0</td>\n",
       "      <td>0</td>\n",
       "    </tr>\n",
       "    <tr>\n",
       "      <th>49</th>\n",
       "      <td>NaN</td>\n",
       "      <td>NaN</td>\n",
       "      <td>NaN</td>\n",
       "      <td>NaN</td>\n",
       "      <td>NaN</td>\n",
       "      <td>NaN</td>\n",
       "      <td>NaN</td>\n",
       "      <td>NaN</td>\n",
       "      <td>NaN</td>\n",
       "      <td>NaN</td>\n",
       "      <td>NaN</td>\n",
       "      <td>NaN</td>\n",
       "      <td>NaN</td>\n",
       "      <td>0</td>\n",
       "      <td>0</td>\n",
       "      <td>0</td>\n",
       "      <td>0</td>\n",
       "      <td>0</td>\n",
       "      <td>0</td>\n",
       "      <td>0</td>\n",
       "      <td>0</td>\n",
       "      <td>0</td>\n",
       "      <td>0</td>\n",
       "      <td>0</td>\n",
       "      <td>0</td>\n",
       "      <td>0</td>\n",
       "      <td>0</td>\n",
       "      <td>0</td>\n",
       "      <td>0</td>\n",
       "      <td>0</td>\n",
       "      <td>0</td>\n",
       "      <td>0</td>\n",
       "      <td>0</td>\n",
       "      <td>0</td>\n",
       "    </tr>\n",
       "    <tr>\n",
       "      <th>50</th>\n",
       "      <td>NaN</td>\n",
       "      <td>NaN</td>\n",
       "      <td>NaN</td>\n",
       "      <td>NaN</td>\n",
       "      <td>NaN</td>\n",
       "      <td>NaN</td>\n",
       "      <td>NaN</td>\n",
       "      <td>NaN</td>\n",
       "      <td>NaN</td>\n",
       "      <td>NaN</td>\n",
       "      <td>NaN</td>\n",
       "      <td>NaN</td>\n",
       "      <td>NaN</td>\n",
       "      <td>0</td>\n",
       "      <td>0</td>\n",
       "      <td>0</td>\n",
       "      <td>0</td>\n",
       "      <td>0</td>\n",
       "      <td>0</td>\n",
       "      <td>0</td>\n",
       "      <td>0</td>\n",
       "      <td>0</td>\n",
       "      <td>0</td>\n",
       "      <td>0</td>\n",
       "      <td>0</td>\n",
       "      <td>0</td>\n",
       "      <td>0</td>\n",
       "      <td>0</td>\n",
       "      <td>0</td>\n",
       "      <td>0</td>\n",
       "      <td>0</td>\n",
       "      <td>0</td>\n",
       "      <td>0</td>\n",
       "      <td>0</td>\n",
       "    </tr>\n",
       "    <tr>\n",
       "      <th>51</th>\n",
       "      <td>NaN</td>\n",
       "      <td>NaN</td>\n",
       "      <td>NaN</td>\n",
       "      <td>NaN</td>\n",
       "      <td>NaN</td>\n",
       "      <td>NaN</td>\n",
       "      <td>NaN</td>\n",
       "      <td>NaN</td>\n",
       "      <td>NaN</td>\n",
       "      <td>NaN</td>\n",
       "      <td>NaN</td>\n",
       "      <td>NaN</td>\n",
       "      <td>NaN</td>\n",
       "      <td>0</td>\n",
       "      <td>0</td>\n",
       "      <td>0</td>\n",
       "      <td>0</td>\n",
       "      <td>0</td>\n",
       "      <td>0</td>\n",
       "      <td>0</td>\n",
       "      <td>0</td>\n",
       "      <td>0</td>\n",
       "      <td>0</td>\n",
       "      <td>0</td>\n",
       "      <td>0</td>\n",
       "      <td>0</td>\n",
       "      <td>0</td>\n",
       "      <td>0</td>\n",
       "      <td>0</td>\n",
       "      <td>0</td>\n",
       "      <td>0</td>\n",
       "      <td>0</td>\n",
       "      <td>0</td>\n",
       "      <td>0</td>\n",
       "    </tr>\n",
       "    <tr>\n",
       "      <th>52</th>\n",
       "      <td>NaN</td>\n",
       "      <td>NaN</td>\n",
       "      <td>NaN</td>\n",
       "      <td>NaN</td>\n",
       "      <td>NaN</td>\n",
       "      <td>NaN</td>\n",
       "      <td>NaN</td>\n",
       "      <td>NaN</td>\n",
       "      <td>NaN</td>\n",
       "      <td>NaN</td>\n",
       "      <td>NaN</td>\n",
       "      <td>NaN</td>\n",
       "      <td>NaN</td>\n",
       "      <td>0</td>\n",
       "      <td>0</td>\n",
       "      <td>0</td>\n",
       "      <td>0</td>\n",
       "      <td>0</td>\n",
       "      <td>0</td>\n",
       "      <td>0</td>\n",
       "      <td>0</td>\n",
       "      <td>0</td>\n",
       "      <td>0</td>\n",
       "      <td>0</td>\n",
       "      <td>0</td>\n",
       "      <td>0</td>\n",
       "      <td>0</td>\n",
       "      <td>0</td>\n",
       "      <td>0</td>\n",
       "      <td>0</td>\n",
       "      <td>0</td>\n",
       "      <td>0</td>\n",
       "      <td>0</td>\n",
       "      <td>0</td>\n",
       "    </tr>\n",
       "    <tr>\n",
       "      <th>53</th>\n",
       "      <td>NaN</td>\n",
       "      <td>NaN</td>\n",
       "      <td>NaN</td>\n",
       "      <td>NaN</td>\n",
       "      <td>NaN</td>\n",
       "      <td>NaN</td>\n",
       "      <td>NaN</td>\n",
       "      <td>NaN</td>\n",
       "      <td>NaN</td>\n",
       "      <td>NaN</td>\n",
       "      <td>NaN</td>\n",
       "      <td>NaN</td>\n",
       "      <td>NaN</td>\n",
       "      <td>0</td>\n",
       "      <td>0</td>\n",
       "      <td>0</td>\n",
       "      <td>0</td>\n",
       "      <td>0</td>\n",
       "      <td>0</td>\n",
       "      <td>0</td>\n",
       "      <td>0</td>\n",
       "      <td>0</td>\n",
       "      <td>0</td>\n",
       "      <td>0</td>\n",
       "      <td>0</td>\n",
       "      <td>0</td>\n",
       "      <td>0</td>\n",
       "      <td>0</td>\n",
       "      <td>0</td>\n",
       "      <td>0</td>\n",
       "      <td>0</td>\n",
       "      <td>0</td>\n",
       "      <td>0</td>\n",
       "      <td>0</td>\n",
       "    </tr>\n",
       "    <tr>\n",
       "      <th>54</th>\n",
       "      <td>NaN</td>\n",
       "      <td>NaN</td>\n",
       "      <td>NaN</td>\n",
       "      <td>NaN</td>\n",
       "      <td>NaN</td>\n",
       "      <td>NaN</td>\n",
       "      <td>NaN</td>\n",
       "      <td>NaN</td>\n",
       "      <td>NaN</td>\n",
       "      <td>NaN</td>\n",
       "      <td>NaN</td>\n",
       "      <td>NaN</td>\n",
       "      <td>NaN</td>\n",
       "      <td>0</td>\n",
       "      <td>0</td>\n",
       "      <td>0</td>\n",
       "      <td>0</td>\n",
       "      <td>0</td>\n",
       "      <td>0</td>\n",
       "      <td>0</td>\n",
       "      <td>0</td>\n",
       "      <td>0</td>\n",
       "      <td>0</td>\n",
       "      <td>0</td>\n",
       "      <td>0</td>\n",
       "      <td>0</td>\n",
       "      <td>0</td>\n",
       "      <td>0</td>\n",
       "      <td>0</td>\n",
       "      <td>0</td>\n",
       "      <td>0</td>\n",
       "      <td>0</td>\n",
       "      <td>0</td>\n",
       "      <td>0</td>\n",
       "    </tr>\n",
       "    <tr>\n",
       "      <th>55</th>\n",
       "      <td>NaN</td>\n",
       "      <td>NaN</td>\n",
       "      <td>NaN</td>\n",
       "      <td>NaN</td>\n",
       "      <td>NaN</td>\n",
       "      <td>NaN</td>\n",
       "      <td>NaN</td>\n",
       "      <td>NaN</td>\n",
       "      <td>NaN</td>\n",
       "      <td>NaN</td>\n",
       "      <td>NaN</td>\n",
       "      <td>NaN</td>\n",
       "      <td>NaN</td>\n",
       "      <td>0</td>\n",
       "      <td>0</td>\n",
       "      <td>0</td>\n",
       "      <td>0</td>\n",
       "      <td>0</td>\n",
       "      <td>0</td>\n",
       "      <td>0</td>\n",
       "      <td>0</td>\n",
       "      <td>0</td>\n",
       "      <td>0</td>\n",
       "      <td>0</td>\n",
       "      <td>0</td>\n",
       "      <td>0</td>\n",
       "      <td>0</td>\n",
       "      <td>0</td>\n",
       "      <td>0</td>\n",
       "      <td>0</td>\n",
       "      <td>0</td>\n",
       "      <td>0</td>\n",
       "      <td>0</td>\n",
       "      <td>0</td>\n",
       "    </tr>\n",
       "  </tbody>\n",
       "</table>\n",
       "</div>"
      ],
      "text/plain": [
       "    num_references  sciences  social  spiritual  academia_humanities  \\\n",
       "45             NaN       NaN     NaN        NaN                  NaN   \n",
       "46             NaN       NaN     NaN        NaN                  NaN   \n",
       "47             NaN       NaN     NaN        NaN                  NaN   \n",
       "48             NaN       NaN     NaN        NaN                  NaN   \n",
       "49             NaN       NaN     NaN        NaN                  NaN   \n",
       "50             NaN       NaN     NaN        NaN                  NaN   \n",
       "51             NaN       NaN     NaN        NaN                  NaN   \n",
       "52             NaN       NaN     NaN        NaN                  NaN   \n",
       "53             NaN       NaN     NaN        NaN                  NaN   \n",
       "54             NaN       NaN     NaN        NaN                  NaN   \n",
       "55             NaN       NaN     NaN        NaN                  NaN   \n",
       "\n",
       "    business_farming  arts  sports  law_enf_military_operator  \\\n",
       "45               NaN   NaN     NaN                        NaN   \n",
       "46               NaN   NaN     NaN                        NaN   \n",
       "47               NaN   NaN     NaN                        NaN   \n",
       "48               NaN   NaN     NaN                        NaN   \n",
       "49               NaN   NaN     NaN                        NaN   \n",
       "50               NaN   NaN     NaN                        NaN   \n",
       "51               NaN   NaN     NaN                        NaN   \n",
       "52               NaN   NaN     NaN                        NaN   \n",
       "53               NaN   NaN     NaN                        NaN   \n",
       "54               NaN   NaN     NaN                        NaN   \n",
       "55               NaN   NaN     NaN                        NaN   \n",
       "\n",
       "    politics_govt_law  crime  num_categories  years  region_Asia  \\\n",
       "45                NaN    NaN             NaN    NaN            0   \n",
       "46                NaN    NaN             NaN    NaN            0   \n",
       "47                NaN    NaN             NaN    NaN            0   \n",
       "48                NaN    NaN             NaN    NaN            0   \n",
       "49                NaN    NaN             NaN    NaN            0   \n",
       "50                NaN    NaN             NaN    NaN            0   \n",
       "51                NaN    NaN             NaN    NaN            0   \n",
       "52                NaN    NaN             NaN    NaN            0   \n",
       "53                NaN    NaN             NaN    NaN            0   \n",
       "54                NaN    NaN             NaN    NaN            0   \n",
       "55                NaN    NaN             NaN    NaN            0   \n",
       "\n",
       "    region_Central Asia  region_Europe  region_Mid-Cent America/Caribbean  \\\n",
       "45                    0              0                                  0   \n",
       "46                    0              0                                  0   \n",
       "47                    0              0                                  0   \n",
       "48                    0              0                                  0   \n",
       "49                    0              0                                  0   \n",
       "50                    0              0                                  0   \n",
       "51                    0              0                                  0   \n",
       "52                    0              0                                  0   \n",
       "53                    0              0                                  0   \n",
       "54                    0              0                                  0   \n",
       "55                    0              0                                  0   \n",
       "\n",
       "    region_Middle East  region_North America  region_Oceania  \\\n",
       "45                   0                     0               0   \n",
       "46                   0                     0               0   \n",
       "47                   0                     0               0   \n",
       "48                   0                     0               0   \n",
       "49                   0                     0               0   \n",
       "50                   0                     0               0   \n",
       "51                   0                     0               0   \n",
       "52                   0                     0               0   \n",
       "53                   0                     0               0   \n",
       "54                   0                     0               0   \n",
       "55                   0                     0               0   \n",
       "\n",
       "    region_Russian Federation  region_South America  region_South East Asia  \\\n",
       "45                          0                     0                       0   \n",
       "46                          0                     0                       0   \n",
       "47                          0                     0                       0   \n",
       "48                          0                     0                       0   \n",
       "49                          0                     0                       0   \n",
       "50                          0                     0                       0   \n",
       "51                          0                     0                       0   \n",
       "52                          0                     0                       0   \n",
       "53                          0                     0                       0   \n",
       "54                          0                     0                       0   \n",
       "55                          0                     0                       0   \n",
       "\n",
       "    prior_region_Asia  prior_region_Central Asia  prior_region_Europe  \\\n",
       "45                  0                          0                    0   \n",
       "46                  0                          0                    0   \n",
       "47                  0                          0                    0   \n",
       "48                  0                          0                    0   \n",
       "49                  0                          0                    0   \n",
       "50                  0                          0                    0   \n",
       "51                  0                          0                    0   \n",
       "52                  0                          0                    0   \n",
       "53                  0                          0                    0   \n",
       "54                  0                          0                    0   \n",
       "55                  0                          0                    0   \n",
       "\n",
       "    prior_region_Mid-Cent America/Caribbean  prior_region_Middle East  \\\n",
       "45                                        0                         0   \n",
       "46                                        0                         0   \n",
       "47                                        0                         0   \n",
       "48                                        0                         0   \n",
       "49                                        0                         0   \n",
       "50                                        0                         0   \n",
       "51                                        0                         0   \n",
       "52                                        0                         0   \n",
       "53                                        0                         0   \n",
       "54                                        0                         0   \n",
       "55                                        0                         0   \n",
       "\n",
       "    prior_region_No Prior Region  prior_region_North America  \\\n",
       "45                             0                           0   \n",
       "46                             0                           0   \n",
       "47                             0                           0   \n",
       "48                             0                           0   \n",
       "49                             0                           0   \n",
       "50                             0                           0   \n",
       "51                             0                           0   \n",
       "52                             0                           0   \n",
       "53                             0                           0   \n",
       "54                             0                           0   \n",
       "55                             0                           0   \n",
       "\n",
       "    prior_region_Oceania  prior_region_Russian Federation  \\\n",
       "45                     0                                0   \n",
       "46                     0                                0   \n",
       "47                     0                                0   \n",
       "48                     0                                0   \n",
       "49                     0                                0   \n",
       "50                     0                                0   \n",
       "51                     0                                0   \n",
       "52                     0                                0   \n",
       "53                     0                                0   \n",
       "54                     0                                0   \n",
       "55                     0                                0   \n",
       "\n",
       "    prior_region_South America  prior_region_South East Asia  \n",
       "45                           0                             0  \n",
       "46                           0                             0  \n",
       "47                           0                             0  \n",
       "48                           0                             0  \n",
       "49                           0                             0  \n",
       "50                           0                             0  \n",
       "51                           0                             0  \n",
       "52                           0                             0  \n",
       "53                           0                             0  \n",
       "54                           0                             0  \n",
       "55                           0                             0  "
      ]
     },
     "execution_count": 504,
     "metadata": {},
     "output_type": "execute_result"
    },
    {
     "data": {
      "application/javascript": [
       "\n",
       "            setTimeout(function() {\n",
       "                var nbb_cell_id = 504;\n",
       "                var nbb_unformatted_code = \"testing.loc[45:55, :]\";\n",
       "                var nbb_formatted_code = \"testing.loc[45:55, :]\";\n",
       "                var nbb_cells = Jupyter.notebook.get_cells();\n",
       "                for (var i = 0; i < nbb_cells.length; ++i) {\n",
       "                    if (nbb_cells[i].input_prompt_number == nbb_cell_id) {\n",
       "                        if (nbb_cells[i].get_text() == nbb_unformatted_code) {\n",
       "                             nbb_cells[i].set_text(nbb_formatted_code);\n",
       "                        }\n",
       "                        break;\n",
       "                    }\n",
       "                }\n",
       "            }, 500);\n",
       "            "
      ],
      "text/plain": [
       "<IPython.core.display.Javascript object>"
      ]
     },
     "metadata": {},
     "output_type": "display_data"
    }
   ],
   "source": [
    "testing.loc[45:55, :]"
   ]
  },
  {
   "cell_type": "code",
   "execution_count": 408,
   "id": "9a33471f",
   "metadata": {},
   "outputs": [
    {
     "name": "stdout",
     "output_type": "stream",
     "text": [
      "(77624, 34) (19420, 34)\n"
     ]
    },
    {
     "data": {
      "application/javascript": [
       "\n",
       "            setTimeout(function() {\n",
       "                var nbb_cell_id = 408;\n",
       "                var nbb_unformatted_code = \"# Using the full Train dataset as the training set for the pipeline\\nX_train, y_train = X, y\\n\\n# One hot \\n\\nprint(X_train.shape, X_test.shape)\";\n",
       "                var nbb_formatted_code = \"# Using the full Train dataset as the training set for the pipeline\\nX_train, y_train = X, y\\n\\n# One hot\\n\\nprint(X_train.shape, X_test.shape)\";\n",
       "                var nbb_cells = Jupyter.notebook.get_cells();\n",
       "                for (var i = 0; i < nbb_cells.length; ++i) {\n",
       "                    if (nbb_cells[i].input_prompt_number == nbb_cell_id) {\n",
       "                        if (nbb_cells[i].get_text() == nbb_unformatted_code) {\n",
       "                             nbb_cells[i].set_text(nbb_formatted_code);\n",
       "                        }\n",
       "                        break;\n",
       "                    }\n",
       "                }\n",
       "            }, 500);\n",
       "            "
      ],
      "text/plain": [
       "<IPython.core.display.Javascript object>"
      ]
     },
     "metadata": {},
     "output_type": "display_data"
    }
   ],
   "source": [
    "# Using the full Train dataset as the training set for the pipeline\n",
    "X_train, y_train = X, y\n",
    "\n",
    "print(X_train.shape, X_test.shape)"
   ]
  },
  {
   "cell_type": "code",
   "execution_count": 410,
   "id": "997b0c96",
   "metadata": {},
   "outputs": [
    {
     "name": "stdout",
     "output_type": "stream",
     "text": [
      "<class 'pandas.core.frame.DataFrame'>\n",
      "RangeIndex: 77624 entries, 0 to 77623\n",
      "Data columns (total 34 columns):\n",
      " #   Column                                   Non-Null Count  Dtype  \n",
      "---  ------                                   --------------  -----  \n",
      " 0   num_references                           77624 non-null  float64\n",
      " 1   years                                    77624 non-null  float64\n",
      " 2   sciences                                 77624 non-null  float64\n",
      " 3   social                                   77624 non-null  float64\n",
      " 4   spiritual                                77624 non-null  float64\n",
      " 5   academia_humanities                      77624 non-null  float64\n",
      " 6   business_farming                         77624 non-null  float64\n",
      " 7   arts                                     77624 non-null  float64\n",
      " 8   sports                                   77624 non-null  float64\n",
      " 9   law_enf_military_operator                77624 non-null  float64\n",
      " 10  politics_govt_law                        77624 non-null  float64\n",
      " 11  crime                                    77624 non-null  float64\n",
      " 12  num_categories                           77624 non-null  float64\n",
      " 13  region_Asia                              77624 non-null  float64\n",
      " 14  region_Central Asia                      77624 non-null  float64\n",
      " 15  region_Europe                            77624 non-null  float64\n",
      " 16  region_Mid-Cent America/Caribbean        77624 non-null  float64\n",
      " 17  region_Middle East                       77624 non-null  float64\n",
      " 18  region_North America                     77624 non-null  float64\n",
      " 19  region_Oceania                           77624 non-null  float64\n",
      " 20  region_Russian Federation                77624 non-null  float64\n",
      " 21  region_South America                     77624 non-null  float64\n",
      " 22  region_South East Asia                   77624 non-null  float64\n",
      " 23  prior_region_Asia                        77624 non-null  float64\n",
      " 24  prior_region_Central Asia                77624 non-null  float64\n",
      " 25  prior_region_Europe                      77624 non-null  float64\n",
      " 26  prior_region_Mid-Cent America/Caribbean  77624 non-null  float64\n",
      " 27  prior_region_Middle East                 77624 non-null  float64\n",
      " 28  prior_region_No Prior Region             77624 non-null  float64\n",
      " 29  prior_region_North America               77624 non-null  float64\n",
      " 30  prior_region_Oceania                     77624 non-null  float64\n",
      " 31  prior_region_Russian Federation          77624 non-null  float64\n",
      " 32  prior_region_South America               77624 non-null  float64\n",
      " 33  prior_region_South East Asia             77624 non-null  float64\n",
      "dtypes: float64(34)\n",
      "memory usage: 20.1 MB\n"
     ]
    },
    {
     "data": {
      "application/javascript": [
       "\n",
       "            setTimeout(function() {\n",
       "                var nbb_cell_id = 410;\n",
       "                var nbb_unformatted_code = \"X_train.info()\";\n",
       "                var nbb_formatted_code = \"X_train.info()\";\n",
       "                var nbb_cells = Jupyter.notebook.get_cells();\n",
       "                for (var i = 0; i < nbb_cells.length; ++i) {\n",
       "                    if (nbb_cells[i].input_prompt_number == nbb_cell_id) {\n",
       "                        if (nbb_cells[i].get_text() == nbb_unformatted_code) {\n",
       "                             nbb_cells[i].set_text(nbb_formatted_code);\n",
       "                        }\n",
       "                        break;\n",
       "                    }\n",
       "                }\n",
       "            }, 500);\n",
       "            "
      ],
      "text/plain": [
       "<IPython.core.display.Javascript object>"
      ]
     },
     "metadata": {},
     "output_type": "display_data"
    }
   ],
   "source": [
    "X_train.info()"
   ]
  },
  {
   "cell_type": "markdown",
   "id": "dd99afc5",
   "metadata": {},
   "source": [
    "#### Verifying No Missing Values in Train Set"
   ]
  },
  {
   "cell_type": "code",
   "execution_count": 488,
   "id": "1c9f0614",
   "metadata": {},
   "outputs": [
    {
     "data": {
      "application/javascript": [
       "\n",
       "            setTimeout(function() {\n",
       "                var nbb_cell_id = 488;\n",
       "                var nbb_unformatted_code = \"# # Creating pipeline with best parameters\\n# model = Pipeline(\\n#     steps=[\\n#         (\\\"pre\\\", preprocessor),\\n#         (\\n#             \\\"GBM2 Tuned\\\",\\n#             GradientBoostingRegressor(\\n#                 random_state=42,\\n#                 learning_rate=0.08171272700715591,\\n#                 max_features=0.6630456668613307,\\n#                 n_estimators=368,\\n#                 subsample=0.7847684335570795,\\n#             ),\\n#         ),\\n#     ]\\n# )\\n\\n# Define X_train and y_train using entire Train dataseet\\npredictor_cols = [\\n    \\\"num_references\\\",\\n    \\\"sciences\\\",\\n    \\\"social\\\",\\n    \\\"spiritual\\\",\\n    \\\"academia_humanities\\\",\\n    \\\"business_farming\\\",\\n    \\\"arts\\\",\\n    \\\"sports\\\",\\n    \\\"law_enf_military_operator\\\",\\n    \\\"politics_govt_law\\\",\\n    \\\"crime\\\",\\n    \\\"num_categories\\\",\\n    \\\"years\\\",\\n    \\\"region\\\",\\n    \\\"prior_region\\\",\\n]\\n\\ntarget = \\\"age\\\"\\n\\nX_train = df[predictor_cols]\\ny_train = df[\\\"age\\\"]\\n\\n# One hot encoding\\nX_train = pd.get_dummies(X_train, drop_first=True)\\n\\n# # Fit the model on Train data\\n# model.fit_transform(X_train, y_train)\";\n",
       "                var nbb_formatted_code = \"# # Creating pipeline with best parameters\\n# model = Pipeline(\\n#     steps=[\\n#         (\\\"pre\\\", preprocessor),\\n#         (\\n#             \\\"GBM2 Tuned\\\",\\n#             GradientBoostingRegressor(\\n#                 random_state=42,\\n#                 learning_rate=0.08171272700715591,\\n#                 max_features=0.6630456668613307,\\n#                 n_estimators=368,\\n#                 subsample=0.7847684335570795,\\n#             ),\\n#         ),\\n#     ]\\n# )\\n\\n# Define X_train and y_train using entire Train dataseet\\npredictor_cols = [\\n    \\\"num_references\\\",\\n    \\\"sciences\\\",\\n    \\\"social\\\",\\n    \\\"spiritual\\\",\\n    \\\"academia_humanities\\\",\\n    \\\"business_farming\\\",\\n    \\\"arts\\\",\\n    \\\"sports\\\",\\n    \\\"law_enf_military_operator\\\",\\n    \\\"politics_govt_law\\\",\\n    \\\"crime\\\",\\n    \\\"num_categories\\\",\\n    \\\"years\\\",\\n    \\\"region\\\",\\n    \\\"prior_region\\\",\\n]\\n\\ntarget = \\\"age\\\"\\n\\nX_train = df[predictor_cols]\\ny_train = df[\\\"age\\\"]\\n\\n# One hot encoding\\nX_train = pd.get_dummies(X_train, drop_first=True)\\n\\n# # Fit the model on Train data\\n# model.fit_transform(X_train, y_train)\";\n",
       "                var nbb_cells = Jupyter.notebook.get_cells();\n",
       "                for (var i = 0; i < nbb_cells.length; ++i) {\n",
       "                    if (nbb_cells[i].input_prompt_number == nbb_cell_id) {\n",
       "                        if (nbb_cells[i].get_text() == nbb_unformatted_code) {\n",
       "                             nbb_cells[i].set_text(nbb_formatted_code);\n",
       "                        }\n",
       "                        break;\n",
       "                    }\n",
       "                }\n",
       "            }, 500);\n",
       "            "
      ],
      "text/plain": [
       "<IPython.core.display.Javascript object>"
      ]
     },
     "metadata": {},
     "output_type": "display_data"
    }
   ],
   "source": [
    "# # Creating pipeline with best parameters\n",
    "# model = Pipeline(\n",
    "#     steps=[\n",
    "#         (\"pre\", preprocessor),\n",
    "#         (\n",
    "#             \"GBM2 Tuned\",\n",
    "#             GradientBoostingRegressor(\n",
    "#                 random_state=42,\n",
    "#                 learning_rate=0.08171272700715591,\n",
    "#                 max_features=0.6630456668613307,\n",
    "#                 n_estimators=368,\n",
    "#                 subsample=0.7847684335570795,\n",
    "#             ),\n",
    "#         ),\n",
    "#     ]\n",
    "# )\n",
    "\n",
    "# Define X_train and y_train using entire Train dataseet\n",
    "predictor_cols = [\n",
    "    \"num_references\",\n",
    "    \"sciences\",\n",
    "    \"social\",\n",
    "    \"spiritual\",\n",
    "    \"academia_humanities\",\n",
    "    \"business_farming\",\n",
    "    \"arts\",\n",
    "    \"sports\",\n",
    "    \"law_enf_military_operator\",\n",
    "    \"politics_govt_law\",\n",
    "    \"crime\",\n",
    "    \"num_categories\",\n",
    "    \"years\",\n",
    "    \"region\",\n",
    "    \"prior_region\",\n",
    "]\n",
    "\n",
    "target = \"age\"\n",
    "\n",
    "X_train = df[predictor_cols]\n",
    "y_train = df[\"age\"]\n",
    "\n",
    "# One hot encoding\n",
    "X_train = pd.get_dummies(X_train, drop_first=True)\n",
    "\n",
    "# # Fit the model on Train data\n",
    "# model.fit_transform(X_train, y_train)"
   ]
  },
  {
   "cell_type": "code",
   "execution_count": 470,
   "id": "207e6b4d",
   "metadata": {},
   "outputs": [
    {
     "data": {
      "text/plain": [
       "Index(['num_references', 'age', 'sciences', 'social', 'spiritual',\n",
       "       'academia_humanities', 'business_farming', 'arts', 'sports',\n",
       "       'law_enf_military_operator', 'politics_govt_law', 'crime',\n",
       "       'num_categories', 'age_sqrd', 'recip_num_references', 'years',\n",
       "       'years_sqrd', 'region', 'prior_region', 'known_for'],\n",
       "      dtype='object')"
      ]
     },
     "execution_count": 470,
     "metadata": {},
     "output_type": "execute_result"
    },
    {
     "data": {
      "application/javascript": [
       "\n",
       "            setTimeout(function() {\n",
       "                var nbb_cell_id = 470;\n",
       "                var nbb_unformatted_code = \"df.columns\";\n",
       "                var nbb_formatted_code = \"df.columns\";\n",
       "                var nbb_cells = Jupyter.notebook.get_cells();\n",
       "                for (var i = 0; i < nbb_cells.length; ++i) {\n",
       "                    if (nbb_cells[i].input_prompt_number == nbb_cell_id) {\n",
       "                        if (nbb_cells[i].get_text() == nbb_unformatted_code) {\n",
       "                             nbb_cells[i].set_text(nbb_formatted_code);\n",
       "                        }\n",
       "                        break;\n",
       "                    }\n",
       "                }\n",
       "            }, 500);\n",
       "            "
      ],
      "text/plain": [
       "<IPython.core.display.Javascript object>"
      ]
     },
     "metadata": {},
     "output_type": "display_data"
    }
   ],
   "source": [
    "df.columns"
   ]
  },
  {
   "cell_type": "code",
   "execution_count": 406,
   "id": "3a37ae06",
   "metadata": {},
   "outputs": [
    {
     "data": {
      "text/plain": [
       "0"
      ]
     },
     "execution_count": 406,
     "metadata": {},
     "output_type": "execute_result"
    },
    {
     "data": {
      "application/javascript": [
       "\n",
       "            setTimeout(function() {\n",
       "                var nbb_cell_id = 406;\n",
       "                var nbb_unformatted_code = \"# Verifying X_train has no missing values\\nX_train.isna().sum().sum()\";\n",
       "                var nbb_formatted_code = \"# Verifying X_train has no missing values\\nX_train.isna().sum().sum()\";\n",
       "                var nbb_cells = Jupyter.notebook.get_cells();\n",
       "                for (var i = 0; i < nbb_cells.length; ++i) {\n",
       "                    if (nbb_cells[i].input_prompt_number == nbb_cell_id) {\n",
       "                        if (nbb_cells[i].get_text() == nbb_unformatted_code) {\n",
       "                             nbb_cells[i].set_text(nbb_formatted_code);\n",
       "                        }\n",
       "                        break;\n",
       "                    }\n",
       "                }\n",
       "            }, 500);\n",
       "            "
      ],
      "text/plain": [
       "<IPython.core.display.Javascript object>"
      ]
     },
     "metadata": {},
     "output_type": "display_data"
    }
   ],
   "source": [
    "# Verifying X_train has no missing values\n",
    "X_train.isna().sum().sum()"
   ]
  },
  {
   "cell_type": "markdown",
   "id": "04b7b67e",
   "metadata": {},
   "source": [
    "#### Creating Pipeline with Best Parameters"
   ]
  },
  {
   "cell_type": "code",
   "execution_count": 407,
   "id": "1d693fdc",
   "metadata": {},
   "outputs": [
    {
     "ename": "ValueError",
     "evalue": "A given column is not a column of the dataframe",
     "output_type": "error",
     "traceback": [
      "\u001b[1;31m---------------------------------------------------------------------------\u001b[0m",
      "\u001b[1;31mKeyError\u001b[0m                                  Traceback (most recent call last)",
      "File \u001b[1;32m~\\anaconda3\\lib\\site-packages\\pandas\\core\\indexes\\base.py:3621\u001b[0m, in \u001b[0;36mIndex.get_loc\u001b[1;34m(self, key, method, tolerance)\u001b[0m\n\u001b[0;32m   3620\u001b[0m \u001b[38;5;28;01mtry\u001b[39;00m:\n\u001b[1;32m-> 3621\u001b[0m     \u001b[38;5;28;01mreturn\u001b[39;00m \u001b[38;5;28;43mself\u001b[39;49m\u001b[38;5;241;43m.\u001b[39;49m\u001b[43m_engine\u001b[49m\u001b[38;5;241;43m.\u001b[39;49m\u001b[43mget_loc\u001b[49m\u001b[43m(\u001b[49m\u001b[43mcasted_key\u001b[49m\u001b[43m)\u001b[49m\n\u001b[0;32m   3622\u001b[0m \u001b[38;5;28;01mexcept\u001b[39;00m \u001b[38;5;167;01mKeyError\u001b[39;00m \u001b[38;5;28;01mas\u001b[39;00m err:\n",
      "File \u001b[1;32m~\\anaconda3\\lib\\site-packages\\pandas\\_libs\\index.pyx:136\u001b[0m, in \u001b[0;36mpandas._libs.index.IndexEngine.get_loc\u001b[1;34m()\u001b[0m\n",
      "File \u001b[1;32m~\\anaconda3\\lib\\site-packages\\pandas\\_libs\\index.pyx:163\u001b[0m, in \u001b[0;36mpandas._libs.index.IndexEngine.get_loc\u001b[1;34m()\u001b[0m\n",
      "File \u001b[1;32mpandas\\_libs\\hashtable_class_helper.pxi:5198\u001b[0m, in \u001b[0;36mpandas._libs.hashtable.PyObjectHashTable.get_item\u001b[1;34m()\u001b[0m\n",
      "File \u001b[1;32mpandas\\_libs\\hashtable_class_helper.pxi:5206\u001b[0m, in \u001b[0;36mpandas._libs.hashtable.PyObjectHashTable.get_item\u001b[1;34m()\u001b[0m\n",
      "\u001b[1;31mKeyError\u001b[0m: 'region'",
      "\nThe above exception was the direct cause of the following exception:\n",
      "\u001b[1;31mKeyError\u001b[0m                                  Traceback (most recent call last)",
      "File \u001b[1;32m~\\anaconda3\\lib\\site-packages\\sklearn\\utils\\__init__.py:433\u001b[0m, in \u001b[0;36m_get_column_indices\u001b[1;34m(X, key)\u001b[0m\n\u001b[0;32m    432\u001b[0m \u001b[38;5;28;01mfor\u001b[39;00m col \u001b[38;5;129;01min\u001b[39;00m columns:\n\u001b[1;32m--> 433\u001b[0m     col_idx \u001b[38;5;241m=\u001b[39m \u001b[43mall_columns\u001b[49m\u001b[38;5;241;43m.\u001b[39;49m\u001b[43mget_loc\u001b[49m\u001b[43m(\u001b[49m\u001b[43mcol\u001b[49m\u001b[43m)\u001b[49m\n\u001b[0;32m    434\u001b[0m     \u001b[38;5;28;01mif\u001b[39;00m \u001b[38;5;129;01mnot\u001b[39;00m \u001b[38;5;28misinstance\u001b[39m(col_idx, numbers\u001b[38;5;241m.\u001b[39mIntegral):\n",
      "File \u001b[1;32m~\\anaconda3\\lib\\site-packages\\pandas\\core\\indexes\\base.py:3623\u001b[0m, in \u001b[0;36mIndex.get_loc\u001b[1;34m(self, key, method, tolerance)\u001b[0m\n\u001b[0;32m   3622\u001b[0m \u001b[38;5;28;01mexcept\u001b[39;00m \u001b[38;5;167;01mKeyError\u001b[39;00m \u001b[38;5;28;01mas\u001b[39;00m err:\n\u001b[1;32m-> 3623\u001b[0m     \u001b[38;5;28;01mraise\u001b[39;00m \u001b[38;5;167;01mKeyError\u001b[39;00m(key) \u001b[38;5;28;01mfrom\u001b[39;00m \u001b[38;5;21;01merr\u001b[39;00m\n\u001b[0;32m   3624\u001b[0m \u001b[38;5;28;01mexcept\u001b[39;00m \u001b[38;5;167;01mTypeError\u001b[39;00m:\n\u001b[0;32m   3625\u001b[0m     \u001b[38;5;66;03m# If we have a listlike key, _check_indexing_error will raise\u001b[39;00m\n\u001b[0;32m   3626\u001b[0m     \u001b[38;5;66;03m#  InvalidIndexError. Otherwise we fall through and re-raise\u001b[39;00m\n\u001b[0;32m   3627\u001b[0m     \u001b[38;5;66;03m#  the TypeError.\u001b[39;00m\n",
      "\u001b[1;31mKeyError\u001b[0m: 'region'",
      "\nThe above exception was the direct cause of the following exception:\n",
      "\u001b[1;31mValueError\u001b[0m                                Traceback (most recent call last)",
      "Input \u001b[1;32mIn [407]\u001b[0m, in \u001b[0;36m<cell line: 18>\u001b[1;34m()\u001b[0m\n\u001b[0;32m      2\u001b[0m model \u001b[38;5;241m=\u001b[39m Pipeline(\n\u001b[0;32m      3\u001b[0m steps\u001b[38;5;241m=\u001b[39m[\n\u001b[0;32m      4\u001b[0m     (\u001b[38;5;124m'\u001b[39m\u001b[38;5;124mpre\u001b[39m\u001b[38;5;124m'\u001b[39m, preprocessor),\n\u001b[1;32m   (...)\u001b[0m\n\u001b[0;32m     14\u001b[0m         )\n\u001b[0;32m     15\u001b[0m ])\n\u001b[0;32m     17\u001b[0m \u001b[38;5;66;03m# Fit the model on Train data\u001b[39;00m\n\u001b[1;32m---> 18\u001b[0m \u001b[43mmodel\u001b[49m\u001b[38;5;241;43m.\u001b[39;49m\u001b[43mfit\u001b[49m\u001b[43m(\u001b[49m\u001b[43mX_train\u001b[49m\u001b[43m,\u001b[49m\u001b[43m \u001b[49m\u001b[43my_train\u001b[49m\u001b[43m)\u001b[49m\n",
      "File \u001b[1;32m~\\anaconda3\\lib\\site-packages\\sklearn\\pipeline.py:390\u001b[0m, in \u001b[0;36mPipeline.fit\u001b[1;34m(self, X, y, **fit_params)\u001b[0m\n\u001b[0;32m    364\u001b[0m \u001b[38;5;124;03m\"\"\"Fit the model.\u001b[39;00m\n\u001b[0;32m    365\u001b[0m \n\u001b[0;32m    366\u001b[0m \u001b[38;5;124;03mFit all the transformers one after the other and transform the\u001b[39;00m\n\u001b[1;32m   (...)\u001b[0m\n\u001b[0;32m    387\u001b[0m \u001b[38;5;124;03m    Pipeline with fitted steps.\u001b[39;00m\n\u001b[0;32m    388\u001b[0m \u001b[38;5;124;03m\"\"\"\u001b[39;00m\n\u001b[0;32m    389\u001b[0m fit_params_steps \u001b[38;5;241m=\u001b[39m \u001b[38;5;28mself\u001b[39m\u001b[38;5;241m.\u001b[39m_check_fit_params(\u001b[38;5;241m*\u001b[39m\u001b[38;5;241m*\u001b[39mfit_params)\n\u001b[1;32m--> 390\u001b[0m Xt \u001b[38;5;241m=\u001b[39m \u001b[38;5;28mself\u001b[39m\u001b[38;5;241m.\u001b[39m_fit(X, y, \u001b[38;5;241m*\u001b[39m\u001b[38;5;241m*\u001b[39mfit_params_steps)\n\u001b[0;32m    391\u001b[0m \u001b[38;5;28;01mwith\u001b[39;00m _print_elapsed_time(\u001b[38;5;124m\"\u001b[39m\u001b[38;5;124mPipeline\u001b[39m\u001b[38;5;124m\"\u001b[39m, \u001b[38;5;28mself\u001b[39m\u001b[38;5;241m.\u001b[39m_log_message(\u001b[38;5;28mlen\u001b[39m(\u001b[38;5;28mself\u001b[39m\u001b[38;5;241m.\u001b[39msteps) \u001b[38;5;241m-\u001b[39m \u001b[38;5;241m1\u001b[39m)):\n\u001b[0;32m    392\u001b[0m     \u001b[38;5;28;01mif\u001b[39;00m \u001b[38;5;28mself\u001b[39m\u001b[38;5;241m.\u001b[39m_final_estimator \u001b[38;5;241m!=\u001b[39m \u001b[38;5;124m\"\u001b[39m\u001b[38;5;124mpassthrough\u001b[39m\u001b[38;5;124m\"\u001b[39m:\n",
      "File \u001b[1;32m~\\anaconda3\\lib\\site-packages\\sklearn\\pipeline.py:348\u001b[0m, in \u001b[0;36mPipeline._fit\u001b[1;34m(self, X, y, **fit_params_steps)\u001b[0m\n\u001b[0;32m    346\u001b[0m     cloned_transformer \u001b[38;5;241m=\u001b[39m clone(transformer)\n\u001b[0;32m    347\u001b[0m \u001b[38;5;66;03m# Fit or load from cache the current transformer\u001b[39;00m\n\u001b[1;32m--> 348\u001b[0m X, fitted_transformer \u001b[38;5;241m=\u001b[39m fit_transform_one_cached(\n\u001b[0;32m    349\u001b[0m     cloned_transformer,\n\u001b[0;32m    350\u001b[0m     X,\n\u001b[0;32m    351\u001b[0m     y,\n\u001b[0;32m    352\u001b[0m     \u001b[38;5;28;01mNone\u001b[39;00m,\n\u001b[0;32m    353\u001b[0m     message_clsname\u001b[38;5;241m=\u001b[39m\u001b[38;5;124m\"\u001b[39m\u001b[38;5;124mPipeline\u001b[39m\u001b[38;5;124m\"\u001b[39m,\n\u001b[0;32m    354\u001b[0m     message\u001b[38;5;241m=\u001b[39m\u001b[38;5;28mself\u001b[39m\u001b[38;5;241m.\u001b[39m_log_message(step_idx),\n\u001b[0;32m    355\u001b[0m     \u001b[38;5;241m*\u001b[39m\u001b[38;5;241m*\u001b[39mfit_params_steps[name],\n\u001b[0;32m    356\u001b[0m )\n\u001b[0;32m    357\u001b[0m \u001b[38;5;66;03m# Replace the transformer of the step with the fitted\u001b[39;00m\n\u001b[0;32m    358\u001b[0m \u001b[38;5;66;03m# transformer. This is necessary when loading the transformer\u001b[39;00m\n\u001b[0;32m    359\u001b[0m \u001b[38;5;66;03m# from the cache.\u001b[39;00m\n\u001b[0;32m    360\u001b[0m \u001b[38;5;28mself\u001b[39m\u001b[38;5;241m.\u001b[39msteps[step_idx] \u001b[38;5;241m=\u001b[39m (name, fitted_transformer)\n",
      "File \u001b[1;32m~\\anaconda3\\lib\\site-packages\\joblib\\memory.py:349\u001b[0m, in \u001b[0;36mNotMemorizedFunc.__call__\u001b[1;34m(self, *args, **kwargs)\u001b[0m\n\u001b[0;32m    348\u001b[0m \u001b[38;5;28;01mdef\u001b[39;00m \u001b[38;5;21m__call__\u001b[39m(\u001b[38;5;28mself\u001b[39m, \u001b[38;5;241m*\u001b[39margs, \u001b[38;5;241m*\u001b[39m\u001b[38;5;241m*\u001b[39mkwargs):\n\u001b[1;32m--> 349\u001b[0m     \u001b[38;5;28;01mreturn\u001b[39;00m \u001b[38;5;28mself\u001b[39m\u001b[38;5;241m.\u001b[39mfunc(\u001b[38;5;241m*\u001b[39margs, \u001b[38;5;241m*\u001b[39m\u001b[38;5;241m*\u001b[39mkwargs)\n",
      "File \u001b[1;32m~\\anaconda3\\lib\\site-packages\\sklearn\\pipeline.py:893\u001b[0m, in \u001b[0;36m_fit_transform_one\u001b[1;34m(transformer, X, y, weight, message_clsname, message, **fit_params)\u001b[0m\n\u001b[0;32m    891\u001b[0m \u001b[38;5;28;01mwith\u001b[39;00m _print_elapsed_time(message_clsname, message):\n\u001b[0;32m    892\u001b[0m     \u001b[38;5;28;01mif\u001b[39;00m \u001b[38;5;28mhasattr\u001b[39m(transformer, \u001b[38;5;124m\"\u001b[39m\u001b[38;5;124mfit_transform\u001b[39m\u001b[38;5;124m\"\u001b[39m):\n\u001b[1;32m--> 893\u001b[0m         res \u001b[38;5;241m=\u001b[39m transformer\u001b[38;5;241m.\u001b[39mfit_transform(X, y, \u001b[38;5;241m*\u001b[39m\u001b[38;5;241m*\u001b[39mfit_params)\n\u001b[0;32m    894\u001b[0m     \u001b[38;5;28;01melse\u001b[39;00m:\n\u001b[0;32m    895\u001b[0m         res \u001b[38;5;241m=\u001b[39m transformer\u001b[38;5;241m.\u001b[39mfit(X, y, \u001b[38;5;241m*\u001b[39m\u001b[38;5;241m*\u001b[39mfit_params)\u001b[38;5;241m.\u001b[39mtransform(X)\n",
      "File \u001b[1;32m~\\anaconda3\\lib\\site-packages\\sklearn\\compose\\_column_transformer.py:672\u001b[0m, in \u001b[0;36mColumnTransformer.fit_transform\u001b[1;34m(self, X, y)\u001b[0m\n\u001b[0;32m    670\u001b[0m \u001b[38;5;28mself\u001b[39m\u001b[38;5;241m.\u001b[39m_check_n_features(X, reset\u001b[38;5;241m=\u001b[39m\u001b[38;5;28;01mTrue\u001b[39;00m)\n\u001b[0;32m    671\u001b[0m \u001b[38;5;28mself\u001b[39m\u001b[38;5;241m.\u001b[39m_validate_transformers()\n\u001b[1;32m--> 672\u001b[0m \u001b[38;5;28;43mself\u001b[39;49m\u001b[38;5;241;43m.\u001b[39;49m\u001b[43m_validate_column_callables\u001b[49m\u001b[43m(\u001b[49m\u001b[43mX\u001b[49m\u001b[43m)\u001b[49m\n\u001b[0;32m    673\u001b[0m \u001b[38;5;28mself\u001b[39m\u001b[38;5;241m.\u001b[39m_validate_remainder(X)\n\u001b[0;32m    675\u001b[0m result \u001b[38;5;241m=\u001b[39m \u001b[38;5;28mself\u001b[39m\u001b[38;5;241m.\u001b[39m_fit_transform(X, y, _fit_transform_one)\n",
      "File \u001b[1;32m~\\anaconda3\\lib\\site-packages\\sklearn\\compose\\_column_transformer.py:352\u001b[0m, in \u001b[0;36mColumnTransformer._validate_column_callables\u001b[1;34m(self, X)\u001b[0m\n\u001b[0;32m    350\u001b[0m         columns \u001b[38;5;241m=\u001b[39m columns(X)\n\u001b[0;32m    351\u001b[0m     all_columns\u001b[38;5;241m.\u001b[39mappend(columns)\n\u001b[1;32m--> 352\u001b[0m     transformer_to_input_indices[name] \u001b[38;5;241m=\u001b[39m \u001b[43m_get_column_indices\u001b[49m\u001b[43m(\u001b[49m\u001b[43mX\u001b[49m\u001b[43m,\u001b[49m\u001b[43m \u001b[49m\u001b[43mcolumns\u001b[49m\u001b[43m)\u001b[49m\n\u001b[0;32m    354\u001b[0m \u001b[38;5;28mself\u001b[39m\u001b[38;5;241m.\u001b[39m_columns \u001b[38;5;241m=\u001b[39m all_columns\n\u001b[0;32m    355\u001b[0m \u001b[38;5;28mself\u001b[39m\u001b[38;5;241m.\u001b[39m_transformer_to_input_indices \u001b[38;5;241m=\u001b[39m transformer_to_input_indices\n",
      "File \u001b[1;32m~\\anaconda3\\lib\\site-packages\\sklearn\\utils\\__init__.py:441\u001b[0m, in \u001b[0;36m_get_column_indices\u001b[1;34m(X, key)\u001b[0m\n\u001b[0;32m    438\u001b[0m             column_indices\u001b[38;5;241m.\u001b[39mappend(col_idx)\n\u001b[0;32m    440\u001b[0m     \u001b[38;5;28;01mexcept\u001b[39;00m \u001b[38;5;167;01mKeyError\u001b[39;00m \u001b[38;5;28;01mas\u001b[39;00m e:\n\u001b[1;32m--> 441\u001b[0m         \u001b[38;5;28;01mraise\u001b[39;00m \u001b[38;5;167;01mValueError\u001b[39;00m(\u001b[38;5;124m\"\u001b[39m\u001b[38;5;124mA given column is not a column of the dataframe\u001b[39m\u001b[38;5;124m\"\u001b[39m) \u001b[38;5;28;01mfrom\u001b[39;00m \u001b[38;5;21;01me\u001b[39;00m\n\u001b[0;32m    443\u001b[0m     \u001b[38;5;28;01mreturn\u001b[39;00m column_indices\n\u001b[0;32m    444\u001b[0m \u001b[38;5;28;01melse\u001b[39;00m:\n",
      "\u001b[1;31mValueError\u001b[0m: A given column is not a column of the dataframe"
     ]
    },
    {
     "data": {
      "application/javascript": [
       "\n",
       "            setTimeout(function() {\n",
       "                var nbb_cell_id = 407;\n",
       "                var nbb_unformatted_code = \"# Creating pipeline with best parameters\\nmodel = Pipeline(\\nsteps=[\\n    ('pre', preprocessor),\\n    (\\n    'GBM2 Tuned', GradientBoostingRegressor(\\n    random_state=42,\\n    learning_rate=0.08171272700715591,\\n    max_features=0.6630456668613307,\\n    n_estimators=368,\\n    subsample=0.7847684335570795,\\n)\\n\\n        )\\n])\\n\\n# Fit the model on Train data\\nmodel.fit(X_train, y_train)\";\n",
       "                var nbb_formatted_code = \"# Creating pipeline with best parameters\\nmodel = Pipeline(\\n    steps=[\\n        (\\\"pre\\\", preprocessor),\\n        (\\n            \\\"GBM2 Tuned\\\",\\n            GradientBoostingRegressor(\\n                random_state=42,\\n                learning_rate=0.08171272700715591,\\n                max_features=0.6630456668613307,\\n                n_estimators=368,\\n                subsample=0.7847684335570795,\\n            ),\\n        ),\\n    ]\\n)\\n\\n# Fit the model on Train data\\nmodel.fit(X_train, y_train)\";\n",
       "                var nbb_cells = Jupyter.notebook.get_cells();\n",
       "                for (var i = 0; i < nbb_cells.length; ++i) {\n",
       "                    if (nbb_cells[i].input_prompt_number == nbb_cell_id) {\n",
       "                        if (nbb_cells[i].get_text() == nbb_unformatted_code) {\n",
       "                             nbb_cells[i].set_text(nbb_formatted_code);\n",
       "                        }\n",
       "                        break;\n",
       "                    }\n",
       "                }\n",
       "            }, 500);\n",
       "            "
      ],
      "text/plain": [
       "<IPython.core.display.Javascript object>"
      ]
     },
     "metadata": {},
     "output_type": "display_data"
    }
   ],
   "source": [
    "# Creating pipeline with best parameters\n",
    "model = Pipeline(\n",
    "    steps=[\n",
    "        (\"pre\", preprocessor),\n",
    "        (\n",
    "            \"GBM2 Tuned\",\n",
    "            GradientBoostingRegressor(\n",
    "                random_state=42,\n",
    "                learning_rate=0.08171272700715591,\n",
    "                max_features=0.6630456668613307,\n",
    "                n_estimators=368,\n",
    "                subsample=0.7847684335570795,\n",
    "            ),\n",
    "        ),\n",
    "    ]\n",
    ")\n",
    "\n",
    "# Fit the model on Train data\n",
    "model.fit(X_train, y_train)"
   ]
  },
  {
   "cell_type": "code",
   "execution_count": null,
   "id": "68c31937",
   "metadata": {},
   "outputs": [],
   "source": []
  },
  {
   "cell_type": "code",
   "execution_count": null,
   "id": "059d9cd8",
   "metadata": {},
   "outputs": [],
   "source": []
  },
  {
   "cell_type": "code",
   "execution_count": null,
   "id": "7c095594",
   "metadata": {},
   "outputs": [],
   "source": []
  },
  {
   "cell_type": "code",
   "execution_count": null,
   "id": "a36c0663",
   "metadata": {},
   "outputs": [],
   "source": [
    "print(\"Complete\")\n",
    "\n",
    "# Chime notification when cell executes\n",
    "chime.success()"
   ]
  },
  {
   "cell_type": "markdown",
   "id": "11aacfcc",
   "metadata": {},
   "source": [
    "# [Proceed to Data Cleaning Part ]()"
   ]
  }
 ],
 "metadata": {
  "kernelspec": {
   "display_name": "Python 3 (ipykernel)",
   "language": "python",
   "name": "python3"
  },
  "language_info": {
   "codemirror_mode": {
    "name": "ipython",
    "version": 3
   },
   "file_extension": ".py",
   "mimetype": "text/x-python",
   "name": "python",
   "nbconvert_exporter": "python",
   "pygments_lexer": "ipython3",
   "version": "3.9.12"
  }
 },
 "nbformat": 4,
 "nbformat_minor": 5
}
