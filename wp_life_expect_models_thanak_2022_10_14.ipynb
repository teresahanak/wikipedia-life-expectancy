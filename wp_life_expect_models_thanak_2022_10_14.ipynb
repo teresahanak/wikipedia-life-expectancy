{
 "cells": [
  {
   "cell_type": "markdown",
   "id": "316a0779",
   "metadata": {},
   "source": [
    "# Wikipedia Notable Life Expectancy\n",
    "## Notebook  13: Modeling for Regression -- Prediction Emphasis\n",
    "### Context\n",
    "\n",
    "The\n",
    "### Objective\n",
    "\n",
    "The\n",
    "### Data Dictionary\n",
    "- Feature: Description"
   ]
  },
  {
   "cell_type": "markdown",
   "id": "99245d51",
   "metadata": {},
   "source": [
    "### Importing Libraries"
   ]
  },
  {
   "cell_type": "code",
   "execution_count": 1,
   "id": "453bba83",
   "metadata": {},
   "outputs": [
    {
     "data": {
      "application/javascript": [
       "\n",
       "            setTimeout(function() {\n",
       "                var nbb_cell_id = 1;\n",
       "                var nbb_unformatted_code = \"# To structure code automatically\\n%load_ext nb_black\\n\\n# To import/export sqlite databases\\n# import sqlite3 as sql\\n\\n# To save/open python objects in pickle file\\nimport pickle\\n\\n# To help with reading, cleaning, and manipulating data\\nimport pandas as pd\\nimport numpy as np\\n\\n# To help with categorical typecasting\\nfrom pandas.api.types import CategoricalDtype\\n\\n# To help with data visualization\\nimport matplotlib.pyplot as plt\\nimport seaborn as sns\\n\\n# To be used for missing value imputation\\n# from sklearn.impute import SimpleImputer\\nfrom sklearn.base import BaseEstimator, TransformerMixin\\nfrom sklearn.utils.validation import check_is_fitted\\n\\n# To help with model building\\nfrom sklearn.tree import DecisionTreeRegressor\\n# from sklearn.linear_model import LinearRegression\\n\\nfrom sklearn.ensemble import (\\n    AdaBoostRegressor,\\n    GradientBoostingRegressor,\\n    RandomForestRegressor,\\n    BaggingRegressor,\\n)\\nfrom xgboost import XGBRegressor\\n\\n# To randomly split data, for cross validation, and to check model performance\\nfrom sklearn import metrics\\nfrom sklearn.model_selection import train_test_split, KFold, cross_val_score\\nfrom sklearn.metrics import (\\n    mean_absolute_error,\\n    mean_squared_error,\\n    r2_score,\\n    mean_absolute_percentage_error,\\n)\\n\\n# To be used for tuning the model\\nfrom sklearn.model_selection import RandomizedSearchCV\\n\\n# To be used for hyperparameter tuning searches\\nfrom scipy.stats import loguniform\\nfrom scipy.stats import uniform\\nfrom scipy.stats import expon\\n\\n# To be used for creating pipelines and personalizing them\\nfrom sklearn.pipeline import Pipeline, make_pipeline\\nfrom sklearn.compose import ColumnTransformer\\n\\n# To define maximum number of columns to be displayed in a dataframe\\npd.set_option(\\\"display.max_columns\\\", None)\\n# To define the maximum number of rows to be displayed in a dataframe\\npd.set_option(\\\"display.max_rows\\\", 211)\\n\\n# To set some dataframe visualization attributes\\npd.set_option(\\\"max_colwidth\\\", 150)\\n\\n# To supress warnings\\nimport warnings\\n\\nwarnings.filterwarnings(\\\"ignore\\\")\\n\\n# To set some plot visualization attributes\\nsns.set_theme()\\nsns.set(font_scale=1.4)\\nsns.set_palette(\\n    (\\n        \\\"midnightblue\\\",\\n        \\\"goldenrod\\\",\\n        \\\"maroon\\\",\\n        \\\"darkolivegreen\\\",\\n        \\\"cadetblue\\\",\\n        \\\"tab:purple\\\",\\n        \\\"yellowgreen\\\",\\n    )\\n)\\n\\n# To play auditory cue when cell has executed, has warning, or has error and set chime theme\\nimport chime\\n\\nchime.theme(\\\"zelda\\\")\";\n",
       "                var nbb_formatted_code = \"# To structure code automatically\\n%load_ext nb_black\\n\\n# To import/export sqlite databases\\n# import sqlite3 as sql\\n\\n# To save/open python objects in pickle file\\nimport pickle\\n\\n# To help with reading, cleaning, and manipulating data\\nimport pandas as pd\\nimport numpy as np\\n\\n# To help with categorical typecasting\\nfrom pandas.api.types import CategoricalDtype\\n\\n# To help with data visualization\\nimport matplotlib.pyplot as plt\\nimport seaborn as sns\\n\\n# To be used for missing value imputation\\n# from sklearn.impute import SimpleImputer\\nfrom sklearn.base import BaseEstimator, TransformerMixin\\nfrom sklearn.utils.validation import check_is_fitted\\n\\n# To help with model building\\nfrom sklearn.tree import DecisionTreeRegressor\\n\\n# from sklearn.linear_model import LinearRegression\\n\\nfrom sklearn.ensemble import (\\n    AdaBoostRegressor,\\n    GradientBoostingRegressor,\\n    RandomForestRegressor,\\n    BaggingRegressor,\\n)\\nfrom xgboost import XGBRegressor\\n\\n# To randomly split data, for cross validation, and to check model performance\\nfrom sklearn import metrics\\nfrom sklearn.model_selection import train_test_split, KFold, cross_val_score\\nfrom sklearn.metrics import (\\n    mean_absolute_error,\\n    mean_squared_error,\\n    r2_score,\\n    mean_absolute_percentage_error,\\n)\\n\\n# To be used for tuning the model\\nfrom sklearn.model_selection import RandomizedSearchCV\\n\\n# To be used for hyperparameter tuning searches\\nfrom scipy.stats import loguniform\\nfrom scipy.stats import uniform\\nfrom scipy.stats import expon\\n\\n# To be used for creating pipelines and personalizing them\\nfrom sklearn.pipeline import Pipeline, make_pipeline\\nfrom sklearn.compose import ColumnTransformer\\n\\n# To define maximum number of columns to be displayed in a dataframe\\npd.set_option(\\\"display.max_columns\\\", None)\\n# To define the maximum number of rows to be displayed in a dataframe\\npd.set_option(\\\"display.max_rows\\\", 211)\\n\\n# To set some dataframe visualization attributes\\npd.set_option(\\\"max_colwidth\\\", 150)\\n\\n# To supress warnings\\nimport warnings\\n\\nwarnings.filterwarnings(\\\"ignore\\\")\\n\\n# To set some plot visualization attributes\\nsns.set_theme()\\nsns.set(font_scale=1.4)\\nsns.set_palette(\\n    (\\n        \\\"midnightblue\\\",\\n        \\\"goldenrod\\\",\\n        \\\"maroon\\\",\\n        \\\"darkolivegreen\\\",\\n        \\\"cadetblue\\\",\\n        \\\"tab:purple\\\",\\n        \\\"yellowgreen\\\",\\n    )\\n)\\n\\n# To play auditory cue when cell has executed, has warning, or has error and set chime theme\\nimport chime\\n\\nchime.theme(\\\"zelda\\\")\";\n",
       "                var nbb_cells = Jupyter.notebook.get_cells();\n",
       "                for (var i = 0; i < nbb_cells.length; ++i) {\n",
       "                    if (nbb_cells[i].input_prompt_number == nbb_cell_id) {\n",
       "                        if (nbb_cells[i].get_text() == nbb_unformatted_code) {\n",
       "                             nbb_cells[i].set_text(nbb_formatted_code);\n",
       "                        }\n",
       "                        break;\n",
       "                    }\n",
       "                }\n",
       "            }, 500);\n",
       "            "
      ],
      "text/plain": [
       "<IPython.core.display.Javascript object>"
      ]
     },
     "metadata": {},
     "output_type": "display_data"
    }
   ],
   "source": [
    "# To structure code automatically\n",
    "%load_ext nb_black\n",
    "\n",
    "# To import/export sqlite databases\n",
    "# import sqlite3 as sql\n",
    "\n",
    "# To save/open python objects in pickle file\n",
    "import pickle\n",
    "\n",
    "# To help with reading, cleaning, and manipulating data\n",
    "import pandas as pd\n",
    "import numpy as np\n",
    "\n",
    "# To help with categorical typecasting\n",
    "from pandas.api.types import CategoricalDtype\n",
    "\n",
    "# To help with data visualization\n",
    "import matplotlib.pyplot as plt\n",
    "import seaborn as sns\n",
    "\n",
    "# To be used for missing value imputation\n",
    "# from sklearn.impute import SimpleImputer\n",
    "from sklearn.base import BaseEstimator, TransformerMixin\n",
    "from sklearn.utils.validation import check_is_fitted\n",
    "\n",
    "# To help with model building\n",
    "from sklearn.tree import DecisionTreeRegressor\n",
    "\n",
    "# from sklearn.linear_model import LinearRegression\n",
    "\n",
    "from sklearn.ensemble import (\n",
    "    AdaBoostRegressor,\n",
    "    GradientBoostingRegressor,\n",
    "    RandomForestRegressor,\n",
    "    BaggingRegressor,\n",
    ")\n",
    "from xgboost import XGBRegressor\n",
    "\n",
    "# To randomly split data, for cross validation, and to check model performance\n",
    "from sklearn import metrics\n",
    "from sklearn.model_selection import train_test_split, KFold, cross_val_score\n",
    "from sklearn.metrics import (\n",
    "    mean_absolute_error,\n",
    "    mean_squared_error,\n",
    "    r2_score,\n",
    "    mean_absolute_percentage_error,\n",
    ")\n",
    "\n",
    "# To be used for tuning the model\n",
    "from sklearn.model_selection import RandomizedSearchCV\n",
    "\n",
    "# To be used for hyperparameter tuning searches\n",
    "from scipy.stats import loguniform\n",
    "from scipy.stats import uniform\n",
    "from scipy.stats import expon\n",
    "\n",
    "# To be used for creating pipelines and personalizing them\n",
    "from sklearn.pipeline import Pipeline, make_pipeline\n",
    "from sklearn.compose import ColumnTransformer\n",
    "\n",
    "# To define maximum number of columns to be displayed in a dataframe\n",
    "pd.set_option(\"display.max_columns\", None)\n",
    "# To define the maximum number of rows to be displayed in a dataframe\n",
    "pd.set_option(\"display.max_rows\", 211)\n",
    "\n",
    "# To set some dataframe visualization attributes\n",
    "pd.set_option(\"max_colwidth\", 150)\n",
    "\n",
    "# To supress warnings\n",
    "import warnings\n",
    "\n",
    "warnings.filterwarnings(\"ignore\")\n",
    "\n",
    "# To set some plot visualization attributes\n",
    "sns.set_theme()\n",
    "sns.set(font_scale=1.4)\n",
    "sns.set_palette(\n",
    "    (\n",
    "        \"midnightblue\",\n",
    "        \"goldenrod\",\n",
    "        \"maroon\",\n",
    "        \"darkolivegreen\",\n",
    "        \"cadetblue\",\n",
    "        \"tab:purple\",\n",
    "        \"yellowgreen\",\n",
    "    )\n",
    ")\n",
    "\n",
    "# To play auditory cue when cell has executed, has warning, or has error and set chime theme\n",
    "import chime\n",
    "\n",
    "chime.theme(\"zelda\")"
   ]
  },
  {
   "cell_type": "markdown",
   "id": "cc818a82",
   "metadata": {},
   "source": [
    "## Data Overview"
   ]
  },
  {
   "cell_type": "markdown",
   "id": "0ed005f6",
   "metadata": {},
   "source": [
    "### [Reading](https://github.com/teresahanak/wikipedia-life-expectancy/blob/main/wp_life_expect_train_preproc.csv), Sampling, and Checking Data Shape"
   ]
  },
  {
   "cell_type": "code",
   "execution_count": 2,
   "id": "0ca58a95",
   "metadata": {},
   "outputs": [
    {
     "name": "stdout",
     "output_type": "stream",
     "text": [
      "There are 77624 rows and 20 columns.\n"
     ]
    },
    {
     "data": {
      "text/html": [
       "<div>\n",
       "<style scoped>\n",
       "    .dataframe tbody tr th:only-of-type {\n",
       "        vertical-align: middle;\n",
       "    }\n",
       "\n",
       "    .dataframe tbody tr th {\n",
       "        vertical-align: top;\n",
       "    }\n",
       "\n",
       "    .dataframe thead th {\n",
       "        text-align: right;\n",
       "    }\n",
       "</style>\n",
       "<table border=\"1\" class=\"dataframe\">\n",
       "  <thead>\n",
       "    <tr style=\"text-align: right;\">\n",
       "      <th></th>\n",
       "      <th>num_references</th>\n",
       "      <th>age</th>\n",
       "      <th>sciences</th>\n",
       "      <th>social</th>\n",
       "      <th>spiritual</th>\n",
       "      <th>academia_humanities</th>\n",
       "      <th>business_farming</th>\n",
       "      <th>arts</th>\n",
       "      <th>sports</th>\n",
       "      <th>law_enf_military_operator</th>\n",
       "      <th>politics_govt_law</th>\n",
       "      <th>crime</th>\n",
       "      <th>num_categories</th>\n",
       "      <th>age_sqrd</th>\n",
       "      <th>recip_num_references</th>\n",
       "      <th>years</th>\n",
       "      <th>years_sqrd</th>\n",
       "      <th>region</th>\n",
       "      <th>prior_region</th>\n",
       "      <th>known_for</th>\n",
       "    </tr>\n",
       "  </thead>\n",
       "  <tbody>\n",
       "    <tr>\n",
       "      <th>0</th>\n",
       "      <td>4</td>\n",
       "      <td>73.0</td>\n",
       "      <td>0</td>\n",
       "      <td>0</td>\n",
       "      <td>1</td>\n",
       "      <td>0</td>\n",
       "      <td>0</td>\n",
       "      <td>0</td>\n",
       "      <td>0</td>\n",
       "      <td>0</td>\n",
       "      <td>0</td>\n",
       "      <td>0</td>\n",
       "      <td>1</td>\n",
       "      <td>5329.0</td>\n",
       "      <td>0.250000</td>\n",
       "      <td>8</td>\n",
       "      <td>64</td>\n",
       "      <td>Europe</td>\n",
       "      <td>No Prior Region</td>\n",
       "      <td>spiritual</td>\n",
       "    </tr>\n",
       "    <tr>\n",
       "      <th>1</th>\n",
       "      <td>3</td>\n",
       "      <td>90.0</td>\n",
       "      <td>1</td>\n",
       "      <td>0</td>\n",
       "      <td>0</td>\n",
       "      <td>1</td>\n",
       "      <td>0</td>\n",
       "      <td>0</td>\n",
       "      <td>0</td>\n",
       "      <td>0</td>\n",
       "      <td>0</td>\n",
       "      <td>0</td>\n",
       "      <td>2</td>\n",
       "      <td>8100.0</td>\n",
       "      <td>0.333333</td>\n",
       "      <td>13</td>\n",
       "      <td>169</td>\n",
       "      <td>North America</td>\n",
       "      <td>No Prior Region</td>\n",
       "      <td>two</td>\n",
       "    </tr>\n",
       "  </tbody>\n",
       "</table>\n",
       "</div>"
      ],
      "text/plain": [
       "   num_references   age  sciences  social  spiritual  academia_humanities  \\\n",
       "0               4  73.0         0       0          1                    0   \n",
       "1               3  90.0         1       0          0                    1   \n",
       "\n",
       "   business_farming  arts  sports  law_enf_military_operator  \\\n",
       "0                 0     0       0                          0   \n",
       "1                 0     0       0                          0   \n",
       "\n",
       "   politics_govt_law  crime  num_categories  age_sqrd  recip_num_references  \\\n",
       "0                  0      0               1    5329.0              0.250000   \n",
       "1                  0      0               2    8100.0              0.333333   \n",
       "\n",
       "   years  years_sqrd         region     prior_region  known_for  \n",
       "0      8          64         Europe  No Prior Region  spiritual  \n",
       "1     13         169  North America  No Prior Region        two  "
      ]
     },
     "execution_count": 2,
     "metadata": {},
     "output_type": "execute_result"
    },
    {
     "data": {
      "application/javascript": [
       "\n",
       "            setTimeout(function() {\n",
       "                var nbb_cell_id = 2;\n",
       "                var nbb_unformatted_code = \"# Reading the dataset\\ndata = pd.read_csv(\\\"wp_life_expect_train_preproc.csv\\\")\\n\\n# Making a working copy\\ndf = data.copy()\\n\\n# Checking the shape\\nprint(f\\\"There are {df.shape[0]} rows and {df.shape[1]} columns.\\\")\\n\\n# Checking first 2 rows of the data\\ndf.head(2)\";\n",
       "                var nbb_formatted_code = \"# Reading the dataset\\ndata = pd.read_csv(\\\"wp_life_expect_train_preproc.csv\\\")\\n\\n# Making a working copy\\ndf = data.copy()\\n\\n# Checking the shape\\nprint(f\\\"There are {df.shape[0]} rows and {df.shape[1]} columns.\\\")\\n\\n# Checking first 2 rows of the data\\ndf.head(2)\";\n",
       "                var nbb_cells = Jupyter.notebook.get_cells();\n",
       "                for (var i = 0; i < nbb_cells.length; ++i) {\n",
       "                    if (nbb_cells[i].input_prompt_number == nbb_cell_id) {\n",
       "                        if (nbb_cells[i].get_text() == nbb_unformatted_code) {\n",
       "                             nbb_cells[i].set_text(nbb_formatted_code);\n",
       "                        }\n",
       "                        break;\n",
       "                    }\n",
       "                }\n",
       "            }, 500);\n",
       "            "
      ],
      "text/plain": [
       "<IPython.core.display.Javascript object>"
      ]
     },
     "metadata": {},
     "output_type": "display_data"
    }
   ],
   "source": [
    "# Reading the dataset\n",
    "data = pd.read_csv(\"wp_life_expect_train_preproc.csv\")\n",
    "\n",
    "# Making a working copy\n",
    "df = data.copy()\n",
    "\n",
    "# Checking the shape\n",
    "print(f\"There are {df.shape[0]} rows and {df.shape[1]} columns.\")\n",
    "\n",
    "# Checking first 2 rows of the data\n",
    "df.head(2)"
   ]
  },
  {
   "cell_type": "code",
   "execution_count": 3,
   "id": "6cca416f",
   "metadata": {},
   "outputs": [
    {
     "data": {
      "text/html": [
       "<div>\n",
       "<style scoped>\n",
       "    .dataframe tbody tr th:only-of-type {\n",
       "        vertical-align: middle;\n",
       "    }\n",
       "\n",
       "    .dataframe tbody tr th {\n",
       "        vertical-align: top;\n",
       "    }\n",
       "\n",
       "    .dataframe thead th {\n",
       "        text-align: right;\n",
       "    }\n",
       "</style>\n",
       "<table border=\"1\" class=\"dataframe\">\n",
       "  <thead>\n",
       "    <tr style=\"text-align: right;\">\n",
       "      <th></th>\n",
       "      <th>num_references</th>\n",
       "      <th>age</th>\n",
       "      <th>sciences</th>\n",
       "      <th>social</th>\n",
       "      <th>spiritual</th>\n",
       "      <th>academia_humanities</th>\n",
       "      <th>business_farming</th>\n",
       "      <th>arts</th>\n",
       "      <th>sports</th>\n",
       "      <th>law_enf_military_operator</th>\n",
       "      <th>politics_govt_law</th>\n",
       "      <th>crime</th>\n",
       "      <th>num_categories</th>\n",
       "      <th>age_sqrd</th>\n",
       "      <th>recip_num_references</th>\n",
       "      <th>years</th>\n",
       "      <th>years_sqrd</th>\n",
       "      <th>region</th>\n",
       "      <th>prior_region</th>\n",
       "      <th>known_for</th>\n",
       "    </tr>\n",
       "  </thead>\n",
       "  <tbody>\n",
       "    <tr>\n",
       "      <th>77622</th>\n",
       "      <td>7</td>\n",
       "      <td>74.0</td>\n",
       "      <td>0</td>\n",
       "      <td>0</td>\n",
       "      <td>0</td>\n",
       "      <td>0</td>\n",
       "      <td>0</td>\n",
       "      <td>1</td>\n",
       "      <td>0</td>\n",
       "      <td>0</td>\n",
       "      <td>0</td>\n",
       "      <td>0</td>\n",
       "      <td>1</td>\n",
       "      <td>5476.0</td>\n",
       "      <td>0.142857</td>\n",
       "      <td>0</td>\n",
       "      <td>0</td>\n",
       "      <td>North America</td>\n",
       "      <td>No Prior Region</td>\n",
       "      <td>arts</td>\n",
       "    </tr>\n",
       "    <tr>\n",
       "      <th>77623</th>\n",
       "      <td>5</td>\n",
       "      <td>92.0</td>\n",
       "      <td>0</td>\n",
       "      <td>0</td>\n",
       "      <td>0</td>\n",
       "      <td>0</td>\n",
       "      <td>0</td>\n",
       "      <td>0</td>\n",
       "      <td>1</td>\n",
       "      <td>0</td>\n",
       "      <td>0</td>\n",
       "      <td>0</td>\n",
       "      <td>1</td>\n",
       "      <td>8464.0</td>\n",
       "      <td>0.200000</td>\n",
       "      <td>8</td>\n",
       "      <td>64</td>\n",
       "      <td>Europe</td>\n",
       "      <td>No Prior Region</td>\n",
       "      <td>sports</td>\n",
       "    </tr>\n",
       "  </tbody>\n",
       "</table>\n",
       "</div>"
      ],
      "text/plain": [
       "       num_references   age  sciences  social  spiritual  academia_humanities  \\\n",
       "77622               7  74.0         0       0          0                    0   \n",
       "77623               5  92.0         0       0          0                    0   \n",
       "\n",
       "       business_farming  arts  sports  law_enf_military_operator  \\\n",
       "77622                 0     1       0                          0   \n",
       "77623                 0     0       1                          0   \n",
       "\n",
       "       politics_govt_law  crime  num_categories  age_sqrd  \\\n",
       "77622                  0      0               1    5476.0   \n",
       "77623                  0      0               1    8464.0   \n",
       "\n",
       "       recip_num_references  years  years_sqrd         region  \\\n",
       "77622              0.142857      0           0  North America   \n",
       "77623              0.200000      8          64         Europe   \n",
       "\n",
       "          prior_region known_for  \n",
       "77622  No Prior Region      arts  \n",
       "77623  No Prior Region    sports  "
      ]
     },
     "execution_count": 3,
     "metadata": {},
     "output_type": "execute_result"
    },
    {
     "data": {
      "application/javascript": [
       "\n",
       "            setTimeout(function() {\n",
       "                var nbb_cell_id = 3;\n",
       "                var nbb_unformatted_code = \"# Checking last 2 rows of the data\\ndf.tail(2)\";\n",
       "                var nbb_formatted_code = \"# Checking last 2 rows of the data\\ndf.tail(2)\";\n",
       "                var nbb_cells = Jupyter.notebook.get_cells();\n",
       "                for (var i = 0; i < nbb_cells.length; ++i) {\n",
       "                    if (nbb_cells[i].input_prompt_number == nbb_cell_id) {\n",
       "                        if (nbb_cells[i].get_text() == nbb_unformatted_code) {\n",
       "                             nbb_cells[i].set_text(nbb_formatted_code);\n",
       "                        }\n",
       "                        break;\n",
       "                    }\n",
       "                }\n",
       "            }, 500);\n",
       "            "
      ],
      "text/plain": [
       "<IPython.core.display.Javascript object>"
      ]
     },
     "metadata": {},
     "output_type": "display_data"
    }
   ],
   "source": [
    "# Checking last 2 rows of the data\n",
    "df.tail(2)"
   ]
  },
  {
   "cell_type": "code",
   "execution_count": 4,
   "id": "de6e8ee5",
   "metadata": {},
   "outputs": [
    {
     "data": {
      "text/html": [
       "<div>\n",
       "<style scoped>\n",
       "    .dataframe tbody tr th:only-of-type {\n",
       "        vertical-align: middle;\n",
       "    }\n",
       "\n",
       "    .dataframe tbody tr th {\n",
       "        vertical-align: top;\n",
       "    }\n",
       "\n",
       "    .dataframe thead th {\n",
       "        text-align: right;\n",
       "    }\n",
       "</style>\n",
       "<table border=\"1\" class=\"dataframe\">\n",
       "  <thead>\n",
       "    <tr style=\"text-align: right;\">\n",
       "      <th></th>\n",
       "      <th>num_references</th>\n",
       "      <th>age</th>\n",
       "      <th>sciences</th>\n",
       "      <th>social</th>\n",
       "      <th>spiritual</th>\n",
       "      <th>academia_humanities</th>\n",
       "      <th>business_farming</th>\n",
       "      <th>arts</th>\n",
       "      <th>sports</th>\n",
       "      <th>law_enf_military_operator</th>\n",
       "      <th>politics_govt_law</th>\n",
       "      <th>crime</th>\n",
       "      <th>num_categories</th>\n",
       "      <th>age_sqrd</th>\n",
       "      <th>recip_num_references</th>\n",
       "      <th>years</th>\n",
       "      <th>years_sqrd</th>\n",
       "      <th>region</th>\n",
       "      <th>prior_region</th>\n",
       "      <th>known_for</th>\n",
       "    </tr>\n",
       "  </thead>\n",
       "  <tbody>\n",
       "    <tr>\n",
       "      <th>68449</th>\n",
       "      <td>3</td>\n",
       "      <td>80.0</td>\n",
       "      <td>0</td>\n",
       "      <td>0</td>\n",
       "      <td>0</td>\n",
       "      <td>0</td>\n",
       "      <td>0</td>\n",
       "      <td>1</td>\n",
       "      <td>0</td>\n",
       "      <td>0</td>\n",
       "      <td>0</td>\n",
       "      <td>0</td>\n",
       "      <td>1</td>\n",
       "      <td>6400.0</td>\n",
       "      <td>0.333333</td>\n",
       "      <td>24</td>\n",
       "      <td>576</td>\n",
       "      <td>Europe</td>\n",
       "      <td>No Prior Region</td>\n",
       "      <td>arts</td>\n",
       "    </tr>\n",
       "    <tr>\n",
       "      <th>65669</th>\n",
       "      <td>9</td>\n",
       "      <td>85.0</td>\n",
       "      <td>0</td>\n",
       "      <td>0</td>\n",
       "      <td>0</td>\n",
       "      <td>0</td>\n",
       "      <td>0</td>\n",
       "      <td>1</td>\n",
       "      <td>0</td>\n",
       "      <td>0</td>\n",
       "      <td>0</td>\n",
       "      <td>0</td>\n",
       "      <td>1</td>\n",
       "      <td>7225.0</td>\n",
       "      <td>0.111111</td>\n",
       "      <td>22</td>\n",
       "      <td>484</td>\n",
       "      <td>Europe</td>\n",
       "      <td>No Prior Region</td>\n",
       "      <td>arts</td>\n",
       "    </tr>\n",
       "    <tr>\n",
       "      <th>17568</th>\n",
       "      <td>10</td>\n",
       "      <td>68.0</td>\n",
       "      <td>0</td>\n",
       "      <td>0</td>\n",
       "      <td>0</td>\n",
       "      <td>0</td>\n",
       "      <td>0</td>\n",
       "      <td>1</td>\n",
       "      <td>0</td>\n",
       "      <td>0</td>\n",
       "      <td>0</td>\n",
       "      <td>0</td>\n",
       "      <td>1</td>\n",
       "      <td>4624.0</td>\n",
       "      <td>0.100000</td>\n",
       "      <td>18</td>\n",
       "      <td>324</td>\n",
       "      <td>South East Asia</td>\n",
       "      <td>No Prior Region</td>\n",
       "      <td>arts</td>\n",
       "    </tr>\n",
       "    <tr>\n",
       "      <th>27856</th>\n",
       "      <td>5</td>\n",
       "      <td>76.0</td>\n",
       "      <td>0</td>\n",
       "      <td>0</td>\n",
       "      <td>0</td>\n",
       "      <td>0</td>\n",
       "      <td>0</td>\n",
       "      <td>0</td>\n",
       "      <td>1</td>\n",
       "      <td>0</td>\n",
       "      <td>0</td>\n",
       "      <td>0</td>\n",
       "      <td>1</td>\n",
       "      <td>5776.0</td>\n",
       "      <td>0.200000</td>\n",
       "      <td>17</td>\n",
       "      <td>289</td>\n",
       "      <td>North America</td>\n",
       "      <td>No Prior Region</td>\n",
       "      <td>sports</td>\n",
       "    </tr>\n",
       "    <tr>\n",
       "      <th>80</th>\n",
       "      <td>10</td>\n",
       "      <td>89.0</td>\n",
       "      <td>1</td>\n",
       "      <td>0</td>\n",
       "      <td>0</td>\n",
       "      <td>0</td>\n",
       "      <td>0</td>\n",
       "      <td>0</td>\n",
       "      <td>0</td>\n",
       "      <td>0</td>\n",
       "      <td>0</td>\n",
       "      <td>0</td>\n",
       "      <td>1</td>\n",
       "      <td>7921.0</td>\n",
       "      <td>0.100000</td>\n",
       "      <td>5</td>\n",
       "      <td>25</td>\n",
       "      <td>North America</td>\n",
       "      <td>Europe</td>\n",
       "      <td>sciences</td>\n",
       "    </tr>\n",
       "  </tbody>\n",
       "</table>\n",
       "</div>"
      ],
      "text/plain": [
       "       num_references   age  sciences  social  spiritual  academia_humanities  \\\n",
       "68449               3  80.0         0       0          0                    0   \n",
       "65669               9  85.0         0       0          0                    0   \n",
       "17568              10  68.0         0       0          0                    0   \n",
       "27856               5  76.0         0       0          0                    0   \n",
       "80                 10  89.0         1       0          0                    0   \n",
       "\n",
       "       business_farming  arts  sports  law_enf_military_operator  \\\n",
       "68449                 0     1       0                          0   \n",
       "65669                 0     1       0                          0   \n",
       "17568                 0     1       0                          0   \n",
       "27856                 0     0       1                          0   \n",
       "80                    0     0       0                          0   \n",
       "\n",
       "       politics_govt_law  crime  num_categories  age_sqrd  \\\n",
       "68449                  0      0               1    6400.0   \n",
       "65669                  0      0               1    7225.0   \n",
       "17568                  0      0               1    4624.0   \n",
       "27856                  0      0               1    5776.0   \n",
       "80                     0      0               1    7921.0   \n",
       "\n",
       "       recip_num_references  years  years_sqrd           region  \\\n",
       "68449              0.333333     24         576           Europe   \n",
       "65669              0.111111     22         484           Europe   \n",
       "17568              0.100000     18         324  South East Asia   \n",
       "27856              0.200000     17         289    North America   \n",
       "80                 0.100000      5          25    North America   \n",
       "\n",
       "          prior_region known_for  \n",
       "68449  No Prior Region      arts  \n",
       "65669  No Prior Region      arts  \n",
       "17568  No Prior Region      arts  \n",
       "27856  No Prior Region    sports  \n",
       "80              Europe  sciences  "
      ]
     },
     "execution_count": 4,
     "metadata": {},
     "output_type": "execute_result"
    },
    {
     "data": {
      "application/javascript": [
       "\n",
       "            setTimeout(function() {\n",
       "                var nbb_cell_id = 4;\n",
       "                var nbb_unformatted_code = \"# Checking a sample of the data\\ndf.sample(5)\";\n",
       "                var nbb_formatted_code = \"# Checking a sample of the data\\ndf.sample(5)\";\n",
       "                var nbb_cells = Jupyter.notebook.get_cells();\n",
       "                for (var i = 0; i < nbb_cells.length; ++i) {\n",
       "                    if (nbb_cells[i].input_prompt_number == nbb_cell_id) {\n",
       "                        if (nbb_cells[i].get_text() == nbb_unformatted_code) {\n",
       "                             nbb_cells[i].set_text(nbb_formatted_code);\n",
       "                        }\n",
       "                        break;\n",
       "                    }\n",
       "                }\n",
       "            }, 500);\n",
       "            "
      ],
      "text/plain": [
       "<IPython.core.display.Javascript object>"
      ]
     },
     "metadata": {},
     "output_type": "display_data"
    }
   ],
   "source": [
    "# Checking a sample of the data\n",
    "df.sample(5)"
   ]
  },
  {
   "cell_type": "markdown",
   "id": "8d5f29da",
   "metadata": {},
   "source": [
    "### Checking Data Types and Null Values"
   ]
  },
  {
   "cell_type": "code",
   "execution_count": 5,
   "id": "bf505f87",
   "metadata": {},
   "outputs": [
    {
     "name": "stdout",
     "output_type": "stream",
     "text": [
      "<class 'pandas.core.frame.DataFrame'>\n",
      "RangeIndex: 77624 entries, 0 to 77623\n",
      "Data columns (total 20 columns):\n",
      " #   Column                     Non-Null Count  Dtype  \n",
      "---  ------                     --------------  -----  \n",
      " 0   num_references             77624 non-null  int64  \n",
      " 1   age                        77624 non-null  float64\n",
      " 2   sciences                   77624 non-null  int64  \n",
      " 3   social                     77624 non-null  int64  \n",
      " 4   spiritual                  77624 non-null  int64  \n",
      " 5   academia_humanities        77624 non-null  int64  \n",
      " 6   business_farming           77624 non-null  int64  \n",
      " 7   arts                       77624 non-null  int64  \n",
      " 8   sports                     77624 non-null  int64  \n",
      " 9   law_enf_military_operator  77624 non-null  int64  \n",
      " 10  politics_govt_law          77624 non-null  int64  \n",
      " 11  crime                      77624 non-null  int64  \n",
      " 12  num_categories             77624 non-null  int64  \n",
      " 13  age_sqrd                   77624 non-null  float64\n",
      " 14  recip_num_references       77624 non-null  float64\n",
      " 15  years                      77624 non-null  int64  \n",
      " 16  years_sqrd                 77624 non-null  int64  \n",
      " 17  region                     77624 non-null  object \n",
      " 18  prior_region               77624 non-null  object \n",
      " 19  known_for                  77624 non-null  object \n",
      "dtypes: float64(3), int64(14), object(3)\n",
      "memory usage: 11.8+ MB\n"
     ]
    },
    {
     "data": {
      "application/javascript": [
       "\n",
       "            setTimeout(function() {\n",
       "                var nbb_cell_id = 5;\n",
       "                var nbb_unformatted_code = \"# Checking data types and null values\\ndf.info()\";\n",
       "                var nbb_formatted_code = \"# Checking data types and null values\\ndf.info()\";\n",
       "                var nbb_cells = Jupyter.notebook.get_cells();\n",
       "                for (var i = 0; i < nbb_cells.length; ++i) {\n",
       "                    if (nbb_cells[i].input_prompt_number == nbb_cell_id) {\n",
       "                        if (nbb_cells[i].get_text() == nbb_unformatted_code) {\n",
       "                             nbb_cells[i].set_text(nbb_formatted_code);\n",
       "                        }\n",
       "                        break;\n",
       "                    }\n",
       "                }\n",
       "            }, 500);\n",
       "            "
      ],
      "text/plain": [
       "<IPython.core.display.Javascript object>"
      ]
     },
     "metadata": {},
     "output_type": "display_data"
    }
   ],
   "source": [
    "# Checking data types and null values\n",
    "df.info()"
   ]
  },
  {
   "cell_type": "markdown",
   "id": "c459d7f8",
   "metadata": {},
   "source": [
    "#### Observations:\n",
    "- With our dataset loaded, we are ready for modeling.\n",
    "- We have three variables that need typcasting from object to category, then one hot encoding just prior to modeling."
   ]
  },
  {
   "cell_type": "markdown",
   "id": "1bdf2565",
   "metadata": {},
   "source": [
    "#### Typecasting `region`, `prior_region`, and `known_for` as Categorical"
   ]
  },
  {
   "cell_type": "code",
   "execution_count": 6,
   "id": "e2aef3f0",
   "metadata": {},
   "outputs": [
    {
     "name": "stdout",
     "output_type": "stream",
     "text": [
      "<class 'pandas.core.frame.DataFrame'>\n",
      "RangeIndex: 77624 entries, 0 to 77623\n",
      "Data columns (total 20 columns):\n",
      " #   Column                     Non-Null Count  Dtype   \n",
      "---  ------                     --------------  -----   \n",
      " 0   num_references             77624 non-null  int64   \n",
      " 1   age                        77624 non-null  float64 \n",
      " 2   sciences                   77624 non-null  int64   \n",
      " 3   social                     77624 non-null  int64   \n",
      " 4   spiritual                  77624 non-null  int64   \n",
      " 5   academia_humanities        77624 non-null  int64   \n",
      " 6   business_farming           77624 non-null  int64   \n",
      " 7   arts                       77624 non-null  int64   \n",
      " 8   sports                     77624 non-null  int64   \n",
      " 9   law_enf_military_operator  77624 non-null  int64   \n",
      " 10  politics_govt_law          77624 non-null  int64   \n",
      " 11  crime                      77624 non-null  int64   \n",
      " 12  num_categories             77624 non-null  int64   \n",
      " 13  age_sqrd                   77624 non-null  float64 \n",
      " 14  recip_num_references       77624 non-null  float64 \n",
      " 15  years                      77624 non-null  int64   \n",
      " 16  years_sqrd                 77624 non-null  int64   \n",
      " 17  region                     77624 non-null  category\n",
      " 18  prior_region               77624 non-null  category\n",
      " 19  known_for                  77624 non-null  category\n",
      "dtypes: category(3), float64(3), int64(14)\n",
      "memory usage: 10.3 MB\n"
     ]
    },
    {
     "data": {
      "application/javascript": [
       "\n",
       "            setTimeout(function() {\n",
       "                var nbb_cell_id = 6;\n",
       "                var nbb_unformatted_code = \"# Typcasting prior_region and region as categorical\\ndf[[\\\"prior_region\\\", \\\"region\\\", \\\"known_for\\\"]] = df[\\n    [\\\"prior_region\\\", \\\"region\\\", \\\"known_for\\\"]\\n].astype(\\\"category\\\")\\n\\n# Re-check info\\ndf.info()\";\n",
       "                var nbb_formatted_code = \"# Typcasting prior_region and region as categorical\\ndf[[\\\"prior_region\\\", \\\"region\\\", \\\"known_for\\\"]] = df[\\n    [\\\"prior_region\\\", \\\"region\\\", \\\"known_for\\\"]\\n].astype(\\\"category\\\")\\n\\n# Re-check info\\ndf.info()\";\n",
       "                var nbb_cells = Jupyter.notebook.get_cells();\n",
       "                for (var i = 0; i < nbb_cells.length; ++i) {\n",
       "                    if (nbb_cells[i].input_prompt_number == nbb_cell_id) {\n",
       "                        if (nbb_cells[i].get_text() == nbb_unformatted_code) {\n",
       "                             nbb_cells[i].set_text(nbb_formatted_code);\n",
       "                        }\n",
       "                        break;\n",
       "                    }\n",
       "                }\n",
       "            }, 500);\n",
       "            "
      ],
      "text/plain": [
       "<IPython.core.display.Javascript object>"
      ]
     },
     "metadata": {},
     "output_type": "display_data"
    }
   ],
   "source": [
    "# Typcasting prior_region and region as categorical\n",
    "df[[\"prior_region\", \"region\", \"known_for\"]] = df[\n",
    "    [\"prior_region\", \"region\", \"known_for\"]\n",
    "].astype(\"category\")\n",
    "\n",
    "# Re-check info\n",
    "df.info()"
   ]
  },
  {
   "cell_type": "markdown",
   "id": "1c1eafaa",
   "metadata": {},
   "source": [
    "## Data Preparation for Modeling\n",
    "In contrast to building the [linear regression model](https://github.com/teresahanak/wikipedia-life-expectancy/blob/main/wp_life_expect_olsmodel_thanak_2022_10_9.ipynb), we will be tuning these models.  So, we will split the train set into train and validation sets and utilize the `test` set only to check out-of-sample performance of the champion model.  We will load and treat the test set at that point."
   ]
  },
  {
   "cell_type": "markdown",
   "id": "aef2eaa0",
   "metadata": {},
   "source": [
    "### Defining Independent and Dependent Variables for Train and Validation Sets"
   ]
  },
  {
   "cell_type": "code",
   "execution_count": 7,
   "id": "71fbe26e",
   "metadata": {},
   "outputs": [
    {
     "name": "stdout",
     "output_type": "stream",
     "text": [
      "There are 54336 rows and 34 columns in the train set.\n",
      "\n",
      "There are 23288 rows and 34 columns in the validation set.\n",
      "\n"
     ]
    },
    {
     "data": {
      "text/html": [
       "<div>\n",
       "<style scoped>\n",
       "    .dataframe tbody tr th:only-of-type {\n",
       "        vertical-align: middle;\n",
       "    }\n",
       "\n",
       "    .dataframe tbody tr th {\n",
       "        vertical-align: top;\n",
       "    }\n",
       "\n",
       "    .dataframe thead th {\n",
       "        text-align: right;\n",
       "    }\n",
       "</style>\n",
       "<table border=\"1\" class=\"dataframe\">\n",
       "  <thead>\n",
       "    <tr style=\"text-align: right;\">\n",
       "      <th></th>\n",
       "      <th>num_references</th>\n",
       "      <th>years</th>\n",
       "      <th>region_Asia</th>\n",
       "      <th>region_Central Asia</th>\n",
       "      <th>region_Europe</th>\n",
       "      <th>region_Mid-Cent America/Caribbean</th>\n",
       "      <th>region_Middle East</th>\n",
       "      <th>region_North America</th>\n",
       "      <th>region_Oceania</th>\n",
       "      <th>region_Russian Federation</th>\n",
       "      <th>region_South America</th>\n",
       "      <th>region_South East Asia</th>\n",
       "      <th>prior_region_Asia</th>\n",
       "      <th>prior_region_Central Asia</th>\n",
       "      <th>prior_region_Europe</th>\n",
       "      <th>prior_region_Mid-Cent America/Caribbean</th>\n",
       "      <th>prior_region_Middle East</th>\n",
       "      <th>prior_region_No Prior Region</th>\n",
       "      <th>prior_region_North America</th>\n",
       "      <th>prior_region_Oceania</th>\n",
       "      <th>prior_region_Russian Federation</th>\n",
       "      <th>prior_region_South America</th>\n",
       "      <th>prior_region_South East Asia</th>\n",
       "      <th>known_for_arts</th>\n",
       "      <th>known_for_business_farming</th>\n",
       "      <th>known_for_crime</th>\n",
       "      <th>known_for_law_enf_military_operator</th>\n",
       "      <th>known_for_politics_govt_law</th>\n",
       "      <th>known_for_sciences</th>\n",
       "      <th>known_for_social</th>\n",
       "      <th>known_for_spiritual</th>\n",
       "      <th>known_for_sports</th>\n",
       "      <th>known_for_three_to_five</th>\n",
       "      <th>known_for_two</th>\n",
       "    </tr>\n",
       "  </thead>\n",
       "  <tbody>\n",
       "    <tr>\n",
       "      <th>76911</th>\n",
       "      <td>3.0</td>\n",
       "      <td>24.0</td>\n",
       "      <td>0.0</td>\n",
       "      <td>0.0</td>\n",
       "      <td>1.0</td>\n",
       "      <td>0.0</td>\n",
       "      <td>0.0</td>\n",
       "      <td>0.0</td>\n",
       "      <td>0.0</td>\n",
       "      <td>0.0</td>\n",
       "      <td>0.0</td>\n",
       "      <td>0.0</td>\n",
       "      <td>0.0</td>\n",
       "      <td>0.0</td>\n",
       "      <td>0.0</td>\n",
       "      <td>0.0</td>\n",
       "      <td>0.0</td>\n",
       "      <td>1.0</td>\n",
       "      <td>0.0</td>\n",
       "      <td>0.0</td>\n",
       "      <td>0.0</td>\n",
       "      <td>0.0</td>\n",
       "      <td>0.0</td>\n",
       "      <td>0.0</td>\n",
       "      <td>0.0</td>\n",
       "      <td>0.0</td>\n",
       "      <td>0.0</td>\n",
       "      <td>0.0</td>\n",
       "      <td>0.0</td>\n",
       "      <td>0.0</td>\n",
       "      <td>0.0</td>\n",
       "      <td>0.0</td>\n",
       "      <td>0.0</td>\n",
       "      <td>1.0</td>\n",
       "    </tr>\n",
       "  </tbody>\n",
       "</table>\n",
       "</div>"
      ],
      "text/plain": [
       "       num_references  years  region_Asia  region_Central Asia  region_Europe  \\\n",
       "76911             3.0   24.0          0.0                  0.0            1.0   \n",
       "\n",
       "       region_Mid-Cent America/Caribbean  region_Middle East  \\\n",
       "76911                                0.0                 0.0   \n",
       "\n",
       "       region_North America  region_Oceania  region_Russian Federation  \\\n",
       "76911                   0.0             0.0                        0.0   \n",
       "\n",
       "       region_South America  region_South East Asia  prior_region_Asia  \\\n",
       "76911                   0.0                     0.0                0.0   \n",
       "\n",
       "       prior_region_Central Asia  prior_region_Europe  \\\n",
       "76911                        0.0                  0.0   \n",
       "\n",
       "       prior_region_Mid-Cent America/Caribbean  prior_region_Middle East  \\\n",
       "76911                                      0.0                       0.0   \n",
       "\n",
       "       prior_region_No Prior Region  prior_region_North America  \\\n",
       "76911                           1.0                         0.0   \n",
       "\n",
       "       prior_region_Oceania  prior_region_Russian Federation  \\\n",
       "76911                   0.0                              0.0   \n",
       "\n",
       "       prior_region_South America  prior_region_South East Asia  \\\n",
       "76911                         0.0                           0.0   \n",
       "\n",
       "       known_for_arts  known_for_business_farming  known_for_crime  \\\n",
       "76911             0.0                         0.0              0.0   \n",
       "\n",
       "       known_for_law_enf_military_operator  known_for_politics_govt_law  \\\n",
       "76911                                  0.0                          0.0   \n",
       "\n",
       "       known_for_sciences  known_for_social  known_for_spiritual  \\\n",
       "76911                 0.0               0.0                  0.0   \n",
       "\n",
       "       known_for_sports  known_for_three_to_five  known_for_two  \n",
       "76911               0.0                      0.0            1.0  "
      ]
     },
     "execution_count": 7,
     "metadata": {},
     "output_type": "execute_result"
    },
    {
     "data": {
      "application/javascript": [
       "\n",
       "            setTimeout(function() {\n",
       "                var nbb_cell_id = 7;\n",
       "                var nbb_unformatted_code = \"# Creating list of predictor columns\\npredictor_cols = [\\n    \\\"num_references\\\",\\n    \\\"years\\\",\\n    \\\"region\\\",\\n    \\\"prior_region\\\",\\n    \\\"known_for\\\",\\n]\\n\\n# Defining target column\\ntarget = \\\"age\\\"\\n\\n# Defining independent and dependent variables\\nX = df[predictor_cols]\\ny = df[target]\\n\\n# One hot encoding of categorical predictors and typecasting all predictors as float\\nX = pd.get_dummies(X, drop_first=True).astype(\\\"float64\\\")\\n\\n# Splitting into 70:30 train and validation sets\\nX_train, X_val, y_train, y_val = train_test_split(X, y, test_size=0.3, random_state=42)\\n\\n# Checking shape of train and validation sets\\nprint(\\n    f\\\"There are {X_train.shape[0]} rows and {X_train.shape[1]} columns in the train set.\\\\n\\\"\\n)\\nprint(\\n    f\\\"There are {X_val.shape[0]} rows and {X_val.shape[1]} columns in the validation set.\\\\n\\\"\\n)\\n\\n# Checking a sample\\nX_train.sample()\";\n",
       "                var nbb_formatted_code = \"# Creating list of predictor columns\\npredictor_cols = [\\n    \\\"num_references\\\",\\n    \\\"years\\\",\\n    \\\"region\\\",\\n    \\\"prior_region\\\",\\n    \\\"known_for\\\",\\n]\\n\\n# Defining target column\\ntarget = \\\"age\\\"\\n\\n# Defining independent and dependent variables\\nX = df[predictor_cols]\\ny = df[target]\\n\\n# One hot encoding of categorical predictors and typecasting all predictors as float\\nX = pd.get_dummies(X, drop_first=True).astype(\\\"float64\\\")\\n\\n# Splitting into 70:30 train and validation sets\\nX_train, X_val, y_train, y_val = train_test_split(X, y, test_size=0.3, random_state=42)\\n\\n# Checking shape of train and validation sets\\nprint(\\n    f\\\"There are {X_train.shape[0]} rows and {X_train.shape[1]} columns in the train set.\\\\n\\\"\\n)\\nprint(\\n    f\\\"There are {X_val.shape[0]} rows and {X_val.shape[1]} columns in the validation set.\\\\n\\\"\\n)\\n\\n# Checking a sample\\nX_train.sample()\";\n",
       "                var nbb_cells = Jupyter.notebook.get_cells();\n",
       "                for (var i = 0; i < nbb_cells.length; ++i) {\n",
       "                    if (nbb_cells[i].input_prompt_number == nbb_cell_id) {\n",
       "                        if (nbb_cells[i].get_text() == nbb_unformatted_code) {\n",
       "                             nbb_cells[i].set_text(nbb_formatted_code);\n",
       "                        }\n",
       "                        break;\n",
       "                    }\n",
       "                }\n",
       "            }, 500);\n",
       "            "
      ],
      "text/plain": [
       "<IPython.core.display.Javascript object>"
      ]
     },
     "metadata": {},
     "output_type": "display_data"
    }
   ],
   "source": [
    "# Creating list of predictor columns\n",
    "predictor_cols = [\n",
    "    \"num_references\",\n",
    "    \"years\",\n",
    "    \"region\",\n",
    "    \"prior_region\",\n",
    "    \"known_for\",\n",
    "]\n",
    "\n",
    "# Defining target column\n",
    "target = \"age\"\n",
    "\n",
    "# Defining independent and dependent variables\n",
    "X = df[predictor_cols]\n",
    "y = df[target]\n",
    "\n",
    "# One hot encoding of categorical predictors and typecasting all predictors as float\n",
    "X = pd.get_dummies(X, drop_first=True).astype(\"float64\")\n",
    "\n",
    "# Splitting into 70:30 train and validation sets\n",
    "X_train, X_val, y_train, y_val = train_test_split(X, y, test_size=0.3, random_state=42)\n",
    "\n",
    "# Checking shape of train and validation sets\n",
    "print(\n",
    "    f\"There are {X_train.shape[0]} rows and {X_train.shape[1]} columns in the train set.\\n\"\n",
    ")\n",
    "print(\n",
    "    f\"There are {X_val.shape[0]} rows and {X_val.shape[1]} columns in the validation set.\\n\"\n",
    ")\n",
    "\n",
    "# Checking a sample\n",
    "X_train.sample()"
   ]
  },
  {
   "cell_type": "markdown",
   "id": "318bcc3d",
   "metadata": {},
   "source": [
    "## Model Building\n",
    "#### Model Evaluation Criterion\n",
    "The predictions made by the regressors will have the following performance metrics:\n",
    "- RMSE\n",
    "- MAE\n",
    "- R$^2$\n",
    "- Ajusted R$^2$\n",
    "- MAPE\n",
    "\n",
    "#### Which Metric to Optimize?\n",
    "- For hyperparameter tuning, we will optimize R$^2$, which is the proportion of variation in the target that is explained by the predictors.  \n",
    "- Adjusted R$^2$ is the metric that represents the amount of variation in the target that is explained by the predictors, with a penalty for more predictors.  R$^2$ will improve with the addition of predictors, even if they contribute very little to the model, whereas, the penalty in Adjusted R$^2$ offsets such an increase.  \n",
    "- We will most likely choose a champion model based on direct comparison of R$^2$, as the models will have the same features included, with the exception of a decision tree regressor.  If decision tree does become a candidate, we will consider Adjusted R$^2$."
   ]
  },
  {
   "cell_type": "markdown",
   "id": "5bdb1386",
   "metadata": {},
   "source": [
    "#### Functions for Checking and Tuning Model Performance"
   ]
  },
  {
   "cell_type": "code",
   "execution_count": 8,
   "id": "e40e3f27",
   "metadata": {},
   "outputs": [
    {
     "data": {
      "application/javascript": [
       "\n",
       "            setTimeout(function() {\n",
       "                var nbb_cell_id = 8;\n",
       "                var nbb_unformatted_code = \"# Function to compute adjusted R-squared\\ndef adj_r2_score(predictors, targets, predictions):\\n    r2 = r2_score(targets, predictions)\\n    n = predictors.shape[0]\\n    k = predictors.shape[1]\\n    return 1 - ((1 - r2) * (n - 1) / (n - k - 1))\\n\\n\\n# Function to compute MAPE\\ndef mape_score(targets, predictions):\\n    return np.mean(np.abs((targets - predictions) / targets)) * 100\\n\\n\\n# Function to compute and display different metrics to check performance of a regression model\\ndef model_performance_regression(model, predictors, target):\\n    \\\"\\\"\\\"\\n    Function to compute and return a dataframe of different metrics to check\\n    regression model performance\\n    \\n    model: regressor\\n    predictors: independent variables\\n    target: dependent variable\\n    \\\"\\\"\\\"\\n    # Predictions\\n    pred = model.predict(predictors)\\n\\n    r2 = r2_score(target, pred)  # To compute R-squared\\n    adjr2 = adj_r2_score(predictors, target, pred)  # To compute adjusted R-squared\\n    rmse = np.sqrt(mean_squared_error(target, pred))  # To compute RMSE\\n    mae = mean_absolute_error(target, pred)  # To compute MAE\\n    mape = mape_score(target, pred)  # To compute MAPE\\n\\n    # Creating a dataframe of metrics\\n    df_perf = pd.DataFrame(\\n        {\\n            \\\"RMSE\\\": rmse,\\n            \\\"MAE\\\": mae,\\n            \\\"R-squared\\\": r2,\\n            \\\"Adj. R-squared\\\": adjr2,\\n            \\\"MAPE\\\": mape,\\n        },\\n        index=[0],\\n    )\\n\\n    return df_perf\";\n",
       "                var nbb_formatted_code = \"# Function to compute adjusted R-squared\\ndef adj_r2_score(predictors, targets, predictions):\\n    r2 = r2_score(targets, predictions)\\n    n = predictors.shape[0]\\n    k = predictors.shape[1]\\n    return 1 - ((1 - r2) * (n - 1) / (n - k - 1))\\n\\n\\n# Function to compute MAPE\\ndef mape_score(targets, predictions):\\n    return np.mean(np.abs((targets - predictions) / targets)) * 100\\n\\n\\n# Function to compute and display different metrics to check performance of a regression model\\ndef model_performance_regression(model, predictors, target):\\n    \\\"\\\"\\\"\\n    Function to compute and return a dataframe of different metrics to check\\n    regression model performance\\n    \\n    model: regressor\\n    predictors: independent variables\\n    target: dependent variable\\n    \\\"\\\"\\\"\\n    # Predictions\\n    pred = model.predict(predictors)\\n\\n    r2 = r2_score(target, pred)  # To compute R-squared\\n    adjr2 = adj_r2_score(predictors, target, pred)  # To compute adjusted R-squared\\n    rmse = np.sqrt(mean_squared_error(target, pred))  # To compute RMSE\\n    mae = mean_absolute_error(target, pred)  # To compute MAE\\n    mape = mape_score(target, pred)  # To compute MAPE\\n\\n    # Creating a dataframe of metrics\\n    df_perf = pd.DataFrame(\\n        {\\n            \\\"RMSE\\\": rmse,\\n            \\\"MAE\\\": mae,\\n            \\\"R-squared\\\": r2,\\n            \\\"Adj. R-squared\\\": adjr2,\\n            \\\"MAPE\\\": mape,\\n        },\\n        index=[0],\\n    )\\n\\n    return df_perf\";\n",
       "                var nbb_cells = Jupyter.notebook.get_cells();\n",
       "                for (var i = 0; i < nbb_cells.length; ++i) {\n",
       "                    if (nbb_cells[i].input_prompt_number == nbb_cell_id) {\n",
       "                        if (nbb_cells[i].get_text() == nbb_unformatted_code) {\n",
       "                             nbb_cells[i].set_text(nbb_formatted_code);\n",
       "                        }\n",
       "                        break;\n",
       "                    }\n",
       "                }\n",
       "            }, 500);\n",
       "            "
      ],
      "text/plain": [
       "<IPython.core.display.Javascript object>"
      ]
     },
     "metadata": {},
     "output_type": "display_data"
    }
   ],
   "source": [
    "# Function to compute adjusted R-squared\n",
    "def adj_r2_score(predictors, targets, predictions):\n",
    "    r2 = r2_score(targets, predictions)\n",
    "    n = predictors.shape[0]\n",
    "    k = predictors.shape[1]\n",
    "    return 1 - ((1 - r2) * (n - 1) / (n - k - 1))\n",
    "\n",
    "\n",
    "# Function to compute MAPE\n",
    "def mape_score(targets, predictions):\n",
    "    return np.mean(np.abs((targets - predictions) / targets)) * 100\n",
    "\n",
    "\n",
    "# Function to compute and display different metrics to check performance of a regression model\n",
    "def model_performance_regression(model, predictors, target):\n",
    "    \"\"\"\n",
    "    Function to compute and return a dataframe of different metrics to check\n",
    "    regression model performance\n",
    "    \n",
    "    model: regressor\n",
    "    predictors: independent variables\n",
    "    target: dependent variable\n",
    "    \"\"\"\n",
    "    # Predictions\n",
    "    pred = model.predict(predictors)\n",
    "\n",
    "    r2 = r2_score(target, pred)  # To compute R-squared\n",
    "    adjr2 = adj_r2_score(predictors, target, pred)  # To compute adjusted R-squared\n",
    "    rmse = np.sqrt(mean_squared_error(target, pred))  # To compute RMSE\n",
    "    mae = mean_absolute_error(target, pred)  # To compute MAE\n",
    "    mape = mape_score(target, pred)  # To compute MAPE\n",
    "\n",
    "    # Creating a dataframe of metrics\n",
    "    df_perf = pd.DataFrame(\n",
    "        {\n",
    "            \"RMSE\": rmse,\n",
    "            \"MAE\": mae,\n",
    "            \"R-squared\": r2,\n",
    "            \"Adj. R-squared\": adjr2,\n",
    "            \"MAPE\": mape,\n",
    "        },\n",
    "        index=[0],\n",
    "    )\n",
    "\n",
    "    return df_perf"
   ]
  },
  {
   "cell_type": "markdown",
   "id": "2cc98943",
   "metadata": {},
   "source": [
    "#### Defining Scorer for Cross-validation and Hyperparameter Tuning"
   ]
  },
  {
   "cell_type": "code",
   "execution_count": 9,
   "id": "ea396d00",
   "metadata": {},
   "outputs": [
    {
     "data": {
      "application/javascript": [
       "\n",
       "            setTimeout(function() {\n",
       "                var nbb_cell_id = 9;\n",
       "                var nbb_unformatted_code = \"# Type of scoring used to compare parameter combinations--maximizing Adj R-squared\\nscorer = \\\"r2\\\"\";\n",
       "                var nbb_formatted_code = \"# Type of scoring used to compare parameter combinations--maximizing Adj R-squared\\nscorer = \\\"r2\\\"\";\n",
       "                var nbb_cells = Jupyter.notebook.get_cells();\n",
       "                for (var i = 0; i < nbb_cells.length; ++i) {\n",
       "                    if (nbb_cells[i].input_prompt_number == nbb_cell_id) {\n",
       "                        if (nbb_cells[i].get_text() == nbb_unformatted_code) {\n",
       "                             nbb_cells[i].set_text(nbb_formatted_code);\n",
       "                        }\n",
       "                        break;\n",
       "                    }\n",
       "                }\n",
       "            }, 500);\n",
       "            "
      ],
      "text/plain": [
       "<IPython.core.display.Javascript object>"
      ]
     },
     "metadata": {},
     "output_type": "display_data"
    }
   ],
   "source": [
    "# Type of scoring used to compare parameter combinations--maximizing Adj R-squared\n",
    "scorer = \"r2\""
   ]
  },
  {
   "cell_type": "markdown",
   "id": "ef465812",
   "metadata": {},
   "source": [
    "### Building the Models"
   ]
  },
  {
   "cell_type": "code",
   "execution_count": 10,
   "id": "294e79f4",
   "metadata": {},
   "outputs": [
    {
     "name": "stdout",
     "output_type": "stream",
     "text": [
      "\n",
      "Cross-Validation:\n",
      "\n",
      "Dtree: -0.3729288388785845\n",
      "Random Forest: -0.06498999161620542\n",
      "Bagging Dtree: -0.09780574269930184\n",
      "GBM: 0.10092407348408765\n",
      "AdaBoost Dtree: -0.041942386214516916\n",
      "XGB_gbtree: 0.08816799208071073\n",
      "XGB_gblinear: 0.08304470514611988\n",
      "\n",
      "Validation Performance:\n",
      "\n",
      "Dtree: -0.3725798827812159\n",
      "Random Forest: -0.06593088660036917\n",
      "Bagging Dtree: -0.09925861808350978\n",
      "GBM: 0.10355465508610728\n",
      "AdaBoost Dtree: -0.05608653156428711\n",
      "XGB_gbtree: 0.09146574210948322\n",
      "XGB_gblinear: 0.08707144033391556\n",
      "CPU times: total: 3min 9s\n",
      "Wall time: 1min 9s\n"
     ]
    },
    {
     "data": {
      "application/javascript": [
       "\n",
       "            setTimeout(function() {\n",
       "                var nbb_cell_id = 10;\n",
       "                var nbb_unformatted_code = \"%%time\\n\\n# Creating list to store the models\\nmodels = []\\n\\n# Appending models to the list\\nmodels.append(('Dtree', DecisionTreeRegressor(random_state=42)))\\n\\nmodels.append(('Random Forest', RandomForestRegressor(random_state=42)))\\n\\nmodels.append(('Bagging Dtree', BaggingRegressor(random_state=42)))\\n\\nmodels.append(('GBM', GradientBoostingRegressor(random_state=42)))\\n\\nmodels.append(('AdaBoost Dtree', AdaBoostRegressor(random_state=42)))\\n\\nmodels.append(('XGB_gbtree', XGBRegressor(random_state=42)))\\n\\nmodels.append(('XGB_gblinear', XGBRegressor(random_state=42, booster='gblinear')))\\n\\n# Create empty list to store all model's names and CV scores\\nnames = []\\nresults = []\\n\\n# Loop through all models to get the mean cross validated score\\nprint(\\\"\\\\n\\\" \\\"Cross-Validation:\\\" \\\"\\\\n\\\")\\n\\nfor name, model in models:\\n    cv_result = cross_val_score(\\n        estimator=model, X=X_train, y=y_train, scoring=scorer, cv=5\\n    )\\n    results.append(cv_result)\\n    names.append(name)\\n    print(f\\\"{name}: {cv_result.mean()}\\\")\\n    \\nprint(\\\"\\\\n\\\" \\\"Validation Performance:\\\" \\\"\\\\n\\\")\\n\\nfor name, model in models:\\n    model.fit(X_train, y_train)\\n    scores = r2_score(y_val, model.predict(X_val))\\n    print(\\\"{}: {}\\\".format(name, scores))\";\n",
       "                var nbb_formatted_code = \"%%time\\n\\n# Creating list to store the models\\nmodels = []\\n\\n# Appending models to the list\\nmodels.append(('Dtree', DecisionTreeRegressor(random_state=42)))\\n\\nmodels.append(('Random Forest', RandomForestRegressor(random_state=42)))\\n\\nmodels.append(('Bagging Dtree', BaggingRegressor(random_state=42)))\\n\\nmodels.append(('GBM', GradientBoostingRegressor(random_state=42)))\\n\\nmodels.append(('AdaBoost Dtree', AdaBoostRegressor(random_state=42)))\\n\\nmodels.append(('XGB_gbtree', XGBRegressor(random_state=42)))\\n\\nmodels.append(('XGB_gblinear', XGBRegressor(random_state=42, booster='gblinear')))\\n\\n# Create empty list to store all model's names and CV scores\\nnames = []\\nresults = []\\n\\n# Loop through all models to get the mean cross validated score\\nprint(\\\"\\\\n\\\" \\\"Cross-Validation:\\\" \\\"\\\\n\\\")\\n\\nfor name, model in models:\\n    cv_result = cross_val_score(\\n        estimator=model, X=X_train, y=y_train, scoring=scorer, cv=5\\n    )\\n    results.append(cv_result)\\n    names.append(name)\\n    print(f\\\"{name}: {cv_result.mean()}\\\")\\n    \\nprint(\\\"\\\\n\\\" \\\"Validation Performance:\\\" \\\"\\\\n\\\")\\n\\nfor name, model in models:\\n    model.fit(X_train, y_train)\\n    scores = r2_score(y_val, model.predict(X_val))\\n    print(\\\"{}: {}\\\".format(name, scores))\";\n",
       "                var nbb_cells = Jupyter.notebook.get_cells();\n",
       "                for (var i = 0; i < nbb_cells.length; ++i) {\n",
       "                    if (nbb_cells[i].input_prompt_number == nbb_cell_id) {\n",
       "                        if (nbb_cells[i].get_text() == nbb_unformatted_code) {\n",
       "                             nbb_cells[i].set_text(nbb_formatted_code);\n",
       "                        }\n",
       "                        break;\n",
       "                    }\n",
       "                }\n",
       "            }, 500);\n",
       "            "
      ],
      "text/plain": [
       "<IPython.core.display.Javascript object>"
      ]
     },
     "metadata": {},
     "output_type": "display_data"
    }
   ],
   "source": [
    "%%time\n",
    "\n",
    "# Creating list to store the models\n",
    "models = []\n",
    "\n",
    "# Appending models to the list\n",
    "models.append(('Dtree', DecisionTreeRegressor(random_state=42)))\n",
    "\n",
    "models.append(('Random Forest', RandomForestRegressor(random_state=42)))\n",
    "\n",
    "models.append(('Bagging Dtree', BaggingRegressor(random_state=42)))\n",
    "\n",
    "models.append(('GBM', GradientBoostingRegressor(random_state=42)))\n",
    "\n",
    "models.append(('AdaBoost Dtree', AdaBoostRegressor(random_state=42)))\n",
    "\n",
    "models.append(('XGB_gbtree', XGBRegressor(random_state=42)))\n",
    "\n",
    "models.append(('XGB_gblinear', XGBRegressor(random_state=42, booster='gblinear')))\n",
    "\n",
    "# Create empty list to store all model's names and CV scores\n",
    "names = []\n",
    "results = []\n",
    "\n",
    "# Loop through all models to get the mean cross validated score\n",
    "print(\"\\n\" \"Cross-Validation:\" \"\\n\")\n",
    "\n",
    "for name, model in models:\n",
    "    cv_result = cross_val_score(\n",
    "        estimator=model, X=X_train, y=y_train, scoring=scorer, cv=5\n",
    "    )\n",
    "    results.append(cv_result)\n",
    "    names.append(name)\n",
    "    print(f\"{name}: {cv_result.mean()}\")\n",
    "    \n",
    "print(\"\\n\" \"Validation Performance:\" \"\\n\")\n",
    "\n",
    "for name, model in models:\n",
    "    model.fit(X_train, y_train)\n",
    "    scores = r2_score(y_val, model.predict(X_val))\n",
    "    print(\"{}: {}\".format(name, scores))"
   ]
  },
  {
   "cell_type": "code",
   "execution_count": 11,
   "id": "2f009f68",
   "metadata": {},
   "outputs": [
    {
     "data": {
      "image/png": "[encoded data removed]",
      "text/plain": [
       "<Figure size 1440x504 with 1 Axes>"
      ]
     },
     "metadata": {},
     "output_type": "display_data"
    },
    {
     "data": {
      "application/javascript": [
       "\n",
       "            setTimeout(function() {\n",
       "                var nbb_cell_id = 11;\n",
       "                var nbb_unformatted_code = \"# Plotting boxplots for CV scores of all models defined above\\nfig = plt.figure(figsize=(20, 7))\\n\\nfig.suptitle(\\\"Algorithm Comparison for Cross-validation R-squared Score\\\")\\nax = fig.add_subplot(111)\\n\\nplt.boxplot(results)\\nax.set_xticklabels(names)\\nplt.xticks(rotation=30)\\n\\nplt.show()\";\n",
       "                var nbb_formatted_code = \"# Plotting boxplots for CV scores of all models defined above\\nfig = plt.figure(figsize=(20, 7))\\n\\nfig.suptitle(\\\"Algorithm Comparison for Cross-validation R-squared Score\\\")\\nax = fig.add_subplot(111)\\n\\nplt.boxplot(results)\\nax.set_xticklabels(names)\\nplt.xticks(rotation=30)\\n\\nplt.show()\";\n",
       "                var nbb_cells = Jupyter.notebook.get_cells();\n",
       "                for (var i = 0; i < nbb_cells.length; ++i) {\n",
       "                    if (nbb_cells[i].input_prompt_number == nbb_cell_id) {\n",
       "                        if (nbb_cells[i].get_text() == nbb_unformatted_code) {\n",
       "                             nbb_cells[i].set_text(nbb_formatted_code);\n",
       "                        }\n",
       "                        break;\n",
       "                    }\n",
       "                }\n",
       "            }, 500);\n",
       "            "
      ],
      "text/plain": [
       "<IPython.core.display.Javascript object>"
      ]
     },
     "metadata": {},
     "output_type": "display_data"
    }
   ],
   "source": [
    "# Plotting boxplots for CV scores of all models defined above\n",
    "fig = plt.figure(figsize=(20, 7))\n",
    "\n",
    "fig.suptitle(\"Algorithm Comparison for Cross-validation R-squared Score\")\n",
    "ax = fig.add_subplot(111)\n",
    "\n",
    "plt.boxplot(results)\n",
    "ax.set_xticklabels(names)\n",
    "plt.xticks(rotation=30)\n",
    "\n",
    "plt.show()"
   ]
  },
  {
   "cell_type": "markdown",
   "id": "31587e35",
   "metadata": {},
   "source": [
    "#### Observations:\n",
    "- We have negative R$^2$ values for four of the models.  This means they are performing worse than a model that merely equates the predicted values to the constant mean value of the target.\n",
    "- The remaining three models, *GBM*, *XGB_gbtree*, and *XGB_gblinear* are giving generalized performances on train and validation sets, with similar, albeit very low, R$^2$ scores as [*olsmodel3*](https://github.com/teresahanak/wikipedia-life-expectancy/blob/main/wp_life_expect_olsmodel_thanak_2022_10_9.ipynb) (0.088).  Before hyperparameter tuning, *GBM* is outperforming the other models, including *olsmodel3*, with both train and validation R$^2$ scores of ~0.10.\n",
    "- We will perform hyperparameter tuning on the top 3 models.  As an exercise, we will also keep *Random Forest* in the mix."
   ]
  },
  {
   "cell_type": "markdown",
   "id": "e70e8a88",
   "metadata": {},
   "source": [
    "#### Collecting Models with Best Performance"
   ]
  },
  {
   "cell_type": "code",
   "execution_count": 12,
   "id": "d7591d99",
   "metadata": {},
   "outputs": [
    {
     "data": {
      "application/javascript": [
       "\n",
       "            setTimeout(function() {\n",
       "                var nbb_cell_id = 12;\n",
       "                var nbb_unformatted_code = \"# List of top models so far\\ntop_models = [models[1]] + [models[3]] + models[-2:]\";\n",
       "                var nbb_formatted_code = \"# List of top models so far\\ntop_models = [models[1]] + [models[3]] + models[-2:]\";\n",
       "                var nbb_cells = Jupyter.notebook.get_cells();\n",
       "                for (var i = 0; i < nbb_cells.length; ++i) {\n",
       "                    if (nbb_cells[i].input_prompt_number == nbb_cell_id) {\n",
       "                        if (nbb_cells[i].get_text() == nbb_unformatted_code) {\n",
       "                             nbb_cells[i].set_text(nbb_formatted_code);\n",
       "                        }\n",
       "                        break;\n",
       "                    }\n",
       "                }\n",
       "            }, 500);\n",
       "            "
      ],
      "text/plain": [
       "<IPython.core.display.Javascript object>"
      ]
     },
     "metadata": {},
     "output_type": "display_data"
    }
   ],
   "source": [
    "# List of top models so far\n",
    "top_models = [models[1]] + [models[3]] + models[-2:]"
   ]
  },
  {
   "cell_type": "markdown",
   "id": "a93e521f",
   "metadata": {},
   "source": [
    "#### Creating Dataframes to Compare Training and Validation Performance of Best Models"
   ]
  },
  {
   "cell_type": "code",
   "execution_count": 13,
   "id": "4d39e401",
   "metadata": {},
   "outputs": [
    {
     "data": {
      "application/javascript": [
       "\n",
       "            setTimeout(function() {\n",
       "                var nbb_cell_id = 13;\n",
       "                var nbb_unformatted_code = \"# Creating empty dictionary to hold the models\\nmodels_to_tune = {}\\n\\n# For loop to add models to dictionary\\nfor model in top_models:\\n    key = model[0]\\n    value = model[1]\\n    models_to_tune[key] = value\\n\\n# Initializing dataframes to compare performance of all models\\nmodels_train_comp_df = pd.DataFrame()\\nmodels_val_comp_df = pd.DataFrame()\\n\\n# For loop to add performance results of each top model\\nfor name, model in models_to_tune.items():\\n    models_train_comp_df[name] = model_performance_regression(model, X_train, y_train).T\\n    models_val_comp_df[name] = model_performance_regression(model, X_val, y_val).T\";\n",
       "                var nbb_formatted_code = \"# Creating empty dictionary to hold the models\\nmodels_to_tune = {}\\n\\n# For loop to add models to dictionary\\nfor model in top_models:\\n    key = model[0]\\n    value = model[1]\\n    models_to_tune[key] = value\\n\\n# Initializing dataframes to compare performance of all models\\nmodels_train_comp_df = pd.DataFrame()\\nmodels_val_comp_df = pd.DataFrame()\\n\\n# For loop to add performance results of each top model\\nfor name, model in models_to_tune.items():\\n    models_train_comp_df[name] = model_performance_regression(model, X_train, y_train).T\\n    models_val_comp_df[name] = model_performance_regression(model, X_val, y_val).T\";\n",
       "                var nbb_cells = Jupyter.notebook.get_cells();\n",
       "                for (var i = 0; i < nbb_cells.length; ++i) {\n",
       "                    if (nbb_cells[i].input_prompt_number == nbb_cell_id) {\n",
       "                        if (nbb_cells[i].get_text() == nbb_unformatted_code) {\n",
       "                             nbb_cells[i].set_text(nbb_formatted_code);\n",
       "                        }\n",
       "                        break;\n",
       "                    }\n",
       "                }\n",
       "            }, 500);\n",
       "            "
      ],
      "text/plain": [
       "<IPython.core.display.Javascript object>"
      ]
     },
     "metadata": {},
     "output_type": "display_data"
    }
   ],
   "source": [
    "# Creating empty dictionary to hold the models\n",
    "models_to_tune = {}\n",
    "\n",
    "# For loop to add models to dictionary\n",
    "for model in top_models:\n",
    "    key = model[0]\n",
    "    value = model[1]\n",
    "    models_to_tune[key] = value\n",
    "\n",
    "# Initializing dataframes to compare performance of all models\n",
    "models_train_comp_df = pd.DataFrame()\n",
    "models_val_comp_df = pd.DataFrame()\n",
    "\n",
    "# For loop to add performance results of each top model\n",
    "for name, model in models_to_tune.items():\n",
    "    models_train_comp_df[name] = model_performance_regression(model, X_train, y_train).T\n",
    "    models_val_comp_df[name] = model_performance_regression(model, X_val, y_val).T"
   ]
  },
  {
   "cell_type": "markdown",
   "id": "f9b06410",
   "metadata": {},
   "source": [
    "#### Comparing Top Models Before Hyperparameter Tuning"
   ]
  },
  {
   "cell_type": "code",
   "execution_count": 14,
   "id": "d7bcfe83",
   "metadata": {},
   "outputs": [
    {
     "name": "stdout",
     "output_type": "stream",
     "text": [
      "Training Performance:\n"
     ]
    },
    {
     "data": {
      "text/html": [
       "<div>\n",
       "<style scoped>\n",
       "    .dataframe tbody tr th:only-of-type {\n",
       "        vertical-align: middle;\n",
       "    }\n",
       "\n",
       "    .dataframe tbody tr th {\n",
       "        vertical-align: top;\n",
       "    }\n",
       "\n",
       "    .dataframe thead th {\n",
       "        text-align: right;\n",
       "    }\n",
       "</style>\n",
       "<table border=\"1\" class=\"dataframe\">\n",
       "  <thead>\n",
       "    <tr style=\"text-align: right;\">\n",
       "      <th></th>\n",
       "      <th>Random Forest</th>\n",
       "      <th>GBM</th>\n",
       "      <th>XGB_gbtree</th>\n",
       "      <th>XGB_gblinear</th>\n",
       "    </tr>\n",
       "  </thead>\n",
       "  <tbody>\n",
       "    <tr>\n",
       "      <th>RMSE</th>\n",
       "      <td>11.686697</td>\n",
       "      <td>14.971421</td>\n",
       "      <td>14.237993</td>\n",
       "      <td>15.176245</td>\n",
       "    </tr>\n",
       "    <tr>\n",
       "      <th>MAE</th>\n",
       "      <td>8.736482</td>\n",
       "      <td>11.627512</td>\n",
       "      <td>11.034927</td>\n",
       "      <td>11.786491</td>\n",
       "    </tr>\n",
       "    <tr>\n",
       "      <th>R-squared</th>\n",
       "      <td>0.456950</td>\n",
       "      <td>0.108786</td>\n",
       "      <td>0.193965</td>\n",
       "      <td>0.084233</td>\n",
       "    </tr>\n",
       "    <tr>\n",
       "      <th>Adj. R-squared</th>\n",
       "      <td>0.456610</td>\n",
       "      <td>0.108228</td>\n",
       "      <td>0.193461</td>\n",
       "      <td>0.083660</td>\n",
       "    </tr>\n",
       "    <tr>\n",
       "      <th>MAPE</th>\n",
       "      <td>13.944396</td>\n",
       "      <td>19.221156</td>\n",
       "      <td>18.032207</td>\n",
       "      <td>19.426525</td>\n",
       "    </tr>\n",
       "  </tbody>\n",
       "</table>\n",
       "</div>"
      ],
      "text/plain": [
       "                Random Forest        GBM  XGB_gbtree  XGB_gblinear\n",
       "RMSE                11.686697  14.971421   14.237993     15.176245\n",
       "MAE                  8.736482  11.627512   11.034927     11.786491\n",
       "R-squared            0.456950   0.108786    0.193965      0.084233\n",
       "Adj. R-squared       0.456610   0.108228    0.193461      0.083660\n",
       "MAPE                13.944396  19.221156   18.032207     19.426525"
      ]
     },
     "execution_count": 14,
     "metadata": {},
     "output_type": "execute_result"
    },
    {
     "data": {
      "application/javascript": [
       "\n",
       "            setTimeout(function() {\n",
       "                var nbb_cell_id = 14;\n",
       "                var nbb_unformatted_code = \"# Comparing train performance\\nprint(f\\\"Training Performance:\\\")\\nmodels_train_comp_df\";\n",
       "                var nbb_formatted_code = \"# Comparing train performance\\nprint(f\\\"Training Performance:\\\")\\nmodels_train_comp_df\";\n",
       "                var nbb_cells = Jupyter.notebook.get_cells();\n",
       "                for (var i = 0; i < nbb_cells.length; ++i) {\n",
       "                    if (nbb_cells[i].input_prompt_number == nbb_cell_id) {\n",
       "                        if (nbb_cells[i].get_text() == nbb_unformatted_code) {\n",
       "                             nbb_cells[i].set_text(nbb_formatted_code);\n",
       "                        }\n",
       "                        break;\n",
       "                    }\n",
       "                }\n",
       "            }, 500);\n",
       "            "
      ],
      "text/plain": [
       "<IPython.core.display.Javascript object>"
      ]
     },
     "metadata": {},
     "output_type": "display_data"
    }
   ],
   "source": [
    "# Comparing train performance\n",
    "print(f\"Training Performance:\")\n",
    "models_train_comp_df"
   ]
  },
  {
   "cell_type": "code",
   "execution_count": 15,
   "id": "a67f0163",
   "metadata": {},
   "outputs": [
    {
     "name": "stdout",
     "output_type": "stream",
     "text": [
      "Validation Performance:\n"
     ]
    },
    {
     "data": {
      "text/html": [
       "<div>\n",
       "<style scoped>\n",
       "    .dataframe tbody tr th:only-of-type {\n",
       "        vertical-align: middle;\n",
       "    }\n",
       "\n",
       "    .dataframe tbody tr th {\n",
       "        vertical-align: top;\n",
       "    }\n",
       "\n",
       "    .dataframe thead th {\n",
       "        text-align: right;\n",
       "    }\n",
       "</style>\n",
       "<table border=\"1\" class=\"dataframe\">\n",
       "  <thead>\n",
       "    <tr style=\"text-align: right;\">\n",
       "      <th></th>\n",
       "      <th>Random Forest</th>\n",
       "      <th>GBM</th>\n",
       "      <th>XGB_gbtree</th>\n",
       "      <th>XGB_gblinear</th>\n",
       "    </tr>\n",
       "  </thead>\n",
       "  <tbody>\n",
       "    <tr>\n",
       "      <th>RMSE</th>\n",
       "      <td>16.271584</td>\n",
       "      <td>14.922006</td>\n",
       "      <td>15.022284</td>\n",
       "      <td>15.058569</td>\n",
       "    </tr>\n",
       "    <tr>\n",
       "      <th>MAE</th>\n",
       "      <td>12.558769</td>\n",
       "      <td>11.580272</td>\n",
       "      <td>11.632590</td>\n",
       "      <td>11.698609</td>\n",
       "    </tr>\n",
       "    <tr>\n",
       "      <th>R-squared</th>\n",
       "      <td>-0.065931</td>\n",
       "      <td>0.103555</td>\n",
       "      <td>0.091466</td>\n",
       "      <td>0.087071</td>\n",
       "    </tr>\n",
       "    <tr>\n",
       "      <th>Adj. R-squared</th>\n",
       "      <td>-0.067489</td>\n",
       "      <td>0.102244</td>\n",
       "      <td>0.090137</td>\n",
       "      <td>0.085737</td>\n",
       "    </tr>\n",
       "    <tr>\n",
       "      <th>MAPE</th>\n",
       "      <td>20.193462</td>\n",
       "      <td>19.051063</td>\n",
       "      <td>19.008358</td>\n",
       "      <td>19.182797</td>\n",
       "    </tr>\n",
       "  </tbody>\n",
       "</table>\n",
       "</div>"
      ],
      "text/plain": [
       "                Random Forest        GBM  XGB_gbtree  XGB_gblinear\n",
       "RMSE                16.271584  14.922006   15.022284     15.058569\n",
       "MAE                 12.558769  11.580272   11.632590     11.698609\n",
       "R-squared           -0.065931   0.103555    0.091466      0.087071\n",
       "Adj. R-squared      -0.067489   0.102244    0.090137      0.085737\n",
       "MAPE                20.193462  19.051063   19.008358     19.182797"
      ]
     },
     "execution_count": 15,
     "metadata": {},
     "output_type": "execute_result"
    },
    {
     "data": {
      "application/javascript": [
       "\n",
       "            setTimeout(function() {\n",
       "                var nbb_cell_id = 15;\n",
       "                var nbb_unformatted_code = \"# Comparing validation performance\\nprint(f\\\"Validation Performance:\\\")\\nmodels_val_comp_df\";\n",
       "                var nbb_formatted_code = \"# Comparing validation performance\\nprint(f\\\"Validation Performance:\\\")\\nmodels_val_comp_df\";\n",
       "                var nbb_cells = Jupyter.notebook.get_cells();\n",
       "                for (var i = 0; i < nbb_cells.length; ++i) {\n",
       "                    if (nbb_cells[i].input_prompt_number == nbb_cell_id) {\n",
       "                        if (nbb_cells[i].get_text() == nbb_unformatted_code) {\n",
       "                             nbb_cells[i].set_text(nbb_formatted_code);\n",
       "                        }\n",
       "                        break;\n",
       "                    }\n",
       "                }\n",
       "            }, 500);\n",
       "            "
      ],
      "text/plain": [
       "<IPython.core.display.Javascript object>"
      ]
     },
     "metadata": {},
     "output_type": "display_data"
    }
   ],
   "source": [
    "# Comparing validation performance\n",
    "print(f\"Validation Performance:\")\n",
    "models_val_comp_df"
   ]
  },
  {
   "cell_type": "markdown",
   "id": "6ec420b4",
   "metadata": {},
   "source": [
    "#### Observations:\n",
    "- Here, we compare the performance on the full train set to the validation set.\n",
    "- Only *GBM* and *XGB_gblinear* are giving generalized performances on the two sets.\n",
    "- These two are performing on par or slightly better than [*olsmodel3*](https://github.com/teresahanak/wikipedia-life-expectancy/blob/main/wp_life_expect_olsmodel_thanak_2022_10_9.ipynb), our linear regression model, for all metrics.\n",
    "- We will see if hyperparameter tuning improves their performance, again keeping *Random Forest* and *XGB_gbtree* in the mix for demonstration and comparison."
   ]
  },
  {
   "cell_type": "markdown",
   "id": "c25b1cfa",
   "metadata": {},
   "source": [
    "## Hyperparameter Tuning"
   ]
  },
  {
   "cell_type": "markdown",
   "id": "cea25fe9",
   "metadata": {},
   "source": [
    "### *Random Forest Tuned*"
   ]
  },
  {
   "cell_type": "code",
   "execution_count": 16,
   "id": "6e1581b0",
   "metadata": {},
   "outputs": [
    {
     "data": {
      "text/plain": [
       "RandomForestRegressor(random_state=42)"
      ]
     },
     "execution_count": 16,
     "metadata": {},
     "output_type": "execute_result"
    },
    {
     "data": {
      "application/javascript": [
       "\n",
       "            setTimeout(function() {\n",
       "                var nbb_cell_id = 16;\n",
       "                var nbb_unformatted_code = \"# Confirming the model\\nmodels_to_tune[\\\"Random Forest\\\"]\";\n",
       "                var nbb_formatted_code = \"# Confirming the model\\nmodels_to_tune[\\\"Random Forest\\\"]\";\n",
       "                var nbb_cells = Jupyter.notebook.get_cells();\n",
       "                for (var i = 0; i < nbb_cells.length; ++i) {\n",
       "                    if (nbb_cells[i].input_prompt_number == nbb_cell_id) {\n",
       "                        if (nbb_cells[i].get_text() == nbb_unformatted_code) {\n",
       "                             nbb_cells[i].set_text(nbb_formatted_code);\n",
       "                        }\n",
       "                        break;\n",
       "                    }\n",
       "                }\n",
       "            }, 500);\n",
       "            "
      ],
      "text/plain": [
       "<IPython.core.display.Javascript object>"
      ]
     },
     "metadata": {},
     "output_type": "display_data"
    }
   ],
   "source": [
    "# Confirming the model\n",
    "models_to_tune[\"Random Forest\"]"
   ]
  },
  {
   "cell_type": "code",
   "execution_count": 17,
   "id": "98b005d6",
   "metadata": {},
   "outputs": [
    {
     "name": "stdout",
     "output_type": "stream",
     "text": [
      "Best parameters are {'criterion': 'squared_error', 'max_depth': None, 'max_features': 'sqrt', 'max_samples': 0.3909124836035503, 'min_samples_leaf': 4, 'n_estimators': 260} with CV score=0.09967033141183923:\n",
      "CPU times: total: 2.83 s\n",
      "Wall time: 56.9 s\n"
     ]
    },
    {
     "data": {
      "application/javascript": [
       "\n",
       "            setTimeout(function() {\n",
       "                var nbb_cell_id = 17;\n",
       "                var nbb_unformatted_code = \"%%time\\n\\n# Defining model\\nModel = RandomForestRegressor(random_state=42)\\n\\n# Parameter grid to pass in RandomizedSearchCV\\nparam_grid = { \\n    \\\"n_estimators\\\": np.arange(100, 500), \\n    \\\"min_samples_leaf\\\": [None] + np.arange(1, 10).tolist(),\\n    \\\"max_features\\\": ['sqrt'], \\n    \\\"max_samples\\\": uniform(loc=0.3, scale=0.5),\\n    'criterion': ['squared_error'],\\n    \\\"max_depth\\\": [None]\\n}\\n\\n# Calling RandomizedSearchCV\\nrandomized_cv = RandomizedSearchCV(\\n    estimator=Model,\\n    param_distributions=param_grid,\\n    n_iter=10,\\n    n_jobs=-1,\\n    scoring=scorer,\\n    cv=5,\\n    random_state=42,\\n)\\n\\n# Fitting parameters in RandomizedSearchCV\\nrandomized_cv.fit(X_train, y_train)\\n\\nprint(\\n    \\\"Best parameters are {} with CV score={}:\\\".format(\\n        randomized_cv.best_params_, randomized_cv.best_score_\\n    )\\n)\\n\\n# Chime notification when cell successfully executes\\nchime.success()\";\n",
       "                var nbb_formatted_code = \"%%time\\n\\n# Defining model\\nModel = RandomForestRegressor(random_state=42)\\n\\n# Parameter grid to pass in RandomizedSearchCV\\nparam_grid = { \\n    \\\"n_estimators\\\": np.arange(100, 500), \\n    \\\"min_samples_leaf\\\": [None] + np.arange(1, 10).tolist(),\\n    \\\"max_features\\\": ['sqrt'], \\n    \\\"max_samples\\\": uniform(loc=0.3, scale=0.5),\\n    'criterion': ['squared_error'],\\n    \\\"max_depth\\\": [None]\\n}\\n\\n# Calling RandomizedSearchCV\\nrandomized_cv = RandomizedSearchCV(\\n    estimator=Model,\\n    param_distributions=param_grid,\\n    n_iter=10,\\n    n_jobs=-1,\\n    scoring=scorer,\\n    cv=5,\\n    random_state=42,\\n)\\n\\n# Fitting parameters in RandomizedSearchCV\\nrandomized_cv.fit(X_train, y_train)\\n\\nprint(\\n    \\\"Best parameters are {} with CV score={}:\\\".format(\\n        randomized_cv.best_params_, randomized_cv.best_score_\\n    )\\n)\\n\\n# Chime notification when cell successfully executes\\nchime.success()\";\n",
       "                var nbb_cells = Jupyter.notebook.get_cells();\n",
       "                for (var i = 0; i < nbb_cells.length; ++i) {\n",
       "                    if (nbb_cells[i].input_prompt_number == nbb_cell_id) {\n",
       "                        if (nbb_cells[i].get_text() == nbb_unformatted_code) {\n",
       "                             nbb_cells[i].set_text(nbb_formatted_code);\n",
       "                        }\n",
       "                        break;\n",
       "                    }\n",
       "                }\n",
       "            }, 500);\n",
       "            "
      ],
      "text/plain": [
       "<IPython.core.display.Javascript object>"
      ]
     },
     "metadata": {},
     "output_type": "display_data"
    }
   ],
   "source": [
    "%%time\n",
    "\n",
    "# Defining model\n",
    "Model = RandomForestRegressor(random_state=42)\n",
    "\n",
    "# Parameter grid to pass in RandomizedSearchCV\n",
    "param_grid = { \n",
    "    \"n_estimators\": np.arange(100, 500), \n",
    "    \"min_samples_leaf\": [None] + np.arange(1, 10).tolist(),\n",
    "    \"max_features\": ['sqrt'], \n",
    "    \"max_samples\": uniform(loc=0.3, scale=0.5),\n",
    "    'criterion': ['squared_error'],\n",
    "    \"max_depth\": [None]\n",
    "}\n",
    "\n",
    "# Calling RandomizedSearchCV\n",
    "randomized_cv = RandomizedSearchCV(\n",
    "    estimator=Model,\n",
    "    param_distributions=param_grid,\n",
    "    n_iter=10,\n",
    "    n_jobs=-1,\n",
    "    scoring=scorer,\n",
    "    cv=5,\n",
    "    random_state=42,\n",
    ")\n",
    "\n",
    "# Fitting parameters in RandomizedSearchCV\n",
    "randomized_cv.fit(X_train, y_train)\n",
    "\n",
    "print(\n",
    "    \"Best parameters are {} with CV score={}:\".format(\n",
    "        randomized_cv.best_params_, randomized_cv.best_score_\n",
    "    )\n",
    ")\n",
    "\n",
    "# Chime notification when cell successfully executes\n",
    "chime.success()"
   ]
  },
  {
   "cell_type": "code",
   "execution_count": 18,
   "id": "70b8ba4b",
   "metadata": {},
   "outputs": [
    {
     "data": {
      "text/plain": [
       "RandomForestRegressor(max_features='sqrt', max_samples=0.3909124836035503,\n",
       "                      min_samples_leaf=4, n_estimators=260)"
      ]
     },
     "execution_count": 18,
     "metadata": {},
     "output_type": "execute_result"
    },
    {
     "data": {
      "application/javascript": [
       "\n",
       "            setTimeout(function() {\n",
       "                var nbb_cell_id = 18;\n",
       "                var nbb_unformatted_code = \"# Building model with best parameters\\nRandom_Forest_tuned = RandomForestRegressor(\\n    criterion=\\\"squared_error\\\",\\n    max_depth=None,\\n    max_features=\\\"sqrt\\\",\\n    max_samples=0.3909124836035503,\\n    min_samples_leaf=4,\\n    n_estimators=260,\\n)\\n\\n# Fit the model on training data\\nRandom_Forest_tuned.fit(X_train, y_train)\";\n",
       "                var nbb_formatted_code = \"# Building model with best parameters\\nRandom_Forest_tuned = RandomForestRegressor(\\n    criterion=\\\"squared_error\\\",\\n    max_depth=None,\\n    max_features=\\\"sqrt\\\",\\n    max_samples=0.3909124836035503,\\n    min_samples_leaf=4,\\n    n_estimators=260,\\n)\\n\\n# Fit the model on training data\\nRandom_Forest_tuned.fit(X_train, y_train)\";\n",
       "                var nbb_cells = Jupyter.notebook.get_cells();\n",
       "                for (var i = 0; i < nbb_cells.length; ++i) {\n",
       "                    if (nbb_cells[i].input_prompt_number == nbb_cell_id) {\n",
       "                        if (nbb_cells[i].get_text() == nbb_unformatted_code) {\n",
       "                             nbb_cells[i].set_text(nbb_formatted_code);\n",
       "                        }\n",
       "                        break;\n",
       "                    }\n",
       "                }\n",
       "            }, 500);\n",
       "            "
      ],
      "text/plain": [
       "<IPython.core.display.Javascript object>"
      ]
     },
     "metadata": {},
     "output_type": "display_data"
    }
   ],
   "source": [
    "# Building model with best parameters\n",
    "Random_Forest_tuned = RandomForestRegressor(\n",
    "    criterion=\"squared_error\",\n",
    "    max_depth=None,\n",
    "    max_features=\"sqrt\",\n",
    "    max_samples=0.3909124836035503,\n",
    "    min_samples_leaf=4,\n",
    "    n_estimators=260,\n",
    ")\n",
    "\n",
    "# Fit the model on training data\n",
    "Random_Forest_tuned.fit(X_train, y_train)"
   ]
  },
  {
   "cell_type": "code",
   "execution_count": 19,
   "id": "4b02b1d1",
   "metadata": {},
   "outputs": [
    {
     "name": "stdout",
     "output_type": "stream",
     "text": [
      "Training performance:\n",
      "         RMSE        MAE  R-squared  Adj. R-squared       MAPE\n",
      "0  14.585952  11.329522   0.154087        0.153557  18.742804\n",
      "\n",
      "Validation performance:\n",
      "         RMSE        MAE  R-squared  Adj. R-squared       MAPE\n",
      "0  14.955767  11.602186   0.099494        0.098177  19.098842\n"
     ]
    },
    {
     "data": {
      "application/javascript": [
       "\n",
       "            setTimeout(function() {\n",
       "                var nbb_cell_id = 19;\n",
       "                var nbb_unformatted_code = \"# Calculating different metrics\\nRandom_Forest_tuned_train_perf = model_performance_regression(\\n    Random_Forest_tuned, X_train, y_train\\n)\\nprint(\\\"Training performance:\\\\n\\\", Random_Forest_tuned_train_perf)\\nRandom_Forest_tuned_val_perf = model_performance_regression(\\n    Random_Forest_tuned, X_val, y_val\\n)\\nprint(\\\"\\\\nValidation performance:\\\\n\\\", Random_Forest_tuned_val_perf)\\n\\n# Adding model to model comparison dataframes\\nmodels_train_comp_df[\\\"Random Forest Tuned\\\"] = Random_Forest_tuned_train_perf.T\\nmodels_val_comp_df[\\\"Random Forest Tuned\\\"] = Random_Forest_tuned_val_perf.T\";\n",
       "                var nbb_formatted_code = \"# Calculating different metrics\\nRandom_Forest_tuned_train_perf = model_performance_regression(\\n    Random_Forest_tuned, X_train, y_train\\n)\\nprint(\\\"Training performance:\\\\n\\\", Random_Forest_tuned_train_perf)\\nRandom_Forest_tuned_val_perf = model_performance_regression(\\n    Random_Forest_tuned, X_val, y_val\\n)\\nprint(\\\"\\\\nValidation performance:\\\\n\\\", Random_Forest_tuned_val_perf)\\n\\n# Adding model to model comparison dataframes\\nmodels_train_comp_df[\\\"Random Forest Tuned\\\"] = Random_Forest_tuned_train_perf.T\\nmodels_val_comp_df[\\\"Random Forest Tuned\\\"] = Random_Forest_tuned_val_perf.T\";\n",
       "                var nbb_cells = Jupyter.notebook.get_cells();\n",
       "                for (var i = 0; i < nbb_cells.length; ++i) {\n",
       "                    if (nbb_cells[i].input_prompt_number == nbb_cell_id) {\n",
       "                        if (nbb_cells[i].get_text() == nbb_unformatted_code) {\n",
       "                             nbb_cells[i].set_text(nbb_formatted_code);\n",
       "                        }\n",
       "                        break;\n",
       "                    }\n",
       "                }\n",
       "            }, 500);\n",
       "            "
      ],
      "text/plain": [
       "<IPython.core.display.Javascript object>"
      ]
     },
     "metadata": {},
     "output_type": "display_data"
    }
   ],
   "source": [
    "# Calculating different metrics\n",
    "Random_Forest_tuned_train_perf = model_performance_regression(\n",
    "    Random_Forest_tuned, X_train, y_train\n",
    ")\n",
    "print(\"Training performance:\\n\", Random_Forest_tuned_train_perf)\n",
    "Random_Forest_tuned_val_perf = model_performance_regression(\n",
    "    Random_Forest_tuned, X_val, y_val\n",
    ")\n",
    "print(\"\\nValidation performance:\\n\", Random_Forest_tuned_val_perf)\n",
    "\n",
    "# Adding model to model comparison dataframes\n",
    "models_train_comp_df[\"Random Forest Tuned\"] = Random_Forest_tuned_train_perf.T\n",
    "models_val_comp_df[\"Random Forest Tuned\"] = Random_Forest_tuned_val_perf.T"
   ]
  },
  {
   "cell_type": "markdown",
   "id": "6b37c92f",
   "metadata": {},
   "source": [
    "#### Observations:\n",
    "- Hyperparameter tuning improved performance for *Random Forest*.\n",
    "- The algorithm is still overfitting the train set, compared to the validation set.\n",
    "- Note that we had a 10% fit fail during cross-validation (\"UserWarning: One or more of the test scores are non-finite..\") indicating cross-validation had some folds for which hyperparameter combinations led to Nan values.  We are going to allow it here, and go with the results of the successful iterations.  The warning messages were suppressed for the last run of this notebook."
   ]
  },
  {
   "cell_type": "markdown",
   "id": "208028f9",
   "metadata": {},
   "source": [
    "### *GBM Tuned*"
   ]
  },
  {
   "cell_type": "code",
   "execution_count": 20,
   "id": "59c48bf7",
   "metadata": {},
   "outputs": [
    {
     "data": {
      "text/plain": [
       "GradientBoostingRegressor(random_state=42)"
      ]
     },
     "execution_count": 20,
     "metadata": {},
     "output_type": "execute_result"
    },
    {
     "data": {
      "application/javascript": [
       "\n",
       "            setTimeout(function() {\n",
       "                var nbb_cell_id = 20;\n",
       "                var nbb_unformatted_code = \"# Confirming the model\\nmodels_to_tune[\\\"GBM\\\"]\";\n",
       "                var nbb_formatted_code = \"# Confirming the model\\nmodels_to_tune[\\\"GBM\\\"]\";\n",
       "                var nbb_cells = Jupyter.notebook.get_cells();\n",
       "                for (var i = 0; i < nbb_cells.length; ++i) {\n",
       "                    if (nbb_cells[i].input_prompt_number == nbb_cell_id) {\n",
       "                        if (nbb_cells[i].get_text() == nbb_unformatted_code) {\n",
       "                             nbb_cells[i].set_text(nbb_formatted_code);\n",
       "                        }\n",
       "                        break;\n",
       "                    }\n",
       "                }\n",
       "            }, 500);\n",
       "            "
      ],
      "text/plain": [
       "<IPython.core.display.Javascript object>"
      ]
     },
     "metadata": {},
     "output_type": "display_data"
    }
   ],
   "source": [
    "# Confirming the model\n",
    "models_to_tune[\"GBM\"]"
   ]
  },
  {
   "cell_type": "code",
   "execution_count": 21,
   "id": "47553f87",
   "metadata": {},
   "outputs": [
    {
     "name": "stdout",
     "output_type": "stream",
     "text": [
      "Best parameters are {'learning_rate': 0.08171272700715591, 'max_features': 0.6630456668613307, 'n_estimators': 368, 'subsample': 0.7847684335570795} with CV score=0.1063224214498147:\n",
      "CPU times: total: 13.4 s\n",
      "Wall time: 5min 59s\n"
     ]
    },
    {
     "data": {
      "application/javascript": [
       "\n",
       "            setTimeout(function() {\n",
       "                var nbb_cell_id = 21;\n",
       "                var nbb_unformatted_code = \"%%time\\n\\n# Defining model\\nModel = GradientBoostingRegressor(random_state=42)\\n\\n# Parameter grid to pass in RandomizedSearchCV\\nparam_grid = {\\n    \\\"n_estimators\\\": np.arange(100, 500),\\n    \\\"learning_rate\\\": loguniform(0.001, 1),\\n    \\\"subsample\\\": uniform(loc=0.3, scale=0.5),\\n    \\\"max_features\\\": uniform(loc=0.3, scale=0.5),\\n}\\n\\n# Calling RandomizedSearchCV\\nrandomized_cv = RandomizedSearchCV(\\n    estimator=Model,\\n    param_distributions=param_grid,\\n    n_iter=100,\\n    n_jobs=-1,\\n    scoring=scorer,\\n    cv=5,\\n    random_state=42,\\n)\\n\\n# Fitting parameters in RandomizedSearchCV\\nrandomized_cv.fit(X_train, y_train)\\n\\nprint(\\n    \\\"Best parameters are {} with CV score={}:\\\".format(\\n        randomized_cv.best_params_, randomized_cv.best_score_\\n    )\\n)\\n\\n# Chime notification when cell successfully executes\\nchime.success()\";\n",
       "                var nbb_formatted_code = \"%%time\\n\\n# Defining model\\nModel = GradientBoostingRegressor(random_state=42)\\n\\n# Parameter grid to pass in RandomizedSearchCV\\nparam_grid = {\\n    \\\"n_estimators\\\": np.arange(100, 500),\\n    \\\"learning_rate\\\": loguniform(0.001, 1),\\n    \\\"subsample\\\": uniform(loc=0.3, scale=0.5),\\n    \\\"max_features\\\": uniform(loc=0.3, scale=0.5),\\n}\\n\\n# Calling RandomizedSearchCV\\nrandomized_cv = RandomizedSearchCV(\\n    estimator=Model,\\n    param_distributions=param_grid,\\n    n_iter=100,\\n    n_jobs=-1,\\n    scoring=scorer,\\n    cv=5,\\n    random_state=42,\\n)\\n\\n# Fitting parameters in RandomizedSearchCV\\nrandomized_cv.fit(X_train, y_train)\\n\\nprint(\\n    \\\"Best parameters are {} with CV score={}:\\\".format(\\n        randomized_cv.best_params_, randomized_cv.best_score_\\n    )\\n)\\n\\n# Chime notification when cell successfully executes\\nchime.success()\";\n",
       "                var nbb_cells = Jupyter.notebook.get_cells();\n",
       "                for (var i = 0; i < nbb_cells.length; ++i) {\n",
       "                    if (nbb_cells[i].input_prompt_number == nbb_cell_id) {\n",
       "                        if (nbb_cells[i].get_text() == nbb_unformatted_code) {\n",
       "                             nbb_cells[i].set_text(nbb_formatted_code);\n",
       "                        }\n",
       "                        break;\n",
       "                    }\n",
       "                }\n",
       "            }, 500);\n",
       "            "
      ],
      "text/plain": [
       "<IPython.core.display.Javascript object>"
      ]
     },
     "metadata": {},
     "output_type": "display_data"
    }
   ],
   "source": [
    "%%time\n",
    "\n",
    "# Defining model\n",
    "Model = GradientBoostingRegressor(random_state=42)\n",
    "\n",
    "# Parameter grid to pass in RandomizedSearchCV\n",
    "param_grid = {\n",
    "    \"n_estimators\": np.arange(100, 500),\n",
    "    \"learning_rate\": loguniform(0.001, 1),\n",
    "    \"subsample\": uniform(loc=0.3, scale=0.5),\n",
    "    \"max_features\": uniform(loc=0.3, scale=0.5),\n",
    "}\n",
    "\n",
    "# Calling RandomizedSearchCV\n",
    "randomized_cv = RandomizedSearchCV(\n",
    "    estimator=Model,\n",
    "    param_distributions=param_grid,\n",
    "    n_iter=100,\n",
    "    n_jobs=-1,\n",
    "    scoring=scorer,\n",
    "    cv=5,\n",
    "    random_state=42,\n",
    ")\n",
    "\n",
    "# Fitting parameters in RandomizedSearchCV\n",
    "randomized_cv.fit(X_train, y_train)\n",
    "\n",
    "print(\n",
    "    \"Best parameters are {} with CV score={}:\".format(\n",
    "        randomized_cv.best_params_, randomized_cv.best_score_\n",
    "    )\n",
    ")\n",
    "\n",
    "# Chime notification when cell successfully executes\n",
    "chime.success()"
   ]
  },
  {
   "cell_type": "code",
   "execution_count": 22,
   "id": "6916dcf4",
   "metadata": {},
   "outputs": [
    {
     "data": {
      "text/plain": [
       "GradientBoostingRegressor(learning_rate=0.08171272700715591,\n",
       "                          max_features=0.6630456668613307, n_estimators=368,\n",
       "                          random_state=42, subsample=0.7847684335570795)"
      ]
     },
     "execution_count": 22,
     "metadata": {},
     "output_type": "execute_result"
    },
    {
     "data": {
      "application/javascript": [
       "\n",
       "            setTimeout(function() {\n",
       "                var nbb_cell_id = 22;\n",
       "                var nbb_unformatted_code = \"# Building model with best parameters\\nGBM_tuned = GradientBoostingRegressor(\\n    random_state=42,\\n    learning_rate=0.08171272700715591,\\n    max_features=0.6630456668613307,\\n    n_estimators=368,\\n    subsample=0.7847684335570795,\\n)\\n\\n# Fit the model on training data\\nGBM_tuned.fit(X_train, y_train)\";\n",
       "                var nbb_formatted_code = \"# Building model with best parameters\\nGBM_tuned = GradientBoostingRegressor(\\n    random_state=42,\\n    learning_rate=0.08171272700715591,\\n    max_features=0.6630456668613307,\\n    n_estimators=368,\\n    subsample=0.7847684335570795,\\n)\\n\\n# Fit the model on training data\\nGBM_tuned.fit(X_train, y_train)\";\n",
       "                var nbb_cells = Jupyter.notebook.get_cells();\n",
       "                for (var i = 0; i < nbb_cells.length; ++i) {\n",
       "                    if (nbb_cells[i].input_prompt_number == nbb_cell_id) {\n",
       "                        if (nbb_cells[i].get_text() == nbb_unformatted_code) {\n",
       "                             nbb_cells[i].set_text(nbb_formatted_code);\n",
       "                        }\n",
       "                        break;\n",
       "                    }\n",
       "                }\n",
       "            }, 500);\n",
       "            "
      ],
      "text/plain": [
       "<IPython.core.display.Javascript object>"
      ]
     },
     "metadata": {},
     "output_type": "display_data"
    }
   ],
   "source": [
    "# Building model with best parameters\n",
    "GBM_tuned = GradientBoostingRegressor(\n",
    "    random_state=42,\n",
    "    learning_rate=0.08171272700715591,\n",
    "    max_features=0.6630456668613307,\n",
    "    n_estimators=368,\n",
    "    subsample=0.7847684335570795,\n",
    ")\n",
    "\n",
    "# Fit the model on training data\n",
    "GBM_tuned.fit(X_train, y_train)"
   ]
  },
  {
   "cell_type": "code",
   "execution_count": 23,
   "id": "d47c87fc",
   "metadata": {},
   "outputs": [
    {
     "name": "stdout",
     "output_type": "stream",
     "text": [
      "Training performance:\n",
      "         RMSE        MAE  R-squared  Adj. R-squared       MAPE\n",
      "0  14.835035  11.521845   0.124949        0.124401  18.989296\n",
      "\n",
      "Validation performance:\n",
      "         RMSE        MAE  R-squared  Adj. R-squared       MAPE\n",
      "0  14.877704  11.542386    0.10887        0.107567  18.937928\n"
     ]
    },
    {
     "data": {
      "application/javascript": [
       "\n",
       "            setTimeout(function() {\n",
       "                var nbb_cell_id = 23;\n",
       "                var nbb_unformatted_code = \"# Calculating different metrics\\nGBM_tuned_train_perf = model_performance_regression(GBM_tuned, X_train, y_train)\\nprint(\\\"Training performance:\\\\n\\\", GBM_tuned_train_perf)\\nGBM_tuned_val_perf = model_performance_regression(GBM_tuned, X_val, y_val)\\nprint(\\\"\\\\nValidation performance:\\\\n\\\", GBM_tuned_val_perf)\\n\\n# Adding model to model comparison dataframes\\nmodels_train_comp_df[\\\"GBM Tuned\\\"] = GBM_tuned_train_perf.T\\nmodels_val_comp_df[\\\"GBM Tuned\\\"] = GBM_tuned_val_perf.T\";\n",
       "                var nbb_formatted_code = \"# Calculating different metrics\\nGBM_tuned_train_perf = model_performance_regression(GBM_tuned, X_train, y_train)\\nprint(\\\"Training performance:\\\\n\\\", GBM_tuned_train_perf)\\nGBM_tuned_val_perf = model_performance_regression(GBM_tuned, X_val, y_val)\\nprint(\\\"\\\\nValidation performance:\\\\n\\\", GBM_tuned_val_perf)\\n\\n# Adding model to model comparison dataframes\\nmodels_train_comp_df[\\\"GBM Tuned\\\"] = GBM_tuned_train_perf.T\\nmodels_val_comp_df[\\\"GBM Tuned\\\"] = GBM_tuned_val_perf.T\";\n",
       "                var nbb_cells = Jupyter.notebook.get_cells();\n",
       "                for (var i = 0; i < nbb_cells.length; ++i) {\n",
       "                    if (nbb_cells[i].input_prompt_number == nbb_cell_id) {\n",
       "                        if (nbb_cells[i].get_text() == nbb_unformatted_code) {\n",
       "                             nbb_cells[i].set_text(nbb_formatted_code);\n",
       "                        }\n",
       "                        break;\n",
       "                    }\n",
       "                }\n",
       "            }, 500);\n",
       "            "
      ],
      "text/plain": [
       "<IPython.core.display.Javascript object>"
      ]
     },
     "metadata": {},
     "output_type": "display_data"
    }
   ],
   "source": [
    "# Calculating different metrics\n",
    "GBM_tuned_train_perf = model_performance_regression(GBM_tuned, X_train, y_train)\n",
    "print(\"Training performance:\\n\", GBM_tuned_train_perf)\n",
    "GBM_tuned_val_perf = model_performance_regression(GBM_tuned, X_val, y_val)\n",
    "print(\"\\nValidation performance:\\n\", GBM_tuned_val_perf)\n",
    "\n",
    "# Adding model to model comparison dataframes\n",
    "models_train_comp_df[\"GBM Tuned\"] = GBM_tuned_train_perf.T\n",
    "models_val_comp_df[\"GBM Tuned\"] = GBM_tuned_val_perf.T"
   ]
  },
  {
   "cell_type": "markdown",
   "id": "e76f44e0",
   "metadata": {},
   "source": [
    "#### Observations:\n",
    "- The performance for *GBM* is improved with hyperparameter tuning.  \n",
    "- There is a slight increase in overfitting, but the validation metrics are better."
   ]
  },
  {
   "cell_type": "markdown",
   "id": "d345d350",
   "metadata": {},
   "source": [
    "### *XGB_gbtree Tuned*"
   ]
  },
  {
   "cell_type": "code",
   "execution_count": 24,
   "id": "8a847975",
   "metadata": {},
   "outputs": [
    {
     "data": {
      "text/plain": [
       "XGBRegressor(base_score=0.5, booster='gbtree', callbacks=None,\n",
       "             colsample_bylevel=1, colsample_bynode=1, colsample_bytree=1,\n",
       "             early_stopping_rounds=None, enable_categorical=False,\n",
       "             eval_metric=None, gamma=0, gpu_id=-1, grow_policy='depthwise',\n",
       "             importance_type=None, interaction_constraints='',\n",
       "             learning_rate=0.300000012, max_bin=256, max_cat_to_onehot=4,\n",
       "             max_delta_step=0, max_depth=6, max_leaves=0, min_child_weight=1,\n",
       "             missing=nan, monotone_constraints='()', n_estimators=100, n_jobs=0,\n",
       "             num_parallel_tree=1, predictor='auto', random_state=42,\n",
       "             reg_alpha=0, reg_lambda=1, ...)"
      ]
     },
     "execution_count": 24,
     "metadata": {},
     "output_type": "execute_result"
    },
    {
     "data": {
      "application/javascript": [
       "\n",
       "            setTimeout(function() {\n",
       "                var nbb_cell_id = 24;\n",
       "                var nbb_unformatted_code = \"# Confirming the model\\nmodels_to_tune[\\\"XGB_gbtree\\\"]\";\n",
       "                var nbb_formatted_code = \"# Confirming the model\\nmodels_to_tune[\\\"XGB_gbtree\\\"]\";\n",
       "                var nbb_cells = Jupyter.notebook.get_cells();\n",
       "                for (var i = 0; i < nbb_cells.length; ++i) {\n",
       "                    if (nbb_cells[i].input_prompt_number == nbb_cell_id) {\n",
       "                        if (nbb_cells[i].get_text() == nbb_unformatted_code) {\n",
       "                             nbb_cells[i].set_text(nbb_formatted_code);\n",
       "                        }\n",
       "                        break;\n",
       "                    }\n",
       "                }\n",
       "            }, 500);\n",
       "            "
      ],
      "text/plain": [
       "<IPython.core.display.Javascript object>"
      ]
     },
     "metadata": {},
     "output_type": "display_data"
    }
   ],
   "source": [
    "# Confirming the model\n",
    "models_to_tune[\"XGB_gbtree\"]"
   ]
  },
  {
   "cell_type": "code",
   "execution_count": 25,
   "id": "06dbfd3d",
   "metadata": {},
   "outputs": [
    {
     "name": "stdout",
     "output_type": "stream",
     "text": [
      "Best parameters are {'colsample_bytree': 0.42649508399462055, 'gamma': 1.188792356281234, 'learning_rate': 0.12263036412693079, 'max_depth': 3, 'n_estimators': 404, 'subsample': 0.7391497377969234} with CV score=0.10679644601394585:\n",
      "CPU times: total: 1min 6s\n",
      "Wall time: 19min 47s\n"
     ]
    },
    {
     "data": {
      "application/javascript": [
       "\n",
       "            setTimeout(function() {\n",
       "                var nbb_cell_id = 25;\n",
       "                var nbb_unformatted_code = \"%%time\\n\\n# Defining model\\nModel = XGBRegressor(random_state=42, booster='gbtree')\\n\\n# Parameter grid to pass in RandomizedSearchCV\\nparam_grid={\\n    'n_estimators': np.arange(100, 500),\\n    \\\"learning_rate\\\": uniform(0.1, 0.3), # aka eta\\n    'gamma': expon(), # aka min_split_loss\\n    'subsample': uniform(loc=0.6, scale=0.2), # proportion of train set to randomly sample prior to growing trees\\n    'max_depth': np.arange(3, 8).tolist(),\\n    'colsample_bytree': uniform(loc=0.3, scale=0.5)\\n}\\n\\n# Calling RandomizedSearchCV\\nrandomized_cv = RandomizedSearchCV(\\n    estimator=Model,\\n    param_distributions=param_grid,\\n    n_iter=100,\\n    n_jobs=-1,\\n    scoring=scorer,\\n    cv=5,\\n    random_state=42,\\n)\\n\\n# Fitting parameters in RandomizedSearchCV\\nrandomized_cv.fit(X_train, y_train)\\n\\nprint(\\n    \\\"Best parameters are {} with CV score={}:\\\".format(\\n        randomized_cv.best_params_, randomized_cv.best_score_\\n    )\\n)\\n\\n# Chime notification when cell successfully executes\\nchime.success()\";\n",
       "                var nbb_formatted_code = \"%%time\\n\\n# Defining model\\nModel = XGBRegressor(random_state=42, booster='gbtree')\\n\\n# Parameter grid to pass in RandomizedSearchCV\\nparam_grid={\\n    'n_estimators': np.arange(100, 500),\\n    \\\"learning_rate\\\": uniform(0.1, 0.3), # aka eta\\n    'gamma': expon(), # aka min_split_loss\\n    'subsample': uniform(loc=0.6, scale=0.2), # proportion of train set to randomly sample prior to growing trees\\n    'max_depth': np.arange(3, 8).tolist(),\\n    'colsample_bytree': uniform(loc=0.3, scale=0.5)\\n}\\n\\n# Calling RandomizedSearchCV\\nrandomized_cv = RandomizedSearchCV(\\n    estimator=Model,\\n    param_distributions=param_grid,\\n    n_iter=100,\\n    n_jobs=-1,\\n    scoring=scorer,\\n    cv=5,\\n    random_state=42,\\n)\\n\\n# Fitting parameters in RandomizedSearchCV\\nrandomized_cv.fit(X_train, y_train)\\n\\nprint(\\n    \\\"Best parameters are {} with CV score={}:\\\".format(\\n        randomized_cv.best_params_, randomized_cv.best_score_\\n    )\\n)\\n\\n# Chime notification when cell successfully executes\\nchime.success()\";\n",
       "                var nbb_cells = Jupyter.notebook.get_cells();\n",
       "                for (var i = 0; i < nbb_cells.length; ++i) {\n",
       "                    if (nbb_cells[i].input_prompt_number == nbb_cell_id) {\n",
       "                        if (nbb_cells[i].get_text() == nbb_unformatted_code) {\n",
       "                             nbb_cells[i].set_text(nbb_formatted_code);\n",
       "                        }\n",
       "                        break;\n",
       "                    }\n",
       "                }\n",
       "            }, 500);\n",
       "            "
      ],
      "text/plain": [
       "<IPython.core.display.Javascript object>"
      ]
     },
     "metadata": {},
     "output_type": "display_data"
    }
   ],
   "source": [
    "%%time\n",
    "\n",
    "# Defining model\n",
    "Model = XGBRegressor(random_state=42, booster='gbtree')\n",
    "\n",
    "# Parameter grid to pass in RandomizedSearchCV\n",
    "param_grid={\n",
    "    'n_estimators': np.arange(100, 500),\n",
    "    \"learning_rate\": uniform(0.1, 0.3), # aka eta\n",
    "    'gamma': expon(), # aka min_split_loss\n",
    "    'subsample': uniform(loc=0.6, scale=0.2), # proportion of train set to randomly sample prior to growing trees\n",
    "    'max_depth': np.arange(3, 8).tolist(),\n",
    "    'colsample_bytree': uniform(loc=0.3, scale=0.5)\n",
    "}\n",
    "\n",
    "# Calling RandomizedSearchCV\n",
    "randomized_cv = RandomizedSearchCV(\n",
    "    estimator=Model,\n",
    "    param_distributions=param_grid,\n",
    "    n_iter=100,\n",
    "    n_jobs=-1,\n",
    "    scoring=scorer,\n",
    "    cv=5,\n",
    "    random_state=42,\n",
    ")\n",
    "\n",
    "# Fitting parameters in RandomizedSearchCV\n",
    "randomized_cv.fit(X_train, y_train)\n",
    "\n",
    "print(\n",
    "    \"Best parameters are {} with CV score={}:\".format(\n",
    "        randomized_cv.best_params_, randomized_cv.best_score_\n",
    "    )\n",
    ")\n",
    "\n",
    "# Chime notification when cell successfully executes\n",
    "chime.success()"
   ]
  },
  {
   "cell_type": "code",
   "execution_count": 26,
   "id": "9472522b",
   "metadata": {},
   "outputs": [
    {
     "data": {
      "text/plain": [
       "XGBRegressor(base_score=0.5, booster='gbtree', callbacks=None,\n",
       "             colsample_bylevel=1, colsample_bynode=1,\n",
       "             colsample_bytree=0.42649508399462055, early_stopping_rounds=None,\n",
       "             enable_categorical=False, eval_metric=None,\n",
       "             gamma=1.188792356281234, gpu_id=-1, grow_policy='depthwise',\n",
       "             importance_type=None, interaction_constraints='',\n",
       "             learning_rate=0.12263036412693079, max_bin=256,\n",
       "             max_cat_to_onehot=4, max_delta_step=0, max_depth=3, max_leaves=0,\n",
       "             min_child_weight=1, missing=nan, monotone_constraints='()',\n",
       "             n_estimators=404, n_jobs=0, num_parallel_tree=1, predictor='auto',\n",
       "             random_state=42, reg_alpha=0, reg_lambda=1, ...)"
      ]
     },
     "execution_count": 26,
     "metadata": {},
     "output_type": "execute_result"
    },
    {
     "data": {
      "application/javascript": [
       "\n",
       "            setTimeout(function() {\n",
       "                var nbb_cell_id = 26;\n",
       "                var nbb_unformatted_code = \"# Building model with best parameters\\nXGB_gbtree_tuned = XGBRegressor(\\n    booster=\\\"gbtree\\\",\\n    random_state=42,\\n    colsample_bytree=0.42649508399462055,\\n    gamma=1.188792356281234,\\n    learning_rate=0.12263036412693079,\\n    max_depth=3,\\n    n_estimators=404,\\n    subsample=0.7391497377969234,\\n)\\n\\n# Fit the model on training data\\nXGB_gbtree_tuned.fit(X_train, y_train)\";\n",
       "                var nbb_formatted_code = \"# Building model with best parameters\\nXGB_gbtree_tuned = XGBRegressor(\\n    booster=\\\"gbtree\\\",\\n    random_state=42,\\n    colsample_bytree=0.42649508399462055,\\n    gamma=1.188792356281234,\\n    learning_rate=0.12263036412693079,\\n    max_depth=3,\\n    n_estimators=404,\\n    subsample=0.7391497377969234,\\n)\\n\\n# Fit the model on training data\\nXGB_gbtree_tuned.fit(X_train, y_train)\";\n",
       "                var nbb_cells = Jupyter.notebook.get_cells();\n",
       "                for (var i = 0; i < nbb_cells.length; ++i) {\n",
       "                    if (nbb_cells[i].input_prompt_number == nbb_cell_id) {\n",
       "                        if (nbb_cells[i].get_text() == nbb_unformatted_code) {\n",
       "                             nbb_cells[i].set_text(nbb_formatted_code);\n",
       "                        }\n",
       "                        break;\n",
       "                    }\n",
       "                }\n",
       "            }, 500);\n",
       "            "
      ],
      "text/plain": [
       "<IPython.core.display.Javascript object>"
      ]
     },
     "metadata": {},
     "output_type": "display_data"
    }
   ],
   "source": [
    "# Building model with best parameters\n",
    "XGB_gbtree_tuned = XGBRegressor(\n",
    "    booster=\"gbtree\",\n",
    "    random_state=42,\n",
    "    colsample_bytree=0.42649508399462055,\n",
    "    gamma=1.188792356281234,\n",
    "    learning_rate=0.12263036412693079,\n",
    "    max_depth=3,\n",
    "    n_estimators=404,\n",
    "    subsample=0.7391497377969234,\n",
    ")\n",
    "\n",
    "# Fit the model on training data\n",
    "XGB_gbtree_tuned.fit(X_train, y_train)"
   ]
  },
  {
   "cell_type": "code",
   "execution_count": 27,
   "id": "a6101083",
   "metadata": {},
   "outputs": [
    {
     "name": "stdout",
     "output_type": "stream",
     "text": [
      "Training performance:\n",
      "         RMSE       MAE  R-squared  Adj. R-squared       MAPE\n",
      "0  14.813429  11.50438   0.127496         0.12695  18.953973\n",
      "\n",
      "Validation performance:\n",
      "         RMSE        MAE  R-squared  Adj. R-squared       MAPE\n",
      "0  14.882834  11.546377   0.108255        0.106951  18.931955\n"
     ]
    },
    {
     "data": {
      "application/javascript": [
       "\n",
       "            setTimeout(function() {\n",
       "                var nbb_cell_id = 27;\n",
       "                var nbb_unformatted_code = \"# Calculating different metrics\\nXGB_gbtree_tuned_train_perf = model_performance_regression(\\n    XGB_gbtree_tuned, X_train, y_train\\n)\\nprint(\\\"Training performance:\\\\n\\\", XGB_gbtree_tuned_train_perf)\\nXGB_gbtree_tuned_val_perf = model_performance_regression(XGB_gbtree_tuned, X_val, y_val)\\nprint(\\\"\\\\nValidation performance:\\\\n\\\", XGB_gbtree_tuned_val_perf)\\n\\n# Adding model to model comparison dataframes\\nmodels_train_comp_df[\\\"XGB_gbtree Tuned\\\"] = XGB_gbtree_tuned_train_perf.T\\nmodels_val_comp_df[\\\"XGB_gbtree Tuned\\\"] = XGB_gbtree_tuned_val_perf.T\";\n",
       "                var nbb_formatted_code = \"# Calculating different metrics\\nXGB_gbtree_tuned_train_perf = model_performance_regression(\\n    XGB_gbtree_tuned, X_train, y_train\\n)\\nprint(\\\"Training performance:\\\\n\\\", XGB_gbtree_tuned_train_perf)\\nXGB_gbtree_tuned_val_perf = model_performance_regression(XGB_gbtree_tuned, X_val, y_val)\\nprint(\\\"\\\\nValidation performance:\\\\n\\\", XGB_gbtree_tuned_val_perf)\\n\\n# Adding model to model comparison dataframes\\nmodels_train_comp_df[\\\"XGB_gbtree Tuned\\\"] = XGB_gbtree_tuned_train_perf.T\\nmodels_val_comp_df[\\\"XGB_gbtree Tuned\\\"] = XGB_gbtree_tuned_val_perf.T\";\n",
       "                var nbb_cells = Jupyter.notebook.get_cells();\n",
       "                for (var i = 0; i < nbb_cells.length; ++i) {\n",
       "                    if (nbb_cells[i].input_prompt_number == nbb_cell_id) {\n",
       "                        if (nbb_cells[i].get_text() == nbb_unformatted_code) {\n",
       "                             nbb_cells[i].set_text(nbb_formatted_code);\n",
       "                        }\n",
       "                        break;\n",
       "                    }\n",
       "                }\n",
       "            }, 500);\n",
       "            "
      ],
      "text/plain": [
       "<IPython.core.display.Javascript object>"
      ]
     },
     "metadata": {},
     "output_type": "display_data"
    }
   ],
   "source": [
    "# Calculating different metrics\n",
    "XGB_gbtree_tuned_train_perf = model_performance_regression(\n",
    "    XGB_gbtree_tuned, X_train, y_train\n",
    ")\n",
    "print(\"Training performance:\\n\", XGB_gbtree_tuned_train_perf)\n",
    "XGB_gbtree_tuned_val_perf = model_performance_regression(XGB_gbtree_tuned, X_val, y_val)\n",
    "print(\"\\nValidation performance:\\n\", XGB_gbtree_tuned_val_perf)\n",
    "\n",
    "# Adding model to model comparison dataframes\n",
    "models_train_comp_df[\"XGB_gbtree Tuned\"] = XGB_gbtree_tuned_train_perf.T\n",
    "models_val_comp_df[\"XGB_gbtree Tuned\"] = XGB_gbtree_tuned_val_perf.T"
   ]
  },
  {
   "cell_type": "markdown",
   "id": "589bde06",
   "metadata": {},
   "source": [
    "#### Observations:\n",
    "- The performance for *XGB_gbtree* is improved with hyperparameter tuning.  \n",
    "- There is a slight increase in overfitting, but the validation metrics are better."
   ]
  },
  {
   "cell_type": "markdown",
   "id": "7cc9bc9d",
   "metadata": {},
   "source": [
    "### *XGB_gblinear Tuned*"
   ]
  },
  {
   "cell_type": "code",
   "execution_count": 28,
   "id": "5bded9fa",
   "metadata": {},
   "outputs": [
    {
     "data": {
      "text/plain": [
       "XGBRegressor(base_score=0.5, booster='gblinear', callbacks=None,\n",
       "             colsample_bylevel=None, colsample_bynode=None,\n",
       "             colsample_bytree=None, early_stopping_rounds=None,\n",
       "             enable_categorical=False, eval_metric=None, gamma=None, gpu_id=-1,\n",
       "             grow_policy=None, importance_type=None,\n",
       "             interaction_constraints=None, learning_rate=0.5, max_bin=None,\n",
       "             max_cat_to_onehot=None, max_delta_step=None, max_depth=None,\n",
       "             max_leaves=None, min_child_weight=None, missing=nan,\n",
       "             monotone_constraints=None, n_estimators=100, n_jobs=0,\n",
       "             num_parallel_tree=None, predictor=None, random_state=42,\n",
       "             reg_alpha=0, reg_lambda=0, ...)"
      ]
     },
     "execution_count": 28,
     "metadata": {},
     "output_type": "execute_result"
    },
    {
     "data": {
      "application/javascript": [
       "\n",
       "            setTimeout(function() {\n",
       "                var nbb_cell_id = 28;\n",
       "                var nbb_unformatted_code = \"# Confirming the model\\nmodels_to_tune[\\\"XGB_gblinear\\\"]\";\n",
       "                var nbb_formatted_code = \"# Confirming the model\\nmodels_to_tune[\\\"XGB_gblinear\\\"]\";\n",
       "                var nbb_cells = Jupyter.notebook.get_cells();\n",
       "                for (var i = 0; i < nbb_cells.length; ++i) {\n",
       "                    if (nbb_cells[i].input_prompt_number == nbb_cell_id) {\n",
       "                        if (nbb_cells[i].get_text() == nbb_unformatted_code) {\n",
       "                             nbb_cells[i].set_text(nbb_formatted_code);\n",
       "                        }\n",
       "                        break;\n",
       "                    }\n",
       "                }\n",
       "            }, 500);\n",
       "            "
      ],
      "text/plain": [
       "<IPython.core.display.Javascript object>"
      ]
     },
     "metadata": {},
     "output_type": "display_data"
    }
   ],
   "source": [
    "# Confirming the model\n",
    "models_to_tune[\"XGB_gblinear\"]"
   ]
  },
  {
   "cell_type": "code",
   "execution_count": 29,
   "id": "b6f73eb3",
   "metadata": {},
   "outputs": [
    {
     "name": "stdout",
     "output_type": "stream",
     "text": [
      "Best parameters are {'n_estimators': 439, 'reg_lambda': 0.0009206654892274761} with CV score=0.09196572057161607:\n",
      "CPU times: total: 39.4 s\n",
      "Wall time: 4min 40s\n"
     ]
    },
    {
     "data": {
      "application/javascript": [
       "\n",
       "            setTimeout(function() {\n",
       "                var nbb_cell_id = 29;\n",
       "                var nbb_unformatted_code = \"%%time\\n\\n# Defining model\\nModel = XGBRegressor(random_state=42, booster='gblinear')\\n\\n# Parameter grid to pass in RandomizedSearchCV\\nparam_grid={\\n    'n_estimators': np.arange(100, 500),\\n    'reg_lambda': loguniform(.0001, 1)\\n}\\n\\n# Calling RandomizedSearchCV\\nrandomized_cv = RandomizedSearchCV(\\n    estimator=Model,\\n    param_distributions=param_grid,\\n    n_iter=100,\\n    n_jobs=-1,\\n    scoring=scorer,\\n    cv=5,\\n    random_state=42,\\n)\\n\\n# Fitting parameters in RandomizedSearchCV\\nrandomized_cv.fit(X_train, y_train)\\n\\nprint(\\n    \\\"Best parameters are {} with CV score={}:\\\".format(\\n        randomized_cv.best_params_, randomized_cv.best_score_\\n    )\\n)\\n\\n# Chime notification when cell successfully executes\\nchime.success()\";\n",
       "                var nbb_formatted_code = \"%%time\\n\\n# Defining model\\nModel = XGBRegressor(random_state=42, booster='gblinear')\\n\\n# Parameter grid to pass in RandomizedSearchCV\\nparam_grid={\\n    'n_estimators': np.arange(100, 500),\\n    'reg_lambda': loguniform(.0001, 1)\\n}\\n\\n# Calling RandomizedSearchCV\\nrandomized_cv = RandomizedSearchCV(\\n    estimator=Model,\\n    param_distributions=param_grid,\\n    n_iter=100,\\n    n_jobs=-1,\\n    scoring=scorer,\\n    cv=5,\\n    random_state=42,\\n)\\n\\n# Fitting parameters in RandomizedSearchCV\\nrandomized_cv.fit(X_train, y_train)\\n\\nprint(\\n    \\\"Best parameters are {} with CV score={}:\\\".format(\\n        randomized_cv.best_params_, randomized_cv.best_score_\\n    )\\n)\\n\\n# Chime notification when cell successfully executes\\nchime.success()\";\n",
       "                var nbb_cells = Jupyter.notebook.get_cells();\n",
       "                for (var i = 0; i < nbb_cells.length; ++i) {\n",
       "                    if (nbb_cells[i].input_prompt_number == nbb_cell_id) {\n",
       "                        if (nbb_cells[i].get_text() == nbb_unformatted_code) {\n",
       "                             nbb_cells[i].set_text(nbb_formatted_code);\n",
       "                        }\n",
       "                        break;\n",
       "                    }\n",
       "                }\n",
       "            }, 500);\n",
       "            "
      ],
      "text/plain": [
       "<IPython.core.display.Javascript object>"
      ]
     },
     "metadata": {},
     "output_type": "display_data"
    }
   ],
   "source": [
    "%%time\n",
    "\n",
    "# Defining model\n",
    "Model = XGBRegressor(random_state=42, booster='gblinear')\n",
    "\n",
    "# Parameter grid to pass in RandomizedSearchCV\n",
    "param_grid={\n",
    "    'n_estimators': np.arange(100, 500),\n",
    "    'reg_lambda': loguniform(.0001, 1)\n",
    "}\n",
    "\n",
    "# Calling RandomizedSearchCV\n",
    "randomized_cv = RandomizedSearchCV(\n",
    "    estimator=Model,\n",
    "    param_distributions=param_grid,\n",
    "    n_iter=100,\n",
    "    n_jobs=-1,\n",
    "    scoring=scorer,\n",
    "    cv=5,\n",
    "    random_state=42,\n",
    ")\n",
    "\n",
    "# Fitting parameters in RandomizedSearchCV\n",
    "randomized_cv.fit(X_train, y_train)\n",
    "\n",
    "print(\n",
    "    \"Best parameters are {} with CV score={}:\".format(\n",
    "        randomized_cv.best_params_, randomized_cv.best_score_\n",
    "    )\n",
    ")\n",
    "\n",
    "# Chime notification when cell successfully executes\n",
    "chime.success()"
   ]
  },
  {
   "cell_type": "code",
   "execution_count": 30,
   "id": "c5f6c963",
   "metadata": {},
   "outputs": [
    {
     "data": {
      "text/plain": [
       "XGBRegressor(base_score=0.5, booster='gblinear', callbacks=None,\n",
       "             colsample_bylevel=None, colsample_bynode=None,\n",
       "             colsample_bytree=None, early_stopping_rounds=None,\n",
       "             enable_categorical=False, eval_metric=None, gamma=None, gpu_id=-1,\n",
       "             grow_policy=None, importance_type=None,\n",
       "             interaction_constraints=None, learning_rate=0.5, max_bin=None,\n",
       "             max_cat_to_onehot=None, max_delta_step=None, max_depth=None,\n",
       "             max_leaves=None, min_child_weight=None, missing=nan,\n",
       "             monotone_constraints=None, n_estimators=439, n_jobs=0,\n",
       "             num_parallel_tree=None, predictor=None, random_state=42,\n",
       "             reg_alpha=0, reg_lambda=0.0009206654892274761, ...)"
      ]
     },
     "execution_count": 30,
     "metadata": {},
     "output_type": "execute_result"
    },
    {
     "data": {
      "application/javascript": [
       "\n",
       "            setTimeout(function() {\n",
       "                var nbb_cell_id = 30;\n",
       "                var nbb_unformatted_code = \"# Building model with best parameters\\nXGB_gblinear_tuned = XGBRegressor(\\n    booster=\\\"gblinear\\\",\\n    random_state=42,\\n    n_estimators=439,\\n    reg_lambda=0.0009206654892274761,\\n)\\n\\n# Fit the model on training data\\nXGB_gblinear_tuned.fit(X_train, y_train)\";\n",
       "                var nbb_formatted_code = \"# Building model with best parameters\\nXGB_gblinear_tuned = XGBRegressor(\\n    booster=\\\"gblinear\\\",\\n    random_state=42,\\n    n_estimators=439,\\n    reg_lambda=0.0009206654892274761,\\n)\\n\\n# Fit the model on training data\\nXGB_gblinear_tuned.fit(X_train, y_train)\";\n",
       "                var nbb_cells = Jupyter.notebook.get_cells();\n",
       "                for (var i = 0; i < nbb_cells.length; ++i) {\n",
       "                    if (nbb_cells[i].input_prompt_number == nbb_cell_id) {\n",
       "                        if (nbb_cells[i].get_text() == nbb_unformatted_code) {\n",
       "                             nbb_cells[i].set_text(nbb_formatted_code);\n",
       "                        }\n",
       "                        break;\n",
       "                    }\n",
       "                }\n",
       "            }, 500);\n",
       "            "
      ],
      "text/plain": [
       "<IPython.core.display.Javascript object>"
      ]
     },
     "metadata": {},
     "output_type": "display_data"
    }
   ],
   "source": [
    "# Building model with best parameters\n",
    "XGB_gblinear_tuned = XGBRegressor(\n",
    "    booster=\"gblinear\",\n",
    "    random_state=42,\n",
    "    n_estimators=439,\n",
    "    reg_lambda=0.0009206654892274761,\n",
    ")\n",
    "\n",
    "# Fit the model on training data\n",
    "XGB_gblinear_tuned.fit(X_train, y_train)"
   ]
  },
  {
   "cell_type": "code",
   "execution_count": 31,
   "id": "c03abdd4",
   "metadata": {},
   "outputs": [
    {
     "name": "stdout",
     "output_type": "stream",
     "text": [
      "Training performance:\n",
      "         RMSE       MAE  R-squared  Adj. R-squared       MAPE\n",
      "0  15.103268  11.72932   0.093019        0.092452  19.393489\n",
      "\n",
      "Validation performance:\n",
      "         RMSE        MAE  R-squared  Adj. R-squared      MAPE\n",
      "0  14.995251  11.640131   0.094733        0.093409  19.15207\n"
     ]
    },
    {
     "data": {
      "application/javascript": [
       "\n",
       "            setTimeout(function() {\n",
       "                var nbb_cell_id = 31;\n",
       "                var nbb_unformatted_code = \"# Calculating different metrics\\nXGB_gblinear_tuned_train_perf = model_performance_regression(\\n    XGB_gblinear_tuned, X_train, y_train\\n)\\nprint(\\\"Training performance:\\\\n\\\", XGB_gblinear_tuned_train_perf)\\nXGB_gblinear_tuned_val_perf = model_performance_regression(\\n    XGB_gblinear_tuned, X_val, y_val\\n)\\nprint(\\\"\\\\nValidation performance:\\\\n\\\", XGB_gblinear_tuned_val_perf)\\n\\n# Adding model to model comparison dataframes\\nmodels_train_comp_df[\\\"XGB_gblinear Tuned\\\"] = XGB_gblinear_tuned_train_perf.T\\nmodels_val_comp_df[\\\"XGB_gblinear Tuned\\\"] = XGB_gblinear_tuned_val_perf.T\";\n",
       "                var nbb_formatted_code = \"# Calculating different metrics\\nXGB_gblinear_tuned_train_perf = model_performance_regression(\\n    XGB_gblinear_tuned, X_train, y_train\\n)\\nprint(\\\"Training performance:\\\\n\\\", XGB_gblinear_tuned_train_perf)\\nXGB_gblinear_tuned_val_perf = model_performance_regression(\\n    XGB_gblinear_tuned, X_val, y_val\\n)\\nprint(\\\"\\\\nValidation performance:\\\\n\\\", XGB_gblinear_tuned_val_perf)\\n\\n# Adding model to model comparison dataframes\\nmodels_train_comp_df[\\\"XGB_gblinear Tuned\\\"] = XGB_gblinear_tuned_train_perf.T\\nmodels_val_comp_df[\\\"XGB_gblinear Tuned\\\"] = XGB_gblinear_tuned_val_perf.T\";\n",
       "                var nbb_cells = Jupyter.notebook.get_cells();\n",
       "                for (var i = 0; i < nbb_cells.length; ++i) {\n",
       "                    if (nbb_cells[i].input_prompt_number == nbb_cell_id) {\n",
       "                        if (nbb_cells[i].get_text() == nbb_unformatted_code) {\n",
       "                             nbb_cells[i].set_text(nbb_formatted_code);\n",
       "                        }\n",
       "                        break;\n",
       "                    }\n",
       "                }\n",
       "            }, 500);\n",
       "            "
      ],
      "text/plain": [
       "<IPython.core.display.Javascript object>"
      ]
     },
     "metadata": {},
     "output_type": "display_data"
    }
   ],
   "source": [
    "# Calculating different metrics\n",
    "XGB_gblinear_tuned_train_perf = model_performance_regression(\n",
    "    XGB_gblinear_tuned, X_train, y_train\n",
    ")\n",
    "print(\"Training performance:\\n\", XGB_gblinear_tuned_train_perf)\n",
    "XGB_gblinear_tuned_val_perf = model_performance_regression(\n",
    "    XGB_gblinear_tuned, X_val, y_val\n",
    ")\n",
    "print(\"\\nValidation performance:\\n\", XGB_gblinear_tuned_val_perf)\n",
    "\n",
    "# Adding model to model comparison dataframes\n",
    "models_train_comp_df[\"XGB_gblinear Tuned\"] = XGB_gblinear_tuned_train_perf.T\n",
    "models_val_comp_df[\"XGB_gblinear Tuned\"] = XGB_gblinear_tuned_val_perf.T"
   ]
  },
  {
   "cell_type": "markdown",
   "id": "627e4098",
   "metadata": {},
   "source": [
    "#### Observations:\n",
    "- *XGB_gblinear* also has improved performance with hyperparameter tuning.\n",
    "- Let us compare the models, before and after hyperparameter tuning."
   ]
  },
  {
   "cell_type": "markdown",
   "id": "a27ff942",
   "metadata": {},
   "source": [
    "## Model Performance Comparison"
   ]
  },
  {
   "cell_type": "markdown",
   "id": "d1dcb341",
   "metadata": {},
   "source": [
    "### Performance of Various Models Tuned and Untuned"
   ]
  },
  {
   "cell_type": "code",
   "execution_count": 32,
   "id": "eafdbe24",
   "metadata": {},
   "outputs": [
    {
     "name": "stdout",
     "output_type": "stream",
     "text": [
      "Train Performance Comparison:\n"
     ]
    },
    {
     "data": {
      "text/html": [
       "<div>\n",
       "<style scoped>\n",
       "    .dataframe tbody tr th:only-of-type {\n",
       "        vertical-align: middle;\n",
       "    }\n",
       "\n",
       "    .dataframe tbody tr th {\n",
       "        vertical-align: top;\n",
       "    }\n",
       "\n",
       "    .dataframe thead th {\n",
       "        text-align: right;\n",
       "    }\n",
       "</style>\n",
       "<table border=\"1\" class=\"dataframe\">\n",
       "  <thead>\n",
       "    <tr style=\"text-align: right;\">\n",
       "      <th></th>\n",
       "      <th>GBM</th>\n",
       "      <th>GBM Tuned</th>\n",
       "      <th>Random Forest</th>\n",
       "      <th>Random Forest Tuned</th>\n",
       "      <th>XGB_gblinear</th>\n",
       "      <th>XGB_gblinear Tuned</th>\n",
       "      <th>XGB_gbtree</th>\n",
       "      <th>XGB_gbtree Tuned</th>\n",
       "    </tr>\n",
       "  </thead>\n",
       "  <tbody>\n",
       "    <tr>\n",
       "      <th>RMSE</th>\n",
       "      <td>14.971421</td>\n",
       "      <td>14.835035</td>\n",
       "      <td>11.686697</td>\n",
       "      <td>14.585952</td>\n",
       "      <td>15.176245</td>\n",
       "      <td>15.103268</td>\n",
       "      <td>14.237993</td>\n",
       "      <td>14.813429</td>\n",
       "    </tr>\n",
       "    <tr>\n",
       "      <th>MAE</th>\n",
       "      <td>11.627512</td>\n",
       "      <td>11.521845</td>\n",
       "      <td>8.736482</td>\n",
       "      <td>11.329522</td>\n",
       "      <td>11.786491</td>\n",
       "      <td>11.729320</td>\n",
       "      <td>11.034927</td>\n",
       "      <td>11.504380</td>\n",
       "    </tr>\n",
       "    <tr>\n",
       "      <th>R-squared</th>\n",
       "      <td>0.108786</td>\n",
       "      <td>0.124949</td>\n",
       "      <td>0.456950</td>\n",
       "      <td>0.154087</td>\n",
       "      <td>0.084233</td>\n",
       "      <td>0.093019</td>\n",
       "      <td>0.193965</td>\n",
       "      <td>0.127496</td>\n",
       "    </tr>\n",
       "    <tr>\n",
       "      <th>Adj. R-squared</th>\n",
       "      <td>0.108228</td>\n",
       "      <td>0.124401</td>\n",
       "      <td>0.456610</td>\n",
       "      <td>0.153557</td>\n",
       "      <td>0.083660</td>\n",
       "      <td>0.092452</td>\n",
       "      <td>0.193461</td>\n",
       "      <td>0.126950</td>\n",
       "    </tr>\n",
       "    <tr>\n",
       "      <th>MAPE</th>\n",
       "      <td>19.221156</td>\n",
       "      <td>18.989296</td>\n",
       "      <td>13.944396</td>\n",
       "      <td>18.742804</td>\n",
       "      <td>19.426525</td>\n",
       "      <td>19.393489</td>\n",
       "      <td>18.032207</td>\n",
       "      <td>18.953973</td>\n",
       "    </tr>\n",
       "  </tbody>\n",
       "</table>\n",
       "</div>"
      ],
      "text/plain": [
       "                      GBM  GBM Tuned  Random Forest  Random Forest Tuned  \\\n",
       "RMSE            14.971421  14.835035      11.686697            14.585952   \n",
       "MAE             11.627512  11.521845       8.736482            11.329522   \n",
       "R-squared        0.108786   0.124949       0.456950             0.154087   \n",
       "Adj. R-squared   0.108228   0.124401       0.456610             0.153557   \n",
       "MAPE            19.221156  18.989296      13.944396            18.742804   \n",
       "\n",
       "                XGB_gblinear  XGB_gblinear Tuned  XGB_gbtree  XGB_gbtree Tuned  \n",
       "RMSE               15.176245           15.103268   14.237993         14.813429  \n",
       "MAE                11.786491           11.729320   11.034927         11.504380  \n",
       "R-squared           0.084233            0.093019    0.193965          0.127496  \n",
       "Adj. R-squared      0.083660            0.092452    0.193461          0.126950  \n",
       "MAPE               19.426525           19.393489   18.032207         18.953973  "
      ]
     },
     "execution_count": 32,
     "metadata": {},
     "output_type": "execute_result"
    },
    {
     "data": {
      "application/javascript": [
       "\n",
       "            setTimeout(function() {\n",
       "                var nbb_cell_id = 32;\n",
       "                var nbb_unformatted_code = \"# Displaying train performance of all models\\nprint(\\\"Train Performance Comparison:\\\")\\nmodels_train_comp_df.sort_index(axis=1)\";\n",
       "                var nbb_formatted_code = \"# Displaying train performance of all models\\nprint(\\\"Train Performance Comparison:\\\")\\nmodels_train_comp_df.sort_index(axis=1)\";\n",
       "                var nbb_cells = Jupyter.notebook.get_cells();\n",
       "                for (var i = 0; i < nbb_cells.length; ++i) {\n",
       "                    if (nbb_cells[i].input_prompt_number == nbb_cell_id) {\n",
       "                        if (nbb_cells[i].get_text() == nbb_unformatted_code) {\n",
       "                             nbb_cells[i].set_text(nbb_formatted_code);\n",
       "                        }\n",
       "                        break;\n",
       "                    }\n",
       "                }\n",
       "            }, 500);\n",
       "            "
      ],
      "text/plain": [
       "<IPython.core.display.Javascript object>"
      ]
     },
     "metadata": {},
     "output_type": "display_data"
    }
   ],
   "source": [
    "# Displaying train performance of all models\n",
    "print(\"Train Performance Comparison:\")\n",
    "models_train_comp_df.sort_index(axis=1)"
   ]
  },
  {
   "cell_type": "code",
   "execution_count": 33,
   "id": "ed958b1f",
   "metadata": {},
   "outputs": [
    {
     "name": "stdout",
     "output_type": "stream",
     "text": [
      "Validation Performance Comparison:\n"
     ]
    },
    {
     "data": {
      "text/html": [
       "<div>\n",
       "<style scoped>\n",
       "    .dataframe tbody tr th:only-of-type {\n",
       "        vertical-align: middle;\n",
       "    }\n",
       "\n",
       "    .dataframe tbody tr th {\n",
       "        vertical-align: top;\n",
       "    }\n",
       "\n",
       "    .dataframe thead th {\n",
       "        text-align: right;\n",
       "    }\n",
       "</style>\n",
       "<table border=\"1\" class=\"dataframe\">\n",
       "  <thead>\n",
       "    <tr style=\"text-align: right;\">\n",
       "      <th></th>\n",
       "      <th>GBM</th>\n",
       "      <th>GBM Tuned</th>\n",
       "      <th>Random Forest</th>\n",
       "      <th>Random Forest Tuned</th>\n",
       "      <th>XGB_gblinear</th>\n",
       "      <th>XGB_gblinear Tuned</th>\n",
       "      <th>XGB_gbtree</th>\n",
       "      <th>XGB_gbtree Tuned</th>\n",
       "    </tr>\n",
       "  </thead>\n",
       "  <tbody>\n",
       "    <tr>\n",
       "      <th>RMSE</th>\n",
       "      <td>14.922006</td>\n",
       "      <td>14.877704</td>\n",
       "      <td>16.271584</td>\n",
       "      <td>14.955767</td>\n",
       "      <td>15.058569</td>\n",
       "      <td>14.995251</td>\n",
       "      <td>15.022284</td>\n",
       "      <td>14.882834</td>\n",
       "    </tr>\n",
       "    <tr>\n",
       "      <th>MAE</th>\n",
       "      <td>11.580272</td>\n",
       "      <td>11.542386</td>\n",
       "      <td>12.558769</td>\n",
       "      <td>11.602186</td>\n",
       "      <td>11.698609</td>\n",
       "      <td>11.640131</td>\n",
       "      <td>11.632590</td>\n",
       "      <td>11.546377</td>\n",
       "    </tr>\n",
       "    <tr>\n",
       "      <th>R-squared</th>\n",
       "      <td>0.103555</td>\n",
       "      <td>0.108870</td>\n",
       "      <td>-0.065931</td>\n",
       "      <td>0.099494</td>\n",
       "      <td>0.087071</td>\n",
       "      <td>0.094733</td>\n",
       "      <td>0.091466</td>\n",
       "      <td>0.108255</td>\n",
       "    </tr>\n",
       "    <tr>\n",
       "      <th>Adj. R-squared</th>\n",
       "      <td>0.102244</td>\n",
       "      <td>0.107567</td>\n",
       "      <td>-0.067489</td>\n",
       "      <td>0.098177</td>\n",
       "      <td>0.085737</td>\n",
       "      <td>0.093409</td>\n",
       "      <td>0.090137</td>\n",
       "      <td>0.106951</td>\n",
       "    </tr>\n",
       "    <tr>\n",
       "      <th>MAPE</th>\n",
       "      <td>19.051063</td>\n",
       "      <td>18.937928</td>\n",
       "      <td>20.193462</td>\n",
       "      <td>19.098842</td>\n",
       "      <td>19.182797</td>\n",
       "      <td>19.152070</td>\n",
       "      <td>19.008358</td>\n",
       "      <td>18.931955</td>\n",
       "    </tr>\n",
       "  </tbody>\n",
       "</table>\n",
       "</div>"
      ],
      "text/plain": [
       "                      GBM  GBM Tuned  Random Forest  Random Forest Tuned  \\\n",
       "RMSE            14.922006  14.877704      16.271584            14.955767   \n",
       "MAE             11.580272  11.542386      12.558769            11.602186   \n",
       "R-squared        0.103555   0.108870      -0.065931             0.099494   \n",
       "Adj. R-squared   0.102244   0.107567      -0.067489             0.098177   \n",
       "MAPE            19.051063  18.937928      20.193462            19.098842   \n",
       "\n",
       "                XGB_gblinear  XGB_gblinear Tuned  XGB_gbtree  XGB_gbtree Tuned  \n",
       "RMSE               15.058569           14.995251   15.022284         14.882834  \n",
       "MAE                11.698609           11.640131   11.632590         11.546377  \n",
       "R-squared           0.087071            0.094733    0.091466          0.108255  \n",
       "Adj. R-squared      0.085737            0.093409    0.090137          0.106951  \n",
       "MAPE               19.182797           19.152070   19.008358         18.931955  "
      ]
     },
     "execution_count": 33,
     "metadata": {},
     "output_type": "execute_result"
    },
    {
     "data": {
      "application/javascript": [
       "\n",
       "            setTimeout(function() {\n",
       "                var nbb_cell_id = 33;\n",
       "                var nbb_unformatted_code = \"# Displaying validation performance of all models\\nprint(\\\"Validation Performance Comparison:\\\")\\nmodels_val_comp_df.sort_index(axis=1)\";\n",
       "                var nbb_formatted_code = \"# Displaying validation performance of all models\\nprint(\\\"Validation Performance Comparison:\\\")\\nmodels_val_comp_df.sort_index(axis=1)\";\n",
       "                var nbb_cells = Jupyter.notebook.get_cells();\n",
       "                for (var i = 0; i < nbb_cells.length; ++i) {\n",
       "                    if (nbb_cells[i].input_prompt_number == nbb_cell_id) {\n",
       "                        if (nbb_cells[i].get_text() == nbb_unformatted_code) {\n",
       "                             nbb_cells[i].set_text(nbb_formatted_code);\n",
       "                        }\n",
       "                        break;\n",
       "                    }\n",
       "                }\n",
       "            }, 500);\n",
       "            "
      ],
      "text/plain": [
       "<IPython.core.display.Javascript object>"
      ]
     },
     "metadata": {},
     "output_type": "display_data"
    }
   ],
   "source": [
    "# Displaying validation performance of all models\n",
    "print(\"Validation Performance Comparison:\")\n",
    "models_val_comp_df.sort_index(axis=1)"
   ]
  },
  {
   "cell_type": "markdown",
   "id": "db377c5d",
   "metadata": {},
   "source": [
    "#### Observations:\n",
    "- *GBM Tuned* has the highest R$^2$ (0.109) on the validation set, followed by *XGB_gbtree Tuned*, then *GBM*.\n",
    "- As we did not include the Decision Tree here, we can ignore Adjusted R$^2$, and just compare R$^2$.\n",
    "- Of the three models with R$^2$ scores over 10, there is some variation in overfitting."
   ]
  },
  {
   "cell_type": "markdown",
   "id": "b9676dad",
   "metadata": {},
   "source": [
    "#### Comparison of Percentage of Overfitting for R$^2$"
   ]
  },
  {
   "cell_type": "code",
   "execution_count": 34,
   "id": "233dce94",
   "metadata": {},
   "outputs": [
    {
     "name": "stdout",
     "output_type": "stream",
     "text": [
      "Percentage of R-square overfitting:\n"
     ]
    },
    {
     "data": {
      "text/plain": [
       "XGB_gblinear            -3.369217\n",
       "XGB_gblinear Tuned      -1.841764\n",
       "GBM                      4.808487\n",
       "GBM Tuned               12.868707\n",
       "XGB_gbtree Tuned        15.091493\n",
       "Random Forest Tuned     35.430160\n",
       "XGB_gbtree              52.844295\n",
       "Random Forest          114.428464\n",
       "Name: R-squared, dtype: float64"
      ]
     },
     "execution_count": 34,
     "metadata": {},
     "output_type": "execute_result"
    },
    {
     "data": {
      "application/javascript": [
       "\n",
       "            setTimeout(function() {\n",
       "                var nbb_cell_id = 34;\n",
       "                var nbb_unformatted_code = \"# Subtracting the ratio of validation R-square/train R-square from 1\\noverfit_perc = (\\n    1\\n    - (\\n        models_val_comp_df.loc[\\\"R-squared\\\", :]\\n        / models_train_comp_df.loc[\\\"R-squared\\\", :]\\n    )\\n) * 100\\n\\nprint(f\\\"Percentage of R-square overfitting:\\\")\\noverfit_perc.sort_values()\";\n",
       "                var nbb_formatted_code = \"# Subtracting the ratio of validation R-square/train R-square from 1\\noverfit_perc = (\\n    1\\n    - (\\n        models_val_comp_df.loc[\\\"R-squared\\\", :]\\n        / models_train_comp_df.loc[\\\"R-squared\\\", :]\\n    )\\n) * 100\\n\\nprint(f\\\"Percentage of R-square overfitting:\\\")\\noverfit_perc.sort_values()\";\n",
       "                var nbb_cells = Jupyter.notebook.get_cells();\n",
       "                for (var i = 0; i < nbb_cells.length; ++i) {\n",
       "                    if (nbb_cells[i].input_prompt_number == nbb_cell_id) {\n",
       "                        if (nbb_cells[i].get_text() == nbb_unformatted_code) {\n",
       "                             nbb_cells[i].set_text(nbb_formatted_code);\n",
       "                        }\n",
       "                        break;\n",
       "                    }\n",
       "                }\n",
       "            }, 500);\n",
       "            "
      ],
      "text/plain": [
       "<IPython.core.display.Javascript object>"
      ]
     },
     "metadata": {},
     "output_type": "display_data"
    }
   ],
   "source": [
    "# Subtracting the ratio of validation R-square/train R-square from 1\n",
    "overfit_perc = (\n",
    "    1\n",
    "    - (\n",
    "        models_val_comp_df.loc[\"R-squared\", :]\n",
    "        / models_train_comp_df.loc[\"R-squared\", :]\n",
    "    )\n",
    ") * 100\n",
    "\n",
    "print(f\"Percentage of R-square overfitting:\")\n",
    "overfit_perc.sort_values()"
   ]
  },
  {
   "cell_type": "markdown",
   "id": "b074931e",
   "metadata": {},
   "source": [
    "#### Observations:\n",
    "- *XGB_gblinear* and *XGB_gblinear Tuned* both performed better on the validation set, than the training set, which is interesting.\n",
    "- Of the top 3 models for R$^2$ score, *GBM* generalized considerably better than *GBM Tuned* and *XGB_gtree Tuned*.  \n",
    "- That said, *GBM Tuned* has the highest R$^2$ score on the validation set.\n",
    "- Next we will try another modeling iteration, replacing the one hot encoded `known_for` predictor with the original `known for` category columns.  For linear regression, we grouped entries with multiple `known for` categories into classes to reduce dimensionality.  We retained that approach for the above modeling iteration, but for this iteration we will allow entries to have their original multiple categories.  We will also include the `num_categories` feature in this iteration."
   ]
  },
  {
   "cell_type": "markdown",
   "id": "31317d01",
   "metadata": {},
   "source": [
    "## 2nd Modeling Iteration with Original `known for` Category Columns and `num_features`"
   ]
  },
  {
   "cell_type": "markdown",
   "id": "e3bec29e",
   "metadata": {},
   "source": [
    "### Defining Independent and Dependent Variables for Train and Validation Sets"
   ]
  },
  {
   "cell_type": "code",
   "execution_count": 35,
   "id": "13c39fb4",
   "metadata": {},
   "outputs": [
    {
     "name": "stdout",
     "output_type": "stream",
     "text": [
      "There are 54336 rows and 34 columns in the train set.\n",
      "\n",
      "There are 23288 rows and 34 columns in the validation set.\n",
      "\n"
     ]
    },
    {
     "data": {
      "text/html": [
       "<div>\n",
       "<style scoped>\n",
       "    .dataframe tbody tr th:only-of-type {\n",
       "        vertical-align: middle;\n",
       "    }\n",
       "\n",
       "    .dataframe tbody tr th {\n",
       "        vertical-align: top;\n",
       "    }\n",
       "\n",
       "    .dataframe thead th {\n",
       "        text-align: right;\n",
       "    }\n",
       "</style>\n",
       "<table border=\"1\" class=\"dataframe\">\n",
       "  <thead>\n",
       "    <tr style=\"text-align: right;\">\n",
       "      <th></th>\n",
       "      <th>num_references</th>\n",
       "      <th>years</th>\n",
       "      <th>sciences</th>\n",
       "      <th>social</th>\n",
       "      <th>spiritual</th>\n",
       "      <th>academia_humanities</th>\n",
       "      <th>business_farming</th>\n",
       "      <th>arts</th>\n",
       "      <th>sports</th>\n",
       "      <th>law_enf_military_operator</th>\n",
       "      <th>politics_govt_law</th>\n",
       "      <th>crime</th>\n",
       "      <th>num_categories</th>\n",
       "      <th>region_Asia</th>\n",
       "      <th>region_Central Asia</th>\n",
       "      <th>region_Europe</th>\n",
       "      <th>region_Mid-Cent America/Caribbean</th>\n",
       "      <th>region_Middle East</th>\n",
       "      <th>region_North America</th>\n",
       "      <th>region_Oceania</th>\n",
       "      <th>region_Russian Federation</th>\n",
       "      <th>region_South America</th>\n",
       "      <th>region_South East Asia</th>\n",
       "      <th>prior_region_Asia</th>\n",
       "      <th>prior_region_Central Asia</th>\n",
       "      <th>prior_region_Europe</th>\n",
       "      <th>prior_region_Mid-Cent America/Caribbean</th>\n",
       "      <th>prior_region_Middle East</th>\n",
       "      <th>prior_region_No Prior Region</th>\n",
       "      <th>prior_region_North America</th>\n",
       "      <th>prior_region_Oceania</th>\n",
       "      <th>prior_region_Russian Federation</th>\n",
       "      <th>prior_region_South America</th>\n",
       "      <th>prior_region_South East Asia</th>\n",
       "    </tr>\n",
       "  </thead>\n",
       "  <tbody>\n",
       "    <tr>\n",
       "      <th>9268</th>\n",
       "      <td>7.0</td>\n",
       "      <td>27.0</td>\n",
       "      <td>0.0</td>\n",
       "      <td>0.0</td>\n",
       "      <td>0.0</td>\n",
       "      <td>0.0</td>\n",
       "      <td>0.0</td>\n",
       "      <td>1.0</td>\n",
       "      <td>0.0</td>\n",
       "      <td>0.0</td>\n",
       "      <td>0.0</td>\n",
       "      <td>0.0</td>\n",
       "      <td>1.0</td>\n",
       "      <td>0.0</td>\n",
       "      <td>0.0</td>\n",
       "      <td>0.0</td>\n",
       "      <td>0.0</td>\n",
       "      <td>0.0</td>\n",
       "      <td>0.0</td>\n",
       "      <td>0.0</td>\n",
       "      <td>0.0</td>\n",
       "      <td>0.0</td>\n",
       "      <td>0.0</td>\n",
       "      <td>0.0</td>\n",
       "      <td>0.0</td>\n",
       "      <td>0.0</td>\n",
       "      <td>0.0</td>\n",
       "      <td>0.0</td>\n",
       "      <td>1.0</td>\n",
       "      <td>0.0</td>\n",
       "      <td>0.0</td>\n",
       "      <td>0.0</td>\n",
       "      <td>0.0</td>\n",
       "      <td>0.0</td>\n",
       "    </tr>\n",
       "  </tbody>\n",
       "</table>\n",
       "</div>"
      ],
      "text/plain": [
       "      num_references  years  sciences  social  spiritual  academia_humanities  \\\n",
       "9268             7.0   27.0       0.0     0.0        0.0                  0.0   \n",
       "\n",
       "      business_farming  arts  sports  law_enf_military_operator  \\\n",
       "9268               0.0   1.0     0.0                        0.0   \n",
       "\n",
       "      politics_govt_law  crime  num_categories  region_Asia  \\\n",
       "9268                0.0    0.0             1.0          0.0   \n",
       "\n",
       "      region_Central Asia  region_Europe  region_Mid-Cent America/Caribbean  \\\n",
       "9268                  0.0            0.0                                0.0   \n",
       "\n",
       "      region_Middle East  region_North America  region_Oceania  \\\n",
       "9268                 0.0                   0.0             0.0   \n",
       "\n",
       "      region_Russian Federation  region_South America  region_South East Asia  \\\n",
       "9268                        0.0                   0.0                     0.0   \n",
       "\n",
       "      prior_region_Asia  prior_region_Central Asia  prior_region_Europe  \\\n",
       "9268                0.0                        0.0                  0.0   \n",
       "\n",
       "      prior_region_Mid-Cent America/Caribbean  prior_region_Middle East  \\\n",
       "9268                                      0.0                       0.0   \n",
       "\n",
       "      prior_region_No Prior Region  prior_region_North America  \\\n",
       "9268                           1.0                         0.0   \n",
       "\n",
       "      prior_region_Oceania  prior_region_Russian Federation  \\\n",
       "9268                   0.0                              0.0   \n",
       "\n",
       "      prior_region_South America  prior_region_South East Asia  \n",
       "9268                         0.0                           0.0  "
      ]
     },
     "execution_count": 35,
     "metadata": {},
     "output_type": "execute_result"
    },
    {
     "data": {
      "application/javascript": [
       "\n",
       "            setTimeout(function() {\n",
       "                var nbb_cell_id = 35;\n",
       "                var nbb_unformatted_code = \"# Creating list of predictor columns\\npredictor_cols = [\\n    \\\"num_references\\\",\\n    \\\"years\\\",\\n    \\\"region\\\",\\n    \\\"prior_region\\\",\\n    \\\"sciences\\\",\\n    \\\"social\\\",\\n    \\\"spiritual\\\",\\n    \\\"academia_humanities\\\",\\n    \\\"business_farming\\\",\\n    \\\"arts\\\",\\n    \\\"sports\\\",\\n    \\\"law_enf_military_operator\\\",\\n    \\\"politics_govt_law\\\",\\n    \\\"crime\\\",\\n    \\\"num_categories\\\",\\n]\\n\\n# Defining target column\\ntarget = \\\"age\\\"\\n\\n# Defining independent and dependent variables\\nX = df[predictor_cols]\\ny = df[target]\\n\\n# One hot encoding of categorical predictors and typecasting all predictors as float\\nX = pd.get_dummies(X, drop_first=True).astype(\\\"float64\\\")\\n\\n# Splitting into 70:30 train and validation sets\\nX_train, X_val, y_train, y_val = train_test_split(X, y, test_size=0.3, random_state=42)\\n\\n# Checking shape of train and validation sets\\nprint(\\n    f\\\"There are {X_train.shape[0]} rows and {X_train.shape[1]} columns in the train set.\\\\n\\\"\\n)\\nprint(\\n    f\\\"There are {X_val.shape[0]} rows and {X_val.shape[1]} columns in the validation set.\\\\n\\\"\\n)\\n\\n# Checking a sample\\nX_train.sample()\";\n",
       "                var nbb_formatted_code = \"# Creating list of predictor columns\\npredictor_cols = [\\n    \\\"num_references\\\",\\n    \\\"years\\\",\\n    \\\"region\\\",\\n    \\\"prior_region\\\",\\n    \\\"sciences\\\",\\n    \\\"social\\\",\\n    \\\"spiritual\\\",\\n    \\\"academia_humanities\\\",\\n    \\\"business_farming\\\",\\n    \\\"arts\\\",\\n    \\\"sports\\\",\\n    \\\"law_enf_military_operator\\\",\\n    \\\"politics_govt_law\\\",\\n    \\\"crime\\\",\\n    \\\"num_categories\\\",\\n]\\n\\n# Defining target column\\ntarget = \\\"age\\\"\\n\\n# Defining independent and dependent variables\\nX = df[predictor_cols]\\ny = df[target]\\n\\n# One hot encoding of categorical predictors and typecasting all predictors as float\\nX = pd.get_dummies(X, drop_first=True).astype(\\\"float64\\\")\\n\\n# Splitting into 70:30 train and validation sets\\nX_train, X_val, y_train, y_val = train_test_split(X, y, test_size=0.3, random_state=42)\\n\\n# Checking shape of train and validation sets\\nprint(\\n    f\\\"There are {X_train.shape[0]} rows and {X_train.shape[1]} columns in the train set.\\\\n\\\"\\n)\\nprint(\\n    f\\\"There are {X_val.shape[0]} rows and {X_val.shape[1]} columns in the validation set.\\\\n\\\"\\n)\\n\\n# Checking a sample\\nX_train.sample()\";\n",
       "                var nbb_cells = Jupyter.notebook.get_cells();\n",
       "                for (var i = 0; i < nbb_cells.length; ++i) {\n",
       "                    if (nbb_cells[i].input_prompt_number == nbb_cell_id) {\n",
       "                        if (nbb_cells[i].get_text() == nbb_unformatted_code) {\n",
       "                             nbb_cells[i].set_text(nbb_formatted_code);\n",
       "                        }\n",
       "                        break;\n",
       "                    }\n",
       "                }\n",
       "            }, 500);\n",
       "            "
      ],
      "text/plain": [
       "<IPython.core.display.Javascript object>"
      ]
     },
     "metadata": {},
     "output_type": "display_data"
    }
   ],
   "source": [
    "# Creating list of predictor columns\n",
    "predictor_cols = [\n",
    "    \"num_references\",\n",
    "    \"years\",\n",
    "    \"region\",\n",
    "    \"prior_region\",\n",
    "    \"sciences\",\n",
    "    \"social\",\n",
    "    \"spiritual\",\n",
    "    \"academia_humanities\",\n",
    "    \"business_farming\",\n",
    "    \"arts\",\n",
    "    \"sports\",\n",
    "    \"law_enf_military_operator\",\n",
    "    \"politics_govt_law\",\n",
    "    \"crime\",\n",
    "    \"num_categories\",\n",
    "]\n",
    "\n",
    "# Defining target column\n",
    "target = \"age\"\n",
    "\n",
    "# Defining independent and dependent variables\n",
    "X = df[predictor_cols]\n",
    "y = df[target]\n",
    "\n",
    "# One hot encoding of categorical predictors and typecasting all predictors as float\n",
    "X = pd.get_dummies(X, drop_first=True).astype(\"float64\")\n",
    "\n",
    "# Splitting into 70:30 train and validation sets\n",
    "X_train, X_val, y_train, y_val = train_test_split(X, y, test_size=0.3, random_state=42)\n",
    "\n",
    "# Checking shape of train and validation sets\n",
    "print(\n",
    "    f\"There are {X_train.shape[0]} rows and {X_train.shape[1]} columns in the train set.\\n\"\n",
    ")\n",
    "print(\n",
    "    f\"There are {X_val.shape[0]} rows and {X_val.shape[1]} columns in the validation set.\\n\"\n",
    ")\n",
    "\n",
    "# Checking a sample\n",
    "X_train.sample()"
   ]
  },
  {
   "cell_type": "markdown",
   "id": "12f2d0b7",
   "metadata": {},
   "source": [
    "#### Defining Scorer for Cross-validation and Hyperparameter Tuning"
   ]
  },
  {
   "cell_type": "code",
   "execution_count": 36,
   "id": "091141e6",
   "metadata": {},
   "outputs": [
    {
     "data": {
      "application/javascript": [
       "\n",
       "            setTimeout(function() {\n",
       "                var nbb_cell_id = 36;\n",
       "                var nbb_unformatted_code = \"# Type of scoring used to compare parameter combinations--maximizing Adj R-squared\\nscorer = \\\"r2\\\"\";\n",
       "                var nbb_formatted_code = \"# Type of scoring used to compare parameter combinations--maximizing Adj R-squared\\nscorer = \\\"r2\\\"\";\n",
       "                var nbb_cells = Jupyter.notebook.get_cells();\n",
       "                for (var i = 0; i < nbb_cells.length; ++i) {\n",
       "                    if (nbb_cells[i].input_prompt_number == nbb_cell_id) {\n",
       "                        if (nbb_cells[i].get_text() == nbb_unformatted_code) {\n",
       "                             nbb_cells[i].set_text(nbb_formatted_code);\n",
       "                        }\n",
       "                        break;\n",
       "                    }\n",
       "                }\n",
       "            }, 500);\n",
       "            "
      ],
      "text/plain": [
       "<IPython.core.display.Javascript object>"
      ]
     },
     "metadata": {},
     "output_type": "display_data"
    }
   ],
   "source": [
    "# Type of scoring used to compare parameter combinations--maximizing Adj R-squared\n",
    "scorer = \"r2\""
   ]
  },
  {
   "cell_type": "markdown",
   "id": "1737ee02",
   "metadata": {},
   "source": [
    "### Building the Models"
   ]
  },
  {
   "cell_type": "code",
   "execution_count": 37,
   "id": "c72709d9",
   "metadata": {},
   "outputs": [
    {
     "name": "stdout",
     "output_type": "stream",
     "text": [
      "\n",
      "Cross-Validation:\n",
      "\n",
      "Dtree2: -0.39988031150791087\n",
      "Random Forest2: -0.055391943965687626\n",
      "Bagging Dtree2: -0.09151226074998306\n",
      "GBM2: 0.10458496917399238\n",
      "AdaBoost Dtree2: -0.04659101299906472\n",
      "XGB_gbtree2: 0.09199892946363704\n",
      "XGB_gblinear2: 0.08818035818041123\n",
      "\n",
      "Validation Performance:\n",
      "\n",
      "Dtree2: -0.3874580410488391\n",
      "Random Forest2: -0.05737130520636269\n",
      "Bagging Dtree2: -0.09428953449035293\n",
      "GBM2: 0.10690165941428653\n",
      "AdaBoost Dtree2: -0.08047644155074885\n",
      "XGB_gbtree2: 0.09741681484821774\n",
      "XGB_gblinear2: 0.090979276948844\n",
      "CPU times: total: 3min 55s\n",
      "Wall time: 1min 29s\n"
     ]
    },
    {
     "data": {
      "application/javascript": [
       "\n",
       "            setTimeout(function() {\n",
       "                var nbb_cell_id = 37;\n",
       "                var nbb_unformatted_code = \"%%time\\n\\n# Creating list to store the models\\nmodels = []\\n\\n# Appending models to the list\\nmodels.append(('Dtree2', DecisionTreeRegressor(random_state=42)))\\n\\nmodels.append(('Random Forest2', RandomForestRegressor(random_state=42)))\\n\\nmodels.append(('Bagging Dtree2', BaggingRegressor(random_state=42)))\\n\\nmodels.append(('GBM2', GradientBoostingRegressor(random_state=42)))\\n\\nmodels.append(('AdaBoost Dtree2', AdaBoostRegressor(random_state=42)))\\n\\nmodels.append(('XGB_gbtree2', XGBRegressor(random_state=42)))\\n\\nmodels.append(('XGB_gblinear2', XGBRegressor(random_state=42, booster='gblinear')))\\n\\n# Create empty list to store all model's names and CV scores\\nnames = []\\nresults = []\\n\\n# Loop through all models to get the mean cross validated score\\nprint(\\\"\\\\n\\\" \\\"Cross-Validation:\\\" \\\"\\\\n\\\")\\n\\nfor name, model in models:\\n    cv_result = cross_val_score(\\n        estimator=model, X=X_train, y=y_train, scoring=scorer, cv=5\\n    )\\n    results.append(cv_result)\\n    names.append(name)\\n    print(f\\\"{name}: {cv_result.mean()}\\\")\\n    \\nprint(\\\"\\\\n\\\" \\\"Validation Performance:\\\" \\\"\\\\n\\\")\\n\\nfor name, model in models:\\n    model.fit(X_train, y_train)\\n    scores = r2_score(y_val, model.predict(X_val))\\n    print(\\\"{}: {}\\\".format(name, scores))\";\n",
       "                var nbb_formatted_code = \"%%time\\n\\n# Creating list to store the models\\nmodels = []\\n\\n# Appending models to the list\\nmodels.append(('Dtree2', DecisionTreeRegressor(random_state=42)))\\n\\nmodels.append(('Random Forest2', RandomForestRegressor(random_state=42)))\\n\\nmodels.append(('Bagging Dtree2', BaggingRegressor(random_state=42)))\\n\\nmodels.append(('GBM2', GradientBoostingRegressor(random_state=42)))\\n\\nmodels.append(('AdaBoost Dtree2', AdaBoostRegressor(random_state=42)))\\n\\nmodels.append(('XGB_gbtree2', XGBRegressor(random_state=42)))\\n\\nmodels.append(('XGB_gblinear2', XGBRegressor(random_state=42, booster='gblinear')))\\n\\n# Create empty list to store all model's names and CV scores\\nnames = []\\nresults = []\\n\\n# Loop through all models to get the mean cross validated score\\nprint(\\\"\\\\n\\\" \\\"Cross-Validation:\\\" \\\"\\\\n\\\")\\n\\nfor name, model in models:\\n    cv_result = cross_val_score(\\n        estimator=model, X=X_train, y=y_train, scoring=scorer, cv=5\\n    )\\n    results.append(cv_result)\\n    names.append(name)\\n    print(f\\\"{name}: {cv_result.mean()}\\\")\\n    \\nprint(\\\"\\\\n\\\" \\\"Validation Performance:\\\" \\\"\\\\n\\\")\\n\\nfor name, model in models:\\n    model.fit(X_train, y_train)\\n    scores = r2_score(y_val, model.predict(X_val))\\n    print(\\\"{}: {}\\\".format(name, scores))\";\n",
       "                var nbb_cells = Jupyter.notebook.get_cells();\n",
       "                for (var i = 0; i < nbb_cells.length; ++i) {\n",
       "                    if (nbb_cells[i].input_prompt_number == nbb_cell_id) {\n",
       "                        if (nbb_cells[i].get_text() == nbb_unformatted_code) {\n",
       "                             nbb_cells[i].set_text(nbb_formatted_code);\n",
       "                        }\n",
       "                        break;\n",
       "                    }\n",
       "                }\n",
       "            }, 500);\n",
       "            "
      ],
      "text/plain": [
       "<IPython.core.display.Javascript object>"
      ]
     },
     "metadata": {},
     "output_type": "display_data"
    }
   ],
   "source": [
    "%%time\n",
    "\n",
    "# Creating list to store the models\n",
    "models = []\n",
    "\n",
    "# Appending models to the list\n",
    "models.append(('Dtree2', DecisionTreeRegressor(random_state=42)))\n",
    "\n",
    "models.append(('Random Forest2', RandomForestRegressor(random_state=42)))\n",
    "\n",
    "models.append(('Bagging Dtree2', BaggingRegressor(random_state=42)))\n",
    "\n",
    "models.append(('GBM2', GradientBoostingRegressor(random_state=42)))\n",
    "\n",
    "models.append(('AdaBoost Dtree2', AdaBoostRegressor(random_state=42)))\n",
    "\n",
    "models.append(('XGB_gbtree2', XGBRegressor(random_state=42)))\n",
    "\n",
    "models.append(('XGB_gblinear2', XGBRegressor(random_state=42, booster='gblinear')))\n",
    "\n",
    "# Create empty list to store all model's names and CV scores\n",
    "names = []\n",
    "results = []\n",
    "\n",
    "# Loop through all models to get the mean cross validated score\n",
    "print(\"\\n\" \"Cross-Validation:\" \"\\n\")\n",
    "\n",
    "for name, model in models:\n",
    "    cv_result = cross_val_score(\n",
    "        estimator=model, X=X_train, y=y_train, scoring=scorer, cv=5\n",
    "    )\n",
    "    results.append(cv_result)\n",
    "    names.append(name)\n",
    "    print(f\"{name}: {cv_result.mean()}\")\n",
    "    \n",
    "print(\"\\n\" \"Validation Performance:\" \"\\n\")\n",
    "\n",
    "for name, model in models:\n",
    "    model.fit(X_train, y_train)\n",
    "    scores = r2_score(y_val, model.predict(X_val))\n",
    "    print(\"{}: {}\".format(name, scores))"
   ]
  },
  {
   "cell_type": "code",
   "execution_count": 38,
   "id": "8c8051d8",
   "metadata": {},
   "outputs": [
    {
     "data": {
      "image/png": "[encoded data removed]",
      "text/plain": [
       "<Figure size 1440x504 with 1 Axes>"
      ]
     },
     "metadata": {},
     "output_type": "display_data"
    },
    {
     "data": {
      "application/javascript": [
       "\n",
       "            setTimeout(function() {\n",
       "                var nbb_cell_id = 38;\n",
       "                var nbb_unformatted_code = \"# Plotting boxplots for CV scores of all models defined above\\nfig = plt.figure(figsize=(20, 7))\\n\\nfig.suptitle(\\\"Algorithm Comparison for Cross-validation R-squared Score\\\")\\nax = fig.add_subplot(111)\\n\\nplt.boxplot(results)\\nax.set_xticklabels(names)\\nplt.xticks(rotation=30)\\n\\nplt.show()\";\n",
       "                var nbb_formatted_code = \"# Plotting boxplots for CV scores of all models defined above\\nfig = plt.figure(figsize=(20, 7))\\n\\nfig.suptitle(\\\"Algorithm Comparison for Cross-validation R-squared Score\\\")\\nax = fig.add_subplot(111)\\n\\nplt.boxplot(results)\\nax.set_xticklabels(names)\\nplt.xticks(rotation=30)\\n\\nplt.show()\";\n",
       "                var nbb_cells = Jupyter.notebook.get_cells();\n",
       "                for (var i = 0; i < nbb_cells.length; ++i) {\n",
       "                    if (nbb_cells[i].input_prompt_number == nbb_cell_id) {\n",
       "                        if (nbb_cells[i].get_text() == nbb_unformatted_code) {\n",
       "                             nbb_cells[i].set_text(nbb_formatted_code);\n",
       "                        }\n",
       "                        break;\n",
       "                    }\n",
       "                }\n",
       "            }, 500);\n",
       "            "
      ],
      "text/plain": [
       "<IPython.core.display.Javascript object>"
      ]
     },
     "metadata": {},
     "output_type": "display_data"
    }
   ],
   "source": [
    "# Plotting boxplots for CV scores of all models defined above\n",
    "fig = plt.figure(figsize=(20, 7))\n",
    "\n",
    "fig.suptitle(\"Algorithm Comparison for Cross-validation R-squared Score\")\n",
    "ax = fig.add_subplot(111)\n",
    "\n",
    "plt.boxplot(results)\n",
    "ax.set_xticklabels(names)\n",
    "plt.xticks(rotation=30)\n",
    "\n",
    "plt.show()"
   ]
  },
  {
   "cell_type": "markdown",
   "id": "ad83c51d",
   "metadata": {},
   "source": [
    "#### Observations:\n",
    "- So far, the performances are similar to the first modeling iteration above.\n",
    "- We will perform hyperparameter tuning on the top 3 models and again keep *Random Forest2* in the mix."
   ]
  },
  {
   "cell_type": "markdown",
   "id": "17777769",
   "metadata": {},
   "source": [
    "#### Collecting Models with Best Performance"
   ]
  },
  {
   "cell_type": "code",
   "execution_count": 39,
   "id": "31644f82",
   "metadata": {},
   "outputs": [
    {
     "data": {
      "application/javascript": [
       "\n",
       "            setTimeout(function() {\n",
       "                var nbb_cell_id = 39;\n",
       "                var nbb_unformatted_code = \"# List of top models so far\\ntop_models = [models[1]] + [models[3]] + models[-2:]\";\n",
       "                var nbb_formatted_code = \"# List of top models so far\\ntop_models = [models[1]] + [models[3]] + models[-2:]\";\n",
       "                var nbb_cells = Jupyter.notebook.get_cells();\n",
       "                for (var i = 0; i < nbb_cells.length; ++i) {\n",
       "                    if (nbb_cells[i].input_prompt_number == nbb_cell_id) {\n",
       "                        if (nbb_cells[i].get_text() == nbb_unformatted_code) {\n",
       "                             nbb_cells[i].set_text(nbb_formatted_code);\n",
       "                        }\n",
       "                        break;\n",
       "                    }\n",
       "                }\n",
       "            }, 500);\n",
       "            "
      ],
      "text/plain": [
       "<IPython.core.display.Javascript object>"
      ]
     },
     "metadata": {},
     "output_type": "display_data"
    }
   ],
   "source": [
    "# List of top models so far\n",
    "top_models = [models[1]] + [models[3]] + models[-2:]"
   ]
  },
  {
   "cell_type": "markdown",
   "id": "bdf8ed15",
   "metadata": {},
   "source": [
    "#### Creating Dataframes to Compare Training and Validation Performance of Best Models"
   ]
  },
  {
   "cell_type": "code",
   "execution_count": 40,
   "id": "eac3f2e7",
   "metadata": {},
   "outputs": [
    {
     "data": {
      "application/javascript": [
       "\n",
       "            setTimeout(function() {\n",
       "                var nbb_cell_id = 40;\n",
       "                var nbb_unformatted_code = \"# Creating empty dictionary to hold the models\\nmodels_to_tune = {}\\n\\n# For loop to add models to dictionary\\nfor model in top_models:\\n    key = model[0]\\n    value = model[1]\\n    models_to_tune[key] = value\\n\\n# For loop to add performance results of each top model\\nfor name, model in models_to_tune.items():\\n    models_train_comp_df[name] = model_performance_regression(model, X_train, y_train).T\\n    models_val_comp_df[name] = model_performance_regression(model, X_val, y_val).T\";\n",
       "                var nbb_formatted_code = \"# Creating empty dictionary to hold the models\\nmodels_to_tune = {}\\n\\n# For loop to add models to dictionary\\nfor model in top_models:\\n    key = model[0]\\n    value = model[1]\\n    models_to_tune[key] = value\\n\\n# For loop to add performance results of each top model\\nfor name, model in models_to_tune.items():\\n    models_train_comp_df[name] = model_performance_regression(model, X_train, y_train).T\\n    models_val_comp_df[name] = model_performance_regression(model, X_val, y_val).T\";\n",
       "                var nbb_cells = Jupyter.notebook.get_cells();\n",
       "                for (var i = 0; i < nbb_cells.length; ++i) {\n",
       "                    if (nbb_cells[i].input_prompt_number == nbb_cell_id) {\n",
       "                        if (nbb_cells[i].get_text() == nbb_unformatted_code) {\n",
       "                             nbb_cells[i].set_text(nbb_formatted_code);\n",
       "                        }\n",
       "                        break;\n",
       "                    }\n",
       "                }\n",
       "            }, 500);\n",
       "            "
      ],
      "text/plain": [
       "<IPython.core.display.Javascript object>"
      ]
     },
     "metadata": {},
     "output_type": "display_data"
    }
   ],
   "source": [
    "# Creating empty dictionary to hold the models\n",
    "models_to_tune = {}\n",
    "\n",
    "# For loop to add models to dictionary\n",
    "for model in top_models:\n",
    "    key = model[0]\n",
    "    value = model[1]\n",
    "    models_to_tune[key] = value\n",
    "\n",
    "# For loop to add performance results of each top model\n",
    "for name, model in models_to_tune.items():\n",
    "    models_train_comp_df[name] = model_performance_regression(model, X_train, y_train).T\n",
    "    models_val_comp_df[name] = model_performance_regression(model, X_val, y_val).T"
   ]
  },
  {
   "cell_type": "markdown",
   "id": "17466a60",
   "metadata": {},
   "source": [
    "#### Comparing Top Models Before Hyperparameter Tuning"
   ]
  },
  {
   "cell_type": "code",
   "execution_count": 41,
   "id": "d7a2bc20",
   "metadata": {},
   "outputs": [
    {
     "name": "stdout",
     "output_type": "stream",
     "text": [
      "Training Performance:\n"
     ]
    },
    {
     "data": {
      "text/html": [
       "<div>\n",
       "<style scoped>\n",
       "    .dataframe tbody tr th:only-of-type {\n",
       "        vertical-align: middle;\n",
       "    }\n",
       "\n",
       "    .dataframe tbody tr th {\n",
       "        vertical-align: top;\n",
       "    }\n",
       "\n",
       "    .dataframe thead th {\n",
       "        text-align: right;\n",
       "    }\n",
       "</style>\n",
       "<table border=\"1\" class=\"dataframe\">\n",
       "  <thead>\n",
       "    <tr style=\"text-align: right;\">\n",
       "      <th></th>\n",
       "      <th>Random Forest2</th>\n",
       "      <th>GBM2</th>\n",
       "      <th>XGB_gbtree2</th>\n",
       "      <th>XGB_gblinear2</th>\n",
       "    </tr>\n",
       "  </thead>\n",
       "  <tbody>\n",
       "    <tr>\n",
       "      <th>RMSE</th>\n",
       "      <td>11.328976</td>\n",
       "      <td>14.937480</td>\n",
       "      <td>14.196740</td>\n",
       "      <td>15.129844</td>\n",
       "    </tr>\n",
       "    <tr>\n",
       "      <th>MAE</th>\n",
       "      <td>8.362030</td>\n",
       "      <td>11.599899</td>\n",
       "      <td>10.984573</td>\n",
       "      <td>11.741797</td>\n",
       "    </tr>\n",
       "    <tr>\n",
       "      <th>R-squared</th>\n",
       "      <td>0.489686</td>\n",
       "      <td>0.112822</td>\n",
       "      <td>0.198629</td>\n",
       "      <td>0.089825</td>\n",
       "    </tr>\n",
       "    <tr>\n",
       "      <th>Adj. R-squared</th>\n",
       "      <td>0.489367</td>\n",
       "      <td>0.112266</td>\n",
       "      <td>0.198128</td>\n",
       "      <td>0.089255</td>\n",
       "    </tr>\n",
       "    <tr>\n",
       "      <th>MAPE</th>\n",
       "      <td>13.404005</td>\n",
       "      <td>19.178492</td>\n",
       "      <td>17.982195</td>\n",
       "      <td>19.384322</td>\n",
       "    </tr>\n",
       "  </tbody>\n",
       "</table>\n",
       "</div>"
      ],
      "text/plain": [
       "                Random Forest2       GBM2  XGB_gbtree2  XGB_gblinear2\n",
       "RMSE                 11.328976  14.937480    14.196740      15.129844\n",
       "MAE                   8.362030  11.599899    10.984573      11.741797\n",
       "R-squared             0.489686   0.112822     0.198629       0.089825\n",
       "Adj. R-squared        0.489367   0.112266     0.198128       0.089255\n",
       "MAPE                 13.404005  19.178492    17.982195      19.384322"
      ]
     },
     "execution_count": 41,
     "metadata": {},
     "output_type": "execute_result"
    },
    {
     "data": {
      "application/javascript": [
       "\n",
       "            setTimeout(function() {\n",
       "                var nbb_cell_id = 41;\n",
       "                var nbb_unformatted_code = \"# Comparing train performance\\nprint(f\\\"Training Performance:\\\")\\nmodels_train_comp_df[[key for key in models_to_tune.keys()]]\";\n",
       "                var nbb_formatted_code = \"# Comparing train performance\\nprint(f\\\"Training Performance:\\\")\\nmodels_train_comp_df[[key for key in models_to_tune.keys()]]\";\n",
       "                var nbb_cells = Jupyter.notebook.get_cells();\n",
       "                for (var i = 0; i < nbb_cells.length; ++i) {\n",
       "                    if (nbb_cells[i].input_prompt_number == nbb_cell_id) {\n",
       "                        if (nbb_cells[i].get_text() == nbb_unformatted_code) {\n",
       "                             nbb_cells[i].set_text(nbb_formatted_code);\n",
       "                        }\n",
       "                        break;\n",
       "                    }\n",
       "                }\n",
       "            }, 500);\n",
       "            "
      ],
      "text/plain": [
       "<IPython.core.display.Javascript object>"
      ]
     },
     "metadata": {},
     "output_type": "display_data"
    }
   ],
   "source": [
    "# Comparing train performance\n",
    "print(f\"Training Performance:\")\n",
    "models_train_comp_df[[key for key in models_to_tune.keys()]]"
   ]
  },
  {
   "cell_type": "code",
   "execution_count": 42,
   "id": "2afc9145",
   "metadata": {},
   "outputs": [
    {
     "name": "stdout",
     "output_type": "stream",
     "text": [
      "Validation Performance:\n"
     ]
    },
    {
     "data": {
      "text/html": [
       "<div>\n",
       "<style scoped>\n",
       "    .dataframe tbody tr th:only-of-type {\n",
       "        vertical-align: middle;\n",
       "    }\n",
       "\n",
       "    .dataframe tbody tr th {\n",
       "        vertical-align: top;\n",
       "    }\n",
       "\n",
       "    .dataframe thead th {\n",
       "        text-align: right;\n",
       "    }\n",
       "</style>\n",
       "<table border=\"1\" class=\"dataframe\">\n",
       "  <thead>\n",
       "    <tr style=\"text-align: right;\">\n",
       "      <th></th>\n",
       "      <th>Random Forest2</th>\n",
       "      <th>GBM2</th>\n",
       "      <th>XGB_gbtree2</th>\n",
       "      <th>XGB_gblinear2</th>\n",
       "    </tr>\n",
       "  </thead>\n",
       "  <tbody>\n",
       "    <tr>\n",
       "      <th>RMSE</th>\n",
       "      <td>16.206121</td>\n",
       "      <td>14.894124</td>\n",
       "      <td>14.973004</td>\n",
       "      <td>15.026305</td>\n",
       "    </tr>\n",
       "    <tr>\n",
       "      <th>MAE</th>\n",
       "      <td>12.476262</td>\n",
       "      <td>11.552854</td>\n",
       "      <td>11.582826</td>\n",
       "      <td>11.654886</td>\n",
       "    </tr>\n",
       "    <tr>\n",
       "      <th>R-squared</th>\n",
       "      <td>-0.057371</td>\n",
       "      <td>0.106902</td>\n",
       "      <td>0.097417</td>\n",
       "      <td>0.090979</td>\n",
       "    </tr>\n",
       "    <tr>\n",
       "      <th>Adj. R-squared</th>\n",
       "      <td>-0.058917</td>\n",
       "      <td>0.105596</td>\n",
       "      <td>0.096097</td>\n",
       "      <td>0.089650</td>\n",
       "    </tr>\n",
       "    <tr>\n",
       "      <th>MAPE</th>\n",
       "      <td>20.071146</td>\n",
       "      <td>19.011210</td>\n",
       "      <td>18.941080</td>\n",
       "      <td>19.158340</td>\n",
       "    </tr>\n",
       "  </tbody>\n",
       "</table>\n",
       "</div>"
      ],
      "text/plain": [
       "                Random Forest2       GBM2  XGB_gbtree2  XGB_gblinear2\n",
       "RMSE                 16.206121  14.894124    14.973004      15.026305\n",
       "MAE                  12.476262  11.552854    11.582826      11.654886\n",
       "R-squared            -0.057371   0.106902     0.097417       0.090979\n",
       "Adj. R-squared       -0.058917   0.105596     0.096097       0.089650\n",
       "MAPE                 20.071146  19.011210    18.941080      19.158340"
      ]
     },
     "execution_count": 42,
     "metadata": {},
     "output_type": "execute_result"
    },
    {
     "data": {
      "application/javascript": [
       "\n",
       "            setTimeout(function() {\n",
       "                var nbb_cell_id = 42;\n",
       "                var nbb_unformatted_code = \"# Comparing validation performance\\nprint(f\\\"Validation Performance:\\\")\\nmodels_val_comp_df[[key for key in models_to_tune.keys()]]\";\n",
       "                var nbb_formatted_code = \"# Comparing validation performance\\nprint(f\\\"Validation Performance:\\\")\\nmodels_val_comp_df[[key for key in models_to_tune.keys()]]\";\n",
       "                var nbb_cells = Jupyter.notebook.get_cells();\n",
       "                for (var i = 0; i < nbb_cells.length; ++i) {\n",
       "                    if (nbb_cells[i].input_prompt_number == nbb_cell_id) {\n",
       "                        if (nbb_cells[i].get_text() == nbb_unformatted_code) {\n",
       "                             nbb_cells[i].set_text(nbb_formatted_code);\n",
       "                        }\n",
       "                        break;\n",
       "                    }\n",
       "                }\n",
       "            }, 500);\n",
       "            "
      ],
      "text/plain": [
       "<IPython.core.display.Javascript object>"
      ]
     },
     "metadata": {},
     "output_type": "display_data"
    }
   ],
   "source": [
    "# Comparing validation performance\n",
    "print(f\"Validation Performance:\")\n",
    "models_val_comp_df[[key for key in models_to_tune.keys()]]"
   ]
  },
  {
   "cell_type": "markdown",
   "id": "84e812ca",
   "metadata": {},
   "source": [
    "#### Observations:\n",
    "- Here, we compare the performance on the full train set to the validation set.\n",
    "- As with the first iteration above, only *GBM2* and *XGB_gblinear2* are giving generalized performances on the two sets.\n",
    "- We will proceed with hyperparameter tuning."
   ]
  },
  {
   "cell_type": "markdown",
   "id": "b59aace1",
   "metadata": {},
   "source": [
    "## Hyperparameter Tuning"
   ]
  },
  {
   "cell_type": "markdown",
   "id": "4c9645e8",
   "metadata": {},
   "source": [
    "### *Random Forest2 Tuned*"
   ]
  },
  {
   "cell_type": "code",
   "execution_count": 43,
   "id": "fdc0fd0b",
   "metadata": {},
   "outputs": [
    {
     "data": {
      "text/plain": [
       "RandomForestRegressor(random_state=42)"
      ]
     },
     "execution_count": 43,
     "metadata": {},
     "output_type": "execute_result"
    },
    {
     "data": {
      "application/javascript": [
       "\n",
       "            setTimeout(function() {\n",
       "                var nbb_cell_id = 43;\n",
       "                var nbb_unformatted_code = \"# Confirming the model\\nmodels_to_tune[\\\"Random Forest2\\\"]\";\n",
       "                var nbb_formatted_code = \"# Confirming the model\\nmodels_to_tune[\\\"Random Forest2\\\"]\";\n",
       "                var nbb_cells = Jupyter.notebook.get_cells();\n",
       "                for (var i = 0; i < nbb_cells.length; ++i) {\n",
       "                    if (nbb_cells[i].input_prompt_number == nbb_cell_id) {\n",
       "                        if (nbb_cells[i].get_text() == nbb_unformatted_code) {\n",
       "                             nbb_cells[i].set_text(nbb_formatted_code);\n",
       "                        }\n",
       "                        break;\n",
       "                    }\n",
       "                }\n",
       "            }, 500);\n",
       "            "
      ],
      "text/plain": [
       "<IPython.core.display.Javascript object>"
      ]
     },
     "metadata": {},
     "output_type": "display_data"
    }
   ],
   "source": [
    "# Confirming the model\n",
    "models_to_tune[\"Random Forest2\"]"
   ]
  },
  {
   "cell_type": "code",
   "execution_count": 44,
   "id": "c0c1d615",
   "metadata": {},
   "outputs": [
    {
     "name": "stdout",
     "output_type": "stream",
     "text": [
      "Best parameters are {'criterion': 'squared_error', 'max_depth': None, 'max_features': 'sqrt', 'max_samples': 0.7162213204002108, 'min_samples_leaf': 5, 'n_estimators': 485} with CV score=0.10627175102316326:\n",
      "CPU times: total: 7.98 s\n",
      "Wall time: 1min 11s\n"
     ]
    },
    {
     "data": {
      "application/javascript": [
       "\n",
       "            setTimeout(function() {\n",
       "                var nbb_cell_id = 44;\n",
       "                var nbb_unformatted_code = \"%%time\\n\\n# Defining model\\nModel = RandomForestRegressor(random_state=42)\\n\\n# Parameter grid to pass in RandomizedSearchCV\\nparam_grid = { \\n    \\\"n_estimators\\\": np.arange(100, 500), \\n    \\\"min_samples_leaf\\\": [None] + np.arange(1, 10).tolist(),\\n    \\\"max_features\\\": ['sqrt'], \\n    \\\"max_samples\\\": uniform(loc=0.3, scale=0.5),\\n    'criterion': ['squared_error'],\\n    \\\"max_depth\\\": [None]\\n}\\n\\n# Calling RandomizedSearchCV\\nrandomized_cv = RandomizedSearchCV(\\n    estimator=Model,\\n    param_distributions=param_grid,\\n    n_iter=10,\\n    n_jobs=-1,\\n    scoring=scorer,\\n    cv=5,\\n    random_state=42,\\n)\\n\\n# Fitting parameters in RandomizedSearchCV\\nrandomized_cv.fit(X_train, y_train)\\n\\nprint(\\n    \\\"Best parameters are {} with CV score={}:\\\".format(\\n        randomized_cv.best_params_, randomized_cv.best_score_\\n    )\\n)\\n\\n# Chime notification when cell successfully executes\\nchime.success()\";\n",
       "                var nbb_formatted_code = \"%%time\\n\\n# Defining model\\nModel = RandomForestRegressor(random_state=42)\\n\\n# Parameter grid to pass in RandomizedSearchCV\\nparam_grid = { \\n    \\\"n_estimators\\\": np.arange(100, 500), \\n    \\\"min_samples_leaf\\\": [None] + np.arange(1, 10).tolist(),\\n    \\\"max_features\\\": ['sqrt'], \\n    \\\"max_samples\\\": uniform(loc=0.3, scale=0.5),\\n    'criterion': ['squared_error'],\\n    \\\"max_depth\\\": [None]\\n}\\n\\n# Calling RandomizedSearchCV\\nrandomized_cv = RandomizedSearchCV(\\n    estimator=Model,\\n    param_distributions=param_grid,\\n    n_iter=10,\\n    n_jobs=-1,\\n    scoring=scorer,\\n    cv=5,\\n    random_state=42,\\n)\\n\\n# Fitting parameters in RandomizedSearchCV\\nrandomized_cv.fit(X_train, y_train)\\n\\nprint(\\n    \\\"Best parameters are {} with CV score={}:\\\".format(\\n        randomized_cv.best_params_, randomized_cv.best_score_\\n    )\\n)\\n\\n# Chime notification when cell successfully executes\\nchime.success()\";\n",
       "                var nbb_cells = Jupyter.notebook.get_cells();\n",
       "                for (var i = 0; i < nbb_cells.length; ++i) {\n",
       "                    if (nbb_cells[i].input_prompt_number == nbb_cell_id) {\n",
       "                        if (nbb_cells[i].get_text() == nbb_unformatted_code) {\n",
       "                             nbb_cells[i].set_text(nbb_formatted_code);\n",
       "                        }\n",
       "                        break;\n",
       "                    }\n",
       "                }\n",
       "            }, 500);\n",
       "            "
      ],
      "text/plain": [
       "<IPython.core.display.Javascript object>"
      ]
     },
     "metadata": {},
     "output_type": "display_data"
    }
   ],
   "source": [
    "%%time\n",
    "\n",
    "# Defining model\n",
    "Model = RandomForestRegressor(random_state=42)\n",
    "\n",
    "# Parameter grid to pass in RandomizedSearchCV\n",
    "param_grid = { \n",
    "    \"n_estimators\": np.arange(100, 500), \n",
    "    \"min_samples_leaf\": [None] + np.arange(1, 10).tolist(),\n",
    "    \"max_features\": ['sqrt'], \n",
    "    \"max_samples\": uniform(loc=0.3, scale=0.5),\n",
    "    'criterion': ['squared_error'],\n",
    "    \"max_depth\": [None]\n",
    "}\n",
    "\n",
    "# Calling RandomizedSearchCV\n",
    "randomized_cv = RandomizedSearchCV(\n",
    "    estimator=Model,\n",
    "    param_distributions=param_grid,\n",
    "    n_iter=10,\n",
    "    n_jobs=-1,\n",
    "    scoring=scorer,\n",
    "    cv=5,\n",
    "    random_state=42,\n",
    ")\n",
    "\n",
    "# Fitting parameters in RandomizedSearchCV\n",
    "randomized_cv.fit(X_train, y_train)\n",
    "\n",
    "print(\n",
    "    \"Best parameters are {} with CV score={}:\".format(\n",
    "        randomized_cv.best_params_, randomized_cv.best_score_\n",
    "    )\n",
    ")\n",
    "\n",
    "# Chime notification when cell successfully executes\n",
    "chime.success()"
   ]
  },
  {
   "cell_type": "code",
   "execution_count": 45,
   "id": "ff8ed9c5",
   "metadata": {},
   "outputs": [
    {
     "data": {
      "text/plain": [
       "RandomForestRegressor(max_features='sqrt', max_samples=0.7162213204002108,\n",
       "                      min_samples_leaf=5, n_estimators=485)"
      ]
     },
     "execution_count": 45,
     "metadata": {},
     "output_type": "execute_result"
    },
    {
     "data": {
      "application/javascript": [
       "\n",
       "            setTimeout(function() {\n",
       "                var nbb_cell_id = 45;\n",
       "                var nbb_unformatted_code = \"# Building model with best parameters\\nRandom_Forest2_tuned = RandomForestRegressor(\\n    criterion=\\\"squared_error\\\",\\n    max_depth=None,\\n    max_features=\\\"sqrt\\\",\\n    max_samples=0.7162213204002108,\\n    min_samples_leaf=5,\\n    n_estimators=485,\\n)\\n\\n# Fit the model on training data\\nRandom_Forest2_tuned.fit(X_train, y_train)\";\n",
       "                var nbb_formatted_code = \"# Building model with best parameters\\nRandom_Forest2_tuned = RandomForestRegressor(\\n    criterion=\\\"squared_error\\\",\\n    max_depth=None,\\n    max_features=\\\"sqrt\\\",\\n    max_samples=0.7162213204002108,\\n    min_samples_leaf=5,\\n    n_estimators=485,\\n)\\n\\n# Fit the model on training data\\nRandom_Forest2_tuned.fit(X_train, y_train)\";\n",
       "                var nbb_cells = Jupyter.notebook.get_cells();\n",
       "                for (var i = 0; i < nbb_cells.length; ++i) {\n",
       "                    if (nbb_cells[i].input_prompt_number == nbb_cell_id) {\n",
       "                        if (nbb_cells[i].get_text() == nbb_unformatted_code) {\n",
       "                             nbb_cells[i].set_text(nbb_formatted_code);\n",
       "                        }\n",
       "                        break;\n",
       "                    }\n",
       "                }\n",
       "            }, 500);\n",
       "            "
      ],
      "text/plain": [
       "<IPython.core.display.Javascript object>"
      ]
     },
     "metadata": {},
     "output_type": "display_data"
    }
   ],
   "source": [
    "# Building model with best parameters\n",
    "Random_Forest2_tuned = RandomForestRegressor(\n",
    "    criterion=\"squared_error\",\n",
    "    max_depth=None,\n",
    "    max_features=\"sqrt\",\n",
    "    max_samples=0.7162213204002108,\n",
    "    min_samples_leaf=5,\n",
    "    n_estimators=485,\n",
    ")\n",
    "\n",
    "# Fit the model on training data\n",
    "Random_Forest2_tuned.fit(X_train, y_train)"
   ]
  },
  {
   "cell_type": "code",
   "execution_count": 46,
   "id": "7bb844d6",
   "metadata": {},
   "outputs": [
    {
     "name": "stdout",
     "output_type": "stream",
     "text": [
      "Training performance:\n",
      "         RMSE        MAE  R-squared  Adj. R-squared       MAPE\n",
      "0  14.488353  11.251028    0.16537        0.164847  18.600499\n",
      "\n",
      "Validation performance:\n",
      "         RMSE        MAE  R-squared  Adj. R-squared       MAPE\n",
      "0  14.903635  11.556405   0.105761        0.104453  19.016562\n"
     ]
    },
    {
     "data": {
      "application/javascript": [
       "\n",
       "            setTimeout(function() {\n",
       "                var nbb_cell_id = 46;\n",
       "                var nbb_unformatted_code = \"# Calculating different metrics\\nRandom_Forest2_tuned_train_perf = model_performance_regression(\\n    Random_Forest2_tuned, X_train, y_train\\n)\\nprint(\\\"Training performance:\\\\n\\\", Random_Forest2_tuned_train_perf)\\nRandom_Forest2_tuned_val_perf = model_performance_regression(\\n    Random_Forest2_tuned, X_val, y_val\\n)\\nprint(\\\"\\\\nValidation performance:\\\\n\\\", Random_Forest2_tuned_val_perf)\\n\\n# Adding model to model comparison dataframes\\nmodels_train_comp_df[\\\"Random Forest2 Tuned\\\"] = Random_Forest2_tuned_train_perf.T\\nmodels_val_comp_df[\\\"Random Forest2 Tuned\\\"] = Random_Forest2_tuned_val_perf.T\";\n",
       "                var nbb_formatted_code = \"# Calculating different metrics\\nRandom_Forest2_tuned_train_perf = model_performance_regression(\\n    Random_Forest2_tuned, X_train, y_train\\n)\\nprint(\\\"Training performance:\\\\n\\\", Random_Forest2_tuned_train_perf)\\nRandom_Forest2_tuned_val_perf = model_performance_regression(\\n    Random_Forest2_tuned, X_val, y_val\\n)\\nprint(\\\"\\\\nValidation performance:\\\\n\\\", Random_Forest2_tuned_val_perf)\\n\\n# Adding model to model comparison dataframes\\nmodels_train_comp_df[\\\"Random Forest2 Tuned\\\"] = Random_Forest2_tuned_train_perf.T\\nmodels_val_comp_df[\\\"Random Forest2 Tuned\\\"] = Random_Forest2_tuned_val_perf.T\";\n",
       "                var nbb_cells = Jupyter.notebook.get_cells();\n",
       "                for (var i = 0; i < nbb_cells.length; ++i) {\n",
       "                    if (nbb_cells[i].input_prompt_number == nbb_cell_id) {\n",
       "                        if (nbb_cells[i].get_text() == nbb_unformatted_code) {\n",
       "                             nbb_cells[i].set_text(nbb_formatted_code);\n",
       "                        }\n",
       "                        break;\n",
       "                    }\n",
       "                }\n",
       "            }, 500);\n",
       "            "
      ],
      "text/plain": [
       "<IPython.core.display.Javascript object>"
      ]
     },
     "metadata": {},
     "output_type": "display_data"
    }
   ],
   "source": [
    "# Calculating different metrics\n",
    "Random_Forest2_tuned_train_perf = model_performance_regression(\n",
    "    Random_Forest2_tuned, X_train, y_train\n",
    ")\n",
    "print(\"Training performance:\\n\", Random_Forest2_tuned_train_perf)\n",
    "Random_Forest2_tuned_val_perf = model_performance_regression(\n",
    "    Random_Forest2_tuned, X_val, y_val\n",
    ")\n",
    "print(\"\\nValidation performance:\\n\", Random_Forest2_tuned_val_perf)\n",
    "\n",
    "# Adding model to model comparison dataframes\n",
    "models_train_comp_df[\"Random Forest2 Tuned\"] = Random_Forest2_tuned_train_perf.T\n",
    "models_val_comp_df[\"Random Forest2 Tuned\"] = Random_Forest2_tuned_val_perf.T"
   ]
  },
  {
   "cell_type": "markdown",
   "id": "bd5517f3",
   "metadata": {},
   "source": [
    "#### Observations:\n",
    "- Hyperparameter tuning improved performance for *Random Forest2*.\n",
    "- The algorithm is still overfitting the train set, compared to the validation set.\n",
    "- Note that we again had a 10% fit fail during cross-validation (\"UserWarning: One or more of the test scores are non-finite..\") indicating cross-validation had some folds for which hyperparameter combinations led to Nan values.  We are going to allow it here, and go with the results of the successful iterations.  Warning messages were suppressed for the last run of this notebook."
   ]
  },
  {
   "cell_type": "markdown",
   "id": "a3bbffed",
   "metadata": {},
   "source": [
    "### *GBM2 Tuned*"
   ]
  },
  {
   "cell_type": "code",
   "execution_count": 47,
   "id": "5a7278d0",
   "metadata": {},
   "outputs": [
    {
     "data": {
      "text/plain": [
       "GradientBoostingRegressor(random_state=42)"
      ]
     },
     "execution_count": 47,
     "metadata": {},
     "output_type": "execute_result"
    },
    {
     "data": {
      "application/javascript": [
       "\n",
       "            setTimeout(function() {\n",
       "                var nbb_cell_id = 47;\n",
       "                var nbb_unformatted_code = \"# Confirming the model\\nmodels_to_tune[\\\"GBM2\\\"]\";\n",
       "                var nbb_formatted_code = \"# Confirming the model\\nmodels_to_tune[\\\"GBM2\\\"]\";\n",
       "                var nbb_cells = Jupyter.notebook.get_cells();\n",
       "                for (var i = 0; i < nbb_cells.length; ++i) {\n",
       "                    if (nbb_cells[i].input_prompt_number == nbb_cell_id) {\n",
       "                        if (nbb_cells[i].get_text() == nbb_unformatted_code) {\n",
       "                             nbb_cells[i].set_text(nbb_formatted_code);\n",
       "                        }\n",
       "                        break;\n",
       "                    }\n",
       "                }\n",
       "            }, 500);\n",
       "            "
      ],
      "text/plain": [
       "<IPython.core.display.Javascript object>"
      ]
     },
     "metadata": {},
     "output_type": "display_data"
    }
   ],
   "source": [
    "# Confirming the model\n",
    "models_to_tune[\"GBM2\"]"
   ]
  },
  {
   "cell_type": "code",
   "execution_count": 48,
   "id": "164a6ac4",
   "metadata": {},
   "outputs": [
    {
     "name": "stdout",
     "output_type": "stream",
     "text": [
      "Best parameters are {'learning_rate': 0.08171272700715591, 'max_features': 0.6630456668613307, 'n_estimators': 368, 'subsample': 0.7847684335570795} with CV score=0.11041556668246581:\n",
      "CPU times: total: 14.8 s\n",
      "Wall time: 7min 53s\n"
     ]
    },
    {
     "data": {
      "application/javascript": [
       "\n",
       "            setTimeout(function() {\n",
       "                var nbb_cell_id = 48;\n",
       "                var nbb_unformatted_code = \"%%time\\n\\n# Defining model\\nModel = GradientBoostingRegressor(random_state=42)\\n\\n# Parameter grid to pass in RandomizedSearchCV\\nparam_grid = {\\n    \\\"n_estimators\\\": np.arange(100, 500),\\n    \\\"learning_rate\\\": loguniform(0.001, 1),\\n    \\\"subsample\\\": uniform(loc=0.3, scale=0.5),\\n    \\\"max_features\\\": uniform(loc=0.3, scale=0.5),\\n}\\n\\n# Calling RandomizedSearchCV\\nrandomized_cv = RandomizedSearchCV(\\n    estimator=Model,\\n    param_distributions=param_grid,\\n    n_iter=100,\\n    n_jobs=-1,\\n    scoring=scorer,\\n    cv=5,\\n    random_state=42,\\n)\\n\\n# Fitting parameters in RandomizedSearchCV\\nrandomized_cv.fit(X_train, y_train)\\n\\nprint(\\n    \\\"Best parameters are {} with CV score={}:\\\".format(\\n        randomized_cv.best_params_, randomized_cv.best_score_\\n    )\\n)\\n\\n# Chime notification when cell successfully executes\\nchime.success()\";\n",
       "                var nbb_formatted_code = \"%%time\\n\\n# Defining model\\nModel = GradientBoostingRegressor(random_state=42)\\n\\n# Parameter grid to pass in RandomizedSearchCV\\nparam_grid = {\\n    \\\"n_estimators\\\": np.arange(100, 500),\\n    \\\"learning_rate\\\": loguniform(0.001, 1),\\n    \\\"subsample\\\": uniform(loc=0.3, scale=0.5),\\n    \\\"max_features\\\": uniform(loc=0.3, scale=0.5),\\n}\\n\\n# Calling RandomizedSearchCV\\nrandomized_cv = RandomizedSearchCV(\\n    estimator=Model,\\n    param_distributions=param_grid,\\n    n_iter=100,\\n    n_jobs=-1,\\n    scoring=scorer,\\n    cv=5,\\n    random_state=42,\\n)\\n\\n# Fitting parameters in RandomizedSearchCV\\nrandomized_cv.fit(X_train, y_train)\\n\\nprint(\\n    \\\"Best parameters are {} with CV score={}:\\\".format(\\n        randomized_cv.best_params_, randomized_cv.best_score_\\n    )\\n)\\n\\n# Chime notification when cell successfully executes\\nchime.success()\";\n",
       "                var nbb_cells = Jupyter.notebook.get_cells();\n",
       "                for (var i = 0; i < nbb_cells.length; ++i) {\n",
       "                    if (nbb_cells[i].input_prompt_number == nbb_cell_id) {\n",
       "                        if (nbb_cells[i].get_text() == nbb_unformatted_code) {\n",
       "                             nbb_cells[i].set_text(nbb_formatted_code);\n",
       "                        }\n",
       "                        break;\n",
       "                    }\n",
       "                }\n",
       "            }, 500);\n",
       "            "
      ],
      "text/plain": [
       "<IPython.core.display.Javascript object>"
      ]
     },
     "metadata": {},
     "output_type": "display_data"
    }
   ],
   "source": [
    "%%time\n",
    "\n",
    "# Defining model\n",
    "Model = GradientBoostingRegressor(random_state=42)\n",
    "\n",
    "# Parameter grid to pass in RandomizedSearchCV\n",
    "param_grid = {\n",
    "    \"n_estimators\": np.arange(100, 500),\n",
    "    \"learning_rate\": loguniform(0.001, 1),\n",
    "    \"subsample\": uniform(loc=0.3, scale=0.5),\n",
    "    \"max_features\": uniform(loc=0.3, scale=0.5),\n",
    "}\n",
    "\n",
    "# Calling RandomizedSearchCV\n",
    "randomized_cv = RandomizedSearchCV(\n",
    "    estimator=Model,\n",
    "    param_distributions=param_grid,\n",
    "    n_iter=100,\n",
    "    n_jobs=-1,\n",
    "    scoring=scorer,\n",
    "    cv=5,\n",
    "    random_state=42,\n",
    ")\n",
    "\n",
    "# Fitting parameters in RandomizedSearchCV\n",
    "randomized_cv.fit(X_train, y_train)\n",
    "\n",
    "print(\n",
    "    \"Best parameters are {} with CV score={}:\".format(\n",
    "        randomized_cv.best_params_, randomized_cv.best_score_\n",
    "    )\n",
    ")\n",
    "\n",
    "# Chime notification when cell successfully executes\n",
    "chime.success()"
   ]
  },
  {
   "cell_type": "code",
   "execution_count": 49,
   "id": "83072624",
   "metadata": {},
   "outputs": [
    {
     "data": {
      "text/plain": [
       "GradientBoostingRegressor(learning_rate=0.08171272700715591,\n",
       "                          max_features=0.6630456668613307, n_estimators=368,\n",
       "                          random_state=42, subsample=0.7847684335570795)"
      ]
     },
     "execution_count": 49,
     "metadata": {},
     "output_type": "execute_result"
    },
    {
     "data": {
      "application/javascript": [
       "\n",
       "            setTimeout(function() {\n",
       "                var nbb_cell_id = 49;\n",
       "                var nbb_unformatted_code = \"# Building model with best parameters\\nGBM2_tuned = GradientBoostingRegressor(\\n    random_state=42,\\n    learning_rate=0.08171272700715591,\\n    max_features=0.6630456668613307,\\n    n_estimators=368,\\n    subsample=0.7847684335570795,\\n)\\n\\n# Fit the model on training data\\nGBM2_tuned.fit(X_train, y_train)\";\n",
       "                var nbb_formatted_code = \"# Building model with best parameters\\nGBM2_tuned = GradientBoostingRegressor(\\n    random_state=42,\\n    learning_rate=0.08171272700715591,\\n    max_features=0.6630456668613307,\\n    n_estimators=368,\\n    subsample=0.7847684335570795,\\n)\\n\\n# Fit the model on training data\\nGBM2_tuned.fit(X_train, y_train)\";\n",
       "                var nbb_cells = Jupyter.notebook.get_cells();\n",
       "                for (var i = 0; i < nbb_cells.length; ++i) {\n",
       "                    if (nbb_cells[i].input_prompt_number == nbb_cell_id) {\n",
       "                        if (nbb_cells[i].get_text() == nbb_unformatted_code) {\n",
       "                             nbb_cells[i].set_text(nbb_formatted_code);\n",
       "                        }\n",
       "                        break;\n",
       "                    }\n",
       "                }\n",
       "            }, 500);\n",
       "            "
      ],
      "text/plain": [
       "<IPython.core.display.Javascript object>"
      ]
     },
     "metadata": {},
     "output_type": "display_data"
    }
   ],
   "source": [
    "# Building model with best parameters\n",
    "GBM2_tuned = GradientBoostingRegressor(\n",
    "    random_state=42,\n",
    "    learning_rate=0.08171272700715591,\n",
    "    max_features=0.6630456668613307,\n",
    "    n_estimators=368,\n",
    "    subsample=0.7847684335570795,\n",
    ")\n",
    "\n",
    "# Fit the model on training data\n",
    "GBM2_tuned.fit(X_train, y_train)"
   ]
  },
  {
   "cell_type": "code",
   "execution_count": 50,
   "id": "41f9f376",
   "metadata": {},
   "outputs": [
    {
     "name": "stdout",
     "output_type": "stream",
     "text": [
      "Training performance:\n",
      "         RMSE       MAE  R-squared  Adj. R-squared      MAPE\n",
      "0  14.803396  11.49037   0.128678        0.128132  18.95094\n",
      "\n",
      "Validation performance:\n",
      "         RMSE        MAE  R-squared  Adj. R-squared       MAPE\n",
      "0  14.853802  11.512155   0.111731        0.110432  18.898856\n"
     ]
    },
    {
     "data": {
      "application/javascript": [
       "\n",
       "            setTimeout(function() {\n",
       "                var nbb_cell_id = 50;\n",
       "                var nbb_unformatted_code = \"# Calculating different metrics\\nGBM2_tuned_train_perf = model_performance_regression(GBM2_tuned, X_train, y_train)\\nprint(\\\"Training performance:\\\\n\\\", GBM2_tuned_train_perf)\\nGBM2_tuned_val_perf = model_performance_regression(GBM2_tuned, X_val, y_val)\\nprint(\\\"\\\\nValidation performance:\\\\n\\\", GBM2_tuned_val_perf)\\n\\n# Adding model to model comparison dataframes\\nmodels_train_comp_df[\\\"GBM2 Tuned\\\"] = GBM2_tuned_train_perf.T\\nmodels_val_comp_df[\\\"GBM2 Tuned\\\"] = GBM2_tuned_val_perf.T\";\n",
       "                var nbb_formatted_code = \"# Calculating different metrics\\nGBM2_tuned_train_perf = model_performance_regression(GBM2_tuned, X_train, y_train)\\nprint(\\\"Training performance:\\\\n\\\", GBM2_tuned_train_perf)\\nGBM2_tuned_val_perf = model_performance_regression(GBM2_tuned, X_val, y_val)\\nprint(\\\"\\\\nValidation performance:\\\\n\\\", GBM2_tuned_val_perf)\\n\\n# Adding model to model comparison dataframes\\nmodels_train_comp_df[\\\"GBM2 Tuned\\\"] = GBM2_tuned_train_perf.T\\nmodels_val_comp_df[\\\"GBM2 Tuned\\\"] = GBM2_tuned_val_perf.T\";\n",
       "                var nbb_cells = Jupyter.notebook.get_cells();\n",
       "                for (var i = 0; i < nbb_cells.length; ++i) {\n",
       "                    if (nbb_cells[i].input_prompt_number == nbb_cell_id) {\n",
       "                        if (nbb_cells[i].get_text() == nbb_unformatted_code) {\n",
       "                             nbb_cells[i].set_text(nbb_formatted_code);\n",
       "                        }\n",
       "                        break;\n",
       "                    }\n",
       "                }\n",
       "            }, 500);\n",
       "            "
      ],
      "text/plain": [
       "<IPython.core.display.Javascript object>"
      ]
     },
     "metadata": {},
     "output_type": "display_data"
    }
   ],
   "source": [
    "# Calculating different metrics\n",
    "GBM2_tuned_train_perf = model_performance_regression(GBM2_tuned, X_train, y_train)\n",
    "print(\"Training performance:\\n\", GBM2_tuned_train_perf)\n",
    "GBM2_tuned_val_perf = model_performance_regression(GBM2_tuned, X_val, y_val)\n",
    "print(\"\\nValidation performance:\\n\", GBM2_tuned_val_perf)\n",
    "\n",
    "# Adding model to model comparison dataframes\n",
    "models_train_comp_df[\"GBM2 Tuned\"] = GBM2_tuned_train_perf.T\n",
    "models_val_comp_df[\"GBM2 Tuned\"] = GBM2_tuned_val_perf.T"
   ]
  },
  {
   "cell_type": "markdown",
   "id": "e0d33085",
   "metadata": {},
   "source": [
    "#### Observations:\n",
    "- The performance for *GBM2* is improved with hyperparameter tuning.  "
   ]
  },
  {
   "cell_type": "markdown",
   "id": "b6ea9612",
   "metadata": {},
   "source": [
    "### *XGB_gbtree2 Tuned*"
   ]
  },
  {
   "cell_type": "code",
   "execution_count": 51,
   "id": "629f0ae4",
   "metadata": {},
   "outputs": [
    {
     "data": {
      "text/plain": [
       "XGBRegressor(base_score=0.5, booster='gbtree', callbacks=None,\n",
       "             colsample_bylevel=1, colsample_bynode=1, colsample_bytree=1,\n",
       "             early_stopping_rounds=None, enable_categorical=False,\n",
       "             eval_metric=None, gamma=0, gpu_id=-1, grow_policy='depthwise',\n",
       "             importance_type=None, interaction_constraints='',\n",
       "             learning_rate=0.300000012, max_bin=256, max_cat_to_onehot=4,\n",
       "             max_delta_step=0, max_depth=6, max_leaves=0, min_child_weight=1,\n",
       "             missing=nan, monotone_constraints='()', n_estimators=100, n_jobs=0,\n",
       "             num_parallel_tree=1, predictor='auto', random_state=42,\n",
       "             reg_alpha=0, reg_lambda=1, ...)"
      ]
     },
     "execution_count": 51,
     "metadata": {},
     "output_type": "execute_result"
    },
    {
     "data": {
      "application/javascript": [
       "\n",
       "            setTimeout(function() {\n",
       "                var nbb_cell_id = 51;\n",
       "                var nbb_unformatted_code = \"# Confirming the model\\nmodels_to_tune[\\\"XGB_gbtree2\\\"]\";\n",
       "                var nbb_formatted_code = \"# Confirming the model\\nmodels_to_tune[\\\"XGB_gbtree2\\\"]\";\n",
       "                var nbb_cells = Jupyter.notebook.get_cells();\n",
       "                for (var i = 0; i < nbb_cells.length; ++i) {\n",
       "                    if (nbb_cells[i].input_prompt_number == nbb_cell_id) {\n",
       "                        if (nbb_cells[i].get_text() == nbb_unformatted_code) {\n",
       "                             nbb_cells[i].set_text(nbb_formatted_code);\n",
       "                        }\n",
       "                        break;\n",
       "                    }\n",
       "                }\n",
       "            }, 500);\n",
       "            "
      ],
      "text/plain": [
       "<IPython.core.display.Javascript object>"
      ]
     },
     "metadata": {},
     "output_type": "display_data"
    }
   ],
   "source": [
    "# Confirming the model\n",
    "models_to_tune[\"XGB_gbtree2\"]"
   ]
  },
  {
   "cell_type": "code",
   "execution_count": 52,
   "id": "567e4678",
   "metadata": {},
   "outputs": [
    {
     "name": "stdout",
     "output_type": "stream",
     "text": [
      "Best parameters are {'colsample_bytree': 0.6861223846483286, 'gamma': 0.22153944050588595, 'learning_rate': 0.10165663513708073, 'max_depth': 5, 'n_estimators': 180, 'subsample': 0.74226839054973} with CV score=0.11086998659519617:\n",
      "CPU times: total: 47 s\n",
      "Wall time: 21min 38s\n"
     ]
    },
    {
     "data": {
      "application/javascript": [
       "\n",
       "            setTimeout(function() {\n",
       "                var nbb_cell_id = 52;\n",
       "                var nbb_unformatted_code = \"%%time\\n\\n# Defining model\\nModel = XGBRegressor(random_state=42, booster='gbtree')\\n\\n# Parameter grid to pass in RandomizedSearchCV\\nparam_grid={\\n    'n_estimators': np.arange(100, 500),\\n    \\\"learning_rate\\\": uniform(0.1, 0.3), # aka eta\\n    'gamma': expon(), # aka min_split_loss\\n    'subsample': uniform(loc=0.6, scale=0.2), # proportion of train set to randomly sample prior to growing trees\\n    'max_depth': np.arange(3, 8).tolist(),\\n    'colsample_bytree': uniform(loc=0.3, scale=0.5)\\n}\\n\\n# Calling RandomizedSearchCV\\nrandomized_cv = RandomizedSearchCV(\\n    estimator=Model,\\n    param_distributions=param_grid,\\n    n_iter=100,\\n    n_jobs=-1,\\n    scoring=scorer,\\n    cv=5,\\n    random_state=42,\\n)\\n\\n# Fitting parameters in RandomizedSearchCV\\nrandomized_cv.fit(X_train, y_train)\\n\\nprint(\\n    \\\"Best parameters are {} with CV score={}:\\\".format(\\n        randomized_cv.best_params_, randomized_cv.best_score_\\n    )\\n)\\n\\n# Chime notification when cell successfully executes\\nchime.success()\";\n",
       "                var nbb_formatted_code = \"%%time\\n\\n# Defining model\\nModel = XGBRegressor(random_state=42, booster='gbtree')\\n\\n# Parameter grid to pass in RandomizedSearchCV\\nparam_grid={\\n    'n_estimators': np.arange(100, 500),\\n    \\\"learning_rate\\\": uniform(0.1, 0.3), # aka eta\\n    'gamma': expon(), # aka min_split_loss\\n    'subsample': uniform(loc=0.6, scale=0.2), # proportion of train set to randomly sample prior to growing trees\\n    'max_depth': np.arange(3, 8).tolist(),\\n    'colsample_bytree': uniform(loc=0.3, scale=0.5)\\n}\\n\\n# Calling RandomizedSearchCV\\nrandomized_cv = RandomizedSearchCV(\\n    estimator=Model,\\n    param_distributions=param_grid,\\n    n_iter=100,\\n    n_jobs=-1,\\n    scoring=scorer,\\n    cv=5,\\n    random_state=42,\\n)\\n\\n# Fitting parameters in RandomizedSearchCV\\nrandomized_cv.fit(X_train, y_train)\\n\\nprint(\\n    \\\"Best parameters are {} with CV score={}:\\\".format(\\n        randomized_cv.best_params_, randomized_cv.best_score_\\n    )\\n)\\n\\n# Chime notification when cell successfully executes\\nchime.success()\";\n",
       "                var nbb_cells = Jupyter.notebook.get_cells();\n",
       "                for (var i = 0; i < nbb_cells.length; ++i) {\n",
       "                    if (nbb_cells[i].input_prompt_number == nbb_cell_id) {\n",
       "                        if (nbb_cells[i].get_text() == nbb_unformatted_code) {\n",
       "                             nbb_cells[i].set_text(nbb_formatted_code);\n",
       "                        }\n",
       "                        break;\n",
       "                    }\n",
       "                }\n",
       "            }, 500);\n",
       "            "
      ],
      "text/plain": [
       "<IPython.core.display.Javascript object>"
      ]
     },
     "metadata": {},
     "output_type": "display_data"
    }
   ],
   "source": [
    "%%time\n",
    "\n",
    "# Defining model\n",
    "Model = XGBRegressor(random_state=42, booster='gbtree')\n",
    "\n",
    "# Parameter grid to pass in RandomizedSearchCV\n",
    "param_grid={\n",
    "    'n_estimators': np.arange(100, 500),\n",
    "    \"learning_rate\": uniform(0.1, 0.3), # aka eta\n",
    "    'gamma': expon(), # aka min_split_loss\n",
    "    'subsample': uniform(loc=0.6, scale=0.2), # proportion of train set to randomly sample prior to growing trees\n",
    "    'max_depth': np.arange(3, 8).tolist(),\n",
    "    'colsample_bytree': uniform(loc=0.3, scale=0.5)\n",
    "}\n",
    "\n",
    "# Calling RandomizedSearchCV\n",
    "randomized_cv = RandomizedSearchCV(\n",
    "    estimator=Model,\n",
    "    param_distributions=param_grid,\n",
    "    n_iter=100,\n",
    "    n_jobs=-1,\n",
    "    scoring=scorer,\n",
    "    cv=5,\n",
    "    random_state=42,\n",
    ")\n",
    "\n",
    "# Fitting parameters in RandomizedSearchCV\n",
    "randomized_cv.fit(X_train, y_train)\n",
    "\n",
    "print(\n",
    "    \"Best parameters are {} with CV score={}:\".format(\n",
    "        randomized_cv.best_params_, randomized_cv.best_score_\n",
    "    )\n",
    ")\n",
    "\n",
    "# Chime notification when cell successfully executes\n",
    "chime.success()"
   ]
  },
  {
   "cell_type": "code",
   "execution_count": 53,
   "id": "ff25695c",
   "metadata": {},
   "outputs": [
    {
     "data": {
      "text/plain": [
       "XGBRegressor(base_score=0.5, booster='gbtree', callbacks=None,\n",
       "             colsample_bylevel=1, colsample_bynode=1,\n",
       "             colsample_bytree=0.6861223846483286, early_stopping_rounds=None,\n",
       "             enable_categorical=False, eval_metric=None,\n",
       "             gamma=0.22153944050588595, gpu_id=-1, grow_policy='depthwise',\n",
       "             importance_type=None, interaction_constraints='',\n",
       "             learning_rate=0.10165663513708073, max_bin=256,\n",
       "             max_cat_to_onehot=4, max_delta_step=0, max_depth=5, max_leaves=0,\n",
       "             min_child_weight=1, missing=nan, monotone_constraints='()',\n",
       "             n_estimators=180, n_jobs=0, num_parallel_tree=1, predictor='auto',\n",
       "             random_state=42, reg_alpha=0, reg_lambda=1, ...)"
      ]
     },
     "execution_count": 53,
     "metadata": {},
     "output_type": "execute_result"
    },
    {
     "data": {
      "application/javascript": [
       "\n",
       "            setTimeout(function() {\n",
       "                var nbb_cell_id = 53;\n",
       "                var nbb_unformatted_code = \"# Building model with best parameters\\nXGB_gbtree2_tuned = XGBRegressor(\\n    booster=\\\"gbtree\\\",\\n    random_state=42,\\n    colsample_bytree=0.6861223846483286,\\n    gamma=0.22153944050588595,\\n    learning_rate=0.10165663513708073,\\n    max_depth=5,\\n    n_estimators=180,\\n    subsample=0.74226839054973,\\n)\\n\\n# Fit the model on training data\\nXGB_gbtree2_tuned.fit(X_train, y_train)\";\n",
       "                var nbb_formatted_code = \"# Building model with best parameters\\nXGB_gbtree2_tuned = XGBRegressor(\\n    booster=\\\"gbtree\\\",\\n    random_state=42,\\n    colsample_bytree=0.6861223846483286,\\n    gamma=0.22153944050588595,\\n    learning_rate=0.10165663513708073,\\n    max_depth=5,\\n    n_estimators=180,\\n    subsample=0.74226839054973,\\n)\\n\\n# Fit the model on training data\\nXGB_gbtree2_tuned.fit(X_train, y_train)\";\n",
       "                var nbb_cells = Jupyter.notebook.get_cells();\n",
       "                for (var i = 0; i < nbb_cells.length; ++i) {\n",
       "                    if (nbb_cells[i].input_prompt_number == nbb_cell_id) {\n",
       "                        if (nbb_cells[i].get_text() == nbb_unformatted_code) {\n",
       "                             nbb_cells[i].set_text(nbb_formatted_code);\n",
       "                        }\n",
       "                        break;\n",
       "                    }\n",
       "                }\n",
       "            }, 500);\n",
       "            "
      ],
      "text/plain": [
       "<IPython.core.display.Javascript object>"
      ]
     },
     "metadata": {},
     "output_type": "display_data"
    }
   ],
   "source": [
    "# Building model with best parameters\n",
    "XGB_gbtree2_tuned = XGBRegressor(\n",
    "    booster=\"gbtree\",\n",
    "    random_state=42,\n",
    "    colsample_bytree=0.6861223846483286,\n",
    "    gamma=0.22153944050588595,\n",
    "    learning_rate=0.10165663513708073,\n",
    "    max_depth=5,\n",
    "    n_estimators=180,\n",
    "    subsample=0.74226839054973,\n",
    ")\n",
    "\n",
    "# Fit the model on training data\n",
    "XGB_gbtree2_tuned.fit(X_train, y_train)"
   ]
  },
  {
   "cell_type": "code",
   "execution_count": 54,
   "id": "3c4bbcb5",
   "metadata": {},
   "outputs": [
    {
     "name": "stdout",
     "output_type": "stream",
     "text": [
      "Training performance:\n",
      "         RMSE        MAE  R-squared  Adj. R-squared       MAPE\n",
      "0  14.596533  11.326033   0.152859        0.152329  18.630614\n",
      "\n",
      "Validation performance:\n",
      "         RMSE        MAE  R-squared  Adj. R-squared       MAPE\n",
      "0  14.867475  11.517005   0.110095        0.108794  18.881056\n"
     ]
    },
    {
     "data": {
      "application/javascript": [
       "\n",
       "            setTimeout(function() {\n",
       "                var nbb_cell_id = 54;\n",
       "                var nbb_unformatted_code = \"# Calculating different metrics\\nXGB_gbtree2_tuned_train_perf = model_performance_regression(\\n    XGB_gbtree2_tuned, X_train, y_train\\n)\\nprint(\\\"Training performance:\\\\n\\\", XGB_gbtree2_tuned_train_perf)\\nXGB_gbtree2_tuned_val_perf = model_performance_regression(\\n    XGB_gbtree2_tuned, X_val, y_val\\n)\\nprint(\\\"\\\\nValidation performance:\\\\n\\\", XGB_gbtree2_tuned_val_perf)\\n\\n# Adding model to model comparison dataframes\\nmodels_train_comp_df[\\\"XGB_gbtree2 Tuned\\\"] = XGB_gbtree2_tuned_train_perf.T\\nmodels_val_comp_df[\\\"XGB_gbtree2 Tuned\\\"] = XGB_gbtree2_tuned_val_perf.T\";\n",
       "                var nbb_formatted_code = \"# Calculating different metrics\\nXGB_gbtree2_tuned_train_perf = model_performance_regression(\\n    XGB_gbtree2_tuned, X_train, y_train\\n)\\nprint(\\\"Training performance:\\\\n\\\", XGB_gbtree2_tuned_train_perf)\\nXGB_gbtree2_tuned_val_perf = model_performance_regression(\\n    XGB_gbtree2_tuned, X_val, y_val\\n)\\nprint(\\\"\\\\nValidation performance:\\\\n\\\", XGB_gbtree2_tuned_val_perf)\\n\\n# Adding model to model comparison dataframes\\nmodels_train_comp_df[\\\"XGB_gbtree2 Tuned\\\"] = XGB_gbtree2_tuned_train_perf.T\\nmodels_val_comp_df[\\\"XGB_gbtree2 Tuned\\\"] = XGB_gbtree2_tuned_val_perf.T\";\n",
       "                var nbb_cells = Jupyter.notebook.get_cells();\n",
       "                for (var i = 0; i < nbb_cells.length; ++i) {\n",
       "                    if (nbb_cells[i].input_prompt_number == nbb_cell_id) {\n",
       "                        if (nbb_cells[i].get_text() == nbb_unformatted_code) {\n",
       "                             nbb_cells[i].set_text(nbb_formatted_code);\n",
       "                        }\n",
       "                        break;\n",
       "                    }\n",
       "                }\n",
       "            }, 500);\n",
       "            "
      ],
      "text/plain": [
       "<IPython.core.display.Javascript object>"
      ]
     },
     "metadata": {},
     "output_type": "display_data"
    }
   ],
   "source": [
    "# Calculating different metrics\n",
    "XGB_gbtree2_tuned_train_perf = model_performance_regression(\n",
    "    XGB_gbtree2_tuned, X_train, y_train\n",
    ")\n",
    "print(\"Training performance:\\n\", XGB_gbtree2_tuned_train_perf)\n",
    "XGB_gbtree2_tuned_val_perf = model_performance_regression(\n",
    "    XGB_gbtree2_tuned, X_val, y_val\n",
    ")\n",
    "print(\"\\nValidation performance:\\n\", XGB_gbtree2_tuned_val_perf)\n",
    "\n",
    "# Adding model to model comparison dataframes\n",
    "models_train_comp_df[\"XGB_gbtree2 Tuned\"] = XGB_gbtree2_tuned_train_perf.T\n",
    "models_val_comp_df[\"XGB_gbtree2 Tuned\"] = XGB_gbtree2_tuned_val_perf.T"
   ]
  },
  {
   "cell_type": "markdown",
   "id": "0b65f6e3",
   "metadata": {},
   "source": [
    "#### Observations:\n",
    "- The performance for *XGB_gbtree2* is improved with hyperparameter tuning.  "
   ]
  },
  {
   "cell_type": "markdown",
   "id": "150d6c55",
   "metadata": {},
   "source": [
    "### *XGB_gblinear2 Tuned*"
   ]
  },
  {
   "cell_type": "code",
   "execution_count": 55,
   "id": "283c6ebe",
   "metadata": {},
   "outputs": [
    {
     "data": {
      "text/plain": [
       "XGBRegressor(base_score=0.5, booster='gblinear', callbacks=None,\n",
       "             colsample_bylevel=None, colsample_bynode=None,\n",
       "             colsample_bytree=None, early_stopping_rounds=None,\n",
       "             enable_categorical=False, eval_metric=None, gamma=None, gpu_id=-1,\n",
       "             grow_policy=None, importance_type=None,\n",
       "             interaction_constraints=None, learning_rate=0.5, max_bin=None,\n",
       "             max_cat_to_onehot=None, max_delta_step=None, max_depth=None,\n",
       "             max_leaves=None, min_child_weight=None, missing=nan,\n",
       "             monotone_constraints=None, n_estimators=100, n_jobs=0,\n",
       "             num_parallel_tree=None, predictor=None, random_state=42,\n",
       "             reg_alpha=0, reg_lambda=0, ...)"
      ]
     },
     "execution_count": 55,
     "metadata": {},
     "output_type": "execute_result"
    },
    {
     "data": {
      "application/javascript": [
       "\n",
       "            setTimeout(function() {\n",
       "                var nbb_cell_id = 55;\n",
       "                var nbb_unformatted_code = \"# Confirming the model\\nmodels_to_tune[\\\"XGB_gblinear2\\\"]\";\n",
       "                var nbb_formatted_code = \"# Confirming the model\\nmodels_to_tune[\\\"XGB_gblinear2\\\"]\";\n",
       "                var nbb_cells = Jupyter.notebook.get_cells();\n",
       "                for (var i = 0; i < nbb_cells.length; ++i) {\n",
       "                    if (nbb_cells[i].input_prompt_number == nbb_cell_id) {\n",
       "                        if (nbb_cells[i].get_text() == nbb_unformatted_code) {\n",
       "                             nbb_cells[i].set_text(nbb_formatted_code);\n",
       "                        }\n",
       "                        break;\n",
       "                    }\n",
       "                }\n",
       "            }, 500);\n",
       "            "
      ],
      "text/plain": [
       "<IPython.core.display.Javascript object>"
      ]
     },
     "metadata": {},
     "output_type": "display_data"
    }
   ],
   "source": [
    "# Confirming the model\n",
    "models_to_tune[\"XGB_gblinear2\"]"
   ]
  },
  {
   "cell_type": "code",
   "execution_count": 56,
   "id": "8ceb7df9",
   "metadata": {},
   "outputs": [
    {
     "name": "stdout",
     "output_type": "stream",
     "text": [
      "Best parameters are {'n_estimators': 439, 'reg_lambda': 0.0009206654892274761} with CV score=0.09239924785728368:\n",
      "CPU times: total: 45.5 s\n",
      "Wall time: 5min 55s\n"
     ]
    },
    {
     "data": {
      "application/javascript": [
       "\n",
       "            setTimeout(function() {\n",
       "                var nbb_cell_id = 56;\n",
       "                var nbb_unformatted_code = \"%%time\\n\\n# Defining model\\nModel = XGBRegressor(random_state=42, booster='gblinear')\\n\\n# Parameter grid to pass in RandomizedSearchCV\\nparam_grid={\\n    'n_estimators': np.arange(100, 500),\\n    'reg_lambda': loguniform(.0001, 1)\\n}\\n\\n# Calling RandomizedSearchCV\\nrandomized_cv = RandomizedSearchCV(\\n    estimator=Model,\\n    param_distributions=param_grid,\\n    n_iter=100,\\n    n_jobs=-1,\\n    scoring=scorer,\\n    cv=5,\\n    random_state=42,\\n)\\n\\n# Fitting parameters in RandomizedSearchCV\\nrandomized_cv.fit(X_train, y_train)\\n\\nprint(\\n    \\\"Best parameters are {} with CV score={}:\\\".format(\\n        randomized_cv.best_params_, randomized_cv.best_score_\\n    )\\n)\\n\\n# Chime notification when cell successfully executes\\nchime.success()\";\n",
       "                var nbb_formatted_code = \"%%time\\n\\n# Defining model\\nModel = XGBRegressor(random_state=42, booster='gblinear')\\n\\n# Parameter grid to pass in RandomizedSearchCV\\nparam_grid={\\n    'n_estimators': np.arange(100, 500),\\n    'reg_lambda': loguniform(.0001, 1)\\n}\\n\\n# Calling RandomizedSearchCV\\nrandomized_cv = RandomizedSearchCV(\\n    estimator=Model,\\n    param_distributions=param_grid,\\n    n_iter=100,\\n    n_jobs=-1,\\n    scoring=scorer,\\n    cv=5,\\n    random_state=42,\\n)\\n\\n# Fitting parameters in RandomizedSearchCV\\nrandomized_cv.fit(X_train, y_train)\\n\\nprint(\\n    \\\"Best parameters are {} with CV score={}:\\\".format(\\n        randomized_cv.best_params_, randomized_cv.best_score_\\n    )\\n)\\n\\n# Chime notification when cell successfully executes\\nchime.success()\";\n",
       "                var nbb_cells = Jupyter.notebook.get_cells();\n",
       "                for (var i = 0; i < nbb_cells.length; ++i) {\n",
       "                    if (nbb_cells[i].input_prompt_number == nbb_cell_id) {\n",
       "                        if (nbb_cells[i].get_text() == nbb_unformatted_code) {\n",
       "                             nbb_cells[i].set_text(nbb_formatted_code);\n",
       "                        }\n",
       "                        break;\n",
       "                    }\n",
       "                }\n",
       "            }, 500);\n",
       "            "
      ],
      "text/plain": [
       "<IPython.core.display.Javascript object>"
      ]
     },
     "metadata": {},
     "output_type": "display_data"
    }
   ],
   "source": [
    "%%time\n",
    "\n",
    "# Defining model\n",
    "Model = XGBRegressor(random_state=42, booster='gblinear')\n",
    "\n",
    "# Parameter grid to pass in RandomizedSearchCV\n",
    "param_grid={\n",
    "    'n_estimators': np.arange(100, 500),\n",
    "    'reg_lambda': loguniform(.0001, 1)\n",
    "}\n",
    "\n",
    "# Calling RandomizedSearchCV\n",
    "randomized_cv = RandomizedSearchCV(\n",
    "    estimator=Model,\n",
    "    param_distributions=param_grid,\n",
    "    n_iter=100,\n",
    "    n_jobs=-1,\n",
    "    scoring=scorer,\n",
    "    cv=5,\n",
    "    random_state=42,\n",
    ")\n",
    "\n",
    "# Fitting parameters in RandomizedSearchCV\n",
    "randomized_cv.fit(X_train, y_train)\n",
    "\n",
    "print(\n",
    "    \"Best parameters are {} with CV score={}:\".format(\n",
    "        randomized_cv.best_params_, randomized_cv.best_score_\n",
    "    )\n",
    ")\n",
    "\n",
    "# Chime notification when cell successfully executes\n",
    "chime.success()"
   ]
  },
  {
   "cell_type": "code",
   "execution_count": 57,
   "id": "19ae25e8",
   "metadata": {},
   "outputs": [
    {
     "data": {
      "text/plain": [
       "XGBRegressor(base_score=0.5, booster='gblinear', callbacks=None,\n",
       "             colsample_bylevel=None, colsample_bynode=None,\n",
       "             colsample_bytree=None, early_stopping_rounds=None,\n",
       "             enable_categorical=False, eval_metric=None, gamma=None, gpu_id=-1,\n",
       "             grow_policy=None, importance_type=None,\n",
       "             interaction_constraints=None, learning_rate=0.5, max_bin=None,\n",
       "             max_cat_to_onehot=None, max_delta_step=None, max_depth=None,\n",
       "             max_leaves=None, min_child_weight=None, missing=nan,\n",
       "             monotone_constraints=None, n_estimators=439, n_jobs=0,\n",
       "             num_parallel_tree=None, predictor=None, random_state=42,\n",
       "             reg_alpha=0, reg_lambda=0.0009206654892274761, ...)"
      ]
     },
     "execution_count": 57,
     "metadata": {},
     "output_type": "execute_result"
    },
    {
     "data": {
      "application/javascript": [
       "\n",
       "            setTimeout(function() {\n",
       "                var nbb_cell_id = 57;\n",
       "                var nbb_unformatted_code = \"# Building model with best parameters\\nXGB_gblinear2_tuned = XGBRegressor(\\n    booster=\\\"gblinear\\\",\\n    random_state=42,\\n    n_estimators=439,\\n    reg_lambda=0.0009206654892274761,\\n)\\n\\n# Fit the model on training data\\nXGB_gblinear2_tuned.fit(X_train, y_train)\";\n",
       "                var nbb_formatted_code = \"# Building model with best parameters\\nXGB_gblinear2_tuned = XGBRegressor(\\n    booster=\\\"gblinear\\\",\\n    random_state=42,\\n    n_estimators=439,\\n    reg_lambda=0.0009206654892274761,\\n)\\n\\n# Fit the model on training data\\nXGB_gblinear2_tuned.fit(X_train, y_train)\";\n",
       "                var nbb_cells = Jupyter.notebook.get_cells();\n",
       "                for (var i = 0; i < nbb_cells.length; ++i) {\n",
       "                    if (nbb_cells[i].input_prompt_number == nbb_cell_id) {\n",
       "                        if (nbb_cells[i].get_text() == nbb_unformatted_code) {\n",
       "                             nbb_cells[i].set_text(nbb_formatted_code);\n",
       "                        }\n",
       "                        break;\n",
       "                    }\n",
       "                }\n",
       "            }, 500);\n",
       "            "
      ],
      "text/plain": [
       "<IPython.core.display.Javascript object>"
      ]
     },
     "metadata": {},
     "output_type": "display_data"
    }
   ],
   "source": [
    "# Building model with best parameters\n",
    "XGB_gblinear2_tuned = XGBRegressor(\n",
    "    booster=\"gblinear\",\n",
    "    random_state=42,\n",
    "    n_estimators=439,\n",
    "    reg_lambda=0.0009206654892274761,\n",
    ")\n",
    "\n",
    "# Fit the model on training data\n",
    "XGB_gblinear2_tuned.fit(X_train, y_train)"
   ]
  },
  {
   "cell_type": "code",
   "execution_count": 58,
   "id": "45ab8538",
   "metadata": {},
   "outputs": [
    {
     "name": "stdout",
     "output_type": "stream",
     "text": [
      "Training performance:\n",
      "         RMSE        MAE  R-squared  Adj. R-squared       MAPE\n",
      "0  15.100468  11.725589   0.093356        0.092788  19.392007\n",
      "\n",
      "Validation performance:\n",
      "         RMSE        MAE  R-squared  Adj. R-squared       MAPE\n",
      "0  15.007971  11.641101   0.093196         0.09187  19.169141\n"
     ]
    },
    {
     "data": {
      "application/javascript": [
       "\n",
       "            setTimeout(function() {\n",
       "                var nbb_cell_id = 58;\n",
       "                var nbb_unformatted_code = \"# Calculating different metrics\\nXGB_gblinear2_tuned_train_perf = model_performance_regression(\\n    XGB_gblinear2_tuned, X_train, y_train\\n)\\nprint(\\\"Training performance:\\\\n\\\", XGB_gblinear2_tuned_train_perf)\\nXGB_gblinear2_tuned_val_perf = model_performance_regression(\\n    XGB_gblinear2_tuned, X_val, y_val\\n)\\nprint(\\\"\\\\nValidation performance:\\\\n\\\", XGB_gblinear2_tuned_val_perf)\\n\\n# Adding model to model comparison dataframes\\nmodels_train_comp_df[\\\"XGB_gblinear2 Tuned\\\"] = XGB_gblinear2_tuned_train_perf.T\\nmodels_val_comp_df[\\\"XGB_gblinear2 Tuned\\\"] = XGB_gblinear2_tuned_val_perf.T\";\n",
       "                var nbb_formatted_code = \"# Calculating different metrics\\nXGB_gblinear2_tuned_train_perf = model_performance_regression(\\n    XGB_gblinear2_tuned, X_train, y_train\\n)\\nprint(\\\"Training performance:\\\\n\\\", XGB_gblinear2_tuned_train_perf)\\nXGB_gblinear2_tuned_val_perf = model_performance_regression(\\n    XGB_gblinear2_tuned, X_val, y_val\\n)\\nprint(\\\"\\\\nValidation performance:\\\\n\\\", XGB_gblinear2_tuned_val_perf)\\n\\n# Adding model to model comparison dataframes\\nmodels_train_comp_df[\\\"XGB_gblinear2 Tuned\\\"] = XGB_gblinear2_tuned_train_perf.T\\nmodels_val_comp_df[\\\"XGB_gblinear2 Tuned\\\"] = XGB_gblinear2_tuned_val_perf.T\";\n",
       "                var nbb_cells = Jupyter.notebook.get_cells();\n",
       "                for (var i = 0; i < nbb_cells.length; ++i) {\n",
       "                    if (nbb_cells[i].input_prompt_number == nbb_cell_id) {\n",
       "                        if (nbb_cells[i].get_text() == nbb_unformatted_code) {\n",
       "                             nbb_cells[i].set_text(nbb_formatted_code);\n",
       "                        }\n",
       "                        break;\n",
       "                    }\n",
       "                }\n",
       "            }, 500);\n",
       "            "
      ],
      "text/plain": [
       "<IPython.core.display.Javascript object>"
      ]
     },
     "metadata": {},
     "output_type": "display_data"
    }
   ],
   "source": [
    "# Calculating different metrics\n",
    "XGB_gblinear2_tuned_train_perf = model_performance_regression(\n",
    "    XGB_gblinear2_tuned, X_train, y_train\n",
    ")\n",
    "print(\"Training performance:\\n\", XGB_gblinear2_tuned_train_perf)\n",
    "XGB_gblinear2_tuned_val_perf = model_performance_regression(\n",
    "    XGB_gblinear2_tuned, X_val, y_val\n",
    ")\n",
    "print(\"\\nValidation performance:\\n\", XGB_gblinear2_tuned_val_perf)\n",
    "\n",
    "# Adding model to model comparison dataframes\n",
    "models_train_comp_df[\"XGB_gblinear2 Tuned\"] = XGB_gblinear2_tuned_train_perf.T\n",
    "models_val_comp_df[\"XGB_gblinear2 Tuned\"] = XGB_gblinear2_tuned_val_perf.T"
   ]
  },
  {
   "cell_type": "markdown",
   "id": "ef992f89",
   "metadata": {},
   "source": [
    "#### Observations:\n",
    "- The performance of *XGB_gblinear2* is improved with hyperparameter tuning.\n",
    "- Let us compare the performance of this iteration's models before and after hyperparameter tuning."
   ]
  },
  {
   "cell_type": "markdown",
   "id": "ce915567",
   "metadata": {},
   "source": [
    "## Model Performance Comparison"
   ]
  },
  {
   "cell_type": "markdown",
   "id": "9dd758c1",
   "metadata": {},
   "source": [
    "### Performance of Various Models Tuned and Untuned"
   ]
  },
  {
   "cell_type": "code",
   "execution_count": 59,
   "id": "53f2ff81",
   "metadata": {},
   "outputs": [
    {
     "name": "stdout",
     "output_type": "stream",
     "text": [
      "Train Performance Comparison:\n"
     ]
    },
    {
     "data": {
      "text/html": [
       "<div>\n",
       "<style scoped>\n",
       "    .dataframe tbody tr th:only-of-type {\n",
       "        vertical-align: middle;\n",
       "    }\n",
       "\n",
       "    .dataframe tbody tr th {\n",
       "        vertical-align: top;\n",
       "    }\n",
       "\n",
       "    .dataframe thead th {\n",
       "        text-align: right;\n",
       "    }\n",
       "</style>\n",
       "<table border=\"1\" class=\"dataframe\">\n",
       "  <thead>\n",
       "    <tr style=\"text-align: right;\">\n",
       "      <th></th>\n",
       "      <th>GBM2</th>\n",
       "      <th>GBM2 Tuned</th>\n",
       "      <th>Random Forest2</th>\n",
       "      <th>Random Forest2 Tuned</th>\n",
       "      <th>XGB_gblinear2</th>\n",
       "      <th>XGB_gblinear2 Tuned</th>\n",
       "      <th>XGB_gbtree2</th>\n",
       "      <th>XGB_gbtree2 Tuned</th>\n",
       "    </tr>\n",
       "  </thead>\n",
       "  <tbody>\n",
       "    <tr>\n",
       "      <th>RMSE</th>\n",
       "      <td>14.937480</td>\n",
       "      <td>14.803396</td>\n",
       "      <td>11.328976</td>\n",
       "      <td>14.488353</td>\n",
       "      <td>15.129844</td>\n",
       "      <td>15.100468</td>\n",
       "      <td>14.196740</td>\n",
       "      <td>14.596533</td>\n",
       "    </tr>\n",
       "    <tr>\n",
       "      <th>MAE</th>\n",
       "      <td>11.599899</td>\n",
       "      <td>11.490370</td>\n",
       "      <td>8.362030</td>\n",
       "      <td>11.251028</td>\n",
       "      <td>11.741797</td>\n",
       "      <td>11.725589</td>\n",
       "      <td>10.984573</td>\n",
       "      <td>11.326033</td>\n",
       "    </tr>\n",
       "    <tr>\n",
       "      <th>R-squared</th>\n",
       "      <td>0.112822</td>\n",
       "      <td>0.128678</td>\n",
       "      <td>0.489686</td>\n",
       "      <td>0.165370</td>\n",
       "      <td>0.089825</td>\n",
       "      <td>0.093356</td>\n",
       "      <td>0.198629</td>\n",
       "      <td>0.152859</td>\n",
       "    </tr>\n",
       "    <tr>\n",
       "      <th>Adj. R-squared</th>\n",
       "      <td>0.112266</td>\n",
       "      <td>0.128132</td>\n",
       "      <td>0.489367</td>\n",
       "      <td>0.164847</td>\n",
       "      <td>0.089255</td>\n",
       "      <td>0.092788</td>\n",
       "      <td>0.198128</td>\n",
       "      <td>0.152329</td>\n",
       "    </tr>\n",
       "    <tr>\n",
       "      <th>MAPE</th>\n",
       "      <td>19.178492</td>\n",
       "      <td>18.950940</td>\n",
       "      <td>13.404005</td>\n",
       "      <td>18.600499</td>\n",
       "      <td>19.384322</td>\n",
       "      <td>19.392007</td>\n",
       "      <td>17.982195</td>\n",
       "      <td>18.630614</td>\n",
       "    </tr>\n",
       "  </tbody>\n",
       "</table>\n",
       "</div>"
      ],
      "text/plain": [
       "                     GBM2  GBM2 Tuned  Random Forest2  Random Forest2 Tuned  \\\n",
       "RMSE            14.937480   14.803396       11.328976             14.488353   \n",
       "MAE             11.599899   11.490370        8.362030             11.251028   \n",
       "R-squared        0.112822    0.128678        0.489686              0.165370   \n",
       "Adj. R-squared   0.112266    0.128132        0.489367              0.164847   \n",
       "MAPE            19.178492   18.950940       13.404005             18.600499   \n",
       "\n",
       "                XGB_gblinear2  XGB_gblinear2 Tuned  XGB_gbtree2  \\\n",
       "RMSE                15.129844            15.100468    14.196740   \n",
       "MAE                 11.741797            11.725589    10.984573   \n",
       "R-squared            0.089825             0.093356     0.198629   \n",
       "Adj. R-squared       0.089255             0.092788     0.198128   \n",
       "MAPE                19.384322            19.392007    17.982195   \n",
       "\n",
       "                XGB_gbtree2 Tuned  \n",
       "RMSE                    14.596533  \n",
       "MAE                     11.326033  \n",
       "R-squared                0.152859  \n",
       "Adj. R-squared           0.152329  \n",
       "MAPE                    18.630614  "
      ]
     },
     "execution_count": 59,
     "metadata": {},
     "output_type": "execute_result"
    },
    {
     "data": {
      "application/javascript": [
       "\n",
       "            setTimeout(function() {\n",
       "                var nbb_cell_id = 59;\n",
       "                var nbb_unformatted_code = \"# Displaying train performance of all models\\nprint(\\\"Train Performance Comparison:\\\")\\ncols = [column for column in models_train_comp_df.columns if \\\"2\\\" in column]\\nmodels_train_comp_df[cols].sort_index(axis=1)\";\n",
       "                var nbb_formatted_code = \"# Displaying train performance of all models\\nprint(\\\"Train Performance Comparison:\\\")\\ncols = [column for column in models_train_comp_df.columns if \\\"2\\\" in column]\\nmodels_train_comp_df[cols].sort_index(axis=1)\";\n",
       "                var nbb_cells = Jupyter.notebook.get_cells();\n",
       "                for (var i = 0; i < nbb_cells.length; ++i) {\n",
       "                    if (nbb_cells[i].input_prompt_number == nbb_cell_id) {\n",
       "                        if (nbb_cells[i].get_text() == nbb_unformatted_code) {\n",
       "                             nbb_cells[i].set_text(nbb_formatted_code);\n",
       "                        }\n",
       "                        break;\n",
       "                    }\n",
       "                }\n",
       "            }, 500);\n",
       "            "
      ],
      "text/plain": [
       "<IPython.core.display.Javascript object>"
      ]
     },
     "metadata": {},
     "output_type": "display_data"
    }
   ],
   "source": [
    "# Displaying train performance of all models\n",
    "print(\"Train Performance Comparison:\")\n",
    "cols = [column for column in models_train_comp_df.columns if \"2\" in column]\n",
    "models_train_comp_df[cols].sort_index(axis=1)"
   ]
  },
  {
   "cell_type": "code",
   "execution_count": 60,
   "id": "ad87ba49",
   "metadata": {},
   "outputs": [
    {
     "name": "stdout",
     "output_type": "stream",
     "text": [
      "Validation Performance Comparison:\n"
     ]
    },
    {
     "data": {
      "text/html": [
       "<div>\n",
       "<style scoped>\n",
       "    .dataframe tbody tr th:only-of-type {\n",
       "        vertical-align: middle;\n",
       "    }\n",
       "\n",
       "    .dataframe tbody tr th {\n",
       "        vertical-align: top;\n",
       "    }\n",
       "\n",
       "    .dataframe thead th {\n",
       "        text-align: right;\n",
       "    }\n",
       "</style>\n",
       "<table border=\"1\" class=\"dataframe\">\n",
       "  <thead>\n",
       "    <tr style=\"text-align: right;\">\n",
       "      <th></th>\n",
       "      <th>GBM2</th>\n",
       "      <th>GBM2 Tuned</th>\n",
       "      <th>Random Forest2</th>\n",
       "      <th>Random Forest2 Tuned</th>\n",
       "      <th>XGB_gblinear2</th>\n",
       "      <th>XGB_gblinear2 Tuned</th>\n",
       "      <th>XGB_gbtree2</th>\n",
       "      <th>XGB_gbtree2 Tuned</th>\n",
       "    </tr>\n",
       "  </thead>\n",
       "  <tbody>\n",
       "    <tr>\n",
       "      <th>RMSE</th>\n",
       "      <td>14.894124</td>\n",
       "      <td>14.853802</td>\n",
       "      <td>16.206121</td>\n",
       "      <td>14.903635</td>\n",
       "      <td>15.026305</td>\n",
       "      <td>15.007971</td>\n",
       "      <td>14.973004</td>\n",
       "      <td>14.867475</td>\n",
       "    </tr>\n",
       "    <tr>\n",
       "      <th>MAE</th>\n",
       "      <td>11.552854</td>\n",
       "      <td>11.512155</td>\n",
       "      <td>12.476262</td>\n",
       "      <td>11.556405</td>\n",
       "      <td>11.654886</td>\n",
       "      <td>11.641101</td>\n",
       "      <td>11.582826</td>\n",
       "      <td>11.517005</td>\n",
       "    </tr>\n",
       "    <tr>\n",
       "      <th>R-squared</th>\n",
       "      <td>0.106902</td>\n",
       "      <td>0.111731</td>\n",
       "      <td>-0.057371</td>\n",
       "      <td>0.105761</td>\n",
       "      <td>0.090979</td>\n",
       "      <td>0.093196</td>\n",
       "      <td>0.097417</td>\n",
       "      <td>0.110095</td>\n",
       "    </tr>\n",
       "    <tr>\n",
       "      <th>Adj. R-squared</th>\n",
       "      <td>0.105596</td>\n",
       "      <td>0.110432</td>\n",
       "      <td>-0.058917</td>\n",
       "      <td>0.104453</td>\n",
       "      <td>0.089650</td>\n",
       "      <td>0.091870</td>\n",
       "      <td>0.096097</td>\n",
       "      <td>0.108794</td>\n",
       "    </tr>\n",
       "    <tr>\n",
       "      <th>MAPE</th>\n",
       "      <td>19.011210</td>\n",
       "      <td>18.898856</td>\n",
       "      <td>20.071146</td>\n",
       "      <td>19.016562</td>\n",
       "      <td>19.158340</td>\n",
       "      <td>19.169141</td>\n",
       "      <td>18.941080</td>\n",
       "      <td>18.881056</td>\n",
       "    </tr>\n",
       "  </tbody>\n",
       "</table>\n",
       "</div>"
      ],
      "text/plain": [
       "                     GBM2  GBM2 Tuned  Random Forest2  Random Forest2 Tuned  \\\n",
       "RMSE            14.894124   14.853802       16.206121             14.903635   \n",
       "MAE             11.552854   11.512155       12.476262             11.556405   \n",
       "R-squared        0.106902    0.111731       -0.057371              0.105761   \n",
       "Adj. R-squared   0.105596    0.110432       -0.058917              0.104453   \n",
       "MAPE            19.011210   18.898856       20.071146             19.016562   \n",
       "\n",
       "                XGB_gblinear2  XGB_gblinear2 Tuned  XGB_gbtree2  \\\n",
       "RMSE                15.026305            15.007971    14.973004   \n",
       "MAE                 11.654886            11.641101    11.582826   \n",
       "R-squared            0.090979             0.093196     0.097417   \n",
       "Adj. R-squared       0.089650             0.091870     0.096097   \n",
       "MAPE                19.158340            19.169141    18.941080   \n",
       "\n",
       "                XGB_gbtree2 Tuned  \n",
       "RMSE                    14.867475  \n",
       "MAE                     11.517005  \n",
       "R-squared                0.110095  \n",
       "Adj. R-squared           0.108794  \n",
       "MAPE                    18.881056  "
      ]
     },
     "execution_count": 60,
     "metadata": {},
     "output_type": "execute_result"
    },
    {
     "data": {
      "application/javascript": [
       "\n",
       "            setTimeout(function() {\n",
       "                var nbb_cell_id = 60;\n",
       "                var nbb_unformatted_code = \"# Displaying validation performance of all models\\nprint(\\\"Validation Performance Comparison:\\\")\\nmodels_val_comp_df[cols].sort_index(axis=1)\";\n",
       "                var nbb_formatted_code = \"# Displaying validation performance of all models\\nprint(\\\"Validation Performance Comparison:\\\")\\nmodels_val_comp_df[cols].sort_index(axis=1)\";\n",
       "                var nbb_cells = Jupyter.notebook.get_cells();\n",
       "                for (var i = 0; i < nbb_cells.length; ++i) {\n",
       "                    if (nbb_cells[i].input_prompt_number == nbb_cell_id) {\n",
       "                        if (nbb_cells[i].get_text() == nbb_unformatted_code) {\n",
       "                             nbb_cells[i].set_text(nbb_formatted_code);\n",
       "                        }\n",
       "                        break;\n",
       "                    }\n",
       "                }\n",
       "            }, 500);\n",
       "            "
      ],
      "text/plain": [
       "<IPython.core.display.Javascript object>"
      ]
     },
     "metadata": {},
     "output_type": "display_data"
    }
   ],
   "source": [
    "# Displaying validation performance of all models\n",
    "print(\"Validation Performance Comparison:\")\n",
    "models_val_comp_df[cols].sort_index(axis=1)"
   ]
  },
  {
   "cell_type": "markdown",
   "id": "ff0499f5",
   "metadata": {},
   "source": [
    "#### Observations:\n",
    "- We see improvement across the board with hyperparameter tuning.  Even *Random Forest2* improved sufficiently to be a contender.\n",
    "- Let us thin out the model contenders to those with validation R$^2$ scores of at least 0.105, from both modeling iterations."
   ]
  },
  {
   "cell_type": "markdown",
   "id": "59979b39",
   "metadata": {},
   "source": [
    "### Performance of Contender Models"
   ]
  },
  {
   "cell_type": "code",
   "execution_count": 61,
   "id": "24075b2d",
   "metadata": {},
   "outputs": [
    {
     "name": "stdout",
     "output_type": "stream",
     "text": [
      "Train Performance Comparison:\n"
     ]
    },
    {
     "data": {
      "text/html": [
       "<div>\n",
       "<style scoped>\n",
       "    .dataframe tbody tr th:only-of-type {\n",
       "        vertical-align: middle;\n",
       "    }\n",
       "\n",
       "    .dataframe tbody tr th {\n",
       "        vertical-align: top;\n",
       "    }\n",
       "\n",
       "    .dataframe thead th {\n",
       "        text-align: right;\n",
       "    }\n",
       "</style>\n",
       "<table border=\"1\" class=\"dataframe\">\n",
       "  <thead>\n",
       "    <tr style=\"text-align: right;\">\n",
       "      <th></th>\n",
       "      <th>GBM Tuned</th>\n",
       "      <th>GBM2</th>\n",
       "      <th>GBM2 Tuned</th>\n",
       "      <th>Random Forest2 Tuned</th>\n",
       "      <th>XGB_gbtree Tuned</th>\n",
       "      <th>XGB_gbtree2 Tuned</th>\n",
       "    </tr>\n",
       "  </thead>\n",
       "  <tbody>\n",
       "    <tr>\n",
       "      <th>RMSE</th>\n",
       "      <td>14.835035</td>\n",
       "      <td>14.937480</td>\n",
       "      <td>14.803396</td>\n",
       "      <td>14.488353</td>\n",
       "      <td>14.813429</td>\n",
       "      <td>14.596533</td>\n",
       "    </tr>\n",
       "    <tr>\n",
       "      <th>MAE</th>\n",
       "      <td>11.521845</td>\n",
       "      <td>11.599899</td>\n",
       "      <td>11.490370</td>\n",
       "      <td>11.251028</td>\n",
       "      <td>11.504380</td>\n",
       "      <td>11.326033</td>\n",
       "    </tr>\n",
       "    <tr>\n",
       "      <th>R-squared</th>\n",
       "      <td>0.124949</td>\n",
       "      <td>0.112822</td>\n",
       "      <td>0.128678</td>\n",
       "      <td>0.165370</td>\n",
       "      <td>0.127496</td>\n",
       "      <td>0.152859</td>\n",
       "    </tr>\n",
       "    <tr>\n",
       "      <th>Adj. R-squared</th>\n",
       "      <td>0.124401</td>\n",
       "      <td>0.112266</td>\n",
       "      <td>0.128132</td>\n",
       "      <td>0.164847</td>\n",
       "      <td>0.126950</td>\n",
       "      <td>0.152329</td>\n",
       "    </tr>\n",
       "    <tr>\n",
       "      <th>MAPE</th>\n",
       "      <td>18.989296</td>\n",
       "      <td>19.178492</td>\n",
       "      <td>18.950940</td>\n",
       "      <td>18.600499</td>\n",
       "      <td>18.953973</td>\n",
       "      <td>18.630614</td>\n",
       "    </tr>\n",
       "  </tbody>\n",
       "</table>\n",
       "</div>"
      ],
      "text/plain": [
       "                GBM Tuned       GBM2  GBM2 Tuned  Random Forest2 Tuned  \\\n",
       "RMSE            14.835035  14.937480   14.803396             14.488353   \n",
       "MAE             11.521845  11.599899   11.490370             11.251028   \n",
       "R-squared        0.124949   0.112822    0.128678              0.165370   \n",
       "Adj. R-squared   0.124401   0.112266    0.128132              0.164847   \n",
       "MAPE            18.989296  19.178492   18.950940             18.600499   \n",
       "\n",
       "                XGB_gbtree Tuned  XGB_gbtree2 Tuned  \n",
       "RMSE                   14.813429          14.596533  \n",
       "MAE                    11.504380          11.326033  \n",
       "R-squared               0.127496           0.152859  \n",
       "Adj. R-squared          0.126950           0.152329  \n",
       "MAPE                   18.953973          18.630614  "
      ]
     },
     "execution_count": 61,
     "metadata": {},
     "output_type": "execute_result"
    },
    {
     "data": {
      "application/javascript": [
       "\n",
       "            setTimeout(function() {\n",
       "                var nbb_cell_id = 61;\n",
       "                var nbb_unformatted_code = \"# Displaying train performance of contender models\\nprint(\\\"Train Performance Comparison:\\\")\\ncols = [\\n    column\\n    for column in models_train_comp_df.columns\\n    if models_val_comp_df.loc[\\\"R-squared\\\", column] >= 0.105\\n]\\nmodels_train_comp_df[cols].sort_index(axis=1)\";\n",
       "                var nbb_formatted_code = \"# Displaying train performance of contender models\\nprint(\\\"Train Performance Comparison:\\\")\\ncols = [\\n    column\\n    for column in models_train_comp_df.columns\\n    if models_val_comp_df.loc[\\\"R-squared\\\", column] >= 0.105\\n]\\nmodels_train_comp_df[cols].sort_index(axis=1)\";\n",
       "                var nbb_cells = Jupyter.notebook.get_cells();\n",
       "                for (var i = 0; i < nbb_cells.length; ++i) {\n",
       "                    if (nbb_cells[i].input_prompt_number == nbb_cell_id) {\n",
       "                        if (nbb_cells[i].get_text() == nbb_unformatted_code) {\n",
       "                             nbb_cells[i].set_text(nbb_formatted_code);\n",
       "                        }\n",
       "                        break;\n",
       "                    }\n",
       "                }\n",
       "            }, 500);\n",
       "            "
      ],
      "text/plain": [
       "<IPython.core.display.Javascript object>"
      ]
     },
     "metadata": {},
     "output_type": "display_data"
    }
   ],
   "source": [
    "# Displaying train performance of contender models\n",
    "print(\"Train Performance Comparison:\")\n",
    "cols = [\n",
    "    column\n",
    "    for column in models_train_comp_df.columns\n",
    "    if models_val_comp_df.loc[\"R-squared\", column] >= 0.105\n",
    "]\n",
    "models_train_comp_df[cols].sort_index(axis=1)"
   ]
  },
  {
   "cell_type": "code",
   "execution_count": 62,
   "id": "df9d1057",
   "metadata": {},
   "outputs": [
    {
     "name": "stdout",
     "output_type": "stream",
     "text": [
      "Validation Performance Comparison:\n"
     ]
    },
    {
     "data": {
      "text/html": [
       "<div>\n",
       "<style scoped>\n",
       "    .dataframe tbody tr th:only-of-type {\n",
       "        vertical-align: middle;\n",
       "    }\n",
       "\n",
       "    .dataframe tbody tr th {\n",
       "        vertical-align: top;\n",
       "    }\n",
       "\n",
       "    .dataframe thead th {\n",
       "        text-align: right;\n",
       "    }\n",
       "</style>\n",
       "<table border=\"1\" class=\"dataframe\">\n",
       "  <thead>\n",
       "    <tr style=\"text-align: right;\">\n",
       "      <th></th>\n",
       "      <th>GBM Tuned</th>\n",
       "      <th>GBM2</th>\n",
       "      <th>GBM2 Tuned</th>\n",
       "      <th>Random Forest2 Tuned</th>\n",
       "      <th>XGB_gbtree Tuned</th>\n",
       "      <th>XGB_gbtree2 Tuned</th>\n",
       "    </tr>\n",
       "  </thead>\n",
       "  <tbody>\n",
       "    <tr>\n",
       "      <th>RMSE</th>\n",
       "      <td>14.877704</td>\n",
       "      <td>14.894124</td>\n",
       "      <td>14.853802</td>\n",
       "      <td>14.903635</td>\n",
       "      <td>14.882834</td>\n",
       "      <td>14.867475</td>\n",
       "    </tr>\n",
       "    <tr>\n",
       "      <th>MAE</th>\n",
       "      <td>11.542386</td>\n",
       "      <td>11.552854</td>\n",
       "      <td>11.512155</td>\n",
       "      <td>11.556405</td>\n",
       "      <td>11.546377</td>\n",
       "      <td>11.517005</td>\n",
       "    </tr>\n",
       "    <tr>\n",
       "      <th>R-squared</th>\n",
       "      <td>0.108870</td>\n",
       "      <td>0.106902</td>\n",
       "      <td>0.111731</td>\n",
       "      <td>0.105761</td>\n",
       "      <td>0.108255</td>\n",
       "      <td>0.110095</td>\n",
       "    </tr>\n",
       "    <tr>\n",
       "      <th>Adj. R-squared</th>\n",
       "      <td>0.107567</td>\n",
       "      <td>0.105596</td>\n",
       "      <td>0.110432</td>\n",
       "      <td>0.104453</td>\n",
       "      <td>0.106951</td>\n",
       "      <td>0.108794</td>\n",
       "    </tr>\n",
       "    <tr>\n",
       "      <th>MAPE</th>\n",
       "      <td>18.937928</td>\n",
       "      <td>19.011210</td>\n",
       "      <td>18.898856</td>\n",
       "      <td>19.016562</td>\n",
       "      <td>18.931955</td>\n",
       "      <td>18.881056</td>\n",
       "    </tr>\n",
       "  </tbody>\n",
       "</table>\n",
       "</div>"
      ],
      "text/plain": [
       "                GBM Tuned       GBM2  GBM2 Tuned  Random Forest2 Tuned  \\\n",
       "RMSE            14.877704  14.894124   14.853802             14.903635   \n",
       "MAE             11.542386  11.552854   11.512155             11.556405   \n",
       "R-squared        0.108870   0.106902    0.111731              0.105761   \n",
       "Adj. R-squared   0.107567   0.105596    0.110432              0.104453   \n",
       "MAPE            18.937928  19.011210   18.898856             19.016562   \n",
       "\n",
       "                XGB_gbtree Tuned  XGB_gbtree2 Tuned  \n",
       "RMSE                   14.882834          14.867475  \n",
       "MAE                    11.546377          11.517005  \n",
       "R-squared               0.108255           0.110095  \n",
       "Adj. R-squared          0.106951           0.108794  \n",
       "MAPE                   18.931955          18.881056  "
      ]
     },
     "execution_count": 62,
     "metadata": {},
     "output_type": "execute_result"
    },
    {
     "data": {
      "application/javascript": [
       "\n",
       "            setTimeout(function() {\n",
       "                var nbb_cell_id = 62;\n",
       "                var nbb_unformatted_code = \"# Displaying validation performance of contender models\\nprint(\\\"Validation Performance Comparison:\\\")\\nmodels_val_comp_df[cols].sort_index(axis=1)\";\n",
       "                var nbb_formatted_code = \"# Displaying validation performance of contender models\\nprint(\\\"Validation Performance Comparison:\\\")\\nmodels_val_comp_df[cols].sort_index(axis=1)\";\n",
       "                var nbb_cells = Jupyter.notebook.get_cells();\n",
       "                for (var i = 0; i < nbb_cells.length; ++i) {\n",
       "                    if (nbb_cells[i].input_prompt_number == nbb_cell_id) {\n",
       "                        if (nbb_cells[i].get_text() == nbb_unformatted_code) {\n",
       "                             nbb_cells[i].set_text(nbb_formatted_code);\n",
       "                        }\n",
       "                        break;\n",
       "                    }\n",
       "                }\n",
       "            }, 500);\n",
       "            "
      ],
      "text/plain": [
       "<IPython.core.display.Javascript object>"
      ]
     },
     "metadata": {},
     "output_type": "display_data"
    }
   ],
   "source": [
    "# Displaying validation performance of contender models\n",
    "print(\"Validation Performance Comparison:\")\n",
    "models_val_comp_df[cols].sort_index(axis=1)"
   ]
  },
  {
   "cell_type": "markdown",
   "id": "f1ab6f60",
   "metadata": {},
   "source": [
    "#### Observations:\n",
    "- *GBM* and *GBM Tuned* have one additional feature than the other models, after one hot encoding.  Therefore Ajusted $R^2$ is more relevant here comparing those two models with the others, than previously.\n",
    "- Regardless, the top models are the same for R$^2$ and Adjusted R$^2$, *GBM2 Tuned*, followed by *XGB_gtree2 Tuned*, then *GBM Tuned*.\n",
    "- Using the original `known for` category columns instead of `known_for`, with the inclusion of `num_categories`, brought the validation R$^2$ scores over 0.11 for two of the models.\n",
    "- There is some variation in overfitting between the contender models."
   ]
  },
  {
   "cell_type": "markdown",
   "id": "ff59cc71",
   "metadata": {},
   "source": [
    "#### Comparison of Percentage of Overfit for All 4 Metrics"
   ]
  },
  {
   "cell_type": "code",
   "execution_count": 63,
   "id": "8c576bcc",
   "metadata": {},
   "outputs": [
    {
     "name": "stdout",
     "output_type": "stream",
     "text": [
      "Percentage of Overfit:\n"
     ]
    },
    {
     "data": {
      "text/html": [
       "<div>\n",
       "<style scoped>\n",
       "    .dataframe tbody tr th:only-of-type {\n",
       "        vertical-align: middle;\n",
       "    }\n",
       "\n",
       "    .dataframe tbody tr th {\n",
       "        vertical-align: top;\n",
       "    }\n",
       "\n",
       "    .dataframe thead th {\n",
       "        text-align: right;\n",
       "    }\n",
       "</style>\n",
       "<table border=\"1\" class=\"dataframe\">\n",
       "  <thead>\n",
       "    <tr style=\"text-align: right;\">\n",
       "      <th></th>\n",
       "      <th>R-squared % overfit</th>\n",
       "      <th>RMSE % overfit</th>\n",
       "      <th>MAE % overfit</th>\n",
       "      <th>MAPE % overfit</th>\n",
       "      <th>% Overfit Average of 4 Metrics</th>\n",
       "    </tr>\n",
       "  </thead>\n",
       "  <tbody>\n",
       "    <tr>\n",
       "      <th>GBM2</th>\n",
       "      <td>5.2</td>\n",
       "      <td>-0.3</td>\n",
       "      <td>-0.4</td>\n",
       "      <td>-0.9</td>\n",
       "      <td>0.9</td>\n",
       "    </tr>\n",
       "    <tr>\n",
       "      <th>GBM Tuned</th>\n",
       "      <td>12.9</td>\n",
       "      <td>0.3</td>\n",
       "      <td>0.2</td>\n",
       "      <td>-0.3</td>\n",
       "      <td>3.3</td>\n",
       "    </tr>\n",
       "    <tr>\n",
       "      <th>GBM2 Tuned</th>\n",
       "      <td>13.2</td>\n",
       "      <td>0.3</td>\n",
       "      <td>0.2</td>\n",
       "      <td>-0.3</td>\n",
       "      <td>3.4</td>\n",
       "    </tr>\n",
       "    <tr>\n",
       "      <th>XGB_gbtree Tuned</th>\n",
       "      <td>15.1</td>\n",
       "      <td>0.5</td>\n",
       "      <td>0.4</td>\n",
       "      <td>-0.1</td>\n",
       "      <td>4.0</td>\n",
       "    </tr>\n",
       "    <tr>\n",
       "      <th>XGB_gbtree2 Tuned</th>\n",
       "      <td>28.0</td>\n",
       "      <td>1.8</td>\n",
       "      <td>1.7</td>\n",
       "      <td>1.3</td>\n",
       "      <td>8.2</td>\n",
       "    </tr>\n",
       "    <tr>\n",
       "      <th>Random Forest2 Tuned</th>\n",
       "      <td>36.0</td>\n",
       "      <td>2.8</td>\n",
       "      <td>2.6</td>\n",
       "      <td>2.2</td>\n",
       "      <td>10.9</td>\n",
       "    </tr>\n",
       "  </tbody>\n",
       "</table>\n",
       "</div>"
      ],
      "text/plain": [
       "                      R-squared % overfit  RMSE % overfit  MAE % overfit  \\\n",
       "GBM2                                  5.2            -0.3           -0.4   \n",
       "GBM Tuned                            12.9             0.3            0.2   \n",
       "GBM2 Tuned                           13.2             0.3            0.2   \n",
       "XGB_gbtree Tuned                     15.1             0.5            0.4   \n",
       "XGB_gbtree2 Tuned                    28.0             1.8            1.7   \n",
       "Random Forest2 Tuned                 36.0             2.8            2.6   \n",
       "\n",
       "                      MAPE % overfit  % Overfit Average of 4 Metrics  \n",
       "GBM2                            -0.9                             0.9  \n",
       "GBM Tuned                       -0.3                             3.3  \n",
       "GBM2 Tuned                      -0.3                             3.4  \n",
       "XGB_gbtree Tuned                -0.1                             4.0  \n",
       "XGB_gbtree2 Tuned                1.3                             8.2  \n",
       "Random Forest2 Tuned             2.2                            10.9  "
      ]
     },
     "execution_count": 63,
     "metadata": {},
     "output_type": "execute_result"
    },
    {
     "data": {
      "application/javascript": [
       "\n",
       "            setTimeout(function() {\n",
       "                var nbb_cell_id = 63;\n",
       "                var nbb_unformatted_code = \"# Subtracting the ratio of validation R-square/train R-square from 1\\noverfit_perc = pd.DataFrame()\\noverfit_perc[\\\"R-squared % overfit\\\"] = np.round(\\n    (\\n        1\\n        - (\\n            models_val_comp_df[cols].T[\\\"R-squared\\\"]\\n            / models_train_comp_df[cols].T[\\\"R-squared\\\"]\\n        )\\n    )\\n    * 100,\\n    1,\\n)\\nfor metric in [\\\"RMSE\\\", \\\"MAE\\\", \\\"MAPE\\\"]:\\n    overfit_perc[f\\\"{metric} % overfit\\\"] = np.round(\\n        (1 - (models_train_comp_df.T[metric] / models_val_comp_df.T[metric])) * 100, 1\\n    )\\n\\noverfit_perc[\\\"% Overfit Average of 4 Metrics\\\"] = np.round(\\n    overfit_perc.sum(axis=1) / 4, 1\\n)\\n\\nprint(f\\\"Percentage of Overfit:\\\")\\noverfit_perc.sort_values(by=\\\"R-squared % overfit\\\")\";\n",
       "                var nbb_formatted_code = \"# Subtracting the ratio of validation R-square/train R-square from 1\\noverfit_perc = pd.DataFrame()\\noverfit_perc[\\\"R-squared % overfit\\\"] = np.round(\\n    (\\n        1\\n        - (\\n            models_val_comp_df[cols].T[\\\"R-squared\\\"]\\n            / models_train_comp_df[cols].T[\\\"R-squared\\\"]\\n        )\\n    )\\n    * 100,\\n    1,\\n)\\nfor metric in [\\\"RMSE\\\", \\\"MAE\\\", \\\"MAPE\\\"]:\\n    overfit_perc[f\\\"{metric} % overfit\\\"] = np.round(\\n        (1 - (models_train_comp_df.T[metric] / models_val_comp_df.T[metric])) * 100, 1\\n    )\\n\\noverfit_perc[\\\"% Overfit Average of 4 Metrics\\\"] = np.round(\\n    overfit_perc.sum(axis=1) / 4, 1\\n)\\n\\nprint(f\\\"Percentage of Overfit:\\\")\\noverfit_perc.sort_values(by=\\\"R-squared % overfit\\\")\";\n",
       "                var nbb_cells = Jupyter.notebook.get_cells();\n",
       "                for (var i = 0; i < nbb_cells.length; ++i) {\n",
       "                    if (nbb_cells[i].input_prompt_number == nbb_cell_id) {\n",
       "                        if (nbb_cells[i].get_text() == nbb_unformatted_code) {\n",
       "                             nbb_cells[i].set_text(nbb_formatted_code);\n",
       "                        }\n",
       "                        break;\n",
       "                    }\n",
       "                }\n",
       "            }, 500);\n",
       "            "
      ],
      "text/plain": [
       "<IPython.core.display.Javascript object>"
      ]
     },
     "metadata": {},
     "output_type": "display_data"
    }
   ],
   "source": [
    "# Subtracting the ratio of validation R-square/train R-square from 1\n",
    "overfit_perc = pd.DataFrame()\n",
    "overfit_perc[\"R-squared % overfit\"] = np.round(\n",
    "    (\n",
    "        1\n",
    "        - (\n",
    "            models_val_comp_df[cols].T[\"R-squared\"]\n",
    "            / models_train_comp_df[cols].T[\"R-squared\"]\n",
    "        )\n",
    "    )\n",
    "    * 100,\n",
    "    1,\n",
    ")\n",
    "for metric in [\"RMSE\", \"MAE\", \"MAPE\"]:\n",
    "    overfit_perc[f\"{metric} % overfit\"] = np.round(\n",
    "        (1 - (models_train_comp_df.T[metric] / models_val_comp_df.T[metric])) * 100, 1\n",
    "    )\n",
    "\n",
    "overfit_perc[\"% Overfit Average of 4 Metrics\"] = np.round(\n",
    "    overfit_perc.sum(axis=1) / 4, 1\n",
    ")\n",
    "\n",
    "print(f\"Percentage of Overfit:\")\n",
    "overfit_perc.sort_values(by=\"R-squared % overfit\")"
   ]
  },
  {
   "cell_type": "markdown",
   "id": "c347e38b",
   "metadata": {},
   "source": [
    "#### Observations:\n",
    "- Of the candidate models for R$^2$ score, *GBM2* gives the most generalized performance.\n",
    "- That said, *GBM2 Tuned* has the highest R$^2$ score on the validation set, followed by *XGB_gbtree2 Tuned*.  \n",
    "- With limited performance across the board, we will aim to eke out as much predictive capacity as possible by choosing *GBM2 Tuned* as the champion model and *XGB_gbtree2 Tuned* as the challenger.\n",
    "- It's time to check our champion model's performance on the test set."
   ]
  },
  {
   "cell_type": "markdown",
   "id": "6a9b5162",
   "metadata": {},
   "source": [
    "### Champion Model *GBM2 Tuned* Performance on Test Set"
   ]
  },
  {
   "cell_type": "markdown",
   "id": "7f241334",
   "metadata": {},
   "source": [
    "#### Reading the [Preprocessed Test Set](https://github.com/teresahanak/wikipedia-life-expectancy/blob/main/wp_life_expect_test_preproc.csv)"
   ]
  },
  {
   "cell_type": "code",
   "execution_count": 64,
   "id": "82d1b172",
   "metadata": {},
   "outputs": [
    {
     "name": "stdout",
     "output_type": "stream",
     "text": [
      "There are 19420 rows and 20 columns.\n"
     ]
    },
    {
     "data": {
      "application/javascript": [
       "\n",
       "            setTimeout(function() {\n",
       "                var nbb_cell_id = 64;\n",
       "                var nbb_unformatted_code = \"# Reading the test set\\ntest_data = pd.read_csv(\\\"wp_life_expect_test_preproc.csv\\\")\\n\\n# Making a working copy\\ntest = test_data.copy()\\n\\n# Checking shape\\nprint(f\\\"There are {test.shape[0]} rows and {test.shape[1]} columns.\\\")\";\n",
       "                var nbb_formatted_code = \"# Reading the test set\\ntest_data = pd.read_csv(\\\"wp_life_expect_test_preproc.csv\\\")\\n\\n# Making a working copy\\ntest = test_data.copy()\\n\\n# Checking shape\\nprint(f\\\"There are {test.shape[0]} rows and {test.shape[1]} columns.\\\")\";\n",
       "                var nbb_cells = Jupyter.notebook.get_cells();\n",
       "                for (var i = 0; i < nbb_cells.length; ++i) {\n",
       "                    if (nbb_cells[i].input_prompt_number == nbb_cell_id) {\n",
       "                        if (nbb_cells[i].get_text() == nbb_unformatted_code) {\n",
       "                             nbb_cells[i].set_text(nbb_formatted_code);\n",
       "                        }\n",
       "                        break;\n",
       "                    }\n",
       "                }\n",
       "            }, 500);\n",
       "            "
      ],
      "text/plain": [
       "<IPython.core.display.Javascript object>"
      ]
     },
     "metadata": {},
     "output_type": "display_data"
    }
   ],
   "source": [
    "# Reading the test set\n",
    "test_data = pd.read_csv(\"wp_life_expect_test_preproc.csv\")\n",
    "\n",
    "# Making a working copy\n",
    "test = test_data.copy()\n",
    "\n",
    "# Checking shape\n",
    "print(f\"There are {test.shape[0]} rows and {test.shape[1]} columns.\")"
   ]
  },
  {
   "cell_type": "code",
   "execution_count": 65,
   "id": "d2088b6e",
   "metadata": {},
   "outputs": [
    {
     "data": {
      "text/html": [
       "<div>\n",
       "<style scoped>\n",
       "    .dataframe tbody tr th:only-of-type {\n",
       "        vertical-align: middle;\n",
       "    }\n",
       "\n",
       "    .dataframe tbody tr th {\n",
       "        vertical-align: top;\n",
       "    }\n",
       "\n",
       "    .dataframe thead th {\n",
       "        text-align: right;\n",
       "    }\n",
       "</style>\n",
       "<table border=\"1\" class=\"dataframe\">\n",
       "  <thead>\n",
       "    <tr style=\"text-align: right;\">\n",
       "      <th></th>\n",
       "      <th>num_references</th>\n",
       "      <th>age</th>\n",
       "      <th>sciences</th>\n",
       "      <th>social</th>\n",
       "      <th>spiritual</th>\n",
       "      <th>academia_humanities</th>\n",
       "      <th>business_farming</th>\n",
       "      <th>arts</th>\n",
       "      <th>sports</th>\n",
       "      <th>law_enf_military_operator</th>\n",
       "      <th>politics_govt_law</th>\n",
       "      <th>crime</th>\n",
       "      <th>num_categories</th>\n",
       "      <th>age_sqrd</th>\n",
       "      <th>recip_num_references</th>\n",
       "      <th>years</th>\n",
       "      <th>years_sqrd</th>\n",
       "      <th>region</th>\n",
       "      <th>prior_region</th>\n",
       "      <th>known_for</th>\n",
       "    </tr>\n",
       "  </thead>\n",
       "  <tbody>\n",
       "    <tr>\n",
       "      <th>475</th>\n",
       "      <td>5</td>\n",
       "      <td>80.0</td>\n",
       "      <td>0</td>\n",
       "      <td>0</td>\n",
       "      <td>0</td>\n",
       "      <td>0</td>\n",
       "      <td>0</td>\n",
       "      <td>1</td>\n",
       "      <td>0</td>\n",
       "      <td>0</td>\n",
       "      <td>0</td>\n",
       "      <td>0</td>\n",
       "      <td>1</td>\n",
       "      <td>6400.0</td>\n",
       "      <td>0.200000</td>\n",
       "      <td>20</td>\n",
       "      <td>400</td>\n",
       "      <td>South America</td>\n",
       "      <td>No Prior Region</td>\n",
       "      <td>arts</td>\n",
       "    </tr>\n",
       "    <tr>\n",
       "      <th>15182</th>\n",
       "      <td>15</td>\n",
       "      <td>82.0</td>\n",
       "      <td>0</td>\n",
       "      <td>0</td>\n",
       "      <td>0</td>\n",
       "      <td>1</td>\n",
       "      <td>0</td>\n",
       "      <td>1</td>\n",
       "      <td>0</td>\n",
       "      <td>0</td>\n",
       "      <td>0</td>\n",
       "      <td>0</td>\n",
       "      <td>2</td>\n",
       "      <td>6724.0</td>\n",
       "      <td>0.066667</td>\n",
       "      <td>1</td>\n",
       "      <td>1</td>\n",
       "      <td>North America</td>\n",
       "      <td>No Prior Region</td>\n",
       "      <td>two</td>\n",
       "    </tr>\n",
       "  </tbody>\n",
       "</table>\n",
       "</div>"
      ],
      "text/plain": [
       "       num_references   age  sciences  social  spiritual  academia_humanities  \\\n",
       "475                 5  80.0         0       0          0                    0   \n",
       "15182              15  82.0         0       0          0                    1   \n",
       "\n",
       "       business_farming  arts  sports  law_enf_military_operator  \\\n",
       "475                   0     1       0                          0   \n",
       "15182                 0     1       0                          0   \n",
       "\n",
       "       politics_govt_law  crime  num_categories  age_sqrd  \\\n",
       "475                    0      0               1    6400.0   \n",
       "15182                  0      0               2    6724.0   \n",
       "\n",
       "       recip_num_references  years  years_sqrd         region  \\\n",
       "475                0.200000     20         400  South America   \n",
       "15182              0.066667      1           1  North America   \n",
       "\n",
       "          prior_region known_for  \n",
       "475    No Prior Region      arts  \n",
       "15182  No Prior Region       two  "
      ]
     },
     "execution_count": 65,
     "metadata": {},
     "output_type": "execute_result"
    },
    {
     "data": {
      "application/javascript": [
       "\n",
       "            setTimeout(function() {\n",
       "                var nbb_cell_id = 65;\n",
       "                var nbb_unformatted_code = \"# Checking a sample of rows\\ntest.sample(2)\";\n",
       "                var nbb_formatted_code = \"# Checking a sample of rows\\ntest.sample(2)\";\n",
       "                var nbb_cells = Jupyter.notebook.get_cells();\n",
       "                for (var i = 0; i < nbb_cells.length; ++i) {\n",
       "                    if (nbb_cells[i].input_prompt_number == nbb_cell_id) {\n",
       "                        if (nbb_cells[i].get_text() == nbb_unformatted_code) {\n",
       "                             nbb_cells[i].set_text(nbb_formatted_code);\n",
       "                        }\n",
       "                        break;\n",
       "                    }\n",
       "                }\n",
       "            }, 500);\n",
       "            "
      ],
      "text/plain": [
       "<IPython.core.display.Javascript object>"
      ]
     },
     "metadata": {},
     "output_type": "display_data"
    }
   ],
   "source": [
    "# Checking a sample of rows\n",
    "test.sample(2)"
   ]
  },
  {
   "cell_type": "markdown",
   "id": "dcab4cde",
   "metadata": {},
   "source": [
    "#### Checking Data Types and Null Values"
   ]
  },
  {
   "cell_type": "code",
   "execution_count": 66,
   "id": "1a6e842e",
   "metadata": {},
   "outputs": [
    {
     "name": "stdout",
     "output_type": "stream",
     "text": [
      "<class 'pandas.core.frame.DataFrame'>\n",
      "RangeIndex: 19420 entries, 0 to 19419\n",
      "Data columns (total 20 columns):\n",
      " #   Column                     Non-Null Count  Dtype  \n",
      "---  ------                     --------------  -----  \n",
      " 0   num_references             19420 non-null  int64  \n",
      " 1   age                        19420 non-null  float64\n",
      " 2   sciences                   19420 non-null  int64  \n",
      " 3   social                     19420 non-null  int64  \n",
      " 4   spiritual                  19420 non-null  int64  \n",
      " 5   academia_humanities        19420 non-null  int64  \n",
      " 6   business_farming           19420 non-null  int64  \n",
      " 7   arts                       19420 non-null  int64  \n",
      " 8   sports                     19420 non-null  int64  \n",
      " 9   law_enf_military_operator  19420 non-null  int64  \n",
      " 10  politics_govt_law          19420 non-null  int64  \n",
      " 11  crime                      19420 non-null  int64  \n",
      " 12  num_categories             19420 non-null  int64  \n",
      " 13  age_sqrd                   19420 non-null  float64\n",
      " 14  recip_num_references       19420 non-null  float64\n",
      " 15  years                      19420 non-null  int64  \n",
      " 16  years_sqrd                 19420 non-null  int64  \n",
      " 17  region                     19420 non-null  object \n",
      " 18  prior_region               19420 non-null  object \n",
      " 19  known_for                  19420 non-null  object \n",
      "dtypes: float64(3), int64(14), object(3)\n",
      "memory usage: 3.0+ MB\n"
     ]
    },
    {
     "data": {
      "application/javascript": [
       "\n",
       "            setTimeout(function() {\n",
       "                var nbb_cell_id = 66;\n",
       "                var nbb_unformatted_code = \"# Checking info\\ntest.info()\";\n",
       "                var nbb_formatted_code = \"# Checking info\\ntest.info()\";\n",
       "                var nbb_cells = Jupyter.notebook.get_cells();\n",
       "                for (var i = 0; i < nbb_cells.length; ++i) {\n",
       "                    if (nbb_cells[i].input_prompt_number == nbb_cell_id) {\n",
       "                        if (nbb_cells[i].get_text() == nbb_unformatted_code) {\n",
       "                             nbb_cells[i].set_text(nbb_formatted_code);\n",
       "                        }\n",
       "                        break;\n",
       "                    }\n",
       "                }\n",
       "            }, 500);\n",
       "            "
      ],
      "text/plain": [
       "<IPython.core.display.Javascript object>"
      ]
     },
     "metadata": {},
     "output_type": "display_data"
    }
   ],
   "source": [
    "# Checking info\n",
    "test.info()"
   ]
  },
  {
   "cell_type": "markdown",
   "id": "f6fa6b25",
   "metadata": {},
   "source": [
    "#### Observations:\n",
    "- The test set was preprocessed in the [olsmodel notebook](https://github.com/teresahanak/wikipedia-life-expectancy/blob/main/wp_life_expect_olsmodel_thanak_2022_10_9.ipynb) and has no missing values.\n",
    "- We will typecast object type features as category."
   ]
  },
  {
   "cell_type": "markdown",
   "id": "3fa875f4",
   "metadata": {},
   "source": [
    "#### Typecasting `region`, `prior_region`, and `known_for` as Categorical"
   ]
  },
  {
   "cell_type": "code",
   "execution_count": 67,
   "id": "226850aa",
   "metadata": {},
   "outputs": [
    {
     "name": "stdout",
     "output_type": "stream",
     "text": [
      "<class 'pandas.core.frame.DataFrame'>\n",
      "RangeIndex: 19420 entries, 0 to 19419\n",
      "Data columns (total 20 columns):\n",
      " #   Column                     Non-Null Count  Dtype   \n",
      "---  ------                     --------------  -----   \n",
      " 0   num_references             19420 non-null  int64   \n",
      " 1   age                        19420 non-null  float64 \n",
      " 2   sciences                   19420 non-null  int64   \n",
      " 3   social                     19420 non-null  int64   \n",
      " 4   spiritual                  19420 non-null  int64   \n",
      " 5   academia_humanities        19420 non-null  int64   \n",
      " 6   business_farming           19420 non-null  int64   \n",
      " 7   arts                       19420 non-null  int64   \n",
      " 8   sports                     19420 non-null  int64   \n",
      " 9   law_enf_military_operator  19420 non-null  int64   \n",
      " 10  politics_govt_law          19420 non-null  int64   \n",
      " 11  crime                      19420 non-null  int64   \n",
      " 12  num_categories             19420 non-null  int64   \n",
      " 13  age_sqrd                   19420 non-null  float64 \n",
      " 14  recip_num_references       19420 non-null  float64 \n",
      " 15  years                      19420 non-null  int64   \n",
      " 16  years_sqrd                 19420 non-null  int64   \n",
      " 17  region                     19420 non-null  category\n",
      " 18  prior_region               19420 non-null  category\n",
      " 19  known_for                  19420 non-null  category\n",
      "dtypes: category(3), float64(3), int64(14)\n",
      "memory usage: 2.6 MB\n"
     ]
    },
    {
     "data": {
      "application/javascript": [
       "\n",
       "            setTimeout(function() {\n",
       "                var nbb_cell_id = 67;\n",
       "                var nbb_unformatted_code = \"# Typecasting object type features as categorical\\ntest[[\\\"region\\\", \\\"prior_region\\\", \\\"known_for\\\"]] = test[\\n    [\\\"region\\\", \\\"prior_region\\\", \\\"known_for\\\"]\\n].astype(\\\"category\\\")\\n\\n# Recheck info\\ntest.info()\";\n",
       "                var nbb_formatted_code = \"# Typecasting object type features as categorical\\ntest[[\\\"region\\\", \\\"prior_region\\\", \\\"known_for\\\"]] = test[\\n    [\\\"region\\\", \\\"prior_region\\\", \\\"known_for\\\"]\\n].astype(\\\"category\\\")\\n\\n# Recheck info\\ntest.info()\";\n",
       "                var nbb_cells = Jupyter.notebook.get_cells();\n",
       "                for (var i = 0; i < nbb_cells.length; ++i) {\n",
       "                    if (nbb_cells[i].input_prompt_number == nbb_cell_id) {\n",
       "                        if (nbb_cells[i].get_text() == nbb_unformatted_code) {\n",
       "                             nbb_cells[i].set_text(nbb_formatted_code);\n",
       "                        }\n",
       "                        break;\n",
       "                    }\n",
       "                }\n",
       "            }, 500);\n",
       "            "
      ],
      "text/plain": [
       "<IPython.core.display.Javascript object>"
      ]
     },
     "metadata": {},
     "output_type": "display_data"
    }
   ],
   "source": [
    "# Typecasting object type features as categorical\n",
    "test[[\"region\", \"prior_region\", \"known_for\"]] = test[\n",
    "    [\"region\", \"prior_region\", \"known_for\"]\n",
    "].astype(\"category\")\n",
    "\n",
    "# Recheck info\n",
    "test.info()"
   ]
  },
  {
   "cell_type": "markdown",
   "id": "7975693d",
   "metadata": {},
   "source": [
    "#### Observations:\n",
    "- We are ready to define independent and dependent variables."
   ]
  },
  {
   "cell_type": "code",
   "execution_count": 68,
   "id": "f026e0c6",
   "metadata": {},
   "outputs": [
    {
     "name": "stdout",
     "output_type": "stream",
     "text": [
      "There are 19420 rows and 34 columns in the train set.\n",
      "\n"
     ]
    },
    {
     "data": {
      "text/html": [
       "<div>\n",
       "<style scoped>\n",
       "    .dataframe tbody tr th:only-of-type {\n",
       "        vertical-align: middle;\n",
       "    }\n",
       "\n",
       "    .dataframe tbody tr th {\n",
       "        vertical-align: top;\n",
       "    }\n",
       "\n",
       "    .dataframe thead th {\n",
       "        text-align: right;\n",
       "    }\n",
       "</style>\n",
       "<table border=\"1\" class=\"dataframe\">\n",
       "  <thead>\n",
       "    <tr style=\"text-align: right;\">\n",
       "      <th></th>\n",
       "      <th>num_references</th>\n",
       "      <th>years</th>\n",
       "      <th>sciences</th>\n",
       "      <th>social</th>\n",
       "      <th>spiritual</th>\n",
       "      <th>academia_humanities</th>\n",
       "      <th>business_farming</th>\n",
       "      <th>arts</th>\n",
       "      <th>sports</th>\n",
       "      <th>law_enf_military_operator</th>\n",
       "      <th>politics_govt_law</th>\n",
       "      <th>crime</th>\n",
       "      <th>num_categories</th>\n",
       "      <th>region_Asia</th>\n",
       "      <th>region_Central Asia</th>\n",
       "      <th>region_Europe</th>\n",
       "      <th>region_Mid-Cent America/Caribbean</th>\n",
       "      <th>region_Middle East</th>\n",
       "      <th>region_North America</th>\n",
       "      <th>region_Oceania</th>\n",
       "      <th>region_Russian Federation</th>\n",
       "      <th>region_South America</th>\n",
       "      <th>region_South East Asia</th>\n",
       "      <th>prior_region_Asia</th>\n",
       "      <th>prior_region_Central Asia</th>\n",
       "      <th>prior_region_Europe</th>\n",
       "      <th>prior_region_Mid-Cent America/Caribbean</th>\n",
       "      <th>prior_region_Middle East</th>\n",
       "      <th>prior_region_No Prior Region</th>\n",
       "      <th>prior_region_North America</th>\n",
       "      <th>prior_region_Oceania</th>\n",
       "      <th>prior_region_Russian Federation</th>\n",
       "      <th>prior_region_South America</th>\n",
       "      <th>prior_region_South East Asia</th>\n",
       "    </tr>\n",
       "  </thead>\n",
       "  <tbody>\n",
       "    <tr>\n",
       "      <th>11066</th>\n",
       "      <td>5.0</td>\n",
       "      <td>27.0</td>\n",
       "      <td>0.0</td>\n",
       "      <td>0.0</td>\n",
       "      <td>0.0</td>\n",
       "      <td>0.0</td>\n",
       "      <td>0.0</td>\n",
       "      <td>1.0</td>\n",
       "      <td>0.0</td>\n",
       "      <td>0.0</td>\n",
       "      <td>0.0</td>\n",
       "      <td>0.0</td>\n",
       "      <td>1.0</td>\n",
       "      <td>0.0</td>\n",
       "      <td>0.0</td>\n",
       "      <td>1.0</td>\n",
       "      <td>0.0</td>\n",
       "      <td>0.0</td>\n",
       "      <td>0.0</td>\n",
       "      <td>0.0</td>\n",
       "      <td>0.0</td>\n",
       "      <td>0.0</td>\n",
       "      <td>0.0</td>\n",
       "      <td>0.0</td>\n",
       "      <td>0.0</td>\n",
       "      <td>0.0</td>\n",
       "      <td>0.0</td>\n",
       "      <td>0.0</td>\n",
       "      <td>1.0</td>\n",
       "      <td>0.0</td>\n",
       "      <td>0.0</td>\n",
       "      <td>0.0</td>\n",
       "      <td>0.0</td>\n",
       "      <td>0.0</td>\n",
       "    </tr>\n",
       "  </tbody>\n",
       "</table>\n",
       "</div>"
      ],
      "text/plain": [
       "       num_references  years  sciences  social  spiritual  \\\n",
       "11066             5.0   27.0       0.0     0.0        0.0   \n",
       "\n",
       "       academia_humanities  business_farming  arts  sports  \\\n",
       "11066                  0.0               0.0   1.0     0.0   \n",
       "\n",
       "       law_enf_military_operator  politics_govt_law  crime  num_categories  \\\n",
       "11066                        0.0                0.0    0.0             1.0   \n",
       "\n",
       "       region_Asia  region_Central Asia  region_Europe  \\\n",
       "11066          0.0                  0.0            1.0   \n",
       "\n",
       "       region_Mid-Cent America/Caribbean  region_Middle East  \\\n",
       "11066                                0.0                 0.0   \n",
       "\n",
       "       region_North America  region_Oceania  region_Russian Federation  \\\n",
       "11066                   0.0             0.0                        0.0   \n",
       "\n",
       "       region_South America  region_South East Asia  prior_region_Asia  \\\n",
       "11066                   0.0                     0.0                0.0   \n",
       "\n",
       "       prior_region_Central Asia  prior_region_Europe  \\\n",
       "11066                        0.0                  0.0   \n",
       "\n",
       "       prior_region_Mid-Cent America/Caribbean  prior_region_Middle East  \\\n",
       "11066                                      0.0                       0.0   \n",
       "\n",
       "       prior_region_No Prior Region  prior_region_North America  \\\n",
       "11066                           1.0                         0.0   \n",
       "\n",
       "       prior_region_Oceania  prior_region_Russian Federation  \\\n",
       "11066                   0.0                              0.0   \n",
       "\n",
       "       prior_region_South America  prior_region_South East Asia  \n",
       "11066                         0.0                           0.0  "
      ]
     },
     "execution_count": 68,
     "metadata": {},
     "output_type": "execute_result"
    },
    {
     "data": {
      "application/javascript": [
       "\n",
       "            setTimeout(function() {\n",
       "                var nbb_cell_id = 68;\n",
       "                var nbb_unformatted_code = \"# Creating list of predictor columns\\npredictor_cols = [\\n    \\\"num_references\\\",\\n    \\\"years\\\",\\n    \\\"region\\\",\\n    \\\"prior_region\\\",\\n    \\\"sciences\\\",\\n    \\\"social\\\",\\n    \\\"spiritual\\\",\\n    \\\"academia_humanities\\\",\\n    \\\"business_farming\\\",\\n    \\\"arts\\\",\\n    \\\"sports\\\",\\n    \\\"law_enf_military_operator\\\",\\n    \\\"politics_govt_law\\\",\\n    \\\"crime\\\",\\n    \\\"num_categories\\\",\\n]\\n\\n# Defining target column\\ntarget = \\\"age\\\"\\n\\n# Defining independent and dependent variables\\nX_test = test[predictor_cols]\\ny_test = test[target]\\n\\n# One hot encoding of categorical predictors and typecasting all predictors as float\\nX_test = pd.get_dummies(X_test, drop_first=True).astype(\\\"float64\\\")\\n\\n# Checking shape of train and validation sets\\nprint(\\n    f\\\"There are {X_test.shape[0]} rows and {X_test.shape[1]} columns in the train set.\\\\n\\\"\\n)\\n\\n# Checking a sample\\nX_test.sample()\";\n",
       "                var nbb_formatted_code = \"# Creating list of predictor columns\\npredictor_cols = [\\n    \\\"num_references\\\",\\n    \\\"years\\\",\\n    \\\"region\\\",\\n    \\\"prior_region\\\",\\n    \\\"sciences\\\",\\n    \\\"social\\\",\\n    \\\"spiritual\\\",\\n    \\\"academia_humanities\\\",\\n    \\\"business_farming\\\",\\n    \\\"arts\\\",\\n    \\\"sports\\\",\\n    \\\"law_enf_military_operator\\\",\\n    \\\"politics_govt_law\\\",\\n    \\\"crime\\\",\\n    \\\"num_categories\\\",\\n]\\n\\n# Defining target column\\ntarget = \\\"age\\\"\\n\\n# Defining independent and dependent variables\\nX_test = test[predictor_cols]\\ny_test = test[target]\\n\\n# One hot encoding of categorical predictors and typecasting all predictors as float\\nX_test = pd.get_dummies(X_test, drop_first=True).astype(\\\"float64\\\")\\n\\n# Checking shape of train and validation sets\\nprint(\\n    f\\\"There are {X_test.shape[0]} rows and {X_test.shape[1]} columns in the train set.\\\\n\\\"\\n)\\n\\n# Checking a sample\\nX_test.sample()\";\n",
       "                var nbb_cells = Jupyter.notebook.get_cells();\n",
       "                for (var i = 0; i < nbb_cells.length; ++i) {\n",
       "                    if (nbb_cells[i].input_prompt_number == nbb_cell_id) {\n",
       "                        if (nbb_cells[i].get_text() == nbb_unformatted_code) {\n",
       "                             nbb_cells[i].set_text(nbb_formatted_code);\n",
       "                        }\n",
       "                        break;\n",
       "                    }\n",
       "                }\n",
       "            }, 500);\n",
       "            "
      ],
      "text/plain": [
       "<IPython.core.display.Javascript object>"
      ]
     },
     "metadata": {},
     "output_type": "display_data"
    }
   ],
   "source": [
    "# Creating list of predictor columns\n",
    "predictor_cols = [\n",
    "    \"num_references\",\n",
    "    \"years\",\n",
    "    \"region\",\n",
    "    \"prior_region\",\n",
    "    \"sciences\",\n",
    "    \"social\",\n",
    "    \"spiritual\",\n",
    "    \"academia_humanities\",\n",
    "    \"business_farming\",\n",
    "    \"arts\",\n",
    "    \"sports\",\n",
    "    \"law_enf_military_operator\",\n",
    "    \"politics_govt_law\",\n",
    "    \"crime\",\n",
    "    \"num_categories\",\n",
    "]\n",
    "\n",
    "# Defining target column\n",
    "target = \"age\"\n",
    "\n",
    "# Defining independent and dependent variables\n",
    "X_test = test[predictor_cols]\n",
    "y_test = test[target]\n",
    "\n",
    "# One hot encoding of categorical predictors and typecasting all predictors as float\n",
    "X_test = pd.get_dummies(X_test, drop_first=True).astype(\"float64\")\n",
    "\n",
    "# Checking shape of train and validation sets\n",
    "print(\n",
    "    f\"There are {X_test.shape[0]} rows and {X_test.shape[1]} columns in the train set.\\n\"\n",
    ")\n",
    "\n",
    "# Checking a sample\n",
    "X_test.sample()"
   ]
  },
  {
   "cell_type": "markdown",
   "id": "dee5a70c",
   "metadata": {},
   "source": [
    "#### Checking *GBM2_Tuned* Performance on Test Set"
   ]
  },
  {
   "cell_type": "code",
   "execution_count": 69,
   "id": "ff8e3bdd",
   "metadata": {},
   "outputs": [
    {
     "name": "stdout",
     "output_type": "stream",
     "text": [
      "Test performance:\n",
      "         RMSE        MAE  R-squared  Adj. R-squared       MAPE\n",
      "0  14.790026  11.483625   0.110572        0.109012  18.724429\n"
     ]
    },
    {
     "data": {
      "application/javascript": [
       "\n",
       "            setTimeout(function() {\n",
       "                var nbb_cell_id = 69;\n",
       "                var nbb_unformatted_code = \"# Checking performance of champion model on test set\\nGBM2_tuned_test_perf = model_performance_regression(GBM2_tuned, X_test, y_test)\\nprint(\\\"Test performance:\\\\n\\\", GBM2_tuned_test_perf)\\n\\n# Creating test and train performance df\\nchampion_df = pd.DataFrame()\\nchampion_df[\\\"GBM2 Tuned Train\\\"] = GBM2_tuned_train_perf.T\\nchampion_df[\\\"GBM2 Tuned Test\\\"] = GBM2_tuned_test_perf.T\\nchampion_df.drop(\\\"Adj. R-squared\\\", inplace=True)\";\n",
       "                var nbb_formatted_code = \"# Checking performance of champion model on test set\\nGBM2_tuned_test_perf = model_performance_regression(GBM2_tuned, X_test, y_test)\\nprint(\\\"Test performance:\\\\n\\\", GBM2_tuned_test_perf)\\n\\n# Creating test and train performance df\\nchampion_df = pd.DataFrame()\\nchampion_df[\\\"GBM2 Tuned Train\\\"] = GBM2_tuned_train_perf.T\\nchampion_df[\\\"GBM2 Tuned Test\\\"] = GBM2_tuned_test_perf.T\\nchampion_df.drop(\\\"Adj. R-squared\\\", inplace=True)\";\n",
       "                var nbb_cells = Jupyter.notebook.get_cells();\n",
       "                for (var i = 0; i < nbb_cells.length; ++i) {\n",
       "                    if (nbb_cells[i].input_prompt_number == nbb_cell_id) {\n",
       "                        if (nbb_cells[i].get_text() == nbb_unformatted_code) {\n",
       "                             nbb_cells[i].set_text(nbb_formatted_code);\n",
       "                        }\n",
       "                        break;\n",
       "                    }\n",
       "                }\n",
       "            }, 500);\n",
       "            "
      ],
      "text/plain": [
       "<IPython.core.display.Javascript object>"
      ]
     },
     "metadata": {},
     "output_type": "display_data"
    }
   ],
   "source": [
    "# Checking performance of champion model on test set\n",
    "GBM2_tuned_test_perf = model_performance_regression(GBM2_tuned, X_test, y_test)\n",
    "print(\"Test performance:\\n\", GBM2_tuned_test_perf)\n",
    "\n",
    "# Creating test and train performance df\n",
    "champion_df = pd.DataFrame()\n",
    "champion_df[\"GBM2 Tuned Train\"] = GBM2_tuned_train_perf.T\n",
    "champion_df[\"GBM2 Tuned Test\"] = GBM2_tuned_test_perf.T\n",
    "champion_df.drop(\"Adj. R-squared\", inplace=True)"
   ]
  },
  {
   "cell_type": "code",
   "execution_count": 70,
   "id": "d8496606",
   "metadata": {},
   "outputs": [
    {
     "name": "stdout",
     "output_type": "stream",
     "text": [
      "Average overfit of the 4 metrics is 3.2%.\n"
     ]
    },
    {
     "data": {
      "text/html": [
       "<div>\n",
       "<style scoped>\n",
       "    .dataframe tbody tr th:only-of-type {\n",
       "        vertical-align: middle;\n",
       "    }\n",
       "\n",
       "    .dataframe tbody tr th {\n",
       "        vertical-align: top;\n",
       "    }\n",
       "\n",
       "    .dataframe thead th {\n",
       "        text-align: right;\n",
       "    }\n",
       "</style>\n",
       "<table border=\"1\" class=\"dataframe\">\n",
       "  <thead>\n",
       "    <tr style=\"text-align: right;\">\n",
       "      <th></th>\n",
       "      <th>GBM2 Tuned Train</th>\n",
       "      <th>GBM2 Tuned Test</th>\n",
       "      <th>% Overfit</th>\n",
       "    </tr>\n",
       "  </thead>\n",
       "  <tbody>\n",
       "    <tr>\n",
       "      <th>RMSE</th>\n",
       "      <td>14.803396</td>\n",
       "      <td>14.790026</td>\n",
       "      <td>-0.09</td>\n",
       "    </tr>\n",
       "    <tr>\n",
       "      <th>MAE</th>\n",
       "      <td>11.490370</td>\n",
       "      <td>11.483625</td>\n",
       "      <td>-0.06</td>\n",
       "    </tr>\n",
       "    <tr>\n",
       "      <th>R-squared</th>\n",
       "      <td>0.128678</td>\n",
       "      <td>0.110572</td>\n",
       "      <td>14.07</td>\n",
       "    </tr>\n",
       "    <tr>\n",
       "      <th>MAPE</th>\n",
       "      <td>18.950940</td>\n",
       "      <td>18.724429</td>\n",
       "      <td>-1.21</td>\n",
       "    </tr>\n",
       "  </tbody>\n",
       "</table>\n",
       "</div>"
      ],
      "text/plain": [
       "           GBM2 Tuned Train  GBM2 Tuned Test  % Overfit\n",
       "RMSE              14.803396        14.790026      -0.09\n",
       "MAE               11.490370        11.483625      -0.06\n",
       "R-squared          0.128678         0.110572      14.07\n",
       "MAPE              18.950940        18.724429      -1.21"
      ]
     },
     "execution_count": 70,
     "metadata": {},
     "output_type": "execute_result"
    },
    {
     "data": {
      "application/javascript": [
       "\n",
       "            setTimeout(function() {\n",
       "                var nbb_cell_id = 70;\n",
       "                var nbb_unformatted_code = \"# Performance on train and test sets\\nchampion_df.loc[[\\\"RMSE\\\", \\\"MAE\\\", \\\"MAPE\\\"], \\\"% Overfit\\\"] = np.round(\\n    (1 - (champion_df.iloc[[0, 1, 3], 0] / champion_df.iloc[[0, 1, 3], 1])) * 100, 2\\n)\\nchampion_df.loc[\\\"R-squared\\\", \\\"% Overfit\\\"] = np.round(\\n    (1 - champion_df.iloc[2, 1] / champion_df.iloc[2, 0]) * 100, 2\\n)\\n\\nprint(\\n    f\\\"Average overfit of the 4 metrics is {np.round(champion_df['% Overfit'].sum()/4,1)}%.\\\"\\n)\\nchampion_df\";\n",
       "                var nbb_formatted_code = \"# Performance on train and test sets\\nchampion_df.loc[[\\\"RMSE\\\", \\\"MAE\\\", \\\"MAPE\\\"], \\\"% Overfit\\\"] = np.round(\\n    (1 - (champion_df.iloc[[0, 1, 3], 0] / champion_df.iloc[[0, 1, 3], 1])) * 100, 2\\n)\\nchampion_df.loc[\\\"R-squared\\\", \\\"% Overfit\\\"] = np.round(\\n    (1 - champion_df.iloc[2, 1] / champion_df.iloc[2, 0]) * 100, 2\\n)\\n\\nprint(\\n    f\\\"Average overfit of the 4 metrics is {np.round(champion_df['% Overfit'].sum()/4,1)}%.\\\"\\n)\\nchampion_df\";\n",
       "                var nbb_cells = Jupyter.notebook.get_cells();\n",
       "                for (var i = 0; i < nbb_cells.length; ++i) {\n",
       "                    if (nbb_cells[i].input_prompt_number == nbb_cell_id) {\n",
       "                        if (nbb_cells[i].get_text() == nbb_unformatted_code) {\n",
       "                             nbb_cells[i].set_text(nbb_formatted_code);\n",
       "                        }\n",
       "                        break;\n",
       "                    }\n",
       "                }\n",
       "            }, 500);\n",
       "            "
      ],
      "text/plain": [
       "<IPython.core.display.Javascript object>"
      ]
     },
     "metadata": {},
     "output_type": "display_data"
    }
   ],
   "source": [
    "# Performance on train and test sets\n",
    "champion_df.loc[[\"RMSE\", \"MAE\", \"MAPE\"], \"% Overfit\"] = np.round(\n",
    "    (1 - (champion_df.iloc[[0, 1, 3], 0] / champion_df.iloc[[0, 1, 3], 1])) * 100, 2\n",
    ")\n",
    "champion_df.loc[\"R-squared\", \"% Overfit\"] = np.round(\n",
    "    (1 - champion_df.iloc[2, 1] / champion_df.iloc[2, 0]) * 100, 2\n",
    ")\n",
    "\n",
    "print(\n",
    "    f\"Average overfit of the 4 metrics is {np.round(champion_df['% Overfit'].sum()/4,1)}%.\"\n",
    ")\n",
    "champion_df"
   ]
  },
  {
   "cell_type": "markdown",
   "id": "c32efcd3",
   "metadata": {},
   "source": [
    "#### Observations:\n",
    "- *GBM2 Tuned*'s performance is holding up on the unseen test data.\n",
    "- We have a model that explains ~11.1% of the variation in life span of notable Wikipedia individuals, who meet inclusion criteria.\n",
    "- The model predicts life expectancy within average errors of ~11.5 years and ~18.7%.\n",
    "- Let us check the most important predictive features of the model."
   ]
  },
  {
   "cell_type": "markdown",
   "id": "a9154ab0",
   "metadata": {},
   "source": [
    "### Feature Importance of *GBM2 Tuned*"
   ]
  },
  {
   "cell_type": "code",
   "execution_count": 71,
   "id": "e3873454",
   "metadata": {},
   "outputs": [
    {
     "data": {
      "image/png": "[encoded data removed]",
      "text/plain": [
       "<Figure size 864x864 with 1 Axes>"
      ]
     },
     "metadata": {},
     "output_type": "display_data"
    },
    {
     "data": {
      "application/javascript": [
       "\n",
       "            setTimeout(function() {\n",
       "                var nbb_cell_id = 71;\n",
       "                var nbb_unformatted_code = \"# Plotting feature importances of final model\\nfeature_names = X_train.columns\\nimportances = GBM2_tuned.feature_importances_\\nindices = np.argsort(importances)\\n\\nplt.figure(figsize=(12, 12))\\nplt.title(\\\"Feature Importances\\\")\\nplt.barh(\\n    range(len(indices)), importances[indices], color=\\\"mediumorchid\\\", align=\\\"center\\\"\\n)\\nplt.yticks(range(len(indices)), [feature_names[i] for i in indices])\\nplt.xlabel(\\\"Relative Importance\\\")\\nplt.show()\";\n",
       "                var nbb_formatted_code = \"# Plotting feature importances of final model\\nfeature_names = X_train.columns\\nimportances = GBM2_tuned.feature_importances_\\nindices = np.argsort(importances)\\n\\nplt.figure(figsize=(12, 12))\\nplt.title(\\\"Feature Importances\\\")\\nplt.barh(\\n    range(len(indices)), importances[indices], color=\\\"mediumorchid\\\", align=\\\"center\\\"\\n)\\nplt.yticks(range(len(indices)), [feature_names[i] for i in indices])\\nplt.xlabel(\\\"Relative Importance\\\")\\nplt.show()\";\n",
       "                var nbb_cells = Jupyter.notebook.get_cells();\n",
       "                for (var i = 0; i < nbb_cells.length; ++i) {\n",
       "                    if (nbb_cells[i].input_prompt_number == nbb_cell_id) {\n",
       "                        if (nbb_cells[i].get_text() == nbb_unformatted_code) {\n",
       "                             nbb_cells[i].set_text(nbb_formatted_code);\n",
       "                        }\n",
       "                        break;\n",
       "                    }\n",
       "                }\n",
       "            }, 500);\n",
       "            "
      ],
      "text/plain": [
       "<IPython.core.display.Javascript object>"
      ]
     },
     "metadata": {},
     "output_type": "display_data"
    }
   ],
   "source": [
    "# Plotting feature importances of final model\n",
    "feature_names = X_train.columns\n",
    "importances = GBM2_tuned.feature_importances_\n",
    "indices = np.argsort(importances)\n",
    "\n",
    "plt.figure(figsize=(12, 12))\n",
    "plt.title(\"Feature Importances\")\n",
    "plt.barh(\n",
    "    range(len(indices)), importances[indices], color=\"mediumorchid\", align=\"center\"\n",
    ")\n",
    "plt.yticks(range(len(indices)), [feature_names[i] for i in indices])\n",
    "plt.xlabel(\"Relative Importance\")\n",
    "plt.show()"
   ]
  },
  {
   "cell_type": "markdown",
   "id": "7639f02b",
   "metadata": {},
   "source": [
    "#### Observations:\n",
    "- The top 7 features of the model for predicting life span of a notable individual are (known for) `sports`, (known for) `crime`, `years`, `num_references`, `region_North America`, `region_Europe`, and (known for) `arts`, in that order.\n",
    "- Recall from EDA that being known for `crime`, `sports`, or `arts` is associated with shorter life span.  Both in EDA and with our linear regression model, we saw that `age` increases with `years`, yet decreases with `num_references`.  Similarly, in [*olsmodel3*](https://github.com/teresahanak/wikipedia-life-expectancy/blob/main/wp_life_expect_olsmodel_thanak_2022_10_9.ipynb), the combined class of `region_Europe_OR_North_America_OR_Asia` was associated with longer life span (~10 year increase).\n",
    "- So, the feature importances for our champion model, *GBM2 Tuned* are not surprising.\n",
    "- Of the 34 predictor variables, 33 have predictive value in the model.  `prior_region_Central_Asia` is the exception.\n",
    "- The next step in the machine learning process is to productionalize the model.  For this study, there is not a practical application for putting the model into production, but we will illustrate the steps as an exercise."
   ]
  },
  {
   "cell_type": "markdown",
   "id": "5c7779d4",
   "metadata": {},
   "source": [
    "## Pipelines to Productionalize the Final Model\n",
    "Let us assume that new data would be scraped on a monthly basis and treated, as before. up to the following 14-feature stage:\n",
    "- `num_references` (int64)\n",
    "- `years` (int64)\n",
    "- known for category features (int64 of 0 or 1):\n",
    "    - `sciences` \n",
    "    - `social`\n",
    "    - `spiritual`\n",
    "    - `academia_humanities`\n",
    "    - `business_farming`, \n",
    "    - `arts`\n",
    "    - `sports`\n",
    "    - `law_enf_military_operator`\n",
    "    - `politics_govt_law`\n",
    "    - `crime`\n",
    "- `region` (object)\n",
    "- `prior_region` (object)\n",
    "\n",
    "New data should not have missing values for the `known for` category columns since their default value is 0.  Therefore, `num_categories` should not have missing values, either.  `prior_region` will have a default of `No Prior Region`, so should also not have missing values.\n",
    "\n",
    "Missing values for `region` will need to be treated prior to one hot encoding of both the train set (for fitting the imputer) and the new data.  A step for one hot encoding will follow.  The final step will be the model pipeline.\n",
    "\n",
    "We have not had to treat any missing values for `num_references` and `years` columns previously, and the procedure for collecting data plus the inclusion criteria (minimum of 3 references) should prevent the need for it.  The only transformation in the model is the translation from `year` to `years` in which we subtracted 1994.  As such, our model pipeline does not contain additional estimators for imputation or scaling that are often included in production pipelines.\n",
    "\n",
    "Since we already know the best model, we no longer need to have the Train set divided into 2 parts (train and validation), so we can use the whole train set to fit the production pipeline.  To test code and illustrate the process, we will create a dummy new data set, `new`, from the preprocessed test set and introduce some missing values in the `region` column.\n",
    "\n",
    "Once we have the production model fit on the train set, we will again check its performance on the test set."
   ]
  },
  {
   "cell_type": "markdown",
   "id": "050ca4db",
   "metadata": {},
   "source": [
    "#### Defining Independent and Dependent Variables for Train Set (prior to one hot encoding)"
   ]
  },
  {
   "cell_type": "code",
   "execution_count": 72,
   "id": "e7fea5b0",
   "metadata": {},
   "outputs": [
    {
     "data": {
      "text/plain": [
       "(77624, 15)"
      ]
     },
     "execution_count": 72,
     "metadata": {},
     "output_type": "execute_result"
    },
    {
     "data": {
      "application/javascript": [
       "\n",
       "            setTimeout(function() {\n",
       "                var nbb_cell_id = 72;\n",
       "                var nbb_unformatted_code = \"# Defining predictor columns\\npredictor_cols = [\\n    \\\"num_references\\\",\\n    \\\"sciences\\\",\\n    \\\"social\\\",\\n    \\\"spiritual\\\",\\n    \\\"academia_humanities\\\",\\n    \\\"business_farming\\\",\\n    \\\"arts\\\",\\n    \\\"sports\\\",\\n    \\\"law_enf_military_operator\\\",\\n    \\\"politics_govt_law\\\",\\n    \\\"crime\\\",\\n    \\\"num_categories\\\",\\n    \\\"years\\\",\\n    \\\"region\\\",\\n    \\\"prior_region\\\",\\n]\\n\\n# Defining target column\\ntarget = \\\"age\\\"\\n\\n# Defining train dependent and independent variables (not yet one hot encoded)\\nX_train = df[predictor_cols]\\ny_train = df[target]\\n\\n# Checking shape of X_train\\nX_train.shape\";\n",
       "                var nbb_formatted_code = \"# Defining predictor columns\\npredictor_cols = [\\n    \\\"num_references\\\",\\n    \\\"sciences\\\",\\n    \\\"social\\\",\\n    \\\"spiritual\\\",\\n    \\\"academia_humanities\\\",\\n    \\\"business_farming\\\",\\n    \\\"arts\\\",\\n    \\\"sports\\\",\\n    \\\"law_enf_military_operator\\\",\\n    \\\"politics_govt_law\\\",\\n    \\\"crime\\\",\\n    \\\"num_categories\\\",\\n    \\\"years\\\",\\n    \\\"region\\\",\\n    \\\"prior_region\\\",\\n]\\n\\n# Defining target column\\ntarget = \\\"age\\\"\\n\\n# Defining train dependent and independent variables (not yet one hot encoded)\\nX_train = df[predictor_cols]\\ny_train = df[target]\\n\\n# Checking shape of X_train\\nX_train.shape\";\n",
       "                var nbb_cells = Jupyter.notebook.get_cells();\n",
       "                for (var i = 0; i < nbb_cells.length; ++i) {\n",
       "                    if (nbb_cells[i].input_prompt_number == nbb_cell_id) {\n",
       "                        if (nbb_cells[i].get_text() == nbb_unformatted_code) {\n",
       "                             nbb_cells[i].set_text(nbb_formatted_code);\n",
       "                        }\n",
       "                        break;\n",
       "                    }\n",
       "                }\n",
       "            }, 500);\n",
       "            "
      ],
      "text/plain": [
       "<IPython.core.display.Javascript object>"
      ]
     },
     "metadata": {},
     "output_type": "display_data"
    }
   ],
   "source": [
    "# Defining predictor columns\n",
    "predictor_cols = [\n",
    "    \"num_references\",\n",
    "    \"sciences\",\n",
    "    \"social\",\n",
    "    \"spiritual\",\n",
    "    \"academia_humanities\",\n",
    "    \"business_farming\",\n",
    "    \"arts\",\n",
    "    \"sports\",\n",
    "    \"law_enf_military_operator\",\n",
    "    \"politics_govt_law\",\n",
    "    \"crime\",\n",
    "    \"num_categories\",\n",
    "    \"years\",\n",
    "    \"region\",\n",
    "    \"prior_region\",\n",
    "]\n",
    "\n",
    "# Defining target column\n",
    "target = \"age\"\n",
    "\n",
    "# Defining train dependent and independent variables (not yet one hot encoded)\n",
    "X_train = df[predictor_cols]\n",
    "y_train = df[target]\n",
    "\n",
    "# Checking shape of X_train\n",
    "X_train.shape"
   ]
  },
  {
   "cell_type": "markdown",
   "id": "f5a10848",
   "metadata": {},
   "source": [
    "#### Creating a Dummy New Data Set to Test Production Code with Some Missing Values"
   ]
  },
  {
   "cell_type": "code",
   "execution_count": 73,
   "id": "d0054ae6",
   "metadata": {},
   "outputs": [
    {
     "data": {
      "text/plain": [
       "(100, 15)"
      ]
     },
     "execution_count": 73,
     "metadata": {},
     "output_type": "execute_result"
    },
    {
     "data": {
      "application/javascript": [
       "\n",
       "            setTimeout(function() {\n",
       "                var nbb_cell_id = 73;\n",
       "                var nbb_unformatted_code = \"# Creating a practice new data set\\nnew = pd.read_csv(\\\"wp_life_expect_test_preproc.csv\\\")\\nnew = new.sample(100, random_state=42).reset_index(drop=True)\\n\\n# Creating some missing values for region\\nnew.loc[45:55, \\\"region\\\"] = np.nan\\n\\n# Defining predictor columns\\nX_new = new[predictor_cols]\\n\\n# Defining target\\ny_new = new[target]\\n\\n# Checking shape of X_new\\nX_new.shape\";\n",
       "                var nbb_formatted_code = \"# Creating a practice new data set\\nnew = pd.read_csv(\\\"wp_life_expect_test_preproc.csv\\\")\\nnew = new.sample(100, random_state=42).reset_index(drop=True)\\n\\n# Creating some missing values for region\\nnew.loc[45:55, \\\"region\\\"] = np.nan\\n\\n# Defining predictor columns\\nX_new = new[predictor_cols]\\n\\n# Defining target\\ny_new = new[target]\\n\\n# Checking shape of X_new\\nX_new.shape\";\n",
       "                var nbb_cells = Jupyter.notebook.get_cells();\n",
       "                for (var i = 0; i < nbb_cells.length; ++i) {\n",
       "                    if (nbb_cells[i].input_prompt_number == nbb_cell_id) {\n",
       "                        if (nbb_cells[i].get_text() == nbb_unformatted_code) {\n",
       "                             nbb_cells[i].set_text(nbb_formatted_code);\n",
       "                        }\n",
       "                        break;\n",
       "                    }\n",
       "                }\n",
       "            }, 500);\n",
       "            "
      ],
      "text/plain": [
       "<IPython.core.display.Javascript object>"
      ]
     },
     "metadata": {},
     "output_type": "display_data"
    }
   ],
   "source": [
    "# Creating a practice new data set\n",
    "new = pd.read_csv(\"wp_life_expect_test_preproc.csv\")\n",
    "new = new.sample(100, random_state=42).reset_index(drop=True)\n",
    "\n",
    "# Creating some missing values for region\n",
    "new.loc[45:55, \"region\"] = np.nan\n",
    "\n",
    "# Defining predictor columns\n",
    "X_new = new[predictor_cols]\n",
    "\n",
    "# Defining target\n",
    "y_new = new[target]\n",
    "\n",
    "# Checking shape of X_new\n",
    "X_new.shape"
   ]
  },
  {
   "cell_type": "markdown",
   "id": "137a9822",
   "metadata": {},
   "source": [
    "### Step 1:  Imputation for Missing Values in New Data for `region` "
   ]
  },
  {
   "cell_type": "markdown",
   "id": "6be4ceb4",
   "metadata": {},
   "source": [
    "#### [Building a Custom Imputer to Group on Other Feature(s)](https://towardsdatascience.com/coding-a-custom-imputer-in-scikit-learn-31bd68e541de)"
   ]
  },
  {
   "cell_type": "code",
   "execution_count": 74,
   "id": "d9f69bc3",
   "metadata": {},
   "outputs": [
    {
     "data": {
      "application/javascript": [
       "\n",
       "            setTimeout(function() {\n",
       "                var nbb_cell_id = 74;\n",
       "                var nbb_unformatted_code = \"# Creating class GroupImputer\\nclass GroupImputer(BaseEstimator, TransformerMixin):\\n    \\\"\\\"\\\"\\n    Class used for imputing missing values in a pd.DataFrame using mean, median, or mode of a group\\n    \\n    Parameters\\n    ----------\\n    group_cols: (list of strings) list of columns on which to group to calculate aggregated value\\n    target: (str)the name of the column with missing values to be treated\\n    strategy: (str) \\\"mean\\\", \\\"median\\\", or \\\"mode\\\" (default is \\\"mean\\\")\\n    \\n    Returns\\n    -------\\n    X: (array-like)\\n        The array with imputed values in the treated column\\n    \\\"\\\"\\\"\\n\\n    def __init__(self, group_cols, target, strategy=\\\"mean\\\"):\\n\\n        assert strategy in [\\n            \\\"mean\\\",\\n            \\\"median\\\",\\n            \\\"mode\\\",\\n        ], \\\"Unrecognized value for strategy, should be mean/median/mode\\\"\\n        assert type(group_cols) == list, \\\"group_cols should be a list of columns\\\"\\n        assert type(target) == str, \\\"target should be a string\\\"\\n\\n        self.group_cols = group_cols\\n        self.target = target\\n        if strategy in [\\\"mean\\\", \\\"median\\\"]:\\n            self.strategy = strategy\\n        else:\\n            self.strategy = lambda x: pd.Series.mode(x)[0]\\n\\n    def fit(self, X, y=None):\\n\\n        assert (\\n            pd.isnull(X[self.group_cols]).any(axis=None) == False\\n        ), \\\"There are missing values in group_cols\\\"\\n\\n        impute_map = (\\n            X.groupby(self.group_cols)[self.target]\\n            .agg(self.strategy)\\n            .reset_index(drop=False)\\n        )\\n\\n        self.impute_map_ = impute_map\\n\\n    def transform(self, X, y=None):\\n\\n        # Make sure that the imputer was fitted\\n        check_is_fitted(self, \\\"impute_map_\\\")\\n\\n        X = X.copy()\\n\\n        for index, row in self.impute_map_.iterrows():\\n            ind = (X[self.group_cols] == row[self.group_cols]).all(axis=1)\\n            X.loc[ind, self.target] = X.loc[ind, self.target].fillna(row[self.target])\\n\\n        return X.values\";\n",
       "                var nbb_formatted_code = \"# Creating class GroupImputer\\nclass GroupImputer(BaseEstimator, TransformerMixin):\\n    \\\"\\\"\\\"\\n    Class used for imputing missing values in a pd.DataFrame using mean, median, or mode of a group\\n    \\n    Parameters\\n    ----------\\n    group_cols: (list of strings) list of columns on which to group to calculate aggregated value\\n    target: (str)the name of the column with missing values to be treated\\n    strategy: (str) \\\"mean\\\", \\\"median\\\", or \\\"mode\\\" (default is \\\"mean\\\")\\n    \\n    Returns\\n    -------\\n    X: (array-like)\\n        The array with imputed values in the treated column\\n    \\\"\\\"\\\"\\n\\n    def __init__(self, group_cols, target, strategy=\\\"mean\\\"):\\n\\n        assert strategy in [\\n            \\\"mean\\\",\\n            \\\"median\\\",\\n            \\\"mode\\\",\\n        ], \\\"Unrecognized value for strategy, should be mean/median/mode\\\"\\n        assert type(group_cols) == list, \\\"group_cols should be a list of columns\\\"\\n        assert type(target) == str, \\\"target should be a string\\\"\\n\\n        self.group_cols = group_cols\\n        self.target = target\\n        if strategy in [\\\"mean\\\", \\\"median\\\"]:\\n            self.strategy = strategy\\n        else:\\n            self.strategy = lambda x: pd.Series.mode(x)[0]\\n\\n    def fit(self, X, y=None):\\n\\n        assert (\\n            pd.isnull(X[self.group_cols]).any(axis=None) == False\\n        ), \\\"There are missing values in group_cols\\\"\\n\\n        impute_map = (\\n            X.groupby(self.group_cols)[self.target]\\n            .agg(self.strategy)\\n            .reset_index(drop=False)\\n        )\\n\\n        self.impute_map_ = impute_map\\n\\n    def transform(self, X, y=None):\\n\\n        # Make sure that the imputer was fitted\\n        check_is_fitted(self, \\\"impute_map_\\\")\\n\\n        X = X.copy()\\n\\n        for index, row in self.impute_map_.iterrows():\\n            ind = (X[self.group_cols] == row[self.group_cols]).all(axis=1)\\n            X.loc[ind, self.target] = X.loc[ind, self.target].fillna(row[self.target])\\n\\n        return X.values\";\n",
       "                var nbb_cells = Jupyter.notebook.get_cells();\n",
       "                for (var i = 0; i < nbb_cells.length; ++i) {\n",
       "                    if (nbb_cells[i].input_prompt_number == nbb_cell_id) {\n",
       "                        if (nbb_cells[i].get_text() == nbb_unformatted_code) {\n",
       "                             nbb_cells[i].set_text(nbb_formatted_code);\n",
       "                        }\n",
       "                        break;\n",
       "                    }\n",
       "                }\n",
       "            }, 500);\n",
       "            "
      ],
      "text/plain": [
       "<IPython.core.display.Javascript object>"
      ]
     },
     "metadata": {},
     "output_type": "display_data"
    }
   ],
   "source": [
    "# Creating class GroupImputer\n",
    "class GroupImputer(BaseEstimator, TransformerMixin):\n",
    "    \"\"\"\n",
    "    Class used for imputing missing values in a pd.DataFrame using mean, median, or mode of a group\n",
    "    \n",
    "    Parameters\n",
    "    ----------\n",
    "    group_cols: (list of strings) list of columns on which to group to calculate aggregated value\n",
    "    target: (str)the name of the column with missing values to be treated\n",
    "    strategy: (str) \"mean\", \"median\", or \"mode\" (default is \"mean\")\n",
    "    \n",
    "    Returns\n",
    "    -------\n",
    "    X: (array-like)\n",
    "        The array with imputed values in the treated column\n",
    "    \"\"\"\n",
    "\n",
    "    def __init__(self, group_cols, target, strategy=\"mean\"):\n",
    "\n",
    "        assert strategy in [\n",
    "            \"mean\",\n",
    "            \"median\",\n",
    "            \"mode\",\n",
    "        ], \"Unrecognized value for strategy, should be mean/median/mode\"\n",
    "        assert type(group_cols) == list, \"group_cols should be a list of columns\"\n",
    "        assert type(target) == str, \"target should be a string\"\n",
    "\n",
    "        self.group_cols = group_cols\n",
    "        self.target = target\n",
    "        if strategy in [\"mean\", \"median\"]:\n",
    "            self.strategy = strategy\n",
    "        else:\n",
    "            self.strategy = lambda x: pd.Series.mode(x)[0]\n",
    "\n",
    "    def fit(self, X, y=None):\n",
    "\n",
    "        assert (\n",
    "            pd.isnull(X[self.group_cols]).any(axis=None) == False\n",
    "        ), \"There are missing values in group_cols\"\n",
    "\n",
    "        impute_map = (\n",
    "            X.groupby(self.group_cols)[self.target]\n",
    "            .agg(self.strategy)\n",
    "            .reset_index(drop=False)\n",
    "        )\n",
    "\n",
    "        self.impute_map_ = impute_map\n",
    "\n",
    "    def transform(self, X, y=None):\n",
    "\n",
    "        # Make sure that the imputer was fitted\n",
    "        check_is_fitted(self, \"impute_map_\")\n",
    "\n",
    "        X = X.copy()\n",
    "\n",
    "        for index, row in self.impute_map_.iterrows():\n",
    "            ind = (X[self.group_cols] == row[self.group_cols]).all(axis=1)\n",
    "            X.loc[ind, self.target] = X.loc[ind, self.target].fillna(row[self.target])\n",
    "\n",
    "        return X.values"
   ]
  },
  {
   "cell_type": "code",
   "execution_count": 75,
   "id": "afc9cbaf",
   "metadata": {},
   "outputs": [
    {
     "data": {
      "text/plain": [
       "num_references                0\n",
       "sciences                      0\n",
       "social                        0\n",
       "spiritual                     0\n",
       "academia_humanities           0\n",
       "business_farming              0\n",
       "arts                          0\n",
       "sports                        0\n",
       "law_enf_military_operator     0\n",
       "politics_govt_law             0\n",
       "crime                         0\n",
       "num_categories                0\n",
       "years                         0\n",
       "region                       11\n",
       "prior_region                  0\n",
       "dtype: int64"
      ]
     },
     "execution_count": 75,
     "metadata": {},
     "output_type": "execute_result"
    },
    {
     "data": {
      "application/javascript": [
       "\n",
       "            setTimeout(function() {\n",
       "                var nbb_cell_id = 75;\n",
       "                var nbb_unformatted_code = \"# Checking for missing values in new\\nX_new.isna().sum()\";\n",
       "                var nbb_formatted_code = \"# Checking for missing values in new\\nX_new.isna().sum()\";\n",
       "                var nbb_cells = Jupyter.notebook.get_cells();\n",
       "                for (var i = 0; i < nbb_cells.length; ++i) {\n",
       "                    if (nbb_cells[i].input_prompt_number == nbb_cell_id) {\n",
       "                        if (nbb_cells[i].get_text() == nbb_unformatted_code) {\n",
       "                             nbb_cells[i].set_text(nbb_formatted_code);\n",
       "                        }\n",
       "                        break;\n",
       "                    }\n",
       "                }\n",
       "            }, 500);\n",
       "            "
      ],
      "text/plain": [
       "<IPython.core.display.Javascript object>"
      ]
     },
     "metadata": {},
     "output_type": "display_data"
    }
   ],
   "source": [
    "# Checking for missing values in new\n",
    "X_new.isna().sum()"
   ]
  },
  {
   "cell_type": "code",
   "execution_count": 76,
   "id": "e22f1664",
   "metadata": {},
   "outputs": [
    {
     "name": "stdout",
     "output_type": "stream",
     "text": [
      "There are 11 missing values in X_new.\n",
      "There are 0 missing values in X_new_imp.\n",
      "\n",
      "The imputed values for region now in new data:\n"
     ]
    },
    {
     "data": {
      "text/plain": [
       "45    North America\n",
       "46    North America\n",
       "47    North America\n",
       "48           Europe\n",
       "49    North America\n",
       "50           Europe\n",
       "51    North America\n",
       "52           Europe\n",
       "53    North America\n",
       "54    North America\n",
       "55    North America\n",
       "Name: region, dtype: object"
      ]
     },
     "execution_count": 76,
     "metadata": {},
     "output_type": "execute_result"
    },
    {
     "data": {
      "application/javascript": [
       "\n",
       "            setTimeout(function() {\n",
       "                var nbb_cell_id = 76;\n",
       "                var nbb_unformatted_code = \"# Creating list of columns on which to group\\ngroup_cols = [\\n    \\\"sciences\\\",\\n    \\\"social\\\",\\n    \\\"spiritual\\\",\\n    \\\"academia_humanities\\\",\\n    \\\"business_farming\\\",\\n    \\\"arts\\\",\\n    \\\"sports\\\",\\n    \\\"law_enf_military_operator\\\",\\n    \\\"politics_govt_law\\\",\\n    \\\"crime\\\",\\n]\\n\\n# Defining imputer for region missing values\\nregion_imp = GroupImputer(group_cols=group_cols, target=\\\"region\\\", strategy=\\\"mode\\\")\\n\\n# Fitting region_imp on train set\\nregion_imp.fit(X_train)\\n\\n# Transforming new data\\nimp_X_new = pd.DataFrame(region_imp.transform(X_new), columns=X_train.columns)\\n\\nprint(f\\\"There are {X_new.isna().sum().sum()} missing values in X_new.\\\")\\nprint(f\\\"There are {imp_X_new.isna().sum().sum()} missing values in X_new_imp.\\\")\\n\\n# Visualizing treated missing values\\nprint(f\\\"\\\\nThe imputed values for region now in new data:\\\")\\nimp_X_new.loc[45:55, \\\"region\\\"]\";\n",
       "                var nbb_formatted_code = \"# Creating list of columns on which to group\\ngroup_cols = [\\n    \\\"sciences\\\",\\n    \\\"social\\\",\\n    \\\"spiritual\\\",\\n    \\\"academia_humanities\\\",\\n    \\\"business_farming\\\",\\n    \\\"arts\\\",\\n    \\\"sports\\\",\\n    \\\"law_enf_military_operator\\\",\\n    \\\"politics_govt_law\\\",\\n    \\\"crime\\\",\\n]\\n\\n# Defining imputer for region missing values\\nregion_imp = GroupImputer(group_cols=group_cols, target=\\\"region\\\", strategy=\\\"mode\\\")\\n\\n# Fitting region_imp on train set\\nregion_imp.fit(X_train)\\n\\n# Transforming new data\\nimp_X_new = pd.DataFrame(region_imp.transform(X_new), columns=X_train.columns)\\n\\nprint(f\\\"There are {X_new.isna().sum().sum()} missing values in X_new.\\\")\\nprint(f\\\"There are {imp_X_new.isna().sum().sum()} missing values in X_new_imp.\\\")\\n\\n# Visualizing treated missing values\\nprint(f\\\"\\\\nThe imputed values for region now in new data:\\\")\\nimp_X_new.loc[45:55, \\\"region\\\"]\";\n",
       "                var nbb_cells = Jupyter.notebook.get_cells();\n",
       "                for (var i = 0; i < nbb_cells.length; ++i) {\n",
       "                    if (nbb_cells[i].input_prompt_number == nbb_cell_id) {\n",
       "                        if (nbb_cells[i].get_text() == nbb_unformatted_code) {\n",
       "                             nbb_cells[i].set_text(nbb_formatted_code);\n",
       "                        }\n",
       "                        break;\n",
       "                    }\n",
       "                }\n",
       "            }, 500);\n",
       "            "
      ],
      "text/plain": [
       "<IPython.core.display.Javascript object>"
      ]
     },
     "metadata": {},
     "output_type": "display_data"
    }
   ],
   "source": [
    "# Creating list of columns on which to group\n",
    "group_cols = [\n",
    "    \"sciences\",\n",
    "    \"social\",\n",
    "    \"spiritual\",\n",
    "    \"academia_humanities\",\n",
    "    \"business_farming\",\n",
    "    \"arts\",\n",
    "    \"sports\",\n",
    "    \"law_enf_military_operator\",\n",
    "    \"politics_govt_law\",\n",
    "    \"crime\",\n",
    "]\n",
    "\n",
    "# Defining imputer for region missing values\n",
    "region_imp = GroupImputer(group_cols=group_cols, target=\"region\", strategy=\"mode\")\n",
    "\n",
    "# Fitting region_imp on train set\n",
    "region_imp.fit(X_train)\n",
    "\n",
    "# Transforming new data\n",
    "imp_X_new = pd.DataFrame(region_imp.transform(X_new), columns=X_train.columns)\n",
    "\n",
    "print(f\"There are {X_new.isna().sum().sum()} missing values in X_new.\")\n",
    "print(f\"There are {imp_X_new.isna().sum().sum()} missing values in X_new_imp.\")\n",
    "\n",
    "# Visualizing treated missing values\n",
    "print(f\"\\nThe imputed values for region now in new data:\")\n",
    "imp_X_new.loc[45:55, \"region\"]"
   ]
  },
  {
   "cell_type": "markdown",
   "id": "82197e5b",
   "metadata": {},
   "source": [
    "#### Observations:\n",
    "- Best practice is to leave the original dataframe untreated in the transformation and create a new transformed dataframe.\n",
    "- Here, we see that the original `X_new` still has its missing values, while the transformed `X_new_imp` does not.\n",
    "- `X_new_imp` is the set to carry forward.\n",
    "- Transformers convert everything to a numpy array, so we converted back to a pandas dataframe at the transform step.  However, numpy arrays allow for only one data type, defaulting to the lowest type on the hierarchy present.  So, we have all object types in `X_new_imp` and need to do some typecasting.\n",
    "- In this step, we will impose the category classes in the train set onto the new set, in order to avoid a mismatch of columns between the sets once one hot encoded.  Otherwise, if the new data did not contain a class, it would not have a one hot encoded column corresponding to that class."
   ]
  },
  {
   "cell_type": "markdown",
   "id": "aacdfddd",
   "metadata": {},
   "source": [
    "#### Checking Data Types of `imp_X_new`"
   ]
  },
  {
   "cell_type": "code",
   "execution_count": 77,
   "id": "ce64d150",
   "metadata": {},
   "outputs": [
    {
     "name": "stdout",
     "output_type": "stream",
     "text": [
      "<class 'pandas.core.frame.DataFrame'>\n",
      "RangeIndex: 100 entries, 0 to 99\n",
      "Data columns (total 15 columns):\n",
      " #   Column                     Non-Null Count  Dtype \n",
      "---  ------                     --------------  ----- \n",
      " 0   num_references             100 non-null    object\n",
      " 1   sciences                   100 non-null    object\n",
      " 2   social                     100 non-null    object\n",
      " 3   spiritual                  100 non-null    object\n",
      " 4   academia_humanities        100 non-null    object\n",
      " 5   business_farming           100 non-null    object\n",
      " 6   arts                       100 non-null    object\n",
      " 7   sports                     100 non-null    object\n",
      " 8   law_enf_military_operator  100 non-null    object\n",
      " 9   politics_govt_law          100 non-null    object\n",
      " 10  crime                      100 non-null    object\n",
      " 11  num_categories             100 non-null    object\n",
      " 12  years                      100 non-null    object\n",
      " 13  region                     100 non-null    object\n",
      " 14  prior_region               100 non-null    object\n",
      "dtypes: object(15)\n",
      "memory usage: 11.8+ KB\n"
     ]
    },
    {
     "data": {
      "application/javascript": [
       "\n",
       "            setTimeout(function() {\n",
       "                var nbb_cell_id = 77;\n",
       "                var nbb_unformatted_code = \"# Checking info\\nimp_X_new.info()\";\n",
       "                var nbb_formatted_code = \"# Checking info\\nimp_X_new.info()\";\n",
       "                var nbb_cells = Jupyter.notebook.get_cells();\n",
       "                for (var i = 0; i < nbb_cells.length; ++i) {\n",
       "                    if (nbb_cells[i].input_prompt_number == nbb_cell_id) {\n",
       "                        if (nbb_cells[i].get_text() == nbb_unformatted_code) {\n",
       "                             nbb_cells[i].set_text(nbb_formatted_code);\n",
       "                        }\n",
       "                        break;\n",
       "                    }\n",
       "                }\n",
       "            }, 500);\n",
       "            "
      ],
      "text/plain": [
       "<IPython.core.display.Javascript object>"
      ]
     },
     "metadata": {},
     "output_type": "display_data"
    }
   ],
   "source": [
    "# Checking info\n",
    "imp_X_new.info()"
   ]
  },
  {
   "cell_type": "markdown",
   "id": "7248fa4a",
   "metadata": {},
   "source": [
    "#### Typecasting `imp_X_new` Columns"
   ]
  },
  {
   "cell_type": "code",
   "execution_count": 78,
   "id": "4862d236",
   "metadata": {},
   "outputs": [
    {
     "data": {
      "application/javascript": [
       "\n",
       "            setTimeout(function() {\n",
       "                var nbb_cell_id = 78;\n",
       "                var nbb_unformatted_code = \"# Creating list of numerica columns\\nnumeric_cols = [\\n    \\\"num_references\\\",\\n    \\\"sciences\\\",\\n    \\\"social\\\",\\n    \\\"spiritual\\\",\\n    \\\"academia_humanities\\\",\\n    \\\"business_farming\\\",\\n    \\\"arts\\\",\\n    \\\"sports\\\",\\n    \\\"law_enf_military_operator\\\",\\n    \\\"politics_govt_law\\\",\\n    \\\"crime\\\",\\n    \\\"num_categories\\\",\\n    \\\"years\\\",\\n]\\n\\n# Typecasting numeric columns as float64\\nimp_X_new[numeric_cols] = imp_X_new[numeric_cols].astype(\\\"float64\\\")\\n\\n# Typecasting categorical columns as category with custom category type including all X_train categories\\n# in case any classes missing in new data\\n# For region\\ncategories = X_train[\\\"region\\\"].value_counts().index.sort_values().tolist()\\ncat_dtype = CategoricalDtype(categories=categories, ordered=False)\\nimp_X_new[\\\"region\\\"] = imp_X_new[\\\"region\\\"].astype(cat_dtype)\\n\\n# For prior_region\\ncategories = X_train[\\\"prior_region\\\"].value_counts().index.sort_values().tolist()\\ncat_dtype = CategoricalDtype(categories=categories, ordered=False)\\nimp_X_new[\\\"prior_region\\\"] = imp_X_new[\\\"prior_region\\\"].astype(cat_dtype)\";\n",
       "                var nbb_formatted_code = \"# Creating list of numerica columns\\nnumeric_cols = [\\n    \\\"num_references\\\",\\n    \\\"sciences\\\",\\n    \\\"social\\\",\\n    \\\"spiritual\\\",\\n    \\\"academia_humanities\\\",\\n    \\\"business_farming\\\",\\n    \\\"arts\\\",\\n    \\\"sports\\\",\\n    \\\"law_enf_military_operator\\\",\\n    \\\"politics_govt_law\\\",\\n    \\\"crime\\\",\\n    \\\"num_categories\\\",\\n    \\\"years\\\",\\n]\\n\\n# Typecasting numeric columns as float64\\nimp_X_new[numeric_cols] = imp_X_new[numeric_cols].astype(\\\"float64\\\")\\n\\n# Typecasting categorical columns as category with custom category type including all X_train categories\\n# in case any classes missing in new data\\n# For region\\ncategories = X_train[\\\"region\\\"].value_counts().index.sort_values().tolist()\\ncat_dtype = CategoricalDtype(categories=categories, ordered=False)\\nimp_X_new[\\\"region\\\"] = imp_X_new[\\\"region\\\"].astype(cat_dtype)\\n\\n# For prior_region\\ncategories = X_train[\\\"prior_region\\\"].value_counts().index.sort_values().tolist()\\ncat_dtype = CategoricalDtype(categories=categories, ordered=False)\\nimp_X_new[\\\"prior_region\\\"] = imp_X_new[\\\"prior_region\\\"].astype(cat_dtype)\";\n",
       "                var nbb_cells = Jupyter.notebook.get_cells();\n",
       "                for (var i = 0; i < nbb_cells.length; ++i) {\n",
       "                    if (nbb_cells[i].input_prompt_number == nbb_cell_id) {\n",
       "                        if (nbb_cells[i].get_text() == nbb_unformatted_code) {\n",
       "                             nbb_cells[i].set_text(nbb_formatted_code);\n",
       "                        }\n",
       "                        break;\n",
       "                    }\n",
       "                }\n",
       "            }, 500);\n",
       "            "
      ],
      "text/plain": [
       "<IPython.core.display.Javascript object>"
      ]
     },
     "metadata": {},
     "output_type": "display_data"
    }
   ],
   "source": [
    "# Creating list of numerica columns\n",
    "numeric_cols = [\n",
    "    \"num_references\",\n",
    "    \"sciences\",\n",
    "    \"social\",\n",
    "    \"spiritual\",\n",
    "    \"academia_humanities\",\n",
    "    \"business_farming\",\n",
    "    \"arts\",\n",
    "    \"sports\",\n",
    "    \"law_enf_military_operator\",\n",
    "    \"politics_govt_law\",\n",
    "    \"crime\",\n",
    "    \"num_categories\",\n",
    "    \"years\",\n",
    "]\n",
    "\n",
    "# Typecasting numeric columns as float64\n",
    "imp_X_new[numeric_cols] = imp_X_new[numeric_cols].astype(\"float64\")\n",
    "\n",
    "# Typecasting categorical columns as category with custom category type including all X_train categories\n",
    "# in case any classes missing in new data\n",
    "# For region\n",
    "categories = X_train[\"region\"].value_counts().index.sort_values().tolist()\n",
    "cat_dtype = CategoricalDtype(categories=categories, ordered=False)\n",
    "imp_X_new[\"region\"] = imp_X_new[\"region\"].astype(cat_dtype)\n",
    "\n",
    "# For prior_region\n",
    "categories = X_train[\"prior_region\"].value_counts().index.sort_values().tolist()\n",
    "cat_dtype = CategoricalDtype(categories=categories, ordered=False)\n",
    "imp_X_new[\"prior_region\"] = imp_X_new[\"prior_region\"].astype(cat_dtype)"
   ]
  },
  {
   "cell_type": "code",
   "execution_count": 79,
   "id": "15458d1e",
   "metadata": {},
   "outputs": [
    {
     "name": "stdout",
     "output_type": "stream",
     "text": [
      "<class 'pandas.core.frame.DataFrame'>\n",
      "RangeIndex: 100 entries, 0 to 99\n",
      "Data columns (total 15 columns):\n",
      " #   Column                     Non-Null Count  Dtype   \n",
      "---  ------                     --------------  -----   \n",
      " 0   num_references             100 non-null    float64 \n",
      " 1   sciences                   100 non-null    float64 \n",
      " 2   social                     100 non-null    float64 \n",
      " 3   spiritual                  100 non-null    float64 \n",
      " 4   academia_humanities        100 non-null    float64 \n",
      " 5   business_farming           100 non-null    float64 \n",
      " 6   arts                       100 non-null    float64 \n",
      " 7   sports                     100 non-null    float64 \n",
      " 8   law_enf_military_operator  100 non-null    float64 \n",
      " 9   politics_govt_law          100 non-null    float64 \n",
      " 10  crime                      100 non-null    float64 \n",
      " 11  num_categories             100 non-null    float64 \n",
      " 12  years                      100 non-null    float64 \n",
      " 13  region                     100 non-null    category\n",
      " 14  prior_region               100 non-null    category\n",
      "dtypes: category(2), float64(13)\n",
      "memory usage: 11.2 KB\n"
     ]
    },
    {
     "data": {
      "application/javascript": [
       "\n",
       "            setTimeout(function() {\n",
       "                var nbb_cell_id = 79;\n",
       "                var nbb_unformatted_code = \"# Re-checking info\\nimp_X_new.info()\";\n",
       "                var nbb_formatted_code = \"# Re-checking info\\nimp_X_new.info()\";\n",
       "                var nbb_cells = Jupyter.notebook.get_cells();\n",
       "                for (var i = 0; i < nbb_cells.length; ++i) {\n",
       "                    if (nbb_cells[i].input_prompt_number == nbb_cell_id) {\n",
       "                        if (nbb_cells[i].get_text() == nbb_unformatted_code) {\n",
       "                             nbb_cells[i].set_text(nbb_formatted_code);\n",
       "                        }\n",
       "                        break;\n",
       "                    }\n",
       "                }\n",
       "            }, 500);\n",
       "            "
      ],
      "text/plain": [
       "<IPython.core.display.Javascript object>"
      ]
     },
     "metadata": {},
     "output_type": "display_data"
    }
   ],
   "source": [
    "# Re-checking info\n",
    "imp_X_new.info()"
   ]
  },
  {
   "cell_type": "markdown",
   "id": "1421453f",
   "metadata": {},
   "source": [
    "### Step 2: One Hot Encoding of Train and New Data Predictors"
   ]
  },
  {
   "cell_type": "code",
   "execution_count": 80,
   "id": "5a8d4206",
   "metadata": {},
   "outputs": [
    {
     "name": "stdout",
     "output_type": "stream",
     "text": [
      "(77624, 34) (100, 34)\n"
     ]
    },
    {
     "data": {
      "application/javascript": [
       "\n",
       "            setTimeout(function() {\n",
       "                var nbb_cell_id = 80;\n",
       "                var nbb_unformatted_code = \"# One hot encoding of train set\\nX_train = pd.get_dummies(X_train, drop_first=True)\\n\\n# One hot encoding of new data\\nimp_X_new = pd.get_dummies(imp_X_new, drop_first=True)\\n\\nprint(X_train.shape, imp_X_new.shape)\";\n",
       "                var nbb_formatted_code = \"# One hot encoding of train set\\nX_train = pd.get_dummies(X_train, drop_first=True)\\n\\n# One hot encoding of new data\\nimp_X_new = pd.get_dummies(imp_X_new, drop_first=True)\\n\\nprint(X_train.shape, imp_X_new.shape)\";\n",
       "                var nbb_cells = Jupyter.notebook.get_cells();\n",
       "                for (var i = 0; i < nbb_cells.length; ++i) {\n",
       "                    if (nbb_cells[i].input_prompt_number == nbb_cell_id) {\n",
       "                        if (nbb_cells[i].get_text() == nbb_unformatted_code) {\n",
       "                             nbb_cells[i].set_text(nbb_formatted_code);\n",
       "                        }\n",
       "                        break;\n",
       "                    }\n",
       "                }\n",
       "            }, 500);\n",
       "            "
      ],
      "text/plain": [
       "<IPython.core.display.Javascript object>"
      ]
     },
     "metadata": {},
     "output_type": "display_data"
    }
   ],
   "source": [
    "# One hot encoding of train set\n",
    "X_train = pd.get_dummies(X_train, drop_first=True)\n",
    "\n",
    "# One hot encoding of new data\n",
    "imp_X_new = pd.get_dummies(imp_X_new, drop_first=True)\n",
    "\n",
    "print(X_train.shape, imp_X_new.shape)"
   ]
  },
  {
   "cell_type": "code",
   "execution_count": 81,
   "id": "40e57a91",
   "metadata": {},
   "outputs": [
    {
     "name": "stdout",
     "output_type": "stream",
     "text": [
      "Columns of new data match training set columns.\n"
     ]
    },
    {
     "data": {
      "application/javascript": [
       "\n",
       "            setTimeout(function() {\n",
       "                var nbb_cell_id = 81;\n",
       "                var nbb_unformatted_code = \"# Confirming that columns match in train and new sets\\nif X_train.columns.tolist() == imp_X_new.columns.tolist():\\n    print(f\\\"Columns of new data match training set columns.\\\")\\nelse:\\n    print(f\\\"New data columns do not match training set columns.\\\")\";\n",
       "                var nbb_formatted_code = \"# Confirming that columns match in train and new sets\\nif X_train.columns.tolist() == imp_X_new.columns.tolist():\\n    print(f\\\"Columns of new data match training set columns.\\\")\\nelse:\\n    print(f\\\"New data columns do not match training set columns.\\\")\";\n",
       "                var nbb_cells = Jupyter.notebook.get_cells();\n",
       "                for (var i = 0; i < nbb_cells.length; ++i) {\n",
       "                    if (nbb_cells[i].input_prompt_number == nbb_cell_id) {\n",
       "                        if (nbb_cells[i].get_text() == nbb_unformatted_code) {\n",
       "                             nbb_cells[i].set_text(nbb_formatted_code);\n",
       "                        }\n",
       "                        break;\n",
       "                    }\n",
       "                }\n",
       "            }, 500);\n",
       "            "
      ],
      "text/plain": [
       "<IPython.core.display.Javascript object>"
      ]
     },
     "metadata": {},
     "output_type": "display_data"
    }
   ],
   "source": [
    "# Confirming that columns match in train and new sets\n",
    "if X_train.columns.tolist() == imp_X_new.columns.tolist():\n",
    "    print(f\"Columns of new data match training set columns.\")\n",
    "else:\n",
    "    print(f\"New data columns do not match training set columns.\")"
   ]
  },
  {
   "cell_type": "markdown",
   "id": "55e30fa3",
   "metadata": {},
   "source": [
    "### Step 3: Creating Pipeline with Best Parameters"
   ]
  },
  {
   "cell_type": "markdown",
   "id": "3d6b5726",
   "metadata": {},
   "source": [
    "#### Preprocessor for Pipeline\n",
    "Note that we do not have any transformers in the preprocessor, as we needed to complete that step while the train and new sets `region` columns were still of category types.  But, we are including the preprocessor here for illustration, and the ColumnTransformer to pass through any hypothetical new features that are not in the model (e.g., `cause_of_death`)."
   ]
  },
  {
   "cell_type": "code",
   "execution_count": 82,
   "id": "01ed97d9",
   "metadata": {},
   "outputs": [
    {
     "data": {
      "application/javascript": [
       "\n",
       "            setTimeout(function() {\n",
       "                var nbb_cell_id = 82;\n",
       "                var nbb_unformatted_code = \"# Using column transformer to address any new columns not present in numerical_features\\n# to pass through without any changes; transformers included for illustration only as we are not using any\\npreprocessor = ColumnTransformer(transformers=[], remainder=\\\"passthrough\\\",)\";\n",
       "                var nbb_formatted_code = \"# Using column transformer to address any new columns not present in numerical_features\\n# to pass through without any changes; transformers included for illustration only as we are not using any\\npreprocessor = ColumnTransformer(transformers=[], remainder=\\\"passthrough\\\",)\";\n",
       "                var nbb_cells = Jupyter.notebook.get_cells();\n",
       "                for (var i = 0; i < nbb_cells.length; ++i) {\n",
       "                    if (nbb_cells[i].input_prompt_number == nbb_cell_id) {\n",
       "                        if (nbb_cells[i].get_text() == nbb_unformatted_code) {\n",
       "                             nbb_cells[i].set_text(nbb_formatted_code);\n",
       "                        }\n",
       "                        break;\n",
       "                    }\n",
       "                }\n",
       "            }, 500);\n",
       "            "
      ],
      "text/plain": [
       "<IPython.core.display.Javascript object>"
      ]
     },
     "metadata": {},
     "output_type": "display_data"
    }
   ],
   "source": [
    "# Using column transformer to address any new columns not present in numerical_features\n",
    "# to pass through without any changes; transformers included for illustration only as we are not using any\n",
    "preprocessor = ColumnTransformer(transformers=[], remainder=\"passthrough\",)"
   ]
  },
  {
   "cell_type": "markdown",
   "id": "20e9dd48",
   "metadata": {},
   "source": [
    "#### Creating Production Model Pipeline with Best Parameters"
   ]
  },
  {
   "cell_type": "code",
   "execution_count": 83,
   "id": "17d89827",
   "metadata": {},
   "outputs": [
    {
     "data": {
      "text/plain": [
       "Pipeline(steps=[('pre',\n",
       "                 ColumnTransformer(remainder='passthrough', transformers=[])),\n",
       "                ('GBM2 Tuned',\n",
       "                 GradientBoostingRegressor(learning_rate=0.08171272700715591,\n",
       "                                           max_features=0.6630456668613307,\n",
       "                                           n_estimators=368, random_state=42,\n",
       "                                           subsample=0.7847684335570795))])"
      ]
     },
     "execution_count": 83,
     "metadata": {},
     "output_type": "execute_result"
    },
    {
     "data": {
      "application/javascript": [
       "\n",
       "            setTimeout(function() {\n",
       "                var nbb_cell_id = 83;\n",
       "                var nbb_unformatted_code = \"# Creating pipeline with best parameters\\nproduction_model = Pipeline(\\n    steps=[\\n        (\\\"pre\\\", preprocessor),\\n        (\\n            \\\"GBM2 Tuned\\\",\\n            GradientBoostingRegressor(\\n                random_state=42,\\n                learning_rate=0.08171272700715591,\\n                max_features=0.6630456668613307,\\n                n_estimators=368,\\n                subsample=0.7847684335570795,\\n            ),\\n        ),\\n    ]\\n)\\n\\n# Fit the model on Train data\\nproduction_model.fit(X_train, y_train)\";\n",
       "                var nbb_formatted_code = \"# Creating pipeline with best parameters\\nproduction_model = Pipeline(\\n    steps=[\\n        (\\\"pre\\\", preprocessor),\\n        (\\n            \\\"GBM2 Tuned\\\",\\n            GradientBoostingRegressor(\\n                random_state=42,\\n                learning_rate=0.08171272700715591,\\n                max_features=0.6630456668613307,\\n                n_estimators=368,\\n                subsample=0.7847684335570795,\\n            ),\\n        ),\\n    ]\\n)\\n\\n# Fit the model on Train data\\nproduction_model.fit(X_train, y_train)\";\n",
       "                var nbb_cells = Jupyter.notebook.get_cells();\n",
       "                for (var i = 0; i < nbb_cells.length; ++i) {\n",
       "                    if (nbb_cells[i].input_prompt_number == nbb_cell_id) {\n",
       "                        if (nbb_cells[i].get_text() == nbb_unformatted_code) {\n",
       "                             nbb_cells[i].set_text(nbb_formatted_code);\n",
       "                        }\n",
       "                        break;\n",
       "                    }\n",
       "                }\n",
       "            }, 500);\n",
       "            "
      ],
      "text/plain": [
       "<IPython.core.display.Javascript object>"
      ]
     },
     "metadata": {},
     "output_type": "display_data"
    }
   ],
   "source": [
    "# Creating pipeline with best parameters\n",
    "production_model = Pipeline(\n",
    "    steps=[\n",
    "        (\"pre\", preprocessor),\n",
    "        (\n",
    "            \"GBM2 Tuned\",\n",
    "            GradientBoostingRegressor(\n",
    "                random_state=42,\n",
    "                learning_rate=0.08171272700715591,\n",
    "                max_features=0.6630456668613307,\n",
    "                n_estimators=368,\n",
    "                subsample=0.7847684335570795,\n",
    "            ),\n",
    "        ),\n",
    "    ]\n",
    ")\n",
    "\n",
    "# Fit the model on Train data\n",
    "production_model.fit(X_train, y_train)"
   ]
  },
  {
   "cell_type": "markdown",
   "id": "a5876908",
   "metadata": {},
   "source": [
    "#### Observations:\n",
    "- We have the steps in place for new data and the production model is ready.\n",
    "- Let us see how it performs on the test set."
   ]
  },
  {
   "cell_type": "markdown",
   "id": "2a41a9c4",
   "metadata": {},
   "source": [
    "### Checking the Production Model on the Test Set"
   ]
  },
  {
   "cell_type": "code",
   "execution_count": 84,
   "id": "ccb35eb7",
   "metadata": {},
   "outputs": [
    {
     "name": "stdout",
     "output_type": "stream",
     "text": [
      "Performance in Production:\n"
     ]
    },
    {
     "data": {
      "text/html": [
       "<div>\n",
       "<style scoped>\n",
       "    .dataframe tbody tr th:only-of-type {\n",
       "        vertical-align: middle;\n",
       "    }\n",
       "\n",
       "    .dataframe tbody tr th {\n",
       "        vertical-align: top;\n",
       "    }\n",
       "\n",
       "    .dataframe thead th {\n",
       "        text-align: right;\n",
       "    }\n",
       "</style>\n",
       "<table border=\"1\" class=\"dataframe\">\n",
       "  <thead>\n",
       "    <tr style=\"text-align: right;\">\n",
       "      <th></th>\n",
       "      <th>RMSE</th>\n",
       "      <th>MAE</th>\n",
       "      <th>R-squared</th>\n",
       "      <th>MAPE</th>\n",
       "    </tr>\n",
       "  </thead>\n",
       "  <tbody>\n",
       "    <tr>\n",
       "      <th>0</th>\n",
       "      <td>14.996295</td>\n",
       "      <td>11.657792</td>\n",
       "      <td>0.08559</td>\n",
       "      <td>19.013442</td>\n",
       "    </tr>\n",
       "  </tbody>\n",
       "</table>\n",
       "</div>"
      ],
      "text/plain": [
       "        RMSE        MAE  R-squared       MAPE\n",
       "0  14.996295  11.657792    0.08559  19.013442"
      ]
     },
     "execution_count": 84,
     "metadata": {},
     "output_type": "execute_result"
    },
    {
     "data": {
      "application/javascript": [
       "\n",
       "            setTimeout(function() {\n",
       "                var nbb_cell_id = 84;\n",
       "                var nbb_unformatted_code = \"# Checking model performance on Test set\\nproduction_model_test = model_performance_regression(model, X_test, y_test)\\n\\nprint(\\\"Performance in Production:\\\")\\nproduction_model_test.drop(\\\"Adj. R-squared\\\", axis=1)\";\n",
       "                var nbb_formatted_code = \"# Checking model performance on Test set\\nproduction_model_test = model_performance_regression(model, X_test, y_test)\\n\\nprint(\\\"Performance in Production:\\\")\\nproduction_model_test.drop(\\\"Adj. R-squared\\\", axis=1)\";\n",
       "                var nbb_cells = Jupyter.notebook.get_cells();\n",
       "                for (var i = 0; i < nbb_cells.length; ++i) {\n",
       "                    if (nbb_cells[i].input_prompt_number == nbb_cell_id) {\n",
       "                        if (nbb_cells[i].get_text() == nbb_unformatted_code) {\n",
       "                             nbb_cells[i].set_text(nbb_formatted_code);\n",
       "                        }\n",
       "                        break;\n",
       "                    }\n",
       "                }\n",
       "            }, 500);\n",
       "            "
      ],
      "text/plain": [
       "<IPython.core.display.Javascript object>"
      ]
     },
     "metadata": {},
     "output_type": "display_data"
    }
   ],
   "source": [
    "# Checking model performance on Test set\n",
    "production_model_test = model_performance_regression(model, X_test, y_test)\n",
    "\n",
    "print(\"Performance in Production:\")\n",
    "production_model_test.drop(\"Adj. R-squared\", axis=1)"
   ]
  },
  {
   "cell_type": "markdown",
   "id": "26660575",
   "metadata": {},
   "source": [
    "#### Observations:\n",
    "- Being able to train on the full Train set gave a slight bump up in performance.  $R^2$ increased from 0.111 to 0113, so the model's performance is holding up in production.  The predictors in the model account for ~11.3% of the variation in life span.\n",
    "- In production, the champion model is able to predict life span of notable individuals on Wikipedia, who meet inclusion criteria, within an average error of ~11.5 years or ~18.7%.\n",
    "- Compared to the suggested benchmark of R$^2$ of 0.35 for machine learning models in the social sciences, the model is not a very good predictor.  However, given the very narrow breadth of included predictors (region, prior region (if any), number of references (a proxy for notability), year of death, and the domain(s) for which the individual was known), explaining 11.3% of the variation in life span is reasonable.  For example, other potentially predictive features such as gender, marital status, income, education level, ethnicity, etc., are not overtly in the model.  It is feasible that the addition of some other key predictors to the current model's predictors (i.e., not in lieu of them) could close the gap on between the model's performance and the domain's benchmark for performance.\n",
    "- By applying more robust machine learning algorithms with hyperparameter tuning and utilizing the original `known for` category columns (with some entries having multiple categories), we were able to achieve a 2.5% increase in predictive performance, from the final linear regression model, [*oldmodel3*](https://github.com/teresahanak/wikipedia-life-expectancy/blob/main/wp_life_expect_olsmodel_thanak_2022_10_9.ipynb)  (R$^2$ ~0.088).\n",
    "- As a final step, we will make age predictions on our dummy new data."
   ]
  },
  {
   "cell_type": "markdown",
   "id": "576f008b",
   "metadata": {},
   "source": [
    "#### Predicting Age with Productionalized Model"
   ]
  },
  {
   "cell_type": "code",
   "execution_count": 85,
   "id": "76a0e9f2",
   "metadata": {},
   "outputs": [
    {
     "name": "stdout",
     "output_type": "stream",
     "text": [
      "Predicted age values on new data:\n"
     ]
    },
    {
     "data": {
      "text/plain": [
       "array([78.43757534, 85.94418736, 78.90627027, 65.92306242, 74.07049642,\n",
       "       75.28819662, 75.66740056, 73.87320603, 74.2424208 , 83.25488403,\n",
       "       79.64014232, 79.46225187, 71.42282326, 77.38828781, 78.19017684,\n",
       "       80.5081493 , 79.33153065, 75.88270439, 82.14288316, 76.33523208,\n",
       "       79.69487408, 77.03457097, 83.76653577, 81.04773258, 66.56528304,\n",
       "       75.93985247, 79.42572086, 77.38347886, 74.95825171, 82.1222527 ,\n",
       "       79.62678031, 80.47238947, 77.19386418, 74.81882556, 78.04700861,\n",
       "       78.09333454, 83.84287815, 77.68602107, 72.3648586 , 80.87139198,\n",
       "       74.59543342, 72.09744963, 78.85706564, 77.05209047, 81.11761284,\n",
       "       74.81882556, 74.93919414, 74.59227409, 71.30475529, 77.0416801 ,\n",
       "       76.2856974 , 80.28862405, 85.13683126, 78.85075521, 82.14288316,\n",
       "       77.03685469, 87.10523989, 69.04681621, 84.54949622, 81.11666899,\n",
       "       78.50818905, 82.70085956, 83.68567616, 74.9887011 , 79.55590074,\n",
       "       77.50461567, 75.36390586, 75.49077136, 77.90099723, 76.97737671,\n",
       "       74.35265868, 74.33668499, 80.7425548 , 74.31694806, 84.54162107,\n",
       "       77.20355681, 78.15702685, 79.51036332, 76.17642499, 78.66830354,\n",
       "       83.79529447, 77.53646867, 78.25904414, 70.63884624, 73.76258099,\n",
       "       76.00124795, 80.96919144, 75.91127411, 77.29410293, 81.55016589,\n",
       "       74.6878093 , 84.13782094, 68.56636142, 77.56798627, 82.69915996,\n",
       "       73.91968473, 76.16507641, 82.68446624, 77.5943318 , 80.91428982])"
      ]
     },
     "execution_count": 85,
     "metadata": {},
     "output_type": "execute_result"
    },
    {
     "data": {
      "application/javascript": [
       "\n",
       "            setTimeout(function() {\n",
       "                var nbb_cell_id = 85;\n",
       "                var nbb_unformatted_code = \"# Predicting age\\nprint(f\\\"Predicted age values on new data:\\\")\\nproduction_model.predict(imp_X_new)\";\n",
       "                var nbb_formatted_code = \"# Predicting age\\nprint(f\\\"Predicted age values on new data:\\\")\\nproduction_model.predict(imp_X_new)\";\n",
       "                var nbb_cells = Jupyter.notebook.get_cells();\n",
       "                for (var i = 0; i < nbb_cells.length; ++i) {\n",
       "                    if (nbb_cells[i].input_prompt_number == nbb_cell_id) {\n",
       "                        if (nbb_cells[i].get_text() == nbb_unformatted_code) {\n",
       "                             nbb_cells[i].set_text(nbb_formatted_code);\n",
       "                        }\n",
       "                        break;\n",
       "                    }\n",
       "                }\n",
       "            }, 500);\n",
       "            "
      ],
      "text/plain": [
       "<IPython.core.display.Javascript object>"
      ]
     },
     "metadata": {},
     "output_type": "display_data"
    }
   ],
   "source": [
    "# Predicting age\n",
    "print(f\"Predicted age values on new data:\")\n",
    "production_model.predict(imp_X_new)"
   ]
  },
  {
   "cell_type": "code",
   "execution_count": 86,
   "id": "a36c0663",
   "metadata": {},
   "outputs": [
    {
     "name": "stdout",
     "output_type": "stream",
     "text": [
      "Complete\n"
     ]
    },
    {
     "data": {
      "application/javascript": [
       "\n",
       "            setTimeout(function() {\n",
       "                var nbb_cell_id = 86;\n",
       "                var nbb_unformatted_code = \"print(\\\"Complete\\\")\\n\\n# Chime notification when cell executes\\nchime.success()\";\n",
       "                var nbb_formatted_code = \"print(\\\"Complete\\\")\\n\\n# Chime notification when cell executes\\nchime.success()\";\n",
       "                var nbb_cells = Jupyter.notebook.get_cells();\n",
       "                for (var i = 0; i < nbb_cells.length; ++i) {\n",
       "                    if (nbb_cells[i].input_prompt_number == nbb_cell_id) {\n",
       "                        if (nbb_cells[i].get_text() == nbb_unformatted_code) {\n",
       "                             nbb_cells[i].set_text(nbb_formatted_code);\n",
       "                        }\n",
       "                        break;\n",
       "                    }\n",
       "                }\n",
       "            }, 500);\n",
       "            "
      ],
      "text/plain": [
       "<IPython.core.display.Javascript object>"
      ]
     },
     "metadata": {},
     "output_type": "display_data"
    }
   ],
   "source": [
    "print(\"Complete\")\n",
    "\n",
    "# Chime notification when cell executes\n",
    "chime.success()"
   ]
  },
  {
   "cell_type": "markdown",
   "id": "11aacfcc",
   "metadata": {},
   "source": [
    "# [Proceed to Conclusion ]()"
   ]
  }
 ],
 "metadata": {
  "kernelspec": {
   "display_name": "Python 3 (ipykernel)",
   "language": "python",
   "name": "python3"
  },
  "language_info": {
   "codemirror_mode": {
    "name": "ipython",
    "version": 3
   },
   "file_extension": ".py",
   "mimetype": "text/x-python",
   "name": "python",
   "nbconvert_exporter": "python",
   "pygments_lexer": "ipython3",
   "version": "3.9.12"
  }
 },
 "nbformat": 4,
 "nbformat_minor": 5
}
