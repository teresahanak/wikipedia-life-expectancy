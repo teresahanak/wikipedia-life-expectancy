{
 "cells": [
  {
   "cell_type": "markdown",
   "id": "42f5ac22",
   "metadata": {},
   "source": [
    "# Wikipedia Life Expectancy\n",
    "\n",
    "# [Notebook 2 of 4: Data Cleaning](https://github.com/teresahanak/wikipedia-notable-deaths/blob/main/wikipedia_notable_deaths_data_prep_thanak_2022_06_13.ipynb)\n",
    "\n",
    "## Context\n",
    "\n",
    "The\n",
    "\n",
    "\n",
    "## Objective\n",
    "\n",
    "The\n",
    "\n",
    "### Data Dictionary\n",
    "\n",
    "- Feature: Description"
   ]
  },
  {
   "cell_type": "markdown",
   "id": "672ff54d",
   "metadata": {},
   "source": [
    "## Importing necessary libraries"
   ]
  },
  {
   "cell_type": "code",
   "execution_count": 1,
   "id": "6d142f76",
   "metadata": {},
   "outputs": [
    {
     "data": {
      "application/javascript": [
       "\n",
       "            setTimeout(function() {\n",
       "                var nbb_cell_id = 1;\n",
       "                var nbb_unformatted_code = \"# To structure code automatically\\n%load_ext nb_black\\n\\n# To import/export sqlite databases\\nimport sqlite3 as sql\\n\\n# To help with reading and manipulating data\\nimport pandas as pd\\nimport numpy as np\\nimport re\\n\\n# To define maximum number of columns to be displayed in a dataframe\\npd.set_option(\\\"display.max_columns\\\", None)\\n# To define the maximum number of rows to be displayed in a dataframe\\npd.set_option(\\\"display.max_rows\\\", 200)\\n\\n# To supress scientific notations for a dataframe\\npd.set_option(\\\"display.float_format\\\", lambda x: \\\"%.3f\\\" % x)\\n\\n# To supress warnings\\n# import warnings\\n\\n# warnings.filterwarnings(\\\"ignore\\\")\\n\\n# To set some visualization attributes\\npd.set_option(\\\"max_colwidth\\\", 150)\";\n",
       "                var nbb_formatted_code = \"# To structure code automatically\\n%load_ext nb_black\\n\\n# To import/export sqlite databases\\nimport sqlite3 as sql\\n\\n# To help with reading and manipulating data\\nimport pandas as pd\\nimport numpy as np\\nimport re\\n\\n# To define maximum number of columns to be displayed in a dataframe\\npd.set_option(\\\"display.max_columns\\\", None)\\n# To define the maximum number of rows to be displayed in a dataframe\\npd.set_option(\\\"display.max_rows\\\", 200)\\n\\n# To supress scientific notations for a dataframe\\npd.set_option(\\\"display.float_format\\\", lambda x: \\\"%.3f\\\" % x)\\n\\n# To supress warnings\\n# import warnings\\n\\n# warnings.filterwarnings(\\\"ignore\\\")\\n\\n# To set some visualization attributes\\npd.set_option(\\\"max_colwidth\\\", 150)\";\n",
       "                var nbb_cells = Jupyter.notebook.get_cells();\n",
       "                for (var i = 0; i < nbb_cells.length; ++i) {\n",
       "                    if (nbb_cells[i].input_prompt_number == nbb_cell_id) {\n",
       "                        if (nbb_cells[i].get_text() == nbb_unformatted_code) {\n",
       "                             nbb_cells[i].set_text(nbb_formatted_code);\n",
       "                        }\n",
       "                        break;\n",
       "                    }\n",
       "                }\n",
       "            }, 500);\n",
       "            "
      ],
      "text/plain": [
       "<IPython.core.display.Javascript object>"
      ]
     },
     "metadata": {},
     "output_type": "display_data"
    }
   ],
   "source": [
    "# To structure code automatically\n",
    "%load_ext nb_black\n",
    "\n",
    "# To import/export sqlite databases\n",
    "import sqlite3 as sql\n",
    "\n",
    "# To help with reading and manipulating data\n",
    "import pandas as pd\n",
    "import numpy as np\n",
    "import re\n",
    "\n",
    "# To define maximum number of columns to be displayed in a dataframe\n",
    "pd.set_option(\"display.max_columns\", None)\n",
    "# To define the maximum number of rows to be displayed in a dataframe\n",
    "pd.set_option(\"display.max_rows\", 200)\n",
    "\n",
    "# To supress scientific notations for a dataframe\n",
    "pd.set_option(\"display.float_format\", lambda x: \"%.3f\" % x)\n",
    "\n",
    "# To supress warnings\n",
    "# import warnings\n",
    "\n",
    "# warnings.filterwarnings(\"ignore\")\n",
    "\n",
    "# To set some visualization attributes\n",
    "pd.set_option(\"max_colwidth\", 150)"
   ]
  },
  {
   "cell_type": "markdown",
   "id": "f4094f60",
   "metadata": {},
   "source": [
    "## Data Overview"
   ]
  },
  {
   "cell_type": "markdown",
   "id": "30f4044f",
   "metadata": {},
   "source": [
    "### Reading, sampling, and checking data shape"
   ]
  },
  {
   "cell_type": "code",
   "execution_count": 2,
   "id": "5df7987c",
   "metadata": {},
   "outputs": [
    {
     "name": "stdout",
     "output_type": "stream",
     "text": [
      "There are 133900 rows and 6 columns.\n"
     ]
    },
    {
     "data": {
      "text/html": [
       "<div>\n",
       "<style scoped>\n",
       "    .dataframe tbody tr th:only-of-type {\n",
       "        vertical-align: middle;\n",
       "    }\n",
       "\n",
       "    .dataframe tbody tr th {\n",
       "        vertical-align: top;\n",
       "    }\n",
       "\n",
       "    .dataframe thead th {\n",
       "        text-align: right;\n",
       "    }\n",
       "</style>\n",
       "<table border=\"1\" class=\"dataframe\">\n",
       "  <thead>\n",
       "    <tr style=\"text-align: right;\">\n",
       "      <th></th>\n",
       "      <th>month_year</th>\n",
       "      <th>day</th>\n",
       "      <th>name</th>\n",
       "      <th>info</th>\n",
       "      <th>link</th>\n",
       "      <th>num_references</th>\n",
       "    </tr>\n",
       "  </thead>\n",
       "  <tbody>\n",
       "    <tr>\n",
       "      <th>0</th>\n",
       "      <td>January 1994</td>\n",
       "      <td>1</td>\n",
       "      <td>William Chappell</td>\n",
       "      <td>, 86, British dancer, ballet designer and director.</td>\n",
       "      <td>https://en.wikipedia.org/wiki/William_Chappell_(dancer)</td>\n",
       "      <td>21</td>\n",
       "    </tr>\n",
       "    <tr>\n",
       "      <th>1</th>\n",
       "      <td>January 1994</td>\n",
       "      <td>1</td>\n",
       "      <td>Raymond Crotty</td>\n",
       "      <td>, 68, Irish economist, writer, and academic.</td>\n",
       "      <td>https://en.wikipedia.org/wiki/Raymond_Crotty</td>\n",
       "      <td>12</td>\n",
       "    </tr>\n",
       "  </tbody>\n",
       "</table>\n",
       "</div>"
      ],
      "text/plain": [
       "     month_year day              name  \\\n",
       "0  January 1994   1  William Chappell   \n",
       "1  January 1994   1    Raymond Crotty   \n",
       "\n",
       "                                                  info  \\\n",
       "0  , 86, British dancer, ballet designer and director.   \n",
       "1         , 68, Irish economist, writer, and academic.   \n",
       "\n",
       "                                                      link num_references  \n",
       "0  https://en.wikipedia.org/wiki/William_Chappell_(dancer)             21  \n",
       "1             https://en.wikipedia.org/wiki/Raymond_Crotty             12  "
      ]
     },
     "execution_count": 2,
     "metadata": {},
     "output_type": "execute_result"
    },
    {
     "data": {
      "application/javascript": [
       "\n",
       "            setTimeout(function() {\n",
       "                var nbb_cell_id = 2;\n",
       "                var nbb_unformatted_code = \"# Reading the wp_notable_deaths_raw_complete dataset\\nconn = sql.connect(\\\"wp_notable_deaths_raw_complete.db\\\")\\ndata = pd.read_sql(\\\"SELECT * FROM wp_notable_deaths_raw_complete\\\", conn)\\n\\n# Making a working copy\\ndf = data.copy()\\n\\n# Checking the shape\\nprint(f\\\"There are {df.shape[0]} rows and {df.shape[1]} columns.\\\")\\n\\n# Checking first 2 rows of the data\\ndf.head(2)\";\n",
       "                var nbb_formatted_code = \"# Reading the wp_notable_deaths_raw_complete dataset\\nconn = sql.connect(\\\"wp_notable_deaths_raw_complete.db\\\")\\ndata = pd.read_sql(\\\"SELECT * FROM wp_notable_deaths_raw_complete\\\", conn)\\n\\n# Making a working copy\\ndf = data.copy()\\n\\n# Checking the shape\\nprint(f\\\"There are {df.shape[0]} rows and {df.shape[1]} columns.\\\")\\n\\n# Checking first 2 rows of the data\\ndf.head(2)\";\n",
       "                var nbb_cells = Jupyter.notebook.get_cells();\n",
       "                for (var i = 0; i < nbb_cells.length; ++i) {\n",
       "                    if (nbb_cells[i].input_prompt_number == nbb_cell_id) {\n",
       "                        if (nbb_cells[i].get_text() == nbb_unformatted_code) {\n",
       "                             nbb_cells[i].set_text(nbb_formatted_code);\n",
       "                        }\n",
       "                        break;\n",
       "                    }\n",
       "                }\n",
       "            }, 500);\n",
       "            "
      ],
      "text/plain": [
       "<IPython.core.display.Javascript object>"
      ]
     },
     "metadata": {},
     "output_type": "display_data"
    }
   ],
   "source": [
    "# Reading the wp_notable_deaths_raw_complete dataset\n",
    "conn = sql.connect(\"wp_notable_deaths_raw_complete.db\")\n",
    "data = pd.read_sql(\"SELECT * FROM wp_notable_deaths_raw_complete\", conn)\n",
    "\n",
    "# Making a working copy\n",
    "df = data.copy()\n",
    "\n",
    "# Checking the shape\n",
    "print(f\"There are {df.shape[0]} rows and {df.shape[1]} columns.\")\n",
    "\n",
    "# Checking first 2 rows of the data\n",
    "df.head(2)"
   ]
  },
  {
   "cell_type": "code",
   "execution_count": 3,
   "id": "39479165",
   "metadata": {},
   "outputs": [
    {
     "data": {
      "text/html": [
       "<div>\n",
       "<style scoped>\n",
       "    .dataframe tbody tr th:only-of-type {\n",
       "        vertical-align: middle;\n",
       "    }\n",
       "\n",
       "    .dataframe tbody tr th {\n",
       "        vertical-align: top;\n",
       "    }\n",
       "\n",
       "    .dataframe thead th {\n",
       "        text-align: right;\n",
       "    }\n",
       "</style>\n",
       "<table border=\"1\" class=\"dataframe\">\n",
       "  <thead>\n",
       "    <tr style=\"text-align: right;\">\n",
       "      <th></th>\n",
       "      <th>month_year</th>\n",
       "      <th>day</th>\n",
       "      <th>name</th>\n",
       "      <th>info</th>\n",
       "      <th>link</th>\n",
       "      <th>num_references</th>\n",
       "    </tr>\n",
       "  </thead>\n",
       "  <tbody>\n",
       "    <tr>\n",
       "      <th>133898</th>\n",
       "      <td>June 2022</td>\n",
       "      <td>9</td>\n",
       "      <td>Oleg Moliboga</td>\n",
       "      <td>, 69, Russian volleyball player, Olympic champion (1980) and coach.</td>\n",
       "      <td>https://en.wikipedia.org/wiki/Oleg_Moliboga</td>\n",
       "      <td>2</td>\n",
       "    </tr>\n",
       "    <tr>\n",
       "      <th>133899</th>\n",
       "      <td>June 2022</td>\n",
       "      <td>9</td>\n",
       "      <td>Zou Jing</td>\n",
       "      <td>, 86, Chinese engineer, member of the Chinese Academy of Engineering.</td>\n",
       "      <td>https://en.wikipedia.org/wiki/Zou_Jing_(engineer)</td>\n",
       "      <td>3</td>\n",
       "    </tr>\n",
       "  </tbody>\n",
       "</table>\n",
       "</div>"
      ],
      "text/plain": [
       "       month_year day           name  \\\n",
       "133898  June 2022   9  Oleg Moliboga   \n",
       "133899  June 2022   9       Zou Jing   \n",
       "\n",
       "                                                                         info  \\\n",
       "133898    , 69, Russian volleyball player, Olympic champion (1980) and coach.   \n",
       "133899  , 86, Chinese engineer, member of the Chinese Academy of Engineering.   \n",
       "\n",
       "                                                     link num_references  \n",
       "133898        https://en.wikipedia.org/wiki/Oleg_Moliboga              2  \n",
       "133899  https://en.wikipedia.org/wiki/Zou_Jing_(engineer)              3  "
      ]
     },
     "execution_count": 3,
     "metadata": {},
     "output_type": "execute_result"
    },
    {
     "data": {
      "application/javascript": [
       "\n",
       "            setTimeout(function() {\n",
       "                var nbb_cell_id = 3;\n",
       "                var nbb_unformatted_code = \"# Checking last 2 rows of the data\\ndf.tail(2)\";\n",
       "                var nbb_formatted_code = \"# Checking last 2 rows of the data\\ndf.tail(2)\";\n",
       "                var nbb_cells = Jupyter.notebook.get_cells();\n",
       "                for (var i = 0; i < nbb_cells.length; ++i) {\n",
       "                    if (nbb_cells[i].input_prompt_number == nbb_cell_id) {\n",
       "                        if (nbb_cells[i].get_text() == nbb_unformatted_code) {\n",
       "                             nbb_cells[i].set_text(nbb_formatted_code);\n",
       "                        }\n",
       "                        break;\n",
       "                    }\n",
       "                }\n",
       "            }, 500);\n",
       "            "
      ],
      "text/plain": [
       "<IPython.core.display.Javascript object>"
      ]
     },
     "metadata": {},
     "output_type": "display_data"
    }
   ],
   "source": [
    "# Checking last 2 rows of the data\n",
    "df.tail(2)"
   ]
  },
  {
   "cell_type": "code",
   "execution_count": 4,
   "id": "0d3fd555",
   "metadata": {},
   "outputs": [
    {
     "data": {
      "text/html": [
       "<div>\n",
       "<style scoped>\n",
       "    .dataframe tbody tr th:only-of-type {\n",
       "        vertical-align: middle;\n",
       "    }\n",
       "\n",
       "    .dataframe tbody tr th {\n",
       "        vertical-align: top;\n",
       "    }\n",
       "\n",
       "    .dataframe thead th {\n",
       "        text-align: right;\n",
       "    }\n",
       "</style>\n",
       "<table border=\"1\" class=\"dataframe\">\n",
       "  <thead>\n",
       "    <tr style=\"text-align: right;\">\n",
       "      <th></th>\n",
       "      <th>month_year</th>\n",
       "      <th>day</th>\n",
       "      <th>name</th>\n",
       "      <th>info</th>\n",
       "      <th>link</th>\n",
       "      <th>num_references</th>\n",
       "    </tr>\n",
       "  </thead>\n",
       "  <tbody>\n",
       "    <tr>\n",
       "      <th>32806</th>\n",
       "      <td>February 2007</td>\n",
       "      <td>5</td>\n",
       "      <td>Alfred Worm</td>\n",
       "      <td>, 61, Austrian investigative journalist, heart attack.</td>\n",
       "      <td>https://en.wikipedia.org/wiki/Alfred_Worm</td>\n",
       "      <td>3</td>\n",
       "    </tr>\n",
       "    <tr>\n",
       "      <th>52224</th>\n",
       "      <td>October 2011</td>\n",
       "      <td>23</td>\n",
       "      <td>Bogdan Zakrzewski</td>\n",
       "      <td>, 95, Polish historian and researcher of Polish literature.</td>\n",
       "      <td>https://en.wikipedia.org/wiki/Bogdan_Zakrzewski</td>\n",
       "      <td>2</td>\n",
       "    </tr>\n",
       "    <tr>\n",
       "      <th>91375</th>\n",
       "      <td>August 2017</td>\n",
       "      <td>7</td>\n",
       "      <td>David Heimbach</td>\n",
       "      <td>, 78, American surgeon.</td>\n",
       "      <td>https://en.wikipedia.org/wiki/David_Heimbach</td>\n",
       "      <td>12</td>\n",
       "    </tr>\n",
       "    <tr>\n",
       "      <th>131595</th>\n",
       "      <td>February 2022</td>\n",
       "      <td>25</td>\n",
       "      <td>Lorna Fejo</td>\n",
       "      <td>, 91, Australian Warumungu woman, member of the stolen generations.</td>\n",
       "      <td>https://en.wikipedia.org/wiki/Lorna_Fejo</td>\n",
       "      <td>10</td>\n",
       "    </tr>\n",
       "    <tr>\n",
       "      <th>13058</th>\n",
       "      <td>January 1999</td>\n",
       "      <td>26</td>\n",
       "      <td>Settimio Ferrazzetta</td>\n",
       "      <td>, 74, Italian-born Bissauan Roman Catholic prelate, Bishop of Bissau (since 1977).</td>\n",
       "      <td>https://en.wikipedia.org/wiki/Settimio_Ferrazzetta</td>\n",
       "      <td>1</td>\n",
       "    </tr>\n",
       "  </tbody>\n",
       "</table>\n",
       "</div>"
      ],
      "text/plain": [
       "           month_year day                  name  \\\n",
       "32806   February 2007   5           Alfred Worm   \n",
       "52224    October 2011  23     Bogdan Zakrzewski   \n",
       "91375     August 2017   7        David Heimbach   \n",
       "131595  February 2022  25            Lorna Fejo   \n",
       "13058    January 1999  26  Settimio Ferrazzetta   \n",
       "\n",
       "                                                                                      info  \\\n",
       "32806                               , 61, Austrian investigative journalist, heart attack.   \n",
       "52224                          , 95, Polish historian and researcher of Polish literature.   \n",
       "91375                                                              , 78, American surgeon.   \n",
       "131595                 , 91, Australian Warumungu woman, member of the stolen generations.   \n",
       "13058   , 74, Italian-born Bissauan Roman Catholic prelate, Bishop of Bissau (since 1977).   \n",
       "\n",
       "                                                      link num_references  \n",
       "32806            https://en.wikipedia.org/wiki/Alfred_Worm              3  \n",
       "52224      https://en.wikipedia.org/wiki/Bogdan_Zakrzewski              2  \n",
       "91375         https://en.wikipedia.org/wiki/David_Heimbach             12  \n",
       "131595            https://en.wikipedia.org/wiki/Lorna_Fejo             10  \n",
       "13058   https://en.wikipedia.org/wiki/Settimio_Ferrazzetta              1  "
      ]
     },
     "execution_count": 4,
     "metadata": {},
     "output_type": "execute_result"
    },
    {
     "data": {
      "application/javascript": [
       "\n",
       "            setTimeout(function() {\n",
       "                var nbb_cell_id = 4;\n",
       "                var nbb_unformatted_code = \"# Checking a sample of the data\\ndf.sample(5)\";\n",
       "                var nbb_formatted_code = \"# Checking a sample of the data\\ndf.sample(5)\";\n",
       "                var nbb_cells = Jupyter.notebook.get_cells();\n",
       "                for (var i = 0; i < nbb_cells.length; ++i) {\n",
       "                    if (nbb_cells[i].input_prompt_number == nbb_cell_id) {\n",
       "                        if (nbb_cells[i].get_text() == nbb_unformatted_code) {\n",
       "                             nbb_cells[i].set_text(nbb_formatted_code);\n",
       "                        }\n",
       "                        break;\n",
       "                    }\n",
       "                }\n",
       "            }, 500);\n",
       "            "
      ],
      "text/plain": [
       "<IPython.core.display.Javascript object>"
      ]
     },
     "metadata": {},
     "output_type": "display_data"
    }
   ],
   "source": [
    "# Checking a sample of the data\n",
    "df.sample(5)"
   ]
  },
  {
   "cell_type": "markdown",
   "id": "ffdc752e",
   "metadata": {},
   "source": [
    "#### Observations:\n",
    "- There are 133,900 rows and 6 columns"
   ]
  },
  {
   "cell_type": "code",
   "execution_count": null,
   "id": "ab94d9fc",
   "metadata": {},
   "outputs": [],
   "source": []
  }
 ],
 "metadata": {
  "kernelspec": {
   "display_name": "Python 3 (ipykernel)",
   "language": "python",
   "name": "python3"
  },
  "language_info": {
   "codemirror_mode": {
    "name": "ipython",
    "version": 3
   },
   "file_extension": ".py",
   "mimetype": "text/x-python",
   "name": "python",
   "nbconvert_exporter": "python",
   "pygments_lexer": "ipython3",
   "version": "3.9.12"
  }
 },
 "nbformat": 4,
 "nbformat_minor": 5
}
