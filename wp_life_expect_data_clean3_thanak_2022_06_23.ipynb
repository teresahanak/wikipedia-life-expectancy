{
 "cells": [
  {
   "cell_type": "markdown",
   "id": "356b8d57",
   "metadata": {},
   "source": [
    "# Wikipedia Notable Life Expectancies\n",
    "\n",
    "# [Notebook 4 of 4: Data Cleaning](https://github.com/teresahanak/wikipedia-life-expectancy/blob/main/wp_life_expect_data_clean2_thanak_2022_06_17.ipynb)\n",
    "\n",
    "## Context\n",
    "\n",
    "The\n",
    "\n",
    "\n",
    "## Objective\n",
    "\n",
    "The\n",
    "\n",
    "### Data Dictionary\n",
    "\n",
    "- Feature: Description"
   ]
  },
  {
   "cell_type": "markdown",
   "id": "044a2273",
   "metadata": {},
   "source": [
    "## Importing Necessary Libraries"
   ]
  },
  {
   "cell_type": "code",
   "execution_count": 1,
   "id": "ab3cc6d4",
   "metadata": {},
   "outputs": [
    {
     "data": {
      "application/javascript": [
       "\n",
       "            setTimeout(function() {\n",
       "                var nbb_cell_id = 1;\n",
       "                var nbb_unformatted_code = \"# To structure code automatically\\n%load_ext nb_black\\n\\n# To import/export sqlite databases\\nimport sqlite3 as sql\\n\\n# To help with reading, cleaning, and manipulating data\\nimport pandas as pd\\nimport numpy as np\\nimport re\\nfrom fuzzywuzzy import fuzz\\nfrom fuzzywuzzy import process\\n\\n\\n# To define maximum number of columns to be displayed in a dataframe\\npd.set_option(\\\"display.max_columns\\\", None)\\n# To define the maximum number of rows to be displayed in a dataframe\\npd.set_option(\\\"display.max_rows\\\", 200)\\n\\n# To supress warnings\\n# import warnings\\n\\n# warnings.filterwarnings(\\\"ignore\\\")\\n\\n# To set some visualization attributes\\npd.set_option(\\\"max_colwidth\\\", 150)\";\n",
       "                var nbb_formatted_code = \"# To structure code automatically\\n%load_ext nb_black\\n\\n# To import/export sqlite databases\\nimport sqlite3 as sql\\n\\n# To help with reading, cleaning, and manipulating data\\nimport pandas as pd\\nimport numpy as np\\nimport re\\nfrom fuzzywuzzy import fuzz\\nfrom fuzzywuzzy import process\\n\\n\\n# To define maximum number of columns to be displayed in a dataframe\\npd.set_option(\\\"display.max_columns\\\", None)\\n# To define the maximum number of rows to be displayed in a dataframe\\npd.set_option(\\\"display.max_rows\\\", 200)\\n\\n# To supress warnings\\n# import warnings\\n\\n# warnings.filterwarnings(\\\"ignore\\\")\\n\\n# To set some visualization attributes\\npd.set_option(\\\"max_colwidth\\\", 150)\";\n",
       "                var nbb_cells = Jupyter.notebook.get_cells();\n",
       "                for (var i = 0; i < nbb_cells.length; ++i) {\n",
       "                    if (nbb_cells[i].input_prompt_number == nbb_cell_id) {\n",
       "                        if (nbb_cells[i].get_text() == nbb_unformatted_code) {\n",
       "                             nbb_cells[i].set_text(nbb_formatted_code);\n",
       "                        }\n",
       "                        break;\n",
       "                    }\n",
       "                }\n",
       "            }, 500);\n",
       "            "
      ],
      "text/plain": [
       "<IPython.core.display.Javascript object>"
      ]
     },
     "metadata": {},
     "output_type": "display_data"
    }
   ],
   "source": [
    "# To structure code automatically\n",
    "%load_ext nb_black\n",
    "\n",
    "# To import/export sqlite databases\n",
    "import sqlite3 as sql\n",
    "\n",
    "# To help with reading, cleaning, and manipulating data\n",
    "import pandas as pd\n",
    "import numpy as np\n",
    "import re\n",
    "from fuzzywuzzy import fuzz\n",
    "from fuzzywuzzy import process\n",
    "\n",
    "\n",
    "# To define maximum number of columns to be displayed in a dataframe\n",
    "pd.set_option(\"display.max_columns\", None)\n",
    "# To define the maximum number of rows to be displayed in a dataframe\n",
    "pd.set_option(\"display.max_rows\", 200)\n",
    "\n",
    "# To supress warnings\n",
    "# import warnings\n",
    "\n",
    "# warnings.filterwarnings(\"ignore\")\n",
    "\n",
    "# To set some visualization attributes\n",
    "pd.set_option(\"max_colwidth\", 150)"
   ]
  },
  {
   "cell_type": "markdown",
   "id": "ea4d6f36",
   "metadata": {},
   "source": [
    "## Data Overview"
   ]
  },
  {
   "cell_type": "markdown",
   "id": "b9ec6f5f",
   "metadata": {},
   "source": [
    "### Reading, Sampling, and Checking Data Shape"
   ]
  },
  {
   "cell_type": "code",
   "execution_count": null,
   "id": "22dd7643",
   "metadata": {},
   "outputs": [],
   "source": [
    "# Reading the dataset\n",
    "conn = sql.connect(\"wp_life_expect_clean2.db\")\n",
    "data = pd.read_sql(\"SELECT * FROM wp_life_expect_clean2\", conn)\n",
    "\n",
    "# Making a working copy\n",
    "df = data.copy()\n",
    "\n",
    "# Checking the shape\n",
    "print(f\"There are {df.shape[0]} rows and {df.shape[1]} columns.\")\n",
    "\n",
    "# Checking first 2 rows of the data\n",
    "df.head(2)"
   ]
  },
  {
   "cell_type": "code",
   "execution_count": null,
   "id": "d5a93f49",
   "metadata": {},
   "outputs": [],
   "source": [
    "# Checking last 2 rows of the data\n",
    "df.tail(2)"
   ]
  },
  {
   "cell_type": "code",
   "execution_count": null,
   "id": "e47cadfb",
   "metadata": {},
   "outputs": [],
   "source": [
    "# Checking a sample of the data\n",
    "df.sample(5)"
   ]
  },
  {
   "cell_type": "markdown",
   "id": "c156bdc7",
   "metadata": {},
   "source": [
    "### Checking Data Types, Duplicates, and Null Values"
   ]
  },
  {
   "cell_type": "code",
   "execution_count": null,
   "id": "04fff858",
   "metadata": {},
   "outputs": [],
   "source": [
    "# Checking data types and null values\n",
    "df.info()"
   ]
  },
  {
   "cell_type": "markdown",
   "id": "e2b7a94a",
   "metadata": {},
   "source": [
    "## Extracting Nationality Continued"
   ]
  },
  {
   "cell_type": "markdown",
   "id": "05a3860d",
   "metadata": {},
   "source": [
    "#### Checking First Word in `info_1` for `nation_1` Values"
   ]
  },
  {
   "cell_type": "code",
   "execution_count": null,
   "id": "8a577e46",
   "metadata": {},
   "outputs": [],
   "source": [
    "# Column to check\n",
    "column = \"info_1\"\n",
    "\n",
    "# Extract-to column\n",
    "extract_to = 'nation_1'\n",
    "\n",
    "# Dataframe to check\n",
    "dataframe = df[df[column].notna()]\n",
    "\n",
    "# For loop to split each value into a list and check if first word is in nation_lst\n",
    "# and assign country to new nation_1 column if found.  Removes found value from column searched.\n",
    "for index in dataframe.index:\n",
    "    item = df.loc[index, column]\n",
    "    split_1 = item.split()\n",
    "    first_word = split_1[0].strip()\n",
    "    if first_word in nation_country_dict:\n",
    "        df.loc[index, extract_to] = nation_country_dict[first_word]\n",
    "        df.loc[index, column] = df.loc[index, column].replace(first_word, \"\")\n",
    "\n",
    "# Check number and sample of treated rows\n",
    "print(f'{len(df[df[extract_to].notna()])} rows were treated.')\n",
    "df[df[extract_to].notna()].sample(2)"
   ]
  },
  {
   "cell_type": "markdown",
   "id": "d4ef96dd",
   "metadata": {},
   "source": [
    "#### Observations:\n",
    "- In a way, we are fortunate to have a small sample of rows on which to test code in `info_1`.\n",
    "- We successfully extracted those `nation_1` values, now we will do the same on the treated rows for `nation_2`."
   ]
  },
  {
   "cell_type": "markdown",
   "id": "0662ddae",
   "metadata": {},
   "source": [
    "#### Checking First Word in `info_1` for `nation_2` Values"
   ]
  }
 ],
 "metadata": {
  "kernelspec": {
   "display_name": "Python 3 (ipykernel)",
   "language": "python",
   "name": "python3"
  },
  "language_info": {
   "codemirror_mode": {
    "name": "ipython",
    "version": 3
   },
   "file_extension": ".py",
   "mimetype": "text/x-python",
   "name": "python",
   "nbconvert_exporter": "python",
   "pygments_lexer": "ipython3",
   "version": "3.9.12"
  }
 },
 "nbformat": 4,
 "nbformat_minor": 5
}
